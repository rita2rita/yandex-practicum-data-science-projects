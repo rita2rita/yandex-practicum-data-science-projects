{
 "cells": [
  {
   "cell_type": "markdown",
   "metadata": {
    "deletable": false,
    "editable": false,
    "id": "E0vqbgi9ay0H",
    "pycharm": {
     "name": "#%% md\n"
    }
   },
   "source": [
    "# Исследование данных сервиса “Яндекс.Музыка” — сравнение пользователей двух городов"
   ]
  },
  {
   "cell_type": "markdown",
   "metadata": {
    "deletable": false,
    "editable": false,
    "id": "VUC88oWjTJw2",
    "pycharm": {
     "name": "#%% md\n"
    }
   },
   "source": [
    "На данных Яндекс Музыки сравним поведение пользователей двух столиц.\n",
    "\n",
    "**Цель исследования** — проверить три гипотезы:\n",
    "1. Активность пользователей зависит от дня недели. Причём в Москве и Петербурге это проявляется по-разному.\n",
    "2. В понедельник утром в Москве преобладают одни жанры, а в Петербурге — другие. Так же и вечером пятницы преобладают разные жанры — в зависимости от города. \n",
    "3. Москва и Петербург предпочитают разные жанры музыки. В Москве чаще слушают поп-музыку, в Петербурге — русский рэп.\n",
    "\n",
    "**Ход исследования**\n",
    "\n",
    "Исследование пройдёт в три этапа:\n",
    " 1. Обзор данных.\n",
    " 2. Предобработка данных.\n",
    " 3. Проверка гипотез."
   ]
  },
  {
   "cell_type": "markdown",
   "metadata": {
    "deletable": false,
    "editable": false,
    "id": "Ml1hmfXC_Zcs",
    "pycharm": {
     "name": "#%% md\n"
    }
   },
   "source": [
    "## Обзор данных\n",
    "\n",
    "Составим первое представление о данных Яндекс Музыки."
   ]
  },
  {
   "cell_type": "code",
   "execution_count": 1,
   "metadata": {
    "deletable": false,
    "id": "AXN7PHPN_Zcs",
    "pycharm": {
     "name": "#%%\n"
    }
   },
   "outputs": [],
   "source": [
    "import pandas as pd"
   ]
  },
  {
   "cell_type": "code",
   "execution_count": 2,
   "metadata": {
    "deletable": false,
    "id": "fFVu7vqh_Zct",
    "pycharm": {
     "name": "#%%\n"
    }
   },
   "outputs": [],
   "source": [
    "df = pd.read_csv('yandex_music_project.csv')"
   ]
  },
  {
   "cell_type": "markdown",
   "metadata": {
    "deletable": false,
    "editable": false,
    "id": "rDoOMd3uTqnZ",
    "tags": [
     "start_task"
    ],
    "pycharm": {
     "name": "#%% md\n"
    }
   },
   "source": [
    "Выведем на экран первые десять строк таблицы:"
   ]
  },
  {
   "cell_type": "code",
   "execution_count": 3,
   "metadata": {
    "deletable": false,
    "id": "oWTVX3gW_Zct",
    "pycharm": {
     "name": "#%%\n"
    }
   },
   "outputs": [
    {
     "data": {
      "text/plain": "     userID                        Track            artist   genre  \\\n0  FFB692EC            Kamigata To Boots  The Mass Missile    rock   \n1  55204538  Delayed Because of Accident  Andreas Rönnberg    rock   \n2    20EC38            Funiculì funiculà       Mario Lanza     pop   \n3  A3DD03C9        Dragons in the Sunset        Fire + Ice    folk   \n4  E2DC1FAE                  Soul People        Space Echo   dance   \n5  842029A1                    Преданная         IMPERVTOR  rusrap   \n6  4CB90AA5                         True      Roman Messer   dance   \n7  F03E1C1F             Feeling This Way   Polina Griffith   dance   \n8  8FA1D3BE     И вновь продолжается бой               NaN  ruspop   \n9  E772D5C0                    Pessimist               NaN   dance   \n\n             City        time        Day  \n0  Saint-Petersburg  20:28:33  Wednesday  \n1            Moscow  14:07:09     Friday  \n2  Saint-Petersburg  20:58:07  Wednesday  \n3  Saint-Petersburg  08:37:09     Monday  \n4            Moscow  08:34:34     Monday  \n5  Saint-Petersburg  13:09:41     Friday  \n6            Moscow  13:00:07  Wednesday  \n7            Moscow  20:47:49  Wednesday  \n8            Moscow  09:17:40     Friday  \n9  Saint-Petersburg  21:20:49  Wednesday  ",
      "text/html": "<div>\n<style scoped>\n    .dataframe tbody tr th:only-of-type {\n        vertical-align: middle;\n    }\n\n    .dataframe tbody tr th {\n        vertical-align: top;\n    }\n\n    .dataframe thead th {\n        text-align: right;\n    }\n</style>\n<table border=\"1\" class=\"dataframe\">\n  <thead>\n    <tr style=\"text-align: right;\">\n      <th></th>\n      <th>userID</th>\n      <th>Track</th>\n      <th>artist</th>\n      <th>genre</th>\n      <th>City</th>\n      <th>time</th>\n      <th>Day</th>\n    </tr>\n  </thead>\n  <tbody>\n    <tr>\n      <th>0</th>\n      <td>FFB692EC</td>\n      <td>Kamigata To Boots</td>\n      <td>The Mass Missile</td>\n      <td>rock</td>\n      <td>Saint-Petersburg</td>\n      <td>20:28:33</td>\n      <td>Wednesday</td>\n    </tr>\n    <tr>\n      <th>1</th>\n      <td>55204538</td>\n      <td>Delayed Because of Accident</td>\n      <td>Andreas Rönnberg</td>\n      <td>rock</td>\n      <td>Moscow</td>\n      <td>14:07:09</td>\n      <td>Friday</td>\n    </tr>\n    <tr>\n      <th>2</th>\n      <td>20EC38</td>\n      <td>Funiculì funiculà</td>\n      <td>Mario Lanza</td>\n      <td>pop</td>\n      <td>Saint-Petersburg</td>\n      <td>20:58:07</td>\n      <td>Wednesday</td>\n    </tr>\n    <tr>\n      <th>3</th>\n      <td>A3DD03C9</td>\n      <td>Dragons in the Sunset</td>\n      <td>Fire + Ice</td>\n      <td>folk</td>\n      <td>Saint-Petersburg</td>\n      <td>08:37:09</td>\n      <td>Monday</td>\n    </tr>\n    <tr>\n      <th>4</th>\n      <td>E2DC1FAE</td>\n      <td>Soul People</td>\n      <td>Space Echo</td>\n      <td>dance</td>\n      <td>Moscow</td>\n      <td>08:34:34</td>\n      <td>Monday</td>\n    </tr>\n    <tr>\n      <th>5</th>\n      <td>842029A1</td>\n      <td>Преданная</td>\n      <td>IMPERVTOR</td>\n      <td>rusrap</td>\n      <td>Saint-Petersburg</td>\n      <td>13:09:41</td>\n      <td>Friday</td>\n    </tr>\n    <tr>\n      <th>6</th>\n      <td>4CB90AA5</td>\n      <td>True</td>\n      <td>Roman Messer</td>\n      <td>dance</td>\n      <td>Moscow</td>\n      <td>13:00:07</td>\n      <td>Wednesday</td>\n    </tr>\n    <tr>\n      <th>7</th>\n      <td>F03E1C1F</td>\n      <td>Feeling This Way</td>\n      <td>Polina Griffith</td>\n      <td>dance</td>\n      <td>Moscow</td>\n      <td>20:47:49</td>\n      <td>Wednesday</td>\n    </tr>\n    <tr>\n      <th>8</th>\n      <td>8FA1D3BE</td>\n      <td>И вновь продолжается бой</td>\n      <td>NaN</td>\n      <td>ruspop</td>\n      <td>Moscow</td>\n      <td>09:17:40</td>\n      <td>Friday</td>\n    </tr>\n    <tr>\n      <th>9</th>\n      <td>E772D5C0</td>\n      <td>Pessimist</td>\n      <td>NaN</td>\n      <td>dance</td>\n      <td>Saint-Petersburg</td>\n      <td>21:20:49</td>\n      <td>Wednesday</td>\n    </tr>\n  </tbody>\n</table>\n</div>"
     },
     "execution_count": 3,
     "metadata": {},
     "output_type": "execute_result"
    }
   ],
   "source": [
    "df.head(10)"
   ]
  },
  {
   "cell_type": "markdown",
   "metadata": {
    "deletable": false,
    "editable": false,
    "id": "EO73Kwic_Zct",
    "tags": [
     "start_task"
    ],
    "pycharm": {
     "name": "#%% md\n"
    }
   },
   "source": [
    "Заглянем в общую информацию о таблице"
   ]
  },
  {
   "cell_type": "code",
   "execution_count": 4,
   "metadata": {
    "deletable": false,
    "id": "DSf2kIb-_Zct",
    "pycharm": {
     "name": "#%%\n"
    }
   },
   "outputs": [
    {
     "name": "stdout",
     "output_type": "stream",
     "text": [
      "<class 'pandas.core.frame.DataFrame'>\n",
      "RangeIndex: 65079 entries, 0 to 65078\n",
      "Data columns (total 7 columns):\n",
      " #   Column    Non-Null Count  Dtype \n",
      "---  ------    --------------  ----- \n",
      " 0     userID  65079 non-null  object\n",
      " 1   Track     63848 non-null  object\n",
      " 2   artist    57876 non-null  object\n",
      " 3   genre     63881 non-null  object\n",
      " 4     City    65079 non-null  object\n",
      " 5   time      65079 non-null  object\n",
      " 6   Day       65079 non-null  object\n",
      "dtypes: object(7)\n",
      "memory usage: 3.5+ MB\n"
     ]
    }
   ],
   "source": [
    "df.info()"
   ]
  },
  {
   "cell_type": "markdown",
   "metadata": {
    "deletable": false,
    "editable": false,
    "id": "TaQ2Iwbr_Zct",
    "pycharm": {
     "name": "#%% md\n"
    }
   },
   "source": [
    "Итак, в таблице семь столбцов. Тип данных во всех столбцах — `object`.\n",
    "\n",
    "Согласно документации к данным:\n",
    "* `userID` — идентификатор пользователя;\n",
    "* `Track` — название трека;  \n",
    "* `artist` — имя исполнителя;\n",
    "* `genre` — название жанра;\n",
    "* `City` — город пользователя;\n",
    "* `time` — время начала прослушивания;\n",
    "* `Day` — день недели.\n",
    "\n",
    "Количество значений в столбцах различается. Значит, в данных есть пропущенные значения.\n",
    "Наименования столбцов указаны с пробелами и в разных регистрах."
   ]
  },
  {
   "cell_type": "markdown",
   "metadata": {
    "deletable": false,
    "editable": false,
    "id": "MCB6-dXG_Zct",
    "pycharm": {
     "name": "#%% md\n"
    }
   },
   "source": [
    "**Вывод**\n",
    "\n",
    "В каждой строке таблицы — данные о прослушанном треке. Часть колонок описывает саму композицию: название, исполнителя и жанр. Остальные данные рассказывают о пользователе: из какого он города, когда он слушал музыку. \n",
    "\n",
    "Предварительно можно утверждать, что, данных достаточно для проверки гипотез. Но встречаются пропуски в данных, а в названиях колонок — расхождения с хорошим стилем.\n",
    "\n",
    "Чтобы двигаться дальше, нужно устранить проблемы в данных."
   ]
  },
  {
   "cell_type": "markdown",
   "metadata": {
    "deletable": false,
    "editable": false,
    "id": "SjYF6Ub9_Zct",
    "pycharm": {
     "name": "#%% md\n"
    }
   },
   "source": [
    "## Предобработка данных\n",
    "Исправим стиль в заголовках столбцов, исключим пропуски, проверим данные на дубликаты."
   ]
  },
  {
   "cell_type": "markdown",
   "metadata": {
    "deletable": false,
    "editable": false,
    "id": "dIaKXr29_Zct",
    "tags": [
     "start_task"
    ],
    "pycharm": {
     "name": "#%% md\n"
    }
   },
   "source": [
    "Выведите на экран названия столбцов:"
   ]
  },
  {
   "cell_type": "code",
   "execution_count": 5,
   "metadata": {
    "deletable": false,
    "id": "oKOTdF_Q_Zct",
    "pycharm": {
     "name": "#%%\n"
    }
   },
   "outputs": [
    {
     "data": {
      "text/plain": "Index(['  userID', 'Track', 'artist', 'genre', '  City  ', 'time', 'Day'], dtype='object')"
     },
     "execution_count": 5,
     "metadata": {},
     "output_type": "execute_result"
    }
   ],
   "source": [
    "df.columns"
   ]
  },
  {
   "cell_type": "markdown",
   "metadata": {
    "deletable": false,
    "editable": false,
    "id": "zj5534cv_Zct",
    "tags": [
     "start_task"
    ],
    "pycharm": {
     "name": "#%% md\n"
    }
   },
   "source": [
    "Приведем наименования в порядок:"
   ]
  },
  {
   "cell_type": "code",
   "execution_count": 5,
   "metadata": {
    "deletable": false,
    "id": "ISlFqs5y_Zct",
    "pycharm": {
     "name": "#%%\n"
    }
   },
   "outputs": [],
   "source": [
    "df = df.rename(columns={\n",
    "    '  userID':'user_id',\n",
    "    'Track':'track',\n",
    "    '  City  ':'city',\n",
    "    'Day':'day'\n",
    "})"
   ]
  },
  {
   "cell_type": "markdown",
   "metadata": {
    "deletable": false,
    "editable": false,
    "id": "1dqbh00J_Zct",
    "tags": [
     "start_task"
    ],
    "pycharm": {
     "name": "#%% md\n"
    }
   },
   "source": [
    "Проверим результат."
   ]
  },
  {
   "cell_type": "code",
   "execution_count": 6,
   "metadata": {
    "deletable": false,
    "id": "d4NOAmTW_Zct",
    "pycharm": {
     "name": "#%%\n"
    }
   },
   "outputs": [
    {
     "data": {
      "text/plain": "Index(['user_id', 'track', 'artist', 'genre', 'city', 'time', 'day'], dtype='object')"
     },
     "execution_count": 6,
     "metadata": {},
     "output_type": "execute_result"
    }
   ],
   "source": [
    "df.columns"
   ]
  },
  {
   "cell_type": "markdown",
   "metadata": {
    "deletable": false,
    "editable": false,
    "id": "5ISfbcfY_Zct",
    "tags": [
     "start_task"
    ],
    "pycharm": {
     "name": "#%% md\n"
    }
   },
   "source": [
    "Посмотрим на кол-во пропусков по столбцам"
   ]
  },
  {
   "cell_type": "code",
   "execution_count": 7,
   "metadata": {
    "deletable": false,
    "id": "RskX29qr_Zct",
    "pycharm": {
     "name": "#%%\n"
    }
   },
   "outputs": [
    {
     "data": {
      "text/plain": "user_id       0\ntrack      1231\nartist     7203\ngenre      1198\ncity          0\ntime          0\nday           0\ndtype: int64"
     },
     "execution_count": 7,
     "metadata": {},
     "output_type": "execute_result"
    }
   ],
   "source": [
    "df.isna().sum()"
   ]
  },
  {
   "cell_type": "markdown",
   "metadata": {
    "deletable": false,
    "editable": false,
    "id": "qubhgnlO_Zct",
    "pycharm": {
     "name": "#%% md\n"
    }
   },
   "source": [
    "Не все пропущенные значения влияют на исследование. Так в `track` и `artist` пропуски не важны для вашей работы. Достаточно заменить их явными обозначениями.\n",
    "\n",
    "Но пропуски в `genre` могут помешать сравнению музыкальных вкусов в Москве и Санкт-Петербурге. На практике было бы правильно установить причину пропусков и восстановить данные. Такой возможности нет в учебном проекте. Придётся:\n",
    "* заполнить и эти пропуски явными обозначениями,\n",
    "* оценить, насколько они повредят расчётам."
   ]
  },
  {
   "cell_type": "markdown",
   "metadata": {
    "deletable": false,
    "editable": false,
    "id": "fSv2laPA_Zct",
    "tags": [
     "start_task"
    ],
    "pycharm": {
     "name": "#%% md\n"
    }
   },
   "source": [
    "Заменим пропущенные значения в столбцах `track`, `artist` и `genre` на строку `'unknown'`."
   ]
  },
  {
   "cell_type": "code",
   "execution_count": 8,
   "metadata": {
    "deletable": false,
    "id": "KplB5qWs_Zct",
    "pycharm": {
     "name": "#%%\n"
    }
   },
   "outputs": [],
   "source": [
    "columns_to_replace = ['track', 'artist', 'genre']\n",
    "for column in columns_to_replace:\n",
    "    df[column] = df[column].fillna('unknown')"
   ]
  },
  {
   "cell_type": "markdown",
   "metadata": {
    "deletable": false,
    "editable": false,
    "id": "Ilsm-MZo_Zct",
    "tags": [
     "start_task"
    ],
    "pycharm": {
     "name": "#%% md\n"
    }
   },
   "source": [
    "Убедимся, что в таблице не осталось пропусков."
   ]
  },
  {
   "cell_type": "code",
   "execution_count": 9,
   "metadata": {
    "deletable": false,
    "id": "Tq4nYRX4_Zct",
    "pycharm": {
     "name": "#%%\n"
    }
   },
   "outputs": [
    {
     "data": {
      "text/plain": "user_id    0\ntrack      0\nartist     0\ngenre      0\ncity       0\ntime       0\nday        0\ndtype: int64"
     },
     "execution_count": 9,
     "metadata": {},
     "output_type": "execute_result"
    }
   ],
   "source": [
    "df.isna().sum()"
   ]
  },
  {
   "cell_type": "markdown",
   "metadata": {
    "deletable": false,
    "editable": false,
    "id": "BWKRtBJ3_Zct",
    "tags": [
     "start_task"
    ],
    "pycharm": {
     "name": "#%% md\n"
    }
   },
   "source": [
    "Посчитаем явные дубликаты в таблице одной командой:"
   ]
  },
  {
   "cell_type": "code",
   "execution_count": 10,
   "metadata": {
    "deletable": false,
    "id": "36eES_S0_Zct",
    "pycharm": {
     "name": "#%%\n"
    }
   },
   "outputs": [
    {
     "data": {
      "text/plain": "3826"
     },
     "execution_count": 10,
     "metadata": {},
     "output_type": "execute_result"
    }
   ],
   "source": [
    "df.duplicated().sum()"
   ]
  },
  {
   "cell_type": "markdown",
   "metadata": {
    "deletable": false,
    "editable": false,
    "id": "Ot25h6XR_Zct",
    "tags": [
     "start_task"
    ],
    "pycharm": {
     "name": "#%% md\n"
    }
   },
   "source": [
    "Удалим дубликаты"
   ]
  },
  {
   "cell_type": "code",
   "execution_count": 11,
   "metadata": {
    "deletable": false,
    "id": "exFHq6tt_Zct",
    "pycharm": {
     "name": "#%%\n"
    }
   },
   "outputs": [],
   "source": [
    "df = df.drop_duplicates()"
   ]
  },
  {
   "cell_type": "markdown",
   "metadata": {
    "deletable": false,
    "editable": false,
    "id": "Im2YwBEG_Zct",
    "tags": [
     "start_task"
    ],
    "pycharm": {
     "name": "#%% md\n"
    }
   },
   "source": [
    "Проверим, что все удалили"
   ]
  },
  {
   "cell_type": "code",
   "execution_count": 12,
   "metadata": {
    "deletable": false,
    "id": "-8PuNWQ0_Zct",
    "pycharm": {
     "name": "#%%\n"
    }
   },
   "outputs": [
    {
     "data": {
      "text/plain": "0"
     },
     "execution_count": 12,
     "metadata": {},
     "output_type": "execute_result"
    }
   ],
   "source": [
    "df.duplicated().sum()"
   ]
  },
  {
   "cell_type": "markdown",
   "metadata": {
    "deletable": false,
    "editable": false,
    "id": "QlFBsxAr_Zct",
    "pycharm": {
     "name": "#%% md\n"
    }
   },
   "source": [
    "Поищем неявные дубликаты в колонке `genre`. Возможно, название одного и того же жанра может быть записано немного по-разному."
   ]
  },
  {
   "cell_type": "code",
   "execution_count": 13,
   "metadata": {
    "deletable": false,
    "id": "JIUcqzZN_Zct",
    "pycharm": {
     "name": "#%%\n"
    }
   },
   "outputs": [
    {
     "data": {
      "text/plain": "array(['acid', 'acoustic', 'action', 'adult', 'africa', 'afrikaans',\n       'alternative', 'alternativepunk', 'ambient', 'americana',\n       'animated', 'anime', 'arabesk', 'arabic', 'arena',\n       'argentinetango', 'art', 'audiobook', 'author', 'avantgarde',\n       'axé', 'baile', 'balkan', 'beats', 'bigroom', 'black', 'bluegrass',\n       'blues', 'bollywood', 'bossa', 'brazilian', 'breakbeat', 'breaks',\n       'broadway', 'cantautori', 'cantopop', 'canzone', 'caribbean',\n       'caucasian', 'celtic', 'chamber', 'chanson', 'children', 'chill',\n       'chinese', 'choral', 'christian', 'christmas', 'classical',\n       'classicmetal', 'club', 'colombian', 'comedy', 'conjazz',\n       'contemporary', 'country', 'cuban', 'dance', 'dancehall',\n       'dancepop', 'dark', 'death', 'deep', 'deutschrock', 'deutschspr',\n       'dirty', 'disco', 'dnb', 'documentary', 'downbeat', 'downtempo',\n       'drum', 'dub', 'dubstep', 'eastern', 'easy', 'electronic',\n       'electropop', 'emo', 'entehno', 'epicmetal', 'estrada', 'ethnic',\n       'eurofolk', 'european', 'experimental', 'extrememetal', 'fado',\n       'fairytail', 'film', 'fitness', 'flamenco', 'folk', 'folklore',\n       'folkmetal', 'folkrock', 'folktronica', 'forró', 'frankreich',\n       'französisch', 'french', 'funk', 'future', 'gangsta', 'garage',\n       'german', 'ghazal', 'gitarre', 'glitch', 'gospel', 'gothic',\n       'grime', 'grunge', 'gypsy', 'handsup', \"hard'n'heavy\", 'hardcore',\n       'hardstyle', 'hardtechno', 'hip', 'hip-hop', 'hiphop',\n       'historisch', 'holiday', 'hop', 'horror', 'house', 'hymn', 'idm',\n       'independent', 'indian', 'indie', 'indipop', 'industrial',\n       'inspirational', 'instrumental', 'international', 'irish', 'jam',\n       'japanese', 'jazz', 'jewish', 'jpop', 'jungle', 'k-pop',\n       'karadeniz', 'karaoke', 'kayokyoku', 'korean', 'laiko', 'latin',\n       'latino', 'leftfield', 'local', 'lounge', 'loungeelectronic',\n       'lovers', 'malaysian', 'mandopop', 'marschmusik', 'meditative',\n       'mediterranean', 'melodic', 'metal', 'metalcore', 'mexican',\n       'middle', 'minimal', 'miscellaneous', 'modern', 'mood', 'mpb',\n       'muslim', 'native', 'neoklassik', 'neue', 'new', 'newage',\n       'newwave', 'nu', 'nujazz', 'numetal', 'oceania', 'old', 'opera',\n       'orchestral', 'other', 'piano', 'podcasts', 'pop', 'popdance',\n       'popelectronic', 'popeurodance', 'poprussian', 'post',\n       'posthardcore', 'postrock', 'power', 'progmetal', 'progressive',\n       'psychedelic', 'punjabi', 'punk', 'quebecois', 'ragga', 'ram',\n       'rancheras', 'rap', 'rave', 'reggae', 'reggaeton', 'regional',\n       'relax', 'religious', 'retro', 'rhythm', 'rnb', 'rnr', 'rock',\n       'rockabilly', 'rockalternative', 'rockindie', 'rockother',\n       'romance', 'roots', 'ruspop', 'rusrap', 'rusrock', 'russian',\n       'salsa', 'samba', 'scenic', 'schlager', 'self', 'sertanejo',\n       'shanson', 'shoegazing', 'showtunes', 'singer', 'ska', 'skarock',\n       'slow', 'smooth', 'soft', 'soul', 'soulful', 'sound', 'soundtrack',\n       'southern', 'specialty', 'speech', 'spiritual', 'sport',\n       'stonerrock', 'surf', 'swing', 'synthpop', 'synthrock',\n       'sängerportrait', 'tango', 'tanzorchester', 'taraftar', 'tatar',\n       'tech', 'techno', 'teen', 'thrash', 'top', 'traditional',\n       'tradjazz', 'trance', 'tribal', 'trip', 'triphop', 'tropical',\n       'türk', 'türkçe', 'ukrrock', 'unknown', 'urban', 'uzbek',\n       'variété', 'vi', 'videogame', 'vocal', 'western', 'world',\n       'worldbeat', 'ïîï', 'электроника'], dtype=object)"
     },
     "execution_count": 13,
     "metadata": {},
     "output_type": "execute_result"
    }
   ],
   "source": [
    "df['genre'].sort_values().unique()"
   ]
  },
  {
   "cell_type": "markdown",
   "metadata": {
    "deletable": false,
    "editable": false,
    "id": "qej-Qmuo_Zct",
    "tags": [
     "start_task"
    ],
    "pycharm": {
     "name": "#%% md\n"
    }
   },
   "source": [
    "Нашлись неявые дубликаты:\n",
    "* *hip*,\n",
    "* *hop*,\n",
    "* *hip-hop*.\n",
    "\n",
    "Заменим дубликаты одним значением."
   ]
  },
  {
   "cell_type": "code",
   "execution_count": 14,
   "metadata": {
    "deletable": false,
    "id": "ErNDkmns_Zct",
    "pycharm": {
     "name": "#%%\n"
    }
   },
   "outputs": [],
   "source": [
    "df = df.replace(['hip', 'hop','hip-hop'],'hiphop')\n",
    "df = df.replace(['электроника'],'electronic')"
   ]
  },
  {
   "cell_type": "markdown",
   "metadata": {
    "deletable": false,
    "editable": false,
    "id": "zQKF16_RG15m",
    "tags": [
     "start_task"
    ],
    "pycharm": {
     "name": "#%% md\n"
    }
   },
   "source": [
    "Выведем отсортированный список уникальных значений столбца `genre` для проверки:"
   ]
  },
  {
   "cell_type": "code",
   "execution_count": 15,
   "metadata": {
    "deletable": false,
    "id": "wvixALnFG15m",
    "pycharm": {
     "name": "#%%\n"
    }
   },
   "outputs": [
    {
     "data": {
      "text/plain": "array(['acid', 'acoustic', 'action', 'adult', 'africa', 'afrikaans',\n       'alternative', 'alternativepunk', 'ambient', 'americana',\n       'animated', 'anime', 'arabesk', 'arabic', 'arena',\n       'argentinetango', 'art', 'audiobook', 'author', 'avantgarde',\n       'axé', 'baile', 'balkan', 'beats', 'bigroom', 'black', 'bluegrass',\n       'blues', 'bollywood', 'bossa', 'brazilian', 'breakbeat', 'breaks',\n       'broadway', 'cantautori', 'cantopop', 'canzone', 'caribbean',\n       'caucasian', 'celtic', 'chamber', 'chanson', 'children', 'chill',\n       'chinese', 'choral', 'christian', 'christmas', 'classical',\n       'classicmetal', 'club', 'colombian', 'comedy', 'conjazz',\n       'contemporary', 'country', 'cuban', 'dance', 'dancehall',\n       'dancepop', 'dark', 'death', 'deep', 'deutschrock', 'deutschspr',\n       'dirty', 'disco', 'dnb', 'documentary', 'downbeat', 'downtempo',\n       'drum', 'dub', 'dubstep', 'eastern', 'easy', 'electronic',\n       'electropop', 'emo', 'entehno', 'epicmetal', 'estrada', 'ethnic',\n       'eurofolk', 'european', 'experimental', 'extrememetal', 'fado',\n       'fairytail', 'film', 'fitness', 'flamenco', 'folk', 'folklore',\n       'folkmetal', 'folkrock', 'folktronica', 'forró', 'frankreich',\n       'französisch', 'french', 'funk', 'future', 'gangsta', 'garage',\n       'german', 'ghazal', 'gitarre', 'glitch', 'gospel', 'gothic',\n       'grime', 'grunge', 'gypsy', 'handsup', \"hard'n'heavy\", 'hardcore',\n       'hardstyle', 'hardtechno', 'hiphop', 'historisch', 'holiday',\n       'horror', 'house', 'hymn', 'idm', 'independent', 'indian', 'indie',\n       'indipop', 'industrial', 'inspirational', 'instrumental',\n       'international', 'irish', 'jam', 'japanese', 'jazz', 'jewish',\n       'jpop', 'jungle', 'k-pop', 'karadeniz', 'karaoke', 'kayokyoku',\n       'korean', 'laiko', 'latin', 'latino', 'leftfield', 'local',\n       'lounge', 'loungeelectronic', 'lovers', 'malaysian', 'mandopop',\n       'marschmusik', 'meditative', 'mediterranean', 'melodic', 'metal',\n       'metalcore', 'mexican', 'middle', 'minimal', 'miscellaneous',\n       'modern', 'mood', 'mpb', 'muslim', 'native', 'neoklassik', 'neue',\n       'new', 'newage', 'newwave', 'nu', 'nujazz', 'numetal', 'oceania',\n       'old', 'opera', 'orchestral', 'other', 'piano', 'podcasts', 'pop',\n       'popdance', 'popelectronic', 'popeurodance', 'poprussian', 'post',\n       'posthardcore', 'postrock', 'power', 'progmetal', 'progressive',\n       'psychedelic', 'punjabi', 'punk', 'quebecois', 'ragga', 'ram',\n       'rancheras', 'rap', 'rave', 'reggae', 'reggaeton', 'regional',\n       'relax', 'religious', 'retro', 'rhythm', 'rnb', 'rnr', 'rock',\n       'rockabilly', 'rockalternative', 'rockindie', 'rockother',\n       'romance', 'roots', 'ruspop', 'rusrap', 'rusrock', 'russian',\n       'salsa', 'samba', 'scenic', 'schlager', 'self', 'sertanejo',\n       'shanson', 'shoegazing', 'showtunes', 'singer', 'ska', 'skarock',\n       'slow', 'smooth', 'soft', 'soul', 'soulful', 'sound', 'soundtrack',\n       'southern', 'specialty', 'speech', 'spiritual', 'sport',\n       'stonerrock', 'surf', 'swing', 'synthpop', 'synthrock',\n       'sängerportrait', 'tango', 'tanzorchester', 'taraftar', 'tatar',\n       'tech', 'techno', 'teen', 'thrash', 'top', 'traditional',\n       'tradjazz', 'trance', 'tribal', 'trip', 'triphop', 'tropical',\n       'türk', 'türkçe', 'ukrrock', 'unknown', 'urban', 'uzbek',\n       'variété', 'vi', 'videogame', 'vocal', 'western', 'world',\n       'worldbeat', 'ïîï'], dtype=object)"
     },
     "execution_count": 15,
     "metadata": {},
     "output_type": "execute_result"
    }
   ],
   "source": [
    "df['genre'].sort_values().unique()"
   ]
  },
  {
   "cell_type": "markdown",
   "metadata": {
    "deletable": false,
    "editable": false,
    "id": "jz6a9-7HQUDd",
    "pycharm": {
     "name": "#%% md\n"
    }
   },
   "source": [
    "**Выводы**\n",
    "\n",
    "Предобработка обнаружила три проблемы в данных:\n",
    "\n",
    "- нарушения в стиле заголовков,\n",
    "- пропущенные значения,\n",
    "- дубликаты — явные и неявные.\n",
    "\n",
    "Пропущенные значения заменили на `'unknown'`."
   ]
  },
  {
   "cell_type": "markdown",
   "metadata": {
    "deletable": false,
    "editable": false,
    "id": "WttZHXH0SqKk",
    "pycharm": {
     "name": "#%% md\n"
    }
   },
   "source": [
    "## Проверка гипотез"
   ]
  },
  {
   "cell_type": "markdown",
   "metadata": {
    "deletable": false,
    "editable": false,
    "id": "Im936VVi_Zcu",
    "pycharm": {
     "name": "#%% md\n"
    }
   },
   "source": [
    "### Сравнение поведения пользователей двух столиц\n",
    "\n",
    "Первая гипотеза утверждает, что пользователи по-разному слушают музыку в Москве и Санкт-Петербурге. Проверим это предположение по данным о трёх днях недели — понедельнике, среде и пятнице. Для этого:\n",
    "\n",
    "* Разделим пользователей Москвы и Санкт-Петербурга\n",
    "* Сравним, сколько треков послушала каждая группа пользователей в понедельник, среду и пятницу."
   ]
  },
  {
   "cell_type": "markdown",
   "metadata": {
    "deletable": false,
    "editable": false,
    "id": "8Dw_YMmT_Zcu",
    "tags": [
     "start_task"
    ],
    "pycharm": {
     "name": "#%% md\n"
    }
   },
   "source": [
    "Оценим активность пользователей в каждом городе.\n",
    "Сгруппируем данные по городу и посчитаем прослушивания в каждой группе."
   ]
  },
  {
   "cell_type": "code",
   "execution_count": 16,
   "metadata": {
    "deletable": false,
    "id": "0_Qs96oh_Zcu",
    "pycharm": {
     "name": "#%%\n"
    }
   },
   "outputs": [
    {
     "data": {
      "text/plain": "city\nMoscow              42741\nSaint-Petersburg    18512\nName: city, dtype: int64"
     },
     "execution_count": 16,
     "metadata": {},
     "output_type": "execute_result"
    }
   ],
   "source": [
    "df.groupby('city')['city'].count()"
   ]
  },
  {
   "cell_type": "markdown",
   "metadata": {
    "deletable": false,
    "editable": false,
    "id": "dzli3w8o_Zcu",
    "tags": [
     "start_task"
    ],
    "pycharm": {
     "name": "#%% md\n"
    }
   },
   "source": [
    "В Москве прослушиваний больше, чем в Петербурге. Из этого не следует, что московские пользователи чаще слушают музыку. Самих пользователей в Москве больше.\n",
    "\n",
    "Теперь сгруппируем данные по дню недели и подсчитаем прослушивания в понедельник, среду и пятницу."
   ]
  },
  {
   "cell_type": "code",
   "execution_count": 17,
   "metadata": {
    "deletable": false,
    "id": "uZMKjiJz_Zcu",
    "pycharm": {
     "name": "#%%\n"
    }
   },
   "outputs": [
    {
     "data": {
      "text/plain": "day\nFriday       21840\nMonday       21354\nWednesday    18059\nName: day, dtype: int64"
     },
     "execution_count": 17,
     "metadata": {},
     "output_type": "execute_result"
    }
   ],
   "source": [
    "df.groupby('day')['day'].count()"
   ]
  },
  {
   "cell_type": "markdown",
   "metadata": {
    "deletable": false,
    "editable": false,
    "id": "cC2tNrlL_Zcu",
    "pycharm": {
     "name": "#%% md\n"
    }
   },
   "source": [
    "В среднем пользователи из обоих городов менее активны по средам. Но картина может измениться, если рассмотреть каждый город в отдельности."
   ]
  },
  {
   "cell_type": "markdown",
   "metadata": {
    "deletable": false,
    "editable": false,
    "id": "POzs8bGa_Zcu",
    "tags": [
     "start_task"
    ],
    "pycharm": {
     "name": "#%% md\n"
    }
   },
   "source": [
    "Создадим функцию number_tracks(), которая принимает как параметры день недели и название города, а возвращает количество прослушанных композиций, для которых известен жанр. Проверяем количество прослушанных композиций для каждого города и понедельника, затем среды и пятницы."
   ]
  },
  {
   "cell_type": "code",
   "execution_count": 18,
   "metadata": {
    "deletable": false,
    "id": "Nz3GdQB1_Zcu",
    "pycharm": {
     "name": "#%%\n"
    }
   },
   "outputs": [],
   "source": [
    "def number_tracks(day, city):\n",
    "    track_list = df[df['day'] == day]\n",
    "    track_list = track_list[track_list['city'] == city]\n",
    "    track_list_count = track_list['user_id'].count()\n",
    "    return track_list_count"
   ]
  },
  {
   "cell_type": "code",
   "execution_count": 19,
   "metadata": {
    "deletable": false,
    "id": "rJcRATNQ_Zcu",
    "pycharm": {
     "name": "#%%\n"
    }
   },
   "outputs": [
    {
     "data": {
      "text/plain": "15740"
     },
     "execution_count": 19,
     "metadata": {},
     "output_type": "execute_result"
    }
   ],
   "source": [
    "# количество прослушиваний в Москве по понедельникам\n",
    "number_tracks('Monday', 'Moscow')"
   ]
  },
  {
   "cell_type": "code",
   "execution_count": 20,
   "metadata": {
    "deletable": false,
    "id": "hq_ncZ5T_Zcu",
    "pycharm": {
     "name": "#%%\n"
    }
   },
   "outputs": [
    {
     "data": {
      "text/plain": "5614"
     },
     "execution_count": 20,
     "metadata": {},
     "output_type": "execute_result"
    }
   ],
   "source": [
    "# количество прослушиваний в Санкт-Петербурге по понедельникам\n",
    "number_tracks('Monday', 'Saint-Petersburg')"
   ]
  },
  {
   "cell_type": "code",
   "execution_count": 21,
   "metadata": {
    "deletable": false,
    "id": "_NTy2VPU_Zcu",
    "pycharm": {
     "name": "#%%\n"
    }
   },
   "outputs": [
    {
     "data": {
      "text/plain": "11056"
     },
     "execution_count": 21,
     "metadata": {},
     "output_type": "execute_result"
    }
   ],
   "source": [
    "# количество прослушиваний в Москве по средам\n",
    "number_tracks('Wednesday', 'Moscow')"
   ]
  },
  {
   "cell_type": "code",
   "execution_count": 22,
   "metadata": {
    "deletable": false,
    "id": "j2y3TAwo_Zcu",
    "pycharm": {
     "name": "#%%\n"
    }
   },
   "outputs": [
    {
     "data": {
      "text/plain": "7003"
     },
     "execution_count": 22,
     "metadata": {},
     "output_type": "execute_result"
    }
   ],
   "source": [
    "# количество прослушиваний в Санкт-Петербурге по средам\n",
    "number_tracks('Wednesday', 'Saint-Petersburg')"
   ]
  },
  {
   "cell_type": "code",
   "execution_count": 23,
   "metadata": {
    "deletable": false,
    "id": "vYDw5u_K_Zcu",
    "pycharm": {
     "name": "#%%\n"
    }
   },
   "outputs": [
    {
     "data": {
      "text/plain": "15945"
     },
     "execution_count": 23,
     "metadata": {},
     "output_type": "execute_result"
    }
   ],
   "source": [
    "# количество прослушиваний в Москве по пятницам\n",
    "number_tracks('Friday', 'Moscow')"
   ]
  },
  {
   "cell_type": "code",
   "execution_count": 24,
   "metadata": {
    "deletable": false,
    "id": "8_yzFtW3_Zcu",
    "pycharm": {
     "name": "#%%\n"
    }
   },
   "outputs": [
    {
     "data": {
      "text/plain": "5895"
     },
     "execution_count": 24,
     "metadata": {},
     "output_type": "execute_result"
    }
   ],
   "source": [
    "# количество прослушиваний в Санкт-Петербурге по пятницам\n",
    "number_tracks('Friday', 'Saint-Petersburg')"
   ]
  },
  {
   "cell_type": "markdown",
   "metadata": {
    "deletable": false,
    "editable": false,
    "id": "7QXffbO-_Zcu",
    "tags": [
     "start_task"
    ],
    "pycharm": {
     "name": "#%% md\n"
    }
   },
   "source": [
    "Создадим таблицу, где названия колонок — `['city', 'monday', 'wednesday', 'friday']`, а данные — результаты, использования функции `number_tracks` для каждого города и дня недели."
   ]
  },
  {
   "cell_type": "code",
   "execution_count": 25,
   "metadata": {
    "deletable": false,
    "id": "APAcLpOr_Zcu",
    "pycharm": {
     "name": "#%%\n"
    }
   },
   "outputs": [
    {
     "data": {
      "text/plain": "               city  monday  wednesday  friday\n0            Moscow   15740      11056   15945\n1  Saint-Petersburg    5614       7003    5895",
      "text/html": "<div>\n<style scoped>\n    .dataframe tbody tr th:only-of-type {\n        vertical-align: middle;\n    }\n\n    .dataframe tbody tr th {\n        vertical-align: top;\n    }\n\n    .dataframe thead th {\n        text-align: right;\n    }\n</style>\n<table border=\"1\" class=\"dataframe\">\n  <thead>\n    <tr style=\"text-align: right;\">\n      <th></th>\n      <th>city</th>\n      <th>monday</th>\n      <th>wednesday</th>\n      <th>friday</th>\n    </tr>\n  </thead>\n  <tbody>\n    <tr>\n      <th>0</th>\n      <td>Moscow</td>\n      <td>15740</td>\n      <td>11056</td>\n      <td>15945</td>\n    </tr>\n    <tr>\n      <th>1</th>\n      <td>Saint-Petersburg</td>\n      <td>5614</td>\n      <td>7003</td>\n      <td>5895</td>\n    </tr>\n  </tbody>\n</table>\n</div>"
     },
     "execution_count": 25,
     "metadata": {},
     "output_type": "execute_result"
    }
   ],
   "source": [
    "pd.DataFrame(\n",
    "    data=[['Moscow', 15740,11056,15945],['Saint-Petersburg',5614,7003,5895]],\n",
    "    columns = ['city', 'monday', 'wednesday', 'friday'])"
   ]
  },
  {
   "cell_type": "markdown",
   "metadata": {
    "deletable": false,
    "editable": false,
    "id": "-EgPIHYu_Zcu",
    "pycharm": {
     "name": "#%% md\n"
    }
   },
   "source": [
    "**Вывод**\n",
    "\n",
    "Данные показывают разницу поведения пользователей:\n",
    "\n",
    "- В Москве пик прослушиваний приходится на понедельник и пятницу, а в среду заметен спад.\n",
    "- В Петербурге, наоборот, больше слушают музыку по средам. Активность в понедельник и пятницу здесь почти в равной мере уступает среде.\n",
    "\n",
    "Значит, данные говорят в пользу первой гипотезы."
   ]
  },
  {
   "cell_type": "markdown",
   "metadata": {
    "deletable": false,
    "editable": false,
    "id": "atZAxtq4_Zcu",
    "pycharm": {
     "name": "#%% md\n"
    }
   },
   "source": [
    "### Музыка в начале и в конце недели"
   ]
  },
  {
   "cell_type": "markdown",
   "metadata": {
    "deletable": false,
    "editable": false,
    "id": "eXrQqXFH_Zcu",
    "pycharm": {
     "name": "#%% md\n"
    }
   },
   "source": [
    "Согласно второй гипотезе, утром в понедельник в Москве преобладают одни жанры, а в Петербурге — другие. Так же и вечером пятницы преобладают разные жанры — в зависимости от города."
   ]
  },
  {
   "cell_type": "markdown",
   "metadata": {
    "deletable": false,
    "editable": false,
    "id": "S8UcW6Hw_Zcu",
    "tags": [
     "start_task"
    ],
    "pycharm": {
     "name": "#%% md\n"
    }
   },
   "source": [
    "Сохраним таблицы с данными в две переменные:\n",
    "* по Москве — в `moscow_general`;\n",
    "* по Санкт-Петербургу — в `spb_general`."
   ]
  },
  {
   "cell_type": "code",
   "execution_count": 26,
   "metadata": {
    "deletable": false,
    "id": "qeaFfM_P_Zcu",
    "pycharm": {
     "name": "#%%\n"
    }
   },
   "outputs": [],
   "source": [
    "moscow_general = df[df['city']=='Moscow']\n",
    "spb_general = df[df['city']=='Saint-Petersburg']"
   ]
  },
  {
   "cell_type": "markdown",
   "metadata": {
    "deletable": false,
    "id": "MEJV-CX2_Zcu",
    "tags": [
     "start_task"
    ],
    "pycharm": {
     "name": "#%% md\n"
    }
   },
   "source": [
    "Создадим функцию `genre_weekday()` с четырьмя параметрами:\n",
    "* таблица (датафрейм) с данными,\n",
    "* день недели,\n",
    "* начальная временная метка в формате 'hh:mm', \n",
    "* последняя временная метка в формате 'hh:mm'.\n",
    "\n",
    "Функция вернет информацию о топ-10 жанров тех треков, которые прослушивали в указанный день, в промежутке между двумя отметками времени."
   ]
  },
  {
   "cell_type": "code",
   "execution_count": 27,
   "metadata": {
    "deletable": false,
    "id": "laJT9BYl_Zcu",
    "pycharm": {
     "name": "#%%\n"
    }
   },
   "outputs": [],
   "source": [
    "def genre_weekday(df, day, time1, time2):\n",
    "    # последовательная фильтрация\n",
    "    # оставляем в genre_df только те строки df, у которых день равен day\n",
    "    genre_df = df[df['day'] == day]\n",
    "    # оставляем в genre_df только те строки genre_df, у которых время меньше time2\n",
    "    genre_df = genre_df[genre_df['time'] < time2]\n",
    "    # оставляем в genre_df только те строки genre_df, у которых время больше time1\n",
    "    genre_df = genre_df[genre_df['time'] > time1]\n",
    "    # сгруппируем отфильтрованный датафрейм по столбцу с названиями жанров, возьмём столбец genre и посчитаем кол-во строк для каждого жанра методом count()\n",
    "    genre_df_grouped = genre_df.groupby('genre')['genre'].count()\n",
    "    # отсортируем результат по убыванию (чтобы в начале Series оказались самые популярные жанры)\n",
    "    genre_df_sorted = genre_df_grouped.sort_values(ascending = False)\n",
    "    # вернём Series с 10 самыми популярными жанрами в указанный отрезок времени заданного дня\n",
    "    return genre_df_sorted[:10]"
   ]
  },
  {
   "cell_type": "markdown",
   "metadata": {
    "deletable": false,
    "editable": false,
    "id": "la2s2_PF_Zcu",
    "tags": [
     "start_task"
    ],
    "pycharm": {
     "name": "#%% md\n"
    }
   },
   "source": [
    "Cравним результаты функции `genre_weekday()` для Москвы и Санкт-Петербурга в понедельник утром (с 7:00 до 11:00) и в пятницу вечером (с 17:00 до 23:00):"
   ]
  },
  {
   "cell_type": "code",
   "execution_count": 28,
   "metadata": {
    "deletable": false,
    "id": "yz7itPUQ_Zcu",
    "pycharm": {
     "name": "#%%\n"
    }
   },
   "outputs": [
    {
     "data": {
      "text/plain": "genre\npop            781\ndance          549\nelectronic     480\nrock           474\nhiphop         286\nruspop         186\nworld          181\nrusrap         175\nalternative    164\nunknown        161\nName: genre, dtype: int64"
     },
     "execution_count": 28,
     "metadata": {},
     "output_type": "execute_result"
    }
   ],
   "source": [
    "# вызов функции для утра понедельника в Москве\n",
    "genre_weekday(moscow_general, 'Monday', '07:00', '11:00')"
   ]
  },
  {
   "cell_type": "code",
   "execution_count": 29,
   "metadata": {
    "deletable": false,
    "id": "kwUcHPdy_Zcu",
    "pycharm": {
     "name": "#%%\n"
    }
   },
   "outputs": [
    {
     "data": {
      "text/plain": "genre\npop            218\ndance          182\nrock           162\nelectronic     147\nhiphop          80\nruspop          64\nalternative     58\nrusrap          55\njazz            44\nclassical       40\nName: genre, dtype: int64"
     },
     "execution_count": 29,
     "metadata": {},
     "output_type": "execute_result"
    }
   ],
   "source": [
    "# вызов функции для утра понедельника в Петербурге\n",
    "genre_weekday(spb_general, 'Monday', '07:00', '11:00')"
   ]
  },
  {
   "cell_type": "code",
   "execution_count": 30,
   "metadata": {
    "deletable": false,
    "id": "EzXVRE1o_Zcu",
    "pycharm": {
     "name": "#%%\n"
    }
   },
   "outputs": [
    {
     "data": {
      "text/plain": "genre\npop            713\nrock           517\ndance          495\nelectronic     482\nhiphop         273\nworld          208\nruspop         170\nalternative    163\nclassical      163\nrusrap         142\nName: genre, dtype: int64"
     },
     "execution_count": 30,
     "metadata": {},
     "output_type": "execute_result"
    }
   ],
   "source": [
    "# вызов функции для вечера пятницы в Москве\n",
    "genre_weekday(moscow_general, 'Friday', '17:00', '23:00')"
   ]
  },
  {
   "cell_type": "code",
   "execution_count": 31,
   "metadata": {
    "deletable": false,
    "id": "JZaEKu5v_Zcu",
    "pycharm": {
     "name": "#%%\n"
    }
   },
   "outputs": [
    {
     "data": {
      "text/plain": "genre\npop            256\nelectronic     216\nrock           216\ndance          210\nhiphop          97\nalternative     63\njazz            61\nclassical       60\nrusrap          59\nworld           54\nName: genre, dtype: int64"
     },
     "execution_count": 31,
     "metadata": {},
     "output_type": "execute_result"
    }
   ],
   "source": [
    "# вызов функции для вечера пятницы в Петербурге\n",
    "genre_weekday(spb_general, 'Friday', '17:00', '23:00')"
   ]
  },
  {
   "cell_type": "markdown",
   "metadata": {
    "deletable": false,
    "editable": false,
    "id": "wrCe4MNX_Zcu",
    "pycharm": {
     "name": "#%% md\n"
    }
   },
   "source": [
    "**Вывод**\n",
    "\n",
    "Если сравнить топ-10 жанров в понедельник утром, можно сделать такие выводы:\n",
    "\n",
    "1. В Москве и Петербурге слушают похожую музыку. Единственное отличие — в московский рейтинг вошёл жанр “world”, а в петербургский — джаз и классика.\n",
    "\n",
    "2. В Москве пропущенных значений оказалось так много, что значение `'unknown'` заняло десятое место среди самых популярных жанров. Значит, пропущенные значения занимают существенную долю в данных и угрожают достоверности исследования.\n",
    "\n",
    "Вечер пятницы не меняет эту картину. Некоторые жанры поднимаются немного выше, другие спускаются, но в целом топ-10 остаётся тем же самым.\n",
    "\n",
    "Таким образом, вторая гипотеза подтвердилась лишь частично:\n",
    "* Пользователи слушают похожую музыку в начале недели и в конце.\n",
    "* Разница между Москвой и Петербургом не слишком выражена. В Москве чаще слушают русскую популярную музыку, в Петербурге — джаз.\n",
    "\n",
    "Однако пропуски в данных ставят под сомнение этот результат. В Москве их так много, что рейтинг топ-10 мог бы выглядеть иначе, если бы не утерянные данные о жанрах."
   ]
  },
  {
   "cell_type": "markdown",
   "metadata": {
    "deletable": false,
    "editable": false,
    "id": "JolODAqr_Zcu",
    "pycharm": {
     "name": "#%% md\n"
    }
   },
   "source": [
    "### Жанровые предпочтения в Москве и Петербурге\n",
    "\n",
    "Гипотеза: Петербург — столица рэпа, музыку этого жанра там слушают чаще, чем в Москве.  А Москва — город контрастов, в котором, тем не менее, преобладает поп-музыка."
   ]
  },
  {
   "cell_type": "markdown",
   "metadata": {
    "deletable": false,
    "editable": false,
    "id": "DlegSvaT_Zcu",
    "tags": [
     "start_task"
    ],
    "pycharm": {
     "name": "#%% md\n"
    }
   },
   "source": [
    "Сгруппируем таблицу moscow_general по жанру, сосчитаем численность композиций каждого жанра методом count(), отсортируем в порядке убывания и сохраним результат в таблице moscow_genres."
   ]
  },
  {
   "cell_type": "code",
   "execution_count": 32,
   "metadata": {
    "deletable": false,
    "id": "r19lIPke_Zcu",
    "pycharm": {
     "name": "#%%\n"
    }
   },
   "outputs": [
    {
     "data": {
      "text/plain": "genre\npop            5892\ndance          4435\nrock           3965\nelectronic     3786\nhiphop         2096\nclassical      1616\nworld          1432\nalternative    1379\nruspop         1372\nrusrap         1161\nName: genre, dtype: int64"
     },
     "execution_count": 32,
     "metadata": {},
     "output_type": "execute_result"
    }
   ],
   "source": [
    "moscow_genres = moscow_general.groupby('genre')['genre'].count().sort_values(ascending=False)\n",
    "moscow_genres.head(10)"
   ]
  },
  {
   "cell_type": "markdown",
   "metadata": {
    "deletable": false,
    "editable": false,
    "id": "cnPG2vnN_Zcv",
    "tags": [
     "start_task"
    ],
    "pycharm": {
     "name": "#%% md\n"
    }
   },
   "source": [
    "Сделаем то же для города Санкт-Петербург и сохраним в таблице `spb_genres`:"
   ]
  },
  {
   "cell_type": "code",
   "execution_count": 33,
   "metadata": {
    "deletable": false,
    "id": "gluLIpE7_Zcv",
    "pycharm": {
     "name": "#%%\n"
    }
   },
   "outputs": [
    {
     "data": {
      "text/plain": "genre\npop            2431\ndance          1932\nrock           1879\nelectronic     1737\nhiphop          960\nalternative     649\nclassical       646\nrusrap          564\nruspop          538\nworld           515\nName: genre, dtype: int64"
     },
     "execution_count": 33,
     "metadata": {},
     "output_type": "execute_result"
    }
   ],
   "source": [
    "spb_genres = spb_general.groupby('genre')['genre'].count().sort_values(ascending=False)\n",
    "spb_genres.head(10)"
   ]
  },
  {
   "cell_type": "markdown",
   "metadata": {
    "deletable": false,
    "editable": false,
    "id": "RY51YJYu_Zcv",
    "pycharm": {
     "name": "#%% md\n"
    }
   },
   "source": [
    "**Вывод**"
   ]
  },
  {
   "cell_type": "markdown",
   "metadata": {
    "deletable": false,
    "editable": false,
    "id": "nVhnJEm__Zcv",
    "pycharm": {
     "name": "#%% md\n"
    }
   },
   "source": [
    "Гипотеза частично подтвердилась:\n",
    "* Поп-музыка — самый популярный жанр в Москве, как и предполагала гипотеза. Более того, в топ-10 жанров встречается близкий жанр — русская популярная музыка.\n",
    "* Вопреки ожиданиям, рэп одинаково популярен в Москве и Петербурге. \n"
   ]
  },
  {
   "cell_type": "markdown",
   "metadata": {
    "deletable": false,
    "editable": false,
    "id": "ykKQ0N65_Zcv",
    "pycharm": {
     "name": "#%% md\n"
    }
   },
   "source": [
    "## Итоги исследования"
   ]
  },
  {
   "cell_type": "markdown",
   "metadata": {
    "deletable": false,
    "editable": false,
    "id": "tjUwbHb3_Zcv",
    "pycharm": {
     "name": "#%% md\n"
    }
   },
   "source": [
    "Мы проверили три гипотезы и установили:\n",
    "\n",
    "1. День недели по-разному влияет на активность пользователей в Москве и Петербурге. \n",
    "\n",
    "Первая гипотеза полностью подтвердилась.\n",
    "\n",
    "2. Музыкальные предпочтения не сильно меняются в течение недели — будь то Москва или Петербург. Небольшие различия заметны в начале недели, по понедельникам:\n",
    "* в Москве слушают музыку жанра “world”,\n",
    "* в Петербурге — джаз и классику.\n",
    "\n",
    "Таким образом, вторая гипотеза подтвердилась лишь отчасти. Этот результат мог оказаться иным, если бы не пропуски в данных.\n",
    "\n",
    "3. Во вкусах пользователей Москвы и Петербурга больше общего чем различий. Вопреки ожиданиям, предпочтения жанров в Петербурге напоминают московские.\n",
    "\n",
    "Третья гипотеза не подтвердилась. Если различия в предпочтениях и существуют, на основной массе пользователей они незаметны."
   ]
  }
 ],
 "metadata": {
  "ExecuteTimeLog": [
   {
    "duration": 432,
    "start_time": "2023-06-03T10:08:22.404Z"
   },
   {
    "duration": 77,
    "start_time": "2023-06-03T10:09:46.187Z"
   },
   {
    "duration": 2,
    "start_time": "2023-06-03T10:09:54.620Z"
   },
   {
    "duration": 213,
    "start_time": "2023-06-03T10:09:56.269Z"
   },
   {
    "duration": 17,
    "start_time": "2023-06-03T10:09:58.036Z"
   },
   {
    "duration": 23,
    "start_time": "2023-06-03T10:10:32.261Z"
   },
   {
    "duration": 2,
    "start_time": "2023-06-03T10:13:02.546Z"
   },
   {
    "duration": 3,
    "start_time": "2023-06-03T10:14:19.188Z"
   },
   {
    "duration": 68,
    "start_time": "2023-06-03T10:15:26.738Z"
   },
   {
    "duration": 38,
    "start_time": "2023-06-03T10:15:40.038Z"
   },
   {
    "duration": 34,
    "start_time": "2023-06-03T10:16:34.528Z"
   },
   {
    "duration": 40,
    "start_time": "2023-06-03T10:18:14.761Z"
   },
   {
    "duration": 30,
    "start_time": "2023-06-03T10:18:32.858Z"
   },
   {
    "duration": 9,
    "start_time": "2023-06-03T10:20:41.084Z"
   },
   {
    "duration": 4,
    "start_time": "2023-06-03T10:25:00.723Z"
   },
   {
    "duration": 20,
    "start_time": "2023-06-03T10:25:25.161Z"
   },
   {
    "duration": 14,
    "start_time": "2023-06-03T10:29:00.865Z"
   },
   {
    "duration": 20,
    "start_time": "2023-06-03T10:29:20.493Z"
   },
   {
    "duration": 56,
    "start_time": "2023-06-03T10:29:54.181Z"
   },
   {
    "duration": 52,
    "start_time": "2023-06-03T10:29:58.524Z"
   },
   {
    "duration": 64,
    "start_time": "2023-06-03T10:32:42.640Z"
   },
   {
    "duration": 67,
    "start_time": "2023-06-03T10:33:25.871Z"
   },
   {
    "duration": 60,
    "start_time": "2023-06-03T10:33:29.601Z"
   },
   {
    "duration": 339,
    "start_time": "2023-06-03T10:34:29.366Z"
   },
   {
    "duration": 149,
    "start_time": "2023-06-03T10:34:29.707Z"
   },
   {
    "duration": 16,
    "start_time": "2023-06-03T10:34:29.861Z"
   },
   {
    "duration": 24,
    "start_time": "2023-06-03T10:34:29.879Z"
   },
   {
    "duration": 4,
    "start_time": "2023-06-03T10:34:29.916Z"
   },
   {
    "duration": 7,
    "start_time": "2023-06-03T10:34:29.921Z"
   },
   {
    "duration": 11,
    "start_time": "2023-06-03T10:34:29.929Z"
   },
   {
    "duration": 4,
    "start_time": "2023-06-03T10:34:29.941Z"
   },
   {
    "duration": 25,
    "start_time": "2023-06-03T10:34:29.947Z"
   },
   {
    "duration": 15,
    "start_time": "2023-06-03T10:34:29.974Z"
   },
   {
    "duration": 20,
    "start_time": "2023-06-03T10:34:30.015Z"
   },
   {
    "duration": 68,
    "start_time": "2023-06-03T10:34:30.036Z"
   },
   {
    "duration": 56,
    "start_time": "2023-06-03T10:34:30.115Z"
   },
   {
    "duration": 2,
    "start_time": "2023-06-03T10:34:30.172Z"
   },
   {
    "duration": 53,
    "start_time": "2023-06-03T10:34:30.175Z"
   },
   {
    "duration": 39,
    "start_time": "2023-06-03T10:34:30.229Z"
   },
   {
    "duration": 24,
    "start_time": "2023-06-03T10:34:30.269Z"
   },
   {
    "duration": 30,
    "start_time": "2023-06-03T10:34:30.295Z"
   },
   {
    "duration": 45,
    "start_time": "2023-06-03T10:34:30.326Z"
   },
   {
    "duration": 45,
    "start_time": "2023-06-03T10:34:30.372Z"
   },
   {
    "duration": 19,
    "start_time": "2023-06-03T10:34:30.419Z"
   },
   {
    "duration": 49,
    "start_time": "2023-06-03T10:34:30.439Z"
   },
   {
    "duration": 54,
    "start_time": "2023-06-03T10:34:30.490Z"
   },
   {
    "duration": 34,
    "start_time": "2023-06-03T10:34:30.545Z"
   },
   {
    "duration": 22,
    "start_time": "2023-06-03T10:34:30.581Z"
   },
   {
    "duration": 53,
    "start_time": "2023-06-03T10:34:30.604Z"
   },
   {
    "duration": 32,
    "start_time": "2023-06-03T10:34:30.659Z"
   },
   {
    "duration": 33,
    "start_time": "2023-06-03T10:34:30.694Z"
   },
   {
    "duration": 32,
    "start_time": "2023-06-03T10:34:30.729Z"
   },
   {
    "duration": 144,
    "start_time": "2023-06-03T10:34:30.762Z"
   },
   {
    "duration": 0,
    "start_time": "2023-06-03T10:34:30.908Z"
   },
   {
    "duration": 0,
    "start_time": "2023-06-03T10:34:30.909Z"
   },
   {
    "duration": 0,
    "start_time": "2023-06-03T10:34:30.910Z"
   },
   {
    "duration": 0,
    "start_time": "2023-06-03T10:34:30.911Z"
   },
   {
    "duration": 0,
    "start_time": "2023-06-03T10:34:30.911Z"
   },
   {
    "duration": 0,
    "start_time": "2023-06-03T10:34:30.913Z"
   },
   {
    "duration": 0,
    "start_time": "2023-06-03T10:34:30.914Z"
   },
   {
    "duration": 0,
    "start_time": "2023-06-03T10:34:30.915Z"
   },
   {
    "duration": 52,
    "start_time": "2023-06-03T10:35:03.607Z"
   },
   {
    "duration": 56,
    "start_time": "2023-06-03T10:35:09.852Z"
   },
   {
    "duration": 35,
    "start_time": "2023-06-03T10:36:42.640Z"
   },
   {
    "duration": 63,
    "start_time": "2023-06-03T10:39:11.970Z"
   },
   {
    "duration": 49,
    "start_time": "2023-06-03T10:40:00.093Z"
   },
   {
    "duration": 39,
    "start_time": "2023-06-03T10:40:08.431Z"
   },
   {
    "duration": 36,
    "start_time": "2023-06-03T10:41:14.033Z"
   },
   {
    "duration": 45,
    "start_time": "2023-06-03T10:41:34.575Z"
   },
   {
    "duration": 53,
    "start_time": "2023-06-03T10:41:45.945Z"
   },
   {
    "duration": 36,
    "start_time": "2023-06-03T10:41:55.026Z"
   },
   {
    "duration": 41,
    "start_time": "2023-06-03T10:42:58.043Z"
   },
   {
    "duration": 36,
    "start_time": "2023-06-03T10:43:04.975Z"
   },
   {
    "duration": 9,
    "start_time": "2023-06-03T10:46:12.333Z"
   },
   {
    "duration": 28,
    "start_time": "2023-06-03T10:46:42.481Z"
   },
   {
    "duration": 3780,
    "start_time": "2023-06-03T10:46:52.985Z"
   },
   {
    "duration": 11,
    "start_time": "2023-06-03T10:47:33.109Z"
   },
   {
    "duration": 10,
    "start_time": "2023-06-03T10:47:56.332Z"
   },
   {
    "duration": 3,
    "start_time": "2023-06-03T11:25:20.994Z"
   },
   {
    "duration": 35,
    "start_time": "2023-06-03T11:25:31.351Z"
   },
   {
    "duration": 11,
    "start_time": "2023-06-03T11:25:46.634Z"
   },
   {
    "duration": 3,
    "start_time": "2023-06-03T12:49:03.803Z"
   },
   {
    "duration": 4,
    "start_time": "2023-06-03T12:49:25.586Z"
   },
   {
    "duration": 15,
    "start_time": "2023-06-03T12:50:21.172Z"
   },
   {
    "duration": 3,
    "start_time": "2023-06-03T12:50:26.504Z"
   },
   {
    "duration": 13,
    "start_time": "2023-06-03T12:50:54.320Z"
   },
   {
    "duration": 14,
    "start_time": "2023-06-03T12:51:02.711Z"
   },
   {
    "duration": 20,
    "start_time": "2023-06-03T12:51:11.420Z"
   },
   {
    "duration": 15,
    "start_time": "2023-06-03T12:51:18.386Z"
   },
   {
    "duration": 22,
    "start_time": "2023-06-03T12:51:24.562Z"
   },
   {
    "duration": 8,
    "start_time": "2023-06-03T12:54:32.217Z"
   },
   {
    "duration": 12,
    "start_time": "2023-06-03T12:56:20.264Z"
   },
   {
    "duration": 13,
    "start_time": "2023-06-03T12:56:37.703Z"
   },
   {
    "duration": 4,
    "start_time": "2023-06-03T13:00:31.011Z"
   },
   {
    "duration": 5,
    "start_time": "2023-06-03T13:03:09.238Z"
   },
   {
    "duration": 16,
    "start_time": "2023-06-03T13:04:17.986Z"
   },
   {
    "duration": 2,
    "start_time": "2023-06-03T13:04:24.576Z"
   },
   {
    "duration": 11,
    "start_time": "2023-06-03T13:04:39.683Z"
   },
   {
    "duration": 3,
    "start_time": "2023-06-03T13:04:44.273Z"
   },
   {
    "duration": 17,
    "start_time": "2023-06-03T13:05:03.257Z"
   },
   {
    "duration": 12,
    "start_time": "2023-06-03T13:05:13.997Z"
   },
   {
    "duration": 61,
    "start_time": "2023-06-03T13:09:38.468Z"
   },
   {
    "duration": 21,
    "start_time": "2023-06-03T13:09:44.898Z"
   },
   {
    "duration": 8,
    "start_time": "2023-06-03T13:09:47.530Z"
   },
   {
    "duration": 21,
    "start_time": "2023-06-03T13:11:32.027Z"
   },
   {
    "duration": 8,
    "start_time": "2023-06-03T13:11:34.439Z"
   },
   {
    "duration": 22,
    "start_time": "2023-06-03T13:12:09.362Z"
   },
   {
    "duration": 1241,
    "start_time": "2023-06-03T13:12:20.653Z"
   },
   {
    "duration": 24,
    "start_time": "2023-06-03T13:12:39.243Z"
   },
   {
    "duration": 26,
    "start_time": "2023-06-03T13:13:11.842Z"
   },
   {
    "duration": 22,
    "start_time": "2023-06-03T13:13:23.798Z"
   },
   {
    "duration": 5,
    "start_time": "2023-06-03T13:13:29.242Z"
   },
   {
    "duration": 11,
    "start_time": "2023-06-03T13:15:15.123Z"
   },
   {
    "duration": 8,
    "start_time": "2023-06-03T13:15:23.048Z"
   },
   {
    "duration": 4,
    "start_time": "2023-06-03T13:15:25.116Z"
   },
   {
    "duration": 3,
    "start_time": "2023-06-03T13:15:52.185Z"
   },
   {
    "duration": 8,
    "start_time": "2023-06-03T13:16:08.880Z"
   },
   {
    "duration": 8,
    "start_time": "2023-06-03T13:16:43.039Z"
   },
   {
    "duration": 5,
    "start_time": "2023-06-03T13:16:56.287Z"
   },
   {
    "duration": 4,
    "start_time": "2023-06-03T13:17:18.506Z"
   }
  ],
  "colab": {
   "collapsed_sections": [
    "E0vqbgi9ay0H",
    "VUC88oWjTJw2"
   ],
   "provenance": []
  },
  "kernelspec": {
   "display_name": "Python 3 (ipykernel)",
   "language": "python",
   "name": "python3"
  },
  "language_info": {
   "codemirror_mode": {
    "name": "ipython",
    "version": 3
   },
   "file_extension": ".py",
   "mimetype": "text/x-python",
   "name": "python",
   "nbconvert_exporter": "python",
   "pygments_lexer": "ipython3",
   "version": "3.9.5"
  },
  "toc": {
   "base_numbering": 1,
   "nav_menu": {
    "height": "215px",
    "width": "403px"
   },
   "number_sections": true,
   "sideBar": true,
   "skip_h1_title": true,
   "title_cell": "Table of Contents",
   "title_sidebar": "Contents",
   "toc_cell": false,
   "toc_position": {
    "height": "calc(100% - 180px)",
    "left": "10px",
    "top": "150px",
    "width": "285.825px"
   },
   "toc_section_display": true,
   "toc_window_display": false
  }
 },
 "nbformat": 4,
 "nbformat_minor": 1
}