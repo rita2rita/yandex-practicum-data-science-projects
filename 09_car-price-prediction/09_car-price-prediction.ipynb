{
 "cells": [
  {
   "cell_type": "markdown",
   "metadata": {
    "pycharm": {
     "name": "#%% md\n"
    }
   },
   "source": [
    "# Определение стоимости автомобилей"
   ]
  },
  {
   "cell_type": "markdown",
   "metadata": {
    "pycharm": {
     "name": "#%% md\n"
    }
   },
   "source": [
    "Сервис по продаже автомобилей с пробегом «Не бит, не крашен» разрабатывает приложение для привлечения новых клиентов. В нём можно быстро узнать рыночную стоимость своего автомобиля. В вашем распоряжении исторические данные: технические характеристики, комплектации и цены автомобилей. Вам нужно построить модель для определения стоимости.\n",
    "\n",
    "Заказчику важны:\n",
    "\n",
    "- качество предсказания;\n",
    "- скорость предсказания;\n",
    "- время обучения."
   ]
  },
  {
   "cell_type": "markdown",
   "metadata": {
    "pycharm": {
     "name": "#%% md\n"
    }
   },
   "source": [
    "Признаки  \n",
    "**DateCrawled** — дата скачивания анкеты из базы  \n",
    "**VehicleType** — тип автомобильного кузова  \n",
    "**RegistrationYear** — год регистрации автомобиля  \n",
    "**Gearbox**— тип коробки передач  \n",
    "**Power** — мощность (л. с.)  \n",
    "**Model** — модель автомобиля  \n",
    "**Kilometer** — пробег (км)  \n",
    "**RegistrationMonth** — месяц регистрации автомобиля  \n",
    "**FuelType** — тип топлива  \n",
    "**Brand** — марка автомобиля  \n",
    "**Repaired** — была машина в ремонте или нет  \n",
    "**DateCreated** — дата создания анкеты  \n",
    "**NumberOfPictures** — количество фотографий автомобиля  \n",
    "**PostalCode** — почтовый индекс владельца анкеты (пользователя)  \n",
    "**LastSeen** — дата последней активности пользователя  \n",
    "Целевой признак  \n",
    "**Price** — цена (евро)  "
   ]
  },
  {
   "cell_type": "markdown",
   "metadata": {
    "pycharm": {
     "name": "#%% md\n"
    }
   },
   "source": [
    "## Подготовка данных"
   ]
  },
  {
   "cell_type": "code",
   "execution_count": 1,
   "metadata": {
    "pycharm": {
     "name": "#%%\n"
    }
   },
   "outputs": [],
   "source": [
    "import pandas as pd\n",
    "\n",
    "from matplotlib import pyplot as plt\n",
    "import seaborn as sns\n",
    "\n",
    "from sklearn.model_selection import train_test_split, GridSearchCV, RandomizedSearchCV\n",
    "from sklearn.preprocessing import OrdinalEncoder, StandardScaler\n",
    "from sklearn.tree import DecisionTreeRegressor\n",
    "from sklearn.ensemble import RandomForestRegressor\n",
    "from sklearn.metrics import mean_squared_error\n",
    "\n",
    "from lightgbm import LGBMRegressor\n",
    "\n",
    "import warnings\n",
    "warnings.filterwarnings('ignore')\n",
    "pd.set_option('display.max_columns', None)\n",
    "RANDOM_STATE = 12345"
   ]
  },
  {
   "cell_type": "code",
   "execution_count": 2,
   "metadata": {
    "pycharm": {
     "name": "#%%\n"
    }
   },
   "outputs": [],
   "source": [
    "df = pd.read_csv('autos.csv')"
   ]
  },
  {
   "cell_type": "code",
   "execution_count": 3,
   "metadata": {
    "pycharm": {
     "name": "#%%\n"
    }
   },
   "outputs": [
    {
     "data": {
      "text/plain": "                DateCrawled  Price  VehicleType  RegistrationYear Gearbox  \\\n26205   2016-03-09 18:54:35   1400        sedan              2002  manual   \n54326   2016-03-05 19:36:23   1199        small              2000  manual   \n321899  2016-03-10 12:53:56   1900        small              2001  manual   \n87869   2016-03-11 19:52:17      0        small              2001  manual   \n30539   2016-03-26 00:56:30    250          NaN              2000  manual   \n242099  2016-03-13 11:43:02   6950  convertible              2008  manual   \n8211    2016-03-07 12:51:55   1700        small              1998  manual   \n147982  2016-03-12 17:40:54    450        wagon              1998  manual   \n298523  2016-04-03 19:49:22   8500          suv              1976    auto   \n230256  2016-03-27 23:57:25  13900        sedan              2007    auto   \n\n        Power    Model  Kilometer  RegistrationMonth  FuelType  \\\n26205      75     golf     150000                  4    petrol   \n54326     105      3er     150000                  4    petrol   \n321899     75     clio     100000                  9    petrol   \n87869      60   twingo      90000                  9    petrol   \n30539      90    corsa     150000                  4    petrol   \n242099    120  2_reihe      60000                  0    petrol   \n8211       90    civic     150000                  9    petrol   \n147982      0   vectra     150000                  8    petrol   \n298523    150      NaN       5000                  2       NaN   \n230256    170   touran     150000                  7  gasoline   \n\n                 Brand Repaired          DateCreated  NumberOfPictures  \\\n26205       volkswagen       no  2016-03-09 00:00:00                 0   \n54326              bmw       no  2016-03-05 00:00:00                 0   \n321899         renault      NaN  2016-03-10 00:00:00                 0   \n87869          renault      yes  2016-03-11 00:00:00                 0   \n30539             opel       no  2016-03-26 00:00:00                 0   \n242099         peugeot       no  2016-03-13 00:00:00                 0   \n8211             honda      NaN  2016-03-07 00:00:00                 0   \n147982            opel       no  2016-03-12 00:00:00                 0   \n298523  sonstige_autos       no  2016-04-03 00:00:00                 0   \n230256      volkswagen       no  2016-03-27 00:00:00                 0   \n\n        PostalCode             LastSeen  \n26205         8258  2016-03-26 04:45:34  \n54326        76846  2016-03-31 11:43:50  \n321899       67067  2016-04-07 06:45:15  \n87869        47804  2016-03-25 04:21:09  \n30539        92637  2016-04-05 18:46:38  \n242099       86899  2016-03-16 15:16:12  \n8211         12109  2016-04-05 19:47:46  \n147982       13439  2016-03-20 22:47:52  \n298523       99610  2016-04-05 20:45:04  \n230256       30826  2016-04-06 08:46:50  ",
      "text/html": "<div>\n<style scoped>\n    .dataframe tbody tr th:only-of-type {\n        vertical-align: middle;\n    }\n\n    .dataframe tbody tr th {\n        vertical-align: top;\n    }\n\n    .dataframe thead th {\n        text-align: right;\n    }\n</style>\n<table border=\"1\" class=\"dataframe\">\n  <thead>\n    <tr style=\"text-align: right;\">\n      <th></th>\n      <th>DateCrawled</th>\n      <th>Price</th>\n      <th>VehicleType</th>\n      <th>RegistrationYear</th>\n      <th>Gearbox</th>\n      <th>Power</th>\n      <th>Model</th>\n      <th>Kilometer</th>\n      <th>RegistrationMonth</th>\n      <th>FuelType</th>\n      <th>Brand</th>\n      <th>Repaired</th>\n      <th>DateCreated</th>\n      <th>NumberOfPictures</th>\n      <th>PostalCode</th>\n      <th>LastSeen</th>\n    </tr>\n  </thead>\n  <tbody>\n    <tr>\n      <th>26205</th>\n      <td>2016-03-09 18:54:35</td>\n      <td>1400</td>\n      <td>sedan</td>\n      <td>2002</td>\n      <td>manual</td>\n      <td>75</td>\n      <td>golf</td>\n      <td>150000</td>\n      <td>4</td>\n      <td>petrol</td>\n      <td>volkswagen</td>\n      <td>no</td>\n      <td>2016-03-09 00:00:00</td>\n      <td>0</td>\n      <td>8258</td>\n      <td>2016-03-26 04:45:34</td>\n    </tr>\n    <tr>\n      <th>54326</th>\n      <td>2016-03-05 19:36:23</td>\n      <td>1199</td>\n      <td>small</td>\n      <td>2000</td>\n      <td>manual</td>\n      <td>105</td>\n      <td>3er</td>\n      <td>150000</td>\n      <td>4</td>\n      <td>petrol</td>\n      <td>bmw</td>\n      <td>no</td>\n      <td>2016-03-05 00:00:00</td>\n      <td>0</td>\n      <td>76846</td>\n      <td>2016-03-31 11:43:50</td>\n    </tr>\n    <tr>\n      <th>321899</th>\n      <td>2016-03-10 12:53:56</td>\n      <td>1900</td>\n      <td>small</td>\n      <td>2001</td>\n      <td>manual</td>\n      <td>75</td>\n      <td>clio</td>\n      <td>100000</td>\n      <td>9</td>\n      <td>petrol</td>\n      <td>renault</td>\n      <td>NaN</td>\n      <td>2016-03-10 00:00:00</td>\n      <td>0</td>\n      <td>67067</td>\n      <td>2016-04-07 06:45:15</td>\n    </tr>\n    <tr>\n      <th>87869</th>\n      <td>2016-03-11 19:52:17</td>\n      <td>0</td>\n      <td>small</td>\n      <td>2001</td>\n      <td>manual</td>\n      <td>60</td>\n      <td>twingo</td>\n      <td>90000</td>\n      <td>9</td>\n      <td>petrol</td>\n      <td>renault</td>\n      <td>yes</td>\n      <td>2016-03-11 00:00:00</td>\n      <td>0</td>\n      <td>47804</td>\n      <td>2016-03-25 04:21:09</td>\n    </tr>\n    <tr>\n      <th>30539</th>\n      <td>2016-03-26 00:56:30</td>\n      <td>250</td>\n      <td>NaN</td>\n      <td>2000</td>\n      <td>manual</td>\n      <td>90</td>\n      <td>corsa</td>\n      <td>150000</td>\n      <td>4</td>\n      <td>petrol</td>\n      <td>opel</td>\n      <td>no</td>\n      <td>2016-03-26 00:00:00</td>\n      <td>0</td>\n      <td>92637</td>\n      <td>2016-04-05 18:46:38</td>\n    </tr>\n    <tr>\n      <th>242099</th>\n      <td>2016-03-13 11:43:02</td>\n      <td>6950</td>\n      <td>convertible</td>\n      <td>2008</td>\n      <td>manual</td>\n      <td>120</td>\n      <td>2_reihe</td>\n      <td>60000</td>\n      <td>0</td>\n      <td>petrol</td>\n      <td>peugeot</td>\n      <td>no</td>\n      <td>2016-03-13 00:00:00</td>\n      <td>0</td>\n      <td>86899</td>\n      <td>2016-03-16 15:16:12</td>\n    </tr>\n    <tr>\n      <th>8211</th>\n      <td>2016-03-07 12:51:55</td>\n      <td>1700</td>\n      <td>small</td>\n      <td>1998</td>\n      <td>manual</td>\n      <td>90</td>\n      <td>civic</td>\n      <td>150000</td>\n      <td>9</td>\n      <td>petrol</td>\n      <td>honda</td>\n      <td>NaN</td>\n      <td>2016-03-07 00:00:00</td>\n      <td>0</td>\n      <td>12109</td>\n      <td>2016-04-05 19:47:46</td>\n    </tr>\n    <tr>\n      <th>147982</th>\n      <td>2016-03-12 17:40:54</td>\n      <td>450</td>\n      <td>wagon</td>\n      <td>1998</td>\n      <td>manual</td>\n      <td>0</td>\n      <td>vectra</td>\n      <td>150000</td>\n      <td>8</td>\n      <td>petrol</td>\n      <td>opel</td>\n      <td>no</td>\n      <td>2016-03-12 00:00:00</td>\n      <td>0</td>\n      <td>13439</td>\n      <td>2016-03-20 22:47:52</td>\n    </tr>\n    <tr>\n      <th>298523</th>\n      <td>2016-04-03 19:49:22</td>\n      <td>8500</td>\n      <td>suv</td>\n      <td>1976</td>\n      <td>auto</td>\n      <td>150</td>\n      <td>NaN</td>\n      <td>5000</td>\n      <td>2</td>\n      <td>NaN</td>\n      <td>sonstige_autos</td>\n      <td>no</td>\n      <td>2016-04-03 00:00:00</td>\n      <td>0</td>\n      <td>99610</td>\n      <td>2016-04-05 20:45:04</td>\n    </tr>\n    <tr>\n      <th>230256</th>\n      <td>2016-03-27 23:57:25</td>\n      <td>13900</td>\n      <td>sedan</td>\n      <td>2007</td>\n      <td>auto</td>\n      <td>170</td>\n      <td>touran</td>\n      <td>150000</td>\n      <td>7</td>\n      <td>gasoline</td>\n      <td>volkswagen</td>\n      <td>no</td>\n      <td>2016-03-27 00:00:00</td>\n      <td>0</td>\n      <td>30826</td>\n      <td>2016-04-06 08:46:50</td>\n    </tr>\n  </tbody>\n</table>\n</div>"
     },
     "execution_count": 3,
     "metadata": {},
     "output_type": "execute_result"
    }
   ],
   "source": [
    "df.sample(10)"
   ]
  },
  {
   "cell_type": "code",
   "execution_count": 4,
   "metadata": {
    "pycharm": {
     "name": "#%%\n"
    }
   },
   "outputs": [],
   "source": [
    "def get_info(data):\n",
    "    print(f'Кол-во явных дубликатов: {data.duplicated().sum()}\\n')\n",
    "    display(data.info(), data.describe())\n",
    "    display('Кол-во пропусков:', data.isna().sum())"
   ]
  },
  {
   "cell_type": "code",
   "execution_count": 5,
   "metadata": {
    "pycharm": {
     "name": "#%%\n"
    }
   },
   "outputs": [
    {
     "name": "stdout",
     "output_type": "stream",
     "text": [
      "Кол-во явных дубликатов: 4\n",
      "\n",
      "<class 'pandas.core.frame.DataFrame'>\n",
      "RangeIndex: 354369 entries, 0 to 354368\n",
      "Data columns (total 16 columns):\n",
      " #   Column             Non-Null Count   Dtype \n",
      "---  ------             --------------   ----- \n",
      " 0   DateCrawled        354369 non-null  object\n",
      " 1   Price              354369 non-null  int64 \n",
      " 2   VehicleType        316879 non-null  object\n",
      " 3   RegistrationYear   354369 non-null  int64 \n",
      " 4   Gearbox            334536 non-null  object\n",
      " 5   Power              354369 non-null  int64 \n",
      " 6   Model              334664 non-null  object\n",
      " 7   Kilometer          354369 non-null  int64 \n",
      " 8   RegistrationMonth  354369 non-null  int64 \n",
      " 9   FuelType           321474 non-null  object\n",
      " 10  Brand              354369 non-null  object\n",
      " 11  Repaired           283215 non-null  object\n",
      " 12  DateCreated        354369 non-null  object\n",
      " 13  NumberOfPictures   354369 non-null  int64 \n",
      " 14  PostalCode         354369 non-null  int64 \n",
      " 15  LastSeen           354369 non-null  object\n",
      "dtypes: int64(7), object(9)\n",
      "memory usage: 43.3+ MB\n"
     ]
    },
    {
     "data": {
      "text/plain": "None"
     },
     "metadata": {},
     "output_type": "display_data"
    },
    {
     "data": {
      "text/plain": "               Price  RegistrationYear          Power      Kilometer  \\\ncount  354369.000000     354369.000000  354369.000000  354369.000000   \nmean     4416.656776       2004.234448     110.094337  128211.172535   \nstd      4514.158514         90.227958     189.850405   37905.341530   \nmin         0.000000       1000.000000       0.000000    5000.000000   \n25%      1050.000000       1999.000000      69.000000  125000.000000   \n50%      2700.000000       2003.000000     105.000000  150000.000000   \n75%      6400.000000       2008.000000     143.000000  150000.000000   \nmax     20000.000000       9999.000000   20000.000000  150000.000000   \n\n       RegistrationMonth  NumberOfPictures     PostalCode  \ncount      354369.000000          354369.0  354369.000000  \nmean            5.714645               0.0   50508.689087  \nstd             3.726421               0.0   25783.096248  \nmin             0.000000               0.0    1067.000000  \n25%             3.000000               0.0   30165.000000  \n50%             6.000000               0.0   49413.000000  \n75%             9.000000               0.0   71083.000000  \nmax            12.000000               0.0   99998.000000  ",
      "text/html": "<div>\n<style scoped>\n    .dataframe tbody tr th:only-of-type {\n        vertical-align: middle;\n    }\n\n    .dataframe tbody tr th {\n        vertical-align: top;\n    }\n\n    .dataframe thead th {\n        text-align: right;\n    }\n</style>\n<table border=\"1\" class=\"dataframe\">\n  <thead>\n    <tr style=\"text-align: right;\">\n      <th></th>\n      <th>Price</th>\n      <th>RegistrationYear</th>\n      <th>Power</th>\n      <th>Kilometer</th>\n      <th>RegistrationMonth</th>\n      <th>NumberOfPictures</th>\n      <th>PostalCode</th>\n    </tr>\n  </thead>\n  <tbody>\n    <tr>\n      <th>count</th>\n      <td>354369.000000</td>\n      <td>354369.000000</td>\n      <td>354369.000000</td>\n      <td>354369.000000</td>\n      <td>354369.000000</td>\n      <td>354369.0</td>\n      <td>354369.000000</td>\n    </tr>\n    <tr>\n      <th>mean</th>\n      <td>4416.656776</td>\n      <td>2004.234448</td>\n      <td>110.094337</td>\n      <td>128211.172535</td>\n      <td>5.714645</td>\n      <td>0.0</td>\n      <td>50508.689087</td>\n    </tr>\n    <tr>\n      <th>std</th>\n      <td>4514.158514</td>\n      <td>90.227958</td>\n      <td>189.850405</td>\n      <td>37905.341530</td>\n      <td>3.726421</td>\n      <td>0.0</td>\n      <td>25783.096248</td>\n    </tr>\n    <tr>\n      <th>min</th>\n      <td>0.000000</td>\n      <td>1000.000000</td>\n      <td>0.000000</td>\n      <td>5000.000000</td>\n      <td>0.000000</td>\n      <td>0.0</td>\n      <td>1067.000000</td>\n    </tr>\n    <tr>\n      <th>25%</th>\n      <td>1050.000000</td>\n      <td>1999.000000</td>\n      <td>69.000000</td>\n      <td>125000.000000</td>\n      <td>3.000000</td>\n      <td>0.0</td>\n      <td>30165.000000</td>\n    </tr>\n    <tr>\n      <th>50%</th>\n      <td>2700.000000</td>\n      <td>2003.000000</td>\n      <td>105.000000</td>\n      <td>150000.000000</td>\n      <td>6.000000</td>\n      <td>0.0</td>\n      <td>49413.000000</td>\n    </tr>\n    <tr>\n      <th>75%</th>\n      <td>6400.000000</td>\n      <td>2008.000000</td>\n      <td>143.000000</td>\n      <td>150000.000000</td>\n      <td>9.000000</td>\n      <td>0.0</td>\n      <td>71083.000000</td>\n    </tr>\n    <tr>\n      <th>max</th>\n      <td>20000.000000</td>\n      <td>9999.000000</td>\n      <td>20000.000000</td>\n      <td>150000.000000</td>\n      <td>12.000000</td>\n      <td>0.0</td>\n      <td>99998.000000</td>\n    </tr>\n  </tbody>\n</table>\n</div>"
     },
     "metadata": {},
     "output_type": "display_data"
    },
    {
     "data": {
      "text/plain": "'Кол-во пропусков:'"
     },
     "metadata": {},
     "output_type": "display_data"
    },
    {
     "data": {
      "text/plain": "DateCrawled              0\nPrice                    0\nVehicleType          37490\nRegistrationYear         0\nGearbox              19833\nPower                    0\nModel                19705\nKilometer                0\nRegistrationMonth        0\nFuelType             32895\nBrand                    0\nRepaired             71154\nDateCreated              0\nNumberOfPictures         0\nPostalCode               0\nLastSeen                 0\ndtype: int64"
     },
     "metadata": {},
     "output_type": "display_data"
    }
   ],
   "source": [
    "get_info(df)"
   ]
  },
  {
   "cell_type": "markdown",
   "metadata": {
    "pycharm": {
     "name": "#%% md\n"
    }
   },
   "source": [
    "Посмотрим на кол-во уникальных значений в столбцах"
   ]
  },
  {
   "cell_type": "code",
   "execution_count": 6,
   "metadata": {
    "pycharm": {
     "name": "#%%\n"
    }
   },
   "outputs": [],
   "source": [
    "result_df = pd.DataFrame(columns=['Столбец', 'Количество уникальных значений'])\n",
    "for column in df.columns:\n",
    "    unique_count = df[column].nunique()\n",
    "    result_df = result_df.append({'Столбец': column, 'Количество уникальных значений': unique_count}, ignore_index=True)"
   ]
  },
  {
   "cell_type": "code",
   "execution_count": 7,
   "metadata": {
    "pycharm": {
     "name": "#%%\n"
    }
   },
   "outputs": [
    {
     "data": {
      "text/plain": "              Столбец Количество уникальных значений\n0         DateCrawled                         271174\n1               Price                           3731\n2         VehicleType                              8\n3    RegistrationYear                            151\n4             Gearbox                              2\n5               Power                            712\n6               Model                            250\n7           Kilometer                             13\n8   RegistrationMonth                             13\n9            FuelType                              7\n10              Brand                             40\n11           Repaired                              2\n12        DateCreated                            109\n13   NumberOfPictures                              1\n14         PostalCode                           8143\n15           LastSeen                         179150",
      "text/html": "<div>\n<style scoped>\n    .dataframe tbody tr th:only-of-type {\n        vertical-align: middle;\n    }\n\n    .dataframe tbody tr th {\n        vertical-align: top;\n    }\n\n    .dataframe thead th {\n        text-align: right;\n    }\n</style>\n<table border=\"1\" class=\"dataframe\">\n  <thead>\n    <tr style=\"text-align: right;\">\n      <th></th>\n      <th>Столбец</th>\n      <th>Количество уникальных значений</th>\n    </tr>\n  </thead>\n  <tbody>\n    <tr>\n      <th>0</th>\n      <td>DateCrawled</td>\n      <td>271174</td>\n    </tr>\n    <tr>\n      <th>1</th>\n      <td>Price</td>\n      <td>3731</td>\n    </tr>\n    <tr>\n      <th>2</th>\n      <td>VehicleType</td>\n      <td>8</td>\n    </tr>\n    <tr>\n      <th>3</th>\n      <td>RegistrationYear</td>\n      <td>151</td>\n    </tr>\n    <tr>\n      <th>4</th>\n      <td>Gearbox</td>\n      <td>2</td>\n    </tr>\n    <tr>\n      <th>5</th>\n      <td>Power</td>\n      <td>712</td>\n    </tr>\n    <tr>\n      <th>6</th>\n      <td>Model</td>\n      <td>250</td>\n    </tr>\n    <tr>\n      <th>7</th>\n      <td>Kilometer</td>\n      <td>13</td>\n    </tr>\n    <tr>\n      <th>8</th>\n      <td>RegistrationMonth</td>\n      <td>13</td>\n    </tr>\n    <tr>\n      <th>9</th>\n      <td>FuelType</td>\n      <td>7</td>\n    </tr>\n    <tr>\n      <th>10</th>\n      <td>Brand</td>\n      <td>40</td>\n    </tr>\n    <tr>\n      <th>11</th>\n      <td>Repaired</td>\n      <td>2</td>\n    </tr>\n    <tr>\n      <th>12</th>\n      <td>DateCreated</td>\n      <td>109</td>\n    </tr>\n    <tr>\n      <th>13</th>\n      <td>NumberOfPictures</td>\n      <td>1</td>\n    </tr>\n    <tr>\n      <th>14</th>\n      <td>PostalCode</td>\n      <td>8143</td>\n    </tr>\n    <tr>\n      <th>15</th>\n      <td>LastSeen</td>\n      <td>179150</td>\n    </tr>\n  </tbody>\n</table>\n</div>"
     },
     "execution_count": 7,
     "metadata": {},
     "output_type": "execute_result"
    }
   ],
   "source": [
    "result_df"
   ]
  },
  {
   "cell_type": "markdown",
   "metadata": {
    "pycharm": {
     "name": "#%% md\n"
    }
   },
   "source": [
    "Наблюдаем столбец с единственным значением NumberOfPictures - он нам точно не нужен, уберем его."
   ]
  },
  {
   "cell_type": "code",
   "execution_count": 8,
   "metadata": {
    "pycharm": {
     "name": "#%%\n"
    }
   },
   "outputs": [
    {
     "data": {
      "text/plain": "           DateCrawled  Price VehicleType  RegistrationYear Gearbox  Power  \\\n0  2016-03-24 11:52:17    480         NaN              1993  manual      0   \n1  2016-03-24 10:58:45  18300       coupe              2011  manual    190   \n2  2016-03-14 12:52:21   9800         suv              2004    auto    163   \n3  2016-03-17 16:54:04   1500       small              2001  manual     75   \n4  2016-03-31 17:25:20   3600       small              2008  manual     69   \n\n   Model  Kilometer  RegistrationMonth  FuelType       Brand Repaired  \\\n0   golf     150000                  0    petrol  volkswagen      NaN   \n1    NaN     125000                  5  gasoline        audi      yes   \n2  grand     125000                  8  gasoline        jeep      NaN   \n3   golf     150000                  6    petrol  volkswagen       no   \n4  fabia      90000                  7  gasoline       skoda       no   \n\n           DateCreated  PostalCode             LastSeen  \n0  2016-03-24 00:00:00       70435  2016-04-07 03:16:57  \n1  2016-03-24 00:00:00       66954  2016-04-07 01:46:50  \n2  2016-03-14 00:00:00       90480  2016-04-05 12:47:46  \n3  2016-03-17 00:00:00       91074  2016-03-17 17:40:17  \n4  2016-03-31 00:00:00       60437  2016-04-06 10:17:21  ",
      "text/html": "<div>\n<style scoped>\n    .dataframe tbody tr th:only-of-type {\n        vertical-align: middle;\n    }\n\n    .dataframe tbody tr th {\n        vertical-align: top;\n    }\n\n    .dataframe thead th {\n        text-align: right;\n    }\n</style>\n<table border=\"1\" class=\"dataframe\">\n  <thead>\n    <tr style=\"text-align: right;\">\n      <th></th>\n      <th>DateCrawled</th>\n      <th>Price</th>\n      <th>VehicleType</th>\n      <th>RegistrationYear</th>\n      <th>Gearbox</th>\n      <th>Power</th>\n      <th>Model</th>\n      <th>Kilometer</th>\n      <th>RegistrationMonth</th>\n      <th>FuelType</th>\n      <th>Brand</th>\n      <th>Repaired</th>\n      <th>DateCreated</th>\n      <th>PostalCode</th>\n      <th>LastSeen</th>\n    </tr>\n  </thead>\n  <tbody>\n    <tr>\n      <th>0</th>\n      <td>2016-03-24 11:52:17</td>\n      <td>480</td>\n      <td>NaN</td>\n      <td>1993</td>\n      <td>manual</td>\n      <td>0</td>\n      <td>golf</td>\n      <td>150000</td>\n      <td>0</td>\n      <td>petrol</td>\n      <td>volkswagen</td>\n      <td>NaN</td>\n      <td>2016-03-24 00:00:00</td>\n      <td>70435</td>\n      <td>2016-04-07 03:16:57</td>\n    </tr>\n    <tr>\n      <th>1</th>\n      <td>2016-03-24 10:58:45</td>\n      <td>18300</td>\n      <td>coupe</td>\n      <td>2011</td>\n      <td>manual</td>\n      <td>190</td>\n      <td>NaN</td>\n      <td>125000</td>\n      <td>5</td>\n      <td>gasoline</td>\n      <td>audi</td>\n      <td>yes</td>\n      <td>2016-03-24 00:00:00</td>\n      <td>66954</td>\n      <td>2016-04-07 01:46:50</td>\n    </tr>\n    <tr>\n      <th>2</th>\n      <td>2016-03-14 12:52:21</td>\n      <td>9800</td>\n      <td>suv</td>\n      <td>2004</td>\n      <td>auto</td>\n      <td>163</td>\n      <td>grand</td>\n      <td>125000</td>\n      <td>8</td>\n      <td>gasoline</td>\n      <td>jeep</td>\n      <td>NaN</td>\n      <td>2016-03-14 00:00:00</td>\n      <td>90480</td>\n      <td>2016-04-05 12:47:46</td>\n    </tr>\n    <tr>\n      <th>3</th>\n      <td>2016-03-17 16:54:04</td>\n      <td>1500</td>\n      <td>small</td>\n      <td>2001</td>\n      <td>manual</td>\n      <td>75</td>\n      <td>golf</td>\n      <td>150000</td>\n      <td>6</td>\n      <td>petrol</td>\n      <td>volkswagen</td>\n      <td>no</td>\n      <td>2016-03-17 00:00:00</td>\n      <td>91074</td>\n      <td>2016-03-17 17:40:17</td>\n    </tr>\n    <tr>\n      <th>4</th>\n      <td>2016-03-31 17:25:20</td>\n      <td>3600</td>\n      <td>small</td>\n      <td>2008</td>\n      <td>manual</td>\n      <td>69</td>\n      <td>fabia</td>\n      <td>90000</td>\n      <td>7</td>\n      <td>gasoline</td>\n      <td>skoda</td>\n      <td>no</td>\n      <td>2016-03-31 00:00:00</td>\n      <td>60437</td>\n      <td>2016-04-06 10:17:21</td>\n    </tr>\n  </tbody>\n</table>\n</div>"
     },
     "execution_count": 8,
     "metadata": {},
     "output_type": "execute_result"
    }
   ],
   "source": [
    "df = df.drop(['NumberOfPictures'], axis=1)\n",
    "df.head()"
   ]
  },
  {
   "cell_type": "markdown",
   "metadata": {
    "pycharm": {
     "name": "#%% md\n"
    }
   },
   "source": [
    " Переименуем столбцы"
   ]
  },
  {
   "cell_type": "code",
   "execution_count": 9,
   "metadata": {
    "pycharm": {
     "name": "#%%\n"
    }
   },
   "outputs": [
    {
     "data": {
      "text/plain": "Index(['DateCrawled', 'Price', 'VehicleType', 'RegistrationYear', 'Gearbox',\n       'Power', 'Model', 'Kilometer', 'RegistrationMonth', 'FuelType', 'Brand',\n       'Repaired', 'DateCreated', 'PostalCode', 'LastSeen'],\n      dtype='object')"
     },
     "execution_count": 9,
     "metadata": {},
     "output_type": "execute_result"
    }
   ],
   "source": [
    "df.columns"
   ]
  },
  {
   "cell_type": "code",
   "execution_count": 10,
   "metadata": {
    "pycharm": {
     "name": "#%%\n"
    }
   },
   "outputs": [],
   "source": [
    "df = df.rename(columns=\n",
    "               {'DateCrawled': 'date_crawled',\n",
    "                'VehicleType': 'vehicle_type',\n",
    "                'RegistrationYear': 'registration_year',\n",
    "                'RegistrationMonth': 'registration_month',\n",
    "                'FuelType': 'fuel_type',\n",
    "                'DateCreated': 'date_created',\n",
    "                'NumberOfPictures': 'number_of_pictures',\n",
    "                'PostalCode': 'postal_code',\n",
    "                'LastSeen': 'last_seen',\n",
    "                })\n",
    "df.columns = df.columns.str.lower()"
   ]
  },
  {
   "cell_type": "markdown",
   "metadata": {
    "pycharm": {
     "name": "#%% md\n"
    }
   },
   "source": [
    "Удалим явные дубликаты и поищем неявные"
   ]
  },
  {
   "cell_type": "code",
   "execution_count": 11,
   "metadata": {
    "pycharm": {
     "name": "#%%\n"
    }
   },
   "outputs": [
    {
     "data": {
      "text/plain": "(354369, 15)"
     },
     "execution_count": 11,
     "metadata": {},
     "output_type": "execute_result"
    }
   ],
   "source": [
    "df.shape"
   ]
  },
  {
   "cell_type": "code",
   "execution_count": 12,
   "metadata": {
    "pycharm": {
     "name": "#%%\n"
    }
   },
   "outputs": [
    {
     "data": {
      "text/plain": "(354365, 15)"
     },
     "execution_count": 12,
     "metadata": {},
     "output_type": "execute_result"
    }
   ],
   "source": [
    "df = df.drop_duplicates()\n",
    "df.shape"
   ]
  },
  {
   "cell_type": "markdown",
   "metadata": {
    "pycharm": {
     "name": "#%% md\n"
    }
   },
   "source": [
    "Посмотрим, есть ли дубликаты объявлений без столбцов, связанных с датами объявлений и цены (люди могли выкладывать объявления по несколько раз с разной ценой, пытаясь нащупать рыночную и снижать/повышать цену), пример ниже:"
   ]
  },
  {
   "cell_type": "code",
   "execution_count": 13,
   "metadata": {
    "pycharm": {
     "name": "#%%\n"
    }
   },
   "outputs": [
    {
     "data": {
      "text/plain": "               date_crawled  price vehicle_type  registration_year gearbox  \\\n451     2016-03-21 21:46:45   2238        small               2003  manual   \n2773    2016-03-20 12:59:45   4000          NaN               2017  manual   \n6831    2016-03-16 19:58:08   1900        sedan               2003  manual   \n14464   2016-04-04 23:48:00  12500        wagon               2007  manual   \n15513   2016-03-17 00:46:42  13299        coupe               2006  manual   \n...                     ...    ...          ...                ...     ...   \n336480  2016-03-18 21:53:19    800        wagon               1997  manual   \n341236  2016-03-21 14:54:37   6200        wagon               2007    auto   \n342681  2016-04-06 12:36:39   3500        sedan               1983  manual   \n344575  2016-03-06 11:48:38  10000        wagon               2013  manual   \n353752  2016-03-12 15:58:06   3000          bus               1996  manual   \n\n        power        model  kilometer  registration_month fuel_type  \\\n451        75        corsa     125000                   5    petrol   \n2773        0      2_reihe     150000                   0       NaN   \n6831        0         golf     150000                   8  gasoline   \n14464     170     e_klasse     150000                  11  gasoline   \n15513     218          3er     125000                  12    petrol   \n...       ...          ...        ...                 ...       ...   \n336480     60          NaN     150000                   4  gasoline   \n341236    140           a4     150000                   6  gasoline   \n342681     50          NaN      40000                   6    petrol   \n344575    184         golf      60000                   7  gasoline   \n353752    102  transporter     150000                   7  gasoline   \n\n                 brand repaired         date_created  postal_code  \\\n451               opel       no  2016-03-21 00:00:00         1067   \n2773           peugeot      yes  2016-03-20 00:00:00         1067   \n6831        volkswagen      NaN  2016-03-16 00:00:00         1067   \n14464    mercedes_benz       no  2016-04-04 00:00:00         1067   \n15513              bmw       no  2016-03-16 00:00:00         1067   \n...                ...      ...                  ...          ...   \n336480      volkswagen       no  2016-03-18 00:00:00         1067   \n341236            audi       no  2016-03-21 00:00:00         1067   \n342681  sonstige_autos       no  2016-04-01 00:00:00         1067   \n344575      volkswagen       no  2016-03-06 00:00:00         1067   \n353752      volkswagen       no  2016-03-12 00:00:00         1067   \n\n                  last_seen  \n451     2016-03-24 11:46:38  \n2773    2016-04-06 13:15:59  \n6831    2016-03-16 19:58:08  \n14464   2016-04-07 04:16:54  \n15513   2016-03-22 10:17:36  \n...                     ...  \n336480  2016-04-05 23:16:12  \n341236  2016-03-21 14:54:37  \n342681  2016-04-06 12:36:39  \n344575  2016-03-20 14:16:25  \n353752  2016-03-12 15:58:06  \n\n[95 rows x 15 columns]",
      "text/html": "<div>\n<style scoped>\n    .dataframe tbody tr th:only-of-type {\n        vertical-align: middle;\n    }\n\n    .dataframe tbody tr th {\n        vertical-align: top;\n    }\n\n    .dataframe thead th {\n        text-align: right;\n    }\n</style>\n<table border=\"1\" class=\"dataframe\">\n  <thead>\n    <tr style=\"text-align: right;\">\n      <th></th>\n      <th>date_crawled</th>\n      <th>price</th>\n      <th>vehicle_type</th>\n      <th>registration_year</th>\n      <th>gearbox</th>\n      <th>power</th>\n      <th>model</th>\n      <th>kilometer</th>\n      <th>registration_month</th>\n      <th>fuel_type</th>\n      <th>brand</th>\n      <th>repaired</th>\n      <th>date_created</th>\n      <th>postal_code</th>\n      <th>last_seen</th>\n    </tr>\n  </thead>\n  <tbody>\n    <tr>\n      <th>451</th>\n      <td>2016-03-21 21:46:45</td>\n      <td>2238</td>\n      <td>small</td>\n      <td>2003</td>\n      <td>manual</td>\n      <td>75</td>\n      <td>corsa</td>\n      <td>125000</td>\n      <td>5</td>\n      <td>petrol</td>\n      <td>opel</td>\n      <td>no</td>\n      <td>2016-03-21 00:00:00</td>\n      <td>1067</td>\n      <td>2016-03-24 11:46:38</td>\n    </tr>\n    <tr>\n      <th>2773</th>\n      <td>2016-03-20 12:59:45</td>\n      <td>4000</td>\n      <td>NaN</td>\n      <td>2017</td>\n      <td>manual</td>\n      <td>0</td>\n      <td>2_reihe</td>\n      <td>150000</td>\n      <td>0</td>\n      <td>NaN</td>\n      <td>peugeot</td>\n      <td>yes</td>\n      <td>2016-03-20 00:00:00</td>\n      <td>1067</td>\n      <td>2016-04-06 13:15:59</td>\n    </tr>\n    <tr>\n      <th>6831</th>\n      <td>2016-03-16 19:58:08</td>\n      <td>1900</td>\n      <td>sedan</td>\n      <td>2003</td>\n      <td>manual</td>\n      <td>0</td>\n      <td>golf</td>\n      <td>150000</td>\n      <td>8</td>\n      <td>gasoline</td>\n      <td>volkswagen</td>\n      <td>NaN</td>\n      <td>2016-03-16 00:00:00</td>\n      <td>1067</td>\n      <td>2016-03-16 19:58:08</td>\n    </tr>\n    <tr>\n      <th>14464</th>\n      <td>2016-04-04 23:48:00</td>\n      <td>12500</td>\n      <td>wagon</td>\n      <td>2007</td>\n      <td>manual</td>\n      <td>170</td>\n      <td>e_klasse</td>\n      <td>150000</td>\n      <td>11</td>\n      <td>gasoline</td>\n      <td>mercedes_benz</td>\n      <td>no</td>\n      <td>2016-04-04 00:00:00</td>\n      <td>1067</td>\n      <td>2016-04-07 04:16:54</td>\n    </tr>\n    <tr>\n      <th>15513</th>\n      <td>2016-03-17 00:46:42</td>\n      <td>13299</td>\n      <td>coupe</td>\n      <td>2006</td>\n      <td>manual</td>\n      <td>218</td>\n      <td>3er</td>\n      <td>125000</td>\n      <td>12</td>\n      <td>petrol</td>\n      <td>bmw</td>\n      <td>no</td>\n      <td>2016-03-16 00:00:00</td>\n      <td>1067</td>\n      <td>2016-03-22 10:17:36</td>\n    </tr>\n    <tr>\n      <th>...</th>\n      <td>...</td>\n      <td>...</td>\n      <td>...</td>\n      <td>...</td>\n      <td>...</td>\n      <td>...</td>\n      <td>...</td>\n      <td>...</td>\n      <td>...</td>\n      <td>...</td>\n      <td>...</td>\n      <td>...</td>\n      <td>...</td>\n      <td>...</td>\n      <td>...</td>\n    </tr>\n    <tr>\n      <th>336480</th>\n      <td>2016-03-18 21:53:19</td>\n      <td>800</td>\n      <td>wagon</td>\n      <td>1997</td>\n      <td>manual</td>\n      <td>60</td>\n      <td>NaN</td>\n      <td>150000</td>\n      <td>4</td>\n      <td>gasoline</td>\n      <td>volkswagen</td>\n      <td>no</td>\n      <td>2016-03-18 00:00:00</td>\n      <td>1067</td>\n      <td>2016-04-05 23:16:12</td>\n    </tr>\n    <tr>\n      <th>341236</th>\n      <td>2016-03-21 14:54:37</td>\n      <td>6200</td>\n      <td>wagon</td>\n      <td>2007</td>\n      <td>auto</td>\n      <td>140</td>\n      <td>a4</td>\n      <td>150000</td>\n      <td>6</td>\n      <td>gasoline</td>\n      <td>audi</td>\n      <td>no</td>\n      <td>2016-03-21 00:00:00</td>\n      <td>1067</td>\n      <td>2016-03-21 14:54:37</td>\n    </tr>\n    <tr>\n      <th>342681</th>\n      <td>2016-04-06 12:36:39</td>\n      <td>3500</td>\n      <td>sedan</td>\n      <td>1983</td>\n      <td>manual</td>\n      <td>50</td>\n      <td>NaN</td>\n      <td>40000</td>\n      <td>6</td>\n      <td>petrol</td>\n      <td>sonstige_autos</td>\n      <td>no</td>\n      <td>2016-04-01 00:00:00</td>\n      <td>1067</td>\n      <td>2016-04-06 12:36:39</td>\n    </tr>\n    <tr>\n      <th>344575</th>\n      <td>2016-03-06 11:48:38</td>\n      <td>10000</td>\n      <td>wagon</td>\n      <td>2013</td>\n      <td>manual</td>\n      <td>184</td>\n      <td>golf</td>\n      <td>60000</td>\n      <td>7</td>\n      <td>gasoline</td>\n      <td>volkswagen</td>\n      <td>no</td>\n      <td>2016-03-06 00:00:00</td>\n      <td>1067</td>\n      <td>2016-03-20 14:16:25</td>\n    </tr>\n    <tr>\n      <th>353752</th>\n      <td>2016-03-12 15:58:06</td>\n      <td>3000</td>\n      <td>bus</td>\n      <td>1996</td>\n      <td>manual</td>\n      <td>102</td>\n      <td>transporter</td>\n      <td>150000</td>\n      <td>7</td>\n      <td>gasoline</td>\n      <td>volkswagen</td>\n      <td>no</td>\n      <td>2016-03-12 00:00:00</td>\n      <td>1067</td>\n      <td>2016-03-12 15:58:06</td>\n    </tr>\n  </tbody>\n</table>\n<p>95 rows × 15 columns</p>\n</div>"
     },
     "execution_count": 13,
     "metadata": {},
     "output_type": "execute_result"
    }
   ],
   "source": [
    "df.loc[df['postal_code'] == 1067]"
   ]
  },
  {
   "cell_type": "markdown",
   "metadata": {
    "pycharm": {
     "name": "#%% md\n"
    }
   },
   "source": [
    "в строках 190847, 15513, 54536, 318099, 293060 есть дубликаты объявлений с последовательным временем выкладывания объявлений машины bmw 2006 года от человека с почтовым индексом 1067 и со скачакми цены. Предполагаю, что последнее выложенное объявление - привело к продаже и эта цена является наиболее рыночной. Таким образом, находя такие дубликаты, мы можем оставить только самые последние объявления. Тогда останется только машина под индексом 293060."
   ]
  },
  {
   "cell_type": "code",
   "execution_count": 14,
   "metadata": {
    "pycharm": {
     "name": "#%%\n"
    }
   },
   "outputs": [],
   "source": [
    "columns_to_find_duplicates = ['vehicle_type', 'registration_year', 'gearbox', 'power', 'model', 'kilometer',\n",
    "                         'registration_month', 'fuel_type', 'brand', 'repaired', 'postal_code']"
   ]
  },
  {
   "cell_type": "code",
   "execution_count": 15,
   "metadata": {
    "pycharm": {
     "name": "#%%\n"
    }
   },
   "outputs": [
    {
     "data": {
      "text/plain": "34561"
     },
     "execution_count": 15,
     "metadata": {},
     "output_type": "execute_result"
    }
   ],
   "source": [
    "df[columns_to_find_duplicates].duplicated().sum()"
   ]
  },
  {
   "cell_type": "markdown",
   "metadata": {
    "pycharm": {
     "name": "#%% md\n"
    }
   },
   "source": [
    "Удалим все дубликаты кроме последнего по дате последнего визита человека объявления (last_seen), перед этим переведя в формат даты"
   ]
  },
  {
   "cell_type": "code",
   "execution_count": 16,
   "metadata": {
    "pycharm": {
     "name": "#%%\n"
    }
   },
   "outputs": [
    {
     "name": "stdout",
     "output_type": "stream",
     "text": [
      "<class 'pandas.core.frame.DataFrame'>\n",
      "Int64Index: 354365 entries, 0 to 354368\n",
      "Data columns (total 15 columns):\n",
      " #   Column              Non-Null Count   Dtype         \n",
      "---  ------              --------------   -----         \n",
      " 0   date_crawled        354365 non-null  object        \n",
      " 1   price               354365 non-null  int64         \n",
      " 2   vehicle_type        316875 non-null  object        \n",
      " 3   registration_year   354365 non-null  int64         \n",
      " 4   gearbox             334532 non-null  object        \n",
      " 5   power               354365 non-null  int64         \n",
      " 6   model               334660 non-null  object        \n",
      " 7   kilometer           354365 non-null  int64         \n",
      " 8   registration_month  354365 non-null  int64         \n",
      " 9   fuel_type           321470 non-null  object        \n",
      " 10  brand               354365 non-null  object        \n",
      " 11  repaired            283211 non-null  object        \n",
      " 12  date_created        354365 non-null  object        \n",
      " 13  postal_code         354365 non-null  int64         \n",
      " 14  last_seen           354365 non-null  datetime64[ns]\n",
      "dtypes: datetime64[ns](1), int64(6), object(8)\n",
      "memory usage: 43.3+ MB\n"
     ]
    }
   ],
   "source": [
    "df['last_seen'] = pd.to_datetime(df['last_seen'], format='%Y-%m-%d %H:%M:%S')\n",
    "df.info()"
   ]
  },
  {
   "cell_type": "code",
   "execution_count": 17,
   "metadata": {
    "pycharm": {
     "name": "#%%\n"
    }
   },
   "outputs": [
    {
     "data": {
      "text/plain": "               date_crawled  price vehicle_type  registration_year gearbox  \\\n296785  2016-03-05 14:07:08    550        small               2001  manual   \n262341  2016-03-05 14:08:46   9000        sedan               2011  manual   \n130462  2016-03-05 14:13:50   1200        wagon               2000  manual   \n285695  2016-03-05 14:18:30   2850        sedan               1990     NaN   \n169065  2016-03-05 14:06:47    599        small               1997  manual   \n\n        power    model  kilometer  registration_month fuel_type  \\\n296785     75    corsa     150000                   5       NaN   \n262341    109  c_reihe      90000                   3  gasoline   \n130462    115   passat     150000                   5       NaN   \n285695      0    other     150000                   2    petrol   \n169065     50     polo     100000                   4    petrol   \n\n                brand repaired         date_created  postal_code  \\\n296785           opel      yes  2016-03-05 00:00:00        65232   \n262341          volvo       no  2016-03-04 00:00:00        61348   \n130462     volkswagen       no  2016-03-03 00:00:00        35606   \n285695  mercedes_benz       no  2016-03-03 00:00:00        35781   \n169065     volkswagen       no  2016-03-05 00:00:00        60489   \n\n                 last_seen  \n296785 2016-03-05 14:15:08  \n262341 2016-03-05 14:15:16  \n130462 2016-03-05 14:15:39  \n285695 2016-03-05 14:18:30  \n169065 2016-03-05 14:25:59  ",
      "text/html": "<div>\n<style scoped>\n    .dataframe tbody tr th:only-of-type {\n        vertical-align: middle;\n    }\n\n    .dataframe tbody tr th {\n        vertical-align: top;\n    }\n\n    .dataframe thead th {\n        text-align: right;\n    }\n</style>\n<table border=\"1\" class=\"dataframe\">\n  <thead>\n    <tr style=\"text-align: right;\">\n      <th></th>\n      <th>date_crawled</th>\n      <th>price</th>\n      <th>vehicle_type</th>\n      <th>registration_year</th>\n      <th>gearbox</th>\n      <th>power</th>\n      <th>model</th>\n      <th>kilometer</th>\n      <th>registration_month</th>\n      <th>fuel_type</th>\n      <th>brand</th>\n      <th>repaired</th>\n      <th>date_created</th>\n      <th>postal_code</th>\n      <th>last_seen</th>\n    </tr>\n  </thead>\n  <tbody>\n    <tr>\n      <th>296785</th>\n      <td>2016-03-05 14:07:08</td>\n      <td>550</td>\n      <td>small</td>\n      <td>2001</td>\n      <td>manual</td>\n      <td>75</td>\n      <td>corsa</td>\n      <td>150000</td>\n      <td>5</td>\n      <td>NaN</td>\n      <td>opel</td>\n      <td>yes</td>\n      <td>2016-03-05 00:00:00</td>\n      <td>65232</td>\n      <td>2016-03-05 14:15:08</td>\n    </tr>\n    <tr>\n      <th>262341</th>\n      <td>2016-03-05 14:08:46</td>\n      <td>9000</td>\n      <td>sedan</td>\n      <td>2011</td>\n      <td>manual</td>\n      <td>109</td>\n      <td>c_reihe</td>\n      <td>90000</td>\n      <td>3</td>\n      <td>gasoline</td>\n      <td>volvo</td>\n      <td>no</td>\n      <td>2016-03-04 00:00:00</td>\n      <td>61348</td>\n      <td>2016-03-05 14:15:16</td>\n    </tr>\n    <tr>\n      <th>130462</th>\n      <td>2016-03-05 14:13:50</td>\n      <td>1200</td>\n      <td>wagon</td>\n      <td>2000</td>\n      <td>manual</td>\n      <td>115</td>\n      <td>passat</td>\n      <td>150000</td>\n      <td>5</td>\n      <td>NaN</td>\n      <td>volkswagen</td>\n      <td>no</td>\n      <td>2016-03-03 00:00:00</td>\n      <td>35606</td>\n      <td>2016-03-05 14:15:39</td>\n    </tr>\n    <tr>\n      <th>285695</th>\n      <td>2016-03-05 14:18:30</td>\n      <td>2850</td>\n      <td>sedan</td>\n      <td>1990</td>\n      <td>NaN</td>\n      <td>0</td>\n      <td>other</td>\n      <td>150000</td>\n      <td>2</td>\n      <td>petrol</td>\n      <td>mercedes_benz</td>\n      <td>no</td>\n      <td>2016-03-03 00:00:00</td>\n      <td>35781</td>\n      <td>2016-03-05 14:18:30</td>\n    </tr>\n    <tr>\n      <th>169065</th>\n      <td>2016-03-05 14:06:47</td>\n      <td>599</td>\n      <td>small</td>\n      <td>1997</td>\n      <td>manual</td>\n      <td>50</td>\n      <td>polo</td>\n      <td>100000</td>\n      <td>4</td>\n      <td>petrol</td>\n      <td>volkswagen</td>\n      <td>no</td>\n      <td>2016-03-05 00:00:00</td>\n      <td>60489</td>\n      <td>2016-03-05 14:25:59</td>\n    </tr>\n  </tbody>\n</table>\n</div>"
     },
     "execution_count": 17,
     "metadata": {},
     "output_type": "execute_result"
    }
   ],
   "source": [
    "df = df.sort_values(by='last_seen', ascending=True)\n",
    "df.head()"
   ]
  },
  {
   "cell_type": "code",
   "execution_count": 18,
   "metadata": {
    "pycharm": {
     "name": "#%%\n"
    }
   },
   "outputs": [
    {
     "data": {
      "text/plain": "(319804, 15)"
     },
     "execution_count": 18,
     "metadata": {},
     "output_type": "execute_result"
    }
   ],
   "source": [
    "df = df.drop_duplicates(subset=columns_to_find_duplicates, keep='last')\n",
    "df.shape"
   ]
  },
  {
   "cell_type": "code",
   "execution_count": 19,
   "metadata": {
    "pycharm": {
     "name": "#%%\n"
    }
   },
   "outputs": [
    {
     "data": {
      "text/plain": "               date_crawled  price vehicle_type  registration_year gearbox  \\\n273438  2016-03-08 13:53:11   2349        sedan               2002  manual   \n302446  2016-03-07 23:52:53   4800        small               2008  manual   \n179311  2016-03-09 13:54:52   3000          NaN               2017    auto   \n257683  2016-03-11 14:49:52   4500        sedan               2003     NaN   \n26433   2016-03-11 17:41:36   4500          suv               2003     NaN   \n...                     ...    ...          ...                ...     ...   \n222512  2016-03-15 19:41:39  19500        sedan               2010     NaN   \n129749  2016-03-30 09:54:10   1600        sedan               1996  manual   \n14464   2016-04-04 23:48:00  12500        wagon               2007  manual   \n307303  2016-03-10 12:37:16    500          NaN               2016  manual   \n83735   2016-03-19 20:55:46  13000  convertible               2012    auto   \n\n        power     model  kilometer  registration_month fuel_type  \\\n273438    150       3er     150000                   3  gasoline   \n302446    120     other      80000                  12  gasoline   \n179311    160  xc_reihe     150000                   9  gasoline   \n257683      0   touareg     150000                   8  gasoline   \n26433       0   touareg     150000                   7  gasoline   \n...       ...       ...        ...                 ...       ...   \n222512    325  insignia      70000                  11    petrol   \n129749    102       3er     150000                   6    petrol   \n14464     170  e_klasse     150000                  11  gasoline   \n307303     75      golf     150000                  10       NaN   \n83735     160      golf      50000                   4    petrol   \n\n                brand repaired         date_created  postal_code  \\\n273438            bmw      NaN  2016-03-08 00:00:00         1067   \n302446     alfa_romeo      yes  2016-03-07 00:00:00         1067   \n179311          volvo      yes  2016-03-09 00:00:00         1067   \n257683     volkswagen      NaN  2016-03-11 00:00:00         1067   \n26433      volkswagen      NaN  2016-03-11 00:00:00         1067   \n...               ...      ...                  ...          ...   \n222512           opel       no  2016-03-15 00:00:00         1067   \n129749            bmw      NaN  2016-03-30 00:00:00         1067   \n14464   mercedes_benz       no  2016-04-04 00:00:00         1067   \n307303     volkswagen       no  2016-03-10 00:00:00         1067   \n83735      volkswagen       no  2016-03-19 00:00:00         1067   \n\n                 last_seen  \n273438 2016-03-08 13:53:11  \n302446 2016-03-09 15:18:36  \n179311 2016-03-10 09:44:31  \n257683 2016-03-11 14:49:52  \n26433  2016-03-11 17:41:36  \n...                    ...  \n222512 2016-04-06 23:15:21  \n129749 2016-04-07 00:17:45  \n14464  2016-04-07 04:16:54  \n307303 2016-04-07 04:46:11  \n83735  2016-04-07 10:17:45  \n\n[88 rows x 15 columns]",
      "text/html": "<div>\n<style scoped>\n    .dataframe tbody tr th:only-of-type {\n        vertical-align: middle;\n    }\n\n    .dataframe tbody tr th {\n        vertical-align: top;\n    }\n\n    .dataframe thead th {\n        text-align: right;\n    }\n</style>\n<table border=\"1\" class=\"dataframe\">\n  <thead>\n    <tr style=\"text-align: right;\">\n      <th></th>\n      <th>date_crawled</th>\n      <th>price</th>\n      <th>vehicle_type</th>\n      <th>registration_year</th>\n      <th>gearbox</th>\n      <th>power</th>\n      <th>model</th>\n      <th>kilometer</th>\n      <th>registration_month</th>\n      <th>fuel_type</th>\n      <th>brand</th>\n      <th>repaired</th>\n      <th>date_created</th>\n      <th>postal_code</th>\n      <th>last_seen</th>\n    </tr>\n  </thead>\n  <tbody>\n    <tr>\n      <th>273438</th>\n      <td>2016-03-08 13:53:11</td>\n      <td>2349</td>\n      <td>sedan</td>\n      <td>2002</td>\n      <td>manual</td>\n      <td>150</td>\n      <td>3er</td>\n      <td>150000</td>\n      <td>3</td>\n      <td>gasoline</td>\n      <td>bmw</td>\n      <td>NaN</td>\n      <td>2016-03-08 00:00:00</td>\n      <td>1067</td>\n      <td>2016-03-08 13:53:11</td>\n    </tr>\n    <tr>\n      <th>302446</th>\n      <td>2016-03-07 23:52:53</td>\n      <td>4800</td>\n      <td>small</td>\n      <td>2008</td>\n      <td>manual</td>\n      <td>120</td>\n      <td>other</td>\n      <td>80000</td>\n      <td>12</td>\n      <td>gasoline</td>\n      <td>alfa_romeo</td>\n      <td>yes</td>\n      <td>2016-03-07 00:00:00</td>\n      <td>1067</td>\n      <td>2016-03-09 15:18:36</td>\n    </tr>\n    <tr>\n      <th>179311</th>\n      <td>2016-03-09 13:54:52</td>\n      <td>3000</td>\n      <td>NaN</td>\n      <td>2017</td>\n      <td>auto</td>\n      <td>160</td>\n      <td>xc_reihe</td>\n      <td>150000</td>\n      <td>9</td>\n      <td>gasoline</td>\n      <td>volvo</td>\n      <td>yes</td>\n      <td>2016-03-09 00:00:00</td>\n      <td>1067</td>\n      <td>2016-03-10 09:44:31</td>\n    </tr>\n    <tr>\n      <th>257683</th>\n      <td>2016-03-11 14:49:52</td>\n      <td>4500</td>\n      <td>sedan</td>\n      <td>2003</td>\n      <td>NaN</td>\n      <td>0</td>\n      <td>touareg</td>\n      <td>150000</td>\n      <td>8</td>\n      <td>gasoline</td>\n      <td>volkswagen</td>\n      <td>NaN</td>\n      <td>2016-03-11 00:00:00</td>\n      <td>1067</td>\n      <td>2016-03-11 14:49:52</td>\n    </tr>\n    <tr>\n      <th>26433</th>\n      <td>2016-03-11 17:41:36</td>\n      <td>4500</td>\n      <td>suv</td>\n      <td>2003</td>\n      <td>NaN</td>\n      <td>0</td>\n      <td>touareg</td>\n      <td>150000</td>\n      <td>7</td>\n      <td>gasoline</td>\n      <td>volkswagen</td>\n      <td>NaN</td>\n      <td>2016-03-11 00:00:00</td>\n      <td>1067</td>\n      <td>2016-03-11 17:41:36</td>\n    </tr>\n    <tr>\n      <th>...</th>\n      <td>...</td>\n      <td>...</td>\n      <td>...</td>\n      <td>...</td>\n      <td>...</td>\n      <td>...</td>\n      <td>...</td>\n      <td>...</td>\n      <td>...</td>\n      <td>...</td>\n      <td>...</td>\n      <td>...</td>\n      <td>...</td>\n      <td>...</td>\n      <td>...</td>\n    </tr>\n    <tr>\n      <th>222512</th>\n      <td>2016-03-15 19:41:39</td>\n      <td>19500</td>\n      <td>sedan</td>\n      <td>2010</td>\n      <td>NaN</td>\n      <td>325</td>\n      <td>insignia</td>\n      <td>70000</td>\n      <td>11</td>\n      <td>petrol</td>\n      <td>opel</td>\n      <td>no</td>\n      <td>2016-03-15 00:00:00</td>\n      <td>1067</td>\n      <td>2016-04-06 23:15:21</td>\n    </tr>\n    <tr>\n      <th>129749</th>\n      <td>2016-03-30 09:54:10</td>\n      <td>1600</td>\n      <td>sedan</td>\n      <td>1996</td>\n      <td>manual</td>\n      <td>102</td>\n      <td>3er</td>\n      <td>150000</td>\n      <td>6</td>\n      <td>petrol</td>\n      <td>bmw</td>\n      <td>NaN</td>\n      <td>2016-03-30 00:00:00</td>\n      <td>1067</td>\n      <td>2016-04-07 00:17:45</td>\n    </tr>\n    <tr>\n      <th>14464</th>\n      <td>2016-04-04 23:48:00</td>\n      <td>12500</td>\n      <td>wagon</td>\n      <td>2007</td>\n      <td>manual</td>\n      <td>170</td>\n      <td>e_klasse</td>\n      <td>150000</td>\n      <td>11</td>\n      <td>gasoline</td>\n      <td>mercedes_benz</td>\n      <td>no</td>\n      <td>2016-04-04 00:00:00</td>\n      <td>1067</td>\n      <td>2016-04-07 04:16:54</td>\n    </tr>\n    <tr>\n      <th>307303</th>\n      <td>2016-03-10 12:37:16</td>\n      <td>500</td>\n      <td>NaN</td>\n      <td>2016</td>\n      <td>manual</td>\n      <td>75</td>\n      <td>golf</td>\n      <td>150000</td>\n      <td>10</td>\n      <td>NaN</td>\n      <td>volkswagen</td>\n      <td>no</td>\n      <td>2016-03-10 00:00:00</td>\n      <td>1067</td>\n      <td>2016-04-07 04:46:11</td>\n    </tr>\n    <tr>\n      <th>83735</th>\n      <td>2016-03-19 20:55:46</td>\n      <td>13000</td>\n      <td>convertible</td>\n      <td>2012</td>\n      <td>auto</td>\n      <td>160</td>\n      <td>golf</td>\n      <td>50000</td>\n      <td>4</td>\n      <td>petrol</td>\n      <td>volkswagen</td>\n      <td>no</td>\n      <td>2016-03-19 00:00:00</td>\n      <td>1067</td>\n      <td>2016-04-07 10:17:45</td>\n    </tr>\n  </tbody>\n</table>\n<p>88 rows × 15 columns</p>\n</div>"
     },
     "execution_count": 19,
     "metadata": {},
     "output_type": "execute_result"
    }
   ],
   "source": [
    "df.loc[df['postal_code'] == 1067]"
   ]
  },
  {
   "cell_type": "markdown",
   "metadata": {
    "pycharm": {
     "name": "#%% md\n"
    }
   },
   "source": [
    "Из всех бэх 2006 года от этого пользователя оставлен тот самый автомобиль с индексом 293060. Обновим индексы в датафрейме и пойдем дальше."
   ]
  },
  {
   "cell_type": "code",
   "execution_count": 20,
   "metadata": {
    "pycharm": {
     "name": "#%%\n"
    }
   },
   "outputs": [],
   "source": [
    "df = df.reset_index(drop=True)"
   ]
  },
  {
   "cell_type": "code",
   "execution_count": 21,
   "metadata": {
    "pycharm": {
     "name": "#%%\n"
    }
   },
   "outputs": [
    {
     "name": "stdout",
     "output_type": "stream",
     "text": [
      "Кол-во явных дубликатов: 0\n",
      "\n",
      "<class 'pandas.core.frame.DataFrame'>\n",
      "RangeIndex: 319804 entries, 0 to 319803\n",
      "Data columns (total 15 columns):\n",
      " #   Column              Non-Null Count   Dtype         \n",
      "---  ------              --------------   -----         \n",
      " 0   date_crawled        319804 non-null  object        \n",
      " 1   price               319804 non-null  int64         \n",
      " 2   vehicle_type        284589 non-null  object        \n",
      " 3   registration_year   319804 non-null  int64         \n",
      " 4   gearbox             301159 non-null  object        \n",
      " 5   power               319804 non-null  int64         \n",
      " 6   model               301223 non-null  object        \n",
      " 7   kilometer           319804 non-null  int64         \n",
      " 8   registration_month  319804 non-null  int64         \n",
      " 9   fuel_type           288524 non-null  object        \n",
      " 10  brand               319804 non-null  object        \n",
      " 11  repaired            253969 non-null  object        \n",
      " 12  date_created        319804 non-null  object        \n",
      " 13  postal_code         319804 non-null  int64         \n",
      " 14  last_seen           319804 non-null  datetime64[ns]\n",
      "dtypes: datetime64[ns](1), int64(6), object(8)\n",
      "memory usage: 36.6+ MB\n"
     ]
    },
    {
     "data": {
      "text/plain": "None"
     },
     "metadata": {},
     "output_type": "display_data"
    },
    {
     "data": {
      "text/plain": "               price  registration_year          power      kilometer  \\\ncount  319804.000000      319804.000000  319804.000000  319804.000000   \nmean     4372.076147        2004.167621     109.723021  128170.082300   \nstd      4506.756846          89.933514     197.917405   38028.567617   \nmin         0.000000        1000.000000       0.000000    5000.000000   \n25%      1000.000000        1999.000000      68.000000  125000.000000   \n50%      2684.500000        2003.000000     103.000000  150000.000000   \n75%      6290.000000        2008.000000     140.000000  150000.000000   \nmax     20000.000000        9999.000000   20000.000000  150000.000000   \n\n       registration_month    postal_code  \ncount       319804.000000  319804.000000  \nmean             5.682152   50787.751035  \nstd              3.729331   25841.650707  \nmin              0.000000    1067.000000  \n25%              3.000000   30419.000000  \n50%              6.000000   49525.000000  \n75%              9.000000   71573.000000  \nmax             12.000000   99998.000000  ",
      "text/html": "<div>\n<style scoped>\n    .dataframe tbody tr th:only-of-type {\n        vertical-align: middle;\n    }\n\n    .dataframe tbody tr th {\n        vertical-align: top;\n    }\n\n    .dataframe thead th {\n        text-align: right;\n    }\n</style>\n<table border=\"1\" class=\"dataframe\">\n  <thead>\n    <tr style=\"text-align: right;\">\n      <th></th>\n      <th>price</th>\n      <th>registration_year</th>\n      <th>power</th>\n      <th>kilometer</th>\n      <th>registration_month</th>\n      <th>postal_code</th>\n    </tr>\n  </thead>\n  <tbody>\n    <tr>\n      <th>count</th>\n      <td>319804.000000</td>\n      <td>319804.000000</td>\n      <td>319804.000000</td>\n      <td>319804.000000</td>\n      <td>319804.000000</td>\n      <td>319804.000000</td>\n    </tr>\n    <tr>\n      <th>mean</th>\n      <td>4372.076147</td>\n      <td>2004.167621</td>\n      <td>109.723021</td>\n      <td>128170.082300</td>\n      <td>5.682152</td>\n      <td>50787.751035</td>\n    </tr>\n    <tr>\n      <th>std</th>\n      <td>4506.756846</td>\n      <td>89.933514</td>\n      <td>197.917405</td>\n      <td>38028.567617</td>\n      <td>3.729331</td>\n      <td>25841.650707</td>\n    </tr>\n    <tr>\n      <th>min</th>\n      <td>0.000000</td>\n      <td>1000.000000</td>\n      <td>0.000000</td>\n      <td>5000.000000</td>\n      <td>0.000000</td>\n      <td>1067.000000</td>\n    </tr>\n    <tr>\n      <th>25%</th>\n      <td>1000.000000</td>\n      <td>1999.000000</td>\n      <td>68.000000</td>\n      <td>125000.000000</td>\n      <td>3.000000</td>\n      <td>30419.000000</td>\n    </tr>\n    <tr>\n      <th>50%</th>\n      <td>2684.500000</td>\n      <td>2003.000000</td>\n      <td>103.000000</td>\n      <td>150000.000000</td>\n      <td>6.000000</td>\n      <td>49525.000000</td>\n    </tr>\n    <tr>\n      <th>75%</th>\n      <td>6290.000000</td>\n      <td>2008.000000</td>\n      <td>140.000000</td>\n      <td>150000.000000</td>\n      <td>9.000000</td>\n      <td>71573.000000</td>\n    </tr>\n    <tr>\n      <th>max</th>\n      <td>20000.000000</td>\n      <td>9999.000000</td>\n      <td>20000.000000</td>\n      <td>150000.000000</td>\n      <td>12.000000</td>\n      <td>99998.000000</td>\n    </tr>\n  </tbody>\n</table>\n</div>"
     },
     "metadata": {},
     "output_type": "display_data"
    },
    {
     "data": {
      "text/plain": "'Кол-во пропусков:'"
     },
     "metadata": {},
     "output_type": "display_data"
    },
    {
     "data": {
      "text/plain": "date_crawled              0\nprice                     0\nvehicle_type          35215\nregistration_year         0\ngearbox               18645\npower                     0\nmodel                 18581\nkilometer                 0\nregistration_month        0\nfuel_type             31280\nbrand                     0\nrepaired              65835\ndate_created              0\npostal_code               0\nlast_seen                 0\ndtype: int64"
     },
     "metadata": {},
     "output_type": "display_data"
    }
   ],
   "source": [
    "get_info(df)"
   ]
  },
  {
   "cell_type": "markdown",
   "metadata": {
    "pycharm": {
     "name": "#%% md\n"
    }
   },
   "source": [
    "Пропуски в столбце модель мы никак не сможем заменить, так как эти данные нам не узнать никак. уберем эти строки\n"
   ]
  },
  {
   "cell_type": "code",
   "execution_count": 22,
   "metadata": {
    "pycharm": {
     "name": "#%%\n"
    }
   },
   "outputs": [
    {
     "data": {
      "text/plain": "(301223, 15)"
     },
     "execution_count": 22,
     "metadata": {},
     "output_type": "execute_result"
    }
   ],
   "source": [
    "df = df.dropna(subset=['model']).reset_index(drop=True)\n",
    "df.shape"
   ]
  },
  {
   "cell_type": "markdown",
   "metadata": {
    "pycharm": {
     "name": "#%% md\n"
    }
   },
   "source": [
    "В столбце vehicle_type пропуски сделаем еще одним типом.\n",
    "gearbox - заменим на более популярную\n",
    "fuel_type - объединить и оставшиеся записать в бензин\n",
    "repaired - посмотреть % и кол-во машин, которые были в аварии и оттуда отталкиваться"
   ]
  },
  {
   "cell_type": "code",
   "execution_count": 23,
   "metadata": {
    "pycharm": {
     "name": "#%%\n"
    }
   },
   "outputs": [
    {
     "data": {
      "text/plain": "          count         mean\n          price        price\ngearbox                     \nauto      56217  6838.205881\nmanual   230255  4013.609120",
      "text/html": "<div>\n<style scoped>\n    .dataframe tbody tr th:only-of-type {\n        vertical-align: middle;\n    }\n\n    .dataframe tbody tr th {\n        vertical-align: top;\n    }\n\n    .dataframe thead tr th {\n        text-align: left;\n    }\n\n    .dataframe thead tr:last-of-type th {\n        text-align: right;\n    }\n</style>\n<table border=\"1\" class=\"dataframe\">\n  <thead>\n    <tr>\n      <th></th>\n      <th>count</th>\n      <th>mean</th>\n    </tr>\n    <tr>\n      <th></th>\n      <th>price</th>\n      <th>price</th>\n    </tr>\n    <tr>\n      <th>gearbox</th>\n      <th></th>\n      <th></th>\n    </tr>\n  </thead>\n  <tbody>\n    <tr>\n      <th>auto</th>\n      <td>56217</td>\n      <td>6838.205881</td>\n    </tr>\n    <tr>\n      <th>manual</th>\n      <td>230255</td>\n      <td>4013.609120</td>\n    </tr>\n  </tbody>\n</table>\n</div>"
     },
     "execution_count": 23,
     "metadata": {},
     "output_type": "execute_result"
    }
   ],
   "source": [
    "(pd.pivot_table(df, index='gearbox', values='price', aggfunc=[\"count\", 'mean', ]))"
   ]
  },
  {
   "cell_type": "markdown",
   "metadata": {
    "pycharm": {
     "name": "#%% md\n"
    }
   },
   "source": [
    "Заменим все на manual"
   ]
  },
  {
   "cell_type": "code",
   "execution_count": 24,
   "metadata": {
    "pycharm": {
     "name": "#%%\n"
    }
   },
   "outputs": [
    {
     "data": {
      "text/plain": "0"
     },
     "execution_count": 24,
     "metadata": {},
     "output_type": "execute_result"
    }
   ],
   "source": [
    "df['gearbox'] = df['gearbox'].fillna('manual')\n",
    "df['gearbox'].isna().sum()"
   ]
  },
  {
   "cell_type": "code",
   "execution_count": 25,
   "metadata": {
    "pycharm": {
     "name": "#%%\n"
    }
   },
   "outputs": [
    {
     "data": {
      "text/plain": "            count         mean\n            price        price\nfuel_type                     \ncng           500  4339.374000\nelectric       65  7272.015385\ngasoline    85362  6559.718985\nhybrid        200  9209.405000\nlpg          4429  3934.599007\nother         129  2584.333333\npetrol     186055  3776.186617",
      "text/html": "<div>\n<style scoped>\n    .dataframe tbody tr th:only-of-type {\n        vertical-align: middle;\n    }\n\n    .dataframe tbody tr th {\n        vertical-align: top;\n    }\n\n    .dataframe thead tr th {\n        text-align: left;\n    }\n\n    .dataframe thead tr:last-of-type th {\n        text-align: right;\n    }\n</style>\n<table border=\"1\" class=\"dataframe\">\n  <thead>\n    <tr>\n      <th></th>\n      <th>count</th>\n      <th>mean</th>\n    </tr>\n    <tr>\n      <th></th>\n      <th>price</th>\n      <th>price</th>\n    </tr>\n    <tr>\n      <th>fuel_type</th>\n      <th></th>\n      <th></th>\n    </tr>\n  </thead>\n  <tbody>\n    <tr>\n      <th>cng</th>\n      <td>500</td>\n      <td>4339.374000</td>\n    </tr>\n    <tr>\n      <th>electric</th>\n      <td>65</td>\n      <td>7272.015385</td>\n    </tr>\n    <tr>\n      <th>gasoline</th>\n      <td>85362</td>\n      <td>6559.718985</td>\n    </tr>\n    <tr>\n      <th>hybrid</th>\n      <td>200</td>\n      <td>9209.405000</td>\n    </tr>\n    <tr>\n      <th>lpg</th>\n      <td>4429</td>\n      <td>3934.599007</td>\n    </tr>\n    <tr>\n      <th>other</th>\n      <td>129</td>\n      <td>2584.333333</td>\n    </tr>\n    <tr>\n      <th>petrol</th>\n      <td>186055</td>\n      <td>3776.186617</td>\n    </tr>\n  </tbody>\n</table>\n</div>"
     },
     "execution_count": 25,
     "metadata": {},
     "output_type": "execute_result"
    }
   ],
   "source": [
    "(pd.pivot_table(df, index='fuel_type', values='price', aggfunc=[\"count\", 'mean', ]))"
   ]
  },
  {
   "cell_type": "markdown",
   "metadata": {
    "pycharm": {
     "name": "#%% md\n"
    }
   },
   "source": [
    "В столбце тип топлива указано 8 типов топлива. Но некоторые из них можно объединить. Например cng и lpg - это газ, а gasoline и petrol - это бензин (на английском языке gasoline означает автомобильный бензин)."
   ]
  },
  {
   "cell_type": "code",
   "execution_count": 26,
   "metadata": {
    "pycharm": {
     "name": "#%%\n"
    }
   },
   "outputs": [
    {
     "data": {
      "text/plain": "            count         mean\n            price        price\nfuel_type                     \nelectric       65  7272.015385\ngas          4929  3975.659566\nhybrid        200  9209.405000\nother         129  2584.333333\npetrol     271417  4651.621428",
      "text/html": "<div>\n<style scoped>\n    .dataframe tbody tr th:only-of-type {\n        vertical-align: middle;\n    }\n\n    .dataframe tbody tr th {\n        vertical-align: top;\n    }\n\n    .dataframe thead tr th {\n        text-align: left;\n    }\n\n    .dataframe thead tr:last-of-type th {\n        text-align: right;\n    }\n</style>\n<table border=\"1\" class=\"dataframe\">\n  <thead>\n    <tr>\n      <th></th>\n      <th>count</th>\n      <th>mean</th>\n    </tr>\n    <tr>\n      <th></th>\n      <th>price</th>\n      <th>price</th>\n    </tr>\n    <tr>\n      <th>fuel_type</th>\n      <th></th>\n      <th></th>\n    </tr>\n  </thead>\n  <tbody>\n    <tr>\n      <th>electric</th>\n      <td>65</td>\n      <td>7272.015385</td>\n    </tr>\n    <tr>\n      <th>gas</th>\n      <td>4929</td>\n      <td>3975.659566</td>\n    </tr>\n    <tr>\n      <th>hybrid</th>\n      <td>200</td>\n      <td>9209.405000</td>\n    </tr>\n    <tr>\n      <th>other</th>\n      <td>129</td>\n      <td>2584.333333</td>\n    </tr>\n    <tr>\n      <th>petrol</th>\n      <td>271417</td>\n      <td>4651.621428</td>\n    </tr>\n  </tbody>\n</table>\n</div>"
     },
     "execution_count": 26,
     "metadata": {},
     "output_type": "execute_result"
    }
   ],
   "source": [
    "df['fuel_type'] = df['fuel_type'].replace(['cng', 'lpg', 'gasoline'], ['gas', 'gas', 'petrol'])\n",
    "(pd.pivot_table(df, index='fuel_type', values='price', aggfunc=[\"count\", 'mean', ]))"
   ]
  },
  {
   "cell_type": "markdown",
   "metadata": {
    "pycharm": {
     "name": "#%% md\n"
    }
   },
   "source": [
    "Так как большинство значений - это бензин, заменим все пропуски бензином."
   ]
  },
  {
   "cell_type": "code",
   "execution_count": 27,
   "metadata": {
    "pycharm": {
     "name": "#%%\n"
    }
   },
   "outputs": [
    {
     "data": {
      "text/plain": "0"
     },
     "execution_count": 27,
     "metadata": {},
     "output_type": "execute_result"
    }
   ],
   "source": [
    "df['fuel_type'] = df['fuel_type'].fillna(value='petrol')\n",
    "df['fuel_type'].isna().sum()"
   ]
  },
  {
   "cell_type": "code",
   "execution_count": 28,
   "metadata": {
    "pycharm": {
     "name": "#%%\n"
    }
   },
   "outputs": [
    {
     "data": {
      "text/plain": "date_crawled              0\nprice                     0\nvehicle_type          28749\nregistration_year         0\ngearbox                   0\npower                     0\nmodel                     0\nkilometer                 0\nregistration_month        0\nfuel_type                 0\nbrand                     0\nrepaired              57295\ndate_created              0\npostal_code               0\nlast_seen                 0\ndtype: int64"
     },
     "execution_count": 28,
     "metadata": {},
     "output_type": "execute_result"
    }
   ],
   "source": [
    "df.isna().sum()"
   ]
  },
  {
   "cell_type": "markdown",
   "source": [
    "Посмотрим на типы кузова"
   ],
   "metadata": {
    "collapsed": false,
    "pycharm": {
     "name": "#%% md\n"
    }
   }
  },
  {
   "cell_type": "code",
   "execution_count": 29,
   "metadata": {
    "pycharm": {
     "name": "#%%\n"
    }
   },
   "outputs": [
    {
     "data": {
      "text/plain": "              count         mean\n              price        price\nvehicle_type                    \nbus           25184  5485.566749\nconvertible   17470  6877.909845\ncoupe         13826  6011.666860\nother          2670  3613.552060\nsedan         78806  4736.576999\nsmall         68414  2709.511971\nsuv            9997  8988.326998\nwagon         56107  4889.081915",
      "text/html": "<div>\n<style scoped>\n    .dataframe tbody tr th:only-of-type {\n        vertical-align: middle;\n    }\n\n    .dataframe tbody tr th {\n        vertical-align: top;\n    }\n\n    .dataframe thead tr th {\n        text-align: left;\n    }\n\n    .dataframe thead tr:last-of-type th {\n        text-align: right;\n    }\n</style>\n<table border=\"1\" class=\"dataframe\">\n  <thead>\n    <tr>\n      <th></th>\n      <th>count</th>\n      <th>mean</th>\n    </tr>\n    <tr>\n      <th></th>\n      <th>price</th>\n      <th>price</th>\n    </tr>\n    <tr>\n      <th>vehicle_type</th>\n      <th></th>\n      <th></th>\n    </tr>\n  </thead>\n  <tbody>\n    <tr>\n      <th>bus</th>\n      <td>25184</td>\n      <td>5485.566749</td>\n    </tr>\n    <tr>\n      <th>convertible</th>\n      <td>17470</td>\n      <td>6877.909845</td>\n    </tr>\n    <tr>\n      <th>coupe</th>\n      <td>13826</td>\n      <td>6011.666860</td>\n    </tr>\n    <tr>\n      <th>other</th>\n      <td>2670</td>\n      <td>3613.552060</td>\n    </tr>\n    <tr>\n      <th>sedan</th>\n      <td>78806</td>\n      <td>4736.576999</td>\n    </tr>\n    <tr>\n      <th>small</th>\n      <td>68414</td>\n      <td>2709.511971</td>\n    </tr>\n    <tr>\n      <th>suv</th>\n      <td>9997</td>\n      <td>8988.326998</td>\n    </tr>\n    <tr>\n      <th>wagon</th>\n      <td>56107</td>\n      <td>4889.081915</td>\n    </tr>\n  </tbody>\n</table>\n</div>"
     },
     "execution_count": 29,
     "metadata": {},
     "output_type": "execute_result"
    }
   ],
   "source": [
    "(pd.pivot_table(df, index='vehicle_type', values='price', aggfunc=[\"count\", 'mean', ]))"
   ]
  },
  {
   "cell_type": "markdown",
   "metadata": {
    "pycharm": {
     "name": "#%% md\n"
    }
   },
   "source": [
    "Так как уже имеется тип кузова other, присвоим пропускам занчения other"
   ]
  },
  {
   "cell_type": "code",
   "execution_count": 30,
   "metadata": {
    "pycharm": {
     "name": "#%%\n"
    }
   },
   "outputs": [
    {
     "data": {
      "text/plain": "              count         mean\n              price        price\nvehicle_type                    \nbus           25184  5485.566749\nconvertible   17470  6877.909845\ncoupe         13826  6011.666860\nother         31419  2534.020465\nsedan         78806  4736.576999\nsmall         68414  2709.511971\nsuv            9997  8988.326998\nwagon         56107  4889.081915",
      "text/html": "<div>\n<style scoped>\n    .dataframe tbody tr th:only-of-type {\n        vertical-align: middle;\n    }\n\n    .dataframe tbody tr th {\n        vertical-align: top;\n    }\n\n    .dataframe thead tr th {\n        text-align: left;\n    }\n\n    .dataframe thead tr:last-of-type th {\n        text-align: right;\n    }\n</style>\n<table border=\"1\" class=\"dataframe\">\n  <thead>\n    <tr>\n      <th></th>\n      <th>count</th>\n      <th>mean</th>\n    </tr>\n    <tr>\n      <th></th>\n      <th>price</th>\n      <th>price</th>\n    </tr>\n    <tr>\n      <th>vehicle_type</th>\n      <th></th>\n      <th></th>\n    </tr>\n  </thead>\n  <tbody>\n    <tr>\n      <th>bus</th>\n      <td>25184</td>\n      <td>5485.566749</td>\n    </tr>\n    <tr>\n      <th>convertible</th>\n      <td>17470</td>\n      <td>6877.909845</td>\n    </tr>\n    <tr>\n      <th>coupe</th>\n      <td>13826</td>\n      <td>6011.666860</td>\n    </tr>\n    <tr>\n      <th>other</th>\n      <td>31419</td>\n      <td>2534.020465</td>\n    </tr>\n    <tr>\n      <th>sedan</th>\n      <td>78806</td>\n      <td>4736.576999</td>\n    </tr>\n    <tr>\n      <th>small</th>\n      <td>68414</td>\n      <td>2709.511971</td>\n    </tr>\n    <tr>\n      <th>suv</th>\n      <td>9997</td>\n      <td>8988.326998</td>\n    </tr>\n    <tr>\n      <th>wagon</th>\n      <td>56107</td>\n      <td>4889.081915</td>\n    </tr>\n  </tbody>\n</table>\n</div>"
     },
     "execution_count": 30,
     "metadata": {},
     "output_type": "execute_result"
    }
   ],
   "source": [
    "df['vehicle_type'] = df['vehicle_type'].fillna('other')\n",
    "(pd.pivot_table(df, index='vehicle_type', values='price', aggfunc=[\"count\", 'mean', ]))"
   ]
  },
  {
   "cell_type": "markdown",
   "source": [
    "Посмотрим на данные о ремонте машин"
   ],
   "metadata": {
    "collapsed": false,
    "pycharm": {
     "name": "#%% md\n"
    }
   }
  },
  {
   "cell_type": "code",
   "execution_count": 31,
   "metadata": {
    "pycharm": {
     "name": "#%%\n"
    }
   },
   "outputs": [
    {
     "data": {
      "text/plain": "           count         mean median\n           price        price  price\nrepaired                            \nno        212548  5306.202486   3699\nyes        31380  1953.692575    950",
      "text/html": "<div>\n<style scoped>\n    .dataframe tbody tr th:only-of-type {\n        vertical-align: middle;\n    }\n\n    .dataframe tbody tr th {\n        vertical-align: top;\n    }\n\n    .dataframe thead tr th {\n        text-align: left;\n    }\n\n    .dataframe thead tr:last-of-type th {\n        text-align: right;\n    }\n</style>\n<table border=\"1\" class=\"dataframe\">\n  <thead>\n    <tr>\n      <th></th>\n      <th>count</th>\n      <th>mean</th>\n      <th>median</th>\n    </tr>\n    <tr>\n      <th></th>\n      <th>price</th>\n      <th>price</th>\n      <th>price</th>\n    </tr>\n    <tr>\n      <th>repaired</th>\n      <th></th>\n      <th></th>\n      <th></th>\n    </tr>\n  </thead>\n  <tbody>\n    <tr>\n      <th>no</th>\n      <td>212548</td>\n      <td>5306.202486</td>\n      <td>3699</td>\n    </tr>\n    <tr>\n      <th>yes</th>\n      <td>31380</td>\n      <td>1953.692575</td>\n      <td>950</td>\n    </tr>\n  </tbody>\n</table>\n</div>"
     },
     "execution_count": 31,
     "metadata": {},
     "output_type": "execute_result"
    }
   ],
   "source": [
    "(pd.pivot_table(df, index='repaired', values='price', aggfunc=[\"count\", 'mean', 'median']))"
   ]
  },
  {
   "cell_type": "code",
   "execution_count": 32,
   "metadata": {
    "pycharm": {
     "name": "#%%\n"
    }
   },
   "outputs": [
    {
     "data": {
      "text/plain": "median    1448.000000\nmean      2700.357047\nName: price, dtype: float64"
     },
     "execution_count": 32,
     "metadata": {},
     "output_type": "execute_result"
    }
   ],
   "source": [
    "(df.query('repaired.isna()')['price'].apply(['median', 'mean']))"
   ]
  },
  {
   "cell_type": "markdown",
   "metadata": {
    "pycharm": {
     "name": "#%% md\n"
    }
   },
   "source": [
    "Как видим, мы не можем точно определить эти машины ни к ремонтированным ни к неремонтаированным. Придется сделать третье значение 'unknown'"
   ]
  },
  {
   "cell_type": "code",
   "execution_count": 33,
   "metadata": {
    "pycharm": {
     "name": "#%%\n"
    },
    "scrolled": true
   },
   "outputs": [
    {
     "data": {
      "text/plain": "date_crawled          0\nprice                 0\nvehicle_type          0\nregistration_year     0\ngearbox               0\npower                 0\nmodel                 0\nkilometer             0\nregistration_month    0\nfuel_type             0\nbrand                 0\nrepaired              0\ndate_created          0\npostal_code           0\nlast_seen             0\ndtype: int64"
     },
     "execution_count": 33,
     "metadata": {},
     "output_type": "execute_result"
    }
   ],
   "source": [
    "df['repaired'] = df['repaired'].fillna('unknown')\n",
    "df.isna().sum()"
   ]
  },
  {
   "cell_type": "markdown",
   "metadata": {
    "pycharm": {
     "name": "#%% md\n"
    }
   },
   "source": [
    "Мы обработали все пропуски."
   ]
  },
  {
   "cell_type": "code",
   "execution_count": 34,
   "metadata": {
    "pycharm": {
     "name": "#%%\n"
    }
   },
   "outputs": [
    {
     "data": {
      "text/plain": "               date_crawled  price vehicle_type  registration_year gearbox  \\\n267471  2016-03-30 11:53:51   3800  convertible               1990  manual   \n123315  2016-03-25 14:39:29  13500        sedan               2013  manual   \n179419  2016-03-07 15:53:22   3800        other               2004  manual   \n150179  2016-04-04 15:43:04   1250        wagon               1997  manual   \n271019  2016-03-11 11:53:26    850        small               2002  manual   \n230686  2016-04-04 12:45:50   4500        other               2017    auto   \n71966   2016-03-21 23:40:50   5000        wagon               2008    auto   \n2744    2016-03-07 17:56:54    700        coupe               1999  manual   \n233348  2016-03-29 22:54:27  15900  convertible               2008  manual   \n11308   2016-03-09 11:58:36    150        other               2000  manual   \n\n        power   model  kilometer  registration_month fuel_type       brand  \\\n267471     98    golf     150000                   7    petrol  volkswagen   \n123315    105    leon      60000                  10    petrol        seat   \n179419    136   other       5000                   0    petrol     peugeot   \n150179    101  passat     150000                  12    petrol  volkswagen   \n271019     60   other     150000                   0    petrol     citroen   \n230686    126     5er     150000                   3    petrol         bmw   \n71966     140  mondeo     150000                   9    petrol        ford   \n2744      101   astra     150000                  10    petrol        opel   \n233348    163      a4      90000                   6    petrol        audi   \n11308       0   corsa       5000                   0    petrol        opel   \n\n       repaired         date_created  postal_code           last_seen  \n267471       no  2016-03-30 00:00:00        56729 2016-04-07 02:45:05  \n123315       no  2016-03-25 00:00:00        64665 2016-03-31 21:47:42  \n179419  unknown  2016-03-07 00:00:00        60389 2016-04-05 19:44:40  \n150179       no  2016-04-04 00:00:00        27753 2016-04-04 15:43:04  \n271019  unknown  2016-03-11 00:00:00         6308 2016-04-07 03:46:16  \n230686  unknown  2016-04-04 00:00:00        47574 2016-04-06 13:45:36  \n71966   unknown  2016-03-21 00:00:00        26197 2016-03-23 06:44:55  \n2744         no  2016-03-07 00:00:00        12529 2016-03-07 17:56:54  \n233348       no  2016-03-29 00:00:00        85120 2016-04-06 14:45:32  \n11308   unknown  2016-03-09 00:00:00        63477 2016-03-10 18:15:21  ",
      "text/html": "<div>\n<style scoped>\n    .dataframe tbody tr th:only-of-type {\n        vertical-align: middle;\n    }\n\n    .dataframe tbody tr th {\n        vertical-align: top;\n    }\n\n    .dataframe thead th {\n        text-align: right;\n    }\n</style>\n<table border=\"1\" class=\"dataframe\">\n  <thead>\n    <tr style=\"text-align: right;\">\n      <th></th>\n      <th>date_crawled</th>\n      <th>price</th>\n      <th>vehicle_type</th>\n      <th>registration_year</th>\n      <th>gearbox</th>\n      <th>power</th>\n      <th>model</th>\n      <th>kilometer</th>\n      <th>registration_month</th>\n      <th>fuel_type</th>\n      <th>brand</th>\n      <th>repaired</th>\n      <th>date_created</th>\n      <th>postal_code</th>\n      <th>last_seen</th>\n    </tr>\n  </thead>\n  <tbody>\n    <tr>\n      <th>267471</th>\n      <td>2016-03-30 11:53:51</td>\n      <td>3800</td>\n      <td>convertible</td>\n      <td>1990</td>\n      <td>manual</td>\n      <td>98</td>\n      <td>golf</td>\n      <td>150000</td>\n      <td>7</td>\n      <td>petrol</td>\n      <td>volkswagen</td>\n      <td>no</td>\n      <td>2016-03-30 00:00:00</td>\n      <td>56729</td>\n      <td>2016-04-07 02:45:05</td>\n    </tr>\n    <tr>\n      <th>123315</th>\n      <td>2016-03-25 14:39:29</td>\n      <td>13500</td>\n      <td>sedan</td>\n      <td>2013</td>\n      <td>manual</td>\n      <td>105</td>\n      <td>leon</td>\n      <td>60000</td>\n      <td>10</td>\n      <td>petrol</td>\n      <td>seat</td>\n      <td>no</td>\n      <td>2016-03-25 00:00:00</td>\n      <td>64665</td>\n      <td>2016-03-31 21:47:42</td>\n    </tr>\n    <tr>\n      <th>179419</th>\n      <td>2016-03-07 15:53:22</td>\n      <td>3800</td>\n      <td>other</td>\n      <td>2004</td>\n      <td>manual</td>\n      <td>136</td>\n      <td>other</td>\n      <td>5000</td>\n      <td>0</td>\n      <td>petrol</td>\n      <td>peugeot</td>\n      <td>unknown</td>\n      <td>2016-03-07 00:00:00</td>\n      <td>60389</td>\n      <td>2016-04-05 19:44:40</td>\n    </tr>\n    <tr>\n      <th>150179</th>\n      <td>2016-04-04 15:43:04</td>\n      <td>1250</td>\n      <td>wagon</td>\n      <td>1997</td>\n      <td>manual</td>\n      <td>101</td>\n      <td>passat</td>\n      <td>150000</td>\n      <td>12</td>\n      <td>petrol</td>\n      <td>volkswagen</td>\n      <td>no</td>\n      <td>2016-04-04 00:00:00</td>\n      <td>27753</td>\n      <td>2016-04-04 15:43:04</td>\n    </tr>\n    <tr>\n      <th>271019</th>\n      <td>2016-03-11 11:53:26</td>\n      <td>850</td>\n      <td>small</td>\n      <td>2002</td>\n      <td>manual</td>\n      <td>60</td>\n      <td>other</td>\n      <td>150000</td>\n      <td>0</td>\n      <td>petrol</td>\n      <td>citroen</td>\n      <td>unknown</td>\n      <td>2016-03-11 00:00:00</td>\n      <td>6308</td>\n      <td>2016-04-07 03:46:16</td>\n    </tr>\n    <tr>\n      <th>230686</th>\n      <td>2016-04-04 12:45:50</td>\n      <td>4500</td>\n      <td>other</td>\n      <td>2017</td>\n      <td>auto</td>\n      <td>126</td>\n      <td>5er</td>\n      <td>150000</td>\n      <td>3</td>\n      <td>petrol</td>\n      <td>bmw</td>\n      <td>unknown</td>\n      <td>2016-04-04 00:00:00</td>\n      <td>47574</td>\n      <td>2016-04-06 13:45:36</td>\n    </tr>\n    <tr>\n      <th>71966</th>\n      <td>2016-03-21 23:40:50</td>\n      <td>5000</td>\n      <td>wagon</td>\n      <td>2008</td>\n      <td>auto</td>\n      <td>140</td>\n      <td>mondeo</td>\n      <td>150000</td>\n      <td>9</td>\n      <td>petrol</td>\n      <td>ford</td>\n      <td>unknown</td>\n      <td>2016-03-21 00:00:00</td>\n      <td>26197</td>\n      <td>2016-03-23 06:44:55</td>\n    </tr>\n    <tr>\n      <th>2744</th>\n      <td>2016-03-07 17:56:54</td>\n      <td>700</td>\n      <td>coupe</td>\n      <td>1999</td>\n      <td>manual</td>\n      <td>101</td>\n      <td>astra</td>\n      <td>150000</td>\n      <td>10</td>\n      <td>petrol</td>\n      <td>opel</td>\n      <td>no</td>\n      <td>2016-03-07 00:00:00</td>\n      <td>12529</td>\n      <td>2016-03-07 17:56:54</td>\n    </tr>\n    <tr>\n      <th>233348</th>\n      <td>2016-03-29 22:54:27</td>\n      <td>15900</td>\n      <td>convertible</td>\n      <td>2008</td>\n      <td>manual</td>\n      <td>163</td>\n      <td>a4</td>\n      <td>90000</td>\n      <td>6</td>\n      <td>petrol</td>\n      <td>audi</td>\n      <td>no</td>\n      <td>2016-03-29 00:00:00</td>\n      <td>85120</td>\n      <td>2016-04-06 14:45:32</td>\n    </tr>\n    <tr>\n      <th>11308</th>\n      <td>2016-03-09 11:58:36</td>\n      <td>150</td>\n      <td>other</td>\n      <td>2000</td>\n      <td>manual</td>\n      <td>0</td>\n      <td>corsa</td>\n      <td>5000</td>\n      <td>0</td>\n      <td>petrol</td>\n      <td>opel</td>\n      <td>unknown</td>\n      <td>2016-03-09 00:00:00</td>\n      <td>63477</td>\n      <td>2016-03-10 18:15:21</td>\n    </tr>\n  </tbody>\n</table>\n</div>"
     },
     "execution_count": 34,
     "metadata": {},
     "output_type": "execute_result"
    }
   ],
   "source": [
    "df.sample(10)"
   ]
  },
  {
   "cell_type": "markdown",
   "metadata": {
    "pycharm": {
     "name": "#%% md\n"
    }
   },
   "source": [
    "Из всех столбцов с датами дата выгрузки объявления в базу - нам почти не информативна. А вот из даты создания объявления и даты последней активности пользователя на этом объявлении может что-то и получиться. Можно например вычесть и посчитать дни, сколько объявление было интересно создателю объявления - т.е создать новый признак."
   ]
  },
  {
   "cell_type": "code",
   "execution_count": 35,
   "metadata": {
    "pycharm": {
     "name": "#%%\n"
    }
   },
   "outputs": [
    {
     "name": "stdout",
     "output_type": "stream",
     "text": [
      "<class 'pandas.core.frame.DataFrame'>\n",
      "RangeIndex: 301223 entries, 0 to 301222\n",
      "Data columns (total 15 columns):\n",
      " #   Column              Non-Null Count   Dtype         \n",
      "---  ------              --------------   -----         \n",
      " 0   date_crawled        301223 non-null  object        \n",
      " 1   price               301223 non-null  int64         \n",
      " 2   vehicle_type        301223 non-null  object        \n",
      " 3   registration_year   301223 non-null  int64         \n",
      " 4   gearbox             301223 non-null  object        \n",
      " 5   power               301223 non-null  int64         \n",
      " 6   model               301223 non-null  object        \n",
      " 7   kilometer           301223 non-null  int64         \n",
      " 8   registration_month  301223 non-null  int64         \n",
      " 9   fuel_type           301223 non-null  object        \n",
      " 10  brand               301223 non-null  object        \n",
      " 11  repaired            301223 non-null  object        \n",
      " 12  date_created        301223 non-null  datetime64[ns]\n",
      " 13  postal_code         301223 non-null  int64         \n",
      " 14  last_seen           301223 non-null  datetime64[ns]\n",
      "dtypes: datetime64[ns](2), int64(6), object(7)\n",
      "memory usage: 34.5+ MB\n"
     ]
    }
   ],
   "source": [
    "df['date_created'] = pd.to_datetime(df['date_created'], format='%Y-%m-%d %H:%M:%S')\n",
    "df.info()"
   ]
  },
  {
   "cell_type": "code",
   "execution_count": 36,
   "metadata": {
    "pycharm": {
     "name": "#%%\n"
    }
   },
   "outputs": [
    {
     "data": {
      "text/plain": "          date_crawled  price vehicle_type  registration_year gearbox  power  \\\n0  2016-03-05 14:07:08    550        small               2001  manual     75   \n1  2016-03-05 14:08:46   9000        sedan               2011  manual    109   \n2  2016-03-05 14:13:50   1200        wagon               2000  manual    115   \n3  2016-03-05 14:18:30   2850        sedan               1990  manual      0   \n4  2016-03-05 14:06:47    599        small               1997  manual     50   \n\n     model  kilometer  registration_month fuel_type          brand repaired  \\\n0    corsa     150000                   5    petrol           opel      yes   \n1  c_reihe      90000                   3    petrol          volvo       no   \n2   passat     150000                   5    petrol     volkswagen       no   \n3    other     150000                   2    petrol  mercedes_benz       no   \n4     polo     100000                   4    petrol     volkswagen       no   \n\n  date_created  postal_code           last_seen user_interest_days  \n0   2016-03-05        65232 2016-03-05 14:15:08    0 days 14:15:08  \n1   2016-03-04        61348 2016-03-05 14:15:16    1 days 14:15:16  \n2   2016-03-03        35606 2016-03-05 14:15:39    2 days 14:15:39  \n3   2016-03-03        35781 2016-03-05 14:18:30    2 days 14:18:30  \n4   2016-03-05        60489 2016-03-05 14:25:59    0 days 14:25:59  ",
      "text/html": "<div>\n<style scoped>\n    .dataframe tbody tr th:only-of-type {\n        vertical-align: middle;\n    }\n\n    .dataframe tbody tr th {\n        vertical-align: top;\n    }\n\n    .dataframe thead th {\n        text-align: right;\n    }\n</style>\n<table border=\"1\" class=\"dataframe\">\n  <thead>\n    <tr style=\"text-align: right;\">\n      <th></th>\n      <th>date_crawled</th>\n      <th>price</th>\n      <th>vehicle_type</th>\n      <th>registration_year</th>\n      <th>gearbox</th>\n      <th>power</th>\n      <th>model</th>\n      <th>kilometer</th>\n      <th>registration_month</th>\n      <th>fuel_type</th>\n      <th>brand</th>\n      <th>repaired</th>\n      <th>date_created</th>\n      <th>postal_code</th>\n      <th>last_seen</th>\n      <th>user_interest_days</th>\n    </tr>\n  </thead>\n  <tbody>\n    <tr>\n      <th>0</th>\n      <td>2016-03-05 14:07:08</td>\n      <td>550</td>\n      <td>small</td>\n      <td>2001</td>\n      <td>manual</td>\n      <td>75</td>\n      <td>corsa</td>\n      <td>150000</td>\n      <td>5</td>\n      <td>petrol</td>\n      <td>opel</td>\n      <td>yes</td>\n      <td>2016-03-05</td>\n      <td>65232</td>\n      <td>2016-03-05 14:15:08</td>\n      <td>0 days 14:15:08</td>\n    </tr>\n    <tr>\n      <th>1</th>\n      <td>2016-03-05 14:08:46</td>\n      <td>9000</td>\n      <td>sedan</td>\n      <td>2011</td>\n      <td>manual</td>\n      <td>109</td>\n      <td>c_reihe</td>\n      <td>90000</td>\n      <td>3</td>\n      <td>petrol</td>\n      <td>volvo</td>\n      <td>no</td>\n      <td>2016-03-04</td>\n      <td>61348</td>\n      <td>2016-03-05 14:15:16</td>\n      <td>1 days 14:15:16</td>\n    </tr>\n    <tr>\n      <th>2</th>\n      <td>2016-03-05 14:13:50</td>\n      <td>1200</td>\n      <td>wagon</td>\n      <td>2000</td>\n      <td>manual</td>\n      <td>115</td>\n      <td>passat</td>\n      <td>150000</td>\n      <td>5</td>\n      <td>petrol</td>\n      <td>volkswagen</td>\n      <td>no</td>\n      <td>2016-03-03</td>\n      <td>35606</td>\n      <td>2016-03-05 14:15:39</td>\n      <td>2 days 14:15:39</td>\n    </tr>\n    <tr>\n      <th>3</th>\n      <td>2016-03-05 14:18:30</td>\n      <td>2850</td>\n      <td>sedan</td>\n      <td>1990</td>\n      <td>manual</td>\n      <td>0</td>\n      <td>other</td>\n      <td>150000</td>\n      <td>2</td>\n      <td>petrol</td>\n      <td>mercedes_benz</td>\n      <td>no</td>\n      <td>2016-03-03</td>\n      <td>35781</td>\n      <td>2016-03-05 14:18:30</td>\n      <td>2 days 14:18:30</td>\n    </tr>\n    <tr>\n      <th>4</th>\n      <td>2016-03-05 14:06:47</td>\n      <td>599</td>\n      <td>small</td>\n      <td>1997</td>\n      <td>manual</td>\n      <td>50</td>\n      <td>polo</td>\n      <td>100000</td>\n      <td>4</td>\n      <td>petrol</td>\n      <td>volkswagen</td>\n      <td>no</td>\n      <td>2016-03-05</td>\n      <td>60489</td>\n      <td>2016-03-05 14:25:59</td>\n      <td>0 days 14:25:59</td>\n    </tr>\n  </tbody>\n</table>\n</div>"
     },
     "execution_count": 36,
     "metadata": {},
     "output_type": "execute_result"
    }
   ],
   "source": [
    "df['user_interest_days'] = df['last_seen'] - df['date_created']\n",
    "df.head()"
   ]
  },
  {
   "cell_type": "code",
   "execution_count": 37,
   "metadata": {
    "pycharm": {
     "name": "#%%\n"
    }
   },
   "outputs": [
    {
     "data": {
      "text/plain": "          date_crawled  price vehicle_type  registration_year gearbox  power  \\\n0  2016-03-05 14:07:08    550        small               2001  manual     75   \n1  2016-03-05 14:08:46   9000        sedan               2011  manual    109   \n2  2016-03-05 14:13:50   1200        wagon               2000  manual    115   \n3  2016-03-05 14:18:30   2850        sedan               1990  manual      0   \n4  2016-03-05 14:06:47    599        small               1997  manual     50   \n\n     model  kilometer  registration_month fuel_type          brand repaired  \\\n0    corsa     150000                   5    petrol           opel      yes   \n1  c_reihe      90000                   3    petrol          volvo       no   \n2   passat     150000                   5    petrol     volkswagen       no   \n3    other     150000                   2    petrol  mercedes_benz       no   \n4     polo     100000                   4    petrol     volkswagen       no   \n\n  date_created  postal_code           last_seen  user_interest_days  \n0   2016-03-05        65232 2016-03-05 14:15:08                   0  \n1   2016-03-04        61348 2016-03-05 14:15:16                   1  \n2   2016-03-03        35606 2016-03-05 14:15:39                   2  \n3   2016-03-03        35781 2016-03-05 14:18:30                   2  \n4   2016-03-05        60489 2016-03-05 14:25:59                   0  ",
      "text/html": "<div>\n<style scoped>\n    .dataframe tbody tr th:only-of-type {\n        vertical-align: middle;\n    }\n\n    .dataframe tbody tr th {\n        vertical-align: top;\n    }\n\n    .dataframe thead th {\n        text-align: right;\n    }\n</style>\n<table border=\"1\" class=\"dataframe\">\n  <thead>\n    <tr style=\"text-align: right;\">\n      <th></th>\n      <th>date_crawled</th>\n      <th>price</th>\n      <th>vehicle_type</th>\n      <th>registration_year</th>\n      <th>gearbox</th>\n      <th>power</th>\n      <th>model</th>\n      <th>kilometer</th>\n      <th>registration_month</th>\n      <th>fuel_type</th>\n      <th>brand</th>\n      <th>repaired</th>\n      <th>date_created</th>\n      <th>postal_code</th>\n      <th>last_seen</th>\n      <th>user_interest_days</th>\n    </tr>\n  </thead>\n  <tbody>\n    <tr>\n      <th>0</th>\n      <td>2016-03-05 14:07:08</td>\n      <td>550</td>\n      <td>small</td>\n      <td>2001</td>\n      <td>manual</td>\n      <td>75</td>\n      <td>corsa</td>\n      <td>150000</td>\n      <td>5</td>\n      <td>petrol</td>\n      <td>opel</td>\n      <td>yes</td>\n      <td>2016-03-05</td>\n      <td>65232</td>\n      <td>2016-03-05 14:15:08</td>\n      <td>0</td>\n    </tr>\n    <tr>\n      <th>1</th>\n      <td>2016-03-05 14:08:46</td>\n      <td>9000</td>\n      <td>sedan</td>\n      <td>2011</td>\n      <td>manual</td>\n      <td>109</td>\n      <td>c_reihe</td>\n      <td>90000</td>\n      <td>3</td>\n      <td>petrol</td>\n      <td>volvo</td>\n      <td>no</td>\n      <td>2016-03-04</td>\n      <td>61348</td>\n      <td>2016-03-05 14:15:16</td>\n      <td>1</td>\n    </tr>\n    <tr>\n      <th>2</th>\n      <td>2016-03-05 14:13:50</td>\n      <td>1200</td>\n      <td>wagon</td>\n      <td>2000</td>\n      <td>manual</td>\n      <td>115</td>\n      <td>passat</td>\n      <td>150000</td>\n      <td>5</td>\n      <td>petrol</td>\n      <td>volkswagen</td>\n      <td>no</td>\n      <td>2016-03-03</td>\n      <td>35606</td>\n      <td>2016-03-05 14:15:39</td>\n      <td>2</td>\n    </tr>\n    <tr>\n      <th>3</th>\n      <td>2016-03-05 14:18:30</td>\n      <td>2850</td>\n      <td>sedan</td>\n      <td>1990</td>\n      <td>manual</td>\n      <td>0</td>\n      <td>other</td>\n      <td>150000</td>\n      <td>2</td>\n      <td>petrol</td>\n      <td>mercedes_benz</td>\n      <td>no</td>\n      <td>2016-03-03</td>\n      <td>35781</td>\n      <td>2016-03-05 14:18:30</td>\n      <td>2</td>\n    </tr>\n    <tr>\n      <th>4</th>\n      <td>2016-03-05 14:06:47</td>\n      <td>599</td>\n      <td>small</td>\n      <td>1997</td>\n      <td>manual</td>\n      <td>50</td>\n      <td>polo</td>\n      <td>100000</td>\n      <td>4</td>\n      <td>petrol</td>\n      <td>volkswagen</td>\n      <td>no</td>\n      <td>2016-03-05</td>\n      <td>60489</td>\n      <td>2016-03-05 14:25:59</td>\n      <td>0</td>\n    </tr>\n  </tbody>\n</table>\n</div>"
     },
     "execution_count": 37,
     "metadata": {},
     "output_type": "execute_result"
    }
   ],
   "source": [
    "df['user_interest_days'] = df['user_interest_days'].dt.days\n",
    "df.head()"
   ]
  },
  {
   "cell_type": "code",
   "execution_count": 38,
   "metadata": {
    "pycharm": {
     "name": "#%%\n"
    }
   },
   "outputs": [],
   "source": [
    "df['user_interest_days'] = df['user_interest_days'].astype(int)\n",
    "df['user_interest_days'] = df['user_interest_days'] + 1"
   ]
  },
  {
   "cell_type": "code",
   "execution_count": 39,
   "metadata": {
    "pycharm": {
     "name": "#%%\n"
    }
   },
   "outputs": [
    {
     "data": {
      "text/plain": "          date_crawled  price vehicle_type  registration_year gearbox  power  \\\n0  2016-03-05 14:07:08    550        small               2001  manual     75   \n1  2016-03-05 14:08:46   9000        sedan               2011  manual    109   \n2  2016-03-05 14:13:50   1200        wagon               2000  manual    115   \n3  2016-03-05 14:18:30   2850        sedan               1990  manual      0   \n4  2016-03-05 14:06:47    599        small               1997  manual     50   \n\n     model  kilometer  registration_month fuel_type          brand repaired  \\\n0    corsa     150000                   5    petrol           opel      yes   \n1  c_reihe      90000                   3    petrol          volvo       no   \n2   passat     150000                   5    petrol     volkswagen       no   \n3    other     150000                   2    petrol  mercedes_benz       no   \n4     polo     100000                   4    petrol     volkswagen       no   \n\n  date_created  postal_code           last_seen  user_interest_days  \n0   2016-03-05        65232 2016-03-05 14:15:08                   1  \n1   2016-03-04        61348 2016-03-05 14:15:16                   2  \n2   2016-03-03        35606 2016-03-05 14:15:39                   3  \n3   2016-03-03        35781 2016-03-05 14:18:30                   3  \n4   2016-03-05        60489 2016-03-05 14:25:59                   1  ",
      "text/html": "<div>\n<style scoped>\n    .dataframe tbody tr th:only-of-type {\n        vertical-align: middle;\n    }\n\n    .dataframe tbody tr th {\n        vertical-align: top;\n    }\n\n    .dataframe thead th {\n        text-align: right;\n    }\n</style>\n<table border=\"1\" class=\"dataframe\">\n  <thead>\n    <tr style=\"text-align: right;\">\n      <th></th>\n      <th>date_crawled</th>\n      <th>price</th>\n      <th>vehicle_type</th>\n      <th>registration_year</th>\n      <th>gearbox</th>\n      <th>power</th>\n      <th>model</th>\n      <th>kilometer</th>\n      <th>registration_month</th>\n      <th>fuel_type</th>\n      <th>brand</th>\n      <th>repaired</th>\n      <th>date_created</th>\n      <th>postal_code</th>\n      <th>last_seen</th>\n      <th>user_interest_days</th>\n    </tr>\n  </thead>\n  <tbody>\n    <tr>\n      <th>0</th>\n      <td>2016-03-05 14:07:08</td>\n      <td>550</td>\n      <td>small</td>\n      <td>2001</td>\n      <td>manual</td>\n      <td>75</td>\n      <td>corsa</td>\n      <td>150000</td>\n      <td>5</td>\n      <td>petrol</td>\n      <td>opel</td>\n      <td>yes</td>\n      <td>2016-03-05</td>\n      <td>65232</td>\n      <td>2016-03-05 14:15:08</td>\n      <td>1</td>\n    </tr>\n    <tr>\n      <th>1</th>\n      <td>2016-03-05 14:08:46</td>\n      <td>9000</td>\n      <td>sedan</td>\n      <td>2011</td>\n      <td>manual</td>\n      <td>109</td>\n      <td>c_reihe</td>\n      <td>90000</td>\n      <td>3</td>\n      <td>petrol</td>\n      <td>volvo</td>\n      <td>no</td>\n      <td>2016-03-04</td>\n      <td>61348</td>\n      <td>2016-03-05 14:15:16</td>\n      <td>2</td>\n    </tr>\n    <tr>\n      <th>2</th>\n      <td>2016-03-05 14:13:50</td>\n      <td>1200</td>\n      <td>wagon</td>\n      <td>2000</td>\n      <td>manual</td>\n      <td>115</td>\n      <td>passat</td>\n      <td>150000</td>\n      <td>5</td>\n      <td>petrol</td>\n      <td>volkswagen</td>\n      <td>no</td>\n      <td>2016-03-03</td>\n      <td>35606</td>\n      <td>2016-03-05 14:15:39</td>\n      <td>3</td>\n    </tr>\n    <tr>\n      <th>3</th>\n      <td>2016-03-05 14:18:30</td>\n      <td>2850</td>\n      <td>sedan</td>\n      <td>1990</td>\n      <td>manual</td>\n      <td>0</td>\n      <td>other</td>\n      <td>150000</td>\n      <td>2</td>\n      <td>petrol</td>\n      <td>mercedes_benz</td>\n      <td>no</td>\n      <td>2016-03-03</td>\n      <td>35781</td>\n      <td>2016-03-05 14:18:30</td>\n      <td>3</td>\n    </tr>\n    <tr>\n      <th>4</th>\n      <td>2016-03-05 14:06:47</td>\n      <td>599</td>\n      <td>small</td>\n      <td>1997</td>\n      <td>manual</td>\n      <td>50</td>\n      <td>polo</td>\n      <td>100000</td>\n      <td>4</td>\n      <td>petrol</td>\n      <td>volkswagen</td>\n      <td>no</td>\n      <td>2016-03-05</td>\n      <td>60489</td>\n      <td>2016-03-05 14:25:59</td>\n      <td>1</td>\n    </tr>\n  </tbody>\n</table>\n</div>"
     },
     "execution_count": 39,
     "metadata": {},
     "output_type": "execute_result"
    }
   ],
   "source": [
    "df.head()"
   ]
  },
  {
   "cell_type": "code",
   "execution_count": 40,
   "metadata": {
    "pycharm": {
     "name": "#%%\n"
    }
   },
   "outputs": [
    {
     "data": {
      "text/plain": "   price vehicle_type  registration_year gearbox  power    model  kilometer  \\\n0    550        small               2001  manual     75    corsa     150000   \n1   9000        sedan               2011  manual    109  c_reihe      90000   \n2   1200        wagon               2000  manual    115   passat     150000   \n3   2850        sedan               1990  manual      0    other     150000   \n4    599        small               1997  manual     50     polo     100000   \n\n   registration_month fuel_type          brand repaired  user_interest_days  \n0                   5    petrol           opel      yes                   1  \n1                   3    petrol          volvo       no                   2  \n2                   5    petrol     volkswagen       no                   3  \n3                   2    petrol  mercedes_benz       no                   3  \n4                   4    petrol     volkswagen       no                   1  ",
      "text/html": "<div>\n<style scoped>\n    .dataframe tbody tr th:only-of-type {\n        vertical-align: middle;\n    }\n\n    .dataframe tbody tr th {\n        vertical-align: top;\n    }\n\n    .dataframe thead th {\n        text-align: right;\n    }\n</style>\n<table border=\"1\" class=\"dataframe\">\n  <thead>\n    <tr style=\"text-align: right;\">\n      <th></th>\n      <th>price</th>\n      <th>vehicle_type</th>\n      <th>registration_year</th>\n      <th>gearbox</th>\n      <th>power</th>\n      <th>model</th>\n      <th>kilometer</th>\n      <th>registration_month</th>\n      <th>fuel_type</th>\n      <th>brand</th>\n      <th>repaired</th>\n      <th>user_interest_days</th>\n    </tr>\n  </thead>\n  <tbody>\n    <tr>\n      <th>0</th>\n      <td>550</td>\n      <td>small</td>\n      <td>2001</td>\n      <td>manual</td>\n      <td>75</td>\n      <td>corsa</td>\n      <td>150000</td>\n      <td>5</td>\n      <td>petrol</td>\n      <td>opel</td>\n      <td>yes</td>\n      <td>1</td>\n    </tr>\n    <tr>\n      <th>1</th>\n      <td>9000</td>\n      <td>sedan</td>\n      <td>2011</td>\n      <td>manual</td>\n      <td>109</td>\n      <td>c_reihe</td>\n      <td>90000</td>\n      <td>3</td>\n      <td>petrol</td>\n      <td>volvo</td>\n      <td>no</td>\n      <td>2</td>\n    </tr>\n    <tr>\n      <th>2</th>\n      <td>1200</td>\n      <td>wagon</td>\n      <td>2000</td>\n      <td>manual</td>\n      <td>115</td>\n      <td>passat</td>\n      <td>150000</td>\n      <td>5</td>\n      <td>petrol</td>\n      <td>volkswagen</td>\n      <td>no</td>\n      <td>3</td>\n    </tr>\n    <tr>\n      <th>3</th>\n      <td>2850</td>\n      <td>sedan</td>\n      <td>1990</td>\n      <td>manual</td>\n      <td>0</td>\n      <td>other</td>\n      <td>150000</td>\n      <td>2</td>\n      <td>petrol</td>\n      <td>mercedes_benz</td>\n      <td>no</td>\n      <td>3</td>\n    </tr>\n    <tr>\n      <th>4</th>\n      <td>599</td>\n      <td>small</td>\n      <td>1997</td>\n      <td>manual</td>\n      <td>50</td>\n      <td>polo</td>\n      <td>100000</td>\n      <td>4</td>\n      <td>petrol</td>\n      <td>volkswagen</td>\n      <td>no</td>\n      <td>1</td>\n    </tr>\n  </tbody>\n</table>\n</div>"
     },
     "execution_count": 40,
     "metadata": {},
     "output_type": "execute_result"
    }
   ],
   "source": [
    "df = df.drop(['date_crawled', 'date_created', 'last_seen', 'postal_code'], axis=1)\n",
    "df.head()"
   ]
  },
  {
   "cell_type": "markdown",
   "metadata": {
    "pycharm": {
     "name": "#%% md\n"
    }
   },
   "source": [
    "Разберемся с аномальными значениями. Будем стараться отталкиваться от реальных значений."
   ]
  },
  {
   "cell_type": "code",
   "execution_count": 41,
   "metadata": {
    "pycharm": {
     "name": "#%%\n"
    }
   },
   "outputs": [
    {
     "data": {
      "text/plain": "               price  registration_year          power      kilometer  \\\ncount  301223.000000      301223.000000  301223.000000  301223.000000   \nmean     4461.301282        2003.924574     111.033520  128539.437560   \nstd      4525.365639          72.545016     193.156071   37300.853834   \nmin         0.000000        1000.000000       0.000000    5000.000000   \n25%      1100.000000        1999.000000      69.000000  125000.000000   \n50%      2799.000000        2003.000000     105.000000  150000.000000   \n75%      6490.000000        2008.000000     143.000000  150000.000000   \nmax     20000.000000        9999.000000   20000.000000  150000.000000   \n\n       registration_month  user_interest_days  \ncount       301223.000000       301223.000000  \nmean             5.775535            9.917460  \nstd              3.691343            8.749081  \nmin              0.000000            1.000000  \n25%              3.000000            3.000000  \n50%              6.000000            7.000000  \n75%              9.000000           15.000000  \nmax             12.000000          760.000000  ",
      "text/html": "<div>\n<style scoped>\n    .dataframe tbody tr th:only-of-type {\n        vertical-align: middle;\n    }\n\n    .dataframe tbody tr th {\n        vertical-align: top;\n    }\n\n    .dataframe thead th {\n        text-align: right;\n    }\n</style>\n<table border=\"1\" class=\"dataframe\">\n  <thead>\n    <tr style=\"text-align: right;\">\n      <th></th>\n      <th>price</th>\n      <th>registration_year</th>\n      <th>power</th>\n      <th>kilometer</th>\n      <th>registration_month</th>\n      <th>user_interest_days</th>\n    </tr>\n  </thead>\n  <tbody>\n    <tr>\n      <th>count</th>\n      <td>301223.000000</td>\n      <td>301223.000000</td>\n      <td>301223.000000</td>\n      <td>301223.000000</td>\n      <td>301223.000000</td>\n      <td>301223.000000</td>\n    </tr>\n    <tr>\n      <th>mean</th>\n      <td>4461.301282</td>\n      <td>2003.924574</td>\n      <td>111.033520</td>\n      <td>128539.437560</td>\n      <td>5.775535</td>\n      <td>9.917460</td>\n    </tr>\n    <tr>\n      <th>std</th>\n      <td>4525.365639</td>\n      <td>72.545016</td>\n      <td>193.156071</td>\n      <td>37300.853834</td>\n      <td>3.691343</td>\n      <td>8.749081</td>\n    </tr>\n    <tr>\n      <th>min</th>\n      <td>0.000000</td>\n      <td>1000.000000</td>\n      <td>0.000000</td>\n      <td>5000.000000</td>\n      <td>0.000000</td>\n      <td>1.000000</td>\n    </tr>\n    <tr>\n      <th>25%</th>\n      <td>1100.000000</td>\n      <td>1999.000000</td>\n      <td>69.000000</td>\n      <td>125000.000000</td>\n      <td>3.000000</td>\n      <td>3.000000</td>\n    </tr>\n    <tr>\n      <th>50%</th>\n      <td>2799.000000</td>\n      <td>2003.000000</td>\n      <td>105.000000</td>\n      <td>150000.000000</td>\n      <td>6.000000</td>\n      <td>7.000000</td>\n    </tr>\n    <tr>\n      <th>75%</th>\n      <td>6490.000000</td>\n      <td>2008.000000</td>\n      <td>143.000000</td>\n      <td>150000.000000</td>\n      <td>9.000000</td>\n      <td>15.000000</td>\n    </tr>\n    <tr>\n      <th>max</th>\n      <td>20000.000000</td>\n      <td>9999.000000</td>\n      <td>20000.000000</td>\n      <td>150000.000000</td>\n      <td>12.000000</td>\n      <td>760.000000</td>\n    </tr>\n  </tbody>\n</table>\n</div>"
     },
     "execution_count": 41,
     "metadata": {},
     "output_type": "execute_result"
    }
   ],
   "source": [
    "df.describe()"
   ]
  },
  {
   "cell_type": "code",
   "execution_count": 42,
   "metadata": {
    "pycharm": {
     "name": "#%%\n"
    }
   },
   "outputs": [
    {
     "data": {
      "text/plain": "<Figure size 640x480 with 1 Axes>",
      "image/png": "[encoded data removed]"
     },
     "metadata": {},
     "output_type": "display_data"
    }
   ],
   "source": [
    "df.groupby('price')['price'].count().plot();"
   ]
  },
  {
   "cell_type": "markdown",
   "source": [
    "Машины стимостью до 500 евро - редкость на рынке, а вот сверху потолка может и не быть - дорошие машины есть всегда\n",
    "В price оставим только значения > 500"
   ],
   "metadata": {
    "collapsed": false,
    "pycharm": {
     "name": "#%% md\n"
    }
   }
  },
  {
   "cell_type": "code",
   "execution_count": 43,
   "metadata": {
    "pycharm": {
     "name": "#%%\n"
    },
    "scrolled": true
   },
   "outputs": [
    {
     "data": {
      "text/plain": "(272517, 12)"
     },
     "execution_count": 43,
     "metadata": {},
     "output_type": "execute_result"
    }
   ],
   "source": [
    "df = df[(df['price'] >= 500)]\n",
    "df.shape"
   ]
  },
  {
   "cell_type": "code",
   "execution_count": 44,
   "metadata": {
    "pycharm": {
     "name": "#%%\n"
    }
   },
   "outputs": [
    {
     "data": {
      "text/plain": "array([1000, 1001, 1400, 1500, 1600, 1602, 1800, 1910, 1923, 1927, 1928,\n       1929, 1930, 1931, 1932, 1933, 1934, 1935, 1936, 1937, 1938, 1941,\n       1942, 1943, 1945, 1947, 1949, 1950, 1951, 1952, 1953, 1954, 1955,\n       1956, 1957, 1958, 1959, 1960, 1961, 1962, 1963, 1964, 1965, 1966,\n       1967, 1968, 1969, 1970, 1971, 1972, 1973, 1974, 1975, 1976, 1977,\n       1978, 1979, 1980, 1981, 1982, 1983, 1984, 1985, 1986, 1987, 1988,\n       1989, 1990, 1991, 1992, 1993, 1994, 1995, 1996, 1997, 1998, 1999,\n       2000, 2001, 2002, 2003, 2004, 2005, 2006, 2007, 2008, 2009, 2010,\n       2011, 2012, 2013, 2014, 2015, 2016, 2017, 2018, 2019, 2066, 2290,\n       2900, 3700, 4000, 4500, 5000, 5555, 5911, 6000, 7000, 7100, 7800,\n       8200, 8500, 9000, 9999])"
     },
     "execution_count": 44,
     "metadata": {},
     "output_type": "execute_result"
    }
   ],
   "source": [
    "df['registration_year'].sort_values().unique()"
   ]
  },
  {
   "cell_type": "markdown",
   "metadata": {
    "pycharm": {
     "name": "#%% md\n"
    }
   },
   "source": [
    "Год выгрузки объявлений - 2016 год. Т.е нам надо оставить объявления до 2016 года и с 1980 года"
   ]
  },
  {
   "cell_type": "code",
   "execution_count": 45,
   "metadata": {
    "pycharm": {
     "name": "#%%\n"
    }
   },
   "outputs": [
    {
     "data": {
      "text/plain": "(259880, 12)"
     },
     "execution_count": 45,
     "metadata": {},
     "output_type": "execute_result"
    }
   ],
   "source": [
    "df = df[(df['registration_year'] >= 1980) & (df['registration_year'] <= 2016)]\n",
    "df.shape"
   ]
  },
  {
   "cell_type": "markdown",
   "metadata": {
    "pycharm": {
     "name": "#%% md\n"
    }
   },
   "source": [
    "В датасете встречаются машины с мощностью 0 лс. Возможно, это автомобили без двигателя.\n",
    "Оставим все значения до 500 лс."
   ]
  },
  {
   "cell_type": "code",
   "execution_count": 46,
   "metadata": {
    "pycharm": {
     "name": "#%%\n"
    }
   },
   "outputs": [
    {
     "data": {
      "text/plain": "<Figure size 640x480 with 1 Axes>",
      "image/png": "[encoded data removed]"
     },
     "metadata": {},
     "output_type": "display_data"
    }
   ],
   "source": [
    "df.groupby('power')['power'].count().plot();"
   ]
  },
  {
   "cell_type": "code",
   "execution_count": 47,
   "metadata": {
    "pycharm": {
     "name": "#%%\n"
    }
   },
   "outputs": [
    {
     "data": {
      "text/plain": "<Figure size 640x480 with 1 Axes>",
      "image/png": "[encoded data removed]"
     },
     "metadata": {},
     "output_type": "display_data"
    }
   ],
   "source": [
    "df[df['power']< 500].groupby('power')['power'].count().plot();"
   ]
  },
  {
   "cell_type": "code",
   "execution_count": 48,
   "metadata": {
    "pycharm": {
     "name": "#%%\n"
    }
   },
   "outputs": [
    {
     "data": {
      "text/plain": "(259578, 12)"
     },
     "execution_count": 48,
     "metadata": {},
     "output_type": "execute_result"
    }
   ],
   "source": [
    "df = df[(df['power'] <= 500)]\n",
    "df.shape"
   ]
  },
  {
   "cell_type": "code",
   "execution_count": 49,
   "metadata": {
    "pycharm": {
     "name": "#%%\n"
    }
   },
   "outputs": [
    {
     "data": {
      "text/plain": "registration_month\n0     16728\n1     17379\n2     16080\n3     26462\n4     22448\n5     22259\n6     24017\n7     20873\n8     17378\n9     18561\n10    20134\n11    18807\n12    18452\nName: registration_month, dtype: int64"
     },
     "execution_count": 49,
     "metadata": {},
     "output_type": "execute_result"
    }
   ],
   "source": [
    "df.groupby('registration_month')['registration_month'].count()"
   ]
  },
  {
   "cell_type": "markdown",
   "metadata": {
    "pycharm": {
     "name": "#%% md\n"
    }
   },
   "source": [
    "registration_month не может быть равен нулю. поставим наиболее популярный месяц - март"
   ]
  },
  {
   "cell_type": "code",
   "execution_count": 50,
   "metadata": {
    "pycharm": {
     "name": "#%%\n"
    }
   },
   "outputs": [
    {
     "data": {
      "text/plain": "<Figure size 640x480 with 1 Axes>",
      "image/png": "[encoded data removed]"
     },
     "metadata": {},
     "output_type": "display_data"
    }
   ],
   "source": [
    "df.groupby('registration_month')['registration_month'].count().plot();"
   ]
  },
  {
   "cell_type": "code",
   "execution_count": 51,
   "metadata": {
    "pycharm": {
     "name": "#%%\n"
    }
   },
   "outputs": [
    {
     "data": {
      "text/plain": "   price vehicle_type  registration_year gearbox  power    model  kilometer  \\\n0    550        small               2001  manual     75    corsa     150000   \n1   9000        sedan               2011  manual    109  c_reihe      90000   \n2   1200        wagon               2000  manual    115   passat     150000   \n3   2850        sedan               1990  manual      0    other     150000   \n4    599        small               1997  manual     50     polo     100000   \n\n   registration_month fuel_type          brand repaired  user_interest_days  \n0                   5    petrol           opel      yes                   1  \n1                   3    petrol          volvo       no                   2  \n2                   5    petrol     volkswagen       no                   3  \n3                   2    petrol  mercedes_benz       no                   3  \n4                   4    petrol     volkswagen       no                   1  ",
      "text/html": "<div>\n<style scoped>\n    .dataframe tbody tr th:only-of-type {\n        vertical-align: middle;\n    }\n\n    .dataframe tbody tr th {\n        vertical-align: top;\n    }\n\n    .dataframe thead th {\n        text-align: right;\n    }\n</style>\n<table border=\"1\" class=\"dataframe\">\n  <thead>\n    <tr style=\"text-align: right;\">\n      <th></th>\n      <th>price</th>\n      <th>vehicle_type</th>\n      <th>registration_year</th>\n      <th>gearbox</th>\n      <th>power</th>\n      <th>model</th>\n      <th>kilometer</th>\n      <th>registration_month</th>\n      <th>fuel_type</th>\n      <th>brand</th>\n      <th>repaired</th>\n      <th>user_interest_days</th>\n    </tr>\n  </thead>\n  <tbody>\n    <tr>\n      <th>0</th>\n      <td>550</td>\n      <td>small</td>\n      <td>2001</td>\n      <td>manual</td>\n      <td>75</td>\n      <td>corsa</td>\n      <td>150000</td>\n      <td>5</td>\n      <td>petrol</td>\n      <td>opel</td>\n      <td>yes</td>\n      <td>1</td>\n    </tr>\n    <tr>\n      <th>1</th>\n      <td>9000</td>\n      <td>sedan</td>\n      <td>2011</td>\n      <td>manual</td>\n      <td>109</td>\n      <td>c_reihe</td>\n      <td>90000</td>\n      <td>3</td>\n      <td>petrol</td>\n      <td>volvo</td>\n      <td>no</td>\n      <td>2</td>\n    </tr>\n    <tr>\n      <th>2</th>\n      <td>1200</td>\n      <td>wagon</td>\n      <td>2000</td>\n      <td>manual</td>\n      <td>115</td>\n      <td>passat</td>\n      <td>150000</td>\n      <td>5</td>\n      <td>petrol</td>\n      <td>volkswagen</td>\n      <td>no</td>\n      <td>3</td>\n    </tr>\n    <tr>\n      <th>3</th>\n      <td>2850</td>\n      <td>sedan</td>\n      <td>1990</td>\n      <td>manual</td>\n      <td>0</td>\n      <td>other</td>\n      <td>150000</td>\n      <td>2</td>\n      <td>petrol</td>\n      <td>mercedes_benz</td>\n      <td>no</td>\n      <td>3</td>\n    </tr>\n    <tr>\n      <th>4</th>\n      <td>599</td>\n      <td>small</td>\n      <td>1997</td>\n      <td>manual</td>\n      <td>50</td>\n      <td>polo</td>\n      <td>100000</td>\n      <td>4</td>\n      <td>petrol</td>\n      <td>volkswagen</td>\n      <td>no</td>\n      <td>1</td>\n    </tr>\n  </tbody>\n</table>\n</div>"
     },
     "execution_count": 51,
     "metadata": {},
     "output_type": "execute_result"
    }
   ],
   "source": [
    "df['registration_month'] = df['registration_month'].replace(0, 3)\n",
    "df = df.reset_index(drop=True)\n",
    "df.head()"
   ]
  },
  {
   "cell_type": "markdown",
   "metadata": {
    "pycharm": {
     "name": "#%% md\n"
    }
   },
   "source": [
    "Разделим данные на треин и тест для последущего преобразования признаков."
   ]
  },
  {
   "cell_type": "code",
   "execution_count": 52,
   "metadata": {
    "pycharm": {
     "name": "#%%\n"
    }
   },
   "outputs": [
    {
     "data": {
      "text/plain": "((155746, 12), (51916, 12), (51916, 12))"
     },
     "execution_count": 52,
     "metadata": {},
     "output_type": "execute_result"
    }
   ],
   "source": [
    "train, i = train_test_split(df, test_size=0.4, random_state=RANDOM_STATE)\n",
    "test, valid = train_test_split(i, test_size=0.5, random_state=RANDOM_STATE)\n",
    "train.shape, valid.shape, test.shape"
   ]
  },
  {
   "cell_type": "code",
   "execution_count": 53,
   "metadata": {
    "pycharm": {
     "name": "#%%\n"
    }
   },
   "outputs": [
    {
     "data": {
      "text/plain": "((155746,), (155746, 11), (51916,), (51916, 11), (51916,), (51916, 11))"
     },
     "execution_count": 53,
     "metadata": {},
     "output_type": "execute_result"
    }
   ],
   "source": [
    "train_features = train.drop(['price'], axis=1).reset_index(drop=True)\n",
    "train_target = train['price'].reset_index(drop=True)\n",
    "test_features = test.drop(['price'], axis=1).reset_index(drop=True)\n",
    "test_target = test['price'].reset_index(drop=True)\n",
    "valid_features = valid.drop(['price'], axis=1).reset_index(drop=True)\n",
    "valid_target = valid['price'].reset_index(drop=True)\n",
    "train_target.shape, train_features.shape, test_target.shape, test_features.shape, valid_target.shape, valid_features.shape"
   ]
  },
  {
   "cell_type": "markdown",
   "metadata": {
    "pycharm": {
     "name": "#%% md\n"
    }
   },
   "source": [
    "Преобразуем категориальный признаки, а так же уберем 1-й признак из закодированных, чтобы избежать dummy-ловушку."
   ]
  },
  {
   "cell_type": "code",
   "execution_count": 54,
   "metadata": {
    "pycharm": {
     "name": "#%%\n"
    }
   },
   "outputs": [
    {
     "data": {
      "text/plain": "  vehicle_type  registration_year gearbox  power        model  kilometer  \\\n0        sedan               2008  manual    109           c4     125000   \n1        wagon               2001  manual    170          3er     150000   \n2  convertible               2008  manual    140           a3      80000   \n3        wagon               2006    auto    170     e_klasse     150000   \n4          bus               2006    auto    174  transporter     150000   \n5        wagon               2005  manual    105       touran     150000   \n6        small               1997  manual     82     a_klasse     150000   \n7          suv               2009  manual    141       tucson     150000   \n8        small               1994  manual     55         polo     150000   \n9        sedan               2004  manual    116          1er     150000   \n\n   registration_month fuel_type          brand repaired  user_interest_days  \n0                   3    petrol        citroen       no                   5  \n1                   2    petrol            bmw       no                   3  \n2                   7    petrol           audi       no                   3  \n3                   7    petrol  mercedes_benz      yes                  13  \n4                   9    petrol     volkswagen       no                  23  \n5                   4    petrol     volkswagen  unknown                   1  \n6                   3    petrol  mercedes_benz       no                  28  \n7                   1       gas        hyundai       no                   5  \n8                   5    petrol     volkswagen       no                   3  \n9                  10    petrol            bmw  unknown                   3  ",
      "text/html": "<div>\n<style scoped>\n    .dataframe tbody tr th:only-of-type {\n        vertical-align: middle;\n    }\n\n    .dataframe tbody tr th {\n        vertical-align: top;\n    }\n\n    .dataframe thead th {\n        text-align: right;\n    }\n</style>\n<table border=\"1\" class=\"dataframe\">\n  <thead>\n    <tr style=\"text-align: right;\">\n      <th></th>\n      <th>vehicle_type</th>\n      <th>registration_year</th>\n      <th>gearbox</th>\n      <th>power</th>\n      <th>model</th>\n      <th>kilometer</th>\n      <th>registration_month</th>\n      <th>fuel_type</th>\n      <th>brand</th>\n      <th>repaired</th>\n      <th>user_interest_days</th>\n    </tr>\n  </thead>\n  <tbody>\n    <tr>\n      <th>0</th>\n      <td>sedan</td>\n      <td>2008</td>\n      <td>manual</td>\n      <td>109</td>\n      <td>c4</td>\n      <td>125000</td>\n      <td>3</td>\n      <td>petrol</td>\n      <td>citroen</td>\n      <td>no</td>\n      <td>5</td>\n    </tr>\n    <tr>\n      <th>1</th>\n      <td>wagon</td>\n      <td>2001</td>\n      <td>manual</td>\n      <td>170</td>\n      <td>3er</td>\n      <td>150000</td>\n      <td>2</td>\n      <td>petrol</td>\n      <td>bmw</td>\n      <td>no</td>\n      <td>3</td>\n    </tr>\n    <tr>\n      <th>2</th>\n      <td>convertible</td>\n      <td>2008</td>\n      <td>manual</td>\n      <td>140</td>\n      <td>a3</td>\n      <td>80000</td>\n      <td>7</td>\n      <td>petrol</td>\n      <td>audi</td>\n      <td>no</td>\n      <td>3</td>\n    </tr>\n    <tr>\n      <th>3</th>\n      <td>wagon</td>\n      <td>2006</td>\n      <td>auto</td>\n      <td>170</td>\n      <td>e_klasse</td>\n      <td>150000</td>\n      <td>7</td>\n      <td>petrol</td>\n      <td>mercedes_benz</td>\n      <td>yes</td>\n      <td>13</td>\n    </tr>\n    <tr>\n      <th>4</th>\n      <td>bus</td>\n      <td>2006</td>\n      <td>auto</td>\n      <td>174</td>\n      <td>transporter</td>\n      <td>150000</td>\n      <td>9</td>\n      <td>petrol</td>\n      <td>volkswagen</td>\n      <td>no</td>\n      <td>23</td>\n    </tr>\n    <tr>\n      <th>5</th>\n      <td>wagon</td>\n      <td>2005</td>\n      <td>manual</td>\n      <td>105</td>\n      <td>touran</td>\n      <td>150000</td>\n      <td>4</td>\n      <td>petrol</td>\n      <td>volkswagen</td>\n      <td>unknown</td>\n      <td>1</td>\n    </tr>\n    <tr>\n      <th>6</th>\n      <td>small</td>\n      <td>1997</td>\n      <td>manual</td>\n      <td>82</td>\n      <td>a_klasse</td>\n      <td>150000</td>\n      <td>3</td>\n      <td>petrol</td>\n      <td>mercedes_benz</td>\n      <td>no</td>\n      <td>28</td>\n    </tr>\n    <tr>\n      <th>7</th>\n      <td>suv</td>\n      <td>2009</td>\n      <td>manual</td>\n      <td>141</td>\n      <td>tucson</td>\n      <td>150000</td>\n      <td>1</td>\n      <td>gas</td>\n      <td>hyundai</td>\n      <td>no</td>\n      <td>5</td>\n    </tr>\n    <tr>\n      <th>8</th>\n      <td>small</td>\n      <td>1994</td>\n      <td>manual</td>\n      <td>55</td>\n      <td>polo</td>\n      <td>150000</td>\n      <td>5</td>\n      <td>petrol</td>\n      <td>volkswagen</td>\n      <td>no</td>\n      <td>3</td>\n    </tr>\n    <tr>\n      <th>9</th>\n      <td>sedan</td>\n      <td>2004</td>\n      <td>manual</td>\n      <td>116</td>\n      <td>1er</td>\n      <td>150000</td>\n      <td>10</td>\n      <td>petrol</td>\n      <td>bmw</td>\n      <td>unknown</td>\n      <td>3</td>\n    </tr>\n  </tbody>\n</table>\n</div>"
     },
     "execution_count": 54,
     "metadata": {},
     "output_type": "execute_result"
    }
   ],
   "source": [
    "train_features.head(10)"
   ]
  },
  {
   "cell_type": "code",
   "execution_count": 55,
   "metadata": {
    "pycharm": {
     "name": "#%%\n"
    }
   },
   "outputs": [
    {
     "data": {
      "text/plain": "OrdinalEncoder(handle_unknown='use_encoded_value', unknown_value=-1)",
      "text/html": "<style>#sk-container-id-1 {color: black;background-color: white;}#sk-container-id-1 pre{padding: 0;}#sk-container-id-1 div.sk-toggleable {background-color: white;}#sk-container-id-1 label.sk-toggleable__label {cursor: pointer;display: block;width: 100%;margin-bottom: 0;padding: 0.3em;box-sizing: border-box;text-align: center;}#sk-container-id-1 label.sk-toggleable__label-arrow:before {content: \"▸\";float: left;margin-right: 0.25em;color: #696969;}#sk-container-id-1 label.sk-toggleable__label-arrow:hover:before {color: black;}#sk-container-id-1 div.sk-estimator:hover label.sk-toggleable__label-arrow:before {color: black;}#sk-container-id-1 div.sk-toggleable__content {max-height: 0;max-width: 0;overflow: hidden;text-align: left;background-color: #f0f8ff;}#sk-container-id-1 div.sk-toggleable__content pre {margin: 0.2em;color: black;border-radius: 0.25em;background-color: #f0f8ff;}#sk-container-id-1 input.sk-toggleable__control:checked~div.sk-toggleable__content {max-height: 200px;max-width: 100%;overflow: auto;}#sk-container-id-1 input.sk-toggleable__control:checked~label.sk-toggleable__label-arrow:before {content: \"▾\";}#sk-container-id-1 div.sk-estimator input.sk-toggleable__control:checked~label.sk-toggleable__label {background-color: #d4ebff;}#sk-container-id-1 div.sk-label input.sk-toggleable__control:checked~label.sk-toggleable__label {background-color: #d4ebff;}#sk-container-id-1 input.sk-hidden--visually {border: 0;clip: rect(1px 1px 1px 1px);clip: rect(1px, 1px, 1px, 1px);height: 1px;margin: -1px;overflow: hidden;padding: 0;position: absolute;width: 1px;}#sk-container-id-1 div.sk-estimator {font-family: monospace;background-color: #f0f8ff;border: 1px dotted black;border-radius: 0.25em;box-sizing: border-box;margin-bottom: 0.5em;}#sk-container-id-1 div.sk-estimator:hover {background-color: #d4ebff;}#sk-container-id-1 div.sk-parallel-item::after {content: \"\";width: 100%;border-bottom: 1px solid gray;flex-grow: 1;}#sk-container-id-1 div.sk-label:hover label.sk-toggleable__label {background-color: #d4ebff;}#sk-container-id-1 div.sk-serial::before {content: \"\";position: absolute;border-left: 1px solid gray;box-sizing: border-box;top: 0;bottom: 0;left: 50%;z-index: 0;}#sk-container-id-1 div.sk-serial {display: flex;flex-direction: column;align-items: center;background-color: white;padding-right: 0.2em;padding-left: 0.2em;position: relative;}#sk-container-id-1 div.sk-item {position: relative;z-index: 1;}#sk-container-id-1 div.sk-parallel {display: flex;align-items: stretch;justify-content: center;background-color: white;position: relative;}#sk-container-id-1 div.sk-item::before, #sk-container-id-1 div.sk-parallel-item::before {content: \"\";position: absolute;border-left: 1px solid gray;box-sizing: border-box;top: 0;bottom: 0;left: 50%;z-index: -1;}#sk-container-id-1 div.sk-parallel-item {display: flex;flex-direction: column;z-index: 1;position: relative;background-color: white;}#sk-container-id-1 div.sk-parallel-item:first-child::after {align-self: flex-end;width: 50%;}#sk-container-id-1 div.sk-parallel-item:last-child::after {align-self: flex-start;width: 50%;}#sk-container-id-1 div.sk-parallel-item:only-child::after {width: 0;}#sk-container-id-1 div.sk-dashed-wrapped {border: 1px dashed gray;margin: 0 0.4em 0.5em 0.4em;box-sizing: border-box;padding-bottom: 0.4em;background-color: white;}#sk-container-id-1 div.sk-label label {font-family: monospace;font-weight: bold;display: inline-block;line-height: 1.2em;}#sk-container-id-1 div.sk-label-container {text-align: center;}#sk-container-id-1 div.sk-container {/* jupyter's `normalize.less` sets `[hidden] { display: none; }` but bootstrap.min.css set `[hidden] { display: none !important; }` so we also need the `!important` here to be able to override the default hidden behavior on the sphinx rendered scikit-learn.org. See: https://github.com/scikit-learn/scikit-learn/issues/21755 */display: inline-block !important;position: relative;}#sk-container-id-1 div.sk-text-repr-fallback {display: none;}</style><div id=\"sk-container-id-1\" class=\"sk-top-container\"><div class=\"sk-text-repr-fallback\"><pre>OrdinalEncoder(handle_unknown=&#x27;use_encoded_value&#x27;, unknown_value=-1)</pre><b>In a Jupyter environment, please rerun this cell to show the HTML representation or trust the notebook. <br />On GitHub, the HTML representation is unable to render, please try loading this page with nbviewer.org.</b></div><div class=\"sk-container\" hidden><div class=\"sk-item\"><div class=\"sk-estimator sk-toggleable\"><input class=\"sk-toggleable__control sk-hidden--visually\" id=\"sk-estimator-id-1\" type=\"checkbox\" checked><label for=\"sk-estimator-id-1\" class=\"sk-toggleable__label sk-toggleable__label-arrow\">OrdinalEncoder</label><div class=\"sk-toggleable__content\"><pre>OrdinalEncoder(handle_unknown=&#x27;use_encoded_value&#x27;, unknown_value=-1)</pre></div></div></div></div></div>"
     },
     "execution_count": 55,
     "metadata": {},
     "output_type": "execute_result"
    }
   ],
   "source": [
    "cat_features = ['vehicle_type', 'gearbox', 'model', 'fuel_type', 'brand', 'repaired']\n",
    "oe = OrdinalEncoder(handle_unknown='use_encoded_value', unknown_value=-1)\n",
    "oe.fit(train_features[cat_features])"
   ]
  },
  {
   "cell_type": "code",
   "execution_count": 56,
   "metadata": {
    "pycharm": {
     "name": "#%%\n"
    }
   },
   "outputs": [],
   "source": [
    "def get_oe_df(df, asd):\n",
    "    encoded = oe.transform(df[asd])\n",
    "    encoded_df = pd.DataFrame(encoded, columns=asd)\n",
    "    df.drop(columns=asd, inplace=True)\n",
    "    df_oe = pd.concat([df, encoded_df], axis=1)\n",
    "    return df_oe"
   ]
  },
  {
   "cell_type": "code",
   "execution_count": 57,
   "metadata": {
    "pycharm": {
     "name": "#%%\n"
    }
   },
   "outputs": [
    {
     "data": {
      "text/plain": "   registration_year  power  kilometer  registration_month  \\\n0               2008    109     125000                   3   \n1               2001    170     150000                   2   \n2               2008    140      80000                   7   \n3               2006    170     150000                   7   \n4               2006    174     150000                   9   \n\n   user_interest_days  vehicle_type  gearbox  model  fuel_type  brand  \\\n0                   5           4.0      1.0   57.0        4.0    5.0   \n1                   3           7.0      1.0   11.0        4.0    2.0   \n2                   3           1.0      1.0   28.0        4.0    1.0   \n3                  13           7.0      0.0   95.0        4.0   20.0   \n4                  23           0.0      0.0  221.0        4.0   37.0   \n\n   repaired  \n0       0.0  \n1       0.0  \n2       0.0  \n3       2.0  \n4       0.0  ",
      "text/html": "<div>\n<style scoped>\n    .dataframe tbody tr th:only-of-type {\n        vertical-align: middle;\n    }\n\n    .dataframe tbody tr th {\n        vertical-align: top;\n    }\n\n    .dataframe thead th {\n        text-align: right;\n    }\n</style>\n<table border=\"1\" class=\"dataframe\">\n  <thead>\n    <tr style=\"text-align: right;\">\n      <th></th>\n      <th>registration_year</th>\n      <th>power</th>\n      <th>kilometer</th>\n      <th>registration_month</th>\n      <th>user_interest_days</th>\n      <th>vehicle_type</th>\n      <th>gearbox</th>\n      <th>model</th>\n      <th>fuel_type</th>\n      <th>brand</th>\n      <th>repaired</th>\n    </tr>\n  </thead>\n  <tbody>\n    <tr>\n      <th>0</th>\n      <td>2008</td>\n      <td>109</td>\n      <td>125000</td>\n      <td>3</td>\n      <td>5</td>\n      <td>4.0</td>\n      <td>1.0</td>\n      <td>57.0</td>\n      <td>4.0</td>\n      <td>5.0</td>\n      <td>0.0</td>\n    </tr>\n    <tr>\n      <th>1</th>\n      <td>2001</td>\n      <td>170</td>\n      <td>150000</td>\n      <td>2</td>\n      <td>3</td>\n      <td>7.0</td>\n      <td>1.0</td>\n      <td>11.0</td>\n      <td>4.0</td>\n      <td>2.0</td>\n      <td>0.0</td>\n    </tr>\n    <tr>\n      <th>2</th>\n      <td>2008</td>\n      <td>140</td>\n      <td>80000</td>\n      <td>7</td>\n      <td>3</td>\n      <td>1.0</td>\n      <td>1.0</td>\n      <td>28.0</td>\n      <td>4.0</td>\n      <td>1.0</td>\n      <td>0.0</td>\n    </tr>\n    <tr>\n      <th>3</th>\n      <td>2006</td>\n      <td>170</td>\n      <td>150000</td>\n      <td>7</td>\n      <td>13</td>\n      <td>7.0</td>\n      <td>0.0</td>\n      <td>95.0</td>\n      <td>4.0</td>\n      <td>20.0</td>\n      <td>2.0</td>\n    </tr>\n    <tr>\n      <th>4</th>\n      <td>2006</td>\n      <td>174</td>\n      <td>150000</td>\n      <td>9</td>\n      <td>23</td>\n      <td>0.0</td>\n      <td>0.0</td>\n      <td>221.0</td>\n      <td>4.0</td>\n      <td>37.0</td>\n      <td>0.0</td>\n    </tr>\n  </tbody>\n</table>\n</div>"
     },
     "execution_count": 57,
     "metadata": {},
     "output_type": "execute_result"
    }
   ],
   "source": [
    "train_features_oe = get_oe_df(train_features, cat_features)\n",
    "train_features_oe.head()"
   ]
  },
  {
   "cell_type": "code",
   "execution_count": 58,
   "metadata": {
    "pycharm": {
     "name": "#%%\n"
    }
   },
   "outputs": [
    {
     "data": {
      "text/plain": "   registration_year  power  kilometer  registration_month  \\\n0               2007     88     150000                   3   \n1               1997     54     150000                   4   \n2               1999     88     150000                   5   \n3               2000    144     150000                   4   \n4               2000    163      90000                   3   \n\n   user_interest_days  vehicle_type  gearbox  model  fuel_type  brand  \\\n0                  19           5.0      1.0   75.0        1.0   27.0   \n1                   1           0.0      1.0  166.0        4.0   33.0   \n2                  34           7.0      1.0   10.0        4.0   19.0   \n3                  14           4.0      0.0  164.0        4.0   24.0   \n4                   7           4.0      0.0   59.0        4.0   20.0   \n\n   repaired  \n0       0.0  \n1       0.0  \n2       1.0  \n3       1.0  \n4       0.0  ",
      "text/html": "<div>\n<style scoped>\n    .dataframe tbody tr th:only-of-type {\n        vertical-align: middle;\n    }\n\n    .dataframe tbody tr th {\n        vertical-align: top;\n    }\n\n    .dataframe thead th {\n        text-align: right;\n    }\n</style>\n<table border=\"1\" class=\"dataframe\">\n  <thead>\n    <tr style=\"text-align: right;\">\n      <th></th>\n      <th>registration_year</th>\n      <th>power</th>\n      <th>kilometer</th>\n      <th>registration_month</th>\n      <th>user_interest_days</th>\n      <th>vehicle_type</th>\n      <th>gearbox</th>\n      <th>model</th>\n      <th>fuel_type</th>\n      <th>brand</th>\n      <th>repaired</th>\n    </tr>\n  </thead>\n  <tbody>\n    <tr>\n      <th>0</th>\n      <td>2007</td>\n      <td>88</td>\n      <td>150000</td>\n      <td>3</td>\n      <td>19</td>\n      <td>5.0</td>\n      <td>1.0</td>\n      <td>75.0</td>\n      <td>1.0</td>\n      <td>27.0</td>\n      <td>0.0</td>\n    </tr>\n    <tr>\n      <th>1</th>\n      <td>1997</td>\n      <td>54</td>\n      <td>150000</td>\n      <td>4</td>\n      <td>1</td>\n      <td>0.0</td>\n      <td>1.0</td>\n      <td>166.0</td>\n      <td>4.0</td>\n      <td>33.0</td>\n      <td>0.0</td>\n    </tr>\n    <tr>\n      <th>2</th>\n      <td>1999</td>\n      <td>88</td>\n      <td>150000</td>\n      <td>5</td>\n      <td>34</td>\n      <td>7.0</td>\n      <td>1.0</td>\n      <td>10.0</td>\n      <td>4.0</td>\n      <td>19.0</td>\n      <td>1.0</td>\n    </tr>\n    <tr>\n      <th>3</th>\n      <td>2000</td>\n      <td>144</td>\n      <td>150000</td>\n      <td>4</td>\n      <td>14</td>\n      <td>4.0</td>\n      <td>0.0</td>\n      <td>164.0</td>\n      <td>4.0</td>\n      <td>24.0</td>\n      <td>1.0</td>\n    </tr>\n    <tr>\n      <th>4</th>\n      <td>2000</td>\n      <td>163</td>\n      <td>90000</td>\n      <td>3</td>\n      <td>7</td>\n      <td>4.0</td>\n      <td>0.0</td>\n      <td>59.0</td>\n      <td>4.0</td>\n      <td>20.0</td>\n      <td>0.0</td>\n    </tr>\n  </tbody>\n</table>\n</div>"
     },
     "execution_count": 58,
     "metadata": {},
     "output_type": "execute_result"
    }
   ],
   "source": [
    "valid_features_oe = get_oe_df(valid_features, cat_features)\n",
    "valid_features_oe.head()"
   ]
  },
  {
   "cell_type": "code",
   "execution_count": 59,
   "metadata": {
    "pycharm": {
     "name": "#%%\n"
    }
   },
   "outputs": [
    {
     "data": {
      "text/plain": "   registration_year  power  kilometer  registration_month  \\\n0               2004    150     150000                   2   \n1               2016     75     150000                   3   \n2               2007    143     150000                  12   \n3               2001     60     100000                  10   \n4               2002     50     150000                  12   \n\n   user_interest_days  vehicle_type  gearbox  model  fuel_type  brand  \\\n0                   5           4.0      0.0   11.0        4.0    2.0   \n1                   1           3.0      1.0  173.0        4.0   37.0   \n2                  13           4.0      1.0   11.0        4.0    2.0   \n3                  19           1.0      1.0  101.0        4.0   31.0   \n4                   1           5.0      1.0  143.0        4.0   37.0   \n\n   repaired  \n0       1.0  \n1       1.0  \n2       0.0  \n3       0.0  \n4       2.0  ",
      "text/html": "<div>\n<style scoped>\n    .dataframe tbody tr th:only-of-type {\n        vertical-align: middle;\n    }\n\n    .dataframe tbody tr th {\n        vertical-align: top;\n    }\n\n    .dataframe thead th {\n        text-align: right;\n    }\n</style>\n<table border=\"1\" class=\"dataframe\">\n  <thead>\n    <tr style=\"text-align: right;\">\n      <th></th>\n      <th>registration_year</th>\n      <th>power</th>\n      <th>kilometer</th>\n      <th>registration_month</th>\n      <th>user_interest_days</th>\n      <th>vehicle_type</th>\n      <th>gearbox</th>\n      <th>model</th>\n      <th>fuel_type</th>\n      <th>brand</th>\n      <th>repaired</th>\n    </tr>\n  </thead>\n  <tbody>\n    <tr>\n      <th>0</th>\n      <td>2004</td>\n      <td>150</td>\n      <td>150000</td>\n      <td>2</td>\n      <td>5</td>\n      <td>4.0</td>\n      <td>0.0</td>\n      <td>11.0</td>\n      <td>4.0</td>\n      <td>2.0</td>\n      <td>1.0</td>\n    </tr>\n    <tr>\n      <th>1</th>\n      <td>2016</td>\n      <td>75</td>\n      <td>150000</td>\n      <td>3</td>\n      <td>1</td>\n      <td>3.0</td>\n      <td>1.0</td>\n      <td>173.0</td>\n      <td>4.0</td>\n      <td>37.0</td>\n      <td>1.0</td>\n    </tr>\n    <tr>\n      <th>2</th>\n      <td>2007</td>\n      <td>143</td>\n      <td>150000</td>\n      <td>12</td>\n      <td>13</td>\n      <td>4.0</td>\n      <td>1.0</td>\n      <td>11.0</td>\n      <td>4.0</td>\n      <td>2.0</td>\n      <td>0.0</td>\n    </tr>\n    <tr>\n      <th>3</th>\n      <td>2001</td>\n      <td>60</td>\n      <td>100000</td>\n      <td>10</td>\n      <td>19</td>\n      <td>1.0</td>\n      <td>1.0</td>\n      <td>101.0</td>\n      <td>4.0</td>\n      <td>31.0</td>\n      <td>0.0</td>\n    </tr>\n    <tr>\n      <th>4</th>\n      <td>2002</td>\n      <td>50</td>\n      <td>150000</td>\n      <td>12</td>\n      <td>1</td>\n      <td>5.0</td>\n      <td>1.0</td>\n      <td>143.0</td>\n      <td>4.0</td>\n      <td>37.0</td>\n      <td>2.0</td>\n    </tr>\n  </tbody>\n</table>\n</div>"
     },
     "execution_count": 59,
     "metadata": {},
     "output_type": "execute_result"
    }
   ],
   "source": [
    "test_features_oe = get_oe_df(test_features, cat_features)\n",
    "test_features_oe.head()"
   ]
  },
  {
   "cell_type": "markdown",
   "metadata": {
    "pycharm": {
     "name": "#%% md\n"
    }
   },
   "source": [
    "Масштабируем количественные признаки"
   ]
  },
  {
   "cell_type": "code",
   "execution_count": 60,
   "metadata": {
    "pycharm": {
     "name": "#%%\n"
    }
   },
   "outputs": [
    {
     "data": {
      "text/plain": "   registration_year     power  kilometer  registration_month  \\\n0           0.812763 -0.070764  -0.087399                   3   \n1          -0.383130  0.937761   0.592594                   2   \n2           0.812763  0.441765  -1.311387                   7   \n3           0.471079  0.937761   0.592594                   7   \n4           0.471079  1.003894   0.592594                   9   \n\n   user_interest_days  vehicle_type  gearbox  model  fuel_type  brand  \\\n0           -0.583589           4.0      1.0   57.0        4.0    5.0   \n1           -0.812967           7.0      1.0   11.0        4.0    2.0   \n2           -0.812967           1.0      1.0   28.0        4.0    1.0   \n3            0.333925           7.0      0.0   95.0        4.0   20.0   \n4            1.480816           0.0      0.0  221.0        4.0   37.0   \n\n   repaired  \n0       0.0  \n1       0.0  \n2       0.0  \n3       2.0  \n4       0.0  ",
      "text/html": "<div>\n<style scoped>\n    .dataframe tbody tr th:only-of-type {\n        vertical-align: middle;\n    }\n\n    .dataframe tbody tr th {\n        vertical-align: top;\n    }\n\n    .dataframe thead th {\n        text-align: right;\n    }\n</style>\n<table border=\"1\" class=\"dataframe\">\n  <thead>\n    <tr style=\"text-align: right;\">\n      <th></th>\n      <th>registration_year</th>\n      <th>power</th>\n      <th>kilometer</th>\n      <th>registration_month</th>\n      <th>user_interest_days</th>\n      <th>vehicle_type</th>\n      <th>gearbox</th>\n      <th>model</th>\n      <th>fuel_type</th>\n      <th>brand</th>\n      <th>repaired</th>\n    </tr>\n  </thead>\n  <tbody>\n    <tr>\n      <th>0</th>\n      <td>0.812763</td>\n      <td>-0.070764</td>\n      <td>-0.087399</td>\n      <td>3</td>\n      <td>-0.583589</td>\n      <td>4.0</td>\n      <td>1.0</td>\n      <td>57.0</td>\n      <td>4.0</td>\n      <td>5.0</td>\n      <td>0.0</td>\n    </tr>\n    <tr>\n      <th>1</th>\n      <td>-0.383130</td>\n      <td>0.937761</td>\n      <td>0.592594</td>\n      <td>2</td>\n      <td>-0.812967</td>\n      <td>7.0</td>\n      <td>1.0</td>\n      <td>11.0</td>\n      <td>4.0</td>\n      <td>2.0</td>\n      <td>0.0</td>\n    </tr>\n    <tr>\n      <th>2</th>\n      <td>0.812763</td>\n      <td>0.441765</td>\n      <td>-1.311387</td>\n      <td>7</td>\n      <td>-0.812967</td>\n      <td>1.0</td>\n      <td>1.0</td>\n      <td>28.0</td>\n      <td>4.0</td>\n      <td>1.0</td>\n      <td>0.0</td>\n    </tr>\n    <tr>\n      <th>3</th>\n      <td>0.471079</td>\n      <td>0.937761</td>\n      <td>0.592594</td>\n      <td>7</td>\n      <td>0.333925</td>\n      <td>7.0</td>\n      <td>0.0</td>\n      <td>95.0</td>\n      <td>4.0</td>\n      <td>20.0</td>\n      <td>2.0</td>\n    </tr>\n    <tr>\n      <th>4</th>\n      <td>0.471079</td>\n      <td>1.003894</td>\n      <td>0.592594</td>\n      <td>9</td>\n      <td>1.480816</td>\n      <td>0.0</td>\n      <td>0.0</td>\n      <td>221.0</td>\n      <td>4.0</td>\n      <td>37.0</td>\n      <td>0.0</td>\n    </tr>\n  </tbody>\n</table>\n</div>"
     },
     "execution_count": 60,
     "metadata": {},
     "output_type": "execute_result"
    }
   ],
   "source": [
    "columns = ['registration_year', 'power', 'kilometer', 'user_interest_days']\n",
    "\n",
    "scaler = StandardScaler()\n",
    "scaler.fit(train_features_oe[columns])\n",
    "\n",
    "train_features_oe[columns] = scaler.transform(train_features_oe[columns])\n",
    "valid_features_oe[columns] = scaler.transform(valid_features_oe[columns])\n",
    "test_features_oe[columns] = scaler.transform(test_features_oe[columns])\n",
    "train_features_oe.head()"
   ]
  },
  {
   "cell_type": "markdown",
   "metadata": {
    "pycharm": {
     "name": "#%% md\n"
    }
   },
   "source": [
    "## Обучение моделей"
   ]
  },
  {
   "cell_type": "code",
   "execution_count": 61,
   "metadata": {
    "pycharm": {
     "name": "#%%\n"
    }
   },
   "outputs": [],
   "source": [
    "def score(model, params, X, y):\n",
    "    grid = GridSearchCV(model, params, scoring='neg_mean_squared_error', cv=3)\n",
    "    grid.fit(X, y)\n",
    "    print(f'rmse {model} = {(-grid.best_score_) ** 0.5}')\n",
    "    print(f'best params {grid.best_params_}')\n",
    "    d = grid.best_params_\n",
    "    return d"
   ]
  },
  {
   "cell_type": "code",
   "execution_count": 62,
   "metadata": {
    "pycharm": {
     "name": "#%%\n"
    }
   },
   "outputs": [],
   "source": [
    "dt = DecisionTreeRegressor()\n",
    "dt_params = {'max_leaf_nodes': [15, 19],\n",
    "             'max_depth': [6, 10],\n",
    "             'min_samples_leaf': [3, 5]}\n",
    "\n",
    "rf = RandomForestRegressor()\n",
    "rf_params = {'n_estimators': [100, 150],\n",
    "             'max_depth': [5, 8],\n",
    "             'min_samples_leaf': [2, 5]}\n",
    "\n",
    "lgbm = LGBMRegressor()\n",
    "\n",
    "lgbm_params = {\n",
    "    'n_estimators': [50, 100, 150, 200],\n",
    "    'max_depth': [2, 4, 6, 8, 10, 12, 14, 16, 18, 20],\n",
    "    'learning_rate': [0.001, 0.01, 0.1, 0.2, 0.3],\n",
    "}"
   ]
  },
  {
   "cell_type": "code",
   "execution_count": 63,
   "metadata": {
    "pycharm": {
     "name": "#%%\n"
    }
   },
   "outputs": [
    {
     "name": "stdout",
     "output_type": "stream",
     "text": [
      "rmse DecisionTreeRegressor() = 2497.1325649676073\n",
      "best params {'max_depth': 6, 'max_leaf_nodes': 19, 'min_samples_leaf': 3}\n",
      "CPU times: user 4.11 s, sys: 291 ms, total: 4.4 s\n",
      "Wall time: 4.45 s\n"
     ]
    }
   ],
   "source": [
    "%%time\n",
    "dt_best_params = score(dt, dt_params, train_features_oe, train_target)"
   ]
  },
  {
   "cell_type": "code",
   "execution_count": 64,
   "metadata": {
    "pycharm": {
     "name": "#%%\n"
    }
   },
   "outputs": [
    {
     "name": "stdout",
     "output_type": "stream",
     "text": [
      "rmse RandomForestRegressor() = 2008.2354209102175\n",
      "best params {'max_depth': 8, 'min_samples_leaf': 5, 'n_estimators': 150}\n",
      "CPU times: user 7min 52s, sys: 4.14 s, total: 7min 56s\n",
      "Wall time: 8min 3s\n"
     ]
    }
   ],
   "source": [
    "%%time\n",
    "rf_best_params = score(rf, rf_params, train_features_oe, train_target)"
   ]
  },
  {
   "cell_type": "markdown",
   "metadata": {
    "pycharm": {
     "name": "#%% md\n"
    }
   },
   "source": [
    "Так как модель градиентного бустинга запускается долго, применим не гридсерч а рандомайз серч"
   ]
  },
  {
   "cell_type": "code",
   "execution_count": 65,
   "metadata": {
    "pycharm": {
     "name": "#%%\n"
    }
   },
   "outputs": [
    {
     "name": "stdout",
     "output_type": "stream",
     "text": [
      "rmse LGBMRegressor() = 1573.4337668855535\n",
      "best params {'n_estimators': 200, 'max_depth': 20, 'learning_rate': 0.3}\n",
      "CPU times: user 1min 14s, sys: 3.16 s, total: 1min 17s\n",
      "Wall time: 21.1 s\n"
     ]
    }
   ],
   "source": [
    "%%time\n",
    "a = RandomizedSearchCV(lgbm, lgbm_params, scoring='neg_mean_squared_error', cv=3)\n",
    "a.fit(train_features_oe, train_target)\n",
    "lgbm_best_params = a.best_params_\n",
    "\n",
    "print(f'rmse {lgbm} = {(-a.best_score_) ** 0.5}')\n",
    "print(f'best params {a.best_params_}')"
   ]
  },
  {
   "cell_type": "markdown",
   "metadata": {
    "pycharm": {
     "name": "#%% md\n"
    }
   },
   "source": [
    "Лучшие значения метрик у моделей дерево решений, случайный лес и lgbm"
   ]
  },
  {
   "cell_type": "markdown",
   "metadata": {
    "pycharm": {
     "name": "#%% md\n"
    }
   },
   "source": [
    "## Анализ моделей"
   ]
  },
  {
   "cell_type": "markdown",
   "metadata": {
    "pycharm": {
     "name": "#%% md\n"
    }
   },
   "source": [
    "Сравним время обучения этих трех моделей"
   ]
  },
  {
   "cell_type": "code",
   "execution_count": 66,
   "metadata": {
    "pycharm": {
     "name": "#%%\n"
    }
   },
   "outputs": [
    {
     "name": "stdout",
     "output_type": "stream",
     "text": [
      "CPU times: user 483 ms, sys: 83.3 ms, total: 566 ms\n",
      "Wall time: 349 ms\n"
     ]
    },
    {
     "data": {
      "text/plain": "DecisionTreeRegressor(max_depth=6, max_leaf_nodes=19, min_samples_leaf=3,\n                      random_state=12345)",
      "text/html": "<style>#sk-container-id-2 {color: black;background-color: white;}#sk-container-id-2 pre{padding: 0;}#sk-container-id-2 div.sk-toggleable {background-color: white;}#sk-container-id-2 label.sk-toggleable__label {cursor: pointer;display: block;width: 100%;margin-bottom: 0;padding: 0.3em;box-sizing: border-box;text-align: center;}#sk-container-id-2 label.sk-toggleable__label-arrow:before {content: \"▸\";float: left;margin-right: 0.25em;color: #696969;}#sk-container-id-2 label.sk-toggleable__label-arrow:hover:before {color: black;}#sk-container-id-2 div.sk-estimator:hover label.sk-toggleable__label-arrow:before {color: black;}#sk-container-id-2 div.sk-toggleable__content {max-height: 0;max-width: 0;overflow: hidden;text-align: left;background-color: #f0f8ff;}#sk-container-id-2 div.sk-toggleable__content pre {margin: 0.2em;color: black;border-radius: 0.25em;background-color: #f0f8ff;}#sk-container-id-2 input.sk-toggleable__control:checked~div.sk-toggleable__content {max-height: 200px;max-width: 100%;overflow: auto;}#sk-container-id-2 input.sk-toggleable__control:checked~label.sk-toggleable__label-arrow:before {content: \"▾\";}#sk-container-id-2 div.sk-estimator input.sk-toggleable__control:checked~label.sk-toggleable__label {background-color: #d4ebff;}#sk-container-id-2 div.sk-label input.sk-toggleable__control:checked~label.sk-toggleable__label {background-color: #d4ebff;}#sk-container-id-2 input.sk-hidden--visually {border: 0;clip: rect(1px 1px 1px 1px);clip: rect(1px, 1px, 1px, 1px);height: 1px;margin: -1px;overflow: hidden;padding: 0;position: absolute;width: 1px;}#sk-container-id-2 div.sk-estimator {font-family: monospace;background-color: #f0f8ff;border: 1px dotted black;border-radius: 0.25em;box-sizing: border-box;margin-bottom: 0.5em;}#sk-container-id-2 div.sk-estimator:hover {background-color: #d4ebff;}#sk-container-id-2 div.sk-parallel-item::after {content: \"\";width: 100%;border-bottom: 1px solid gray;flex-grow: 1;}#sk-container-id-2 div.sk-label:hover label.sk-toggleable__label {background-color: #d4ebff;}#sk-container-id-2 div.sk-serial::before {content: \"\";position: absolute;border-left: 1px solid gray;box-sizing: border-box;top: 0;bottom: 0;left: 50%;z-index: 0;}#sk-container-id-2 div.sk-serial {display: flex;flex-direction: column;align-items: center;background-color: white;padding-right: 0.2em;padding-left: 0.2em;position: relative;}#sk-container-id-2 div.sk-item {position: relative;z-index: 1;}#sk-container-id-2 div.sk-parallel {display: flex;align-items: stretch;justify-content: center;background-color: white;position: relative;}#sk-container-id-2 div.sk-item::before, #sk-container-id-2 div.sk-parallel-item::before {content: \"\";position: absolute;border-left: 1px solid gray;box-sizing: border-box;top: 0;bottom: 0;left: 50%;z-index: -1;}#sk-container-id-2 div.sk-parallel-item {display: flex;flex-direction: column;z-index: 1;position: relative;background-color: white;}#sk-container-id-2 div.sk-parallel-item:first-child::after {align-self: flex-end;width: 50%;}#sk-container-id-2 div.sk-parallel-item:last-child::after {align-self: flex-start;width: 50%;}#sk-container-id-2 div.sk-parallel-item:only-child::after {width: 0;}#sk-container-id-2 div.sk-dashed-wrapped {border: 1px dashed gray;margin: 0 0.4em 0.5em 0.4em;box-sizing: border-box;padding-bottom: 0.4em;background-color: white;}#sk-container-id-2 div.sk-label label {font-family: monospace;font-weight: bold;display: inline-block;line-height: 1.2em;}#sk-container-id-2 div.sk-label-container {text-align: center;}#sk-container-id-2 div.sk-container {/* jupyter's `normalize.less` sets `[hidden] { display: none; }` but bootstrap.min.css set `[hidden] { display: none !important; }` so we also need the `!important` here to be able to override the default hidden behavior on the sphinx rendered scikit-learn.org. See: https://github.com/scikit-learn/scikit-learn/issues/21755 */display: inline-block !important;position: relative;}#sk-container-id-2 div.sk-text-repr-fallback {display: none;}</style><div id=\"sk-container-id-2\" class=\"sk-top-container\"><div class=\"sk-text-repr-fallback\"><pre>DecisionTreeRegressor(max_depth=6, max_leaf_nodes=19, min_samples_leaf=3,\n                      random_state=12345)</pre><b>In a Jupyter environment, please rerun this cell to show the HTML representation or trust the notebook. <br />On GitHub, the HTML representation is unable to render, please try loading this page with nbviewer.org.</b></div><div class=\"sk-container\" hidden><div class=\"sk-item\"><div class=\"sk-estimator sk-toggleable\"><input class=\"sk-toggleable__control sk-hidden--visually\" id=\"sk-estimator-id-2\" type=\"checkbox\" checked><label for=\"sk-estimator-id-2\" class=\"sk-toggleable__label sk-toggleable__label-arrow\">DecisionTreeRegressor</label><div class=\"sk-toggleable__content\"><pre>DecisionTreeRegressor(max_depth=6, max_leaf_nodes=19, min_samples_leaf=3,\n                      random_state=12345)</pre></div></div></div></div></div>"
     },
     "execution_count": 66,
     "metadata": {},
     "output_type": "execute_result"
    }
   ],
   "source": [
    "%%time\n",
    "model_dt = DecisionTreeRegressor(max_depth=6, max_leaf_nodes=19, min_samples_leaf=3, random_state=RANDOM_STATE)\n",
    "model_dt.fit(train_features_oe, train_target)"
   ]
  },
  {
   "cell_type": "code",
   "execution_count": 67,
   "metadata": {
    "pycharm": {
     "name": "#%%\n"
    }
   },
   "outputs": [
    {
     "name": "stdout",
     "output_type": "stream",
     "text": [
      "CPU times: user 26.7 s, sys: 115 ms, total: 26.8 s\n",
      "Wall time: 27.2 s\n"
     ]
    },
    {
     "data": {
      "text/plain": "RandomForestRegressor(max_depth=8, min_samples_leaf=2, random_state=12345)",
      "text/html": "<style>#sk-container-id-3 {color: black;background-color: white;}#sk-container-id-3 pre{padding: 0;}#sk-container-id-3 div.sk-toggleable {background-color: white;}#sk-container-id-3 label.sk-toggleable__label {cursor: pointer;display: block;width: 100%;margin-bottom: 0;padding: 0.3em;box-sizing: border-box;text-align: center;}#sk-container-id-3 label.sk-toggleable__label-arrow:before {content: \"▸\";float: left;margin-right: 0.25em;color: #696969;}#sk-container-id-3 label.sk-toggleable__label-arrow:hover:before {color: black;}#sk-container-id-3 div.sk-estimator:hover label.sk-toggleable__label-arrow:before {color: black;}#sk-container-id-3 div.sk-toggleable__content {max-height: 0;max-width: 0;overflow: hidden;text-align: left;background-color: #f0f8ff;}#sk-container-id-3 div.sk-toggleable__content pre {margin: 0.2em;color: black;border-radius: 0.25em;background-color: #f0f8ff;}#sk-container-id-3 input.sk-toggleable__control:checked~div.sk-toggleable__content {max-height: 200px;max-width: 100%;overflow: auto;}#sk-container-id-3 input.sk-toggleable__control:checked~label.sk-toggleable__label-arrow:before {content: \"▾\";}#sk-container-id-3 div.sk-estimator input.sk-toggleable__control:checked~label.sk-toggleable__label {background-color: #d4ebff;}#sk-container-id-3 div.sk-label input.sk-toggleable__control:checked~label.sk-toggleable__label {background-color: #d4ebff;}#sk-container-id-3 input.sk-hidden--visually {border: 0;clip: rect(1px 1px 1px 1px);clip: rect(1px, 1px, 1px, 1px);height: 1px;margin: -1px;overflow: hidden;padding: 0;position: absolute;width: 1px;}#sk-container-id-3 div.sk-estimator {font-family: monospace;background-color: #f0f8ff;border: 1px dotted black;border-radius: 0.25em;box-sizing: border-box;margin-bottom: 0.5em;}#sk-container-id-3 div.sk-estimator:hover {background-color: #d4ebff;}#sk-container-id-3 div.sk-parallel-item::after {content: \"\";width: 100%;border-bottom: 1px solid gray;flex-grow: 1;}#sk-container-id-3 div.sk-label:hover label.sk-toggleable__label {background-color: #d4ebff;}#sk-container-id-3 div.sk-serial::before {content: \"\";position: absolute;border-left: 1px solid gray;box-sizing: border-box;top: 0;bottom: 0;left: 50%;z-index: 0;}#sk-container-id-3 div.sk-serial {display: flex;flex-direction: column;align-items: center;background-color: white;padding-right: 0.2em;padding-left: 0.2em;position: relative;}#sk-container-id-3 div.sk-item {position: relative;z-index: 1;}#sk-container-id-3 div.sk-parallel {display: flex;align-items: stretch;justify-content: center;background-color: white;position: relative;}#sk-container-id-3 div.sk-item::before, #sk-container-id-3 div.sk-parallel-item::before {content: \"\";position: absolute;border-left: 1px solid gray;box-sizing: border-box;top: 0;bottom: 0;left: 50%;z-index: -1;}#sk-container-id-3 div.sk-parallel-item {display: flex;flex-direction: column;z-index: 1;position: relative;background-color: white;}#sk-container-id-3 div.sk-parallel-item:first-child::after {align-self: flex-end;width: 50%;}#sk-container-id-3 div.sk-parallel-item:last-child::after {align-self: flex-start;width: 50%;}#sk-container-id-3 div.sk-parallel-item:only-child::after {width: 0;}#sk-container-id-3 div.sk-dashed-wrapped {border: 1px dashed gray;margin: 0 0.4em 0.5em 0.4em;box-sizing: border-box;padding-bottom: 0.4em;background-color: white;}#sk-container-id-3 div.sk-label label {font-family: monospace;font-weight: bold;display: inline-block;line-height: 1.2em;}#sk-container-id-3 div.sk-label-container {text-align: center;}#sk-container-id-3 div.sk-container {/* jupyter's `normalize.less` sets `[hidden] { display: none; }` but bootstrap.min.css set `[hidden] { display: none !important; }` so we also need the `!important` here to be able to override the default hidden behavior on the sphinx rendered scikit-learn.org. See: https://github.com/scikit-learn/scikit-learn/issues/21755 */display: inline-block !important;position: relative;}#sk-container-id-3 div.sk-text-repr-fallback {display: none;}</style><div id=\"sk-container-id-3\" class=\"sk-top-container\"><div class=\"sk-text-repr-fallback\"><pre>RandomForestRegressor(max_depth=8, min_samples_leaf=2, random_state=12345)</pre><b>In a Jupyter environment, please rerun this cell to show the HTML representation or trust the notebook. <br />On GitHub, the HTML representation is unable to render, please try loading this page with nbviewer.org.</b></div><div class=\"sk-container\" hidden><div class=\"sk-item\"><div class=\"sk-estimator sk-toggleable\"><input class=\"sk-toggleable__control sk-hidden--visually\" id=\"sk-estimator-id-3\" type=\"checkbox\" checked><label for=\"sk-estimator-id-3\" class=\"sk-toggleable__label sk-toggleable__label-arrow\">RandomForestRegressor</label><div class=\"sk-toggleable__content\"><pre>RandomForestRegressor(max_depth=8, min_samples_leaf=2, random_state=12345)</pre></div></div></div></div></div>"
     },
     "execution_count": 67,
     "metadata": {},
     "output_type": "execute_result"
    }
   ],
   "source": [
    "%%time\n",
    "model_rf = RandomForestRegressor(max_depth=8, min_samples_leaf=2, n_estimators=100, random_state=RANDOM_STATE)\n",
    "model_rf.fit(train_features_oe, train_target)"
   ]
  },
  {
   "cell_type": "code",
   "execution_count": 68,
   "metadata": {
    "pycharm": {
     "name": "#%%\n"
    }
   },
   "outputs": [
    {
     "name": "stdout",
     "output_type": "stream",
     "text": [
      "CPU times: user 3.74 s, sys: 177 ms, total: 3.92 s\n",
      "Wall time: 1.24 s\n"
     ]
    },
    {
     "data": {
      "text/plain": "LGBMRegressor(learning_rate=0.3, max_depth=12, n_estimators=200,\n              random_state=12345)",
      "text/html": "<style>#sk-container-id-4 {color: black;background-color: white;}#sk-container-id-4 pre{padding: 0;}#sk-container-id-4 div.sk-toggleable {background-color: white;}#sk-container-id-4 label.sk-toggleable__label {cursor: pointer;display: block;width: 100%;margin-bottom: 0;padding: 0.3em;box-sizing: border-box;text-align: center;}#sk-container-id-4 label.sk-toggleable__label-arrow:before {content: \"▸\";float: left;margin-right: 0.25em;color: #696969;}#sk-container-id-4 label.sk-toggleable__label-arrow:hover:before {color: black;}#sk-container-id-4 div.sk-estimator:hover label.sk-toggleable__label-arrow:before {color: black;}#sk-container-id-4 div.sk-toggleable__content {max-height: 0;max-width: 0;overflow: hidden;text-align: left;background-color: #f0f8ff;}#sk-container-id-4 div.sk-toggleable__content pre {margin: 0.2em;color: black;border-radius: 0.25em;background-color: #f0f8ff;}#sk-container-id-4 input.sk-toggleable__control:checked~div.sk-toggleable__content {max-height: 200px;max-width: 100%;overflow: auto;}#sk-container-id-4 input.sk-toggleable__control:checked~label.sk-toggleable__label-arrow:before {content: \"▾\";}#sk-container-id-4 div.sk-estimator input.sk-toggleable__control:checked~label.sk-toggleable__label {background-color: #d4ebff;}#sk-container-id-4 div.sk-label input.sk-toggleable__control:checked~label.sk-toggleable__label {background-color: #d4ebff;}#sk-container-id-4 input.sk-hidden--visually {border: 0;clip: rect(1px 1px 1px 1px);clip: rect(1px, 1px, 1px, 1px);height: 1px;margin: -1px;overflow: hidden;padding: 0;position: absolute;width: 1px;}#sk-container-id-4 div.sk-estimator {font-family: monospace;background-color: #f0f8ff;border: 1px dotted black;border-radius: 0.25em;box-sizing: border-box;margin-bottom: 0.5em;}#sk-container-id-4 div.sk-estimator:hover {background-color: #d4ebff;}#sk-container-id-4 div.sk-parallel-item::after {content: \"\";width: 100%;border-bottom: 1px solid gray;flex-grow: 1;}#sk-container-id-4 div.sk-label:hover label.sk-toggleable__label {background-color: #d4ebff;}#sk-container-id-4 div.sk-serial::before {content: \"\";position: absolute;border-left: 1px solid gray;box-sizing: border-box;top: 0;bottom: 0;left: 50%;z-index: 0;}#sk-container-id-4 div.sk-serial {display: flex;flex-direction: column;align-items: center;background-color: white;padding-right: 0.2em;padding-left: 0.2em;position: relative;}#sk-container-id-4 div.sk-item {position: relative;z-index: 1;}#sk-container-id-4 div.sk-parallel {display: flex;align-items: stretch;justify-content: center;background-color: white;position: relative;}#sk-container-id-4 div.sk-item::before, #sk-container-id-4 div.sk-parallel-item::before {content: \"\";position: absolute;border-left: 1px solid gray;box-sizing: border-box;top: 0;bottom: 0;left: 50%;z-index: -1;}#sk-container-id-4 div.sk-parallel-item {display: flex;flex-direction: column;z-index: 1;position: relative;background-color: white;}#sk-container-id-4 div.sk-parallel-item:first-child::after {align-self: flex-end;width: 50%;}#sk-container-id-4 div.sk-parallel-item:last-child::after {align-self: flex-start;width: 50%;}#sk-container-id-4 div.sk-parallel-item:only-child::after {width: 0;}#sk-container-id-4 div.sk-dashed-wrapped {border: 1px dashed gray;margin: 0 0.4em 0.5em 0.4em;box-sizing: border-box;padding-bottom: 0.4em;background-color: white;}#sk-container-id-4 div.sk-label label {font-family: monospace;font-weight: bold;display: inline-block;line-height: 1.2em;}#sk-container-id-4 div.sk-label-container {text-align: center;}#sk-container-id-4 div.sk-container {/* jupyter's `normalize.less` sets `[hidden] { display: none; }` but bootstrap.min.css set `[hidden] { display: none !important; }` so we also need the `!important` here to be able to override the default hidden behavior on the sphinx rendered scikit-learn.org. See: https://github.com/scikit-learn/scikit-learn/issues/21755 */display: inline-block !important;position: relative;}#sk-container-id-4 div.sk-text-repr-fallback {display: none;}</style><div id=\"sk-container-id-4\" class=\"sk-top-container\"><div class=\"sk-text-repr-fallback\"><pre>LGBMRegressor(learning_rate=0.3, max_depth=12, n_estimators=200,\n              random_state=12345)</pre><b>In a Jupyter environment, please rerun this cell to show the HTML representation or trust the notebook. <br />On GitHub, the HTML representation is unable to render, please try loading this page with nbviewer.org.</b></div><div class=\"sk-container\" hidden><div class=\"sk-item\"><div class=\"sk-estimator sk-toggleable\"><input class=\"sk-toggleable__control sk-hidden--visually\" id=\"sk-estimator-id-4\" type=\"checkbox\" checked><label for=\"sk-estimator-id-4\" class=\"sk-toggleable__label sk-toggleable__label-arrow\">LGBMRegressor</label><div class=\"sk-toggleable__content\"><pre>LGBMRegressor(learning_rate=0.3, max_depth=12, n_estimators=200,\n              random_state=12345)</pre></div></div></div></div></div>"
     },
     "execution_count": 68,
     "metadata": {},
     "output_type": "execute_result"
    }
   ],
   "source": [
    "%%time\n",
    "model_lgbm = LGBMRegressor(n_estimators=200, max_depth=12, learning_rate=0.3, random_state=RANDOM_STATE)\n",
    "model_lgbm.fit(train_features_oe, train_target)"
   ]
  },
  {
   "cell_type": "markdown",
   "metadata": {
    "pycharm": {
     "name": "#%% md\n"
    }
   },
   "source": [
    "Быстрее всего обучается модель дерево решений и случайный лес  \n",
    "Сравним время предсказания моделей"
   ]
  },
  {
   "cell_type": "code",
   "execution_count": 69,
   "metadata": {
    "pycharm": {
     "name": "#%%\n"
    }
   },
   "outputs": [
    {
     "name": "stdout",
     "output_type": "stream",
     "text": [
      "CPU times: user 56.6 ms, sys: 24 ms, total: 80.6 ms\n",
      "Wall time: 38.2 ms\n"
     ]
    }
   ],
   "source": [
    "%%time\n",
    "dt_train_preds = model_dt.predict(train_features_oe)"
   ]
  },
  {
   "cell_type": "code",
   "execution_count": 70,
   "metadata": {
    "pycharm": {
     "name": "#%%\n"
    }
   },
   "outputs": [
    {
     "name": "stdout",
     "output_type": "stream",
     "text": [
      "CPU times: user 1.05 s, sys: 27.4 ms, total: 1.08 s\n",
      "Wall time: 1.05 s\n"
     ]
    }
   ],
   "source": [
    "%%time\n",
    "rf_train_preds = model_rf.predict(train_features_oe)"
   ]
  },
  {
   "cell_type": "code",
   "execution_count": 71,
   "metadata": {
    "pycharm": {
     "name": "#%%\n"
    }
   },
   "outputs": [
    {
     "name": "stdout",
     "output_type": "stream",
     "text": [
      "CPU times: user 2.8 s, sys: 24.6 ms, total: 2.82 s\n",
      "Wall time: 852 ms\n"
     ]
    }
   ],
   "source": [
    "%%time\n",
    "lgbm_train_preds = model_lgbm.predict(train_features_oe)"
   ]
  },
  {
   "cell_type": "markdown",
   "metadata": {
    "pycharm": {
     "name": "#%% md\n"
    }
   },
   "source": [
    "Быстрее всего предсказывает модель дерево решений и случайеый лес  \n",
    "Проверим модели на валидационной выборке, чтобы получить значения метрики и сравнить качество моделей"
   ]
  },
  {
   "cell_type": "code",
   "execution_count": 72,
   "metadata": {
    "pycharm": {
     "name": "#%%\n"
    }
   },
   "outputs": [
    {
     "name": "stdout",
     "output_type": "stream",
     "text": [
      "RMSE dt train:2489.0456448869654\n",
      "RMSE dt valid: 2477.1815501676665\n"
     ]
    }
   ],
   "source": [
    "dt_valid_preds = model_dt.predict(valid_features_oe)\n",
    "print(f'RMSE dt train:{abs(mean_squared_error(train_target, dt_train_preds)) **0.5}\\n'\n",
    "      f'RMSE dt valid: {abs(mean_squared_error(valid_target, dt_valid_preds)) ** 0.5}')"
   ]
  },
  {
   "cell_type": "code",
   "execution_count": 73,
   "metadata": {
    "pycharm": {
     "name": "#%%\n"
    }
   },
   "outputs": [
    {
     "name": "stdout",
     "output_type": "stream",
     "text": [
      "RMSE rf train:1977.7251807404546\n",
      "RMSE rf: 1994.3240596837825\n"
     ]
    }
   ],
   "source": [
    "rf_valid_preds = model_rf.predict(valid_features_oe)\n",
    "print(f'RMSE rf train:{abs(mean_squared_error(train_target, rf_train_preds)) **0.5}\\n'\n",
    "      f'RMSE rf: {abs(mean_squared_error(valid_target, rf_valid_preds)) ** 0.5}')"
   ]
  },
  {
   "cell_type": "code",
   "execution_count": 74,
   "metadata": {
    "pycharm": {
     "name": "#%%\n"
    }
   },
   "outputs": [
    {
     "name": "stdout",
     "output_type": "stream",
     "text": [
      "RMSE lgbm train:1393.0351219049385\n",
      "RMSE lgbm: 1525.7708407368227\n"
     ]
    }
   ],
   "source": [
    "lgbm_valid_preds = model_lgbm.predict(valid_features_oe)\n",
    "print(f'RMSE lgbm train:{abs(mean_squared_error(train_target, lgbm_train_preds)) **0.5}\\n'\n",
    "      f'RMSE lgbm: {abs(mean_squared_error(valid_target, lgbm_valid_preds)) ** 0.5}')"
   ]
  },
  {
   "cell_type": "markdown",
   "metadata": {
    "pycharm": {
     "name": "#%% md\n"
    }
   },
   "source": [
    "Лучшую метрику показывает lgbm- модель"
   ]
  },
  {
   "cell_type": "markdown",
   "metadata": {
    "pycharm": {
     "name": "#%% md\n"
    }
   },
   "source": [
    "Так как у нас есть требования и к скорости обучения и к скорости предсказания и к качеству модели, выберем деревья с градиентным бустингом. Протестируем эту модель на тестовых данных."
   ]
  },
  {
   "cell_type": "code",
   "execution_count": 77,
   "metadata": {
    "pycharm": {
     "name": "#%%\n"
    }
   },
   "outputs": [
    {
     "name": "stdout",
     "output_type": "stream",
     "text": [
      "RMSE lgbm test: 1529.0086735036639\n"
     ]
    }
   ],
   "source": [
    "print(f'RMSE lgbm test: {abs(mean_squared_error(test_target, model_lgbm.predict(test_features_oe))) ** 0.5}')"
   ]
  },
  {
   "cell_type": "markdown",
   "metadata": {
    "pycharm": {
     "name": "#%% md\n"
    }
   },
   "source": [
    "Модель деревья решений с градиентным бустингом показывает почти такое же значение метрики на тестовых данных, как и на валидационной выборке."
   ]
  },
  {
   "cell_type": "markdown",
   "metadata": {
    "pycharm": {
     "name": "#%% md\n"
    }
   },
   "source": [
    "Посмотрим, какие признаки оказались наиболее важными для принятия решений моделью."
   ]
  },
  {
   "cell_type": "code",
   "execution_count": 78,
   "metadata": {
    "pycharm": {
     "name": "#%%\n"
    }
   },
   "outputs": [
    {
     "name": "stdout",
     "output_type": "stream",
     "text": [
      "Feature 1: 1182.00\n",
      "Feature 2: 1288.00\n",
      "Feature 3: 442.00\n",
      "Feature 4: 286.00\n",
      "Feature 5: 473.00\n",
      "Feature 6: 468.00\n",
      "Feature 7: 129.00\n",
      "Feature 8: 909.00\n",
      "Feature 9: 33.00\n",
      "Feature 10: 665.00\n",
      "Feature 11: 125.00\n"
     ]
    },
    {
     "data": {
      "text/plain": "<Figure size 640x480 with 1 Axes>",
      "image/png": "[encoded data removed]"
     },
     "metadata": {},
     "output_type": "display_data"
    }
   ],
   "source": [
    "feature_importances = model_lgbm.feature_importances_\n",
    "for i, importance in enumerate(feature_importances):\n",
    "    print(f\"Feature {i+1}: {importance:.2f}\")\n",
    "\n",
    "feature_names = train_features_oe.columns.tolist()\n",
    "\n",
    "feature_importance = model_lgbm.feature_importances_\n",
    "feature_imp = pd.DataFrame(sorted(zip(feature_importance, train_features_oe.columns)), columns=['Value','Feature'])\n",
    "sns.barplot(x=\"Value\", y=\"Feature\", data=feature_imp.sort_values(by=\"Value\", ascending=False))\n",
    "plt.title('Feature importance')\n",
    "plt.tight_layout()\n",
    "plt.show();"
   ]
  },
  {
   "cell_type": "markdown",
   "metadata": {
    "pycharm": {
     "name": "#%% md\n"
    }
   },
   "source": [
    "Важными признаками для принятия решений модели дерево решений, в порядке убывания важности являются  мощность (л.с), год регистрации автомобиля, модель авто, брэнд."
   ]
  },
  {
   "cell_type": "markdown",
   "metadata": {
    "pycharm": {
     "name": "#%% md\n"
    }
   },
   "source": [
    "Таким образом, мы решили поставленную задачу - построили модель для определения рыночной стоимости автомобиля клиента с метрикой RMSE менее 2500.\n",
    "\n",
    "Нами были проведены знакомство с данными, их предобработка (удаление дубликатов, заполнение пропусков, устранение аномальных данных). Во многих количествееных данных были обнаружены нулевые значения. Возможно, в поле есть дефолтное значение, а поле ввода не является обязательным на сайте, поэтому эти данные не вошли в обучающую выборку и были удалены.\n",
    "Мы преобразовали категориальные признаки методом OrdinalEncoder и масштабировали количественные признаки методом стандартизации. \n",
    "Для решения задачи были выбраны три модели - дерево решений, ансамбль деревьев (модель случайного леса) и модель ансамбля стохастического градиентного бустинга lgbm. \n",
    "Критерии, которые нам важны: качество предсказания, время обучения модели, время предсказания модели.\n",
    "К сожалению, не нашлась модель, лучашая по всем трем критериям, но самой лучшей с точки зрения метрики оказалась модель lgbm. С параметрами n_estimators=200, max_depth=12, learning_rate=0.3"
   ]
  }
 ],
 "metadata": {
  "ExecuteTimeLog": [
   {
    "duration": 83,
    "start_time": "2023-09-06T18:03:10.314Z"
   },
   {
    "duration": 9057,
    "start_time": "2023-09-06T18:06:14.901Z"
   },
   {
    "duration": 1172,
    "start_time": "2023-09-06T18:06:23.960Z"
   },
   {
    "duration": 31,
    "start_time": "2023-09-06T18:06:25.133Z"
   },
   {
    "duration": 3,
    "start_time": "2023-09-06T18:06:25.165Z"
   },
   {
    "duration": 808,
    "start_time": "2023-09-06T18:06:25.171Z"
   },
   {
    "duration": 464,
    "start_time": "2023-09-06T18:06:25.980Z"
   },
   {
    "duration": 6,
    "start_time": "2023-09-06T18:06:26.446Z"
   },
   {
    "duration": 56,
    "start_time": "2023-09-06T18:06:26.454Z"
   },
   {
    "duration": 4,
    "start_time": "2023-09-06T18:06:26.511Z"
   },
   {
    "duration": 50,
    "start_time": "2023-09-06T18:06:26.533Z"
   },
   {
    "duration": 4,
    "start_time": "2023-09-06T18:06:26.584Z"
   },
   {
    "duration": 462,
    "start_time": "2023-09-06T18:06:26.589Z"
   },
   {
    "duration": 20,
    "start_time": "2023-09-06T18:06:27.053Z"
   },
   {
    "duration": 3,
    "start_time": "2023-09-06T18:06:27.075Z"
   },
   {
    "duration": 209,
    "start_time": "2023-09-06T18:06:27.079Z"
   },
   {
    "duration": 196,
    "start_time": "2023-09-06T18:06:27.290Z"
   },
   {
    "duration": 150,
    "start_time": "2023-09-06T18:06:27.488Z"
   },
   {
    "duration": 246,
    "start_time": "2023-09-06T18:06:27.639Z"
   },
   {
    "duration": 18,
    "start_time": "2023-09-06T18:06:27.887Z"
   },
   {
    "duration": 62,
    "start_time": "2023-09-06T18:06:27.907Z"
   },
   {
    "duration": 709,
    "start_time": "2023-09-06T18:06:27.971Z"
   },
   {
    "duration": 94,
    "start_time": "2023-09-06T18:06:28.681Z"
   },
   {
    "duration": 71,
    "start_time": "2023-09-06T18:06:28.777Z"
   },
   {
    "duration": 60,
    "start_time": "2023-09-06T18:06:28.850Z"
   },
   {
    "duration": 43,
    "start_time": "2023-09-06T18:06:28.911Z"
   },
   {
    "duration": 62,
    "start_time": "2023-09-06T18:06:28.956Z"
   },
   {
    "duration": 115,
    "start_time": "2023-09-06T18:06:29.019Z"
   },
   {
    "duration": 31,
    "start_time": "2023-09-06T18:06:29.136Z"
   },
   {
    "duration": 138,
    "start_time": "2023-09-06T18:06:29.168Z"
   },
   {
    "duration": 66,
    "start_time": "2023-09-06T18:06:29.308Z"
   },
   {
    "duration": 80,
    "start_time": "2023-09-06T18:06:29.376Z"
   },
   {
    "duration": 102,
    "start_time": "2023-09-06T18:06:29.457Z"
   },
   {
    "duration": 32,
    "start_time": "2023-09-06T18:06:29.561Z"
   },
   {
    "duration": 151,
    "start_time": "2023-09-06T18:06:29.594Z"
   },
   {
    "duration": 18,
    "start_time": "2023-09-06T18:06:29.746Z"
   },
   {
    "duration": 192,
    "start_time": "2023-09-06T18:06:29.765Z"
   },
   {
    "duration": 16,
    "start_time": "2023-09-06T18:06:29.958Z"
   },
   {
    "duration": 16,
    "start_time": "2023-09-06T18:06:29.976Z"
   },
   {
    "duration": 4,
    "start_time": "2023-09-06T18:06:29.994Z"
   },
   {
    "duration": 39,
    "start_time": "2023-09-06T18:06:30.000Z"
   },
   {
    "duration": 79,
    "start_time": "2023-09-06T18:06:30.043Z"
   },
   {
    "duration": 70,
    "start_time": "2023-09-06T18:06:30.124Z"
   },
   {
    "duration": 150,
    "start_time": "2023-09-06T18:06:30.196Z"
   },
   {
    "duration": 33,
    "start_time": "2023-09-06T18:06:30.347Z"
   },
   {
    "duration": 19,
    "start_time": "2023-09-06T18:06:30.381Z"
   },
   {
    "duration": 1781,
    "start_time": "2023-09-06T20:06:36.302Z"
   },
   {
    "duration": 3205,
    "start_time": "2023-09-06T20:06:39.893Z"
   },
   {
    "duration": 36,
    "start_time": "2023-09-06T20:06:43.101Z"
   },
   {
    "duration": 4,
    "start_time": "2023-09-06T20:06:43.139Z"
   },
   {
    "duration": 1134,
    "start_time": "2023-09-06T20:06:43.145Z"
   },
   {
    "duration": 1046,
    "start_time": "2023-09-06T20:06:55.949Z"
   },
   {
    "duration": 28,
    "start_time": "2023-09-06T20:06:56.997Z"
   },
   {
    "duration": 4,
    "start_time": "2023-09-06T20:07:12.681Z"
   },
   {
    "duration": 992,
    "start_time": "2023-09-06T20:07:16.340Z"
   },
   {
    "duration": 666,
    "start_time": "2023-09-06T20:07:24.632Z"
   },
   {
    "duration": 15,
    "start_time": "2023-09-06T20:07:26.078Z"
   },
   {
    "duration": 57,
    "start_time": "2023-09-06T20:07:38.336Z"
   },
   {
    "duration": 4,
    "start_time": "2023-09-06T20:07:41.957Z"
   },
   {
    "duration": 68,
    "start_time": "2023-09-06T20:07:42.321Z"
   },
   {
    "duration": 4,
    "start_time": "2023-09-06T20:07:45.932Z"
   },
   {
    "duration": 606,
    "start_time": "2023-09-06T20:07:46.896Z"
   },
   {
    "duration": 23,
    "start_time": "2023-09-06T20:07:59.488Z"
   },
   {
    "duration": 3,
    "start_time": "2023-09-06T20:08:01.514Z"
   },
   {
    "duration": 251,
    "start_time": "2023-09-06T20:08:01.990Z"
   },
   {
    "duration": 258,
    "start_time": "2023-09-06T20:08:07.290Z"
   },
   {
    "duration": 190,
    "start_time": "2023-09-06T20:08:07.566Z"
   },
   {
    "duration": 256,
    "start_time": "2023-09-06T20:08:07.858Z"
   },
   {
    "duration": 28,
    "start_time": "2023-09-06T20:08:08.295Z"
   },
   {
    "duration": 38,
    "start_time": "2023-09-06T20:08:09.602Z"
   },
   {
    "duration": 869,
    "start_time": "2023-09-06T20:08:09.984Z"
   },
   {
    "duration": 136,
    "start_time": "2023-09-06T20:08:10.855Z"
   },
   {
    "duration": 85,
    "start_time": "2023-09-06T20:09:14.265Z"
   },
   {
    "duration": 85,
    "start_time": "2023-09-06T20:09:15.902Z"
   },
   {
    "duration": 68,
    "start_time": "2023-09-06T20:09:45.486Z"
   },
   {
    "duration": 83,
    "start_time": "2023-09-06T20:09:45.634Z"
   },
   {
    "duration": 120,
    "start_time": "2023-09-06T20:09:45.986Z"
   },
   {
    "duration": 61,
    "start_time": "2023-09-06T20:09:46.623Z"
   },
   {
    "duration": 185,
    "start_time": "2023-09-06T20:09:48.942Z"
   },
   {
    "duration": 74,
    "start_time": "2023-09-06T20:09:49.290Z"
   },
   {
    "duration": 111,
    "start_time": "2023-09-06T20:09:51.221Z"
   },
   {
    "duration": 129,
    "start_time": "2023-09-06T20:09:51.826Z"
   },
   {
    "duration": 40,
    "start_time": "2023-09-06T20:10:14.815Z"
   },
   {
    "duration": 177,
    "start_time": "2023-09-06T20:10:23.686Z"
   },
   {
    "duration": 26,
    "start_time": "2023-09-06T20:10:27.819Z"
   },
   {
    "duration": 222,
    "start_time": "2023-09-06T20:10:43.275Z"
   },
   {
    "duration": 26,
    "start_time": "2023-09-06T20:10:43.619Z"
   },
   {
    "duration": 31,
    "start_time": "2023-09-06T20:10:44.013Z"
   },
   {
    "duration": 8,
    "start_time": "2023-09-06T20:10:44.401Z"
   },
   {
    "duration": 16,
    "start_time": "2023-09-06T20:10:44.797Z"
   },
   {
    "duration": 42,
    "start_time": "2023-09-06T20:10:45.251Z"
   },
   {
    "duration": 99,
    "start_time": "2023-09-06T20:10:47.693Z"
   },
   {
    "duration": 193,
    "start_time": "2023-09-06T20:12:06.798Z"
   },
   {
    "duration": 162,
    "start_time": "2023-09-06T20:14:24.351Z"
   },
   {
    "duration": 22,
    "start_time": "2023-09-06T20:14:27.296Z"
   },
   {
    "duration": 46,
    "start_time": "2023-09-06T20:14:34.529Z"
   },
   {
    "duration": 28,
    "start_time": "2023-09-06T20:14:51.345Z"
   },
   {
    "duration": 6,
    "start_time": "2023-09-06T20:15:00.254Z"
   },
   {
    "duration": 1019,
    "start_time": "2023-09-06T20:15:00.262Z"
   },
   {
    "duration": 26,
    "start_time": "2023-09-06T20:15:01.284Z"
   },
   {
    "duration": 57,
    "start_time": "2023-09-06T20:15:01.312Z"
   },
   {
    "duration": 1294,
    "start_time": "2023-09-06T20:15:01.375Z"
   },
   {
    "duration": 664,
    "start_time": "2023-09-06T20:15:02.672Z"
   },
   {
    "duration": 8,
    "start_time": "2023-09-06T20:15:03.338Z"
   },
   {
    "duration": 73,
    "start_time": "2023-09-06T20:15:03.348Z"
   },
   {
    "duration": 16,
    "start_time": "2023-09-06T20:15:03.423Z"
   },
   {
    "duration": 69,
    "start_time": "2023-09-06T20:15:03.440Z"
   },
   {
    "duration": 4,
    "start_time": "2023-09-06T20:15:03.511Z"
   },
   {
    "duration": 627,
    "start_time": "2023-09-06T20:15:03.517Z"
   },
   {
    "duration": 50,
    "start_time": "2023-09-06T20:15:04.146Z"
   },
   {
    "duration": 5,
    "start_time": "2023-09-06T20:15:04.199Z"
   },
   {
    "duration": 278,
    "start_time": "2023-09-06T20:15:04.206Z"
   },
   {
    "duration": 251,
    "start_time": "2023-09-06T20:15:04.486Z"
   },
   {
    "duration": 208,
    "start_time": "2023-09-06T20:15:04.740Z"
   },
   {
    "duration": 281,
    "start_time": "2023-09-06T20:15:04.949Z"
   },
   {
    "duration": 38,
    "start_time": "2023-09-06T20:15:05.232Z"
   },
   {
    "duration": 39,
    "start_time": "2023-09-06T20:15:05.271Z"
   },
   {
    "duration": 943,
    "start_time": "2023-09-06T20:15:05.312Z"
   },
   {
    "duration": 132,
    "start_time": "2023-09-06T20:15:06.257Z"
   },
   {
    "duration": 103,
    "start_time": "2023-09-06T20:15:06.393Z"
   },
   {
    "duration": 76,
    "start_time": "2023-09-06T20:15:06.500Z"
   },
   {
    "duration": 117,
    "start_time": "2023-09-06T20:15:06.578Z"
   },
   {
    "duration": 126,
    "start_time": "2023-09-06T20:15:06.696Z"
   },
   {
    "duration": 34,
    "start_time": "2023-09-06T20:15:06.824Z"
   },
   {
    "duration": 183,
    "start_time": "2023-09-06T20:15:06.866Z"
   },
   {
    "duration": 83,
    "start_time": "2023-09-06T20:15:07.051Z"
   },
   {
    "duration": 104,
    "start_time": "2023-09-06T20:15:07.135Z"
   },
   {
    "duration": 127,
    "start_time": "2023-09-06T20:15:07.241Z"
   },
   {
    "duration": 46,
    "start_time": "2023-09-06T20:15:07.372Z"
   },
   {
    "duration": 237,
    "start_time": "2023-09-06T20:15:07.420Z"
   },
   {
    "duration": 35,
    "start_time": "2023-09-06T20:15:07.659Z"
   },
   {
    "duration": 318,
    "start_time": "2023-09-06T20:15:07.696Z"
   },
   {
    "duration": 21,
    "start_time": "2023-09-06T20:15:08.017Z"
   },
   {
    "duration": 44,
    "start_time": "2023-09-06T20:15:08.040Z"
   },
   {
    "duration": 7,
    "start_time": "2023-09-06T20:15:08.086Z"
   },
   {
    "duration": 23,
    "start_time": "2023-09-06T20:15:08.094Z"
   },
   {
    "duration": 68,
    "start_time": "2023-09-06T20:15:08.118Z"
   },
   {
    "duration": 95,
    "start_time": "2023-09-06T20:15:08.188Z"
   },
   {
    "duration": 148,
    "start_time": "2023-09-06T20:15:08.286Z"
   },
   {
    "duration": 21,
    "start_time": "2023-09-06T20:17:56.406Z"
   },
   {
    "duration": 9,
    "start_time": "2023-09-06T20:18:05.624Z"
   },
   {
    "duration": 45,
    "start_time": "2023-09-06T20:18:19.241Z"
   },
   {
    "duration": 162,
    "start_time": "2023-09-06T20:20:18.936Z"
   },
   {
    "duration": 192,
    "start_time": "2023-09-06T20:20:42.623Z"
   },
   {
    "duration": 199,
    "start_time": "2023-09-06T20:20:50.392Z"
   },
   {
    "duration": 27,
    "start_time": "2023-09-06T20:22:00.758Z"
   },
   {
    "duration": 20,
    "start_time": "2023-09-06T20:22:09.027Z"
   },
   {
    "duration": 27,
    "start_time": "2023-09-06T20:22:30.520Z"
   },
   {
    "duration": 6,
    "start_time": "2023-09-06T20:22:36.428Z"
   },
   {
    "duration": 981,
    "start_time": "2023-09-06T20:22:36.437Z"
   },
   {
    "duration": 26,
    "start_time": "2023-09-06T20:22:37.420Z"
   },
   {
    "duration": 19,
    "start_time": "2023-09-06T20:22:37.449Z"
   },
   {
    "duration": 1034,
    "start_time": "2023-09-06T20:22:37.476Z"
   },
   {
    "duration": 612,
    "start_time": "2023-09-06T20:22:38.513Z"
   },
   {
    "duration": 8,
    "start_time": "2023-09-06T20:22:39.127Z"
   },
   {
    "duration": 70,
    "start_time": "2023-09-06T20:22:39.137Z"
   },
   {
    "duration": 5,
    "start_time": "2023-09-06T20:22:39.209Z"
   },
   {
    "duration": 80,
    "start_time": "2023-09-06T20:22:39.218Z"
   },
   {
    "duration": 7,
    "start_time": "2023-09-06T20:22:39.300Z"
   },
   {
    "duration": 604,
    "start_time": "2023-09-06T20:22:39.309Z"
   },
   {
    "duration": 33,
    "start_time": "2023-09-06T20:22:39.915Z"
   },
   {
    "duration": 22,
    "start_time": "2023-09-06T20:22:39.950Z"
   },
   {
    "duration": 227,
    "start_time": "2023-09-06T20:22:39.974Z"
   },
   {
    "duration": 269,
    "start_time": "2023-09-06T20:22:40.203Z"
   },
   {
    "duration": 177,
    "start_time": "2023-09-06T20:22:40.477Z"
   },
   {
    "duration": 260,
    "start_time": "2023-09-06T20:22:40.656Z"
   },
   {
    "duration": 26,
    "start_time": "2023-09-06T20:22:40.917Z"
   },
   {
    "duration": 62,
    "start_time": "2023-09-06T20:22:40.944Z"
   },
   {
    "duration": 977,
    "start_time": "2023-09-06T20:22:41.008Z"
   },
   {
    "duration": 133,
    "start_time": "2023-09-06T20:22:41.989Z"
   },
   {
    "duration": 106,
    "start_time": "2023-09-06T20:22:42.124Z"
   },
   {
    "duration": 63,
    "start_time": "2023-09-06T20:22:42.232Z"
   },
   {
    "duration": 93,
    "start_time": "2023-09-06T20:22:42.297Z"
   },
   {
    "duration": 128,
    "start_time": "2023-09-06T20:22:42.392Z"
   },
   {
    "duration": 66,
    "start_time": "2023-09-06T20:22:42.521Z"
   },
   {
    "duration": 166,
    "start_time": "2023-09-06T20:22:42.592Z"
   },
   {
    "duration": 80,
    "start_time": "2023-09-06T20:22:42.767Z"
   },
   {
    "duration": 108,
    "start_time": "2023-09-06T20:22:42.849Z"
   },
   {
    "duration": 137,
    "start_time": "2023-09-06T20:22:42.958Z"
   },
   {
    "duration": 40,
    "start_time": "2023-09-06T20:22:43.097Z"
   },
   {
    "duration": 248,
    "start_time": "2023-09-06T20:22:43.138Z"
   },
   {
    "duration": 21,
    "start_time": "2023-09-06T20:22:43.389Z"
   },
   {
    "duration": 240,
    "start_time": "2023-09-06T20:22:43.412Z"
   },
   {
    "duration": 33,
    "start_time": "2023-09-06T20:22:43.654Z"
   },
   {
    "duration": 19,
    "start_time": "2023-09-06T20:22:43.689Z"
   },
   {
    "duration": 5,
    "start_time": "2023-09-06T20:22:43.710Z"
   },
   {
    "duration": 26,
    "start_time": "2023-09-06T20:22:43.717Z"
   },
   {
    "duration": 54,
    "start_time": "2023-09-06T20:22:43.745Z"
   },
   {
    "duration": 92,
    "start_time": "2023-09-06T20:22:43.802Z"
   },
   {
    "duration": 205,
    "start_time": "2023-09-06T20:22:43.897Z"
   },
   {
    "duration": 25,
    "start_time": "2023-09-06T20:22:44.105Z"
   },
   {
    "duration": 13,
    "start_time": "2023-09-06T20:22:44.132Z"
   },
   {
    "duration": 72,
    "start_time": "2023-09-06T20:22:44.147Z"
   },
   {
    "duration": 206,
    "start_time": "2023-09-06T20:22:44.222Z"
   },
   {
    "duration": 23,
    "start_time": "2023-09-06T20:22:44.429Z"
   },
   {
    "duration": 28,
    "start_time": "2023-09-06T20:22:53.727Z"
   },
   {
    "duration": 155,
    "start_time": "2023-09-06T20:32:38.864Z"
   },
   {
    "duration": 158,
    "start_time": "2023-09-06T20:32:50.998Z"
   },
   {
    "duration": 28,
    "start_time": "2023-09-06T20:33:03.366Z"
   },
   {
    "duration": 7,
    "start_time": "2023-09-06T20:35:23.189Z"
   },
   {
    "duration": 1007,
    "start_time": "2023-09-06T20:35:23.198Z"
   },
   {
    "duration": 40,
    "start_time": "2023-09-06T20:35:24.207Z"
   },
   {
    "duration": 25,
    "start_time": "2023-09-06T20:35:24.249Z"
   },
   {
    "duration": 986,
    "start_time": "2023-09-06T20:35:24.276Z"
   },
   {
    "duration": 744,
    "start_time": "2023-09-06T20:35:25.274Z"
   },
   {
    "duration": 8,
    "start_time": "2023-09-06T20:35:26.020Z"
   },
   {
    "duration": 77,
    "start_time": "2023-09-06T20:35:26.029Z"
   },
   {
    "duration": 4,
    "start_time": "2023-09-06T20:35:26.108Z"
   },
   {
    "duration": 72,
    "start_time": "2023-09-06T20:35:26.114Z"
   },
   {
    "duration": 5,
    "start_time": "2023-09-06T20:35:26.189Z"
   },
   {
    "duration": 588,
    "start_time": "2023-09-06T20:35:26.196Z"
   },
   {
    "duration": 28,
    "start_time": "2023-09-06T20:35:26.786Z"
   },
   {
    "duration": 4,
    "start_time": "2023-09-06T20:35:26.818Z"
   },
   {
    "duration": 266,
    "start_time": "2023-09-06T20:35:26.824Z"
   },
   {
    "duration": 268,
    "start_time": "2023-09-06T20:35:27.092Z"
   },
   {
    "duration": 192,
    "start_time": "2023-09-06T20:35:27.361Z"
   },
   {
    "duration": 257,
    "start_time": "2023-09-06T20:35:27.554Z"
   },
   {
    "duration": 31,
    "start_time": "2023-09-06T20:35:27.813Z"
   },
   {
    "duration": 65,
    "start_time": "2023-09-06T20:35:27.846Z"
   },
   {
    "duration": 962,
    "start_time": "2023-09-06T20:35:27.913Z"
   },
   {
    "duration": 136,
    "start_time": "2023-09-06T20:35:28.879Z"
   },
   {
    "duration": 87,
    "start_time": "2023-09-06T20:35:29.017Z"
   },
   {
    "duration": 36,
    "start_time": "2023-09-06T20:35:29.106Z"
   },
   {
    "duration": 100,
    "start_time": "2023-09-06T20:35:29.143Z"
   },
   {
    "duration": 141,
    "start_time": "2023-09-06T20:35:29.245Z"
   },
   {
    "duration": 33,
    "start_time": "2023-09-06T20:35:29.388Z"
   },
   {
    "duration": 166,
    "start_time": "2023-09-06T20:35:29.423Z"
   },
   {
    "duration": 92,
    "start_time": "2023-09-06T20:35:29.590Z"
   },
   {
    "duration": 93,
    "start_time": "2023-09-06T20:35:29.684Z"
   },
   {
    "duration": 124,
    "start_time": "2023-09-06T20:35:29.783Z"
   },
   {
    "duration": 66,
    "start_time": "2023-09-06T20:35:29.909Z"
   },
   {
    "duration": 202,
    "start_time": "2023-09-06T20:35:29.983Z"
   },
   {
    "duration": 24,
    "start_time": "2023-09-06T20:35:30.188Z"
   },
   {
    "duration": 275,
    "start_time": "2023-09-06T20:35:30.213Z"
   },
   {
    "duration": 19,
    "start_time": "2023-09-06T20:35:30.490Z"
   },
   {
    "duration": 50,
    "start_time": "2023-09-06T20:35:30.511Z"
   },
   {
    "duration": 40,
    "start_time": "2023-09-06T20:35:30.563Z"
   },
   {
    "duration": 77,
    "start_time": "2023-09-06T20:35:30.605Z"
   },
   {
    "duration": 96,
    "start_time": "2023-09-06T20:35:30.685Z"
   },
   {
    "duration": 101,
    "start_time": "2023-09-06T20:35:30.785Z"
   },
   {
    "duration": 197,
    "start_time": "2023-09-06T20:35:30.888Z"
   },
   {
    "duration": 25,
    "start_time": "2023-09-06T20:35:31.090Z"
   },
   {
    "duration": 44,
    "start_time": "2023-09-06T20:35:31.118Z"
   },
   {
    "duration": 74,
    "start_time": "2023-09-06T20:35:31.164Z"
   },
   {
    "duration": 175,
    "start_time": "2023-09-06T20:35:31.240Z"
   },
   {
    "duration": 159,
    "start_time": "2023-09-06T20:35:48.143Z"
   },
   {
    "duration": 10,
    "start_time": "2023-09-06T20:36:30.131Z"
   },
   {
    "duration": 7,
    "start_time": "2023-09-06T20:37:46.299Z"
   },
   {
    "duration": 5,
    "start_time": "2023-09-06T20:39:38.426Z"
   },
   {
    "duration": 1065,
    "start_time": "2023-09-06T20:39:38.434Z"
   },
   {
    "duration": 27,
    "start_time": "2023-09-06T20:39:39.501Z"
   },
   {
    "duration": 4,
    "start_time": "2023-09-06T20:39:39.531Z"
   },
   {
    "duration": 1065,
    "start_time": "2023-09-06T20:39:39.536Z"
   },
   {
    "duration": 597,
    "start_time": "2023-09-06T20:39:40.603Z"
   },
   {
    "duration": 9,
    "start_time": "2023-09-06T20:39:41.201Z"
   },
   {
    "duration": 92,
    "start_time": "2023-09-06T20:39:41.212Z"
   },
   {
    "duration": 4,
    "start_time": "2023-09-06T20:39:41.307Z"
   },
   {
    "duration": 43,
    "start_time": "2023-09-06T20:39:41.313Z"
   },
   {
    "duration": 6,
    "start_time": "2023-09-06T20:39:41.358Z"
   },
   {
    "duration": 575,
    "start_time": "2023-09-06T20:39:41.366Z"
   },
   {
    "duration": 34,
    "start_time": "2023-09-06T20:39:41.943Z"
   },
   {
    "duration": 3,
    "start_time": "2023-09-06T20:39:41.979Z"
   },
   {
    "duration": 252,
    "start_time": "2023-09-06T20:39:41.989Z"
   },
   {
    "duration": 292,
    "start_time": "2023-09-06T20:39:42.243Z"
   },
   {
    "duration": 190,
    "start_time": "2023-09-06T20:39:42.537Z"
   },
   {
    "duration": 275,
    "start_time": "2023-09-06T20:39:42.728Z"
   },
   {
    "duration": 25,
    "start_time": "2023-09-06T20:39:43.005Z"
   },
   {
    "duration": 65,
    "start_time": "2023-09-06T20:39:43.032Z"
   },
   {
    "duration": 923,
    "start_time": "2023-09-06T20:39:43.099Z"
   },
   {
    "duration": 136,
    "start_time": "2023-09-06T20:39:44.023Z"
   },
   {
    "duration": 106,
    "start_time": "2023-09-06T20:39:44.167Z"
   },
   {
    "duration": 43,
    "start_time": "2023-09-06T20:39:44.279Z"
   },
   {
    "duration": 112,
    "start_time": "2023-09-06T20:39:44.324Z"
   },
   {
    "duration": 124,
    "start_time": "2023-09-06T20:39:44.438Z"
   },
   {
    "duration": 48,
    "start_time": "2023-09-06T20:39:44.566Z"
   },
   {
    "duration": 171,
    "start_time": "2023-09-06T20:39:44.616Z"
   },
   {
    "duration": 94,
    "start_time": "2023-09-06T20:39:44.789Z"
   },
   {
    "duration": 105,
    "start_time": "2023-09-06T20:39:44.885Z"
   },
   {
    "duration": 146,
    "start_time": "2023-09-06T20:39:44.993Z"
   },
   {
    "duration": 65,
    "start_time": "2023-09-06T20:39:45.141Z"
   },
   {
    "duration": 199,
    "start_time": "2023-09-06T20:39:45.208Z"
   },
   {
    "duration": 25,
    "start_time": "2023-09-06T20:39:45.409Z"
   },
   {
    "duration": 312,
    "start_time": "2023-09-06T20:39:45.436Z"
   },
   {
    "duration": 32,
    "start_time": "2023-09-06T20:39:45.750Z"
   },
   {
    "duration": 22,
    "start_time": "2023-09-06T20:39:45.783Z"
   },
   {
    "duration": 7,
    "start_time": "2023-09-06T20:39:45.807Z"
   },
   {
    "duration": 63,
    "start_time": "2023-09-06T20:39:45.816Z"
   },
   {
    "duration": 41,
    "start_time": "2023-09-06T20:39:45.883Z"
   },
   {
    "duration": 77,
    "start_time": "2023-09-06T20:39:45.926Z"
   },
   {
    "duration": 180,
    "start_time": "2023-09-06T20:39:46.005Z"
   },
   {
    "duration": 23,
    "start_time": "2023-09-06T20:39:46.187Z"
   },
   {
    "duration": 10,
    "start_time": "2023-09-06T20:39:46.212Z"
   },
   {
    "duration": 46,
    "start_time": "2023-09-06T20:39:46.224Z"
   },
   {
    "duration": 159,
    "start_time": "2023-09-06T20:39:46.273Z"
   },
   {
    "duration": 182,
    "start_time": "2023-09-06T20:39:46.433Z"
   },
   {
    "duration": 26,
    "start_time": "2023-09-06T20:42:26.070Z"
   },
   {
    "duration": 160,
    "start_time": "2023-09-06T20:43:13.603Z"
   },
   {
    "duration": 135,
    "start_time": "2023-09-06T20:43:40.503Z"
   },
   {
    "duration": 133,
    "start_time": "2023-09-06T20:43:41.789Z"
   },
   {
    "duration": 11,
    "start_time": "2023-09-06T20:43:55.938Z"
   },
   {
    "duration": 30,
    "start_time": "2023-09-06T20:44:27.229Z"
   },
   {
    "duration": 102,
    "start_time": "2023-09-06T20:44:35.434Z"
   },
   {
    "duration": 44,
    "start_time": "2023-09-06T20:44:43.343Z"
   },
   {
    "duration": 18,
    "start_time": "2023-09-06T20:45:15.503Z"
   },
   {
    "duration": 1811,
    "start_time": "2023-09-07T10:14:55.761Z"
   },
   {
    "duration": 1375,
    "start_time": "2023-09-07T10:14:57.574Z"
   },
   {
    "duration": 33,
    "start_time": "2023-09-07T10:14:58.951Z"
   },
   {
    "duration": 3,
    "start_time": "2023-09-07T10:14:58.986Z"
   },
   {
    "duration": 1048,
    "start_time": "2023-09-07T10:14:58.992Z"
   },
   {
    "duration": 617,
    "start_time": "2023-09-07T10:15:00.042Z"
   },
   {
    "duration": 10,
    "start_time": "2023-09-07T10:15:00.661Z"
   },
   {
    "duration": 198,
    "start_time": "2023-09-07T10:15:00.673Z"
   },
   {
    "duration": 104,
    "start_time": "2023-09-07T10:15:00.873Z"
   },
   {
    "duration": 160,
    "start_time": "2023-09-07T10:15:00.979Z"
   },
   {
    "duration": 4,
    "start_time": "2023-09-07T10:15:01.141Z"
   },
   {
    "duration": 598,
    "start_time": "2023-09-07T10:15:01.146Z"
   },
   {
    "duration": 24,
    "start_time": "2023-09-07T10:15:01.746Z"
   },
   {
    "duration": 242,
    "start_time": "2023-09-07T10:15:01.773Z"
   },
   {
    "duration": 321,
    "start_time": "2023-09-07T10:15:02.017Z"
   },
   {
    "duration": 276,
    "start_time": "2023-09-07T10:15:02.340Z"
   },
   {
    "duration": 265,
    "start_time": "2023-09-07T10:15:02.618Z"
   },
   {
    "duration": 249,
    "start_time": "2023-09-07T10:15:02.885Z"
   },
   {
    "duration": 23,
    "start_time": "2023-09-07T10:15:03.136Z"
   },
   {
    "duration": 73,
    "start_time": "2023-09-07T10:15:03.161Z"
   },
   {
    "duration": 894,
    "start_time": "2023-09-07T10:15:03.236Z"
   },
   {
    "duration": 117,
    "start_time": "2023-09-07T10:15:04.131Z"
   },
   {
    "duration": 97,
    "start_time": "2023-09-07T10:15:04.250Z"
   },
   {
    "duration": 34,
    "start_time": "2023-09-07T10:15:04.348Z"
   },
   {
    "duration": 234,
    "start_time": "2023-09-07T10:15:04.384Z"
   },
   {
    "duration": 174,
    "start_time": "2023-09-07T10:15:04.619Z"
   },
   {
    "duration": 54,
    "start_time": "2023-09-07T10:15:04.795Z"
   },
   {
    "duration": 189,
    "start_time": "2023-09-07T10:15:04.851Z"
   },
   {
    "duration": 95,
    "start_time": "2023-09-07T10:15:05.043Z"
   },
   {
    "duration": 100,
    "start_time": "2023-09-07T10:15:05.140Z"
   },
   {
    "duration": 126,
    "start_time": "2023-09-07T10:15:05.241Z"
   },
   {
    "duration": 44,
    "start_time": "2023-09-07T10:15:05.369Z"
   },
   {
    "duration": 302,
    "start_time": "2023-09-07T10:15:05.416Z"
   },
   {
    "duration": 22,
    "start_time": "2023-09-07T10:15:05.722Z"
   },
   {
    "duration": 289,
    "start_time": "2023-09-07T10:15:05.746Z"
   },
   {
    "duration": 22,
    "start_time": "2023-09-07T10:15:06.037Z"
   },
   {
    "duration": 19,
    "start_time": "2023-09-07T10:15:06.061Z"
   },
   {
    "duration": 14,
    "start_time": "2023-09-07T10:15:06.103Z"
   },
   {
    "duration": 67,
    "start_time": "2023-09-07T10:15:06.120Z"
   },
   {
    "duration": 461,
    "start_time": "2023-09-07T10:15:06.189Z"
   },
   {
    "duration": 113,
    "start_time": "2023-09-07T10:15:06.654Z"
   },
   {
    "duration": 194,
    "start_time": "2023-09-07T10:15:06.770Z"
   },
   {
    "duration": 20,
    "start_time": "2023-09-07T10:15:06.966Z"
   },
   {
    "duration": 17,
    "start_time": "2023-09-07T10:15:07.002Z"
   },
   {
    "duration": 68,
    "start_time": "2023-09-07T10:15:07.020Z"
   },
   {
    "duration": 158,
    "start_time": "2023-09-07T10:15:07.089Z"
   },
   {
    "duration": 236,
    "start_time": "2023-09-07T10:15:07.248Z"
   },
   {
    "duration": 33,
    "start_time": "2023-09-07T10:15:07.486Z"
   },
   {
    "duration": 32,
    "start_time": "2023-09-07T10:15:07.521Z"
   },
   {
    "duration": 153,
    "start_time": "2023-09-07T10:15:07.554Z"
   },
   {
    "duration": 31,
    "start_time": "2023-09-07T10:15:07.714Z"
   },
   {
    "duration": 108,
    "start_time": "2023-09-07T10:15:07.747Z"
   },
   {
    "duration": 59,
    "start_time": "2023-09-07T10:15:07.857Z"
   },
   {
    "duration": 160,
    "start_time": "2023-09-07T10:15:07.918Z"
   },
   {
    "duration": 184,
    "start_time": "2023-09-07T10:15:08.080Z"
   },
   {
    "duration": 5,
    "start_time": "2023-09-07T13:57:11.737Z"
   },
   {
    "duration": 95,
    "start_time": "2023-09-07T14:01:30.095Z"
   },
   {
    "duration": 5,
    "start_time": "2023-09-07T14:01:35.341Z"
   },
   {
    "duration": 1296,
    "start_time": "2023-09-07T14:01:35.348Z"
   },
   {
    "duration": 27,
    "start_time": "2023-09-07T14:01:36.646Z"
   },
   {
    "duration": 30,
    "start_time": "2023-09-07T14:01:36.676Z"
   },
   {
    "duration": 1303,
    "start_time": "2023-09-07T14:01:36.709Z"
   },
   {
    "duration": 771,
    "start_time": "2023-09-07T14:01:38.017Z"
   },
   {
    "duration": 13,
    "start_time": "2023-09-07T14:01:38.789Z"
   },
   {
    "duration": 83,
    "start_time": "2023-09-07T14:01:38.805Z"
   },
   {
    "duration": 5,
    "start_time": "2023-09-07T14:01:38.890Z"
   },
   {
    "duration": 75,
    "start_time": "2023-09-07T14:01:38.911Z"
   },
   {
    "duration": 10,
    "start_time": "2023-09-07T14:01:39.000Z"
   },
   {
    "duration": 738,
    "start_time": "2023-09-07T14:01:39.013Z"
   },
   {
    "duration": 30,
    "start_time": "2023-09-07T14:01:39.753Z"
   },
   {
    "duration": 3,
    "start_time": "2023-09-07T14:01:39.785Z"
   },
   {
    "duration": 352,
    "start_time": "2023-09-07T14:01:39.790Z"
   },
   {
    "duration": 341,
    "start_time": "2023-09-07T14:01:40.146Z"
   },
   {
    "duration": 244,
    "start_time": "2023-09-07T14:01:40.489Z"
   },
   {
    "duration": 332,
    "start_time": "2023-09-07T14:01:40.735Z"
   },
   {
    "duration": 49,
    "start_time": "2023-09-07T14:01:41.069Z"
   },
   {
    "duration": 38,
    "start_time": "2023-09-07T14:01:41.120Z"
   },
   {
    "duration": 1189,
    "start_time": "2023-09-07T14:01:41.162Z"
   },
   {
    "duration": 136,
    "start_time": "2023-09-07T14:01:42.354Z"
   },
   {
    "duration": 117,
    "start_time": "2023-09-07T14:01:42.492Z"
   },
   {
    "duration": 56,
    "start_time": "2023-09-07T14:01:42.615Z"
   },
   {
    "duration": 110,
    "start_time": "2023-09-07T14:01:42.673Z"
   },
   {
    "duration": 177,
    "start_time": "2023-09-07T14:01:42.785Z"
   },
   {
    "duration": 60,
    "start_time": "2023-09-07T14:01:42.963Z"
   },
   {
    "duration": 204,
    "start_time": "2023-09-07T14:01:43.025Z"
   },
   {
    "duration": 107,
    "start_time": "2023-09-07T14:01:43.231Z"
   },
   {
    "duration": 92,
    "start_time": "2023-09-07T14:01:43.342Z"
   },
   {
    "duration": 134,
    "start_time": "2023-09-07T14:01:43.437Z"
   },
   {
    "duration": 59,
    "start_time": "2023-09-07T14:01:43.573Z"
   },
   {
    "duration": 234,
    "start_time": "2023-09-07T14:01:43.634Z"
   },
   {
    "duration": 40,
    "start_time": "2023-09-07T14:01:43.870Z"
   },
   {
    "duration": 288,
    "start_time": "2023-09-07T14:01:43.916Z"
   },
   {
    "duration": 34,
    "start_time": "2023-09-07T14:01:44.211Z"
   },
   {
    "duration": 33,
    "start_time": "2023-09-07T14:01:44.248Z"
   },
   {
    "duration": 7,
    "start_time": "2023-09-07T14:01:44.283Z"
   },
   {
    "duration": 38,
    "start_time": "2023-09-07T14:01:44.308Z"
   },
   {
    "duration": 41,
    "start_time": "2023-09-07T14:01:44.350Z"
   },
   {
    "duration": 113,
    "start_time": "2023-09-07T14:01:44.393Z"
   },
   {
    "duration": 269,
    "start_time": "2023-09-07T14:01:44.508Z"
   },
   {
    "duration": 41,
    "start_time": "2023-09-07T14:01:44.779Z"
   },
   {
    "duration": 20,
    "start_time": "2023-09-07T14:01:44.822Z"
   },
   {
    "duration": 54,
    "start_time": "2023-09-07T14:01:44.844Z"
   },
   {
    "duration": 195,
    "start_time": "2023-09-07T14:01:44.900Z"
   },
   {
    "duration": 191,
    "start_time": "2023-09-07T14:01:45.097Z"
   },
   {
    "duration": 34,
    "start_time": "2023-09-07T14:01:45.290Z"
   },
   {
    "duration": 17,
    "start_time": "2023-09-07T14:01:45.329Z"
   },
   {
    "duration": 199,
    "start_time": "2023-09-07T14:01:45.348Z"
   },
   {
    "duration": 34,
    "start_time": "2023-09-07T14:01:45.550Z"
   },
   {
    "duration": 160,
    "start_time": "2023-09-07T14:01:45.586Z"
   },
   {
    "duration": 30,
    "start_time": "2023-09-07T14:01:45.748Z"
   },
   {
    "duration": 12,
    "start_time": "2023-09-07T14:01:45.779Z"
   },
   {
    "duration": 94,
    "start_time": "2023-09-07T14:01:45.793Z"
   },
   {
    "duration": 4,
    "start_time": "2023-09-07T14:04:38.045Z"
   },
   {
    "duration": 360,
    "start_time": "2023-09-07T14:04:50.160Z"
   },
   {
    "duration": 5,
    "start_time": "2023-09-07T14:06:10.619Z"
   },
   {
    "duration": 354,
    "start_time": "2023-09-07T14:06:13.859Z"
   },
   {
    "duration": 8,
    "start_time": "2023-09-07T14:06:31.016Z"
   },
   {
    "duration": 344,
    "start_time": "2023-09-07T14:06:35.165Z"
   },
   {
    "duration": 7,
    "start_time": "2023-09-07T14:08:49.426Z"
   },
   {
    "duration": 345,
    "start_time": "2023-09-07T14:08:52.472Z"
   },
   {
    "duration": 5,
    "start_time": "2023-09-07T14:09:25.559Z"
   },
   {
    "duration": 75,
    "start_time": "2023-09-07T14:10:02.779Z"
   },
   {
    "duration": 4,
    "start_time": "2023-09-07T14:10:21.226Z"
   },
   {
    "duration": 2,
    "start_time": "2023-09-07T14:10:22.646Z"
   },
   {
    "duration": 3,
    "start_time": "2023-09-07T14:10:22.930Z"
   },
   {
    "duration": 296,
    "start_time": "2023-09-07T14:10:24.534Z"
   },
   {
    "duration": 5,
    "start_time": "2023-09-07T14:11:17.996Z"
   },
   {
    "duration": 1076,
    "start_time": "2023-09-07T14:11:18.003Z"
   },
   {
    "duration": 47,
    "start_time": "2023-09-07T14:11:19.081Z"
   },
   {
    "duration": 3,
    "start_time": "2023-09-07T14:11:19.130Z"
   },
   {
    "duration": 957,
    "start_time": "2023-09-07T14:11:19.138Z"
   },
   {
    "duration": 626,
    "start_time": "2023-09-07T14:11:20.097Z"
   },
   {
    "duration": 10,
    "start_time": "2023-09-07T14:11:20.725Z"
   },
   {
    "duration": 57,
    "start_time": "2023-09-07T14:11:20.736Z"
   },
   {
    "duration": 7,
    "start_time": "2023-09-07T14:11:20.795Z"
   },
   {
    "duration": 39,
    "start_time": "2023-09-07T14:11:20.803Z"
   },
   {
    "duration": 3,
    "start_time": "2023-09-07T14:11:20.845Z"
   },
   {
    "duration": 508,
    "start_time": "2023-09-07T14:11:20.849Z"
   },
   {
    "duration": 23,
    "start_time": "2023-09-07T14:11:21.359Z"
   },
   {
    "duration": 32,
    "start_time": "2023-09-07T14:11:21.385Z"
   },
   {
    "duration": 243,
    "start_time": "2023-09-07T14:11:21.425Z"
   },
   {
    "duration": 276,
    "start_time": "2023-09-07T14:11:21.670Z"
   },
   {
    "duration": 188,
    "start_time": "2023-09-07T14:11:21.948Z"
   },
   {
    "duration": 281,
    "start_time": "2023-09-07T14:11:22.138Z"
   },
   {
    "duration": 24,
    "start_time": "2023-09-07T14:11:22.430Z"
   },
   {
    "duration": 48,
    "start_time": "2023-09-07T14:11:22.456Z"
   },
   {
    "duration": 919,
    "start_time": "2023-09-07T14:11:22.506Z"
   },
   {
    "duration": 102,
    "start_time": "2023-09-07T14:11:23.430Z"
   },
   {
    "duration": 90,
    "start_time": "2023-09-07T14:11:23.534Z"
   },
   {
    "duration": 38,
    "start_time": "2023-09-07T14:11:23.626Z"
   },
   {
    "duration": 91,
    "start_time": "2023-09-07T14:11:23.666Z"
   },
   {
    "duration": 128,
    "start_time": "2023-09-07T14:11:23.759Z"
   },
   {
    "duration": 58,
    "start_time": "2023-09-07T14:11:23.889Z"
   },
   {
    "duration": 180,
    "start_time": "2023-09-07T14:11:23.949Z"
   },
   {
    "duration": 110,
    "start_time": "2023-09-07T14:11:24.131Z"
   },
   {
    "duration": 103,
    "start_time": "2023-09-07T14:11:24.243Z"
   },
   {
    "duration": 272,
    "start_time": "2023-09-07T14:11:24.348Z"
   },
   {
    "duration": 39,
    "start_time": "2023-09-07T14:11:24.625Z"
   },
   {
    "duration": 190,
    "start_time": "2023-09-07T14:11:24.668Z"
   },
   {
    "duration": 31,
    "start_time": "2023-09-07T14:11:24.860Z"
   },
   {
    "duration": 310,
    "start_time": "2023-09-07T14:11:24.893Z"
   },
   {
    "duration": 27,
    "start_time": "2023-09-07T14:11:25.204Z"
   },
   {
    "duration": 253,
    "start_time": "2023-09-07T14:11:25.233Z"
   },
   {
    "duration": 6,
    "start_time": "2023-09-07T14:11:25.488Z"
   },
   {
    "duration": 46,
    "start_time": "2023-09-07T14:11:25.495Z"
   },
   {
    "duration": 87,
    "start_time": "2023-09-07T14:11:25.543Z"
   },
   {
    "duration": 94,
    "start_time": "2023-09-07T14:11:25.634Z"
   },
   {
    "duration": 159,
    "start_time": "2023-09-07T14:11:25.730Z"
   },
   {
    "duration": 28,
    "start_time": "2023-09-07T14:11:25.891Z"
   },
   {
    "duration": 12,
    "start_time": "2023-09-07T14:11:25.920Z"
   },
   {
    "duration": 46,
    "start_time": "2023-09-07T14:11:25.934Z"
   },
   {
    "duration": 169,
    "start_time": "2023-09-07T14:11:25.982Z"
   },
   {
    "duration": 182,
    "start_time": "2023-09-07T14:11:26.152Z"
   },
   {
    "duration": 20,
    "start_time": "2023-09-07T14:11:26.335Z"
   },
   {
    "duration": 9,
    "start_time": "2023-09-07T14:11:26.356Z"
   },
   {
    "duration": 166,
    "start_time": "2023-09-07T14:11:26.366Z"
   },
   {
    "duration": 33,
    "start_time": "2023-09-07T14:11:26.533Z"
   },
   {
    "duration": 151,
    "start_time": "2023-09-07T14:11:26.568Z"
   },
   {
    "duration": 31,
    "start_time": "2023-09-07T14:11:26.727Z"
   },
   {
    "duration": 13,
    "start_time": "2023-09-07T14:11:26.761Z"
   },
   {
    "duration": 79,
    "start_time": "2023-09-07T14:11:26.775Z"
   },
   {
    "duration": 4,
    "start_time": "2023-09-07T14:11:26.857Z"
   },
   {
    "duration": 58,
    "start_time": "2023-09-07T14:11:26.863Z"
   },
   {
    "duration": 15,
    "start_time": "2023-09-07T14:11:26.922Z"
   },
   {
    "duration": 335,
    "start_time": "2023-09-07T14:11:33.077Z"
   },
   {
    "duration": 5,
    "start_time": "2023-09-07T14:12:01.519Z"
   },
   {
    "duration": 300,
    "start_time": "2023-09-07T14:12:15.824Z"
   },
   {
    "duration": 4,
    "start_time": "2023-09-07T14:12:38.171Z"
   },
   {
    "duration": 303,
    "start_time": "2023-09-07T14:12:41.353Z"
   },
   {
    "duration": 4,
    "start_time": "2023-09-07T14:14:55.654Z"
   },
   {
    "duration": 2,
    "start_time": "2023-09-07T14:14:55.949Z"
   },
   {
    "duration": 3,
    "start_time": "2023-09-07T14:14:56.328Z"
   },
   {
    "duration": 302,
    "start_time": "2023-09-07T14:14:57.536Z"
   },
   {
    "duration": 18,
    "start_time": "2023-09-07T14:15:33.864Z"
   },
   {
    "duration": 58,
    "start_time": "2023-09-07T14:15:53.973Z"
   },
   {
    "duration": 7,
    "start_time": "2023-09-07T14:15:55.512Z"
   },
   {
    "duration": 288,
    "start_time": "2023-09-07T14:16:00.071Z"
   },
   {
    "duration": 4,
    "start_time": "2023-09-07T14:16:07.158Z"
   },
   {
    "duration": 1068,
    "start_time": "2023-09-07T14:16:10.126Z"
   },
   {
    "duration": 4,
    "start_time": "2023-09-07T14:16:23.457Z"
   },
   {
    "duration": 77,
    "start_time": "2023-09-07T14:16:24.649Z"
   },
   {
    "duration": 4,
    "start_time": "2023-09-07T14:16:24.982Z"
   },
   {
    "duration": 306,
    "start_time": "2023-09-07T14:16:27.357Z"
   },
   {
    "duration": 90,
    "start_time": "2023-09-07T14:17:40.873Z"
   },
   {
    "duration": 4,
    "start_time": "2023-09-07T14:17:51.240Z"
   },
   {
    "duration": 6,
    "start_time": "2023-09-07T14:17:57.023Z"
   },
   {
    "duration": 4,
    "start_time": "2023-09-07T14:17:57.526Z"
   },
   {
    "duration": 307,
    "start_time": "2023-09-07T14:18:00.989Z"
   },
   {
    "duration": 6,
    "start_time": "2023-09-07T14:19:34.239Z"
   },
   {
    "duration": 1046,
    "start_time": "2023-09-07T14:19:34.247Z"
   },
   {
    "duration": 40,
    "start_time": "2023-09-07T14:19:35.295Z"
   },
   {
    "duration": 19,
    "start_time": "2023-09-07T14:19:35.338Z"
   },
   {
    "duration": 921,
    "start_time": "2023-09-07T14:19:35.360Z"
   },
   {
    "duration": 619,
    "start_time": "2023-09-07T14:19:36.283Z"
   },
   {
    "duration": 14,
    "start_time": "2023-09-07T14:19:36.909Z"
   },
   {
    "duration": 67,
    "start_time": "2023-09-07T14:19:36.929Z"
   },
   {
    "duration": 6,
    "start_time": "2023-09-07T14:19:36.998Z"
   },
   {
    "duration": 65,
    "start_time": "2023-09-07T14:19:37.011Z"
   },
   {
    "duration": 4,
    "start_time": "2023-09-07T14:19:37.079Z"
   },
   {
    "duration": 609,
    "start_time": "2023-09-07T14:19:37.084Z"
   },
   {
    "duration": 34,
    "start_time": "2023-09-07T14:19:37.695Z"
   },
   {
    "duration": 4,
    "start_time": "2023-09-07T14:19:37.731Z"
   },
   {
    "duration": 278,
    "start_time": "2023-09-07T14:19:37.736Z"
   },
   {
    "duration": 260,
    "start_time": "2023-09-07T14:19:38.016Z"
   },
   {
    "duration": 182,
    "start_time": "2023-09-07T14:19:38.277Z"
   },
   {
    "duration": 283,
    "start_time": "2023-09-07T14:19:38.461Z"
   },
   {
    "duration": 24,
    "start_time": "2023-09-07T14:19:38.746Z"
   },
   {
    "duration": 58,
    "start_time": "2023-09-07T14:19:38.771Z"
   },
   {
    "duration": 948,
    "start_time": "2023-09-07T14:19:38.835Z"
   },
   {
    "duration": 138,
    "start_time": "2023-09-07T14:19:39.785Z"
   },
   {
    "duration": 97,
    "start_time": "2023-09-07T14:19:39.926Z"
   },
   {
    "duration": 36,
    "start_time": "2023-09-07T14:19:40.031Z"
   },
   {
    "duration": 123,
    "start_time": "2023-09-07T14:19:40.069Z"
   },
   {
    "duration": 152,
    "start_time": "2023-09-07T14:19:40.194Z"
   },
   {
    "duration": 36,
    "start_time": "2023-09-07T14:19:40.348Z"
   },
   {
    "duration": 190,
    "start_time": "2023-09-07T14:19:40.385Z"
   },
   {
    "duration": 92,
    "start_time": "2023-09-07T14:19:40.579Z"
   },
   {
    "duration": 154,
    "start_time": "2023-09-07T14:19:40.673Z"
   },
   {
    "duration": 117,
    "start_time": "2023-09-07T14:19:40.830Z"
   },
   {
    "duration": 38,
    "start_time": "2023-09-07T14:19:40.949Z"
   },
   {
    "duration": 207,
    "start_time": "2023-09-07T14:19:40.988Z"
   },
   {
    "duration": 29,
    "start_time": "2023-09-07T14:19:41.197Z"
   },
   {
    "duration": 235,
    "start_time": "2023-09-07T14:19:41.228Z"
   },
   {
    "duration": 19,
    "start_time": "2023-09-07T14:19:41.465Z"
   },
   {
    "duration": 46,
    "start_time": "2023-09-07T14:19:41.486Z"
   },
   {
    "duration": 6,
    "start_time": "2023-09-07T14:19:41.534Z"
   },
   {
    "duration": 20,
    "start_time": "2023-09-07T14:19:41.541Z"
   },
   {
    "duration": 53,
    "start_time": "2023-09-07T14:19:41.563Z"
   },
   {
    "duration": 70,
    "start_time": "2023-09-07T14:19:41.624Z"
   },
   {
    "duration": 169,
    "start_time": "2023-09-07T14:19:41.696Z"
   },
   {
    "duration": 20,
    "start_time": "2023-09-07T14:19:41.868Z"
   },
   {
    "duration": 13,
    "start_time": "2023-09-07T14:19:41.903Z"
   },
   {
    "duration": 47,
    "start_time": "2023-09-07T14:19:41.917Z"
   },
   {
    "duration": 264,
    "start_time": "2023-09-07T14:19:41.966Z"
   },
   {
    "duration": 161,
    "start_time": "2023-09-07T14:19:42.232Z"
   },
   {
    "duration": 29,
    "start_time": "2023-09-07T14:19:42.401Z"
   },
   {
    "duration": 9,
    "start_time": "2023-09-07T14:19:42.432Z"
   },
   {
    "duration": 154,
    "start_time": "2023-09-07T14:19:42.442Z"
   },
   {
    "duration": 33,
    "start_time": "2023-09-07T14:19:42.602Z"
   },
   {
    "duration": 126,
    "start_time": "2023-09-07T14:19:42.637Z"
   },
   {
    "duration": 41,
    "start_time": "2023-09-07T14:19:42.765Z"
   },
   {
    "duration": 44,
    "start_time": "2023-09-07T14:19:42.808Z"
   },
   {
    "duration": 87,
    "start_time": "2023-09-07T14:19:42.854Z"
   },
   {
    "duration": 296,
    "start_time": "2023-09-07T14:21:18.654Z"
   },
   {
    "duration": 4,
    "start_time": "2023-09-07T14:24:43.654Z"
   },
   {
    "duration": 302,
    "start_time": "2023-09-07T14:24:48.131Z"
   },
   {
    "duration": 6,
    "start_time": "2023-09-07T14:26:27.827Z"
   },
   {
    "duration": 3,
    "start_time": "2023-09-07T14:26:28.177Z"
   },
   {
    "duration": 3,
    "start_time": "2023-09-07T14:26:28.449Z"
   },
   {
    "duration": 376,
    "start_time": "2023-09-07T14:26:29.643Z"
   },
   {
    "duration": 4,
    "start_time": "2023-09-07T14:26:36.984Z"
   },
   {
    "duration": 3,
    "start_time": "2023-09-07T14:26:37.590Z"
   },
   {
    "duration": 2,
    "start_time": "2023-09-07T14:26:37.890Z"
   },
   {
    "duration": 360,
    "start_time": "2023-09-07T14:26:42.630Z"
   },
   {
    "duration": 4,
    "start_time": "2023-09-07T14:27:13.256Z"
   },
   {
    "duration": 3,
    "start_time": "2023-09-07T14:27:13.554Z"
   },
   {
    "duration": 3,
    "start_time": "2023-09-07T14:27:13.788Z"
   },
   {
    "duration": 351,
    "start_time": "2023-09-07T14:27:15.440Z"
   },
   {
    "duration": 4,
    "start_time": "2023-09-07T14:27:33.473Z"
   },
   {
    "duration": 2,
    "start_time": "2023-09-07T14:27:33.873Z"
   },
   {
    "duration": 6,
    "start_time": "2023-09-07T14:27:34.328Z"
   },
   {
    "duration": 369,
    "start_time": "2023-09-07T14:27:35.891Z"
   },
   {
    "duration": 64,
    "start_time": "2023-09-07T14:27:54.424Z"
   },
   {
    "duration": 4,
    "start_time": "2023-09-07T14:27:54.573Z"
   },
   {
    "duration": 2,
    "start_time": "2023-09-07T14:27:57.026Z"
   },
   {
    "duration": 2,
    "start_time": "2023-09-07T14:27:57.226Z"
   },
   {
    "duration": 337,
    "start_time": "2023-09-07T14:27:58.126Z"
   },
   {
    "duration": 118,
    "start_time": "2023-09-07T14:28:04.629Z"
   },
   {
    "duration": 31,
    "start_time": "2023-09-07T14:28:07.357Z"
   },
   {
    "duration": 14,
    "start_time": "2023-09-07T14:28:08.354Z"
   },
   {
    "duration": 65,
    "start_time": "2023-09-07T14:28:08.437Z"
   },
   {
    "duration": 4,
    "start_time": "2023-09-07T14:28:08.530Z"
   },
   {
    "duration": 3,
    "start_time": "2023-09-07T14:28:08.636Z"
   },
   {
    "duration": 3,
    "start_time": "2023-09-07T14:28:08.727Z"
   },
   {
    "duration": 346,
    "start_time": "2023-09-07T14:28:09.488Z"
   },
   {
    "duration": 4,
    "start_time": "2023-09-07T14:29:21.342Z"
   },
   {
    "duration": 3,
    "start_time": "2023-09-07T14:29:21.590Z"
   },
   {
    "duration": 2,
    "start_time": "2023-09-07T14:29:21.857Z"
   },
   {
    "duration": 360,
    "start_time": "2023-09-07T14:29:23.487Z"
   },
   {
    "duration": 63,
    "start_time": "2023-09-07T14:29:59.523Z"
   },
   {
    "duration": 4,
    "start_time": "2023-09-07T14:29:59.790Z"
   },
   {
    "duration": 2,
    "start_time": "2023-09-07T14:30:00.047Z"
   },
   {
    "duration": 2,
    "start_time": "2023-09-07T14:30:00.289Z"
   },
   {
    "duration": 363,
    "start_time": "2023-09-07T14:30:01.386Z"
   },
   {
    "duration": 65,
    "start_time": "2023-09-07T14:30:40.915Z"
   },
   {
    "duration": 5,
    "start_time": "2023-09-07T14:30:42.087Z"
   },
   {
    "duration": 16,
    "start_time": "2023-09-07T14:30:42.497Z"
   },
   {
    "duration": 3,
    "start_time": "2023-09-07T14:30:42.754Z"
   },
   {
    "duration": 297,
    "start_time": "2023-09-07T14:30:45.837Z"
   },
   {
    "duration": 4,
    "start_time": "2023-09-07T14:31:04.383Z"
   },
   {
    "duration": 2,
    "start_time": "2023-09-07T14:31:04.887Z"
   },
   {
    "duration": 3,
    "start_time": "2023-09-07T14:31:04.956Z"
   },
   {
    "duration": 294,
    "start_time": "2023-09-07T14:31:06.026Z"
   },
   {
    "duration": 4,
    "start_time": "2023-09-07T14:32:27.436Z"
   },
   {
    "duration": 3,
    "start_time": "2023-09-07T14:32:27.779Z"
   },
   {
    "duration": 3,
    "start_time": "2023-09-07T14:32:27.987Z"
   },
   {
    "duration": 3,
    "start_time": "2023-09-07T14:32:33.194Z"
   },
   {
    "duration": 2,
    "start_time": "2023-09-07T14:32:33.693Z"
   },
   {
    "duration": 3,
    "start_time": "2023-09-07T14:32:33.789Z"
   },
   {
    "duration": 355,
    "start_time": "2023-09-07T14:32:34.578Z"
   },
   {
    "duration": 119,
    "start_time": "2023-09-07T14:33:00.365Z"
   },
   {
    "duration": 123,
    "start_time": "2023-09-07T14:33:07.496Z"
   },
   {
    "duration": 233,
    "start_time": "2023-09-07T14:33:31.017Z"
   },
   {
    "duration": 2,
    "start_time": "2023-09-07T14:33:38.043Z"
   },
   {
    "duration": 5,
    "start_time": "2023-09-07T14:33:38.380Z"
   },
   {
    "duration": 6,
    "start_time": "2023-09-07T14:33:40.321Z"
   },
   {
    "duration": 6,
    "start_time": "2023-09-07T14:33:47.327Z"
   },
   {
    "duration": 138,
    "start_time": "2023-09-07T14:33:55.030Z"
   },
   {
    "duration": 282,
    "start_time": "2023-09-07T14:34:09.685Z"
   },
   {
    "duration": 413,
    "start_time": "2023-09-07T14:34:19.591Z"
   },
   {
    "duration": 25190,
    "start_time": "2023-09-07T14:34:25.637Z"
   },
   {
    "duration": 139,
    "start_time": "2023-09-07T14:34:50.830Z"
   },
   {
    "duration": 170,
    "start_time": "2023-09-07T14:34:50.971Z"
   },
   {
    "duration": 537,
    "start_time": "2023-09-07T14:34:51.144Z"
   },
   {
    "duration": 143,
    "start_time": "2023-09-07T14:34:51.682Z"
   },
   {
    "duration": 5,
    "start_time": "2023-09-07T14:36:15.427Z"
   },
   {
    "duration": 1024,
    "start_time": "2023-09-07T14:36:15.434Z"
   },
   {
    "duration": 26,
    "start_time": "2023-09-07T14:36:16.460Z"
   },
   {
    "duration": 15,
    "start_time": "2023-09-07T14:36:16.488Z"
   },
   {
    "duration": 1166,
    "start_time": "2023-09-07T14:36:16.511Z"
   },
   {
    "duration": 766,
    "start_time": "2023-09-07T14:36:17.680Z"
   },
   {
    "duration": 8,
    "start_time": "2023-09-07T14:36:18.447Z"
   },
   {
    "duration": 138,
    "start_time": "2023-09-07T14:36:18.456Z"
   },
   {
    "duration": 7,
    "start_time": "2023-09-07T14:36:18.596Z"
   },
   {
    "duration": 51,
    "start_time": "2023-09-07T14:36:18.614Z"
   },
   {
    "duration": 56,
    "start_time": "2023-09-07T14:36:18.667Z"
   },
   {
    "duration": 608,
    "start_time": "2023-09-07T14:36:18.727Z"
   },
   {
    "duration": 29,
    "start_time": "2023-09-07T14:36:19.337Z"
   },
   {
    "duration": 3,
    "start_time": "2023-09-07T14:36:19.368Z"
   },
   {
    "duration": 271,
    "start_time": "2023-09-07T14:36:19.373Z"
   },
   {
    "duration": 414,
    "start_time": "2023-09-07T14:36:19.646Z"
   },
   {
    "duration": 267,
    "start_time": "2023-09-07T14:36:20.063Z"
   },
   {
    "duration": 263,
    "start_time": "2023-09-07T14:36:20.334Z"
   },
   {
    "duration": 31,
    "start_time": "2023-09-07T14:36:20.598Z"
   },
   {
    "duration": 85,
    "start_time": "2023-09-07T14:36:20.631Z"
   },
   {
    "duration": 1074,
    "start_time": "2023-09-07T14:36:20.722Z"
   },
   {
    "duration": 126,
    "start_time": "2023-09-07T14:36:21.802Z"
   },
   {
    "duration": 132,
    "start_time": "2023-09-07T14:36:21.930Z"
   },
   {
    "duration": 36,
    "start_time": "2023-09-07T14:36:22.066Z"
   },
   {
    "duration": 189,
    "start_time": "2023-09-07T14:36:22.103Z"
   },
   {
    "duration": 139,
    "start_time": "2023-09-07T14:36:22.294Z"
   },
   {
    "duration": 34,
    "start_time": "2023-09-07T14:36:22.435Z"
   },
   {
    "duration": 204,
    "start_time": "2023-09-07T14:36:22.471Z"
   },
   {
    "duration": 117,
    "start_time": "2023-09-07T14:36:22.676Z"
   },
   {
    "duration": 107,
    "start_time": "2023-09-07T14:36:22.795Z"
   },
   {
    "duration": 151,
    "start_time": "2023-09-07T14:36:22.912Z"
   },
   {
    "duration": 56,
    "start_time": "2023-09-07T14:36:23.065Z"
   },
   {
    "duration": 315,
    "start_time": "2023-09-07T14:36:23.127Z"
   },
   {
    "duration": 24,
    "start_time": "2023-09-07T14:36:23.444Z"
   },
   {
    "duration": 325,
    "start_time": "2023-09-07T14:36:23.470Z"
   },
   {
    "duration": 31,
    "start_time": "2023-09-07T14:36:23.803Z"
   },
   {
    "duration": 37,
    "start_time": "2023-09-07T14:36:23.836Z"
   },
   {
    "duration": 57,
    "start_time": "2023-09-07T14:36:23.875Z"
   },
   {
    "duration": 83,
    "start_time": "2023-09-07T14:36:23.935Z"
   },
   {
    "duration": 93,
    "start_time": "2023-09-07T14:36:24.023Z"
   },
   {
    "duration": 83,
    "start_time": "2023-09-07T14:36:24.117Z"
   },
   {
    "duration": 182,
    "start_time": "2023-09-07T14:36:24.211Z"
   },
   {
    "duration": 34,
    "start_time": "2023-09-07T14:36:24.395Z"
   },
   {
    "duration": 22,
    "start_time": "2023-09-07T14:36:24.431Z"
   },
   {
    "duration": 73,
    "start_time": "2023-09-07T14:36:24.454Z"
   },
   {
    "duration": 331,
    "start_time": "2023-09-07T14:36:24.529Z"
   },
   {
    "duration": 213,
    "start_time": "2023-09-07T14:36:24.862Z"
   },
   {
    "duration": 38,
    "start_time": "2023-09-07T14:36:25.077Z"
   },
   {
    "duration": 13,
    "start_time": "2023-09-07T14:36:25.117Z"
   },
   {
    "duration": 155,
    "start_time": "2023-09-07T14:36:25.131Z"
   },
   {
    "duration": 37,
    "start_time": "2023-09-07T14:36:25.287Z"
   },
   {
    "duration": 93,
    "start_time": "2023-09-07T14:36:25.330Z"
   },
   {
    "duration": 31,
    "start_time": "2023-09-07T14:36:25.426Z"
   },
   {
    "duration": 28,
    "start_time": "2023-09-07T14:36:25.459Z"
   },
   {
    "duration": 93,
    "start_time": "2023-09-07T14:36:25.489Z"
   },
   {
    "duration": 4,
    "start_time": "2023-09-07T14:36:25.583Z"
   },
   {
    "duration": 10,
    "start_time": "2023-09-07T14:36:25.589Z"
   },
   {
    "duration": 26,
    "start_time": "2023-09-07T14:36:25.601Z"
   },
   {
    "duration": 286,
    "start_time": "2023-09-07T14:36:25.631Z"
   },
   {
    "duration": 223,
    "start_time": "2023-09-07T14:36:25.919Z"
   },
   {
    "duration": 188,
    "start_time": "2023-09-07T14:36:26.143Z"
   },
   {
    "duration": 223,
    "start_time": "2023-09-07T14:36:26.332Z"
   },
   {
    "duration": 3,
    "start_time": "2023-09-07T14:36:26.557Z"
   },
   {
    "duration": 17,
    "start_time": "2023-09-07T14:36:26.562Z"
   },
   {
    "duration": 11,
    "start_time": "2023-09-07T14:36:26.580Z"
   },
   {
    "duration": 213,
    "start_time": "2023-09-07T14:36:26.593Z"
   },
   {
    "duration": 143,
    "start_time": "2023-09-07T14:36:26.812Z"
   },
   {
    "duration": 135,
    "start_time": "2023-09-07T14:36:26.957Z"
   },
   {
    "duration": 667,
    "start_time": "2023-09-07T14:36:27.097Z"
   },
   {
    "duration": 25894,
    "start_time": "2023-09-07T14:36:27.766Z"
   },
   {
    "duration": 1781,
    "start_time": "2023-09-07T14:40:07.957Z"
   },
   {
    "duration": 1058,
    "start_time": "2023-09-07T14:40:12.380Z"
   },
   {
    "duration": 29,
    "start_time": "2023-09-07T14:40:13.440Z"
   },
   {
    "duration": 31,
    "start_time": "2023-09-07T14:40:17.775Z"
   },
   {
    "duration": 4,
    "start_time": "2023-09-07T14:40:20.224Z"
   },
   {
    "duration": 1081,
    "start_time": "2023-09-07T14:40:20.726Z"
   },
   {
    "duration": 619,
    "start_time": "2023-09-07T14:40:21.814Z"
   },
   {
    "duration": 8,
    "start_time": "2023-09-07T14:40:22.435Z"
   },
   {
    "duration": 96,
    "start_time": "2023-09-07T14:40:22.446Z"
   },
   {
    "duration": 68,
    "start_time": "2023-09-07T14:40:22.544Z"
   },
   {
    "duration": 100,
    "start_time": "2023-09-07T14:40:22.616Z"
   },
   {
    "duration": 53,
    "start_time": "2023-09-07T14:40:22.723Z"
   },
   {
    "duration": 727,
    "start_time": "2023-09-07T14:40:22.778Z"
   },
   {
    "duration": 113,
    "start_time": "2023-09-07T14:40:23.506Z"
   },
   {
    "duration": 74,
    "start_time": "2023-09-07T14:40:23.654Z"
   },
   {
    "duration": 429,
    "start_time": "2023-09-07T14:40:23.730Z"
   },
   {
    "duration": 292,
    "start_time": "2023-09-07T14:40:24.161Z"
   },
   {
    "duration": 203,
    "start_time": "2023-09-07T14:40:24.455Z"
   },
   {
    "duration": 325,
    "start_time": "2023-09-07T14:40:24.660Z"
   },
   {
    "duration": 43,
    "start_time": "2023-09-07T14:40:24.988Z"
   },
   {
    "duration": 40,
    "start_time": "2023-09-07T14:40:25.033Z"
   },
   {
    "duration": 966,
    "start_time": "2023-09-07T14:40:25.075Z"
   },
   {
    "duration": 114,
    "start_time": "2023-09-07T14:40:26.043Z"
   },
   {
    "duration": 100,
    "start_time": "2023-09-07T14:40:26.159Z"
   },
   {
    "duration": 53,
    "start_time": "2023-09-07T14:40:26.261Z"
   },
   {
    "duration": 99,
    "start_time": "2023-09-07T14:40:26.316Z"
   },
   {
    "duration": 137,
    "start_time": "2023-09-07T14:40:26.417Z"
   },
   {
    "duration": 48,
    "start_time": "2023-09-07T14:40:26.556Z"
   },
   {
    "duration": 170,
    "start_time": "2023-09-07T14:40:26.606Z"
   },
   {
    "duration": 115,
    "start_time": "2023-09-07T14:40:26.778Z"
   },
   {
    "duration": 100,
    "start_time": "2023-09-07T14:40:26.895Z"
   },
   {
    "duration": 126,
    "start_time": "2023-09-07T14:40:26.996Z"
   },
   {
    "duration": 38,
    "start_time": "2023-09-07T14:40:27.124Z"
   },
   {
    "duration": 212,
    "start_time": "2023-09-07T14:40:27.164Z"
   },
   {
    "duration": 26,
    "start_time": "2023-09-07T14:40:29.174Z"
   },
   {
    "duration": 226,
    "start_time": "2023-09-07T14:40:29.342Z"
   },
   {
    "duration": 33,
    "start_time": "2023-09-07T14:40:29.571Z"
   },
   {
    "duration": 28,
    "start_time": "2023-09-07T14:40:29.611Z"
   },
   {
    "duration": 11,
    "start_time": "2023-09-07T14:40:29.641Z"
   },
   {
    "duration": 15,
    "start_time": "2023-09-07T14:40:29.673Z"
   },
   {
    "duration": 35,
    "start_time": "2023-09-07T14:40:29.759Z"
   },
   {
    "duration": 79,
    "start_time": "2023-09-07T14:40:30.678Z"
   },
   {
    "duration": 186,
    "start_time": "2023-09-07T14:40:31.257Z"
   },
   {
    "duration": 21,
    "start_time": "2023-09-07T14:40:31.445Z"
   },
   {
    "duration": 13,
    "start_time": "2023-09-07T14:40:31.679Z"
   },
   {
    "duration": 31,
    "start_time": "2023-09-07T14:40:31.846Z"
   },
   {
    "duration": 199,
    "start_time": "2023-09-07T14:40:33.264Z"
   },
   {
    "duration": 186,
    "start_time": "2023-09-07T14:40:33.465Z"
   },
   {
    "duration": 29,
    "start_time": "2023-09-07T14:40:33.654Z"
   },
   {
    "duration": 10,
    "start_time": "2023-09-07T14:40:33.854Z"
   },
   {
    "duration": 228,
    "start_time": "2023-09-07T14:40:34.031Z"
   },
   {
    "duration": 25,
    "start_time": "2023-09-07T14:40:34.261Z"
   },
   {
    "duration": 106,
    "start_time": "2023-09-07T14:40:34.288Z"
   },
   {
    "duration": 61,
    "start_time": "2023-09-07T14:40:34.674Z"
   },
   {
    "duration": 13,
    "start_time": "2023-09-07T14:40:38.446Z"
   },
   {
    "duration": 64,
    "start_time": "2023-09-07T14:40:40.226Z"
   },
   {
    "duration": 4,
    "start_time": "2023-09-07T14:40:41.529Z"
   },
   {
    "duration": 2,
    "start_time": "2023-09-07T14:40:42.647Z"
   },
   {
    "duration": 3,
    "start_time": "2023-09-07T14:40:42.972Z"
   },
   {
    "duration": 355,
    "start_time": "2023-09-07T14:40:45.026Z"
   },
   {
    "duration": 147,
    "start_time": "2023-09-07T14:40:45.384Z"
   },
   {
    "duration": 113,
    "start_time": "2023-09-07T14:40:45.533Z"
   },
   {
    "duration": 238,
    "start_time": "2023-09-07T14:40:53.313Z"
   },
   {
    "duration": 3,
    "start_time": "2023-09-07T14:41:05.329Z"
   },
   {
    "duration": 4,
    "start_time": "2023-09-07T14:41:07.568Z"
   },
   {
    "duration": 288,
    "start_time": "2023-09-07T14:41:17.886Z"
   },
   {
    "duration": 26108,
    "start_time": "2023-09-07T14:41:23.271Z"
   },
   {
    "duration": 309401,
    "start_time": "2023-09-07T14:45:53.824Z"
   },
   {
    "duration": 21,
    "start_time": "2023-09-07T14:51:03.227Z"
   },
   {
    "duration": 1108,
    "start_time": "2023-09-07T14:51:03.250Z"
   },
   {
    "duration": 1745,
    "start_time": "2023-09-07T14:51:04.360Z"
   },
   {
    "duration": 182,
    "start_time": "2023-09-07T14:51:06.106Z"
   },
   {
    "duration": 0,
    "start_time": "2023-09-07T14:51:06.290Z"
   },
   {
    "duration": 0,
    "start_time": "2023-09-07T14:51:06.291Z"
   },
   {
    "duration": 22,
    "start_time": "2023-09-07T14:56:40.098Z"
   },
   {
    "duration": 363,
    "start_time": "2023-09-07T14:56:42.747Z"
   },
   {
    "duration": 566,
    "start_time": "2023-09-07T14:56:45.340Z"
   },
   {
    "duration": 374,
    "start_time": "2023-09-07T14:57:01.123Z"
   },
   {
    "duration": 370,
    "start_time": "2023-09-07T14:57:06.483Z"
   },
   {
    "duration": 11,
    "start_time": "2023-09-07T14:57:16.227Z"
   },
   {
    "duration": 365,
    "start_time": "2023-09-07T14:57:17.528Z"
   },
   {
    "duration": 543,
    "start_time": "2023-09-07T14:57:19.587Z"
   },
   {
    "duration": 11,
    "start_time": "2023-09-07T15:31:37.278Z"
   },
   {
    "duration": 10,
    "start_time": "2023-09-07T15:31:37.524Z"
   },
   {
    "duration": 11,
    "start_time": "2023-09-07T15:31:37.742Z"
   },
   {
    "duration": 14,
    "start_time": "2023-09-07T15:31:44.251Z"
   },
   {
    "duration": 357,
    "start_time": "2023-09-07T15:31:47.342Z"
   },
   {
    "duration": 508,
    "start_time": "2023-09-07T15:31:49.726Z"
   },
   {
    "duration": 354,
    "start_time": "2023-09-07T15:32:20.156Z"
   },
   {
    "duration": 20,
    "start_time": "2023-09-07T15:35:57.832Z"
   },
   {
    "duration": 19,
    "start_time": "2023-09-07T15:36:04.240Z"
   },
   {
    "duration": 25,
    "start_time": "2023-09-07T15:36:09.388Z"
   },
   {
    "duration": 1695,
    "start_time": "2023-09-07T15:40:18.024Z"
   },
   {
    "duration": 24,
    "start_time": "2023-09-07T15:40:23.596Z"
   },
   {
    "duration": 1098,
    "start_time": "2023-09-07T15:40:23.825Z"
   },
   {
    "duration": 1711,
    "start_time": "2023-09-07T15:40:24.930Z"
   },
   {
    "duration": 23,
    "start_time": "2023-09-07T15:40:40.900Z"
   },
   {
    "duration": 271,
    "start_time": "2023-09-07T15:41:41.364Z"
   },
   {
    "duration": 24542,
    "start_time": "2023-09-07T15:41:42.825Z"
   },
   {
    "duration": 9,
    "start_time": "2023-09-07T15:44:45.754Z"
   },
   {
    "duration": 132,
    "start_time": "2023-09-07T16:28:01.748Z"
   },
   {
    "duration": 12,
    "start_time": "2023-09-07T16:28:19.531Z"
   },
   {
    "duration": 12,
    "start_time": "2023-09-07T16:28:40.437Z"
   },
   {
    "duration": 6,
    "start_time": "2023-09-07T16:28:52.143Z"
   },
   {
    "duration": 193,
    "start_time": "2023-09-07T16:29:34.663Z"
   },
   {
    "duration": 161,
    "start_time": "2023-09-07T16:32:17.163Z"
   },
   {
    "duration": 153,
    "start_time": "2023-09-07T16:32:29.646Z"
   },
   {
    "duration": 176,
    "start_time": "2023-09-07T16:33:18.154Z"
   },
   {
    "duration": 295,
    "start_time": "2023-09-07T16:33:26.701Z"
   },
   {
    "duration": 16,
    "start_time": "2023-09-07T16:39:00.934Z"
   },
   {
    "duration": 13,
    "start_time": "2023-09-07T16:39:07.246Z"
   },
   {
    "duration": 321,
    "start_time": "2023-09-07T16:39:29.257Z"
   },
   {
    "duration": 8,
    "start_time": "2023-09-07T16:45:00.329Z"
   },
   {
    "duration": 1516,
    "start_time": "2023-09-07T16:45:00.340Z"
   },
   {
    "duration": 27,
    "start_time": "2023-09-07T16:45:01.858Z"
   },
   {
    "duration": 41,
    "start_time": "2023-09-07T16:45:01.907Z"
   },
   {
    "duration": 1143,
    "start_time": "2023-09-07T16:45:01.951Z"
   },
   {
    "duration": 658,
    "start_time": "2023-09-07T16:45:03.096Z"
   },
   {
    "duration": 8,
    "start_time": "2023-09-07T16:45:03.755Z"
   },
   {
    "duration": 84,
    "start_time": "2023-09-07T16:45:03.765Z"
   },
   {
    "duration": 5,
    "start_time": "2023-09-07T16:45:03.851Z"
   },
   {
    "duration": 93,
    "start_time": "2023-09-07T16:45:03.857Z"
   },
   {
    "duration": 14,
    "start_time": "2023-09-07T16:45:03.952Z"
   },
   {
    "duration": 688,
    "start_time": "2023-09-07T16:45:03.968Z"
   },
   {
    "duration": 29,
    "start_time": "2023-09-07T16:45:04.658Z"
   },
   {
    "duration": 69,
    "start_time": "2023-09-07T16:45:04.703Z"
   },
   {
    "duration": 472,
    "start_time": "2023-09-07T16:45:04.775Z"
   },
   {
    "duration": 297,
    "start_time": "2023-09-07T16:45:05.249Z"
   },
   {
    "duration": 197,
    "start_time": "2023-09-07T16:45:05.548Z"
   },
   {
    "duration": 303,
    "start_time": "2023-09-07T16:45:05.747Z"
   },
   {
    "duration": 23,
    "start_time": "2023-09-07T16:45:06.052Z"
   },
   {
    "duration": 83,
    "start_time": "2023-09-07T16:45:06.077Z"
   },
   {
    "duration": 991,
    "start_time": "2023-09-07T16:45:06.162Z"
   },
   {
    "duration": 133,
    "start_time": "2023-09-07T16:45:07.155Z"
   },
   {
    "duration": 96,
    "start_time": "2023-09-07T16:45:07.290Z"
   },
   {
    "duration": 58,
    "start_time": "2023-09-07T16:45:07.388Z"
   },
   {
    "duration": 113,
    "start_time": "2023-09-07T16:45:07.449Z"
   },
   {
    "duration": 144,
    "start_time": "2023-09-07T16:45:07.564Z"
   },
   {
    "duration": 63,
    "start_time": "2023-09-07T16:45:07.710Z"
   },
   {
    "duration": 184,
    "start_time": "2023-09-07T16:45:07.775Z"
   },
   {
    "duration": 103,
    "start_time": "2023-09-07T16:45:07.961Z"
   },
   {
    "duration": 113,
    "start_time": "2023-09-07T16:45:08.065Z"
   },
   {
    "duration": 146,
    "start_time": "2023-09-07T16:45:08.180Z"
   },
   {
    "duration": 47,
    "start_time": "2023-09-07T16:45:08.328Z"
   },
   {
    "duration": 211,
    "start_time": "2023-09-07T16:45:08.377Z"
   },
   {
    "duration": 48,
    "start_time": "2023-09-07T16:45:08.590Z"
   },
   {
    "duration": 245,
    "start_time": "2023-09-07T16:45:08.640Z"
   },
   {
    "duration": 30,
    "start_time": "2023-09-07T16:45:08.886Z"
   },
   {
    "duration": 27,
    "start_time": "2023-09-07T16:45:08.918Z"
   },
   {
    "duration": 7,
    "start_time": "2023-09-07T16:45:08.947Z"
   },
   {
    "duration": 19,
    "start_time": "2023-09-07T16:45:08.956Z"
   },
   {
    "duration": 62,
    "start_time": "2023-09-07T16:45:08.983Z"
   },
   {
    "duration": 99,
    "start_time": "2023-09-07T16:45:09.050Z"
   },
   {
    "duration": 177,
    "start_time": "2023-09-07T16:45:09.150Z"
   },
   {
    "duration": 22,
    "start_time": "2023-09-07T16:45:09.334Z"
   },
   {
    "duration": 21,
    "start_time": "2023-09-07T16:45:09.358Z"
   },
   {
    "duration": 55,
    "start_time": "2023-09-07T16:45:09.381Z"
   },
   {
    "duration": 196,
    "start_time": "2023-09-07T16:45:09.439Z"
   },
   {
    "duration": 200,
    "start_time": "2023-09-07T16:45:09.645Z"
   },
   {
    "duration": 23,
    "start_time": "2023-09-07T16:45:09.847Z"
   },
   {
    "duration": 26,
    "start_time": "2023-09-07T16:45:09.871Z"
   },
   {
    "duration": 209,
    "start_time": "2023-09-07T16:45:09.899Z"
   },
   {
    "duration": 33,
    "start_time": "2023-09-07T16:45:10.110Z"
   },
   {
    "duration": 106,
    "start_time": "2023-09-07T16:45:10.145Z"
   },
   {
    "duration": 41,
    "start_time": "2023-09-07T16:45:10.252Z"
   },
   {
    "duration": 21,
    "start_time": "2023-09-07T16:45:10.315Z"
   },
   {
    "duration": 98,
    "start_time": "2023-09-07T16:45:10.337Z"
   },
   {
    "duration": 5,
    "start_time": "2023-09-07T16:45:10.441Z"
   },
   {
    "duration": 21,
    "start_time": "2023-09-07T16:45:10.449Z"
   },
   {
    "duration": 25,
    "start_time": "2023-09-07T16:45:10.471Z"
   },
   {
    "duration": 317,
    "start_time": "2023-09-07T16:45:10.498Z"
   },
   {
    "duration": 135,
    "start_time": "2023-09-07T16:45:10.821Z"
   },
   {
    "duration": 125,
    "start_time": "2023-09-07T16:45:10.958Z"
   },
   {
    "duration": 258,
    "start_time": "2023-09-07T16:45:11.085Z"
   },
   {
    "duration": 3,
    "start_time": "2023-09-07T16:45:11.345Z"
   },
   {
    "duration": 9,
    "start_time": "2023-09-07T16:45:14.426Z"
   },
   {
    "duration": 279,
    "start_time": "2023-09-07T16:45:19.399Z"
   },
   {
    "duration": 26244,
    "start_time": "2023-09-07T16:45:20.627Z"
   },
   {
    "duration": 461056,
    "start_time": "2023-09-07T16:45:46.873Z"
   },
   {
    "duration": 17,
    "start_time": "2023-09-07T16:53:27.931Z"
   },
   {
    "duration": 1089,
    "start_time": "2023-09-07T16:53:27.950Z"
   },
   {
    "duration": 1706,
    "start_time": "2023-09-07T16:53:29.041Z"
   },
   {
    "duration": 13,
    "start_time": "2023-09-07T16:53:30.749Z"
   },
   {
    "duration": 378,
    "start_time": "2023-09-07T16:53:30.805Z"
   },
   {
    "duration": 655,
    "start_time": "2023-09-07T16:53:31.185Z"
   },
   {
    "duration": 13,
    "start_time": "2023-09-07T16:53:31.842Z"
   },
   {
    "duration": 406,
    "start_time": "2023-09-07T16:53:31.857Z"
   },
   {
    "duration": 1709,
    "start_time": "2023-09-08T20:33:44.679Z"
   },
   {
    "duration": 3049,
    "start_time": "2023-09-08T20:33:46.390Z"
   },
   {
    "duration": 35,
    "start_time": "2023-09-08T20:33:49.440Z"
   },
   {
    "duration": 3,
    "start_time": "2023-09-08T20:33:49.478Z"
   },
   {
    "duration": 912,
    "start_time": "2023-09-08T20:33:49.483Z"
   },
   {
    "duration": 526,
    "start_time": "2023-09-08T20:33:50.397Z"
   },
   {
    "duration": 7,
    "start_time": "2023-09-08T20:33:50.925Z"
   },
   {
    "duration": 66,
    "start_time": "2023-09-08T20:33:50.944Z"
   },
   {
    "duration": 5,
    "start_time": "2023-09-08T20:33:51.012Z"
   },
   {
    "duration": 80,
    "start_time": "2023-09-08T20:33:51.020Z"
   },
   {
    "duration": 5,
    "start_time": "2023-09-08T20:33:51.101Z"
   },
   {
    "duration": 493,
    "start_time": "2023-09-08T20:33:51.107Z"
   },
   {
    "duration": 21,
    "start_time": "2023-09-08T20:33:51.602Z"
   },
   {
    "duration": 3,
    "start_time": "2023-09-08T20:33:51.624Z"
   },
   {
    "duration": 225,
    "start_time": "2023-09-08T20:33:51.644Z"
   },
   {
    "duration": 215,
    "start_time": "2023-09-08T20:33:51.871Z"
   },
   {
    "duration": 162,
    "start_time": "2023-09-08T20:33:52.087Z"
   },
   {
    "duration": 236,
    "start_time": "2023-09-08T20:33:52.251Z"
   },
   {
    "duration": 19,
    "start_time": "2023-09-08T20:33:52.489Z"
   },
   {
    "duration": 44,
    "start_time": "2023-09-08T20:33:52.510Z"
   },
   {
    "duration": 754,
    "start_time": "2023-09-08T20:33:52.555Z"
   },
   {
    "duration": 99,
    "start_time": "2023-09-08T20:33:53.311Z"
   },
   {
    "duration": 69,
    "start_time": "2023-09-08T20:33:53.412Z"
   },
   {
    "duration": 29,
    "start_time": "2023-09-08T20:33:53.483Z"
   },
   {
    "duration": 75,
    "start_time": "2023-09-08T20:33:53.514Z"
   },
   {
    "duration": 104,
    "start_time": "2023-09-08T20:33:53.591Z"
   },
   {
    "duration": 28,
    "start_time": "2023-09-08T20:33:53.697Z"
   },
   {
    "duration": 141,
    "start_time": "2023-09-08T20:33:53.729Z"
   },
   {
    "duration": 89,
    "start_time": "2023-09-08T20:33:53.871Z"
   },
   {
    "duration": 73,
    "start_time": "2023-09-08T20:33:53.961Z"
   },
   {
    "duration": 156,
    "start_time": "2023-09-08T20:33:54.036Z"
   },
   {
    "duration": 51,
    "start_time": "2023-09-08T20:33:54.194Z"
   },
   {
    "duration": 159,
    "start_time": "2023-09-08T20:33:54.247Z"
   },
   {
    "duration": 18,
    "start_time": "2023-09-08T20:33:54.407Z"
   },
   {
    "duration": 206,
    "start_time": "2023-09-08T20:33:54.427Z"
   },
   {
    "duration": 19,
    "start_time": "2023-09-08T20:33:54.635Z"
   },
   {
    "duration": 16,
    "start_time": "2023-09-08T20:33:54.655Z"
   },
   {
    "duration": 4,
    "start_time": "2023-09-08T20:33:54.673Z"
   },
   {
    "duration": 12,
    "start_time": "2023-09-08T20:33:54.678Z"
   },
   {
    "duration": 55,
    "start_time": "2023-09-08T20:33:54.691Z"
   },
   {
    "duration": 58,
    "start_time": "2023-09-08T20:33:54.748Z"
   },
   {
    "duration": 147,
    "start_time": "2023-09-08T20:33:54.808Z"
   },
   {
    "duration": 18,
    "start_time": "2023-09-08T20:33:54.957Z"
   },
   {
    "duration": 8,
    "start_time": "2023-09-08T20:33:54.976Z"
   },
   {
    "duration": 28,
    "start_time": "2023-09-08T20:33:54.986Z"
   },
   {
    "duration": 121,
    "start_time": "2023-09-08T20:33:55.043Z"
   },
   {
    "duration": 196,
    "start_time": "2023-09-08T20:33:55.166Z"
   },
   {
    "duration": 19,
    "start_time": "2023-09-08T20:33:55.363Z"
   },
   {
    "duration": 11,
    "start_time": "2023-09-08T20:33:55.383Z"
   },
   {
    "duration": 118,
    "start_time": "2023-09-08T20:33:55.395Z"
   },
   {
    "duration": 30,
    "start_time": "2023-09-08T20:33:55.515Z"
   },
   {
    "duration": 64,
    "start_time": "2023-09-08T20:33:55.546Z"
   },
   {
    "duration": 45,
    "start_time": "2023-09-08T20:33:55.612Z"
   },
   {
    "duration": 10,
    "start_time": "2023-09-08T20:33:55.659Z"
   },
   {
    "duration": 48,
    "start_time": "2023-09-08T20:33:55.670Z"
   },
   {
    "duration": 3,
    "start_time": "2023-09-08T20:33:55.720Z"
   },
   {
    "duration": 21,
    "start_time": "2023-09-08T20:33:55.724Z"
   },
   {
    "duration": 5,
    "start_time": "2023-09-08T20:33:55.746Z"
   },
   {
    "duration": 205,
    "start_time": "2023-09-08T20:33:55.752Z"
   },
   {
    "duration": 97,
    "start_time": "2023-09-08T20:33:55.958Z"
   },
   {
    "duration": 90,
    "start_time": "2023-09-08T20:33:56.057Z"
   },
   {
    "duration": 245,
    "start_time": "2023-09-08T20:34:13.978Z"
   },
   {
    "duration": 75,
    "start_time": "2023-11-03T11:43:36.683Z"
   },
   {
    "duration": 1541,
    "start_time": "2023-11-03T11:43:48.996Z"
   },
   {
    "duration": 1086,
    "start_time": "2023-11-03T11:43:50.539Z"
   },
   {
    "duration": 34,
    "start_time": "2023-11-03T11:43:51.627Z"
   },
   {
    "duration": 3,
    "start_time": "2023-11-03T11:43:51.662Z"
   },
   {
    "duration": 779,
    "start_time": "2023-11-03T11:43:51.667Z"
   },
   {
    "duration": 510,
    "start_time": "2023-11-03T11:43:52.447Z"
   },
   {
    "duration": 10,
    "start_time": "2023-11-03T11:43:52.959Z"
   },
   {
    "duration": 84,
    "start_time": "2023-11-03T11:43:52.970Z"
   },
   {
    "duration": 5,
    "start_time": "2023-11-03T11:43:53.055Z"
   },
   {
    "duration": 72,
    "start_time": "2023-11-03T11:43:53.064Z"
   },
   {
    "duration": 15,
    "start_time": "2023-11-03T11:43:53.137Z"
   },
   {
    "duration": 500,
    "start_time": "2023-11-03T11:43:53.154Z"
   },
   {
    "duration": 20,
    "start_time": "2023-11-03T11:43:53.657Z"
   },
   {
    "duration": 16,
    "start_time": "2023-11-03T11:43:53.678Z"
   },
   {
    "duration": 223,
    "start_time": "2023-11-03T11:43:53.695Z"
   },
   {
    "duration": 198,
    "start_time": "2023-11-03T11:43:53.919Z"
   },
   {
    "duration": 124,
    "start_time": "2023-11-03T11:43:54.118Z"
   },
   {
    "duration": 202,
    "start_time": "2023-11-03T11:43:54.251Z"
   },
   {
    "duration": 19,
    "start_time": "2023-11-03T11:43:54.455Z"
   },
   {
    "duration": 46,
    "start_time": "2023-11-03T11:43:54.475Z"
   },
   {
    "duration": 692,
    "start_time": "2023-11-03T11:43:54.523Z"
   },
   {
    "duration": 82,
    "start_time": "2023-11-03T11:43:55.216Z"
   },
   {
    "duration": 78,
    "start_time": "2023-11-03T11:43:55.300Z"
   },
   {
    "duration": 26,
    "start_time": "2023-11-03T11:43:55.380Z"
   },
   {
    "duration": 104,
    "start_time": "2023-11-03T11:43:55.407Z"
   },
   {
    "duration": 105,
    "start_time": "2023-11-03T11:43:55.512Z"
   },
   {
    "duration": 32,
    "start_time": "2023-11-03T11:43:55.618Z"
   },
   {
    "duration": 115,
    "start_time": "2023-11-03T11:43:55.654Z"
   },
   {
    "duration": 83,
    "start_time": "2023-11-03T11:43:55.771Z"
   },
   {
    "duration": 72,
    "start_time": "2023-11-03T11:43:55.856Z"
   },
   {
    "duration": 106,
    "start_time": "2023-11-03T11:43:55.929Z"
   },
   {
    "duration": 39,
    "start_time": "2023-11-03T11:43:56.037Z"
   },
   {
    "duration": 135,
    "start_time": "2023-11-03T11:43:56.077Z"
   },
   {
    "duration": 19,
    "start_time": "2023-11-03T11:43:56.213Z"
   },
   {
    "duration": 193,
    "start_time": "2023-11-03T11:43:56.245Z"
   },
   {
    "duration": 18,
    "start_time": "2023-11-03T11:43:56.453Z"
   },
   {
    "duration": 30,
    "start_time": "2023-11-03T11:43:56.472Z"
   },
   {
    "duration": 12,
    "start_time": "2023-11-03T11:43:56.503Z"
   },
   {
    "duration": 13,
    "start_time": "2023-11-03T11:43:56.516Z"
   },
   {
    "duration": 41,
    "start_time": "2023-11-03T11:43:56.530Z"
   },
   {
    "duration": 136,
    "start_time": "2023-11-03T11:43:56.573Z"
   },
   {
    "duration": 149,
    "start_time": "2023-11-03T11:43:56.710Z"
   },
   {
    "duration": 17,
    "start_time": "2023-11-03T11:43:56.860Z"
   },
   {
    "duration": 27,
    "start_time": "2023-11-03T11:43:56.879Z"
   },
   {
    "duration": 28,
    "start_time": "2023-11-03T11:43:56.908Z"
   },
   {
    "duration": 139,
    "start_time": "2023-11-03T11:43:56.938Z"
   },
   {
    "duration": 203,
    "start_time": "2023-11-03T11:43:57.078Z"
   },
   {
    "duration": 18,
    "start_time": "2023-11-03T11:43:57.282Z"
   },
   {
    "duration": 7,
    "start_time": "2023-11-03T11:43:57.302Z"
   },
   {
    "duration": 152,
    "start_time": "2023-11-03T11:43:57.310Z"
   },
   {
    "duration": 20,
    "start_time": "2023-11-03T11:43:57.463Z"
   },
   {
    "duration": 70,
    "start_time": "2023-11-03T11:43:57.485Z"
   },
   {
    "duration": 31,
    "start_time": "2023-11-03T11:43:57.556Z"
   },
   {
    "duration": 12,
    "start_time": "2023-11-03T11:43:57.588Z"
   },
   {
    "duration": 69,
    "start_time": "2023-11-03T11:43:57.602Z"
   },
   {
    "duration": 3,
    "start_time": "2023-11-03T11:43:57.673Z"
   },
   {
    "duration": 25,
    "start_time": "2023-11-03T11:43:57.677Z"
   },
   {
    "duration": 47,
    "start_time": "2023-11-03T11:43:57.704Z"
   },
   {
    "duration": 228,
    "start_time": "2023-11-03T11:43:57.753Z"
   },
   {
    "duration": 100,
    "start_time": "2023-11-03T11:43:57.982Z"
   },
   {
    "duration": 89,
    "start_time": "2023-11-03T11:43:58.083Z"
   },
   {
    "duration": 182,
    "start_time": "2023-11-03T11:43:58.173Z"
   },
   {
    "duration": 3,
    "start_time": "2023-11-03T11:43:58.356Z"
   },
   {
    "duration": 14,
    "start_time": "2023-11-03T11:43:58.361Z"
   },
   {
    "duration": 4059,
    "start_time": "2023-11-03T11:43:58.376Z"
   },
   {
    "duration": 419989,
    "start_time": "2023-11-03T11:44:02.437Z"
   }
  ],
  "kernelspec": {
   "display_name": "Python 3 (ipykernel)",
   "language": "python",
   "name": "python3"
  },
  "language_info": {
   "codemirror_mode": {
    "name": "ipython",
    "version": 3
   },
   "file_extension": ".py",
   "mimetype": "text/x-python",
   "name": "python",
   "nbconvert_exporter": "python",
   "pygments_lexer": "ipython3",
   "version": "3.9.5"
  },
  "toc": {
   "base_numbering": 1,
   "nav_menu": {},
   "number_sections": true,
   "sideBar": true,
   "skip_h1_title": true,
   "title_cell": "Table of Contents",
   "title_sidebar": "Contents",
   "toc_cell": false,
   "toc_position": {
    "height": "calc(100% - 180px)",
    "left": "10px",
    "top": "150px",
    "width": "165px"
   },
   "toc_section_display": true,
   "toc_window_display": true
  }
 },
 "nbformat": 4,
 "nbformat_minor": 1
}