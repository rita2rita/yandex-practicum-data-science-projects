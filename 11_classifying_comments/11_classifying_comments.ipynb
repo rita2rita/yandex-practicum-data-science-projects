{
 "cells": [
  {
   "cell_type": "markdown",
   "source": [
    "<h1>Содержание<span class=\"tocSkip\"></span></h1>\n",
    "<div class=\"toc\"><ul class=\"toc-item\"><li><span><a href=\"#Подготовка\" data-toc-modified-id=\"Подготовка-1\"><span class=\"toc-item-num\">1&nbsp;&nbsp;</span>Подготовка</a></span></li><li><span><a href=\"#Обучение\" data-toc-modified-id=\"Обучение-2\"><span class=\"toc-item-num\">2&nbsp;&nbsp;</span>Обучение</a></span></li><li><span><a href=\"#Выводы\" data-toc-modified-id=\"Выводы-3\"><span class=\"toc-item-num\">3&nbsp;&nbsp;</span>Выводы</a></span></li><li><span><a href=\"#Чек-лист-проверки\" data-toc-modified-id=\"Чек-лист-проверки-4\"><span class=\"toc-item-num\">4&nbsp;&nbsp;</span>Чек-лист проверки</a></span></li></ul></div>"
   ],
   "metadata": {
    "collapsed": false,
    "pycharm": {
     "name": "#%% md\n"
    }
   }
  },
  {
   "cell_type": "markdown",
   "source": [
    "# Проект для «Викишоп»"
   ],
   "metadata": {
    "collapsed": false,
    "pycharm": {
     "name": "#%% md\n"
    }
   }
  },
  {
   "cell_type": "markdown",
   "metadata": {
    "pycharm": {
     "name": "#%% md\n"
    }
   },
   "source": [
    "Интернет-магазин «Викишоп» запускает новый сервис. Теперь пользователи могут редактировать и дополнять описания товаров, как в вики-сообществах. То есть клиенты предлагают свои правки и комментируют изменения других. Магазину нужен инструмент, который будет искать токсичные комментарии и отправлять их на модерацию. \n",
    "\n",
    "Задача: обучить модель классифицировать комментарии на позитивные и негативные. В нашем распоряжении набор данных с разметкой о токсичности правок.\n",
    "\n",
    "Пороговое значение метрики качества *F1* не меньше 0.75.\n",
    "\n",
    "**Описание данных**\n",
    "\n",
    "*text* - содержит текст комментария\n",
    "*toxic* — целевой признак"
   ]
  },
  {
   "cell_type": "markdown",
   "metadata": {
    "pycharm": {
     "name": "#%% md\n"
    }
   },
   "source": [
    "## Подготовка"
   ]
  },
  {
   "cell_type": "code",
   "execution_count": 1,
   "metadata": {
    "pycharm": {
     "name": "#%%\n"
    }
   },
   "outputs": [
    {
     "name": "stderr",
     "output_type": "stream",
     "text": [
      "[nltk_data] Downloading package averaged_perceptron_tagger to\n",
      "[nltk_data]     /Users/rita/nltk_data...\n",
      "[nltk_data]   Unzipping taggers/averaged_perceptron_tagger.zip.\n"
     ]
    }
   ],
   "source": [
    "import pandas as pd\n",
    "import seaborn as sns\n",
    "\n",
    "import nltk\n",
    "from nltk.corpus import stopwords, wordnet\n",
    "from nltk.stem import WordNetLemmatizer\n",
    "nltk.download('averaged_perceptron_tagger')\n",
    "# nltk.download('wordnet')\n",
    "\n",
    "import re\n",
    "from sklearn.feature_extraction.text import TfidfVectorizer\n",
    "from sklearn.linear_model import LogisticRegression\n",
    "from sklearn.ensemble import RandomForestClassifier\n",
    "from sklearn.model_selection import train_test_split, GridSearchCV\n",
    "from sklearn.metrics import f1_score\n",
    "\n",
    "from lightgbm import LGBMClassifier\n",
    "\n",
    "import warnings\n",
    "warnings.filterwarnings(\"ignore\")\n",
    "\n",
    "RANDOM_STATE = 12345"
   ]
  },
  {
   "cell_type": "code",
   "execution_count": 3,
   "metadata": {
    "pycharm": {
     "name": "#%%\n"
    }
   },
   "outputs": [],
   "source": [
    "df = pd.read_csv('toxic_comments.csv')"
   ]
  },
  {
   "cell_type": "code",
   "execution_count": 4,
   "metadata": {
    "pycharm": {
     "name": "#%%\n"
    }
   },
   "outputs": [
    {
     "name": "stdout",
     "output_type": "stream",
     "text": [
      "<class 'pandas.core.frame.DataFrame'>\n",
      "RangeIndex: 159292 entries, 0 to 159291\n",
      "Data columns (total 3 columns):\n",
      " #   Column      Non-Null Count   Dtype \n",
      "---  ------      --------------   ----- \n",
      " 0   Unnamed: 0  159292 non-null  int64 \n",
      " 1   text        159292 non-null  object\n",
      " 2   toxic       159292 non-null  int64 \n",
      "dtypes: int64(2), object(1)\n",
      "memory usage: 3.6+ MB\n"
     ]
    }
   ],
   "source": [
    "df.info()"
   ]
  },
  {
   "cell_type": "code",
   "execution_count": 5,
   "metadata": {
    "scrolled": true,
    "pycharm": {
     "name": "#%%\n"
    }
   },
   "outputs": [
    {
     "data": {
      "text/plain": "                                                     text  toxic\n144339  \"\\nIn the English language: An electric bass c...      0\n157375  What about some kind of table, like using the ...      0\n36227   Blocked \\n\\nper Wikipedia:Requests for checkus...      0\n96393   Hello \\n\\nI don't know you and I don't take le...      0\n34525   Mustafa Kemal Ataturk page and your interferen...      0",
      "text/html": "<div>\n<style scoped>\n    .dataframe tbody tr th:only-of-type {\n        vertical-align: middle;\n    }\n\n    .dataframe tbody tr th {\n        vertical-align: top;\n    }\n\n    .dataframe thead th {\n        text-align: right;\n    }\n</style>\n<table border=\"1\" class=\"dataframe\">\n  <thead>\n    <tr style=\"text-align: right;\">\n      <th></th>\n      <th>text</th>\n      <th>toxic</th>\n    </tr>\n  </thead>\n  <tbody>\n    <tr>\n      <th>144339</th>\n      <td>\"\\nIn the English language: An electric bass c...</td>\n      <td>0</td>\n    </tr>\n    <tr>\n      <th>157375</th>\n      <td>What about some kind of table, like using the ...</td>\n      <td>0</td>\n    </tr>\n    <tr>\n      <th>36227</th>\n      <td>Blocked \\n\\nper Wikipedia:Requests for checkus...</td>\n      <td>0</td>\n    </tr>\n    <tr>\n      <th>96393</th>\n      <td>Hello \\n\\nI don't know you and I don't take le...</td>\n      <td>0</td>\n    </tr>\n    <tr>\n      <th>34525</th>\n      <td>Mustafa Kemal Ataturk page and your interferen...</td>\n      <td>0</td>\n    </tr>\n  </tbody>\n</table>\n</div>"
     },
     "execution_count": 5,
     "metadata": {},
     "output_type": "execute_result"
    }
   ],
   "source": [
    "df = df.drop('Unnamed: 0', axis=1)\n",
    "df.sample(5)"
   ]
  },
  {
   "cell_type": "code",
   "execution_count": 6,
   "metadata": {
    "pycharm": {
     "name": "#%%\n"
    }
   },
   "outputs": [
    {
     "data": {
      "text/plain": "         text\ntoxic        \n0      143106\n1       16186",
      "text/html": "<div>\n<style scoped>\n    .dataframe tbody tr th:only-of-type {\n        vertical-align: middle;\n    }\n\n    .dataframe tbody tr th {\n        vertical-align: top;\n    }\n\n    .dataframe thead th {\n        text-align: right;\n    }\n</style>\n<table border=\"1\" class=\"dataframe\">\n  <thead>\n    <tr style=\"text-align: right;\">\n      <th></th>\n      <th>text</th>\n    </tr>\n    <tr>\n      <th>toxic</th>\n      <th></th>\n    </tr>\n  </thead>\n  <tbody>\n    <tr>\n      <th>0</th>\n      <td>143106</td>\n    </tr>\n    <tr>\n      <th>1</th>\n      <td>16186</td>\n    </tr>\n  </tbody>\n</table>\n</div>"
     },
     "execution_count": 6,
     "metadata": {},
     "output_type": "execute_result"
    }
   ],
   "source": [
    "df.groupby('toxic').count()"
   ]
  },
  {
   "cell_type": "code",
   "execution_count": 7,
   "metadata": {
    "scrolled": true,
    "pycharm": {
     "name": "#%%\n"
    }
   },
   "outputs": [
    {
     "data": {
      "text/plain": "<Figure size 640x480 with 1 Axes>",
      "image/png": "[encoded data removed]"
     },
     "metadata": {},
     "output_type": "display_data"
    }
   ],
   "source": [
    "sns.countplot(x='toxic', data=df);"
   ]
  },
  {
   "cell_type": "markdown",
   "metadata": {
    "pycharm": {
     "name": "#%% md\n"
    }
   },
   "source": [
    "10% твитов не токсичные, а 90% - токсичны. Перед"
   ]
  },
  {
   "cell_type": "markdown",
   "metadata": {
    "pycharm": {
     "name": "#%% md\n"
    }
   },
   "source": [
    "Предобработаем тексты - приведём все комментарии к нижнему регистру, оставим только латинские буквы (уберем знаки), разобьем текст на слова, удалим стоп-слова, лемматизируем слова, соединим слова в предложение, разделив пробелами."
   ]
  },
  {
   "cell_type": "code",
   "execution_count": 8,
   "metadata": {
    "pycharm": {
     "name": "#%%\n"
    }
   },
   "outputs": [],
   "source": [
    "def get_wordnet_pos(word):\n",
    "    tag = nltk.pos_tag([word])[0][1][0].upper()\n",
    "    tag_dict = {\"J\": wordnet.ADJ,\n",
    "                \"N\": wordnet.NOUN,\n",
    "                \"V\": wordnet.VERB,\n",
    "                \"R\": wordnet.ADV}\n",
    "    return tag_dict.get(tag, wordnet.NOUN)"
   ]
  },
  {
   "cell_type": "code",
   "execution_count": 9,
   "metadata": {
    "pycharm": {
     "name": "#%%\n"
    }
   },
   "outputs": [],
   "source": [
    "def do_preprocessing(text, stop_words=None):\n",
    "    words = re.sub(r'[^a-z]', ' ', text.lower()).split()\n",
    "    words = [word for word in words if not word in stop_words]\n",
    "\n",
    "    lemmatizer = WordNetLemmatizer()\n",
    "    words = [lemmatizer.lemmatize(word, get_wordnet_pos(word)) for word in words]\n",
    "\n",
    "    return ' '.join(words)"
   ]
  },
  {
   "cell_type": "markdown",
   "metadata": {
    "pycharm": {
     "name": "#%% md\n"
    }
   },
   "source": [
    "Произведём предобработку и разделим данные на обучающую и тестовую выборки"
   ]
  },
  {
   "cell_type": "code",
   "execution_count": 10,
   "metadata": {
    "pycharm": {
     "name": "#%%\n"
    }
   },
   "outputs": [],
   "source": [
    "stop_words = set(stopwords.words('english'))"
   ]
  },
  {
   "cell_type": "code",
   "execution_count": 11,
   "metadata": {
    "pycharm": {
     "name": "#%%\n"
    }
   },
   "outputs": [
    {
     "name": "stdout",
     "output_type": "stream",
     "text": [
      "CPU times: user 16min 38s, sys: 1min 39s, total: 18min 17s\n",
      "Wall time: 19min 27s\n"
     ]
    },
    {
     "data": {
      "text/plain": "0    explanation edits make username hardcore metal...\n1    aww match background colour seemingly stuck th...\n2    hey man really try edit war guy constantly rem...\n3    make real suggestion improvement wonder sectio...\n4                        sir hero chance remember page\nName: text, dtype: object"
     },
     "execution_count": 11,
     "metadata": {},
     "output_type": "execute_result"
    }
   ],
   "source": [
    "%%time\n",
    "corpus = df['text'].apply(do_preprocessing, stop_words=stop_words)\n",
    "corpus.head()"
   ]
  },
  {
   "cell_type": "code",
   "execution_count": 13,
   "metadata": {
    "pycharm": {
     "name": "#%%\n"
    }
   },
   "outputs": [
    {
     "data": {
      "text/plain": "((111504,), (111504,), (47788,), (47788,))"
     },
     "execution_count": 13,
     "metadata": {},
     "output_type": "execute_result"
    }
   ],
   "source": [
    "features_train, features_test, target_train, target_test = (\n",
    "    train_test_split(corpus, df['toxic'], test_size=0.3, random_state=RANDOM_STATE))\n",
    "features_train.shape, target_train.shape, features_test.shape, target_test.shape"
   ]
  },
  {
   "cell_type": "code",
   "execution_count": 14,
   "metadata": {
    "pycharm": {
     "name": "#%%\n"
    }
   },
   "outputs": [],
   "source": [
    "count_tf_idf = TfidfVectorizer(ngram_range=(1,1))"
   ]
  },
  {
   "cell_type": "code",
   "execution_count": 15,
   "metadata": {
    "pycharm": {
     "name": "#%%\n"
    }
   },
   "outputs": [],
   "source": [
    "features_train = count_tf_idf.fit_transform(features_train)"
   ]
  },
  {
   "cell_type": "code",
   "execution_count": 16,
   "metadata": {
    "pycharm": {
     "name": "#%%\n"
    }
   },
   "outputs": [],
   "source": [
    "features_test = count_tf_idf.transform(features_test)"
   ]
  },
  {
   "cell_type": "markdown",
   "metadata": {
    "pycharm": {
     "name": "#%% md\n"
    }
   },
   "source": [
    "## Обучение"
   ]
  },
  {
   "cell_type": "markdown",
   "metadata": {
    "pycharm": {
     "name": "#%% md\n"
    }
   },
   "source": [
    "Рассмотрим 3 модели: логистическую регрессию, случайный лес и случайный лес с градиентным бустингом. Подберем параметры с помощью gRidsearchCV, а после - обучим модели и сравним метрики"
   ]
  },
  {
   "cell_type": "code",
   "execution_count": 17,
   "metadata": {
    "pycharm": {
     "name": "#%%\n"
    }
   },
   "outputs": [],
   "source": [
    "lgbm = LGBMClassifier()\n",
    "logreg = LogisticRegression()\n",
    "rf = RandomForestClassifier()"
   ]
  },
  {
   "cell_type": "code",
   "execution_count": 18,
   "metadata": {
    "pycharm": {
     "name": "#%%\n"
    }
   },
   "outputs": [],
   "source": [
    "rf_params = {'n_estimators': [100, 150],\n",
    "             'max_depth': [4, 6, 8, 10],\n",
    "             'min_samples_leaf': [1, 2, 3, 4, 5]}\n",
    "\n",
    "lgbm_params = {\n",
    "    'max_depth': [10, 12],\n",
    "    'learning_rate': [0.01, 0.1]}\n",
    "\n",
    "logreg_params = {\n",
    "    'C': [0.1, 1.0, 10]\n",
    "}"
   ]
  },
  {
   "cell_type": "code",
   "execution_count": 27,
   "metadata": {
    "pycharm": {
     "name": "#%%\n"
    }
   },
   "outputs": [],
   "source": [
    "grid = GridSearchCV(logreg, param_grid=logreg_params, scoring='f1', cv = 3)"
   ]
  },
  {
   "cell_type": "code",
   "execution_count": 28,
   "metadata": {
    "scrolled": true,
    "pycharm": {
     "name": "#%%\n"
    }
   },
   "outputs": [
    {
     "name": "stdout",
     "output_type": "stream",
     "text": [
      "CPU times: user 1min 12s, sys: 8.23 s, total: 1min 20s\n",
      "Wall time: 37.9 s\n"
     ]
    },
    {
     "data": {
      "text/plain": "GridSearchCV(cv=3, estimator=LogisticRegression(),\n             param_grid={'C': [0.1, 1.0, 10]}, scoring='f1')",
      "text/html": "<style>#sk-container-id-2 {color: black;background-color: white;}#sk-container-id-2 pre{padding: 0;}#sk-container-id-2 div.sk-toggleable {background-color: white;}#sk-container-id-2 label.sk-toggleable__label {cursor: pointer;display: block;width: 100%;margin-bottom: 0;padding: 0.3em;box-sizing: border-box;text-align: center;}#sk-container-id-2 label.sk-toggleable__label-arrow:before {content: \"▸\";float: left;margin-right: 0.25em;color: #696969;}#sk-container-id-2 label.sk-toggleable__label-arrow:hover:before {color: black;}#sk-container-id-2 div.sk-estimator:hover label.sk-toggleable__label-arrow:before {color: black;}#sk-container-id-2 div.sk-toggleable__content {max-height: 0;max-width: 0;overflow: hidden;text-align: left;background-color: #f0f8ff;}#sk-container-id-2 div.sk-toggleable__content pre {margin: 0.2em;color: black;border-radius: 0.25em;background-color: #f0f8ff;}#sk-container-id-2 input.sk-toggleable__control:checked~div.sk-toggleable__content {max-height: 200px;max-width: 100%;overflow: auto;}#sk-container-id-2 input.sk-toggleable__control:checked~label.sk-toggleable__label-arrow:before {content: \"▾\";}#sk-container-id-2 div.sk-estimator input.sk-toggleable__control:checked~label.sk-toggleable__label {background-color: #d4ebff;}#sk-container-id-2 div.sk-label input.sk-toggleable__control:checked~label.sk-toggleable__label {background-color: #d4ebff;}#sk-container-id-2 input.sk-hidden--visually {border: 0;clip: rect(1px 1px 1px 1px);clip: rect(1px, 1px, 1px, 1px);height: 1px;margin: -1px;overflow: hidden;padding: 0;position: absolute;width: 1px;}#sk-container-id-2 div.sk-estimator {font-family: monospace;background-color: #f0f8ff;border: 1px dotted black;border-radius: 0.25em;box-sizing: border-box;margin-bottom: 0.5em;}#sk-container-id-2 div.sk-estimator:hover {background-color: #d4ebff;}#sk-container-id-2 div.sk-parallel-item::after {content: \"\";width: 100%;border-bottom: 1px solid gray;flex-grow: 1;}#sk-container-id-2 div.sk-label:hover label.sk-toggleable__label {background-color: #d4ebff;}#sk-container-id-2 div.sk-serial::before {content: \"\";position: absolute;border-left: 1px solid gray;box-sizing: border-box;top: 0;bottom: 0;left: 50%;z-index: 0;}#sk-container-id-2 div.sk-serial {display: flex;flex-direction: column;align-items: center;background-color: white;padding-right: 0.2em;padding-left: 0.2em;position: relative;}#sk-container-id-2 div.sk-item {position: relative;z-index: 1;}#sk-container-id-2 div.sk-parallel {display: flex;align-items: stretch;justify-content: center;background-color: white;position: relative;}#sk-container-id-2 div.sk-item::before, #sk-container-id-2 div.sk-parallel-item::before {content: \"\";position: absolute;border-left: 1px solid gray;box-sizing: border-box;top: 0;bottom: 0;left: 50%;z-index: -1;}#sk-container-id-2 div.sk-parallel-item {display: flex;flex-direction: column;z-index: 1;position: relative;background-color: white;}#sk-container-id-2 div.sk-parallel-item:first-child::after {align-self: flex-end;width: 50%;}#sk-container-id-2 div.sk-parallel-item:last-child::after {align-self: flex-start;width: 50%;}#sk-container-id-2 div.sk-parallel-item:only-child::after {width: 0;}#sk-container-id-2 div.sk-dashed-wrapped {border: 1px dashed gray;margin: 0 0.4em 0.5em 0.4em;box-sizing: border-box;padding-bottom: 0.4em;background-color: white;}#sk-container-id-2 div.sk-label label {font-family: monospace;font-weight: bold;display: inline-block;line-height: 1.2em;}#sk-container-id-2 div.sk-label-container {text-align: center;}#sk-container-id-2 div.sk-container {/* jupyter's `normalize.less` sets `[hidden] { display: none; }` but bootstrap.min.css set `[hidden] { display: none !important; }` so we also need the `!important` here to be able to override the default hidden behavior on the sphinx rendered scikit-learn.org. See: https://github.com/scikit-learn/scikit-learn/issues/21755 */display: inline-block !important;position: relative;}#sk-container-id-2 div.sk-text-repr-fallback {display: none;}</style><div id=\"sk-container-id-2\" class=\"sk-top-container\"><div class=\"sk-text-repr-fallback\"><pre>GridSearchCV(cv=3, estimator=LogisticRegression(),\n             param_grid={&#x27;C&#x27;: [0.1, 1.0, 10]}, scoring=&#x27;f1&#x27;)</pre><b>In a Jupyter environment, please rerun this cell to show the HTML representation or trust the notebook. <br />On GitHub, the HTML representation is unable to render, please try loading this page with nbviewer.org.</b></div><div class=\"sk-container\" hidden><div class=\"sk-item sk-dashed-wrapped\"><div class=\"sk-label-container\"><div class=\"sk-label sk-toggleable\"><input class=\"sk-toggleable__control sk-hidden--visually\" id=\"sk-estimator-id-4\" type=\"checkbox\" ><label for=\"sk-estimator-id-4\" class=\"sk-toggleable__label sk-toggleable__label-arrow\">GridSearchCV</label><div class=\"sk-toggleable__content\"><pre>GridSearchCV(cv=3, estimator=LogisticRegression(),\n             param_grid={&#x27;C&#x27;: [0.1, 1.0, 10]}, scoring=&#x27;f1&#x27;)</pre></div></div></div><div class=\"sk-parallel\"><div class=\"sk-parallel-item\"><div class=\"sk-item\"><div class=\"sk-label-container\"><div class=\"sk-label sk-toggleable\"><input class=\"sk-toggleable__control sk-hidden--visually\" id=\"sk-estimator-id-5\" type=\"checkbox\" ><label for=\"sk-estimator-id-5\" class=\"sk-toggleable__label sk-toggleable__label-arrow\">estimator: LogisticRegression</label><div class=\"sk-toggleable__content\"><pre>LogisticRegression()</pre></div></div></div><div class=\"sk-serial\"><div class=\"sk-item\"><div class=\"sk-estimator sk-toggleable\"><input class=\"sk-toggleable__control sk-hidden--visually\" id=\"sk-estimator-id-6\" type=\"checkbox\" ><label for=\"sk-estimator-id-6\" class=\"sk-toggleable__label sk-toggleable__label-arrow\">LogisticRegression</label><div class=\"sk-toggleable__content\"><pre>LogisticRegression()</pre></div></div></div></div></div></div></div></div></div></div>"
     },
     "execution_count": 28,
     "metadata": {},
     "output_type": "execute_result"
    }
   ],
   "source": [
    "%%time\n",
    "grid.fit(features_train, target_train)"
   ]
  },
  {
   "cell_type": "code",
   "execution_count": 29,
   "metadata": {
    "pycharm": {
     "name": "#%%\n"
    }
   },
   "outputs": [
    {
     "data": {
      "text/plain": "{'C': 10}"
     },
     "execution_count": 29,
     "metadata": {},
     "output_type": "execute_result"
    }
   ],
   "source": [
    "grid.best_params_"
   ]
  },
  {
   "cell_type": "code",
   "execution_count": 30,
   "metadata": {
    "pycharm": {
     "name": "#%%\n"
    }
   },
   "outputs": [
    {
     "data": {
      "text/plain": "0.760947432863563"
     },
     "execution_count": 30,
     "metadata": {},
     "output_type": "execute_result"
    }
   ],
   "source": [
    "grid.best_score_"
   ]
  },
  {
   "cell_type": "code",
   "execution_count": 31,
   "metadata": {
    "pycharm": {
     "name": "#%%\n"
    }
   },
   "outputs": [],
   "source": [
    "grid2 = GridSearchCV(rf, param_grid=rf_params, scoring='f1', cv = 3)"
   ]
  },
  {
   "cell_type": "code",
   "execution_count": 32,
   "metadata": {
    "pycharm": {
     "name": "#%%\n"
    }
   },
   "outputs": [
    {
     "name": "stdout",
     "output_type": "stream",
     "text": [
      "CPU times: user 31min 24s, sys: 36.2 s, total: 32min\n",
      "Wall time: 34min 24s\n"
     ]
    },
    {
     "data": {
      "text/plain": "GridSearchCV(cv=3, estimator=RandomForestClassifier(),\n             param_grid={'max_depth': [4, 6, 8, 10],\n                         'min_samples_leaf': [1, 2, 3, 4, 5],\n                         'n_estimators': [100, 150]},\n             scoring='f1')",
      "text/html": "<style>#sk-container-id-3 {color: black;background-color: white;}#sk-container-id-3 pre{padding: 0;}#sk-container-id-3 div.sk-toggleable {background-color: white;}#sk-container-id-3 label.sk-toggleable__label {cursor: pointer;display: block;width: 100%;margin-bottom: 0;padding: 0.3em;box-sizing: border-box;text-align: center;}#sk-container-id-3 label.sk-toggleable__label-arrow:before {content: \"▸\";float: left;margin-right: 0.25em;color: #696969;}#sk-container-id-3 label.sk-toggleable__label-arrow:hover:before {color: black;}#sk-container-id-3 div.sk-estimator:hover label.sk-toggleable__label-arrow:before {color: black;}#sk-container-id-3 div.sk-toggleable__content {max-height: 0;max-width: 0;overflow: hidden;text-align: left;background-color: #f0f8ff;}#sk-container-id-3 div.sk-toggleable__content pre {margin: 0.2em;color: black;border-radius: 0.25em;background-color: #f0f8ff;}#sk-container-id-3 input.sk-toggleable__control:checked~div.sk-toggleable__content {max-height: 200px;max-width: 100%;overflow: auto;}#sk-container-id-3 input.sk-toggleable__control:checked~label.sk-toggleable__label-arrow:before {content: \"▾\";}#sk-container-id-3 div.sk-estimator input.sk-toggleable__control:checked~label.sk-toggleable__label {background-color: #d4ebff;}#sk-container-id-3 div.sk-label input.sk-toggleable__control:checked~label.sk-toggleable__label {background-color: #d4ebff;}#sk-container-id-3 input.sk-hidden--visually {border: 0;clip: rect(1px 1px 1px 1px);clip: rect(1px, 1px, 1px, 1px);height: 1px;margin: -1px;overflow: hidden;padding: 0;position: absolute;width: 1px;}#sk-container-id-3 div.sk-estimator {font-family: monospace;background-color: #f0f8ff;border: 1px dotted black;border-radius: 0.25em;box-sizing: border-box;margin-bottom: 0.5em;}#sk-container-id-3 div.sk-estimator:hover {background-color: #d4ebff;}#sk-container-id-3 div.sk-parallel-item::after {content: \"\";width: 100%;border-bottom: 1px solid gray;flex-grow: 1;}#sk-container-id-3 div.sk-label:hover label.sk-toggleable__label {background-color: #d4ebff;}#sk-container-id-3 div.sk-serial::before {content: \"\";position: absolute;border-left: 1px solid gray;box-sizing: border-box;top: 0;bottom: 0;left: 50%;z-index: 0;}#sk-container-id-3 div.sk-serial {display: flex;flex-direction: column;align-items: center;background-color: white;padding-right: 0.2em;padding-left: 0.2em;position: relative;}#sk-container-id-3 div.sk-item {position: relative;z-index: 1;}#sk-container-id-3 div.sk-parallel {display: flex;align-items: stretch;justify-content: center;background-color: white;position: relative;}#sk-container-id-3 div.sk-item::before, #sk-container-id-3 div.sk-parallel-item::before {content: \"\";position: absolute;border-left: 1px solid gray;box-sizing: border-box;top: 0;bottom: 0;left: 50%;z-index: -1;}#sk-container-id-3 div.sk-parallel-item {display: flex;flex-direction: column;z-index: 1;position: relative;background-color: white;}#sk-container-id-3 div.sk-parallel-item:first-child::after {align-self: flex-end;width: 50%;}#sk-container-id-3 div.sk-parallel-item:last-child::after {align-self: flex-start;width: 50%;}#sk-container-id-3 div.sk-parallel-item:only-child::after {width: 0;}#sk-container-id-3 div.sk-dashed-wrapped {border: 1px dashed gray;margin: 0 0.4em 0.5em 0.4em;box-sizing: border-box;padding-bottom: 0.4em;background-color: white;}#sk-container-id-3 div.sk-label label {font-family: monospace;font-weight: bold;display: inline-block;line-height: 1.2em;}#sk-container-id-3 div.sk-label-container {text-align: center;}#sk-container-id-3 div.sk-container {/* jupyter's `normalize.less` sets `[hidden] { display: none; }` but bootstrap.min.css set `[hidden] { display: none !important; }` so we also need the `!important` here to be able to override the default hidden behavior on the sphinx rendered scikit-learn.org. See: https://github.com/scikit-learn/scikit-learn/issues/21755 */display: inline-block !important;position: relative;}#sk-container-id-3 div.sk-text-repr-fallback {display: none;}</style><div id=\"sk-container-id-3\" class=\"sk-top-container\"><div class=\"sk-text-repr-fallback\"><pre>GridSearchCV(cv=3, estimator=RandomForestClassifier(),\n             param_grid={&#x27;max_depth&#x27;: [4, 6, 8, 10],\n                         &#x27;min_samples_leaf&#x27;: [1, 2, 3, 4, 5],\n                         &#x27;n_estimators&#x27;: [100, 150]},\n             scoring=&#x27;f1&#x27;)</pre><b>In a Jupyter environment, please rerun this cell to show the HTML representation or trust the notebook. <br />On GitHub, the HTML representation is unable to render, please try loading this page with nbviewer.org.</b></div><div class=\"sk-container\" hidden><div class=\"sk-item sk-dashed-wrapped\"><div class=\"sk-label-container\"><div class=\"sk-label sk-toggleable\"><input class=\"sk-toggleable__control sk-hidden--visually\" id=\"sk-estimator-id-7\" type=\"checkbox\" ><label for=\"sk-estimator-id-7\" class=\"sk-toggleable__label sk-toggleable__label-arrow\">GridSearchCV</label><div class=\"sk-toggleable__content\"><pre>GridSearchCV(cv=3, estimator=RandomForestClassifier(),\n             param_grid={&#x27;max_depth&#x27;: [4, 6, 8, 10],\n                         &#x27;min_samples_leaf&#x27;: [1, 2, 3, 4, 5],\n                         &#x27;n_estimators&#x27;: [100, 150]},\n             scoring=&#x27;f1&#x27;)</pre></div></div></div><div class=\"sk-parallel\"><div class=\"sk-parallel-item\"><div class=\"sk-item\"><div class=\"sk-label-container\"><div class=\"sk-label sk-toggleable\"><input class=\"sk-toggleable__control sk-hidden--visually\" id=\"sk-estimator-id-8\" type=\"checkbox\" ><label for=\"sk-estimator-id-8\" class=\"sk-toggleable__label sk-toggleable__label-arrow\">estimator: RandomForestClassifier</label><div class=\"sk-toggleable__content\"><pre>RandomForestClassifier()</pre></div></div></div><div class=\"sk-serial\"><div class=\"sk-item\"><div class=\"sk-estimator sk-toggleable\"><input class=\"sk-toggleable__control sk-hidden--visually\" id=\"sk-estimator-id-9\" type=\"checkbox\" ><label for=\"sk-estimator-id-9\" class=\"sk-toggleable__label sk-toggleable__label-arrow\">RandomForestClassifier</label><div class=\"sk-toggleable__content\"><pre>RandomForestClassifier()</pre></div></div></div></div></div></div></div></div></div></div>"
     },
     "execution_count": 32,
     "metadata": {},
     "output_type": "execute_result"
    }
   ],
   "source": [
    "%%time\n",
    "grid2.fit(features_train, target_train)"
   ]
  },
  {
   "cell_type": "code",
   "execution_count": 33,
   "metadata": {
    "pycharm": {
     "name": "#%%\n"
    }
   },
   "outputs": [
    {
     "data": {
      "text/plain": "{'max_depth': 4, 'min_samples_leaf': 1, 'n_estimators': 100}"
     },
     "execution_count": 33,
     "metadata": {},
     "output_type": "execute_result"
    }
   ],
   "source": [
    "grid2.best_params_"
   ]
  },
  {
   "cell_type": "code",
   "execution_count": 34,
   "metadata": {
    "pycharm": {
     "name": "#%%\n"
    }
   },
   "outputs": [
    {
     "data": {
      "text/plain": "0.0"
     },
     "execution_count": 34,
     "metadata": {},
     "output_type": "execute_result"
    }
   ],
   "source": [
    "grid2.best_score_"
   ]
  },
  {
   "cell_type": "code",
   "execution_count": 35,
   "metadata": {
    "pycharm": {
     "name": "#%%\n"
    }
   },
   "outputs": [],
   "source": [
    "grid3 = GridSearchCV(lgbm, param_grid=lgbm_params, scoring='f1', cv = 3)"
   ]
  },
  {
   "cell_type": "code",
   "execution_count": 36,
   "metadata": {
    "pycharm": {
     "name": "#%%\n"
    }
   },
   "outputs": [
    {
     "name": "stdout",
     "output_type": "stream",
     "text": [
      "CPU times: user 13min 15s, sys: 20.9 s, total: 13min 36s\n",
      "Wall time: 4min 2s\n"
     ]
    },
    {
     "data": {
      "text/plain": "GridSearchCV(cv=3, estimator=LGBMClassifier(),\n             param_grid={'learning_rate': [0.01, 0.1], 'max_depth': [10, 12]},\n             scoring='f1')",
      "text/html": "<style>#sk-container-id-4 {color: black;background-color: white;}#sk-container-id-4 pre{padding: 0;}#sk-container-id-4 div.sk-toggleable {background-color: white;}#sk-container-id-4 label.sk-toggleable__label {cursor: pointer;display: block;width: 100%;margin-bottom: 0;padding: 0.3em;box-sizing: border-box;text-align: center;}#sk-container-id-4 label.sk-toggleable__label-arrow:before {content: \"▸\";float: left;margin-right: 0.25em;color: #696969;}#sk-container-id-4 label.sk-toggleable__label-arrow:hover:before {color: black;}#sk-container-id-4 div.sk-estimator:hover label.sk-toggleable__label-arrow:before {color: black;}#sk-container-id-4 div.sk-toggleable__content {max-height: 0;max-width: 0;overflow: hidden;text-align: left;background-color: #f0f8ff;}#sk-container-id-4 div.sk-toggleable__content pre {margin: 0.2em;color: black;border-radius: 0.25em;background-color: #f0f8ff;}#sk-container-id-4 input.sk-toggleable__control:checked~div.sk-toggleable__content {max-height: 200px;max-width: 100%;overflow: auto;}#sk-container-id-4 input.sk-toggleable__control:checked~label.sk-toggleable__label-arrow:before {content: \"▾\";}#sk-container-id-4 div.sk-estimator input.sk-toggleable__control:checked~label.sk-toggleable__label {background-color: #d4ebff;}#sk-container-id-4 div.sk-label input.sk-toggleable__control:checked~label.sk-toggleable__label {background-color: #d4ebff;}#sk-container-id-4 input.sk-hidden--visually {border: 0;clip: rect(1px 1px 1px 1px);clip: rect(1px, 1px, 1px, 1px);height: 1px;margin: -1px;overflow: hidden;padding: 0;position: absolute;width: 1px;}#sk-container-id-4 div.sk-estimator {font-family: monospace;background-color: #f0f8ff;border: 1px dotted black;border-radius: 0.25em;box-sizing: border-box;margin-bottom: 0.5em;}#sk-container-id-4 div.sk-estimator:hover {background-color: #d4ebff;}#sk-container-id-4 div.sk-parallel-item::after {content: \"\";width: 100%;border-bottom: 1px solid gray;flex-grow: 1;}#sk-container-id-4 div.sk-label:hover label.sk-toggleable__label {background-color: #d4ebff;}#sk-container-id-4 div.sk-serial::before {content: \"\";position: absolute;border-left: 1px solid gray;box-sizing: border-box;top: 0;bottom: 0;left: 50%;z-index: 0;}#sk-container-id-4 div.sk-serial {display: flex;flex-direction: column;align-items: center;background-color: white;padding-right: 0.2em;padding-left: 0.2em;position: relative;}#sk-container-id-4 div.sk-item {position: relative;z-index: 1;}#sk-container-id-4 div.sk-parallel {display: flex;align-items: stretch;justify-content: center;background-color: white;position: relative;}#sk-container-id-4 div.sk-item::before, #sk-container-id-4 div.sk-parallel-item::before {content: \"\";position: absolute;border-left: 1px solid gray;box-sizing: border-box;top: 0;bottom: 0;left: 50%;z-index: -1;}#sk-container-id-4 div.sk-parallel-item {display: flex;flex-direction: column;z-index: 1;position: relative;background-color: white;}#sk-container-id-4 div.sk-parallel-item:first-child::after {align-self: flex-end;width: 50%;}#sk-container-id-4 div.sk-parallel-item:last-child::after {align-self: flex-start;width: 50%;}#sk-container-id-4 div.sk-parallel-item:only-child::after {width: 0;}#sk-container-id-4 div.sk-dashed-wrapped {border: 1px dashed gray;margin: 0 0.4em 0.5em 0.4em;box-sizing: border-box;padding-bottom: 0.4em;background-color: white;}#sk-container-id-4 div.sk-label label {font-family: monospace;font-weight: bold;display: inline-block;line-height: 1.2em;}#sk-container-id-4 div.sk-label-container {text-align: center;}#sk-container-id-4 div.sk-container {/* jupyter's `normalize.less` sets `[hidden] { display: none; }` but bootstrap.min.css set `[hidden] { display: none !important; }` so we also need the `!important` here to be able to override the default hidden behavior on the sphinx rendered scikit-learn.org. See: https://github.com/scikit-learn/scikit-learn/issues/21755 */display: inline-block !important;position: relative;}#sk-container-id-4 div.sk-text-repr-fallback {display: none;}</style><div id=\"sk-container-id-4\" class=\"sk-top-container\"><div class=\"sk-text-repr-fallback\"><pre>GridSearchCV(cv=3, estimator=LGBMClassifier(),\n             param_grid={&#x27;learning_rate&#x27;: [0.01, 0.1], &#x27;max_depth&#x27;: [10, 12]},\n             scoring=&#x27;f1&#x27;)</pre><b>In a Jupyter environment, please rerun this cell to show the HTML representation or trust the notebook. <br />On GitHub, the HTML representation is unable to render, please try loading this page with nbviewer.org.</b></div><div class=\"sk-container\" hidden><div class=\"sk-item sk-dashed-wrapped\"><div class=\"sk-label-container\"><div class=\"sk-label sk-toggleable\"><input class=\"sk-toggleable__control sk-hidden--visually\" id=\"sk-estimator-id-10\" type=\"checkbox\" ><label for=\"sk-estimator-id-10\" class=\"sk-toggleable__label sk-toggleable__label-arrow\">GridSearchCV</label><div class=\"sk-toggleable__content\"><pre>GridSearchCV(cv=3, estimator=LGBMClassifier(),\n             param_grid={&#x27;learning_rate&#x27;: [0.01, 0.1], &#x27;max_depth&#x27;: [10, 12]},\n             scoring=&#x27;f1&#x27;)</pre></div></div></div><div class=\"sk-parallel\"><div class=\"sk-parallel-item\"><div class=\"sk-item\"><div class=\"sk-label-container\"><div class=\"sk-label sk-toggleable\"><input class=\"sk-toggleable__control sk-hidden--visually\" id=\"sk-estimator-id-11\" type=\"checkbox\" ><label for=\"sk-estimator-id-11\" class=\"sk-toggleable__label sk-toggleable__label-arrow\">estimator: LGBMClassifier</label><div class=\"sk-toggleable__content\"><pre>LGBMClassifier()</pre></div></div></div><div class=\"sk-serial\"><div class=\"sk-item\"><div class=\"sk-estimator sk-toggleable\"><input class=\"sk-toggleable__control sk-hidden--visually\" id=\"sk-estimator-id-12\" type=\"checkbox\" ><label for=\"sk-estimator-id-12\" class=\"sk-toggleable__label sk-toggleable__label-arrow\">LGBMClassifier</label><div class=\"sk-toggleable__content\"><pre>LGBMClassifier()</pre></div></div></div></div></div></div></div></div></div></div>"
     },
     "execution_count": 36,
     "metadata": {},
     "output_type": "execute_result"
    }
   ],
   "source": [
    "%%time\n",
    "grid3.fit(features_train, target_train)"
   ]
  },
  {
   "cell_type": "code",
   "execution_count": 37,
   "metadata": {
    "pycharm": {
     "name": "#%%\n"
    }
   },
   "outputs": [
    {
     "data": {
      "text/plain": "{'learning_rate': 0.1, 'max_depth': 12}"
     },
     "execution_count": 37,
     "metadata": {},
     "output_type": "execute_result"
    }
   ],
   "source": [
    "grid3.best_params_"
   ]
  },
  {
   "cell_type": "code",
   "execution_count": 38,
   "metadata": {
    "scrolled": true,
    "pycharm": {
     "name": "#%%\n"
    }
   },
   "outputs": [
    {
     "data": {
      "text/plain": "0.7085734626101337"
     },
     "execution_count": 38,
     "metadata": {},
     "output_type": "execute_result"
    }
   ],
   "source": [
    "grid3.best_score_"
   ]
  },
  {
   "cell_type": "markdown",
   "metadata": {
    "pycharm": {
     "name": "#%% md\n"
    }
   },
   "source": [
    "В среднем, модель логистической регрессии показывает более высокий уровень метрики, чем lgbm. А случайный лес не справился с таким кол-вом признаков."
   ]
  },
  {
   "cell_type": "markdown",
   "source": [
    "Проверка на тестовых данных"
   ],
   "metadata": {
    "collapsed": false,
    "pycharm": {
     "name": "#%% md\n"
    }
   }
  },
  {
   "cell_type": "code",
   "execution_count": 41,
   "metadata": {
    "pycharm": {
     "name": "#%%\n"
    }
   },
   "outputs": [
    {
     "name": "stdout",
     "output_type": "stream",
     "text": [
      "F1 метрика на обучающей: 0.911190053285968\n",
      "F1 метрика на тестовой: 0.7847436336644971\n"
     ]
    }
   ],
   "source": [
    "logreg_model = LogisticRegression(random_state=RANDOM_STATE, C=10)\n",
    "\n",
    "logreg_model.fit(features_train, target_train)\n",
    "preds_train = logreg_model.predict(features_train)\n",
    "preds_test = logreg_model.predict(features_test)\n",
    "\n",
    "\n",
    "print(f'F1 метрика на обучающей: {f1_score(target_train, preds_train)}')\n",
    "print(f'F1 метрика на тестовой: {f1_score(target_test, preds_test)}')"
   ]
  },
  {
   "cell_type": "markdown",
   "metadata": {
    "pycharm": {
     "name": "#%% md\n"
    }
   },
   "source": [
    "Логистическая регрессия на тестовых данных дает значение f1 = 0.785, что нам абсолютно подходит."
   ]
  },
  {
   "cell_type": "markdown",
   "metadata": {
    "pycharm": {
     "name": "#%% md\n"
    }
   },
   "source": [
    "## Выводы"
   ]
  },
  {
   "cell_type": "markdown",
   "metadata": {
    "pycharm": {
     "name": "#%% md\n"
    }
   },
   "source": [
    "Мы проанализировали датасет интернет-магазина «Викишоп» и обучили несколько моделей классификации.\n",
    "\n",
    "Мы предобработали текстовые данные: \n",
    "- очистили от знаков пунктуации\n",
    "- привели к нижнему регистру\n",
    "- лемматизировали слова\n",
    "\n",
    "Получили необходимое значение f1-метрики.\n",
    "\n",
    "Наивысшее значение метрики у классификатора логистической регрессии. Все результаты модели lgbm колеблятся в рамках 0.70 - 0.74, что ниже необходимого порога."
   ]
  }
 ],
 "metadata": {
  "ExecuteTimeLog": [
   {
    "duration": 152,
    "start_time": "2023-10-05T10:36:19.161Z"
   },
   {
    "duration": 2150,
    "start_time": "2023-10-05T10:37:32.609Z"
   },
   {
    "duration": 2425,
    "start_time": "2023-10-05T10:37:34.761Z"
   },
   {
    "duration": 32,
    "start_time": "2023-10-05T10:37:37.188Z"
   },
   {
    "duration": 25,
    "start_time": "2023-10-05T10:37:37.222Z"
   },
   {
    "duration": 112,
    "start_time": "2023-10-05T10:37:37.249Z"
   },
   {
    "duration": 43,
    "start_time": "2023-10-05T10:37:37.363Z"
   },
   {
    "duration": 142,
    "start_time": "2023-10-05T10:37:37.408Z"
   },
   {
    "duration": 4,
    "start_time": "2023-10-05T10:37:37.552Z"
   },
   {
    "duration": 31,
    "start_time": "2023-10-05T10:37:37.557Z"
   },
   {
    "duration": 24145,
    "start_time": "2023-10-05T10:37:37.589Z"
   },
   {
    "duration": 48,
    "start_time": "2023-10-05T10:38:01.736Z"
   },
   {
    "duration": 446,
    "start_time": "2023-10-05T10:38:01.786Z"
   },
   {
    "duration": 3542,
    "start_time": "2023-10-05T10:38:02.234Z"
   },
   {
    "duration": 1817,
    "start_time": "2023-10-05T10:38:38.369Z"
   },
   {
    "duration": 2434,
    "start_time": "2023-10-05T10:38:40.188Z"
   },
   {
    "duration": 35,
    "start_time": "2023-10-05T10:38:42.624Z"
   },
   {
    "duration": 57,
    "start_time": "2023-10-05T10:38:42.661Z"
   },
   {
    "duration": 98,
    "start_time": "2023-10-05T10:38:42.720Z"
   },
   {
    "duration": 43,
    "start_time": "2023-10-05T10:38:42.820Z"
   },
   {
    "duration": 138,
    "start_time": "2023-10-05T10:38:42.865Z"
   },
   {
    "duration": 4,
    "start_time": "2023-10-05T10:38:43.005Z"
   },
   {
    "duration": 14,
    "start_time": "2023-10-05T10:38:43.010Z"
   },
   {
    "duration": 23910,
    "start_time": "2023-10-05T10:38:43.027Z"
   },
   {
    "duration": 32,
    "start_time": "2023-10-05T10:39:06.939Z"
   },
   {
    "duration": 67,
    "start_time": "2023-10-05T10:39:06.973Z"
   },
   {
    "duration": 3586,
    "start_time": "2023-10-05T10:39:07.042Z"
   },
   {
    "duration": 2061,
    "start_time": "2023-10-05T10:40:54.553Z"
   },
   {
    "duration": 2444,
    "start_time": "2023-10-05T10:40:58.314Z"
   },
   {
    "duration": 33,
    "start_time": "2023-10-05T10:41:00.760Z"
   },
   {
    "duration": 90,
    "start_time": "2023-10-05T10:41:00.795Z"
   },
   {
    "duration": 99,
    "start_time": "2023-10-05T10:41:00.887Z"
   },
   {
    "duration": 45,
    "start_time": "2023-10-05T10:41:01.130Z"
   },
   {
    "duration": 109,
    "start_time": "2023-10-05T10:41:01.657Z"
   },
   {
    "duration": 4,
    "start_time": "2023-10-05T10:41:04.205Z"
   },
   {
    "duration": 4,
    "start_time": "2023-10-05T10:41:05.113Z"
   },
   {
    "duration": 23592,
    "start_time": "2023-10-05T10:41:06.341Z"
   },
   {
    "duration": 33,
    "start_time": "2023-10-05T10:41:29.935Z"
   },
   {
    "duration": 3,
    "start_time": "2023-10-05T10:41:29.971Z"
   },
   {
    "duration": 3337,
    "start_time": "2023-10-05T10:41:29.976Z"
   },
   {
    "duration": 46,
    "start_time": "2023-10-05T10:42:53.133Z"
   },
   {
    "duration": 1847,
    "start_time": "2023-10-05T10:42:59.217Z"
   },
   {
    "duration": 2426,
    "start_time": "2023-10-05T10:43:03.253Z"
   },
   {
    "duration": 32,
    "start_time": "2023-10-05T10:43:05.681Z"
   },
   {
    "duration": 76,
    "start_time": "2023-10-05T10:43:05.715Z"
   },
   {
    "duration": 158,
    "start_time": "2023-10-05T10:43:05.794Z"
   },
   {
    "duration": 49,
    "start_time": "2023-10-05T10:43:05.954Z"
   },
   {
    "duration": 139,
    "start_time": "2023-10-05T10:43:06.005Z"
   },
   {
    "duration": 3,
    "start_time": "2023-10-05T10:43:06.402Z"
   },
   {
    "duration": 5,
    "start_time": "2023-10-05T10:43:07.186Z"
   },
   {
    "duration": 23653,
    "start_time": "2023-10-05T10:43:08.330Z"
   },
   {
    "duration": 41,
    "start_time": "2023-10-05T10:43:31.985Z"
   },
   {
    "duration": 236,
    "start_time": "2023-10-05T10:43:32.028Z"
   },
   {
    "duration": 3180,
    "start_time": "2023-10-05T10:43:46.287Z"
   },
   {
    "duration": 51,
    "start_time": "2023-10-05T10:45:58.684Z"
   },
   {
    "duration": 1761,
    "start_time": "2023-10-05T10:46:03.847Z"
   },
   {
    "duration": 2397,
    "start_time": "2023-10-05T10:46:05.610Z"
   },
   {
    "duration": 33,
    "start_time": "2023-10-05T10:46:08.009Z"
   },
   {
    "duration": 125,
    "start_time": "2023-10-05T10:46:08.044Z"
   },
   {
    "duration": 263,
    "start_time": "2023-10-05T10:46:08.171Z"
   },
   {
    "duration": 124,
    "start_time": "2023-10-05T10:46:08.435Z"
   },
   {
    "duration": 251,
    "start_time": "2023-10-05T10:46:08.561Z"
   },
   {
    "duration": 4,
    "start_time": "2023-10-05T10:46:08.813Z"
   },
   {
    "duration": 111,
    "start_time": "2023-10-05T10:46:08.818Z"
   },
   {
    "duration": 23653,
    "start_time": "2023-10-05T10:46:08.931Z"
   },
   {
    "duration": 38,
    "start_time": "2023-10-05T10:46:32.586Z"
   },
   {
    "duration": 2,
    "start_time": "2023-10-05T10:46:32.626Z"
   },
   {
    "duration": 1945,
    "start_time": "2023-10-05T10:51:19.067Z"
   },
   {
    "duration": 2421,
    "start_time": "2023-10-05T10:51:21.014Z"
   },
   {
    "duration": 30,
    "start_time": "2023-10-05T10:51:23.437Z"
   },
   {
    "duration": 24,
    "start_time": "2023-10-05T10:51:23.470Z"
   },
   {
    "duration": 109,
    "start_time": "2023-10-05T10:51:23.496Z"
   },
   {
    "duration": 50,
    "start_time": "2023-10-05T10:51:23.607Z"
   },
   {
    "duration": 118,
    "start_time": "2023-10-05T10:51:23.660Z"
   },
   {
    "duration": 3,
    "start_time": "2023-10-05T10:51:23.780Z"
   },
   {
    "duration": 28,
    "start_time": "2023-10-05T10:51:23.785Z"
   },
   {
    "duration": 23252,
    "start_time": "2023-10-05T10:51:23.815Z"
   },
   {
    "duration": 28,
    "start_time": "2023-10-05T10:51:47.069Z"
   },
   {
    "duration": 3,
    "start_time": "2023-10-05T10:51:47.099Z"
   },
   {
    "duration": 3128,
    "start_time": "2023-10-05T10:51:47.104Z"
   },
   {
    "duration": 2058,
    "start_time": "2023-10-05T10:52:14.149Z"
   },
   {
    "duration": 2464,
    "start_time": "2023-10-05T10:52:16.210Z"
   },
   {
    "duration": 41,
    "start_time": "2023-10-05T10:52:18.676Z"
   },
   {
    "duration": 49,
    "start_time": "2023-10-05T10:52:18.719Z"
   },
   {
    "duration": 159,
    "start_time": "2023-10-05T10:52:18.772Z"
   },
   {
    "duration": 61,
    "start_time": "2023-10-05T10:52:18.933Z"
   },
   {
    "duration": 188,
    "start_time": "2023-10-05T10:52:18.996Z"
   },
   {
    "duration": 6,
    "start_time": "2023-10-05T10:52:19.186Z"
   },
   {
    "duration": 97,
    "start_time": "2023-10-05T10:52:19.194Z"
   },
   {
    "duration": 23986,
    "start_time": "2023-10-05T10:52:19.293Z"
   },
   {
    "duration": 44,
    "start_time": "2023-10-05T10:52:43.281Z"
   },
   {
    "duration": 4,
    "start_time": "2023-10-05T10:52:43.326Z"
   },
   {
    "duration": 3317,
    "start_time": "2023-10-05T10:52:43.331Z"
   },
   {
    "duration": 1930,
    "start_time": "2023-10-05T10:53:02.581Z"
   },
   {
    "duration": 2416,
    "start_time": "2023-10-05T10:53:04.513Z"
   },
   {
    "duration": 33,
    "start_time": "2023-10-05T10:53:06.931Z"
   },
   {
    "duration": 23,
    "start_time": "2023-10-05T10:53:06.966Z"
   },
   {
    "duration": 108,
    "start_time": "2023-10-05T10:53:06.990Z"
   },
   {
    "duration": 49,
    "start_time": "2023-10-05T10:53:07.100Z"
   },
   {
    "duration": 119,
    "start_time": "2023-10-05T10:53:07.151Z"
   },
   {
    "duration": 3,
    "start_time": "2023-10-05T10:53:07.272Z"
   },
   {
    "duration": 16,
    "start_time": "2023-10-05T10:53:07.277Z"
   },
   {
    "duration": 23713,
    "start_time": "2023-10-05T10:53:07.295Z"
   },
   {
    "duration": 37,
    "start_time": "2023-10-05T10:53:31.009Z"
   },
   {
    "duration": 53,
    "start_time": "2023-10-05T10:53:31.048Z"
   },
   {
    "duration": 3283,
    "start_time": "2023-10-05T10:53:31.103Z"
   },
   {
    "duration": 1784,
    "start_time": "2023-10-05T10:54:37.328Z"
   },
   {
    "duration": 2359,
    "start_time": "2023-10-05T10:54:39.114Z"
   },
   {
    "duration": 33,
    "start_time": "2023-10-05T10:54:41.475Z"
   },
   {
    "duration": 27,
    "start_time": "2023-10-05T10:54:41.510Z"
   },
   {
    "duration": 93,
    "start_time": "2023-10-05T10:54:41.539Z"
   },
   {
    "duration": 42,
    "start_time": "2023-10-05T10:54:41.634Z"
   },
   {
    "duration": 130,
    "start_time": "2023-10-05T10:54:41.678Z"
   },
   {
    "duration": 4,
    "start_time": "2023-10-05T10:54:41.809Z"
   },
   {
    "duration": 20,
    "start_time": "2023-10-05T10:54:41.814Z"
   },
   {
    "duration": 23699,
    "start_time": "2023-10-05T10:54:41.836Z"
   },
   {
    "duration": 33,
    "start_time": "2023-10-05T10:55:15.359Z"
   },
   {
    "duration": 3,
    "start_time": "2023-10-05T10:55:16.812Z"
   },
   {
    "duration": 3276,
    "start_time": "2023-10-05T10:55:18.110Z"
   },
   {
    "duration": 45,
    "start_time": "2023-10-05T10:56:35.071Z"
   },
   {
    "duration": 9,
    "start_time": "2023-10-05T10:56:35.943Z"
   },
   {
    "duration": 1826,
    "start_time": "2023-10-05T10:58:58.585Z"
   },
   {
    "duration": 2374,
    "start_time": "2023-10-05T10:59:00.414Z"
   },
   {
    "duration": 29,
    "start_time": "2023-10-05T10:59:02.790Z"
   },
   {
    "duration": 66,
    "start_time": "2023-10-05T10:59:02.822Z"
   },
   {
    "duration": 174,
    "start_time": "2023-10-05T10:59:02.890Z"
   },
   {
    "duration": 61,
    "start_time": "2023-10-05T10:59:03.066Z"
   },
   {
    "duration": 111,
    "start_time": "2023-10-05T10:59:03.128Z"
   },
   {
    "duration": 5,
    "start_time": "2023-10-05T10:59:03.241Z"
   },
   {
    "duration": 111,
    "start_time": "2023-10-05T10:59:03.247Z"
   },
   {
    "duration": 22971,
    "start_time": "2023-10-05T10:59:03.361Z"
   },
   {
    "duration": 29,
    "start_time": "2023-10-05T10:59:26.334Z"
   },
   {
    "duration": 12,
    "start_time": "2023-10-05T10:59:26.364Z"
   },
   {
    "duration": 3076,
    "start_time": "2023-10-05T10:59:26.378Z"
   },
   {
    "duration": 2071,
    "start_time": "2023-10-05T11:02:20.739Z"
   },
   {
    "duration": 2632,
    "start_time": "2023-10-05T11:02:22.811Z"
   },
   {
    "duration": 36,
    "start_time": "2023-10-05T11:02:25.444Z"
   },
   {
    "duration": 27,
    "start_time": "2023-10-05T11:02:25.482Z"
   },
   {
    "duration": 107,
    "start_time": "2023-10-05T11:02:25.512Z"
   },
   {
    "duration": 53,
    "start_time": "2023-10-05T11:02:25.621Z"
   },
   {
    "duration": 133,
    "start_time": "2023-10-05T11:02:25.675Z"
   },
   {
    "duration": 5,
    "start_time": "2023-10-05T11:02:25.810Z"
   },
   {
    "duration": 26,
    "start_time": "2023-10-05T11:02:25.817Z"
   },
   {
    "duration": 25205,
    "start_time": "2023-10-05T11:02:25.845Z"
   },
   {
    "duration": 31,
    "start_time": "2023-10-05T11:02:51.052Z"
   },
   {
    "duration": 3,
    "start_time": "2023-10-05T11:02:51.084Z"
   },
   {
    "duration": 3505,
    "start_time": "2023-10-05T11:02:51.088Z"
   },
   {
    "duration": 3210,
    "start_time": "2023-10-05T11:03:06.563Z"
   },
   {
    "duration": 1922,
    "start_time": "2023-10-05T11:06:30.252Z"
   },
   {
    "duration": 2503,
    "start_time": "2023-10-05T11:06:32.176Z"
   },
   {
    "duration": 32,
    "start_time": "2023-10-05T11:06:34.681Z"
   },
   {
    "duration": 100,
    "start_time": "2023-10-05T11:06:34.715Z"
   },
   {
    "duration": 364,
    "start_time": "2023-10-05T11:06:34.817Z"
   },
   {
    "duration": 353,
    "start_time": "2023-10-05T11:06:35.183Z"
   },
   {
    "duration": 271,
    "start_time": "2023-10-05T11:06:35.537Z"
   },
   {
    "duration": 4,
    "start_time": "2023-10-05T11:06:35.810Z"
   },
   {
    "duration": 311,
    "start_time": "2023-10-05T11:06:35.816Z"
   },
   {
    "duration": 24256,
    "start_time": "2023-10-05T11:06:36.133Z"
   },
   {
    "duration": 49,
    "start_time": "2023-10-05T11:07:00.391Z"
   },
   {
    "duration": 325,
    "start_time": "2023-10-05T11:07:00.441Z"
   },
   {
    "duration": 3,
    "start_time": "2023-10-05T11:10:32.598Z"
   },
   {
    "duration": 3437,
    "start_time": "2023-10-05T11:10:38.700Z"
   },
   {
    "duration": 3551,
    "start_time": "2023-10-05T11:12:16.947Z"
   },
   {
    "duration": 136,
    "start_time": "2023-10-05T11:12:27.238Z"
   },
   {
    "duration": 1814,
    "start_time": "2023-10-05T11:20:06.044Z"
   },
   {
    "duration": 976,
    "start_time": "2023-10-05T11:20:07.859Z"
   },
   {
    "duration": 34,
    "start_time": "2023-10-05T11:20:08.837Z"
   },
   {
    "duration": 42,
    "start_time": "2023-10-05T11:20:08.873Z"
   },
   {
    "duration": 122,
    "start_time": "2023-10-05T11:20:08.917Z"
   },
   {
    "duration": 42,
    "start_time": "2023-10-05T11:20:09.041Z"
   },
   {
    "duration": 118,
    "start_time": "2023-10-05T11:20:09.085Z"
   },
   {
    "duration": 4,
    "start_time": "2023-10-05T11:20:09.204Z"
   },
   {
    "duration": 67,
    "start_time": "2023-10-05T11:20:09.209Z"
   },
   {
    "duration": 25499,
    "start_time": "2023-10-05T11:20:09.278Z"
   },
   {
    "duration": 33,
    "start_time": "2023-10-05T11:20:34.779Z"
   },
   {
    "duration": 6,
    "start_time": "2023-10-05T11:20:34.823Z"
   },
   {
    "duration": 264,
    "start_time": "2023-10-05T11:20:34.832Z"
   },
   {
    "duration": 0,
    "start_time": "2023-10-05T11:20:35.098Z"
   },
   {
    "duration": 3,
    "start_time": "2023-10-05T11:22:07.837Z"
   },
   {
    "duration": 3674,
    "start_time": "2023-10-05T11:22:08.876Z"
   },
   {
    "duration": 4,
    "start_time": "2023-10-05T11:22:13.643Z"
   },
   {
    "duration": 52,
    "start_time": "2023-10-05T11:35:23.684Z"
   },
   {
    "duration": 1993,
    "start_time": "2023-10-05T11:37:40.547Z"
   },
   {
    "duration": 2629,
    "start_time": "2023-10-05T11:37:42.542Z"
   },
   {
    "duration": 33,
    "start_time": "2023-10-05T11:37:45.172Z"
   },
   {
    "duration": 49,
    "start_time": "2023-10-05T11:37:45.207Z"
   },
   {
    "duration": 111,
    "start_time": "2023-10-05T11:37:45.258Z"
   },
   {
    "duration": 45,
    "start_time": "2023-10-05T11:37:45.371Z"
   },
   {
    "duration": 130,
    "start_time": "2023-10-05T11:37:45.418Z"
   },
   {
    "duration": 4,
    "start_time": "2023-10-05T11:37:45.550Z"
   },
   {
    "duration": 28,
    "start_time": "2023-10-05T11:37:45.556Z"
   },
   {
    "duration": 24598,
    "start_time": "2023-10-05T11:37:45.586Z"
   },
   {
    "duration": 52,
    "start_time": "2023-10-05T11:38:10.186Z"
   },
   {
    "duration": 8,
    "start_time": "2023-10-05T11:38:10.240Z"
   },
   {
    "duration": 209,
    "start_time": "2023-10-05T11:38:10.249Z"
   },
   {
    "duration": 0,
    "start_time": "2023-10-05T11:38:10.460Z"
   },
   {
    "duration": 0,
    "start_time": "2023-10-05T11:38:10.461Z"
   },
   {
    "duration": 3,
    "start_time": "2023-10-05T11:42:08.466Z"
   },
   {
    "duration": 3808,
    "start_time": "2023-10-05T11:42:15.592Z"
   },
   {
    "duration": 3,
    "start_time": "2023-10-05T11:42:29.210Z"
   },
   {
    "duration": 4,
    "start_time": "2023-10-05T11:42:30.699Z"
   },
   {
    "duration": 4,
    "start_time": "2023-10-05T11:42:40.706Z"
   },
   {
    "duration": 360252,
    "start_time": "2023-10-05T11:42:45.085Z"
   },
   {
    "duration": 6,
    "start_time": "2023-10-05T11:49:26.738Z"
   },
   {
    "duration": 3,
    "start_time": "2023-10-05T11:50:16.150Z"
   },
   {
    "duration": 6,
    "start_time": "2023-10-05T11:50:21.457Z"
   },
   {
    "duration": 936,
    "start_time": "2023-10-05T11:50:21.465Z"
   },
   {
    "duration": 41,
    "start_time": "2023-10-05T11:50:22.403Z"
   },
   {
    "duration": 54,
    "start_time": "2023-10-05T11:50:22.446Z"
   },
   {
    "duration": 106,
    "start_time": "2023-10-05T11:50:22.502Z"
   },
   {
    "duration": 46,
    "start_time": "2023-10-05T11:50:22.610Z"
   },
   {
    "duration": 122,
    "start_time": "2023-10-05T11:50:22.658Z"
   },
   {
    "duration": 4,
    "start_time": "2023-10-05T11:50:22.782Z"
   },
   {
    "duration": 35,
    "start_time": "2023-10-05T11:50:22.788Z"
   },
   {
    "duration": 24189,
    "start_time": "2023-10-05T11:50:22.828Z"
   },
   {
    "duration": 40,
    "start_time": "2023-10-05T11:50:47.019Z"
   },
   {
    "duration": 4,
    "start_time": "2023-10-05T11:50:47.060Z"
   },
   {
    "duration": 21,
    "start_time": "2023-10-05T11:50:47.066Z"
   },
   {
    "duration": 0,
    "start_time": "2023-10-05T11:50:47.089Z"
   },
   {
    "duration": 0,
    "start_time": "2023-10-05T11:50:47.090Z"
   },
   {
    "duration": 22,
    "start_time": "2023-10-05T11:55:02.223Z"
   },
   {
    "duration": 3616,
    "start_time": "2023-10-05T11:55:04.246Z"
   },
   {
    "duration": 1344,
    "start_time": "2023-10-05T11:55:11.444Z"
   },
   {
    "duration": 3,
    "start_time": "2023-10-05T11:56:29.914Z"
   },
   {
    "duration": 4,
    "start_time": "2023-10-05T11:56:30.213Z"
   },
   {
    "duration": 142,
    "start_time": "2023-10-05T11:57:29.963Z"
   },
   {
    "duration": 5,
    "start_time": "2023-10-05T11:57:34.922Z"
   },
   {
    "duration": 1694856,
    "start_time": "2023-10-05T11:57:35.319Z"
   },
   {
    "duration": 4,
    "start_time": "2023-10-05T12:25:50.177Z"
   },
   {
    "duration": 4,
    "start_time": "2023-10-05T12:27:32.263Z"
   },
   {
    "duration": 5,
    "start_time": "2023-10-05T15:08:04.120Z"
   },
   {
    "duration": 838,
    "start_time": "2023-10-05T15:08:04.468Z"
   },
   {
    "duration": 35,
    "start_time": "2023-10-05T15:08:05.308Z"
   },
   {
    "duration": 201,
    "start_time": "2023-10-05T15:08:05.362Z"
   },
   {
    "duration": 6,
    "start_time": "2023-10-05T15:08:11.392Z"
   },
   {
    "duration": 864,
    "start_time": "2023-10-05T15:08:15.487Z"
   },
   {
    "duration": 29,
    "start_time": "2023-10-05T15:08:16.353Z"
   },
   {
    "duration": 21,
    "start_time": "2023-10-05T15:08:16.601Z"
   },
   {
    "duration": 88,
    "start_time": "2023-10-05T15:08:19.214Z"
   },
   {
    "duration": 37,
    "start_time": "2023-10-05T15:08:19.496Z"
   },
   {
    "duration": 98,
    "start_time": "2023-10-05T15:08:19.753Z"
   },
   {
    "duration": 3,
    "start_time": "2023-10-05T15:08:20.462Z"
   },
   {
    "duration": 3,
    "start_time": "2023-10-05T15:08:20.921Z"
   },
   {
    "duration": 21394,
    "start_time": "2023-10-05T15:08:21.139Z"
   },
   {
    "duration": 26,
    "start_time": "2023-10-05T15:08:42.535Z"
   },
   {
    "duration": 2,
    "start_time": "2023-10-05T15:08:42.563Z"
   },
   {
    "duration": 18,
    "start_time": "2023-10-05T15:08:42.567Z"
   },
   {
    "duration": 3188,
    "start_time": "2023-10-05T15:08:42.587Z"
   },
   {
    "duration": 1389,
    "start_time": "2023-10-05T15:08:45.777Z"
   },
   {
    "duration": 3,
    "start_time": "2023-10-05T15:08:47.168Z"
   },
   {
    "duration": 6,
    "start_time": "2023-10-05T15:08:47.172Z"
   },
   {
    "duration": 11,
    "start_time": "2023-10-05T15:08:47.179Z"
   },
   {
    "duration": 3,
    "start_time": "2023-10-05T15:09:52.390Z"
   },
   {
    "duration": 1276079,
    "start_time": "2023-10-05T15:09:53.900Z"
   },
   {
    "duration": 43,
    "start_time": "2023-10-05T15:31:09.982Z"
   },
   {
    "duration": 85,
    "start_time": "2023-10-05T15:31:51.390Z"
   },
   {
    "duration": 378,
    "start_time": "2023-10-05T15:32:12.884Z"
   },
   {
    "duration": 5,
    "start_time": "2023-10-05T15:34:01.634Z"
   },
   {
    "duration": 6,
    "start_time": "2023-10-05T15:34:30.338Z"
   },
   {
    "duration": 10,
    "start_time": "2023-10-05T15:35:11.363Z"
   },
   {
    "duration": 11,
    "start_time": "2023-10-05T15:35:17.296Z"
   },
   {
    "duration": 4,
    "start_time": "2023-10-05T15:35:53.207Z"
   },
   {
    "duration": 4,
    "start_time": "2023-10-05T15:36:06.911Z"
   },
   {
    "duration": 3,
    "start_time": "2023-10-05T15:36:31.936Z"
   },
   {
    "duration": 4,
    "start_time": "2023-10-05T15:37:04.317Z"
   },
   {
    "duration": 4,
    "start_time": "2023-10-05T15:37:23.507Z"
   },
   {
    "duration": 3802,
    "start_time": "2023-10-05T15:37:31.180Z"
   },
   {
    "duration": 3597,
    "start_time": "2023-10-05T15:38:40.709Z"
   },
   {
    "duration": 5,
    "start_time": "2023-10-05T15:39:13.284Z"
   },
   {
    "duration": 6,
    "start_time": "2023-10-05T15:39:38.941Z"
   },
   {
    "duration": 3665,
    "start_time": "2023-10-05T15:40:44.813Z"
   },
   {
    "duration": 7210,
    "start_time": "2023-10-05T15:43:19.187Z"
   },
   {
    "duration": 7093,
    "start_time": "2023-10-05T15:46:04.524Z"
   },
   {
    "duration": 3,
    "start_time": "2023-10-05T15:46:22.852Z"
   },
   {
    "duration": 4,
    "start_time": "2023-10-05T15:46:23.282Z"
   },
   {
    "duration": 45529,
    "start_time": "2023-10-05T15:48:03.109Z"
   },
   {
    "duration": 5,
    "start_time": "2023-10-05T15:49:43.493Z"
   },
   {
    "duration": 7133,
    "start_time": "2023-10-05T15:51:18.158Z"
   },
   {
    "duration": 145006,
    "start_time": "2023-10-05T15:51:37.918Z"
   },
   {
    "duration": 44646,
    "start_time": "2023-10-05T15:54:02.927Z"
   },
   {
    "duration": 7085,
    "start_time": "2023-10-05T15:54:47.574Z"
   },
   {
    "duration": 4,
    "start_time": "2023-10-05T15:54:54.661Z"
   },
   {
    "duration": 3,
    "start_time": "2023-10-05T15:55:20.227Z"
   },
   {
    "duration": 7112,
    "start_time": "2023-10-05T15:56:18.682Z"
   },
   {
    "duration": 5,
    "start_time": "2023-10-05T16:11:26.914Z"
   },
   {
    "duration": 14,
    "start_time": "2023-10-05T16:11:47.838Z"
   },
   {
    "duration": 4,
    "start_time": "2023-10-05T16:11:51.456Z"
   },
   {
    "duration": 13,
    "start_time": "2023-10-05T16:11:53.701Z"
   },
   {
    "duration": 15431,
    "start_time": "2023-10-05T16:12:15.824Z"
   },
   {
    "duration": 15476,
    "start_time": "2023-10-05T16:12:59.868Z"
   },
   {
    "duration": 4,
    "start_time": "2023-10-05T16:13:40.176Z"
   },
   {
    "duration": 15138,
    "start_time": "2023-10-05T16:13:40.846Z"
   },
   {
    "duration": 4,
    "start_time": "2023-10-05T16:14:38.258Z"
   },
   {
    "duration": 15150,
    "start_time": "2023-10-05T16:14:39.094Z"
   },
   {
    "duration": 11,
    "start_time": "2023-10-05T16:20:57.541Z"
   },
   {
    "duration": 15,
    "start_time": "2023-10-05T16:20:57.811Z"
   },
   {
    "duration": 12,
    "start_time": "2023-10-05T16:21:05.513Z"
   },
   {
    "duration": 3,
    "start_time": "2023-10-05T16:21:05.928Z"
   },
   {
    "duration": 22,
    "start_time": "2023-10-05T16:21:06.898Z"
   },
   {
    "duration": 233,
    "start_time": "2023-10-05T16:21:18.121Z"
   },
   {
    "duration": 796,
    "start_time": "2023-10-05T16:21:18.356Z"
   },
   {
    "duration": 27,
    "start_time": "2023-10-05T16:21:19.154Z"
   },
   {
    "duration": 21,
    "start_time": "2023-10-05T16:21:19.183Z"
   },
   {
    "duration": 39,
    "start_time": "2023-10-05T16:21:19.225Z"
   },
   {
    "duration": 124,
    "start_time": "2023-10-05T16:21:19.266Z"
   },
   {
    "duration": 3,
    "start_time": "2023-10-05T16:21:19.392Z"
   },
   {
    "duration": 34,
    "start_time": "2023-10-05T16:21:19.397Z"
   },
   {
    "duration": 21188,
    "start_time": "2023-10-05T16:21:19.433Z"
   },
   {
    "duration": 31,
    "start_time": "2023-10-05T16:21:40.623Z"
   },
   {
    "duration": 6,
    "start_time": "2023-10-05T16:21:40.655Z"
   },
   {
    "duration": 17240,
    "start_time": "2023-10-05T16:21:40.663Z"
   },
   {
    "duration": 4027,
    "start_time": "2023-10-05T16:22:04.571Z"
   },
   {
    "duration": 36106,
    "start_time": "2023-10-05T16:22:17.203Z"
   },
   {
    "duration": 289851,
    "start_time": "2023-10-05T16:22:53.311Z"
   },
   {
    "duration": 123573,
    "start_time": "2023-10-05T16:27:43.164Z"
   },
   {
    "duration": 233,
    "start_time": "2023-10-05T16:30:50.300Z"
   },
   {
    "duration": 13,
    "start_time": "2023-10-05T16:30:50.628Z"
   },
   {
    "duration": 12,
    "start_time": "2023-10-05T16:30:50.935Z"
   },
   {
    "duration": 29,
    "start_time": "2023-10-05T16:30:56.104Z"
   },
   {
    "duration": 3,
    "start_time": "2023-10-05T16:30:56.871Z"
   },
   {
    "duration": 3148,
    "start_time": "2023-10-05T16:30:57.257Z"
   },
   {
    "duration": 1312,
    "start_time": "2023-10-05T16:31:00.408Z"
   },
   {
    "duration": 149975,
    "start_time": "2023-10-05T16:32:32.099Z"
   },
   {
    "duration": 42108,
    "start_time": "2023-10-05T16:35:02.076Z"
   },
   {
    "duration": 5,
    "start_time": "2023-10-05T16:39:08.374Z"
   },
   {
    "duration": 44322,
    "start_time": "2023-10-05T16:39:28.526Z"
   },
   {
    "duration": 2257,
    "start_time": "2023-10-06T06:05:53.999Z"
   },
   {
    "duration": 2620,
    "start_time": "2023-10-06T06:05:56.257Z"
   },
   {
    "duration": 100,
    "start_time": "2023-10-06T06:05:58.890Z"
   },
   {
    "duration": 31,
    "start_time": "2023-10-06T06:05:58.994Z"
   },
   {
    "duration": 57,
    "start_time": "2023-10-06T06:05:59.027Z"
   },
   {
    "duration": 135,
    "start_time": "2023-10-06T06:05:59.100Z"
   },
   {
    "duration": 6,
    "start_time": "2023-10-06T06:06:51.166Z"
   },
   {
    "duration": 6,
    "start_time": "2023-10-06T06:06:52.499Z"
   },
   {
    "duration": 8,
    "start_time": "2023-10-06T06:07:02.345Z"
   },
   {
    "duration": 1156,
    "start_time": "2023-10-06T06:07:15.090Z"
   },
   {
    "duration": 495,
    "start_time": "2023-10-06T06:08:28.861Z"
   },
   {
    "duration": 26,
    "start_time": "2023-10-06T06:08:36.879Z"
   },
   {
    "duration": 899,
    "start_time": "2023-10-06T06:08:36.907Z"
   },
   {
    "duration": 17,
    "start_time": "2023-10-06T06:08:37.808Z"
   },
   {
    "duration": 42,
    "start_time": "2023-10-06T06:08:37.827Z"
   },
   {
    "duration": 40,
    "start_time": "2023-10-06T06:08:37.880Z"
   },
   {
    "duration": 150,
    "start_time": "2023-10-06T06:08:37.922Z"
   },
   {
    "duration": 10,
    "start_time": "2023-10-06T06:08:38.079Z"
   },
   {
    "duration": 11,
    "start_time": "2023-10-06T06:08:38.090Z"
   },
   {
    "duration": 8,
    "start_time": "2023-10-06T06:08:38.102Z"
   },
   {
    "duration": 604,
    "start_time": "2023-10-06T06:08:40.260Z"
   },
   {
    "duration": 15,
    "start_time": "2023-10-06T06:09:04.590Z"
   },
   {
    "duration": 5,
    "start_time": "2023-10-06T06:09:36.520Z"
   },
   {
    "duration": 1141,
    "start_time": "2023-10-06T06:09:36.527Z"
   },
   {
    "duration": 51,
    "start_time": "2023-10-06T06:09:37.677Z"
   },
   {
    "duration": 59,
    "start_time": "2023-10-06T06:09:37.737Z"
   },
   {
    "duration": 28,
    "start_time": "2023-10-06T06:09:37.810Z"
   },
   {
    "duration": 156,
    "start_time": "2023-10-06T06:09:37.839Z"
   },
   {
    "duration": 3,
    "start_time": "2023-10-06T06:09:37.996Z"
   },
   {
    "duration": 4,
    "start_time": "2023-10-06T06:09:38.000Z"
   },
   {
    "duration": 15,
    "start_time": "2023-10-06T06:09:38.005Z"
   },
   {
    "duration": 2868,
    "start_time": "2023-10-06T06:09:38.021Z"
   },
   {
    "duration": 0,
    "start_time": "2023-10-06T06:09:40.892Z"
   },
   {
    "duration": 0,
    "start_time": "2023-10-06T06:09:40.892Z"
   },
   {
    "duration": 0,
    "start_time": "2023-10-06T06:09:40.893Z"
   },
   {
    "duration": 0,
    "start_time": "2023-10-06T06:09:40.894Z"
   },
   {
    "duration": 0,
    "start_time": "2023-10-06T06:09:40.894Z"
   },
   {
    "duration": 0,
    "start_time": "2023-10-06T06:09:40.895Z"
   },
   {
    "duration": 0,
    "start_time": "2023-10-06T06:09:40.908Z"
   },
   {
    "duration": 0,
    "start_time": "2023-10-06T06:09:40.909Z"
   },
   {
    "duration": 1,
    "start_time": "2023-10-06T06:09:40.909Z"
   },
   {
    "duration": 0,
    "start_time": "2023-10-06T06:09:40.910Z"
   },
   {
    "duration": 0,
    "start_time": "2023-10-06T06:09:40.913Z"
   },
   {
    "duration": 0,
    "start_time": "2023-10-06T06:09:40.914Z"
   },
   {
    "duration": 0,
    "start_time": "2023-10-06T06:09:40.914Z"
   },
   {
    "duration": 0,
    "start_time": "2023-10-06T06:09:40.915Z"
   },
   {
    "duration": 0,
    "start_time": "2023-10-06T06:09:40.916Z"
   },
   {
    "duration": 0,
    "start_time": "2023-10-06T06:09:40.917Z"
   },
   {
    "duration": 0,
    "start_time": "2023-10-06T06:09:40.917Z"
   },
   {
    "duration": 0,
    "start_time": "2023-10-06T06:09:40.918Z"
   },
   {
    "duration": 0,
    "start_time": "2023-10-06T06:09:40.919Z"
   },
   {
    "duration": 0,
    "start_time": "2023-10-06T06:09:40.920Z"
   },
   {
    "duration": 0,
    "start_time": "2023-10-06T06:09:40.921Z"
   },
   {
    "duration": 0,
    "start_time": "2023-10-06T06:09:40.922Z"
   },
   {
    "duration": 0,
    "start_time": "2023-10-06T06:09:40.923Z"
   },
   {
    "duration": 7,
    "start_time": "2023-10-06T06:09:54.783Z"
   },
   {
    "duration": 934,
    "start_time": "2023-10-06T06:09:54.792Z"
   },
   {
    "duration": 49,
    "start_time": "2023-10-06T06:09:55.729Z"
   },
   {
    "duration": 42,
    "start_time": "2023-10-06T06:09:55.780Z"
   },
   {
    "duration": 106,
    "start_time": "2023-10-06T06:09:55.824Z"
   },
   {
    "duration": 138,
    "start_time": "2023-10-06T06:09:55.932Z"
   },
   {
    "duration": 9,
    "start_time": "2023-10-06T06:09:56.074Z"
   },
   {
    "duration": 7,
    "start_time": "2023-10-06T06:09:56.085Z"
   },
   {
    "duration": 23,
    "start_time": "2023-10-06T06:09:56.093Z"
   },
   {
    "duration": 430870,
    "start_time": "2023-10-06T06:09:58.159Z"
   },
   {
    "duration": 1772,
    "start_time": "2023-10-06T06:17:27.204Z"
   },
   {
    "duration": 865,
    "start_time": "2023-10-06T06:17:28.991Z"
   },
   {
    "duration": 107,
    "start_time": "2023-10-06T06:17:29.861Z"
   },
   {
    "duration": 36,
    "start_time": "2023-10-06T06:17:29.972Z"
   },
   {
    "duration": 93,
    "start_time": "2023-10-06T06:17:30.010Z"
   },
   {
    "duration": 156,
    "start_time": "2023-10-06T06:17:30.104Z"
   },
   {
    "duration": 23,
    "start_time": "2023-10-06T06:17:30.272Z"
   },
   {
    "duration": 26,
    "start_time": "2023-10-06T06:17:30.296Z"
   },
   {
    "duration": 85,
    "start_time": "2023-10-06T06:17:30.323Z"
   },
   {
    "duration": 762375,
    "start_time": "2023-10-06T06:17:30.409Z"
   },
   {
    "duration": 26,
    "start_time": "2023-10-06T06:37:22.809Z"
   },
   {
    "duration": 260,
    "start_time": "2023-10-06T08:26:30.926Z"
   },
   {
    "duration": 986,
    "start_time": "2023-10-06T08:26:32.282Z"
   },
   {
    "duration": 27,
    "start_time": "2023-10-06T08:26:34.361Z"
   },
   {
    "duration": 32,
    "start_time": "2023-10-06T08:26:34.728Z"
   },
   {
    "duration": 26,
    "start_time": "2023-10-06T08:26:35.282Z"
   },
   {
    "duration": 123,
    "start_time": "2023-10-06T08:26:35.568Z"
   },
   {
    "duration": 3,
    "start_time": "2023-10-06T08:26:37.271Z"
   },
   {
    "duration": 5,
    "start_time": "2023-10-06T08:26:37.685Z"
   },
   {
    "duration": 5,
    "start_time": "2023-10-06T08:26:39.367Z"
   },
   {
    "duration": 676108,
    "start_time": "2023-10-06T08:26:40.096Z"
   },
   {
    "duration": 22,
    "start_time": "2023-10-06T08:37:56.205Z"
   },
   {
    "duration": 356,
    "start_time": "2023-10-06T08:39:28.409Z"
   },
   {
    "duration": 7,
    "start_time": "2023-10-06T08:39:52.698Z"
   },
   {
    "duration": 141,
    "start_time": "2023-10-06T08:40:00.624Z"
   },
   {
    "duration": 546078,
    "start_time": "2023-10-06T08:40:11.583Z"
   },
   {
    "duration": 3,
    "start_time": "2023-10-06T08:52:19.802Z"
   },
   {
    "duration": 179,
    "start_time": "2023-10-06T08:52:29.453Z"
   },
   {
    "duration": 25,
    "start_time": "2023-10-06T08:52:59.236Z"
   },
   {
    "duration": 4,
    "start_time": "2023-10-06T08:53:05.154Z"
   },
   {
    "duration": 13,
    "start_time": "2023-10-06T08:53:08.348Z"
   },
   {
    "duration": 183,
    "start_time": "2023-10-06T08:53:45.853Z"
   },
   {
    "duration": 116,
    "start_time": "2023-10-06T09:06:02.666Z"
   },
   {
    "duration": 1731,
    "start_time": "2023-10-06T10:50:19.457Z"
   },
   {
    "duration": 881,
    "start_time": "2023-10-06T10:50:46.081Z"
   },
   {
    "duration": 900,
    "start_time": "2023-10-06T10:51:15.273Z"
   },
   {
    "duration": 1604,
    "start_time": "2023-10-06T10:54:07.798Z"
   },
   {
    "duration": 903,
    "start_time": "2023-10-06T10:54:13.173Z"
   },
   {
    "duration": 23,
    "start_time": "2023-10-06T10:54:14.078Z"
   },
   {
    "duration": 19,
    "start_time": "2023-10-06T10:54:14.103Z"
   },
   {
    "duration": 28,
    "start_time": "2023-10-06T10:54:14.675Z"
   },
   {
    "duration": 104,
    "start_time": "2023-10-06T10:54:14.895Z"
   },
   {
    "duration": 4,
    "start_time": "2023-10-06T10:54:16.926Z"
   },
   {
    "duration": 9,
    "start_time": "2023-10-06T10:54:17.260Z"
   },
   {
    "duration": 7,
    "start_time": "2023-10-06T10:54:31.457Z"
   },
   {
    "duration": 710195,
    "start_time": "2023-10-06T10:54:31.809Z"
   },
   {
    "duration": 21,
    "start_time": "2023-10-06T11:06:22.005Z"
   },
   {
    "duration": 162,
    "start_time": "2023-10-06T11:07:31.218Z"
   },
   {
    "duration": 33,
    "start_time": "2023-10-06T11:07:31.743Z"
   },
   {
    "duration": 16,
    "start_time": "2023-10-06T11:07:32.215Z"
   },
   {
    "duration": 6,
    "start_time": "2023-10-06T11:10:09.846Z"
   },
   {
    "duration": 14,
    "start_time": "2023-10-06T11:10:23.304Z"
   },
   {
    "duration": 2,
    "start_time": "2023-10-06T11:35:12.228Z"
   },
   {
    "duration": 3089,
    "start_time": "2023-10-06T11:35:13.705Z"
   },
   {
    "duration": 1192,
    "start_time": "2023-10-06T11:35:16.796Z"
   },
   {
    "duration": 12,
    "start_time": "2023-10-06T11:38:46.456Z"
   },
   {
    "duration": 6531,
    "start_time": "2023-10-06T11:38:56.729Z"
   },
   {
    "duration": 1280,
    "start_time": "2023-10-09T05:38:56.540Z"
   },
   {
    "duration": 3464,
    "start_time": "2023-10-09T05:38:57.823Z"
   },
   {
    "duration": 2641,
    "start_time": "2023-10-09T05:39:01.289Z"
   },
   {
    "duration": 30,
    "start_time": "2023-10-09T05:39:03.932Z"
   },
   {
    "duration": 94,
    "start_time": "2023-10-09T05:39:03.963Z"
   },
   {
    "duration": 115,
    "start_time": "2023-10-09T05:39:04.059Z"
   },
   {
    "duration": 118,
    "start_time": "2023-10-09T05:39:04.176Z"
   },
   {
    "duration": 3,
    "start_time": "2023-10-09T05:39:04.296Z"
   },
   {
    "duration": 24,
    "start_time": "2023-10-09T05:39:04.301Z"
   },
   {
    "duration": 75,
    "start_time": "2023-10-09T05:39:04.328Z"
   },
   {
    "duration": 225,
    "start_time": "2023-10-09T05:39:32.889Z"
   },
   {
    "duration": 319,
    "start_time": "2023-10-09T05:39:44.793Z"
   },
   {
    "duration": 136,
    "start_time": "2023-10-09T05:41:38.816Z"
   },
   {
    "duration": 73,
    "start_time": "2023-10-09T05:41:53.116Z"
   },
   {
    "duration": 4036,
    "start_time": "2023-10-09T05:42:01.749Z"
   },
   {
    "duration": 116,
    "start_time": "2023-10-09T05:43:41.906Z"
   }
  ],
  "kernelspec": {
   "display_name": "Python 3 (ipykernel)",
   "language": "python",
   "name": "python3"
  },
  "language_info": {
   "codemirror_mode": {
    "name": "ipython",
    "version": 3
   },
   "file_extension": ".py",
   "mimetype": "text/x-python",
   "name": "python",
   "nbconvert_exporter": "python",
   "pygments_lexer": "ipython3",
   "version": "3.9.5"
  },
  "toc": {
   "base_numbering": 1,
   "nav_menu": {},
   "number_sections": true,
   "sideBar": true,
   "skip_h1_title": true,
   "title_cell": "Содержание",
   "title_sidebar": "Contents",
   "toc_cell": true,
   "toc_position": {
    "height": "calc(100% - 180px)",
    "left": "10px",
    "top": "150px",
    "width": "302.391px"
   },
   "toc_section_display": true,
   "toc_window_display": false
  }
 },
 "nbformat": 4,
 "nbformat_minor": 2
}