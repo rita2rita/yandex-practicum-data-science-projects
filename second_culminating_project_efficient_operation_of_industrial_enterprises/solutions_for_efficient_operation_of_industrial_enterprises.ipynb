{
 "cells": [
  {
   "cell_type": "markdown",
   "metadata": {
    "pycharm": {
     "name": "#%% md\n"
    },
    "toc": true
   },
   "source": [
    "<h1>Содержание<span class=\"tocSkip\"></span></h1>\n",
    "<div class=\"toc\"><ul class=\"toc-item\"><li><span><a href=\"#Подготовка-данных\" data-toc-modified-id=\"Подготовка-данных-1\"><span class=\"toc-item-num\">1&nbsp;&nbsp;</span>Подготовка данных</a></span></li><li><span><a href=\"#Анализ-данных\" data-toc-modified-id=\"Анализ-данных-2\"><span class=\"toc-item-num\">2&nbsp;&nbsp;</span>Анализ данных</a></span></li><li><span><a href=\"#Модель\" data-toc-modified-id=\"Модель-3\"><span class=\"toc-item-num\">3&nbsp;&nbsp;</span>Модель</a></span></li><li><span><a href=\"#Чек-лист-готовности-проекта\" data-toc-modified-id=\"Чек-лист-готовности-проекта-4\"><span class=\"toc-item-num\">4&nbsp;&nbsp;</span>Чек-лист готовности проекта</a></span></li></ul></div>"
   ]
  },
  {
   "cell_type": "markdown",
   "metadata": {
    "pycharm": {
     "name": "#%% md\n"
    }
   },
   "source": [
    "# Восстановление золота из руды"
   ]
  },
  {
   "cell_type": "markdown",
   "metadata": {
    "pycharm": {
     "name": "#%% md\n"
    }
   },
   "source": [
    "Подготовьте прототип модели машинного обучения для «Цифры». Компания разрабатывает решения для эффективной работы промышленных предприятий.\n",
    "\n",
    "Модель должна предсказать коэффициент восстановления золота из золотосодержащей руды.\n",
    "\n",
    "Модель поможет оптимизировать производство, чтобы не запускать предприятие с убыточными характеристиками.\n",
    "\n",
    "Вам нужно:\n",
    "\n",
    "1. Подготовить данные;\n",
    "2. Провести исследовательский анализ данных;\n",
    "3. Построить и обучить модель."
   ]
  },
  {
   "cell_type": "markdown",
   "metadata": {
    "pycharm": {
     "name": "#%% md\n"
    }
   },
   "source": [
    "Пример: rougher.input.feed_ag\n",
    "\n",
    "Возможные значения для блока [этап]:  \n",
    "rougher — флотация  \n",
    "primary_cleaner — первичная очистка  \n",
    "secondary_cleaner — вторичная очистка  \n",
    "final — финальные характеристики  \n",
    "\n",
    "Возможные значения для блока [тип_параметра]:  \n",
    "\n",
    "input — параметры сырья  \n",
    "output — параметры продукта  \n",
    "state — параметры, характеризующие текущее состояние этапа  \n",
    "calculation — расчётные характеристики  \n"
   ]
  },
  {
   "cell_type": "code",
   "execution_count": 1,
   "metadata": {
    "pycharm": {
     "name": "#%%\n"
    }
   },
   "outputs": [],
   "source": [
    "import pandas as pd\n",
    "from sklearn.linear_model import LinearRegression\n",
    "from sklearn.tree import DecisionTreeRegressor\n",
    "from sklearn.ensemble import RandomForestRegressor\n",
    "from sklearn.metrics import mean_absolute_error\n",
    "from matplotlib import pyplot as plt\n",
    "import seaborn as sns\n",
    "from sklearn.preprocessing import StandardScaler\n",
    "from sklearn.metrics import make_scorer\n",
    "from sklearn.model_selection import GridSearchCV\n",
    "from sklearn.model_selection import cross_val_score\n",
    "\n",
    "pd.set_option('display.max_columns', None)\n",
    "r = 12345"
   ]
  },
  {
   "cell_type": "markdown",
   "metadata": {
    "pycharm": {
     "name": "#%% md\n"
    }
   },
   "source": [
    "## Подготовка данных"
   ]
  },
  {
   "cell_type": "code",
   "execution_count": 2,
   "metadata": {
    "pycharm": {
     "name": "#%%\n"
    }
   },
   "outputs": [],
   "source": [
    "train_raw = pd.read_csv('gold_industry_train.csv')\n",
    "test_raw = pd.read_csv('gold_industry_test.csv')\n",
    "full_raw = pd.read_csv('gold_industry_full.csv')"
   ]
  },
  {
   "cell_type": "markdown",
   "metadata": {
    "pycharm": {
     "name": "#%% md\n"
    }
   },
   "source": [
    "Посмотрим общую информацию о датасетах"
   ]
  },
  {
   "cell_type": "code",
   "execution_count": 3,
   "metadata": {
    "pycharm": {
     "name": "#%%\n"
    }
   },
   "outputs": [],
   "source": [
    "def get_info(data):\n",
    "    display('data shape:', data.shape)\n",
    "    display('data samples', data.sample(3))\n",
    "    display(data.info())\n",
    "    display('num of duplicates:', data.duplicated().sum())\n",
    "    display('Кол-во строк с пропусками', data.isna().any(axis=1).sum())"
   ]
  },
  {
   "cell_type": "code",
   "execution_count": 4,
   "metadata": {
    "pycharm": {
     "name": "#%%\n"
    }
   },
   "outputs": [
    {
     "data": {
      "text/plain": [
       "'data shape:'"
      ]
     },
     "metadata": {},
     "output_type": "display_data"
    },
    {
     "data": {
      "text/plain": [
       "(14579, 87)"
      ]
     },
     "metadata": {},
     "output_type": "display_data"
    },
    {
     "data": {
      "text/plain": [
       "'data samples'"
      ]
     },
     "metadata": {},
     "output_type": "display_data"
    },
    {
     "data": {
      "text/html": [
       "<div>\n",
       "<style scoped>\n",
       "    .dataframe tbody tr th:only-of-type {\n",
       "        vertical-align: middle;\n",
       "    }\n",
       "\n",
       "    .dataframe tbody tr th {\n",
       "        vertical-align: top;\n",
       "    }\n",
       "\n",
       "    .dataframe thead th {\n",
       "        text-align: right;\n",
       "    }\n",
       "</style>\n",
       "<table border=\"1\" class=\"dataframe\">\n",
       "  <thead>\n",
       "    <tr style=\"text-align: right;\">\n",
       "      <th></th>\n",
       "      <th>date</th>\n",
       "      <th>rougher.input.feed_au</th>\n",
       "      <th>rougher.input.feed_ag</th>\n",
       "      <th>rougher.input.feed_pb</th>\n",
       "      <th>rougher.input.feed_sol</th>\n",
       "      <th>rougher.input.feed_rate</th>\n",
       "      <th>rougher.input.feed_size</th>\n",
       "      <th>rougher.input.floatbank10_sulfate</th>\n",
       "      <th>rougher.input.floatbank10_xanthate</th>\n",
       "      <th>rougher.state.floatbank10_a_air</th>\n",
       "      <th>rougher.state.floatbank10_a_level</th>\n",
       "      <th>rougher.state.floatbank10_b_air</th>\n",
       "      <th>rougher.state.floatbank10_b_level</th>\n",
       "      <th>rougher.state.floatbank10_c_air</th>\n",
       "      <th>rougher.state.floatbank10_c_level</th>\n",
       "      <th>rougher.state.floatbank10_d_air</th>\n",
       "      <th>rougher.state.floatbank10_d_level</th>\n",
       "      <th>rougher.state.floatbank10_e_air</th>\n",
       "      <th>rougher.state.floatbank10_e_level</th>\n",
       "      <th>rougher.state.floatbank10_f_air</th>\n",
       "      <th>rougher.state.floatbank10_f_level</th>\n",
       "      <th>rougher.input.floatbank11_sulfate</th>\n",
       "      <th>rougher.input.floatbank11_xanthate</th>\n",
       "      <th>rougher.calculation.sulfate_to_au_concentrate</th>\n",
       "      <th>rougher.calculation.floatbank10_sulfate_to_au_feed</th>\n",
       "      <th>rougher.calculation.floatbank11_sulfate_to_au_feed</th>\n",
       "      <th>rougher.calculation.au_pb_ratio</th>\n",
       "      <th>rougher.output.concentrate_au</th>\n",
       "      <th>rougher.output.concentrate_ag</th>\n",
       "      <th>rougher.output.concentrate_pb</th>\n",
       "      <th>rougher.output.concentrate_sol</th>\n",
       "      <th>rougher.output.recovery</th>\n",
       "      <th>rougher.output.tail_au</th>\n",
       "      <th>rougher.output.tail_ag</th>\n",
       "      <th>rougher.output.tail_pb</th>\n",
       "      <th>rougher.output.tail_sol</th>\n",
       "      <th>primary_cleaner.input.sulfate</th>\n",
       "      <th>primary_cleaner.input.depressant</th>\n",
       "      <th>primary_cleaner.input.feed_size</th>\n",
       "      <th>primary_cleaner.input.xanthate</th>\n",
       "      <th>primary_cleaner.state.floatbank8_a_air</th>\n",
       "      <th>primary_cleaner.state.floatbank8_a_level</th>\n",
       "      <th>primary_cleaner.state.floatbank8_b_air</th>\n",
       "      <th>primary_cleaner.state.floatbank8_b_level</th>\n",
       "      <th>primary_cleaner.state.floatbank8_c_air</th>\n",
       "      <th>primary_cleaner.state.floatbank8_c_level</th>\n",
       "      <th>primary_cleaner.state.floatbank8_d_air</th>\n",
       "      <th>primary_cleaner.state.floatbank8_d_level</th>\n",
       "      <th>primary_cleaner.output.concentrate_au</th>\n",
       "      <th>primary_cleaner.output.concentrate_ag</th>\n",
       "      <th>primary_cleaner.output.concentrate_pb</th>\n",
       "      <th>primary_cleaner.output.concentrate_sol</th>\n",
       "      <th>primary_cleaner.output.tail_au</th>\n",
       "      <th>primary_cleaner.output.tail_ag</th>\n",
       "      <th>primary_cleaner.output.tail_pb</th>\n",
       "      <th>primary_cleaner.output.tail_sol</th>\n",
       "      <th>secondary_cleaner.state.floatbank2_a_air</th>\n",
       "      <th>secondary_cleaner.state.floatbank2_a_level</th>\n",
       "      <th>secondary_cleaner.state.floatbank2_b_air</th>\n",
       "      <th>secondary_cleaner.state.floatbank2_b_level</th>\n",
       "      <th>secondary_cleaner.state.floatbank3_a_air</th>\n",
       "      <th>secondary_cleaner.state.floatbank3_a_level</th>\n",
       "      <th>secondary_cleaner.state.floatbank3_b_air</th>\n",
       "      <th>secondary_cleaner.state.floatbank3_b_level</th>\n",
       "      <th>secondary_cleaner.state.floatbank4_a_air</th>\n",
       "      <th>secondary_cleaner.state.floatbank4_a_level</th>\n",
       "      <th>secondary_cleaner.state.floatbank4_b_air</th>\n",
       "      <th>secondary_cleaner.state.floatbank4_b_level</th>\n",
       "      <th>secondary_cleaner.state.floatbank5_a_air</th>\n",
       "      <th>secondary_cleaner.state.floatbank5_a_level</th>\n",
       "      <th>secondary_cleaner.state.floatbank5_b_air</th>\n",
       "      <th>secondary_cleaner.state.floatbank5_b_level</th>\n",
       "      <th>secondary_cleaner.state.floatbank6_a_air</th>\n",
       "      <th>secondary_cleaner.state.floatbank6_a_level</th>\n",
       "      <th>secondary_cleaner.output.tail_au</th>\n",
       "      <th>secondary_cleaner.output.tail_ag</th>\n",
       "      <th>secondary_cleaner.output.tail_pb</th>\n",
       "      <th>secondary_cleaner.output.tail_sol</th>\n",
       "      <th>final.output.concentrate_au</th>\n",
       "      <th>final.output.concentrate_ag</th>\n",
       "      <th>final.output.concentrate_pb</th>\n",
       "      <th>final.output.concentrate_sol</th>\n",
       "      <th>final.output.recovery</th>\n",
       "      <th>final.output.tail_au</th>\n",
       "      <th>final.output.tail_ag</th>\n",
       "      <th>final.output.tail_pb</th>\n",
       "      <th>final.output.tail_sol</th>\n",
       "    </tr>\n",
       "  </thead>\n",
       "  <tbody>\n",
       "    <tr>\n",
       "      <th>9839</th>\n",
       "      <td>2017-04-30 17:59:59</td>\n",
       "      <td>8.432226</td>\n",
       "      <td>7.743732</td>\n",
       "      <td>3.390156</td>\n",
       "      <td>42.932208</td>\n",
       "      <td>604.130155</td>\n",
       "      <td>60.378428</td>\n",
       "      <td>17.000956</td>\n",
       "      <td>6.998730</td>\n",
       "      <td>997.557539</td>\n",
       "      <td>-299.828220</td>\n",
       "      <td>1303.231848</td>\n",
       "      <td>-500.638667</td>\n",
       "      <td>1253.905337</td>\n",
       "      <td>-500.031749</td>\n",
       "      <td>1202.719355</td>\n",
       "      <td>-499.656950</td>\n",
       "      <td>998.986420</td>\n",
       "      <td>-499.693343</td>\n",
       "      <td>1000.013877</td>\n",
       "      <td>-500.165795</td>\n",
       "      <td>17.001066</td>\n",
       "      <td>7.000185</td>\n",
       "      <td>47968.537787</td>\n",
       "      <td>3402.117100</td>\n",
       "      <td>3402.275865</td>\n",
       "      <td>2.487268</td>\n",
       "      <td>18.558298</td>\n",
       "      <td>11.721426</td>\n",
       "      <td>7.918626</td>\n",
       "      <td>28.519088</td>\n",
       "      <td>89.038670</td>\n",
       "      <td>1.552270</td>\n",
       "      <td>3.839677</td>\n",
       "      <td>0.643177</td>\n",
       "      <td>20.754678</td>\n",
       "      <td>206.902171</td>\n",
       "      <td>8.514762</td>\n",
       "      <td>7.20</td>\n",
       "      <td>1.511275</td>\n",
       "      <td>1600.150047</td>\n",
       "      <td>-499.902418</td>\n",
       "      <td>1602.348269</td>\n",
       "      <td>-499.030505</td>\n",
       "      <td>1599.055884</td>\n",
       "      <td>-499.979813</td>\n",
       "      <td>1601.649983</td>\n",
       "      <td>-499.556551</td>\n",
       "      <td>29.851092</td>\n",
       "      <td>9.717493</td>\n",
       "      <td>11.508623</td>\n",
       "      <td>10.426918</td>\n",
       "      <td>3.533585</td>\n",
       "      <td>14.859671</td>\n",
       "      <td>2.832795</td>\n",
       "      <td>9.103915</td>\n",
       "      <td>27.965520</td>\n",
       "      <td>-500.111344</td>\n",
       "      <td>2.292100e+01</td>\n",
       "      <td>-501.410230</td>\n",
       "      <td>21.966163</td>\n",
       "      <td>-500.188721</td>\n",
       "      <td>13.996482</td>\n",
       "      <td>-499.925228</td>\n",
       "      <td>12.022794</td>\n",
       "      <td>-501.322242</td>\n",
       "      <td>9.028338</td>\n",
       "      <td>-409.068887</td>\n",
       "      <td>9.036143</td>\n",
       "      <td>-500.560702</td>\n",
       "      <td>6.938450</td>\n",
       "      <td>-500.266316</td>\n",
       "      <td>9.989630</td>\n",
       "      <td>-500.879643</td>\n",
       "      <td>4.475224</td>\n",
       "      <td>17.474249</td>\n",
       "      <td>7.509688</td>\n",
       "      <td>4.199434</td>\n",
       "      <td>44.247542</td>\n",
       "      <td>5.013419</td>\n",
       "      <td>11.514110</td>\n",
       "      <td>8.438931</td>\n",
       "      <td>72.824779</td>\n",
       "      <td>2.660738</td>\n",
       "      <td>8.082454</td>\n",
       "      <td>2.788627</td>\n",
       "      <td>12.264666</td>\n",
       "    </tr>\n",
       "    <tr>\n",
       "      <th>7067</th>\n",
       "      <td>2016-12-21 10:59:59</td>\n",
       "      <td>8.454954</td>\n",
       "      <td>9.762826</td>\n",
       "      <td>3.673252</td>\n",
       "      <td>35.904808</td>\n",
       "      <td>358.686061</td>\n",
       "      <td>47.191445</td>\n",
       "      <td>8.998776</td>\n",
       "      <td>5.098121</td>\n",
       "      <td>1300.352000</td>\n",
       "      <td>-299.755836</td>\n",
       "      <td>1500.038216</td>\n",
       "      <td>-500.413423</td>\n",
       "      <td>1500.336803</td>\n",
       "      <td>-500.387390</td>\n",
       "      <td>1300.544945</td>\n",
       "      <td>-499.614108</td>\n",
       "      <td>1100.950356</td>\n",
       "      <td>-499.497476</td>\n",
       "      <td>1099.453620</td>\n",
       "      <td>-400.447147</td>\n",
       "      <td>9.000106</td>\n",
       "      <td>5.100628</td>\n",
       "      <td>46040.838515</td>\n",
       "      <td>3028.868619</td>\n",
       "      <td>3029.205559</td>\n",
       "      <td>2.301762</td>\n",
       "      <td>21.348900</td>\n",
       "      <td>12.618175</td>\n",
       "      <td>7.769437</td>\n",
       "      <td>29.012916</td>\n",
       "      <td>88.077524</td>\n",
       "      <td>1.548019</td>\n",
       "      <td>6.517846</td>\n",
       "      <td>0.470178</td>\n",
       "      <td>18.541591</td>\n",
       "      <td>120.991152</td>\n",
       "      <td>5.972810</td>\n",
       "      <td>6.83</td>\n",
       "      <td>1.199314</td>\n",
       "      <td>1702.832153</td>\n",
       "      <td>-499.913391</td>\n",
       "      <td>1698.857229</td>\n",
       "      <td>-500.274771</td>\n",
       "      <td>1700.836706</td>\n",
       "      <td>-501.476704</td>\n",
       "      <td>1699.682285</td>\n",
       "      <td>-499.862763</td>\n",
       "      <td>31.408763</td>\n",
       "      <td>9.225088</td>\n",
       "      <td>9.262807</td>\n",
       "      <td>8.021919</td>\n",
       "      <td>4.065816</td>\n",
       "      <td>14.176796</td>\n",
       "      <td>2.774442</td>\n",
       "      <td>9.343488</td>\n",
       "      <td>2.678259</td>\n",
       "      <td>-799.587856</td>\n",
       "      <td>2.163408e-16</td>\n",
       "      <td>-774.118267</td>\n",
       "      <td>37.029941</td>\n",
       "      <td>-398.453447</td>\n",
       "      <td>24.952336</td>\n",
       "      <td>-499.859877</td>\n",
       "      <td>24.987316</td>\n",
       "      <td>-400.074405</td>\n",
       "      <td>23.031953</td>\n",
       "      <td>-401.897856</td>\n",
       "      <td>29.856799</td>\n",
       "      <td>-450.114367</td>\n",
       "      <td>24.014031</td>\n",
       "      <td>-449.704959</td>\n",
       "      <td>24.979652</td>\n",
       "      <td>-500.577510</td>\n",
       "      <td>0.000000</td>\n",
       "      <td>0.000000</td>\n",
       "      <td>0.000000</td>\n",
       "      <td>0.000000</td>\n",
       "      <td>45.315320</td>\n",
       "      <td>5.642726</td>\n",
       "      <td>10.678073</td>\n",
       "      <td>10.160378</td>\n",
       "      <td>66.828161</td>\n",
       "      <td>3.204188</td>\n",
       "      <td>9.371396</td>\n",
       "      <td>3.038850</td>\n",
       "      <td>9.838837</td>\n",
       "    </tr>\n",
       "    <tr>\n",
       "      <th>12372</th>\n",
       "      <td>2017-08-31 06:59:59</td>\n",
       "      <td>9.325865</td>\n",
       "      <td>12.266148</td>\n",
       "      <td>4.291343</td>\n",
       "      <td>42.109343</td>\n",
       "      <td>648.132982</td>\n",
       "      <td>84.940637</td>\n",
       "      <td>13.725929</td>\n",
       "      <td>6.599246</td>\n",
       "      <td>1397.360794</td>\n",
       "      <td>-299.931198</td>\n",
       "      <td>998.491011</td>\n",
       "      <td>-501.596056</td>\n",
       "      <td>902.598199</td>\n",
       "      <td>-499.959990</td>\n",
       "      <td>850.513834</td>\n",
       "      <td>-500.317589</td>\n",
       "      <td>851.005015</td>\n",
       "      <td>-499.563814</td>\n",
       "      <td>799.899339</td>\n",
       "      <td>-501.543387</td>\n",
       "      <td>13.724217</td>\n",
       "      <td>6.611357</td>\n",
       "      <td>43688.076494</td>\n",
       "      <td>2482.410781</td>\n",
       "      <td>2482.259369</td>\n",
       "      <td>2.173181</td>\n",
       "      <td>17.782303</td>\n",
       "      <td>15.090593</td>\n",
       "      <td>7.390394</td>\n",
       "      <td>28.671255</td>\n",
       "      <td>95.229906</td>\n",
       "      <td>0.888692</td>\n",
       "      <td>4.493149</td>\n",
       "      <td>0.655936</td>\n",
       "      <td>21.784331</td>\n",
       "      <td>221.997109</td>\n",
       "      <td>12.002152</td>\n",
       "      <td>7.70</td>\n",
       "      <td>1.528830</td>\n",
       "      <td>1701.560908</td>\n",
       "      <td>-498.963496</td>\n",
       "      <td>1699.927406</td>\n",
       "      <td>-500.043700</td>\n",
       "      <td>1701.261623</td>\n",
       "      <td>-497.013564</td>\n",
       "      <td>1698.797843</td>\n",
       "      <td>-495.475475</td>\n",
       "      <td>31.325303</td>\n",
       "      <td>10.392950</td>\n",
       "      <td>10.408895</td>\n",
       "      <td>13.976186</td>\n",
       "      <td>3.483679</td>\n",
       "      <td>21.022186</td>\n",
       "      <td>5.346020</td>\n",
       "      <td>9.265630</td>\n",
       "      <td>27.970186</td>\n",
       "      <td>-499.822460</td>\n",
       "      <td>2.495023e+01</td>\n",
       "      <td>-499.834155</td>\n",
       "      <td>25.008310</td>\n",
       "      <td>-499.757235</td>\n",
       "      <td>20.971567</td>\n",
       "      <td>-500.007570</td>\n",
       "      <td>20.005393</td>\n",
       "      <td>-499.645666</td>\n",
       "      <td>14.892695</td>\n",
       "      <td>-500.183622</td>\n",
       "      <td>15.008870</td>\n",
       "      <td>-499.658186</td>\n",
       "      <td>12.009543</td>\n",
       "      <td>-500.026893</td>\n",
       "      <td>10.983333</td>\n",
       "      <td>-497.623184</td>\n",
       "      <td>0.000000</td>\n",
       "      <td>0.000000</td>\n",
       "      <td>0.000000</td>\n",
       "      <td>0.000000</td>\n",
       "      <td>45.674774</td>\n",
       "      <td>5.808780</td>\n",
       "      <td>8.477019</td>\n",
       "      <td>9.150983</td>\n",
       "      <td>72.016539</td>\n",
       "      <td>3.059592</td>\n",
       "      <td>12.776779</td>\n",
       "      <td>2.582010</td>\n",
       "      <td>12.182175</td>\n",
       "    </tr>\n",
       "  </tbody>\n",
       "</table>\n",
       "</div>"
      ],
      "text/plain": [
       "                      date  rougher.input.feed_au  rougher.input.feed_ag  \\\n",
       "9839   2017-04-30 17:59:59               8.432226               7.743732   \n",
       "7067   2016-12-21 10:59:59               8.454954               9.762826   \n",
       "12372  2017-08-31 06:59:59               9.325865              12.266148   \n",
       "\n",
       "       rougher.input.feed_pb  rougher.input.feed_sol  rougher.input.feed_rate  \\\n",
       "9839                3.390156               42.932208               604.130155   \n",
       "7067                3.673252               35.904808               358.686061   \n",
       "12372               4.291343               42.109343               648.132982   \n",
       "\n",
       "       rougher.input.feed_size  rougher.input.floatbank10_sulfate  \\\n",
       "9839                 60.378428                          17.000956   \n",
       "7067                 47.191445                           8.998776   \n",
       "12372                84.940637                          13.725929   \n",
       "\n",
       "       rougher.input.floatbank10_xanthate  rougher.state.floatbank10_a_air  \\\n",
       "9839                             6.998730                       997.557539   \n",
       "7067                             5.098121                      1300.352000   \n",
       "12372                            6.599246                      1397.360794   \n",
       "\n",
       "       rougher.state.floatbank10_a_level  rougher.state.floatbank10_b_air  \\\n",
       "9839                         -299.828220                      1303.231848   \n",
       "7067                         -299.755836                      1500.038216   \n",
       "12372                        -299.931198                       998.491011   \n",
       "\n",
       "       rougher.state.floatbank10_b_level  rougher.state.floatbank10_c_air  \\\n",
       "9839                         -500.638667                      1253.905337   \n",
       "7067                         -500.413423                      1500.336803   \n",
       "12372                        -501.596056                       902.598199   \n",
       "\n",
       "       rougher.state.floatbank10_c_level  rougher.state.floatbank10_d_air  \\\n",
       "9839                         -500.031749                      1202.719355   \n",
       "7067                         -500.387390                      1300.544945   \n",
       "12372                        -499.959990                       850.513834   \n",
       "\n",
       "       rougher.state.floatbank10_d_level  rougher.state.floatbank10_e_air  \\\n",
       "9839                         -499.656950                       998.986420   \n",
       "7067                         -499.614108                      1100.950356   \n",
       "12372                        -500.317589                       851.005015   \n",
       "\n",
       "       rougher.state.floatbank10_e_level  rougher.state.floatbank10_f_air  \\\n",
       "9839                         -499.693343                      1000.013877   \n",
       "7067                         -499.497476                      1099.453620   \n",
       "12372                        -499.563814                       799.899339   \n",
       "\n",
       "       rougher.state.floatbank10_f_level  rougher.input.floatbank11_sulfate  \\\n",
       "9839                         -500.165795                          17.001066   \n",
       "7067                         -400.447147                           9.000106   \n",
       "12372                        -501.543387                          13.724217   \n",
       "\n",
       "       rougher.input.floatbank11_xanthate  \\\n",
       "9839                             7.000185   \n",
       "7067                             5.100628   \n",
       "12372                            6.611357   \n",
       "\n",
       "       rougher.calculation.sulfate_to_au_concentrate  \\\n",
       "9839                                    47968.537787   \n",
       "7067                                    46040.838515   \n",
       "12372                                   43688.076494   \n",
       "\n",
       "       rougher.calculation.floatbank10_sulfate_to_au_feed  \\\n",
       "9839                                         3402.117100    \n",
       "7067                                         3028.868619    \n",
       "12372                                        2482.410781    \n",
       "\n",
       "       rougher.calculation.floatbank11_sulfate_to_au_feed  \\\n",
       "9839                                         3402.275865    \n",
       "7067                                         3029.205559    \n",
       "12372                                        2482.259369    \n",
       "\n",
       "       rougher.calculation.au_pb_ratio  rougher.output.concentrate_au  \\\n",
       "9839                          2.487268                      18.558298   \n",
       "7067                          2.301762                      21.348900   \n",
       "12372                         2.173181                      17.782303   \n",
       "\n",
       "       rougher.output.concentrate_ag  rougher.output.concentrate_pb  \\\n",
       "9839                       11.721426                       7.918626   \n",
       "7067                       12.618175                       7.769437   \n",
       "12372                      15.090593                       7.390394   \n",
       "\n",
       "       rougher.output.concentrate_sol  rougher.output.recovery  \\\n",
       "9839                        28.519088                89.038670   \n",
       "7067                        29.012916                88.077524   \n",
       "12372                       28.671255                95.229906   \n",
       "\n",
       "       rougher.output.tail_au  rougher.output.tail_ag  rougher.output.tail_pb  \\\n",
       "9839                 1.552270                3.839677                0.643177   \n",
       "7067                 1.548019                6.517846                0.470178   \n",
       "12372                0.888692                4.493149                0.655936   \n",
       "\n",
       "       rougher.output.tail_sol  primary_cleaner.input.sulfate  \\\n",
       "9839                 20.754678                     206.902171   \n",
       "7067                 18.541591                     120.991152   \n",
       "12372                21.784331                     221.997109   \n",
       "\n",
       "       primary_cleaner.input.depressant  primary_cleaner.input.feed_size  \\\n",
       "9839                           8.514762                             7.20   \n",
       "7067                           5.972810                             6.83   \n",
       "12372                         12.002152                             7.70   \n",
       "\n",
       "       primary_cleaner.input.xanthate  primary_cleaner.state.floatbank8_a_air  \\\n",
       "9839                         1.511275                             1600.150047   \n",
       "7067                         1.199314                             1702.832153   \n",
       "12372                        1.528830                             1701.560908   \n",
       "\n",
       "       primary_cleaner.state.floatbank8_a_level  \\\n",
       "9839                                -499.902418   \n",
       "7067                                -499.913391   \n",
       "12372                               -498.963496   \n",
       "\n",
       "       primary_cleaner.state.floatbank8_b_air  \\\n",
       "9839                              1602.348269   \n",
       "7067                              1698.857229   \n",
       "12372                             1699.927406   \n",
       "\n",
       "       primary_cleaner.state.floatbank8_b_level  \\\n",
       "9839                                -499.030505   \n",
       "7067                                -500.274771   \n",
       "12372                               -500.043700   \n",
       "\n",
       "       primary_cleaner.state.floatbank8_c_air  \\\n",
       "9839                              1599.055884   \n",
       "7067                              1700.836706   \n",
       "12372                             1701.261623   \n",
       "\n",
       "       primary_cleaner.state.floatbank8_c_level  \\\n",
       "9839                                -499.979813   \n",
       "7067                                -501.476704   \n",
       "12372                               -497.013564   \n",
       "\n",
       "       primary_cleaner.state.floatbank8_d_air  \\\n",
       "9839                              1601.649983   \n",
       "7067                              1699.682285   \n",
       "12372                             1698.797843   \n",
       "\n",
       "       primary_cleaner.state.floatbank8_d_level  \\\n",
       "9839                                -499.556551   \n",
       "7067                                -499.862763   \n",
       "12372                               -495.475475   \n",
       "\n",
       "       primary_cleaner.output.concentrate_au  \\\n",
       "9839                               29.851092   \n",
       "7067                               31.408763   \n",
       "12372                              31.325303   \n",
       "\n",
       "       primary_cleaner.output.concentrate_ag  \\\n",
       "9839                                9.717493   \n",
       "7067                                9.225088   \n",
       "12372                              10.392950   \n",
       "\n",
       "       primary_cleaner.output.concentrate_pb  \\\n",
       "9839                               11.508623   \n",
       "7067                                9.262807   \n",
       "12372                              10.408895   \n",
       "\n",
       "       primary_cleaner.output.concentrate_sol  primary_cleaner.output.tail_au  \\\n",
       "9839                                10.426918                        3.533585   \n",
       "7067                                 8.021919                        4.065816   \n",
       "12372                               13.976186                        3.483679   \n",
       "\n",
       "       primary_cleaner.output.tail_ag  primary_cleaner.output.tail_pb  \\\n",
       "9839                        14.859671                        2.832795   \n",
       "7067                        14.176796                        2.774442   \n",
       "12372                       21.022186                        5.346020   \n",
       "\n",
       "       primary_cleaner.output.tail_sol  \\\n",
       "9839                          9.103915   \n",
       "7067                          9.343488   \n",
       "12372                         9.265630   \n",
       "\n",
       "       secondary_cleaner.state.floatbank2_a_air  \\\n",
       "9839                                  27.965520   \n",
       "7067                                   2.678259   \n",
       "12372                                 27.970186   \n",
       "\n",
       "       secondary_cleaner.state.floatbank2_a_level  \\\n",
       "9839                                  -500.111344   \n",
       "7067                                  -799.587856   \n",
       "12372                                 -499.822460   \n",
       "\n",
       "       secondary_cleaner.state.floatbank2_b_air  \\\n",
       "9839                               2.292100e+01   \n",
       "7067                               2.163408e-16   \n",
       "12372                              2.495023e+01   \n",
       "\n",
       "       secondary_cleaner.state.floatbank2_b_level  \\\n",
       "9839                                  -501.410230   \n",
       "7067                                  -774.118267   \n",
       "12372                                 -499.834155   \n",
       "\n",
       "       secondary_cleaner.state.floatbank3_a_air  \\\n",
       "9839                                  21.966163   \n",
       "7067                                  37.029941   \n",
       "12372                                 25.008310   \n",
       "\n",
       "       secondary_cleaner.state.floatbank3_a_level  \\\n",
       "9839                                  -500.188721   \n",
       "7067                                  -398.453447   \n",
       "12372                                 -499.757235   \n",
       "\n",
       "       secondary_cleaner.state.floatbank3_b_air  \\\n",
       "9839                                  13.996482   \n",
       "7067                                  24.952336   \n",
       "12372                                 20.971567   \n",
       "\n",
       "       secondary_cleaner.state.floatbank3_b_level  \\\n",
       "9839                                  -499.925228   \n",
       "7067                                  -499.859877   \n",
       "12372                                 -500.007570   \n",
       "\n",
       "       secondary_cleaner.state.floatbank4_a_air  \\\n",
       "9839                                  12.022794   \n",
       "7067                                  24.987316   \n",
       "12372                                 20.005393   \n",
       "\n",
       "       secondary_cleaner.state.floatbank4_a_level  \\\n",
       "9839                                  -501.322242   \n",
       "7067                                  -400.074405   \n",
       "12372                                 -499.645666   \n",
       "\n",
       "       secondary_cleaner.state.floatbank4_b_air  \\\n",
       "9839                                   9.028338   \n",
       "7067                                  23.031953   \n",
       "12372                                 14.892695   \n",
       "\n",
       "       secondary_cleaner.state.floatbank4_b_level  \\\n",
       "9839                                  -409.068887   \n",
       "7067                                  -401.897856   \n",
       "12372                                 -500.183622   \n",
       "\n",
       "       secondary_cleaner.state.floatbank5_a_air  \\\n",
       "9839                                   9.036143   \n",
       "7067                                  29.856799   \n",
       "12372                                 15.008870   \n",
       "\n",
       "       secondary_cleaner.state.floatbank5_a_level  \\\n",
       "9839                                  -500.560702   \n",
       "7067                                  -450.114367   \n",
       "12372                                 -499.658186   \n",
       "\n",
       "       secondary_cleaner.state.floatbank5_b_air  \\\n",
       "9839                                   6.938450   \n",
       "7067                                  24.014031   \n",
       "12372                                 12.009543   \n",
       "\n",
       "       secondary_cleaner.state.floatbank5_b_level  \\\n",
       "9839                                  -500.266316   \n",
       "7067                                  -449.704959   \n",
       "12372                                 -500.026893   \n",
       "\n",
       "       secondary_cleaner.state.floatbank6_a_air  \\\n",
       "9839                                   9.989630   \n",
       "7067                                  24.979652   \n",
       "12372                                 10.983333   \n",
       "\n",
       "       secondary_cleaner.state.floatbank6_a_level  \\\n",
       "9839                                  -500.879643   \n",
       "7067                                  -500.577510   \n",
       "12372                                 -497.623184   \n",
       "\n",
       "       secondary_cleaner.output.tail_au  secondary_cleaner.output.tail_ag  \\\n",
       "9839                           4.475224                         17.474249   \n",
       "7067                           0.000000                          0.000000   \n",
       "12372                          0.000000                          0.000000   \n",
       "\n",
       "       secondary_cleaner.output.tail_pb  secondary_cleaner.output.tail_sol  \\\n",
       "9839                           7.509688                           4.199434   \n",
       "7067                           0.000000                           0.000000   \n",
       "12372                          0.000000                           0.000000   \n",
       "\n",
       "       final.output.concentrate_au  final.output.concentrate_ag  \\\n",
       "9839                     44.247542                     5.013419   \n",
       "7067                     45.315320                     5.642726   \n",
       "12372                    45.674774                     5.808780   \n",
       "\n",
       "       final.output.concentrate_pb  final.output.concentrate_sol  \\\n",
       "9839                     11.514110                      8.438931   \n",
       "7067                     10.678073                     10.160378   \n",
       "12372                     8.477019                      9.150983   \n",
       "\n",
       "       final.output.recovery  final.output.tail_au  final.output.tail_ag  \\\n",
       "9839               72.824779              2.660738              8.082454   \n",
       "7067               66.828161              3.204188              9.371396   \n",
       "12372              72.016539              3.059592             12.776779   \n",
       "\n",
       "       final.output.tail_pb  final.output.tail_sol  \n",
       "9839               2.788627              12.264666  \n",
       "7067               3.038850               9.838837  \n",
       "12372              2.582010              12.182175  "
      ]
     },
     "metadata": {},
     "output_type": "display_data"
    },
    {
     "name": "stdout",
     "output_type": "stream",
     "text": [
      "<class 'pandas.core.frame.DataFrame'>\n",
      "RangeIndex: 14579 entries, 0 to 14578\n",
      "Data columns (total 87 columns):\n",
      " #   Column                                              Non-Null Count  Dtype  \n",
      "---  ------                                              --------------  -----  \n",
      " 0   date                                                14579 non-null  object \n",
      " 1   rougher.input.feed_au                               14579 non-null  float64\n",
      " 2   rougher.input.feed_ag                               14579 non-null  float64\n",
      " 3   rougher.input.feed_pb                               14507 non-null  float64\n",
      " 4   rougher.input.feed_sol                              14502 non-null  float64\n",
      " 5   rougher.input.feed_rate                             14572 non-null  float64\n",
      " 6   rougher.input.feed_size                             14478 non-null  float64\n",
      " 7   rougher.input.floatbank10_sulfate                   14548 non-null  float64\n",
      " 8   rougher.input.floatbank10_xanthate                  14572 non-null  float64\n",
      " 9   rougher.state.floatbank10_a_air                     14579 non-null  float64\n",
      " 10  rougher.state.floatbank10_a_level                   14579 non-null  float64\n",
      " 11  rougher.state.floatbank10_b_air                     14579 non-null  float64\n",
      " 12  rougher.state.floatbank10_b_level                   14579 non-null  float64\n",
      " 13  rougher.state.floatbank10_c_air                     14579 non-null  float64\n",
      " 14  rougher.state.floatbank10_c_level                   14579 non-null  float64\n",
      " 15  rougher.state.floatbank10_d_air                     14579 non-null  float64\n",
      " 16  rougher.state.floatbank10_d_level                   14579 non-null  float64\n",
      " 17  rougher.state.floatbank10_e_air                     14150 non-null  float64\n",
      " 18  rougher.state.floatbank10_e_level                   14579 non-null  float64\n",
      " 19  rougher.state.floatbank10_f_air                     14579 non-null  float64\n",
      " 20  rougher.state.floatbank10_f_level                   14579 non-null  float64\n",
      " 21  rougher.input.floatbank11_sulfate                   14543 non-null  float64\n",
      " 22  rougher.input.floatbank11_xanthate                  14172 non-null  float64\n",
      " 23  rougher.calculation.sulfate_to_au_concentrate       14578 non-null  float64\n",
      " 24  rougher.calculation.floatbank10_sulfate_to_au_feed  14578 non-null  float64\n",
      " 25  rougher.calculation.floatbank11_sulfate_to_au_feed  14578 non-null  float64\n",
      " 26  rougher.calculation.au_pb_ratio                     14579 non-null  float64\n",
      " 27  rougher.output.concentrate_au                       14579 non-null  float64\n",
      " 28  rougher.output.concentrate_ag                       14579 non-null  float64\n",
      " 29  rougher.output.concentrate_pb                       14579 non-null  float64\n",
      " 30  rougher.output.concentrate_sol                      14561 non-null  float64\n",
      " 31  rougher.output.recovery                             14579 non-null  float64\n",
      " 32  rougher.output.tail_au                              14579 non-null  float64\n",
      " 33  rougher.output.tail_ag                              14578 non-null  float64\n",
      " 34  rougher.output.tail_pb                              14579 non-null  float64\n",
      " 35  rougher.output.tail_sol                             14579 non-null  float64\n",
      " 36  primary_cleaner.input.sulfate                       14556 non-null  float64\n",
      " 37  primary_cleaner.input.depressant                    14551 non-null  float64\n",
      " 38  primary_cleaner.input.feed_size                     14579 non-null  float64\n",
      " 39  primary_cleaner.input.xanthate                      14518 non-null  float64\n",
      " 40  primary_cleaner.state.floatbank8_a_air              14576 non-null  float64\n",
      " 41  primary_cleaner.state.floatbank8_a_level            14579 non-null  float64\n",
      " 42  primary_cleaner.state.floatbank8_b_air              14576 non-null  float64\n",
      " 43  primary_cleaner.state.floatbank8_b_level            14579 non-null  float64\n",
      " 44  primary_cleaner.state.floatbank8_c_air              14579 non-null  float64\n",
      " 45  primary_cleaner.state.floatbank8_c_level            14579 non-null  float64\n",
      " 46  primary_cleaner.state.floatbank8_d_air              14578 non-null  float64\n",
      " 47  primary_cleaner.state.floatbank8_d_level            14579 non-null  float64\n",
      " 48  primary_cleaner.output.concentrate_au               14579 non-null  float64\n",
      " 49  primary_cleaner.output.concentrate_ag               14579 non-null  float64\n",
      " 50  primary_cleaner.output.concentrate_pb               14491 non-null  float64\n",
      " 51  primary_cleaner.output.concentrate_sol              14314 non-null  float64\n",
      " 52  primary_cleaner.output.tail_au                      14579 non-null  float64\n",
      " 53  primary_cleaner.output.tail_ag                      14575 non-null  float64\n",
      " 54  primary_cleaner.output.tail_pb                      14573 non-null  float64\n",
      " 55  primary_cleaner.output.tail_sol                     14534 non-null  float64\n",
      " 56  secondary_cleaner.state.floatbank2_a_air            14485 non-null  float64\n",
      " 57  secondary_cleaner.state.floatbank2_a_level          14579 non-null  float64\n",
      " 58  secondary_cleaner.state.floatbank2_b_air            14557 non-null  float64\n",
      " 59  secondary_cleaner.state.floatbank2_b_level          14579 non-null  float64\n",
      " 60  secondary_cleaner.state.floatbank3_a_air            14567 non-null  float64\n",
      " 61  secondary_cleaner.state.floatbank3_a_level          14579 non-null  float64\n",
      " 62  secondary_cleaner.state.floatbank3_b_air            14579 non-null  float64\n",
      " 63  secondary_cleaner.state.floatbank3_b_level          14579 non-null  float64\n",
      " 64  secondary_cleaner.state.floatbank4_a_air            14574 non-null  float64\n",
      " 65  secondary_cleaner.state.floatbank4_a_level          14579 non-null  float64\n",
      " 66  secondary_cleaner.state.floatbank4_b_air            14579 non-null  float64\n",
      " 67  secondary_cleaner.state.floatbank4_b_level          14579 non-null  float64\n",
      " 68  secondary_cleaner.state.floatbank5_a_air            14579 non-null  float64\n",
      " 69  secondary_cleaner.state.floatbank5_a_level          14579 non-null  float64\n",
      " 70  secondary_cleaner.state.floatbank5_b_air            14579 non-null  float64\n",
      " 71  secondary_cleaner.state.floatbank5_b_level          14579 non-null  float64\n",
      " 72  secondary_cleaner.state.floatbank6_a_air            14578 non-null  float64\n",
      " 73  secondary_cleaner.state.floatbank6_a_level          14579 non-null  float64\n",
      " 74  secondary_cleaner.output.tail_au                    14579 non-null  float64\n",
      " 75  secondary_cleaner.output.tail_ag                    14578 non-null  float64\n",
      " 76  secondary_cleaner.output.tail_pb                    14575 non-null  float64\n",
      " 77  secondary_cleaner.output.tail_sol                   13659 non-null  float64\n",
      " 78  final.output.concentrate_au                         14579 non-null  float64\n",
      " 79  final.output.concentrate_ag                         14578 non-null  float64\n",
      " 80  final.output.concentrate_pb                         14578 non-null  float64\n",
      " 81  final.output.concentrate_sol                        14387 non-null  float64\n",
      " 82  final.output.recovery                               14579 non-null  float64\n",
      " 83  final.output.tail_au                                14579 non-null  float64\n",
      " 84  final.output.tail_ag                                14578 non-null  float64\n",
      " 85  final.output.tail_pb                                14504 non-null  float64\n",
      " 86  final.output.tail_sol                               14574 non-null  float64\n",
      "dtypes: float64(86), object(1)\n",
      "memory usage: 9.7+ MB\n"
     ]
    },
    {
     "data": {
      "text/plain": [
       "None"
      ]
     },
     "metadata": {},
     "output_type": "display_data"
    },
    {
     "data": {
      "text/plain": [
       "'num of duplicates:'"
      ]
     },
     "metadata": {},
     "output_type": "display_data"
    },
    {
     "data": {
      "text/plain": [
       "0"
      ]
     },
     "metadata": {},
     "output_type": "display_data"
    },
    {
     "data": {
      "text/plain": [
       "'Кол-во строк с пропусками'"
      ]
     },
     "metadata": {},
     "output_type": "display_data"
    },
    {
     "data": {
      "text/plain": [
       "2242"
      ]
     },
     "metadata": {},
     "output_type": "display_data"
    }
   ],
   "source": [
    "get_info(train_raw)"
   ]
  },
  {
   "cell_type": "code",
   "execution_count": 5,
   "metadata": {
    "pycharm": {
     "name": "#%%\n"
    },
    "scrolled": true
   },
   "outputs": [
    {
     "data": {
      "text/plain": [
       "'data shape:'"
      ]
     },
     "metadata": {},
     "output_type": "display_data"
    },
    {
     "data": {
      "text/plain": [
       "(4860, 53)"
      ]
     },
     "metadata": {},
     "output_type": "display_data"
    },
    {
     "data": {
      "text/plain": [
       "'data samples'"
      ]
     },
     "metadata": {},
     "output_type": "display_data"
    },
    {
     "data": {
      "text/html": [
       "<div>\n",
       "<style scoped>\n",
       "    .dataframe tbody tr th:only-of-type {\n",
       "        vertical-align: middle;\n",
       "    }\n",
       "\n",
       "    .dataframe tbody tr th {\n",
       "        vertical-align: top;\n",
       "    }\n",
       "\n",
       "    .dataframe thead th {\n",
       "        text-align: right;\n",
       "    }\n",
       "</style>\n",
       "<table border=\"1\" class=\"dataframe\">\n",
       "  <thead>\n",
       "    <tr style=\"text-align: right;\">\n",
       "      <th></th>\n",
       "      <th>date</th>\n",
       "      <th>rougher.input.feed_au</th>\n",
       "      <th>rougher.input.feed_ag</th>\n",
       "      <th>rougher.input.feed_pb</th>\n",
       "      <th>rougher.input.feed_sol</th>\n",
       "      <th>rougher.input.feed_rate</th>\n",
       "      <th>rougher.input.feed_size</th>\n",
       "      <th>rougher.input.floatbank10_sulfate</th>\n",
       "      <th>rougher.input.floatbank10_xanthate</th>\n",
       "      <th>rougher.state.floatbank10_a_air</th>\n",
       "      <th>rougher.state.floatbank10_a_level</th>\n",
       "      <th>rougher.state.floatbank10_b_air</th>\n",
       "      <th>rougher.state.floatbank10_b_level</th>\n",
       "      <th>rougher.state.floatbank10_c_air</th>\n",
       "      <th>rougher.state.floatbank10_c_level</th>\n",
       "      <th>rougher.state.floatbank10_d_air</th>\n",
       "      <th>rougher.state.floatbank10_d_level</th>\n",
       "      <th>rougher.state.floatbank10_e_air</th>\n",
       "      <th>rougher.state.floatbank10_e_level</th>\n",
       "      <th>rougher.state.floatbank10_f_air</th>\n",
       "      <th>rougher.state.floatbank10_f_level</th>\n",
       "      <th>rougher.input.floatbank11_sulfate</th>\n",
       "      <th>rougher.input.floatbank11_xanthate</th>\n",
       "      <th>primary_cleaner.input.sulfate</th>\n",
       "      <th>primary_cleaner.input.depressant</th>\n",
       "      <th>primary_cleaner.input.feed_size</th>\n",
       "      <th>primary_cleaner.input.xanthate</th>\n",
       "      <th>primary_cleaner.state.floatbank8_a_air</th>\n",
       "      <th>primary_cleaner.state.floatbank8_a_level</th>\n",
       "      <th>primary_cleaner.state.floatbank8_b_air</th>\n",
       "      <th>primary_cleaner.state.floatbank8_b_level</th>\n",
       "      <th>primary_cleaner.state.floatbank8_c_air</th>\n",
       "      <th>primary_cleaner.state.floatbank8_c_level</th>\n",
       "      <th>primary_cleaner.state.floatbank8_d_air</th>\n",
       "      <th>primary_cleaner.state.floatbank8_d_level</th>\n",
       "      <th>secondary_cleaner.state.floatbank2_a_air</th>\n",
       "      <th>secondary_cleaner.state.floatbank2_a_level</th>\n",
       "      <th>secondary_cleaner.state.floatbank2_b_air</th>\n",
       "      <th>secondary_cleaner.state.floatbank2_b_level</th>\n",
       "      <th>secondary_cleaner.state.floatbank3_a_air</th>\n",
       "      <th>secondary_cleaner.state.floatbank3_a_level</th>\n",
       "      <th>secondary_cleaner.state.floatbank3_b_air</th>\n",
       "      <th>secondary_cleaner.state.floatbank3_b_level</th>\n",
       "      <th>secondary_cleaner.state.floatbank4_a_air</th>\n",
       "      <th>secondary_cleaner.state.floatbank4_a_level</th>\n",
       "      <th>secondary_cleaner.state.floatbank4_b_air</th>\n",
       "      <th>secondary_cleaner.state.floatbank4_b_level</th>\n",
       "      <th>secondary_cleaner.state.floatbank5_a_air</th>\n",
       "      <th>secondary_cleaner.state.floatbank5_a_level</th>\n",
       "      <th>secondary_cleaner.state.floatbank5_b_air</th>\n",
       "      <th>secondary_cleaner.state.floatbank5_b_level</th>\n",
       "      <th>secondary_cleaner.state.floatbank6_a_air</th>\n",
       "      <th>secondary_cleaner.state.floatbank6_a_level</th>\n",
       "    </tr>\n",
       "  </thead>\n",
       "  <tbody>\n",
       "    <tr>\n",
       "      <th>752</th>\n",
       "      <td>2018-01-26 07:59:59</td>\n",
       "      <td>7.808593</td>\n",
       "      <td>7.755147</td>\n",
       "      <td>3.298828</td>\n",
       "      <td>38.731827</td>\n",
       "      <td>549.878747</td>\n",
       "      <td>47.593093</td>\n",
       "      <td>10.351708</td>\n",
       "      <td>7.302797</td>\n",
       "      <td>1217.887662</td>\n",
       "      <td>-300.156111</td>\n",
       "      <td>1402.176376</td>\n",
       "      <td>-499.831017</td>\n",
       "      <td>1406.203723</td>\n",
       "      <td>-500.222301</td>\n",
       "      <td>1307.421483</td>\n",
       "      <td>-501.953868</td>\n",
       "      <td>1300.135191</td>\n",
       "      <td>-501.731818</td>\n",
       "      <td>1104.320582</td>\n",
       "      <td>-500.548556</td>\n",
       "      <td>10.349254</td>\n",
       "      <td>7.300982</td>\n",
       "      <td>115.818721</td>\n",
       "      <td>7.982598</td>\n",
       "      <td>6.34</td>\n",
       "      <td>0.803986</td>\n",
       "      <td>1601.183952</td>\n",
       "      <td>-500.486872</td>\n",
       "      <td>1598.403816</td>\n",
       "      <td>-500.008855</td>\n",
       "      <td>1598.797409</td>\n",
       "      <td>-501.271149</td>\n",
       "      <td>1581.121087</td>\n",
       "      <td>-500.569393</td>\n",
       "      <td>33.951369</td>\n",
       "      <td>-499.837633</td>\n",
       "      <td>27.918842</td>\n",
       "      <td>-500.064110</td>\n",
       "      <td>35.984626</td>\n",
       "      <td>-500.018238</td>\n",
       "      <td>24.985078</td>\n",
       "      <td>-499.920916</td>\n",
       "      <td>30.019686</td>\n",
       "      <td>-499.615314</td>\n",
       "      <td>19.984613</td>\n",
       "      <td>-499.813136</td>\n",
       "      <td>17.938375</td>\n",
       "      <td>-500.141568</td>\n",
       "      <td>13.992691</td>\n",
       "      <td>-500.115564</td>\n",
       "      <td>13.986363</td>\n",
       "      <td>-500.530153</td>\n",
       "    </tr>\n",
       "    <tr>\n",
       "      <th>1905</th>\n",
       "      <td>2018-03-23 22:59:59</td>\n",
       "      <td>6.299560</td>\n",
       "      <td>5.540064</td>\n",
       "      <td>2.928251</td>\n",
       "      <td>42.481158</td>\n",
       "      <td>575.042559</td>\n",
       "      <td>60.187800</td>\n",
       "      <td>16.998755</td>\n",
       "      <td>6.499919</td>\n",
       "      <td>999.977555</td>\n",
       "      <td>-299.707974</td>\n",
       "      <td>1401.641950</td>\n",
       "      <td>-499.576094</td>\n",
       "      <td>1346.890834</td>\n",
       "      <td>-499.995270</td>\n",
       "      <td>1293.059576</td>\n",
       "      <td>-502.494447</td>\n",
       "      <td>1098.128822</td>\n",
       "      <td>-500.989261</td>\n",
       "      <td>1098.329095</td>\n",
       "      <td>-500.427079</td>\n",
       "      <td>17.000325</td>\n",
       "      <td>6.498384</td>\n",
       "      <td>147.180979</td>\n",
       "      <td>6.491090</td>\n",
       "      <td>6.61</td>\n",
       "      <td>2.003379</td>\n",
       "      <td>1599.275969</td>\n",
       "      <td>-505.845777</td>\n",
       "      <td>1602.620261</td>\n",
       "      <td>-479.819246</td>\n",
       "      <td>1599.717522</td>\n",
       "      <td>-501.224735</td>\n",
       "      <td>1599.187683</td>\n",
       "      <td>-498.547427</td>\n",
       "      <td>26.964700</td>\n",
       "      <td>-499.915526</td>\n",
       "      <td>24.080215</td>\n",
       "      <td>-500.101612</td>\n",
       "      <td>23.984410</td>\n",
       "      <td>-500.294724</td>\n",
       "      <td>19.039145</td>\n",
       "      <td>-500.178931</td>\n",
       "      <td>17.003976</td>\n",
       "      <td>-501.143879</td>\n",
       "      <td>14.947697</td>\n",
       "      <td>-400.558842</td>\n",
       "      <td>13.049129</td>\n",
       "      <td>-501.947708</td>\n",
       "      <td>10.979903</td>\n",
       "      <td>-500.073326</td>\n",
       "      <td>15.017523</td>\n",
       "      <td>-500.800166</td>\n",
       "    </tr>\n",
       "    <tr>\n",
       "      <th>1388</th>\n",
       "      <td>2018-02-28 18:59:59</td>\n",
       "      <td>11.381354</td>\n",
       "      <td>12.825334</td>\n",
       "      <td>5.225566</td>\n",
       "      <td>38.312660</td>\n",
       "      <td>508.511628</td>\n",
       "      <td>59.794428</td>\n",
       "      <td>10.691804</td>\n",
       "      <td>6.007298</td>\n",
       "      <td>1397.618541</td>\n",
       "      <td>-300.118637</td>\n",
       "      <td>998.342946</td>\n",
       "      <td>-499.843635</td>\n",
       "      <td>900.539475</td>\n",
       "      <td>-500.319228</td>\n",
       "      <td>800.999883</td>\n",
       "      <td>-500.052650</td>\n",
       "      <td>850.835833</td>\n",
       "      <td>-500.231182</td>\n",
       "      <td>850.630957</td>\n",
       "      <td>-500.651963</td>\n",
       "      <td>10.692527</td>\n",
       "      <td>5.995273</td>\n",
       "      <td>166.435622</td>\n",
       "      <td>10.971425</td>\n",
       "      <td>7.00</td>\n",
       "      <td>1.202690</td>\n",
       "      <td>1600.136023</td>\n",
       "      <td>-498.904977</td>\n",
       "      <td>1600.017727</td>\n",
       "      <td>-501.720564</td>\n",
       "      <td>1600.338397</td>\n",
       "      <td>-499.611306</td>\n",
       "      <td>1600.785012</td>\n",
       "      <td>-499.980679</td>\n",
       "      <td>30.090981</td>\n",
       "      <td>-500.507876</td>\n",
       "      <td>26.945328</td>\n",
       "      <td>-500.076653</td>\n",
       "      <td>28.031009</td>\n",
       "      <td>-497.391147</td>\n",
       "      <td>20.002698</td>\n",
       "      <td>-499.878566</td>\n",
       "      <td>19.999294</td>\n",
       "      <td>-496.536371</td>\n",
       "      <td>15.025001</td>\n",
       "      <td>-499.548856</td>\n",
       "      <td>11.017467</td>\n",
       "      <td>-506.045337</td>\n",
       "      <td>8.947307</td>\n",
       "      <td>-500.969417</td>\n",
       "      <td>10.984633</td>\n",
       "      <td>-498.433561</td>\n",
       "    </tr>\n",
       "  </tbody>\n",
       "</table>\n",
       "</div>"
      ],
      "text/plain": [
       "                     date  rougher.input.feed_au  rougher.input.feed_ag  \\\n",
       "752   2018-01-26 07:59:59               7.808593               7.755147   \n",
       "1905  2018-03-23 22:59:59               6.299560               5.540064   \n",
       "1388  2018-02-28 18:59:59              11.381354              12.825334   \n",
       "\n",
       "      rougher.input.feed_pb  rougher.input.feed_sol  rougher.input.feed_rate  \\\n",
       "752                3.298828               38.731827               549.878747   \n",
       "1905               2.928251               42.481158               575.042559   \n",
       "1388               5.225566               38.312660               508.511628   \n",
       "\n",
       "      rougher.input.feed_size  rougher.input.floatbank10_sulfate  \\\n",
       "752                 47.593093                          10.351708   \n",
       "1905                60.187800                          16.998755   \n",
       "1388                59.794428                          10.691804   \n",
       "\n",
       "      rougher.input.floatbank10_xanthate  rougher.state.floatbank10_a_air  \\\n",
       "752                             7.302797                      1217.887662   \n",
       "1905                            6.499919                       999.977555   \n",
       "1388                            6.007298                      1397.618541   \n",
       "\n",
       "      rougher.state.floatbank10_a_level  rougher.state.floatbank10_b_air  \\\n",
       "752                         -300.156111                      1402.176376   \n",
       "1905                        -299.707974                      1401.641950   \n",
       "1388                        -300.118637                       998.342946   \n",
       "\n",
       "      rougher.state.floatbank10_b_level  rougher.state.floatbank10_c_air  \\\n",
       "752                         -499.831017                      1406.203723   \n",
       "1905                        -499.576094                      1346.890834   \n",
       "1388                        -499.843635                       900.539475   \n",
       "\n",
       "      rougher.state.floatbank10_c_level  rougher.state.floatbank10_d_air  \\\n",
       "752                         -500.222301                      1307.421483   \n",
       "1905                        -499.995270                      1293.059576   \n",
       "1388                        -500.319228                       800.999883   \n",
       "\n",
       "      rougher.state.floatbank10_d_level  rougher.state.floatbank10_e_air  \\\n",
       "752                         -501.953868                      1300.135191   \n",
       "1905                        -502.494447                      1098.128822   \n",
       "1388                        -500.052650                       850.835833   \n",
       "\n",
       "      rougher.state.floatbank10_e_level  rougher.state.floatbank10_f_air  \\\n",
       "752                         -501.731818                      1104.320582   \n",
       "1905                        -500.989261                      1098.329095   \n",
       "1388                        -500.231182                       850.630957   \n",
       "\n",
       "      rougher.state.floatbank10_f_level  rougher.input.floatbank11_sulfate  \\\n",
       "752                         -500.548556                          10.349254   \n",
       "1905                        -500.427079                          17.000325   \n",
       "1388                        -500.651963                          10.692527   \n",
       "\n",
       "      rougher.input.floatbank11_xanthate  primary_cleaner.input.sulfate  \\\n",
       "752                             7.300982                     115.818721   \n",
       "1905                            6.498384                     147.180979   \n",
       "1388                            5.995273                     166.435622   \n",
       "\n",
       "      primary_cleaner.input.depressant  primary_cleaner.input.feed_size  \\\n",
       "752                           7.982598                             6.34   \n",
       "1905                          6.491090                             6.61   \n",
       "1388                         10.971425                             7.00   \n",
       "\n",
       "      primary_cleaner.input.xanthate  primary_cleaner.state.floatbank8_a_air  \\\n",
       "752                         0.803986                             1601.183952   \n",
       "1905                        2.003379                             1599.275969   \n",
       "1388                        1.202690                             1600.136023   \n",
       "\n",
       "      primary_cleaner.state.floatbank8_a_level  \\\n",
       "752                                -500.486872   \n",
       "1905                               -505.845777   \n",
       "1388                               -498.904977   \n",
       "\n",
       "      primary_cleaner.state.floatbank8_b_air  \\\n",
       "752                              1598.403816   \n",
       "1905                             1602.620261   \n",
       "1388                             1600.017727   \n",
       "\n",
       "      primary_cleaner.state.floatbank8_b_level  \\\n",
       "752                                -500.008855   \n",
       "1905                               -479.819246   \n",
       "1388                               -501.720564   \n",
       "\n",
       "      primary_cleaner.state.floatbank8_c_air  \\\n",
       "752                              1598.797409   \n",
       "1905                             1599.717522   \n",
       "1388                             1600.338397   \n",
       "\n",
       "      primary_cleaner.state.floatbank8_c_level  \\\n",
       "752                                -501.271149   \n",
       "1905                               -501.224735   \n",
       "1388                               -499.611306   \n",
       "\n",
       "      primary_cleaner.state.floatbank8_d_air  \\\n",
       "752                              1581.121087   \n",
       "1905                             1599.187683   \n",
       "1388                             1600.785012   \n",
       "\n",
       "      primary_cleaner.state.floatbank8_d_level  \\\n",
       "752                                -500.569393   \n",
       "1905                               -498.547427   \n",
       "1388                               -499.980679   \n",
       "\n",
       "      secondary_cleaner.state.floatbank2_a_air  \\\n",
       "752                                  33.951369   \n",
       "1905                                 26.964700   \n",
       "1388                                 30.090981   \n",
       "\n",
       "      secondary_cleaner.state.floatbank2_a_level  \\\n",
       "752                                  -499.837633   \n",
       "1905                                 -499.915526   \n",
       "1388                                 -500.507876   \n",
       "\n",
       "      secondary_cleaner.state.floatbank2_b_air  \\\n",
       "752                                  27.918842   \n",
       "1905                                 24.080215   \n",
       "1388                                 26.945328   \n",
       "\n",
       "      secondary_cleaner.state.floatbank2_b_level  \\\n",
       "752                                  -500.064110   \n",
       "1905                                 -500.101612   \n",
       "1388                                 -500.076653   \n",
       "\n",
       "      secondary_cleaner.state.floatbank3_a_air  \\\n",
       "752                                  35.984626   \n",
       "1905                                 23.984410   \n",
       "1388                                 28.031009   \n",
       "\n",
       "      secondary_cleaner.state.floatbank3_a_level  \\\n",
       "752                                  -500.018238   \n",
       "1905                                 -500.294724   \n",
       "1388                                 -497.391147   \n",
       "\n",
       "      secondary_cleaner.state.floatbank3_b_air  \\\n",
       "752                                  24.985078   \n",
       "1905                                 19.039145   \n",
       "1388                                 20.002698   \n",
       "\n",
       "      secondary_cleaner.state.floatbank3_b_level  \\\n",
       "752                                  -499.920916   \n",
       "1905                                 -500.178931   \n",
       "1388                                 -499.878566   \n",
       "\n",
       "      secondary_cleaner.state.floatbank4_a_air  \\\n",
       "752                                  30.019686   \n",
       "1905                                 17.003976   \n",
       "1388                                 19.999294   \n",
       "\n",
       "      secondary_cleaner.state.floatbank4_a_level  \\\n",
       "752                                  -499.615314   \n",
       "1905                                 -501.143879   \n",
       "1388                                 -496.536371   \n",
       "\n",
       "      secondary_cleaner.state.floatbank4_b_air  \\\n",
       "752                                  19.984613   \n",
       "1905                                 14.947697   \n",
       "1388                                 15.025001   \n",
       "\n",
       "      secondary_cleaner.state.floatbank4_b_level  \\\n",
       "752                                  -499.813136   \n",
       "1905                                 -400.558842   \n",
       "1388                                 -499.548856   \n",
       "\n",
       "      secondary_cleaner.state.floatbank5_a_air  \\\n",
       "752                                  17.938375   \n",
       "1905                                 13.049129   \n",
       "1388                                 11.017467   \n",
       "\n",
       "      secondary_cleaner.state.floatbank5_a_level  \\\n",
       "752                                  -500.141568   \n",
       "1905                                 -501.947708   \n",
       "1388                                 -506.045337   \n",
       "\n",
       "      secondary_cleaner.state.floatbank5_b_air  \\\n",
       "752                                  13.992691   \n",
       "1905                                 10.979903   \n",
       "1388                                  8.947307   \n",
       "\n",
       "      secondary_cleaner.state.floatbank5_b_level  \\\n",
       "752                                  -500.115564   \n",
       "1905                                 -500.073326   \n",
       "1388                                 -500.969417   \n",
       "\n",
       "      secondary_cleaner.state.floatbank6_a_air  \\\n",
       "752                                  13.986363   \n",
       "1905                                 15.017523   \n",
       "1388                                 10.984633   \n",
       "\n",
       "      secondary_cleaner.state.floatbank6_a_level  \n",
       "752                                  -500.530153  \n",
       "1905                                 -500.800166  \n",
       "1388                                 -498.433561  "
      ]
     },
     "metadata": {},
     "output_type": "display_data"
    },
    {
     "name": "stdout",
     "output_type": "stream",
     "text": [
      "<class 'pandas.core.frame.DataFrame'>\n",
      "RangeIndex: 4860 entries, 0 to 4859\n",
      "Data columns (total 53 columns):\n",
      " #   Column                                      Non-Null Count  Dtype  \n",
      "---  ------                                      --------------  -----  \n",
      " 0   date                                        4860 non-null   object \n",
      " 1   rougher.input.feed_au                       4860 non-null   float64\n",
      " 2   rougher.input.feed_ag                       4860 non-null   float64\n",
      " 3   rougher.input.feed_pb                       4832 non-null   float64\n",
      " 4   rougher.input.feed_sol                      4838 non-null   float64\n",
      " 5   rougher.input.feed_rate                     4856 non-null   float64\n",
      " 6   rougher.input.feed_size                     4816 non-null   float64\n",
      " 7   rougher.input.floatbank10_sulfate           4857 non-null   float64\n",
      " 8   rougher.input.floatbank10_xanthate          4859 non-null   float64\n",
      " 9   rougher.state.floatbank10_a_air             4859 non-null   float64\n",
      " 10  rougher.state.floatbank10_a_level           4859 non-null   float64\n",
      " 11  rougher.state.floatbank10_b_air             4859 non-null   float64\n",
      " 12  rougher.state.floatbank10_b_level           4859 non-null   float64\n",
      " 13  rougher.state.floatbank10_c_air             4859 non-null   float64\n",
      " 14  rougher.state.floatbank10_c_level           4859 non-null   float64\n",
      " 15  rougher.state.floatbank10_d_air             4860 non-null   float64\n",
      " 16  rougher.state.floatbank10_d_level           4860 non-null   float64\n",
      " 17  rougher.state.floatbank10_e_air             4853 non-null   float64\n",
      " 18  rougher.state.floatbank10_e_level           4860 non-null   float64\n",
      " 19  rougher.state.floatbank10_f_air             4860 non-null   float64\n",
      " 20  rougher.state.floatbank10_f_level           4860 non-null   float64\n",
      " 21  rougher.input.floatbank11_sulfate           4852 non-null   float64\n",
      " 22  rougher.input.floatbank11_xanthate          4814 non-null   float64\n",
      " 23  primary_cleaner.input.sulfate               4859 non-null   float64\n",
      " 24  primary_cleaner.input.depressant            4851 non-null   float64\n",
      " 25  primary_cleaner.input.feed_size             4860 non-null   float64\n",
      " 26  primary_cleaner.input.xanthate              4817 non-null   float64\n",
      " 27  primary_cleaner.state.floatbank8_a_air      4859 non-null   float64\n",
      " 28  primary_cleaner.state.floatbank8_a_level    4859 non-null   float64\n",
      " 29  primary_cleaner.state.floatbank8_b_air      4859 non-null   float64\n",
      " 30  primary_cleaner.state.floatbank8_b_level    4859 non-null   float64\n",
      " 31  primary_cleaner.state.floatbank8_c_air      4858 non-null   float64\n",
      " 32  primary_cleaner.state.floatbank8_c_level    4859 non-null   float64\n",
      " 33  primary_cleaner.state.floatbank8_d_air      4858 non-null   float64\n",
      " 34  primary_cleaner.state.floatbank8_d_level    4859 non-null   float64\n",
      " 35  secondary_cleaner.state.floatbank2_a_air    4734 non-null   float64\n",
      " 36  secondary_cleaner.state.floatbank2_a_level  4859 non-null   float64\n",
      " 37  secondary_cleaner.state.floatbank2_b_air    4859 non-null   float64\n",
      " 38  secondary_cleaner.state.floatbank2_b_level  4859 non-null   float64\n",
      " 39  secondary_cleaner.state.floatbank3_a_air    4859 non-null   float64\n",
      " 40  secondary_cleaner.state.floatbank3_a_level  4859 non-null   float64\n",
      " 41  secondary_cleaner.state.floatbank3_b_air    4859 non-null   float64\n",
      " 42  secondary_cleaner.state.floatbank3_b_level  4859 non-null   float64\n",
      " 43  secondary_cleaner.state.floatbank4_a_air    4859 non-null   float64\n",
      " 44  secondary_cleaner.state.floatbank4_a_level  4859 non-null   float64\n",
      " 45  secondary_cleaner.state.floatbank4_b_air    4859 non-null   float64\n",
      " 46  secondary_cleaner.state.floatbank4_b_level  4859 non-null   float64\n",
      " 47  secondary_cleaner.state.floatbank5_a_air    4859 non-null   float64\n",
      " 48  secondary_cleaner.state.floatbank5_a_level  4859 non-null   float64\n",
      " 49  secondary_cleaner.state.floatbank5_b_air    4859 non-null   float64\n",
      " 50  secondary_cleaner.state.floatbank5_b_level  4859 non-null   float64\n",
      " 51  secondary_cleaner.state.floatbank6_a_air    4859 non-null   float64\n",
      " 52  secondary_cleaner.state.floatbank6_a_level  4859 non-null   float64\n",
      "dtypes: float64(52), object(1)\n",
      "memory usage: 2.0+ MB\n"
     ]
    },
    {
     "data": {
      "text/plain": [
       "None"
      ]
     },
     "metadata": {},
     "output_type": "display_data"
    },
    {
     "data": {
      "text/plain": [
       "'num of duplicates:'"
      ]
     },
     "metadata": {},
     "output_type": "display_data"
    },
    {
     "data": {
      "text/plain": [
       "0"
      ]
     },
     "metadata": {},
     "output_type": "display_data"
    },
    {
     "data": {
      "text/plain": [
       "'Кол-во строк с пропусками'"
      ]
     },
     "metadata": {},
     "output_type": "display_data"
    },
    {
     "data": {
      "text/plain": [
       "323"
      ]
     },
     "metadata": {},
     "output_type": "display_data"
    }
   ],
   "source": [
    "get_info(test_raw)"
   ]
  },
  {
   "cell_type": "markdown",
   "metadata": {
    "pycharm": {
     "name": "#%% md\n"
    }
   },
   "source": [
    "Данные содержат пропуски, типы данных корректные. Явных дубликатов нет."
   ]
  },
  {
   "cell_type": "markdown",
   "metadata": {
    "pycharm": {
     "name": "#%% md\n"
    }
   },
   "source": [
    "***1.2. Проверьте, что эффективность обогащения рассчитана правильно. Вычислите её на обучающей выборке для признака rougher.output.recovery. Найдите MAE между вашими расчётами и значением признака. Опишите выводы.***"
   ]
  },
  {
   "cell_type": "markdown",
   "metadata": {
    "pycharm": {
     "name": "#%% md\n"
    }
   },
   "source": [
    "Эффективность обогащения чернового концентрата `rougher.output.recovery` включает:\n",
    "\n",
    "C — доля золота в концентрате после флотации - rougher.output.concentrate_au\n",
    "F — доля золота в сырье до флотации - rougher.input.feed_au\n",
    "T — доля золота в отвальных хвостах после флотации - rougher.output.tail_au"
   ]
  },
  {
   "cell_type": "code",
   "execution_count": 6,
   "metadata": {
    "pycharm": {
     "name": "#%%\n"
    }
   },
   "outputs": [],
   "source": [
    "def get_rougher_recovery(row):\n",
    "    c = row['rougher.output.concentrate_au']\n",
    "    f = row['rougher.input.feed_au']\n",
    "    t = row['rougher.output.tail_au']\n",
    "    return ((c * (f - t)) / (f * (c - t))) * 100"
   ]
  },
  {
   "cell_type": "code",
   "execution_count": 7,
   "metadata": {
    "pycharm": {
     "name": "#%%\n"
    }
   },
   "outputs": [
    {
     "data": {
      "text/plain": [
       "9.83758577644259e-15"
      ]
     },
     "execution_count": 7,
     "metadata": {},
     "output_type": "execute_result"
    }
   ],
   "source": [
    "h = train_raw.copy()\n",
    "h['check'] = h.apply(get_rougher_recovery, axis=1)\n",
    "mae_rougher_recovery = mean_absolute_error(h['check'], h['rougher.output.recovery'])\n",
    "mae_rougher_recovery"
   ]
  },
  {
   "cell_type": "markdown",
   "metadata": {
    "pycharm": {
     "name": "#%% md\n"
    }
   },
   "source": [
    "Среднее абсолютное отклонение очень маленькое, можно утверждать, что эффективность обогащения чернового концентрата рассчитана правильно"
   ]
  },
  {
   "cell_type": "markdown",
   "metadata": {
    "pycharm": {
     "name": "#%% md\n"
    }
   },
   "source": [
    "***1.3. Проанализируйте признаки, недоступные в тестовой выборке. Что это за параметры? К какому типу относятся?***"
   ]
  },
  {
   "cell_type": "code",
   "execution_count": 8,
   "metadata": {
    "pycharm": {
     "name": "#%%\n"
    }
   },
   "outputs": [
    {
     "data": {
      "text/plain": [
       "['final.output.tail_pb',\n",
       " 'secondary_cleaner.output.tail_pb',\n",
       " 'primary_cleaner.output.tail_sol',\n",
       " 'primary_cleaner.output.concentrate_pb',\n",
       " 'final.output.recovery',\n",
       " 'rougher.output.concentrate_pb',\n",
       " 'rougher.output.tail_au',\n",
       " 'secondary_cleaner.output.tail_au',\n",
       " 'final.output.concentrate_ag',\n",
       " 'rougher.output.concentrate_au',\n",
       " 'rougher.calculation.floatbank10_sulfate_to_au_feed',\n",
       " 'primary_cleaner.output.tail_au',\n",
       " 'secondary_cleaner.output.tail_ag',\n",
       " 'final.output.tail_ag',\n",
       " 'primary_cleaner.output.concentrate_au',\n",
       " 'secondary_cleaner.output.tail_sol',\n",
       " 'rougher.output.tail_sol',\n",
       " 'rougher.calculation.sulfate_to_au_concentrate',\n",
       " 'final.output.concentrate_pb',\n",
       " 'final.output.concentrate_sol',\n",
       " 'primary_cleaner.output.tail_ag',\n",
       " 'rougher.output.tail_ag',\n",
       " 'rougher.calculation.au_pb_ratio',\n",
       " 'primary_cleaner.output.concentrate_ag',\n",
       " 'rougher.calculation.floatbank11_sulfate_to_au_feed',\n",
       " 'rougher.output.concentrate_sol',\n",
       " 'final.output.concentrate_au',\n",
       " 'final.output.tail_au',\n",
       " 'primary_cleaner.output.concentrate_sol',\n",
       " 'final.output.tail_sol',\n",
       " 'rougher.output.tail_pb',\n",
       " 'primary_cleaner.output.tail_pb',\n",
       " 'rougher.output.concentrate_ag',\n",
       " 'rougher.output.recovery']"
      ]
     },
     "execution_count": 8,
     "metadata": {},
     "output_type": "execute_result"
    }
   ],
   "source": [
    "train_row_features = train_raw.columns.tolist()\n",
    "test_raw_features = test_raw.columns.tolist()\n",
    "list(set(train_row_features).difference(test_raw_features))"
   ]
  },
  {
   "cell_type": "markdown",
   "metadata": {
    "pycharm": {
     "name": "#%% md\n"
    }
   },
   "source": [
    "Данные признаки относятся к 2-м видам - output - выходные параметры продукта после завершения этап и calculation - расчетные характеристики. Вполне ожидаемо, что этих данных нет в тестовой выборке. Необходимо будет добавить в тест целевые признаки из фулла, а из трейна убрать те, которых нет в тесте."
   ]
  },
  {
   "cell_type": "markdown",
   "metadata": {
    "pycharm": {
     "name": "#%% md\n"
    }
   },
   "source": [
    "***1.4. Проведите предобработку данных.***"
   ]
  },
  {
   "cell_type": "markdown",
   "metadata": {
    "pycharm": {
     "name": "#%% md\n"
    }
   },
   "source": [
    "Посмотрим на кол-во пропусков в трейне и в тесте"
   ]
  },
  {
   "cell_type": "code",
   "execution_count": 9,
   "metadata": {
    "pycharm": {
     "name": "#%%\n"
    }
   },
   "outputs": [
    {
     "data": {
      "text/plain": [
       "(2242, 323)"
      ]
     },
     "execution_count": 9,
     "metadata": {},
     "output_type": "execute_result"
    }
   ],
   "source": [
    "train_raw.isna().any(axis=1).sum(), test_raw.isna().any(axis=1).sum()"
   ]
  },
  {
   "cell_type": "markdown",
   "metadata": {
    "pycharm": {
     "name": "#%% md\n"
    }
   },
   "source": [
    "В данных есть пропуски. Так как объекты в данных - это срез информации по времени с периодичностью в 1 час, можем попробовать заменить пропуски на интерполированные значения между соседними объектами."
   ]
  },
  {
   "cell_type": "code",
   "execution_count": 10,
   "metadata": {
    "pycharm": {
     "name": "#%%\n"
    }
   },
   "outputs": [],
   "source": [
    "train = train_raw.interpolate(method='linear')\n",
    "test = test_raw.interpolate(method='linear')"
   ]
  },
  {
   "cell_type": "code",
   "execution_count": 11,
   "metadata": {
    "pycharm": {
     "name": "#%%\n"
    }
   },
   "outputs": [
    {
     "data": {
      "text/plain": [
       "(0, 0)"
      ]
     },
     "execution_count": 11,
     "metadata": {},
     "output_type": "execute_result"
    }
   ],
   "source": [
    "train.isna().any(axis=1).sum(), test.isna().any(axis=1).sum()"
   ]
  },
  {
   "cell_type": "markdown",
   "metadata": {
    "pycharm": {
     "name": "#%% md\n"
    }
   },
   "source": [
    "Пропуски заменены на новые значения."
   ]
  },
  {
   "cell_type": "markdown",
   "metadata": {
    "pycharm": {
     "name": "#%% md\n"
    }
   },
   "source": [
    "## Анализ данных"
   ]
  },
  {
   "cell_type": "markdown",
   "metadata": {
    "pycharm": {
     "name": "#%% md\n"
    }
   },
   "source": [
    "***2.1. Посмотрите, как меняется концентрация металлов (Au, Ag, Pb) на различных этапах: в сырье, в черновом концентрате, в концентрате после первой очистки и в финальном концентрате. Какие особенности имеют распределения? Опишите выводы.***"
   ]
  },
  {
   "cell_type": "code",
   "execution_count": 12,
   "metadata": {
    "pycharm": {
     "name": "#%%\n"
    }
   },
   "outputs": [],
   "source": [
    "def get_one_param_histogram_boxplot(column, r=None, ax_box=None, ax_hist=None, name=None):\n",
    "    if ax_box is None or ax_hist is None:\n",
    "        fig, (ax_box, ax_hist) = plt.subplots(2)\n",
    "\n",
    "    sns.boxplot(x=column, orient='H', ax=ax_box)\n",
    "    ax_hist.hist(column,\n",
    "                 alpha=0.8,\n",
    "                 color='green',\n",
    "                 bins=100,\n",
    "                 range=r)\n",
    "\n",
    "    ax_box.set_ylabel('Частота')\n",
    "    ax_box.set_xlabel(column.name)\n",
    "    ax_box.grid()\n",
    "    ax_hist.grid()\n",
    "    ax_box.set(xlabel='')\n",
    "    ax_hist.set_ylabel(f'Частота')\n",
    "    plt.suptitle(f'Распределение значений {name}')"
   ]
  },
  {
   "cell_type": "code",
   "execution_count": 13,
   "metadata": {
    "pycharm": {
     "name": "#%%\n"
    }
   },
   "outputs": [],
   "source": [
    "def get_graphs(data, features_list, name):\n",
    "    fig, axs = plt.subplots(len(features_list), 2, figsize=(12, len(features_list) * 3.5))\n",
    "\n",
    "    for i, feature in enumerate(features_list):\n",
    "        get_one_param_histogram_boxplot(data[feature], ax_box=axs[i, 0], ax_hist=axs[i, 1], name=name)\n",
    "        axs[i, 0].set_title(f'Распределение {feature}')\n",
    "\n",
    "    plt.tight_layout()\n",
    "    plt.show()"
   ]
  },
  {
   "cell_type": "code",
   "execution_count": 14,
   "metadata": {
    "pycharm": {
     "name": "#%%\n"
    }
   },
   "outputs": [
    {
     "data": {
      "image/png": "[encoded data removed]",
      "text/plain": [
       "<Figure size 864x1008 with 8 Axes>"
      ]
     },
     "metadata": {
      "needs_background": "light"
     },
     "output_type": "display_data"
    }
   ],
   "source": [
    "features_list_au = ['rougher.input.feed_au', 'rougher.output.concentrate_au',\n",
    "                    'primary_cleaner.output.concentrate_au',\n",
    "                    'final.output.concentrate_au']\n",
    "get_graphs(train, features_list_au, 'Au')"
   ]
  },
  {
   "cell_type": "code",
   "execution_count": 15,
   "metadata": {
    "pycharm": {
     "name": "#%%\n"
    }
   },
   "outputs": [
    {
     "data": {
      "image/png": "[encoded data removed]",
      "text/plain": [
       "<Figure size 864x1008 with 8 Axes>"
      ]
     },
     "metadata": {
      "needs_background": "light"
     },
     "output_type": "display_data"
    }
   ],
   "source": [
    "features_list_ag = ['rougher.input.feed_ag', 'rougher.output.concentrate_ag',\n",
    "                    'primary_cleaner.output.concentrate_ag',\n",
    "                    'final.output.concentrate_ag']\n",
    "get_graphs(train, features_list_ag, 'Ag')"
   ]
  },
  {
   "cell_type": "code",
   "execution_count": 16,
   "metadata": {
    "pycharm": {
     "name": "#%%\n"
    }
   },
   "outputs": [
    {
     "data": {
      "image/png": "[encoded data removed]",
      "text/plain": [
       "<Figure size 864x1008 with 8 Axes>"
      ]
     },
     "metadata": {
      "needs_background": "light"
     },
     "output_type": "display_data"
    }
   ],
   "source": [
    "features_list_pb = ['rougher.input.feed_pb', 'rougher.output.concentrate_pb',\n",
    "                    'primary_cleaner.output.concentrate_pb',\n",
    "                    'final.output.concentrate_pb']\n",
    "get_graphs(train, features_list_pb, 'Pb')"
   ]
  },
  {
   "cell_type": "markdown",
   "metadata": {
    "pycharm": {
     "name": "#%% md\n"
    }
   },
   "source": [
    "Распределение содержания золота, серебра и свинца в руде в среднем имеет равномерное распределение с небольшим кол-вом выбросов.\n",
    "Когда смесь золотоносной руды поступает на флотацию, содержание серебра и золота распределено с 2-мя пиками, но после флотации пик остается один в распределении значений.\n",
    "\n",
    "Так как это золотодобывающая процесс, содержание золота от стадии к стадии увеличивается. Примерно так же ведет себя свинец, хотя на финальной стадии среднее значение концентрации остается одинаковым. А вот серебра становится больше после флотации с последующим убыванием на дальнейших этапах.\n",
    "\n",
    "Так же наблюдаются нулевые значения в данных о концентрации всех трех элементов. Эти данные не попадут в обучение модели, но следует обратить внимание на причину этих нулей."
   ]
  },
  {
   "cell_type": "markdown",
   "metadata": {
    "pycharm": {
     "name": "#%% md\n"
    }
   },
   "source": [
    "***2.2.  Сравните распределения размеров гранул исходного сырья на обучающей и тестовой выборках. Если распределения сильно отличаются друг от друга, оценка модели будет неправильной***"
   ]
  },
  {
   "cell_type": "code",
   "execution_count": 17,
   "metadata": {
    "pycharm": {
     "name": "#%%\n"
    }
   },
   "outputs": [],
   "source": [
    "def get_one_param_kde(column, ax_box=None, ax_kde=None, name=None):\n",
    "    if ax_box is None or ax_kde is None:\n",
    "        fig, (ax_box, ax_kde) = plt.subplots(2)\n",
    "\n",
    "    sns.boxplot(x=column, orient='H', ax=ax_box)\n",
    "    sns.kdeplot(data=column, ax=ax_kde, shade=True)\n",
    "\n",
    "    ax_box.set_ylabel('Частота')\n",
    "    ax_box.set_xlabel(column.name)\n",
    "    ax_box.grid()\n",
    "    ax_kde.grid()\n",
    "    ax_box.set(xlabel='')\n",
    "    ax_kde.set_ylabel('Плотность вероятности')\n",
    "    plt.suptitle(f'Распределение значений {name}')"
   ]
  },
  {
   "cell_type": "code",
   "execution_count": 18,
   "metadata": {
    "pycharm": {
     "name": "#%%\n"
    }
   },
   "outputs": [],
   "source": [
    "def get_graphs_(data, features_list, name):\n",
    "    fig, axs = plt.subplots(len(features_list), 2, figsize=(12, len(features_list) * 3.5))\n",
    "\n",
    "    for i, feature in enumerate(features_list):\n",
    "        get_one_param_kde(data[feature], ax_box=axs[i, 0], ax_kde=axs[i, 1], name=name)\n",
    "        axs[i, 0].set_title(f'Распределение {feature}')\n",
    "\n",
    "    plt.tight_layout()\n",
    "    plt.show()"
   ]
  },
  {
   "cell_type": "code",
   "execution_count": 19,
   "metadata": {
    "pycharm": {
     "name": "#%%\n"
    }
   },
   "outputs": [
    {
     "data": {
      "image/png": "[encoded data removed]",
      "text/plain": [
       "<Figure size 864x504 with 4 Axes>"
      ]
     },
     "metadata": {
      "needs_background": "light"
     },
     "output_type": "display_data"
    }
   ],
   "source": [
    "feed_size = ['rougher.input.feed_size', 'primary_cleaner.input.feed_size']\n",
    "get_graphs_(train, feed_size, 'размера гранул в тренировочных данных')"
   ]
  },
  {
   "cell_type": "code",
   "execution_count": 20,
   "metadata": {
    "pycharm": {
     "name": "#%%\n"
    }
   },
   "outputs": [
    {
     "data": {
      "image/png": "[encoded data removed]",
      "text/plain": [
       "<Figure size 864x504 with 4 Axes>"
      ]
     },
     "metadata": {
      "needs_background": "light"
     },
     "output_type": "display_data"
    }
   ],
   "source": [
    "get_graphs_(test, feed_size, 'размера гранул в тестовых данных')"
   ]
  },
  {
   "cell_type": "markdown",
   "metadata": {
    "pycharm": {
     "name": "#%% md\n"
    }
   },
   "source": [
    "Размеры гранул на трейне и тесте одного порядка. Таким образом, можно утверждать, что данные разбиты на трейн и тес корректно с точки зрения размера гранул"
   ]
  },
  {
   "cell_type": "markdown",
   "metadata": {
    "pycharm": {
     "name": "#%% md\n"
    }
   },
   "source": [
    "***2.3. Исследуйте суммарную концентрацию металлов на разных стадиях: в сырье, в черновом концентрате, в концентрате после первой очистки и в финальном концентрате.***"
   ]
  },
  {
   "cell_type": "code",
   "execution_count": 21,
   "metadata": {
    "pycharm": {
     "name": "#%%\n"
    }
   },
   "outputs": [
    {
     "data": {
      "text/plain": [
       "(14579, 4)"
      ]
     },
     "execution_count": 21,
     "metadata": {},
     "output_type": "execute_result"
    }
   ],
   "source": [
    "new_data = train['rougher.input.feed_pb'] + train['rougher.input.feed_au'] + train['rougher.input.feed_ag']\n",
    "new_data = pd.DataFrame(new_data)\n",
    "new_data.columns = ['rougher_input']\n",
    "new_data['rougher_output'] = train['rougher.output.concentrate_pb'] + train['rougher.output.concentrate_au'] + train[\n",
    "    'rougher.output.concentrate_ag']\n",
    "new_data['primary_cleaner_output'] = train['primary_cleaner.output.concentrate_pb'] + train[\n",
    "    'primary_cleaner.output.concentrate_au'] + train['primary_cleaner.output.concentrate_ag']\n",
    "new_data['final_output'] = train['final.output.concentrate_pb'] + train['final.output.concentrate_au'] + train[\n",
    "    'final.output.concentrate_ag']\n",
    "new_data.shape"
   ]
  },
  {
   "cell_type": "markdown",
   "metadata": {
    "pycharm": {
     "name": "#%% md\n"
    }
   },
   "source": [
    "Уберем выбросы"
   ]
  },
  {
   "cell_type": "code",
   "execution_count": 22,
   "metadata": {
    "pycharm": {
     "name": "#%%\n"
    }
   },
   "outputs": [],
   "source": [
    "def get_iqr(data):\n",
    "    Q1 = data.quantile(0.25)\n",
    "    Q3 = data.quantile(0.75)\n",
    "    IQR = Q3 - Q1\n",
    "    return Q1,Q3,IQR"
   ]
  },
  {
   "cell_type": "code",
   "execution_count": 23,
   "metadata": {
    "pycharm": {
     "name": "#%%\n"
    }
   },
   "outputs": [],
   "source": [
    "concentration_value_by_process = ['rougher_input',\n",
    "                                  'rougher_output',\n",
    "                                  'primary_cleaner_output',\n",
    "                                  'final_output']"
   ]
  },
  {
   "cell_type": "code",
   "execution_count": 24,
   "metadata": {
    "pycharm": {
     "name": "#%%\n"
    }
   },
   "outputs": [],
   "source": [
    "for column in concentration_value_by_process:\n",
    "    q1, q3, iqr = get_iqr(new_data[column])\n",
    "    new_data = new_data[(new_data[column] > q1 - 1.5 * iqr) & (new_data[column] < q3 + 1.5 * iqr)]"
   ]
  },
  {
   "cell_type": "code",
   "execution_count": 25,
   "metadata": {
    "pycharm": {
     "name": "#%%\n"
    }
   },
   "outputs": [
    {
     "data": {
      "text/plain": [
       "(12385, 4)"
      ]
     },
     "execution_count": 25,
     "metadata": {},
     "output_type": "execute_result"
    }
   ],
   "source": [
    "new_data.shape"
   ]
  },
  {
   "cell_type": "markdown",
   "metadata": {
    "pycharm": {
     "name": "#%% md\n"
    }
   },
   "source": [
    "Убрали выбросы, теперь построим графики"
   ]
  },
  {
   "cell_type": "code",
   "execution_count": 26,
   "metadata": {
    "pycharm": {
     "name": "#%%\n"
    }
   },
   "outputs": [
    {
     "data": {
      "image/png": "[encoded data removed]",
      "text/plain": [
       "<Figure size 864x1008 with 8 Axes>"
      ]
     },
     "metadata": {
      "needs_background": "light"
     },
     "output_type": "display_data"
    }
   ],
   "source": [
    "get_graphs(new_data, concentration_value_by_process, 'значений суммарной концентрации по стадиям')"
   ]
  },
  {
   "cell_type": "markdown",
   "metadata": {
    "pycharm": {
     "name": "#%% md\n"
    }
   },
   "source": [
    "Суммарная концентрация металлов увеличивается от стадии к стадии, что вполне лонично, так как процесс переработки золотоносной руды подразумевает очистку руды для того, чтобы получить концентрат с большей долей полезных металлов, чем в необработанном сырье."
   ]
  },
  {
   "cell_type": "markdown",
   "metadata": {
    "pycharm": {
     "name": "#%% md\n"
    }
   },
   "source": [
    "Удалим из тренировочных данных те строки, в которых суммарные концентрации имели аномальные значения"
   ]
  },
  {
   "cell_type": "code",
   "execution_count": 27,
   "metadata": {
    "pycharm": {
     "name": "#%%\n"
    }
   },
   "outputs": [
    {
     "data": {
      "text/plain": [
       "(12385, 87)"
      ]
     },
     "execution_count": 27,
     "metadata": {},
     "output_type": "execute_result"
    }
   ],
   "source": [
    "train = train.loc[new_data.index]\n",
    "train.shape"
   ]
  },
  {
   "cell_type": "markdown",
   "metadata": {
    "pycharm": {
     "name": "#%% md\n"
    }
   },
   "source": [
    "## Модель"
   ]
  },
  {
   "cell_type": "markdown",
   "metadata": {
    "pycharm": {
     "name": "#%% md\n"
    }
   },
   "source": [
    "Необходимо провести несколько шагов перед обучением модели.\n",
    "Добавим в тестовые данные целевые признаки для того, чтобы сравнить их с предсказаниями модели на этих данных"
   ]
  },
  {
   "cell_type": "code",
   "execution_count": 28,
   "metadata": {
    "pycharm": {
     "name": "#%%\n"
    }
   },
   "outputs": [
    {
     "data": {
      "text/html": [
       "<div>\n",
       "<style scoped>\n",
       "    .dataframe tbody tr th:only-of-type {\n",
       "        vertical-align: middle;\n",
       "    }\n",
       "\n",
       "    .dataframe tbody tr th {\n",
       "        vertical-align: top;\n",
       "    }\n",
       "\n",
       "    .dataframe thead th {\n",
       "        text-align: right;\n",
       "    }\n",
       "</style>\n",
       "<table border=\"1\" class=\"dataframe\">\n",
       "  <thead>\n",
       "    <tr style=\"text-align: right;\">\n",
       "      <th></th>\n",
       "      <th>date</th>\n",
       "      <th>rougher.input.feed_au</th>\n",
       "      <th>rougher.input.feed_ag</th>\n",
       "      <th>rougher.input.feed_pb</th>\n",
       "      <th>rougher.input.feed_sol</th>\n",
       "      <th>rougher.input.feed_rate</th>\n",
       "      <th>rougher.input.feed_size</th>\n",
       "      <th>rougher.input.floatbank10_sulfate</th>\n",
       "      <th>rougher.input.floatbank10_xanthate</th>\n",
       "      <th>rougher.state.floatbank10_a_air</th>\n",
       "      <th>rougher.state.floatbank10_a_level</th>\n",
       "      <th>rougher.state.floatbank10_b_air</th>\n",
       "      <th>rougher.state.floatbank10_b_level</th>\n",
       "      <th>rougher.state.floatbank10_c_air</th>\n",
       "      <th>rougher.state.floatbank10_c_level</th>\n",
       "      <th>rougher.state.floatbank10_d_air</th>\n",
       "      <th>rougher.state.floatbank10_d_level</th>\n",
       "      <th>rougher.state.floatbank10_e_air</th>\n",
       "      <th>rougher.state.floatbank10_e_level</th>\n",
       "      <th>rougher.state.floatbank10_f_air</th>\n",
       "      <th>rougher.state.floatbank10_f_level</th>\n",
       "      <th>rougher.input.floatbank11_sulfate</th>\n",
       "      <th>rougher.input.floatbank11_xanthate</th>\n",
       "      <th>primary_cleaner.input.sulfate</th>\n",
       "      <th>primary_cleaner.input.depressant</th>\n",
       "      <th>primary_cleaner.input.feed_size</th>\n",
       "      <th>primary_cleaner.input.xanthate</th>\n",
       "      <th>primary_cleaner.state.floatbank8_a_air</th>\n",
       "      <th>primary_cleaner.state.floatbank8_a_level</th>\n",
       "      <th>primary_cleaner.state.floatbank8_b_air</th>\n",
       "      <th>primary_cleaner.state.floatbank8_b_level</th>\n",
       "      <th>primary_cleaner.state.floatbank8_c_air</th>\n",
       "      <th>primary_cleaner.state.floatbank8_c_level</th>\n",
       "      <th>primary_cleaner.state.floatbank8_d_air</th>\n",
       "      <th>primary_cleaner.state.floatbank8_d_level</th>\n",
       "      <th>secondary_cleaner.state.floatbank2_a_air</th>\n",
       "      <th>secondary_cleaner.state.floatbank2_a_level</th>\n",
       "      <th>secondary_cleaner.state.floatbank2_b_air</th>\n",
       "      <th>secondary_cleaner.state.floatbank2_b_level</th>\n",
       "      <th>secondary_cleaner.state.floatbank3_a_air</th>\n",
       "      <th>secondary_cleaner.state.floatbank3_a_level</th>\n",
       "      <th>secondary_cleaner.state.floatbank3_b_air</th>\n",
       "      <th>secondary_cleaner.state.floatbank3_b_level</th>\n",
       "      <th>secondary_cleaner.state.floatbank4_a_air</th>\n",
       "      <th>secondary_cleaner.state.floatbank4_a_level</th>\n",
       "      <th>secondary_cleaner.state.floatbank4_b_air</th>\n",
       "      <th>secondary_cleaner.state.floatbank4_b_level</th>\n",
       "      <th>secondary_cleaner.state.floatbank5_a_air</th>\n",
       "      <th>secondary_cleaner.state.floatbank5_a_level</th>\n",
       "      <th>secondary_cleaner.state.floatbank5_b_air</th>\n",
       "      <th>secondary_cleaner.state.floatbank5_b_level</th>\n",
       "      <th>secondary_cleaner.state.floatbank6_a_air</th>\n",
       "      <th>secondary_cleaner.state.floatbank6_a_level</th>\n",
       "    </tr>\n",
       "  </thead>\n",
       "  <tbody>\n",
       "    <tr>\n",
       "      <th>0</th>\n",
       "      <td>2017-12-09 14:59:59</td>\n",
       "      <td>4.365491</td>\n",
       "      <td>6.158718</td>\n",
       "      <td>3.875727</td>\n",
       "      <td>39.135119</td>\n",
       "      <td>555.820208</td>\n",
       "      <td>94.544358</td>\n",
       "      <td>6.146982</td>\n",
       "      <td>9.308612</td>\n",
       "      <td>1196.238112</td>\n",
       "      <td>-299.862743</td>\n",
       "      <td>1147.248241</td>\n",
       "      <td>-500.363165</td>\n",
       "      <td>1047.279065</td>\n",
       "      <td>-500.354091</td>\n",
       "      <td>948.756608</td>\n",
       "      <td>-498.439416</td>\n",
       "      <td>849.441918</td>\n",
       "      <td>-499.255503</td>\n",
       "      <td>850.112246</td>\n",
       "      <td>-499.407112</td>\n",
       "      <td>6.168939</td>\n",
       "      <td>9.309852</td>\n",
       "      <td>95.248427</td>\n",
       "      <td>8.078957</td>\n",
       "      <td>6.500000</td>\n",
       "      <td>1.283045</td>\n",
       "      <td>1648.759906</td>\n",
       "      <td>-399.862053</td>\n",
       "      <td>1650.135395</td>\n",
       "      <td>-399.957321</td>\n",
       "      <td>1648.831890</td>\n",
       "      <td>-400.586116</td>\n",
       "      <td>1649.464582</td>\n",
       "      <td>-400.673303</td>\n",
       "      <td>34.940919</td>\n",
       "      <td>-500.150510</td>\n",
       "      <td>30.031867</td>\n",
       "      <td>-500.328335</td>\n",
       "      <td>26.033990</td>\n",
       "      <td>-500.147792</td>\n",
       "      <td>22.952306</td>\n",
       "      <td>-500.037678</td>\n",
       "      <td>23.018622</td>\n",
       "      <td>-500.492702</td>\n",
       "      <td>20.020205</td>\n",
       "      <td>-500.220296</td>\n",
       "      <td>17.963512</td>\n",
       "      <td>-499.939490</td>\n",
       "      <td>12.990306</td>\n",
       "      <td>-500.080993</td>\n",
       "      <td>19.990336</td>\n",
       "      <td>-499.191575</td>\n",
       "    </tr>\n",
       "    <tr>\n",
       "      <th>1</th>\n",
       "      <td>2017-12-09 15:59:59</td>\n",
       "      <td>4.362781</td>\n",
       "      <td>6.048130</td>\n",
       "      <td>3.902537</td>\n",
       "      <td>39.713906</td>\n",
       "      <td>544.731687</td>\n",
       "      <td>123.742430</td>\n",
       "      <td>6.210119</td>\n",
       "      <td>9.297709</td>\n",
       "      <td>1201.904177</td>\n",
       "      <td>-299.907308</td>\n",
       "      <td>1154.087804</td>\n",
       "      <td>-500.036580</td>\n",
       "      <td>1054.009756</td>\n",
       "      <td>-500.237335</td>\n",
       "      <td>944.138793</td>\n",
       "      <td>-496.866953</td>\n",
       "      <td>851.589767</td>\n",
       "      <td>-499.040466</td>\n",
       "      <td>851.345606</td>\n",
       "      <td>-499.122561</td>\n",
       "      <td>6.209517</td>\n",
       "      <td>9.297194</td>\n",
       "      <td>98.880538</td>\n",
       "      <td>7.984164</td>\n",
       "      <td>6.500000</td>\n",
       "      <td>1.241969</td>\n",
       "      <td>1646.547763</td>\n",
       "      <td>-398.977083</td>\n",
       "      <td>1648.212240</td>\n",
       "      <td>-400.383265</td>\n",
       "      <td>1648.917387</td>\n",
       "      <td>-399.521344</td>\n",
       "      <td>1651.498591</td>\n",
       "      <td>-399.745329</td>\n",
       "      <td>34.980742</td>\n",
       "      <td>-498.131002</td>\n",
       "      <td>29.968453</td>\n",
       "      <td>-586.013330</td>\n",
       "      <td>25.971737</td>\n",
       "      <td>-499.608392</td>\n",
       "      <td>22.958448</td>\n",
       "      <td>-499.821308</td>\n",
       "      <td>23.024963</td>\n",
       "      <td>-501.153409</td>\n",
       "      <td>20.054122</td>\n",
       "      <td>-500.314711</td>\n",
       "      <td>17.979515</td>\n",
       "      <td>-499.272871</td>\n",
       "      <td>12.992404</td>\n",
       "      <td>-499.976268</td>\n",
       "      <td>20.013986</td>\n",
       "      <td>-500.625471</td>\n",
       "    </tr>\n",
       "    <tr>\n",
       "      <th>2</th>\n",
       "      <td>2017-12-09 16:59:59</td>\n",
       "      <td>5.081681</td>\n",
       "      <td>6.082745</td>\n",
       "      <td>4.564078</td>\n",
       "      <td>37.208683</td>\n",
       "      <td>558.155110</td>\n",
       "      <td>82.610855</td>\n",
       "      <td>7.363824</td>\n",
       "      <td>9.003562</td>\n",
       "      <td>1200.826926</td>\n",
       "      <td>-300.124116</td>\n",
       "      <td>1150.754676</td>\n",
       "      <td>-499.986009</td>\n",
       "      <td>1049.182824</td>\n",
       "      <td>-500.014696</td>\n",
       "      <td>948.085464</td>\n",
       "      <td>-499.997003</td>\n",
       "      <td>850.170086</td>\n",
       "      <td>-500.270334</td>\n",
       "      <td>849.557905</td>\n",
       "      <td>-500.198702</td>\n",
       "      <td>7.358308</td>\n",
       "      <td>9.000624</td>\n",
       "      <td>119.497545</td>\n",
       "      <td>8.003752</td>\n",
       "      <td>6.500000</td>\n",
       "      <td>1.259741</td>\n",
       "      <td>1647.368779</td>\n",
       "      <td>-399.788506</td>\n",
       "      <td>1648.395206</td>\n",
       "      <td>-400.166490</td>\n",
       "      <td>1648.953828</td>\n",
       "      <td>-400.468641</td>\n",
       "      <td>1649.821569</td>\n",
       "      <td>-400.071884</td>\n",
       "      <td>34.952967</td>\n",
       "      <td>-501.204647</td>\n",
       "      <td>29.927025</td>\n",
       "      <td>-500.106628</td>\n",
       "      <td>25.978253</td>\n",
       "      <td>-499.890060</td>\n",
       "      <td>23.004376</td>\n",
       "      <td>-500.014529</td>\n",
       "      <td>22.993827</td>\n",
       "      <td>-501.559663</td>\n",
       "      <td>20.029144</td>\n",
       "      <td>-500.000662</td>\n",
       "      <td>18.012723</td>\n",
       "      <td>-500.024764</td>\n",
       "      <td>13.016445</td>\n",
       "      <td>-500.058432</td>\n",
       "      <td>19.973767</td>\n",
       "      <td>-501.394155</td>\n",
       "    </tr>\n",
       "    <tr>\n",
       "      <th>3</th>\n",
       "      <td>2017-12-09 17:59:59</td>\n",
       "      <td>5.145949</td>\n",
       "      <td>6.084374</td>\n",
       "      <td>4.768124</td>\n",
       "      <td>36.808874</td>\n",
       "      <td>539.713765</td>\n",
       "      <td>77.984784</td>\n",
       "      <td>6.927072</td>\n",
       "      <td>8.955597</td>\n",
       "      <td>1199.292489</td>\n",
       "      <td>-299.778385</td>\n",
       "      <td>1152.512559</td>\n",
       "      <td>-500.338106</td>\n",
       "      <td>1052.601592</td>\n",
       "      <td>-499.695075</td>\n",
       "      <td>955.171539</td>\n",
       "      <td>-500.294989</td>\n",
       "      <td>851.957342</td>\n",
       "      <td>-499.779541</td>\n",
       "      <td>850.765662</td>\n",
       "      <td>-501.030559</td>\n",
       "      <td>6.929364</td>\n",
       "      <td>8.920717</td>\n",
       "      <td>108.080163</td>\n",
       "      <td>7.970121</td>\n",
       "      <td>6.660000</td>\n",
       "      <td>0.774909</td>\n",
       "      <td>1652.660845</td>\n",
       "      <td>-399.702218</td>\n",
       "      <td>1651.203128</td>\n",
       "      <td>-400.291472</td>\n",
       "      <td>1651.924848</td>\n",
       "      <td>-398.058033</td>\n",
       "      <td>1650.782696</td>\n",
       "      <td>-399.597977</td>\n",
       "      <td>35.038256</td>\n",
       "      <td>-500.102649</td>\n",
       "      <td>30.066959</td>\n",
       "      <td>-500.211499</td>\n",
       "      <td>26.013515</td>\n",
       "      <td>-500.054597</td>\n",
       "      <td>22.988928</td>\n",
       "      <td>-499.981410</td>\n",
       "      <td>23.032807</td>\n",
       "      <td>-501.287889</td>\n",
       "      <td>19.977466</td>\n",
       "      <td>-500.159903</td>\n",
       "      <td>17.980463</td>\n",
       "      <td>-500.504602</td>\n",
       "      <td>12.949071</td>\n",
       "      <td>-500.009937</td>\n",
       "      <td>20.010332</td>\n",
       "      <td>-508.337973</td>\n",
       "    </tr>\n",
       "    <tr>\n",
       "      <th>4</th>\n",
       "      <td>2017-12-09 18:59:59</td>\n",
       "      <td>5.735249</td>\n",
       "      <td>6.165220</td>\n",
       "      <td>4.512346</td>\n",
       "      <td>37.810642</td>\n",
       "      <td>558.713584</td>\n",
       "      <td>86.434874</td>\n",
       "      <td>7.823471</td>\n",
       "      <td>7.490356</td>\n",
       "      <td>1198.005449</td>\n",
       "      <td>-300.283401</td>\n",
       "      <td>1099.481500</td>\n",
       "      <td>-499.702465</td>\n",
       "      <td>999.539264</td>\n",
       "      <td>-499.306051</td>\n",
       "      <td>889.445596</td>\n",
       "      <td>-498.118617</td>\n",
       "      <td>800.533525</td>\n",
       "      <td>-499.765068</td>\n",
       "      <td>800.510356</td>\n",
       "      <td>-497.289533</td>\n",
       "      <td>7.824875</td>\n",
       "      <td>7.500678</td>\n",
       "      <td>117.750648</td>\n",
       "      <td>6.954311</td>\n",
       "      <td>6.426667</td>\n",
       "      <td>0.731271</td>\n",
       "      <td>1649.411497</td>\n",
       "      <td>-399.853156</td>\n",
       "      <td>1648.917211</td>\n",
       "      <td>-400.321866</td>\n",
       "      <td>1649.117753</td>\n",
       "      <td>-399.645348</td>\n",
       "      <td>1650.398209</td>\n",
       "      <td>-400.654533</td>\n",
       "      <td>34.894598</td>\n",
       "      <td>-498.444587</td>\n",
       "      <td>30.020745</td>\n",
       "      <td>-533.831343</td>\n",
       "      <td>26.022094</td>\n",
       "      <td>-499.725484</td>\n",
       "      <td>22.992992</td>\n",
       "      <td>-499.891405</td>\n",
       "      <td>23.001911</td>\n",
       "      <td>-499.947838</td>\n",
       "      <td>20.023735</td>\n",
       "      <td>-499.713680</td>\n",
       "      <td>17.990955</td>\n",
       "      <td>-500.334769</td>\n",
       "      <td>13.007523</td>\n",
       "      <td>-499.968459</td>\n",
       "      <td>19.995999</td>\n",
       "      <td>-499.788805</td>\n",
       "    </tr>\n",
       "  </tbody>\n",
       "</table>\n",
       "</div>"
      ],
      "text/plain": [
       "                  date  rougher.input.feed_au  rougher.input.feed_ag  \\\n",
       "0  2017-12-09 14:59:59               4.365491               6.158718   \n",
       "1  2017-12-09 15:59:59               4.362781               6.048130   \n",
       "2  2017-12-09 16:59:59               5.081681               6.082745   \n",
       "3  2017-12-09 17:59:59               5.145949               6.084374   \n",
       "4  2017-12-09 18:59:59               5.735249               6.165220   \n",
       "\n",
       "   rougher.input.feed_pb  rougher.input.feed_sol  rougher.input.feed_rate  \\\n",
       "0               3.875727               39.135119               555.820208   \n",
       "1               3.902537               39.713906               544.731687   \n",
       "2               4.564078               37.208683               558.155110   \n",
       "3               4.768124               36.808874               539.713765   \n",
       "4               4.512346               37.810642               558.713584   \n",
       "\n",
       "   rougher.input.feed_size  rougher.input.floatbank10_sulfate  \\\n",
       "0                94.544358                           6.146982   \n",
       "1               123.742430                           6.210119   \n",
       "2                82.610855                           7.363824   \n",
       "3                77.984784                           6.927072   \n",
       "4                86.434874                           7.823471   \n",
       "\n",
       "   rougher.input.floatbank10_xanthate  rougher.state.floatbank10_a_air  \\\n",
       "0                            9.308612                      1196.238112   \n",
       "1                            9.297709                      1201.904177   \n",
       "2                            9.003562                      1200.826926   \n",
       "3                            8.955597                      1199.292489   \n",
       "4                            7.490356                      1198.005449   \n",
       "\n",
       "   rougher.state.floatbank10_a_level  rougher.state.floatbank10_b_air  \\\n",
       "0                        -299.862743                      1147.248241   \n",
       "1                        -299.907308                      1154.087804   \n",
       "2                        -300.124116                      1150.754676   \n",
       "3                        -299.778385                      1152.512559   \n",
       "4                        -300.283401                      1099.481500   \n",
       "\n",
       "   rougher.state.floatbank10_b_level  rougher.state.floatbank10_c_air  \\\n",
       "0                        -500.363165                      1047.279065   \n",
       "1                        -500.036580                      1054.009756   \n",
       "2                        -499.986009                      1049.182824   \n",
       "3                        -500.338106                      1052.601592   \n",
       "4                        -499.702465                       999.539264   \n",
       "\n",
       "   rougher.state.floatbank10_c_level  rougher.state.floatbank10_d_air  \\\n",
       "0                        -500.354091                       948.756608   \n",
       "1                        -500.237335                       944.138793   \n",
       "2                        -500.014696                       948.085464   \n",
       "3                        -499.695075                       955.171539   \n",
       "4                        -499.306051                       889.445596   \n",
       "\n",
       "   rougher.state.floatbank10_d_level  rougher.state.floatbank10_e_air  \\\n",
       "0                        -498.439416                       849.441918   \n",
       "1                        -496.866953                       851.589767   \n",
       "2                        -499.997003                       850.170086   \n",
       "3                        -500.294989                       851.957342   \n",
       "4                        -498.118617                       800.533525   \n",
       "\n",
       "   rougher.state.floatbank10_e_level  rougher.state.floatbank10_f_air  \\\n",
       "0                        -499.255503                       850.112246   \n",
       "1                        -499.040466                       851.345606   \n",
       "2                        -500.270334                       849.557905   \n",
       "3                        -499.779541                       850.765662   \n",
       "4                        -499.765068                       800.510356   \n",
       "\n",
       "   rougher.state.floatbank10_f_level  rougher.input.floatbank11_sulfate  \\\n",
       "0                        -499.407112                           6.168939   \n",
       "1                        -499.122561                           6.209517   \n",
       "2                        -500.198702                           7.358308   \n",
       "3                        -501.030559                           6.929364   \n",
       "4                        -497.289533                           7.824875   \n",
       "\n",
       "   rougher.input.floatbank11_xanthate  primary_cleaner.input.sulfate  \\\n",
       "0                            9.309852                      95.248427   \n",
       "1                            9.297194                      98.880538   \n",
       "2                            9.000624                     119.497545   \n",
       "3                            8.920717                     108.080163   \n",
       "4                            7.500678                     117.750648   \n",
       "\n",
       "   primary_cleaner.input.depressant  primary_cleaner.input.feed_size  \\\n",
       "0                          8.078957                         6.500000   \n",
       "1                          7.984164                         6.500000   \n",
       "2                          8.003752                         6.500000   \n",
       "3                          7.970121                         6.660000   \n",
       "4                          6.954311                         6.426667   \n",
       "\n",
       "   primary_cleaner.input.xanthate  primary_cleaner.state.floatbank8_a_air  \\\n",
       "0                        1.283045                             1648.759906   \n",
       "1                        1.241969                             1646.547763   \n",
       "2                        1.259741                             1647.368779   \n",
       "3                        0.774909                             1652.660845   \n",
       "4                        0.731271                             1649.411497   \n",
       "\n",
       "   primary_cleaner.state.floatbank8_a_level  \\\n",
       "0                               -399.862053   \n",
       "1                               -398.977083   \n",
       "2                               -399.788506   \n",
       "3                               -399.702218   \n",
       "4                               -399.853156   \n",
       "\n",
       "   primary_cleaner.state.floatbank8_b_air  \\\n",
       "0                             1650.135395   \n",
       "1                             1648.212240   \n",
       "2                             1648.395206   \n",
       "3                             1651.203128   \n",
       "4                             1648.917211   \n",
       "\n",
       "   primary_cleaner.state.floatbank8_b_level  \\\n",
       "0                               -399.957321   \n",
       "1                               -400.383265   \n",
       "2                               -400.166490   \n",
       "3                               -400.291472   \n",
       "4                               -400.321866   \n",
       "\n",
       "   primary_cleaner.state.floatbank8_c_air  \\\n",
       "0                             1648.831890   \n",
       "1                             1648.917387   \n",
       "2                             1648.953828   \n",
       "3                             1651.924848   \n",
       "4                             1649.117753   \n",
       "\n",
       "   primary_cleaner.state.floatbank8_c_level  \\\n",
       "0                               -400.586116   \n",
       "1                               -399.521344   \n",
       "2                               -400.468641   \n",
       "3                               -398.058033   \n",
       "4                               -399.645348   \n",
       "\n",
       "   primary_cleaner.state.floatbank8_d_air  \\\n",
       "0                             1649.464582   \n",
       "1                             1651.498591   \n",
       "2                             1649.821569   \n",
       "3                             1650.782696   \n",
       "4                             1650.398209   \n",
       "\n",
       "   primary_cleaner.state.floatbank8_d_level  \\\n",
       "0                               -400.673303   \n",
       "1                               -399.745329   \n",
       "2                               -400.071884   \n",
       "3                               -399.597977   \n",
       "4                               -400.654533   \n",
       "\n",
       "   secondary_cleaner.state.floatbank2_a_air  \\\n",
       "0                                 34.940919   \n",
       "1                                 34.980742   \n",
       "2                                 34.952967   \n",
       "3                                 35.038256   \n",
       "4                                 34.894598   \n",
       "\n",
       "   secondary_cleaner.state.floatbank2_a_level  \\\n",
       "0                                 -500.150510   \n",
       "1                                 -498.131002   \n",
       "2                                 -501.204647   \n",
       "3                                 -500.102649   \n",
       "4                                 -498.444587   \n",
       "\n",
       "   secondary_cleaner.state.floatbank2_b_air  \\\n",
       "0                                 30.031867   \n",
       "1                                 29.968453   \n",
       "2                                 29.927025   \n",
       "3                                 30.066959   \n",
       "4                                 30.020745   \n",
       "\n",
       "   secondary_cleaner.state.floatbank2_b_level  \\\n",
       "0                                 -500.328335   \n",
       "1                                 -586.013330   \n",
       "2                                 -500.106628   \n",
       "3                                 -500.211499   \n",
       "4                                 -533.831343   \n",
       "\n",
       "   secondary_cleaner.state.floatbank3_a_air  \\\n",
       "0                                 26.033990   \n",
       "1                                 25.971737   \n",
       "2                                 25.978253   \n",
       "3                                 26.013515   \n",
       "4                                 26.022094   \n",
       "\n",
       "   secondary_cleaner.state.floatbank3_a_level  \\\n",
       "0                                 -500.147792   \n",
       "1                                 -499.608392   \n",
       "2                                 -499.890060   \n",
       "3                                 -500.054597   \n",
       "4                                 -499.725484   \n",
       "\n",
       "   secondary_cleaner.state.floatbank3_b_air  \\\n",
       "0                                 22.952306   \n",
       "1                                 22.958448   \n",
       "2                                 23.004376   \n",
       "3                                 22.988928   \n",
       "4                                 22.992992   \n",
       "\n",
       "   secondary_cleaner.state.floatbank3_b_level  \\\n",
       "0                                 -500.037678   \n",
       "1                                 -499.821308   \n",
       "2                                 -500.014529   \n",
       "3                                 -499.981410   \n",
       "4                                 -499.891405   \n",
       "\n",
       "   secondary_cleaner.state.floatbank4_a_air  \\\n",
       "0                                 23.018622   \n",
       "1                                 23.024963   \n",
       "2                                 22.993827   \n",
       "3                                 23.032807   \n",
       "4                                 23.001911   \n",
       "\n",
       "   secondary_cleaner.state.floatbank4_a_level  \\\n",
       "0                                 -500.492702   \n",
       "1                                 -501.153409   \n",
       "2                                 -501.559663   \n",
       "3                                 -501.287889   \n",
       "4                                 -499.947838   \n",
       "\n",
       "   secondary_cleaner.state.floatbank4_b_air  \\\n",
       "0                                 20.020205   \n",
       "1                                 20.054122   \n",
       "2                                 20.029144   \n",
       "3                                 19.977466   \n",
       "4                                 20.023735   \n",
       "\n",
       "   secondary_cleaner.state.floatbank4_b_level  \\\n",
       "0                                 -500.220296   \n",
       "1                                 -500.314711   \n",
       "2                                 -500.000662   \n",
       "3                                 -500.159903   \n",
       "4                                 -499.713680   \n",
       "\n",
       "   secondary_cleaner.state.floatbank5_a_air  \\\n",
       "0                                 17.963512   \n",
       "1                                 17.979515   \n",
       "2                                 18.012723   \n",
       "3                                 17.980463   \n",
       "4                                 17.990955   \n",
       "\n",
       "   secondary_cleaner.state.floatbank5_a_level  \\\n",
       "0                                 -499.939490   \n",
       "1                                 -499.272871   \n",
       "2                                 -500.024764   \n",
       "3                                 -500.504602   \n",
       "4                                 -500.334769   \n",
       "\n",
       "   secondary_cleaner.state.floatbank5_b_air  \\\n",
       "0                                 12.990306   \n",
       "1                                 12.992404   \n",
       "2                                 13.016445   \n",
       "3                                 12.949071   \n",
       "4                                 13.007523   \n",
       "\n",
       "   secondary_cleaner.state.floatbank5_b_level  \\\n",
       "0                                 -500.080993   \n",
       "1                                 -499.976268   \n",
       "2                                 -500.058432   \n",
       "3                                 -500.009937   \n",
       "4                                 -499.968459   \n",
       "\n",
       "   secondary_cleaner.state.floatbank6_a_air  \\\n",
       "0                                 19.990336   \n",
       "1                                 20.013986   \n",
       "2                                 19.973767   \n",
       "3                                 20.010332   \n",
       "4                                 19.995999   \n",
       "\n",
       "   secondary_cleaner.state.floatbank6_a_level  \n",
       "0                                 -499.191575  \n",
       "1                                 -500.625471  \n",
       "2                                 -501.394155  \n",
       "3                                 -508.337973  \n",
       "4                                 -499.788805  "
      ]
     },
     "execution_count": 28,
     "metadata": {},
     "output_type": "execute_result"
    }
   ],
   "source": [
    "test.head()"
   ]
  },
  {
   "cell_type": "code",
   "execution_count": 29,
   "metadata": {
    "pycharm": {
     "name": "#%%\n"
    }
   },
   "outputs": [
    {
     "data": {
      "text/plain": [
       "(4860, 53)"
      ]
     },
     "execution_count": 29,
     "metadata": {},
     "output_type": "execute_result"
    }
   ],
   "source": [
    "test.shape"
   ]
  },
  {
   "cell_type": "code",
   "execution_count": 30,
   "metadata": {
    "pycharm": {
     "name": "#%%\n"
    }
   },
   "outputs": [
    {
     "data": {
      "text/plain": [
       "(4860, 55)"
      ]
     },
     "execution_count": 30,
     "metadata": {},
     "output_type": "execute_result"
    }
   ],
   "source": [
    "test = test.merge(full_raw[['rougher.output.recovery', 'date', 'final.output.recovery']], on='date')\n",
    "test.shape"
   ]
  },
  {
   "cell_type": "markdown",
   "metadata": {
    "pycharm": {
     "name": "#%% md\n"
    }
   },
   "source": [
    "Оставим в трэйне только те столбцы, которые есть в тесте."
   ]
  },
  {
   "cell_type": "code",
   "execution_count": 31,
   "metadata": {
    "pycharm": {
     "name": "#%%\n"
    }
   },
   "outputs": [
    {
     "name": "stdout",
     "output_type": "stream",
     "text": [
      "размер таблицы train исходный       (12385, 87)\n",
      "размер таблицы train после удаления (12385, 55)\n"
     ]
    }
   ],
   "source": [
    "print('размер таблицы train исходный      ', train.shape)\n",
    "common_columns = train.columns.intersection(test.columns)\n",
    "train = train.loc[:, common_columns]\n",
    "print('размер таблицы train после удаления', train.shape)"
   ]
  },
  {
   "cell_type": "markdown",
   "metadata": {
    "pycharm": {
     "name": "#%% md\n"
    }
   },
   "source": [
    "Уберем корреллирующие признаки"
   ]
  },
  {
   "cell_type": "code",
   "execution_count": 32,
   "metadata": {
    "pycharm": {
     "name": "#%%\n"
    }
   },
   "outputs": [
    {
     "name": "stdout",
     "output_type": "stream",
     "text": [
      "Данные с корреляцией больше 0.9\n"
     ]
    },
    {
     "data": {
      "text/plain": [
       "{'primary_cleaner.state.floatbank8_b_air',\n",
       " 'primary_cleaner.state.floatbank8_c_air',\n",
       " 'primary_cleaner.state.floatbank8_c_level',\n",
       " 'rougher.state.floatbank10_c_air',\n",
       " 'rougher.state.floatbank10_c_level',\n",
       " 'rougher.state.floatbank10_d_air',\n",
       " 'rougher.state.floatbank10_d_level',\n",
       " 'rougher.state.floatbank10_e_level',\n",
       " 'rougher.state.floatbank10_f_air',\n",
       " 'rougher.state.floatbank10_f_level',\n",
       " 'secondary_cleaner.state.floatbank2_b_level'}"
      ]
     },
     "execution_count": 32,
     "metadata": {},
     "output_type": "execute_result"
    }
   ],
   "source": [
    "correlation_matrix = train.corr()\n",
    "threshold = 0.9\n",
    "high_correlation_data = correlation_matrix[correlation_matrix.abs() > threshold]\n",
    "\n",
    "print(\"Данные с корреляцией больше\", threshold)\n",
    "m = high_correlation_data[high_correlation_data.count().values > 1]\n",
    "m.count().sort_values(ascending=False)\n",
    "\n",
    "correlated_features = set()\n",
    "\n",
    "for i in range(len(correlation_matrix.columns)):\n",
    "    for j in range(i):\n",
    "        if abs(correlation_matrix.iloc[i, j]) > threshold:\n",
    "            colname = correlation_matrix.columns[i]\n",
    "            correlated_features.add(colname)\n",
    "\n",
    "correlated_features"
   ]
  },
  {
   "cell_type": "code",
   "execution_count": 33,
   "metadata": {
    "pycharm": {
     "name": "#%%\n"
    }
   },
   "outputs": [],
   "source": [
    "train.drop(columns=correlated_features, inplace=True)\n",
    "test.drop(columns=correlated_features, inplace=True)"
   ]
  },
  {
   "cell_type": "code",
   "execution_count": 34,
   "metadata": {
    "pycharm": {
     "name": "#%%\n"
    }
   },
   "outputs": [
    {
     "data": {
      "text/plain": [
       "((12385, 44), (4860, 44))"
      ]
     },
     "execution_count": 34,
     "metadata": {},
     "output_type": "execute_result"
    }
   ],
   "source": [
    "train.shape, test.shape"
   ]
  },
  {
   "cell_type": "markdown",
   "metadata": {
    "pycharm": {
     "name": "#%% md\n"
    }
   },
   "source": [
    "Теперь признаки менее скоррелированны."
   ]
  },
  {
   "cell_type": "markdown",
   "metadata": {
    "pycharm": {
     "name": "#%% md\n"
    }
   },
   "source": [
    "Удалим уникальный признак date из обеих выборок, так как он совершенно неинформативен."
   ]
  },
  {
   "cell_type": "code",
   "execution_count": 35,
   "metadata": {
    "pycharm": {
     "name": "#%%\n"
    }
   },
   "outputs": [],
   "source": [
    "train = train.drop(['date'], axis=1)\n",
    "test = test.drop(['date'], axis=1)"
   ]
  },
  {
   "cell_type": "code",
   "execution_count": 36,
   "metadata": {
    "pycharm": {
     "name": "#%%\n"
    }
   },
   "outputs": [
    {
     "data": {
      "text/html": [
       "<div>\n",
       "<style scoped>\n",
       "    .dataframe tbody tr th:only-of-type {\n",
       "        vertical-align: middle;\n",
       "    }\n",
       "\n",
       "    .dataframe tbody tr th {\n",
       "        vertical-align: top;\n",
       "    }\n",
       "\n",
       "    .dataframe thead th {\n",
       "        text-align: right;\n",
       "    }\n",
       "</style>\n",
       "<table border=\"1\" class=\"dataframe\">\n",
       "  <thead>\n",
       "    <tr style=\"text-align: right;\">\n",
       "      <th></th>\n",
       "      <th>rougher.input.feed_au</th>\n",
       "      <th>rougher.input.feed_ag</th>\n",
       "      <th>rougher.input.feed_pb</th>\n",
       "      <th>rougher.input.feed_sol</th>\n",
       "      <th>rougher.input.feed_rate</th>\n",
       "      <th>rougher.input.feed_size</th>\n",
       "      <th>rougher.input.floatbank10_sulfate</th>\n",
       "      <th>rougher.input.floatbank10_xanthate</th>\n",
       "      <th>rougher.state.floatbank10_a_air</th>\n",
       "      <th>rougher.state.floatbank10_a_level</th>\n",
       "      <th>rougher.state.floatbank10_b_air</th>\n",
       "      <th>rougher.state.floatbank10_b_level</th>\n",
       "      <th>rougher.state.floatbank10_e_air</th>\n",
       "      <th>rougher.input.floatbank11_sulfate</th>\n",
       "      <th>rougher.input.floatbank11_xanthate</th>\n",
       "      <th>primary_cleaner.input.sulfate</th>\n",
       "      <th>primary_cleaner.input.depressant</th>\n",
       "      <th>primary_cleaner.input.feed_size</th>\n",
       "      <th>primary_cleaner.input.xanthate</th>\n",
       "      <th>primary_cleaner.state.floatbank8_a_air</th>\n",
       "      <th>primary_cleaner.state.floatbank8_a_level</th>\n",
       "      <th>primary_cleaner.state.floatbank8_b_level</th>\n",
       "      <th>primary_cleaner.state.floatbank8_d_air</th>\n",
       "      <th>primary_cleaner.state.floatbank8_d_level</th>\n",
       "      <th>secondary_cleaner.state.floatbank2_a_air</th>\n",
       "      <th>secondary_cleaner.state.floatbank2_a_level</th>\n",
       "      <th>secondary_cleaner.state.floatbank2_b_air</th>\n",
       "      <th>secondary_cleaner.state.floatbank3_a_air</th>\n",
       "      <th>secondary_cleaner.state.floatbank3_a_level</th>\n",
       "      <th>secondary_cleaner.state.floatbank3_b_air</th>\n",
       "      <th>secondary_cleaner.state.floatbank3_b_level</th>\n",
       "      <th>secondary_cleaner.state.floatbank4_a_air</th>\n",
       "      <th>secondary_cleaner.state.floatbank4_a_level</th>\n",
       "      <th>secondary_cleaner.state.floatbank4_b_air</th>\n",
       "      <th>secondary_cleaner.state.floatbank4_b_level</th>\n",
       "      <th>secondary_cleaner.state.floatbank5_a_air</th>\n",
       "      <th>secondary_cleaner.state.floatbank5_a_level</th>\n",
       "      <th>secondary_cleaner.state.floatbank5_b_air</th>\n",
       "      <th>secondary_cleaner.state.floatbank5_b_level</th>\n",
       "      <th>secondary_cleaner.state.floatbank6_a_air</th>\n",
       "      <th>secondary_cleaner.state.floatbank6_a_level</th>\n",
       "      <th>rougher.output.recovery</th>\n",
       "      <th>final.output.recovery</th>\n",
       "    </tr>\n",
       "  </thead>\n",
       "  <tbody>\n",
       "    <tr>\n",
       "      <th>860</th>\n",
       "      <td>0.885875</td>\n",
       "      <td>5.670174</td>\n",
       "      <td>0.77428</td>\n",
       "      <td>34.041765</td>\n",
       "      <td>559.433709</td>\n",
       "      <td>66.558732</td>\n",
       "      <td>1.701654</td>\n",
       "      <td>5.202725</td>\n",
       "      <td>1200.946625</td>\n",
       "      <td>-300.287506</td>\n",
       "      <td>1302.642845</td>\n",
       "      <td>-498.24954</td>\n",
       "      <td>1099.544916</td>\n",
       "      <td>1.697719</td>\n",
       "      <td>5.202826</td>\n",
       "      <td>31.651403</td>\n",
       "      <td>4.723428</td>\n",
       "      <td>5.95</td>\n",
       "      <td>0.987799</td>\n",
       "      <td>1698.953561</td>\n",
       "      <td>-499.175604</td>\n",
       "      <td>-499.632474</td>\n",
       "      <td>1700.293614</td>\n",
       "      <td>-499.838992</td>\n",
       "      <td>34.944585</td>\n",
       "      <td>-499.835105</td>\n",
       "      <td>27.981023</td>\n",
       "      <td>35.967321</td>\n",
       "      <td>-499.629511</td>\n",
       "      <td>24.958532</td>\n",
       "      <td>-499.744596</td>\n",
       "      <td>29.995235</td>\n",
       "      <td>-498.548638</td>\n",
       "      <td>19.882446</td>\n",
       "      <td>-499.746867</td>\n",
       "      <td>24.987307</td>\n",
       "      <td>-499.51421</td>\n",
       "      <td>22.969566</td>\n",
       "      <td>-499.984969</td>\n",
       "      <td>25.000726</td>\n",
       "      <td>-499.972589</td>\n",
       "      <td>76.879907</td>\n",
       "      <td>24.764549</td>\n",
       "    </tr>\n",
       "  </tbody>\n",
       "</table>\n",
       "</div>"
      ],
      "text/plain": [
       "     rougher.input.feed_au  rougher.input.feed_ag  rougher.input.feed_pb  \\\n",
       "860               0.885875               5.670174                0.77428   \n",
       "\n",
       "     rougher.input.feed_sol  rougher.input.feed_rate  rougher.input.feed_size  \\\n",
       "860               34.041765               559.433709                66.558732   \n",
       "\n",
       "     rougher.input.floatbank10_sulfate  rougher.input.floatbank10_xanthate  \\\n",
       "860                           1.701654                            5.202725   \n",
       "\n",
       "     rougher.state.floatbank10_a_air  rougher.state.floatbank10_a_level  \\\n",
       "860                      1200.946625                        -300.287506   \n",
       "\n",
       "     rougher.state.floatbank10_b_air  rougher.state.floatbank10_b_level  \\\n",
       "860                      1302.642845                         -498.24954   \n",
       "\n",
       "     rougher.state.floatbank10_e_air  rougher.input.floatbank11_sulfate  \\\n",
       "860                      1099.544916                           1.697719   \n",
       "\n",
       "     rougher.input.floatbank11_xanthate  primary_cleaner.input.sulfate  \\\n",
       "860                            5.202826                      31.651403   \n",
       "\n",
       "     primary_cleaner.input.depressant  primary_cleaner.input.feed_size  \\\n",
       "860                          4.723428                             5.95   \n",
       "\n",
       "     primary_cleaner.input.xanthate  primary_cleaner.state.floatbank8_a_air  \\\n",
       "860                        0.987799                             1698.953561   \n",
       "\n",
       "     primary_cleaner.state.floatbank8_a_level  \\\n",
       "860                               -499.175604   \n",
       "\n",
       "     primary_cleaner.state.floatbank8_b_level  \\\n",
       "860                               -499.632474   \n",
       "\n",
       "     primary_cleaner.state.floatbank8_d_air  \\\n",
       "860                             1700.293614   \n",
       "\n",
       "     primary_cleaner.state.floatbank8_d_level  \\\n",
       "860                               -499.838992   \n",
       "\n",
       "     secondary_cleaner.state.floatbank2_a_air  \\\n",
       "860                                 34.944585   \n",
       "\n",
       "     secondary_cleaner.state.floatbank2_a_level  \\\n",
       "860                                 -499.835105   \n",
       "\n",
       "     secondary_cleaner.state.floatbank2_b_air  \\\n",
       "860                                 27.981023   \n",
       "\n",
       "     secondary_cleaner.state.floatbank3_a_air  \\\n",
       "860                                 35.967321   \n",
       "\n",
       "     secondary_cleaner.state.floatbank3_a_level  \\\n",
       "860                                 -499.629511   \n",
       "\n",
       "     secondary_cleaner.state.floatbank3_b_air  \\\n",
       "860                                 24.958532   \n",
       "\n",
       "     secondary_cleaner.state.floatbank3_b_level  \\\n",
       "860                                 -499.744596   \n",
       "\n",
       "     secondary_cleaner.state.floatbank4_a_air  \\\n",
       "860                                 29.995235   \n",
       "\n",
       "     secondary_cleaner.state.floatbank4_a_level  \\\n",
       "860                                 -498.548638   \n",
       "\n",
       "     secondary_cleaner.state.floatbank4_b_air  \\\n",
       "860                                 19.882446   \n",
       "\n",
       "     secondary_cleaner.state.floatbank4_b_level  \\\n",
       "860                                 -499.746867   \n",
       "\n",
       "     secondary_cleaner.state.floatbank5_a_air  \\\n",
       "860                                 24.987307   \n",
       "\n",
       "     secondary_cleaner.state.floatbank5_a_level  \\\n",
       "860                                  -499.51421   \n",
       "\n",
       "     secondary_cleaner.state.floatbank5_b_air  \\\n",
       "860                                 22.969566   \n",
       "\n",
       "     secondary_cleaner.state.floatbank5_b_level  \\\n",
       "860                                 -499.984969   \n",
       "\n",
       "     secondary_cleaner.state.floatbank6_a_air  \\\n",
       "860                                 25.000726   \n",
       "\n",
       "     secondary_cleaner.state.floatbank6_a_level  rougher.output.recovery  \\\n",
       "860                                 -499.972589                76.879907   \n",
       "\n",
       "     final.output.recovery  \n",
       "860              24.764549  "
      ]
     },
     "execution_count": 36,
     "metadata": {},
     "output_type": "execute_result"
    }
   ],
   "source": [
    "test.sample()"
   ]
  },
  {
   "cell_type": "markdown",
   "metadata": {
    "pycharm": {
     "name": "#%% md\n"
    }
   },
   "source": [
    "Необходимо поделить датасеты на признаки и таргет для дальнейших шагов"
   ]
  },
  {
   "cell_type": "code",
   "execution_count": 37,
   "metadata": {
    "pycharm": {
     "name": "#%%\n"
    }
   },
   "outputs": [
    {
     "data": {
      "text/plain": [
       "((12385, 41), (12385,), (12385,), (4860, 41), (4860,), (4860,))"
      ]
     },
     "execution_count": 37,
     "metadata": {},
     "output_type": "execute_result"
    }
   ],
   "source": [
    "train_features = train.drop(['rougher.output.recovery', 'final.output.recovery'], axis=1)\n",
    "train_target_rougher = train['rougher.output.recovery']\n",
    "train_target_final = train['final.output.recovery']\n",
    "test_features = test.drop(['rougher.output.recovery', 'final.output.recovery'], axis=1)\n",
    "test_target_rougher = test['rougher.output.recovery']\n",
    "test_target_final = test['final.output.recovery']\n",
    "\n",
    "train_features.shape, train_target_rougher.shape, train_target_final.shape, \\\n",
    "test_features.shape, test_target_rougher.shape, test_target_final.shape"
   ]
  },
  {
   "cell_type": "markdown",
   "metadata": {
    "pycharm": {
     "name": "#%% md\n"
    }
   },
   "source": [
    "Необходимо произвести масштабирование признаков, так как разброс данных разный"
   ]
  },
  {
   "cell_type": "code",
   "execution_count": 38,
   "metadata": {
    "pycharm": {
     "name": "#%%\n"
    }
   },
   "outputs": [
    {
     "data": {
      "text/html": [
       "<div>\n",
       "<style scoped>\n",
       "    .dataframe tbody tr th:only-of-type {\n",
       "        vertical-align: middle;\n",
       "    }\n",
       "\n",
       "    .dataframe tbody tr th {\n",
       "        vertical-align: top;\n",
       "    }\n",
       "\n",
       "    .dataframe thead th {\n",
       "        text-align: right;\n",
       "    }\n",
       "</style>\n",
       "<table border=\"1\" class=\"dataframe\">\n",
       "  <thead>\n",
       "    <tr style=\"text-align: right;\">\n",
       "      <th></th>\n",
       "      <th>rougher.input.feed_au</th>\n",
       "      <th>rougher.input.feed_ag</th>\n",
       "      <th>rougher.input.feed_pb</th>\n",
       "      <th>rougher.input.feed_sol</th>\n",
       "      <th>rougher.input.feed_rate</th>\n",
       "      <th>rougher.input.feed_size</th>\n",
       "      <th>rougher.input.floatbank10_sulfate</th>\n",
       "      <th>rougher.input.floatbank10_xanthate</th>\n",
       "      <th>rougher.state.floatbank10_a_air</th>\n",
       "      <th>rougher.state.floatbank10_a_level</th>\n",
       "      <th>rougher.state.floatbank10_b_air</th>\n",
       "      <th>rougher.state.floatbank10_b_level</th>\n",
       "      <th>rougher.state.floatbank10_e_air</th>\n",
       "      <th>rougher.input.floatbank11_sulfate</th>\n",
       "      <th>rougher.input.floatbank11_xanthate</th>\n",
       "      <th>primary_cleaner.input.sulfate</th>\n",
       "      <th>primary_cleaner.input.depressant</th>\n",
       "      <th>primary_cleaner.input.feed_size</th>\n",
       "      <th>primary_cleaner.input.xanthate</th>\n",
       "      <th>primary_cleaner.state.floatbank8_a_air</th>\n",
       "      <th>primary_cleaner.state.floatbank8_a_level</th>\n",
       "      <th>primary_cleaner.state.floatbank8_b_level</th>\n",
       "      <th>primary_cleaner.state.floatbank8_d_air</th>\n",
       "      <th>primary_cleaner.state.floatbank8_d_level</th>\n",
       "      <th>secondary_cleaner.state.floatbank2_a_air</th>\n",
       "      <th>secondary_cleaner.state.floatbank2_a_level</th>\n",
       "      <th>secondary_cleaner.state.floatbank2_b_air</th>\n",
       "      <th>secondary_cleaner.state.floatbank3_a_air</th>\n",
       "      <th>secondary_cleaner.state.floatbank3_a_level</th>\n",
       "      <th>secondary_cleaner.state.floatbank3_b_air</th>\n",
       "      <th>secondary_cleaner.state.floatbank3_b_level</th>\n",
       "      <th>secondary_cleaner.state.floatbank4_a_air</th>\n",
       "      <th>secondary_cleaner.state.floatbank4_a_level</th>\n",
       "      <th>secondary_cleaner.state.floatbank4_b_air</th>\n",
       "      <th>secondary_cleaner.state.floatbank4_b_level</th>\n",
       "      <th>secondary_cleaner.state.floatbank5_a_air</th>\n",
       "      <th>secondary_cleaner.state.floatbank5_a_level</th>\n",
       "      <th>secondary_cleaner.state.floatbank5_b_air</th>\n",
       "      <th>secondary_cleaner.state.floatbank5_b_level</th>\n",
       "      <th>secondary_cleaner.state.floatbank6_a_air</th>\n",
       "      <th>secondary_cleaner.state.floatbank6_a_level</th>\n",
       "    </tr>\n",
       "  </thead>\n",
       "  <tbody>\n",
       "    <tr>\n",
       "      <th>2443</th>\n",
       "      <td>-1.063738</td>\n",
       "      <td>-0.918722</td>\n",
       "      <td>-0.404864</td>\n",
       "      <td>-0.372336</td>\n",
       "      <td>-0.016116</td>\n",
       "      <td>-0.376909</td>\n",
       "      <td>1.375922</td>\n",
       "      <td>-0.963267</td>\n",
       "      <td>-0.638724</td>\n",
       "      <td>0.838498</td>\n",
       "      <td>0.401558</td>\n",
       "      <td>1.145353</td>\n",
       "      <td>0.669791</td>\n",
       "      <td>1.284965</td>\n",
       "      <td>-0.801573</td>\n",
       "      <td>-0.789163</td>\n",
       "      <td>-0.297043</td>\n",
       "      <td>-0.584955</td>\n",
       "      <td>-0.958233</td>\n",
       "      <td>0.839666</td>\n",
       "      <td>-0.251292</td>\n",
       "      <td>-0.228022</td>\n",
       "      <td>0.627815</td>\n",
       "      <td>-0.272455</td>\n",
       "      <td>0.301232</td>\n",
       "      <td>0.062364</td>\n",
       "      <td>0.194880</td>\n",
       "      <td>-0.489073</td>\n",
       "      <td>-0.280399</td>\n",
       "      <td>-0.383751</td>\n",
       "      <td>-0.160697</td>\n",
       "      <td>-0.129009</td>\n",
       "      <td>-0.336414</td>\n",
       "      <td>-0.345275</td>\n",
       "      <td>1.272145</td>\n",
       "      <td>0.483972</td>\n",
       "      <td>-0.343543</td>\n",
       "      <td>0.202375</td>\n",
       "      <td>-0.365293</td>\n",
       "      <td>-0.737641</td>\n",
       "      <td>0.152655</td>\n",
       "    </tr>\n",
       "    <tr>\n",
       "      <th>1472</th>\n",
       "      <td>2.006857</td>\n",
       "      <td>2.558268</td>\n",
       "      <td>2.033590</td>\n",
       "      <td>0.912378</td>\n",
       "      <td>0.272175</td>\n",
       "      <td>-0.294192</td>\n",
       "      <td>0.277643</td>\n",
       "      <td>1.180723</td>\n",
       "      <td>1.624390</td>\n",
       "      <td>0.845038</td>\n",
       "      <td>-0.715306</td>\n",
       "      <td>-0.621090</td>\n",
       "      <td>-1.030997</td>\n",
       "      <td>0.319191</td>\n",
       "      <td>1.071417</td>\n",
       "      <td>1.738523</td>\n",
       "      <td>1.872410</td>\n",
       "      <td>1.622743</td>\n",
       "      <td>0.130709</td>\n",
       "      <td>0.100785</td>\n",
       "      <td>3.240756</td>\n",
       "      <td>3.197831</td>\n",
       "      <td>0.218718</td>\n",
       "      <td>2.064223</td>\n",
       "      <td>0.078235</td>\n",
       "      <td>0.055921</td>\n",
       "      <td>0.552827</td>\n",
       "      <td>-0.000174</td>\n",
       "      <td>-0.287405</td>\n",
       "      <td>0.163572</td>\n",
       "      <td>-0.162402</td>\n",
       "      <td>0.270561</td>\n",
       "      <td>-0.339337</td>\n",
       "      <td>0.064979</td>\n",
       "      <td>-0.612864</td>\n",
       "      <td>-0.824892</td>\n",
       "      <td>-0.351727</td>\n",
       "      <td>-0.563472</td>\n",
       "      <td>-0.356341</td>\n",
       "      <td>-1.295389</td>\n",
       "      <td>0.184086</td>\n",
       "    </tr>\n",
       "    <tr>\n",
       "      <th>4183</th>\n",
       "      <td>-1.417801</td>\n",
       "      <td>-1.060475</td>\n",
       "      <td>-1.042617</td>\n",
       "      <td>-1.499608</td>\n",
       "      <td>-0.324641</td>\n",
       "      <td>-0.569293</td>\n",
       "      <td>-0.456970</td>\n",
       "      <td>-1.523328</td>\n",
       "      <td>-0.648950</td>\n",
       "      <td>-1.252981</td>\n",
       "      <td>0.388245</td>\n",
       "      <td>-0.625013</td>\n",
       "      <td>0.665468</td>\n",
       "      <td>-0.327523</td>\n",
       "      <td>-1.288482</td>\n",
       "      <td>-1.563292</td>\n",
       "      <td>-0.302864</td>\n",
       "      <td>0.249064</td>\n",
       "      <td>-0.465214</td>\n",
       "      <td>-1.476494</td>\n",
       "      <td>-0.201951</td>\n",
       "      <td>-0.251571</td>\n",
       "      <td>-0.607915</td>\n",
       "      <td>-0.263740</td>\n",
       "      <td>-0.649867</td>\n",
       "      <td>0.152026</td>\n",
       "      <td>-0.336496</td>\n",
       "      <td>-0.831950</td>\n",
       "      <td>-0.287394</td>\n",
       "      <td>-0.027754</td>\n",
       "      <td>-0.162399</td>\n",
       "      <td>-1.684789</td>\n",
       "      <td>-0.352830</td>\n",
       "      <td>-1.396569</td>\n",
       "      <td>-1.071800</td>\n",
       "      <td>-1.379115</td>\n",
       "      <td>-0.334685</td>\n",
       "      <td>-1.133487</td>\n",
       "      <td>-0.383654</td>\n",
       "      <td>-0.216945</td>\n",
       "      <td>0.157583</td>\n",
       "    </tr>\n",
       "    <tr>\n",
       "      <th>3197</th>\n",
       "      <td>0.196384</td>\n",
       "      <td>0.346939</td>\n",
       "      <td>-0.707194</td>\n",
       "      <td>-2.944032</td>\n",
       "      <td>-1.378257</td>\n",
       "      <td>-0.904627</td>\n",
       "      <td>-1.375449</td>\n",
       "      <td>-0.588983</td>\n",
       "      <td>-0.646093</td>\n",
       "      <td>-1.242339</td>\n",
       "      <td>0.674580</td>\n",
       "      <td>-0.615973</td>\n",
       "      <td>0.095700</td>\n",
       "      <td>-1.133096</td>\n",
       "      <td>-0.471146</td>\n",
       "      <td>-1.725994</td>\n",
       "      <td>-0.278615</td>\n",
       "      <td>0.478011</td>\n",
       "      <td>-0.507286</td>\n",
       "      <td>0.090298</td>\n",
       "      <td>-0.235627</td>\n",
       "      <td>-0.179182</td>\n",
       "      <td>0.214695</td>\n",
       "      <td>-1.331070</td>\n",
       "      <td>0.112076</td>\n",
       "      <td>0.060949</td>\n",
       "      <td>0.563523</td>\n",
       "      <td>0.992891</td>\n",
       "      <td>-0.303410</td>\n",
       "      <td>1.597149</td>\n",
       "      <td>-0.161613</td>\n",
       "      <td>-0.313691</td>\n",
       "      <td>-0.341603</td>\n",
       "      <td>0.059342</td>\n",
       "      <td>-0.613614</td>\n",
       "      <td>-0.354823</td>\n",
       "      <td>-0.369582</td>\n",
       "      <td>0.007651</td>\n",
       "      <td>-0.371967</td>\n",
       "      <td>0.169781</td>\n",
       "      <td>0.132575</td>\n",
       "    </tr>\n",
       "    <tr>\n",
       "      <th>1925</th>\n",
       "      <td>-0.587803</td>\n",
       "      <td>-1.417022</td>\n",
       "      <td>0.010317</td>\n",
       "      <td>-2.162990</td>\n",
       "      <td>-1.856409</td>\n",
       "      <td>0.015449</td>\n",
       "      <td>-0.074879</td>\n",
       "      <td>-1.211469</td>\n",
       "      <td>-0.632971</td>\n",
       "      <td>0.841852</td>\n",
       "      <td>-0.153302</td>\n",
       "      <td>-0.613111</td>\n",
       "      <td>-0.479934</td>\n",
       "      <td>0.017092</td>\n",
       "      <td>-1.029725</td>\n",
       "      <td>-0.572768</td>\n",
       "      <td>-1.524452</td>\n",
       "      <td>-2.154873</td>\n",
       "      <td>0.332879</td>\n",
       "      <td>-2.258560</td>\n",
       "      <td>-0.987529</td>\n",
       "      <td>1.541831</td>\n",
       "      <td>-1.130974</td>\n",
       "      <td>-0.287558</td>\n",
       "      <td>-0.449531</td>\n",
       "      <td>0.061563</td>\n",
       "      <td>-0.475671</td>\n",
       "      <td>-0.821696</td>\n",
       "      <td>-0.283410</td>\n",
       "      <td>-1.273225</td>\n",
       "      <td>-0.155583</td>\n",
       "      <td>-0.709438</td>\n",
       "      <td>-0.347487</td>\n",
       "      <td>-0.361019</td>\n",
       "      <td>0.978297</td>\n",
       "      <td>-0.810845</td>\n",
       "      <td>-0.353722</td>\n",
       "      <td>-0.563633</td>\n",
       "      <td>-0.371475</td>\n",
       "      <td>-1.292501</td>\n",
       "      <td>0.143416</td>\n",
       "    </tr>\n",
       "  </tbody>\n",
       "</table>\n",
       "</div>"
      ],
      "text/plain": [
       "      rougher.input.feed_au  rougher.input.feed_ag  rougher.input.feed_pb  \\\n",
       "2443              -1.063738              -0.918722              -0.404864   \n",
       "1472               2.006857               2.558268               2.033590   \n",
       "4183              -1.417801              -1.060475              -1.042617   \n",
       "3197               0.196384               0.346939              -0.707194   \n",
       "1925              -0.587803              -1.417022               0.010317   \n",
       "\n",
       "      rougher.input.feed_sol  rougher.input.feed_rate  \\\n",
       "2443               -0.372336                -0.016116   \n",
       "1472                0.912378                 0.272175   \n",
       "4183               -1.499608                -0.324641   \n",
       "3197               -2.944032                -1.378257   \n",
       "1925               -2.162990                -1.856409   \n",
       "\n",
       "      rougher.input.feed_size  rougher.input.floatbank10_sulfate  \\\n",
       "2443                -0.376909                           1.375922   \n",
       "1472                -0.294192                           0.277643   \n",
       "4183                -0.569293                          -0.456970   \n",
       "3197                -0.904627                          -1.375449   \n",
       "1925                 0.015449                          -0.074879   \n",
       "\n",
       "      rougher.input.floatbank10_xanthate  rougher.state.floatbank10_a_air  \\\n",
       "2443                           -0.963267                        -0.638724   \n",
       "1472                            1.180723                         1.624390   \n",
       "4183                           -1.523328                        -0.648950   \n",
       "3197                           -0.588983                        -0.646093   \n",
       "1925                           -1.211469                        -0.632971   \n",
       "\n",
       "      rougher.state.floatbank10_a_level  rougher.state.floatbank10_b_air  \\\n",
       "2443                           0.838498                         0.401558   \n",
       "1472                           0.845038                        -0.715306   \n",
       "4183                          -1.252981                         0.388245   \n",
       "3197                          -1.242339                         0.674580   \n",
       "1925                           0.841852                        -0.153302   \n",
       "\n",
       "      rougher.state.floatbank10_b_level  rougher.state.floatbank10_e_air  \\\n",
       "2443                           1.145353                         0.669791   \n",
       "1472                          -0.621090                        -1.030997   \n",
       "4183                          -0.625013                         0.665468   \n",
       "3197                          -0.615973                         0.095700   \n",
       "1925                          -0.613111                        -0.479934   \n",
       "\n",
       "      rougher.input.floatbank11_sulfate  rougher.input.floatbank11_xanthate  \\\n",
       "2443                           1.284965                           -0.801573   \n",
       "1472                           0.319191                            1.071417   \n",
       "4183                          -0.327523                           -1.288482   \n",
       "3197                          -1.133096                           -0.471146   \n",
       "1925                           0.017092                           -1.029725   \n",
       "\n",
       "      primary_cleaner.input.sulfate  primary_cleaner.input.depressant  \\\n",
       "2443                      -0.789163                         -0.297043   \n",
       "1472                       1.738523                          1.872410   \n",
       "4183                      -1.563292                         -0.302864   \n",
       "3197                      -1.725994                         -0.278615   \n",
       "1925                      -0.572768                         -1.524452   \n",
       "\n",
       "      primary_cleaner.input.feed_size  primary_cleaner.input.xanthate  \\\n",
       "2443                        -0.584955                       -0.958233   \n",
       "1472                         1.622743                        0.130709   \n",
       "4183                         0.249064                       -0.465214   \n",
       "3197                         0.478011                       -0.507286   \n",
       "1925                        -2.154873                        0.332879   \n",
       "\n",
       "      primary_cleaner.state.floatbank8_a_air  \\\n",
       "2443                                0.839666   \n",
       "1472                                0.100785   \n",
       "4183                               -1.476494   \n",
       "3197                                0.090298   \n",
       "1925                               -2.258560   \n",
       "\n",
       "      primary_cleaner.state.floatbank8_a_level  \\\n",
       "2443                                 -0.251292   \n",
       "1472                                  3.240756   \n",
       "4183                                 -0.201951   \n",
       "3197                                 -0.235627   \n",
       "1925                                 -0.987529   \n",
       "\n",
       "      primary_cleaner.state.floatbank8_b_level  \\\n",
       "2443                                 -0.228022   \n",
       "1472                                  3.197831   \n",
       "4183                                 -0.251571   \n",
       "3197                                 -0.179182   \n",
       "1925                                  1.541831   \n",
       "\n",
       "      primary_cleaner.state.floatbank8_d_air  \\\n",
       "2443                                0.627815   \n",
       "1472                                0.218718   \n",
       "4183                               -0.607915   \n",
       "3197                                0.214695   \n",
       "1925                               -1.130974   \n",
       "\n",
       "      primary_cleaner.state.floatbank8_d_level  \\\n",
       "2443                                 -0.272455   \n",
       "1472                                  2.064223   \n",
       "4183                                 -0.263740   \n",
       "3197                                 -1.331070   \n",
       "1925                                 -0.287558   \n",
       "\n",
       "      secondary_cleaner.state.floatbank2_a_air  \\\n",
       "2443                                  0.301232   \n",
       "1472                                  0.078235   \n",
       "4183                                 -0.649867   \n",
       "3197                                  0.112076   \n",
       "1925                                 -0.449531   \n",
       "\n",
       "      secondary_cleaner.state.floatbank2_a_level  \\\n",
       "2443                                    0.062364   \n",
       "1472                                    0.055921   \n",
       "4183                                    0.152026   \n",
       "3197                                    0.060949   \n",
       "1925                                    0.061563   \n",
       "\n",
       "      secondary_cleaner.state.floatbank2_b_air  \\\n",
       "2443                                  0.194880   \n",
       "1472                                  0.552827   \n",
       "4183                                 -0.336496   \n",
       "3197                                  0.563523   \n",
       "1925                                 -0.475671   \n",
       "\n",
       "      secondary_cleaner.state.floatbank3_a_air  \\\n",
       "2443                                 -0.489073   \n",
       "1472                                 -0.000174   \n",
       "4183                                 -0.831950   \n",
       "3197                                  0.992891   \n",
       "1925                                 -0.821696   \n",
       "\n",
       "      secondary_cleaner.state.floatbank3_a_level  \\\n",
       "2443                                   -0.280399   \n",
       "1472                                   -0.287405   \n",
       "4183                                   -0.287394   \n",
       "3197                                   -0.303410   \n",
       "1925                                   -0.283410   \n",
       "\n",
       "      secondary_cleaner.state.floatbank3_b_air  \\\n",
       "2443                                 -0.383751   \n",
       "1472                                  0.163572   \n",
       "4183                                 -0.027754   \n",
       "3197                                  1.597149   \n",
       "1925                                 -1.273225   \n",
       "\n",
       "      secondary_cleaner.state.floatbank3_b_level  \\\n",
       "2443                                   -0.160697   \n",
       "1472                                   -0.162402   \n",
       "4183                                   -0.162399   \n",
       "3197                                   -0.161613   \n",
       "1925                                   -0.155583   \n",
       "\n",
       "      secondary_cleaner.state.floatbank4_a_air  \\\n",
       "2443                                 -0.129009   \n",
       "1472                                  0.270561   \n",
       "4183                                 -1.684789   \n",
       "3197                                 -0.313691   \n",
       "1925                                 -0.709438   \n",
       "\n",
       "      secondary_cleaner.state.floatbank4_a_level  \\\n",
       "2443                                   -0.336414   \n",
       "1472                                   -0.339337   \n",
       "4183                                   -0.352830   \n",
       "3197                                   -0.341603   \n",
       "1925                                   -0.347487   \n",
       "\n",
       "      secondary_cleaner.state.floatbank4_b_air  \\\n",
       "2443                                 -0.345275   \n",
       "1472                                  0.064979   \n",
       "4183                                 -1.396569   \n",
       "3197                                  0.059342   \n",
       "1925                                 -0.361019   \n",
       "\n",
       "      secondary_cleaner.state.floatbank4_b_level  \\\n",
       "2443                                    1.272145   \n",
       "1472                                   -0.612864   \n",
       "4183                                   -1.071800   \n",
       "3197                                   -0.613614   \n",
       "1925                                    0.978297   \n",
       "\n",
       "      secondary_cleaner.state.floatbank5_a_air  \\\n",
       "2443                                  0.483972   \n",
       "1472                                 -0.824892   \n",
       "4183                                 -1.379115   \n",
       "3197                                 -0.354823   \n",
       "1925                                 -0.810845   \n",
       "\n",
       "      secondary_cleaner.state.floatbank5_a_level  \\\n",
       "2443                                   -0.343543   \n",
       "1472                                   -0.351727   \n",
       "4183                                   -0.334685   \n",
       "3197                                   -0.369582   \n",
       "1925                                   -0.353722   \n",
       "\n",
       "      secondary_cleaner.state.floatbank5_b_air  \\\n",
       "2443                                  0.202375   \n",
       "1472                                 -0.563472   \n",
       "4183                                 -1.133487   \n",
       "3197                                  0.007651   \n",
       "1925                                 -0.563633   \n",
       "\n",
       "      secondary_cleaner.state.floatbank5_b_level  \\\n",
       "2443                                   -0.365293   \n",
       "1472                                   -0.356341   \n",
       "4183                                   -0.383654   \n",
       "3197                                   -0.371967   \n",
       "1925                                   -0.371475   \n",
       "\n",
       "      secondary_cleaner.state.floatbank6_a_air  \\\n",
       "2443                                 -0.737641   \n",
       "1472                                 -1.295389   \n",
       "4183                                 -0.216945   \n",
       "3197                                  0.169781   \n",
       "1925                                 -1.292501   \n",
       "\n",
       "      secondary_cleaner.state.floatbank6_a_level  \n",
       "2443                                    0.152655  \n",
       "1472                                    0.184086  \n",
       "4183                                    0.157583  \n",
       "3197                                    0.132575  \n",
       "1925                                    0.143416  "
      ]
     },
     "execution_count": 38,
     "metadata": {},
     "output_type": "execute_result"
    }
   ],
   "source": [
    "scaler = StandardScaler()\n",
    "scaler.fit(train_features)\n",
    "\n",
    "train_features = pd.DataFrame(scaler.transform(train_features), columns=train_features.columns)\n",
    "test_features = pd.DataFrame(scaler.transform(test_features), columns=test_features.columns)\n",
    "test_features.sample(5)"
   ]
  },
  {
   "cell_type": "markdown",
   "metadata": {
    "pycharm": {
     "name": "#%% md\n"
    }
   },
   "source": [
    "Напишем функцию для подсчета целевой метрики sMAPE"
   ]
  },
  {
   "cell_type": "code",
   "execution_count": 39,
   "metadata": {
    "pycharm": {
     "name": "#%%\n"
    }
   },
   "outputs": [],
   "source": [
    "def smape(target, predictions):\n",
    "    return (((abs(target - predictions)) / ((abs(target) + abs(predictions)) / 2)).sum() / target.shape[0]) * 100"
   ]
  },
  {
   "cell_type": "code",
   "execution_count": 40,
   "metadata": {
    "pycharm": {
     "name": "#%%\n"
    }
   },
   "outputs": [],
   "source": [
    "custome_score = make_scorer(smape, greater_is_better=False)"
   ]
  },
  {
   "cell_type": "code",
   "execution_count": 41,
   "metadata": {
    "pycharm": {
     "name": "#%%\n"
    }
   },
   "outputs": [],
   "source": [
    "lr = LinearRegression()\n",
    "rf = RandomForestRegressor()\n",
    "dt = DecisionTreeRegressor()"
   ]
  },
  {
   "cell_type": "code",
   "execution_count": 42,
   "metadata": {
    "pycharm": {
     "name": "#%%\n"
    }
   },
   "outputs": [],
   "source": [
    "params_dt = {'max_leaf_nodes': range(10, 21, 5),\n",
    "             'max_depth': range(3, 10, 3),\n",
    "             'min_samples_leaf': [5]}"
   ]
  },
  {
   "cell_type": "code",
   "execution_count": 43,
   "metadata": {
    "pycharm": {
     "name": "#%%\n"
    }
   },
   "outputs": [],
   "source": [
    "params_rf = {'n_estimators': range(50, 101, 25),\n",
    "             'max_depth': range(5, 21, 5),\n",
    "             'min_samples_leaf': [5]}"
   ]
  },
  {
   "cell_type": "code",
   "execution_count": 44,
   "metadata": {
    "pycharm": {
     "name": "#%%\n"
    }
   },
   "outputs": [],
   "source": [
    "def find_best_params(model, params):\n",
    "    grid = GridSearchCV(model, params, cv=5, scoring=custome_score)\n",
    "    grid.fit(train_features, train_target_rougher)\n",
    "    return grid.best_params_"
   ]
  },
  {
   "cell_type": "code",
   "execution_count": 45,
   "metadata": {
    "pycharm": {
     "name": "#%%\n"
    }
   },
   "outputs": [
    {
     "name": "stdout",
     "output_type": "stream",
     "text": [
      "Wall time: 32min 5s\n"
     ]
    },
    {
     "data": {
      "text/plain": [
       "{'max_depth': 5, 'min_samples_leaf': 5, 'n_estimators': 75}"
      ]
     },
     "execution_count": 45,
     "metadata": {},
     "output_type": "execute_result"
    }
   ],
   "source": [
    "%%time\n",
    "find_best_params(rf, params_rf)"
   ]
  },
  {
   "cell_type": "code",
   "execution_count": 46,
   "metadata": {
    "pycharm": {
     "name": "#%%\n"
    }
   },
   "outputs": [
    {
     "name": "stdout",
     "output_type": "stream",
     "text": [
      "Wall time: 10.7 s\n"
     ]
    },
    {
     "data": {
      "text/plain": [
       "{'max_depth': 6, 'max_leaf_nodes': 15, 'min_samples_leaf': 5}"
      ]
     },
     "execution_count": 46,
     "metadata": {},
     "output_type": "execute_result"
    }
   ],
   "source": [
    "%%time\n",
    "find_best_params(dt, params_dt)"
   ]
  },
  {
   "cell_type": "code",
   "execution_count": 47,
   "metadata": {
    "pycharm": {
     "name": "#%%\n"
    }
   },
   "outputs": [],
   "source": [
    "lr = LinearRegression()\n",
    "rf = RandomForestRegressor(random_state = r, max_depth=5, min_samples_leaf=5, n_estimators=50)\n",
    "dt = DecisionTreeRegressor(random_state = r, max_depth=6, max_leaf_nodes=15, min_samples_leaf=5)"
   ]
  },
  {
   "cell_type": "code",
   "execution_count": 48,
   "metadata": {
    "pycharm": {
     "name": "#%%\n"
    }
   },
   "outputs": [],
   "source": [
    "models = [lr, rf, dt]"
   ]
  },
  {
   "cell_type": "code",
   "execution_count": 49,
   "metadata": {
    "pycharm": {
     "name": "#%%\n"
    }
   },
   "outputs": [],
   "source": [
    "def get_smape(model):\n",
    "    model.fit(train_features, train_target_rougher)\n",
    "    preds = model.predict(test_features)\n",
    "    a = smape(test_target_rougher, preds)\n",
    "    model.fit(train_features, train_target_final)\n",
    "    preds2 = model.predict(test_features)\n",
    "    b = smape(test_target_final, preds2)\n",
    "    print(f'for {model}: {a * 0.25 + b * 0.75:.2f}%')"
   ]
  },
  {
   "cell_type": "code",
   "execution_count": 50,
   "metadata": {
    "pycharm": {
     "name": "#%%\n"
    }
   },
   "outputs": [
    {
     "name": "stdout",
     "output_type": "stream",
     "text": [
      "for LinearRegression(): 7.06%\n",
      "for RandomForestRegressor(max_depth=5, min_samples_leaf=5, n_estimators=50,\n",
      "                      random_state=12345): 6.42%\n",
      "for DecisionTreeRegressor(max_depth=6, max_leaf_nodes=15, min_samples_leaf=5,\n",
      "                      random_state=12345): 6.84%\n"
     ]
    }
   ],
   "source": [
    "for m in models:\n",
    "    get_smape(m)"
   ]
  },
  {
   "cell_type": "markdown",
   "metadata": {
    "pycharm": {
     "name": "#%% md\n"
    }
   },
   "source": [
    "Лучшей моделью является рандомный лес"
   ]
  },
  {
   "cell_type": "code",
   "execution_count": 51,
   "metadata": {
    "pycharm": {
     "name": "#%%\n"
    }
   },
   "outputs": [
    {
     "name": "stdout",
     "output_type": "stream",
     "text": [
      "3.73%\n"
     ]
    }
   ],
   "source": [
    "model = rf\n",
    "model.fit(train_features, train_target_rougher)\n",
    "preds = model.predict(test_features)\n",
    "smape_rougher = smape(test_target_rougher, preds)\n",
    "print(f'{smape_rougher:.2f}%')"
   ]
  },
  {
   "cell_type": "code",
   "execution_count": 52,
   "metadata": {
    "pycharm": {
     "name": "#%%\n"
    }
   },
   "outputs": [
    {
     "name": "stdout",
     "output_type": "stream",
     "text": [
      "7.32%\n"
     ]
    }
   ],
   "source": [
    "model.fit(train_features, train_target_final)\n",
    "preds = model.predict(test_features)\n",
    "smape_final = smape(test_target_final, preds)\n",
    "print(f'{smape_final:.2f}%')"
   ]
  },
  {
   "cell_type": "markdown",
   "metadata": {
    "pycharm": {
     "name": "#%% md\n"
    }
   },
   "source": [
    "Сравнием предсказания с константной моделью"
   ]
  },
  {
   "cell_type": "code",
   "execution_count": 53,
   "metadata": {
    "pycharm": {
     "name": "#%%\n"
    }
   },
   "outputs": [
    {
     "name": "stdout",
     "output_type": "stream",
     "text": [
      "5.29%\n"
     ]
    }
   ],
   "source": [
    "pred = pd.Series(train_target_rougher.mean(), train_target_rougher.index)\n",
    "smape_rougher_mean = smape(test_target_rougher, pred)\n",
    "print(f'{smape_rougher_mean:.2f}%')"
   ]
  },
  {
   "cell_type": "code",
   "execution_count": 54,
   "metadata": {
    "pycharm": {
     "name": "#%%\n"
    }
   },
   "outputs": [
    {
     "name": "stdout",
     "output_type": "stream",
     "text": [
      "7.95%\n"
     ]
    }
   ],
   "source": [
    "pred = pd.Series(train_target_final.mean(), train_target_final.index)\n",
    "smape_final_mean = smape(test_target_final, pred)\n",
    "print(f'{smape_final_mean:.2f}%')"
   ]
  },
  {
   "cell_type": "markdown",
   "metadata": {
    "pycharm": {
     "name": "#%% md\n"
    }
   },
   "source": [
    "Модель предсказывает с метрикой smape чуть больше нуля (если smape = 0, модель предсказывает идеально), это значит, что разница между предсказаниями модели и реальными данными относительно невелика. Сравнивая предсказания модели со средним, можно отметить, что модель чуть лучше справляется с этапом final и хорошо на этапе rougher"
   ]
  },
  {
   "cell_type": "markdown",
   "metadata": {
    "pycharm": {
     "name": "#%% md\n"
    }
   },
   "source": [
    "Посчитаем итоговый smape"
   ]
  },
  {
   "cell_type": "code",
   "execution_count": 55,
   "metadata": {
    "collapsed": false,
    "jupyter": {
     "outputs_hidden": false
    },
    "pycharm": {
     "name": "#%%\n"
    }
   },
   "outputs": [
    {
     "name": "stdout",
     "output_type": "stream",
     "text": [
      "6.42%\n"
     ]
    }
   ],
   "source": [
    "summarized_smape = smape_rougher * 0.25 + smape_final * 0.75\n",
    "print(f'{summarized_smape:.2f}%')"
   ]
  },
  {
   "cell_type": "markdown",
   "metadata": {
    "pycharm": {
     "name": "#%% md\n"
    }
   },
   "source": [
    "Таким образом, мы подготовили прототип модели машинного обучения для «Цифры». Перед нами стояла задача построения модели, которая предскажет коэффициент восстановления золота из золотосодержащей руды.\n",
    "\n",
    "В ходе выполнения проекта, были проведены исследования полученных датасетов, проанализированы данные и их взаимосвязи. Были найдены и устранены аномальные значения, заполнены пропуски. Перед построениием моделей, были масштабированы, очищены от нерелевантных признаков данные.\n",
    "\n",
    "Были найдены нулевые значения среди измеренных показателей процессов обработки руды. Следует обратить на них внимание, чтобы найти и устранить их причину.\n",
    "\n",
    "Далее были исследованы 3 модели - линейная регрессия, рандомный лес и дерево решений, в ходе которого наилучшей была выбрана модель рандомный лес."
   ]
  }
 ],
 "metadata": {
  "ExecuteTimeLog": [
   {
    "duration": 12,
    "start_time": "2023-08-09T10:57:44.069Z"
   },
   {
    "duration": 6,
    "start_time": "2023-08-09T10:57:44.492Z"
   },
   {
    "duration": 47,
    "start_time": "2023-08-09T10:57:45.636Z"
   },
   {
    "duration": 1723,
    "start_time": "2023-08-09T10:57:56.255Z"
   },
   {
    "duration": 3317,
    "start_time": "2023-08-09T10:57:57.980Z"
   },
   {
    "duration": 5,
    "start_time": "2023-08-09T10:58:01.300Z"
   },
   {
    "duration": 366,
    "start_time": "2023-08-09T10:58:01.308Z"
   },
   {
    "duration": 120,
    "start_time": "2023-08-09T10:58:01.677Z"
   },
   {
    "duration": 4,
    "start_time": "2023-08-09T10:58:01.799Z"
   },
   {
    "duration": 324,
    "start_time": "2023-08-09T10:58:01.804Z"
   },
   {
    "duration": 5,
    "start_time": "2023-08-09T10:58:02.131Z"
   },
   {
    "duration": 173,
    "start_time": "2023-08-09T10:58:02.138Z"
   },
   {
    "duration": 86,
    "start_time": "2023-08-09T10:58:02.314Z"
   },
   {
    "duration": 57,
    "start_time": "2023-08-09T10:58:02.402Z"
   },
   {
    "duration": 158,
    "start_time": "2023-08-09T10:58:02.460Z"
   },
   {
    "duration": 34,
    "start_time": "2023-08-09T10:58:02.620Z"
   },
   {
    "duration": 1869,
    "start_time": "2023-08-09T10:58:02.658Z"
   },
   {
    "duration": 1791,
    "start_time": "2023-08-09T10:58:04.529Z"
   },
   {
    "duration": 1605,
    "start_time": "2023-08-09T10:58:06.322Z"
   },
   {
    "duration": 7,
    "start_time": "2023-08-09T10:58:07.930Z"
   },
   {
    "duration": 99,
    "start_time": "2023-08-09T10:58:07.939Z"
   },
   {
    "duration": 1557,
    "start_time": "2023-08-09T10:58:16.051Z"
   },
   {
    "duration": 1058,
    "start_time": "2023-08-09T10:58:34.009Z"
   },
   {
    "duration": 945,
    "start_time": "2023-08-09T10:58:50.438Z"
   },
   {
    "duration": 706,
    "start_time": "2023-08-09T10:59:05.844Z"
   },
   {
    "duration": 77,
    "start_time": "2023-08-09T11:09:14.047Z"
   },
   {
    "duration": 10,
    "start_time": "2023-08-09T12:21:49.550Z"
   },
   {
    "duration": 3,
    "start_time": "2023-08-09T12:21:51.855Z"
   },
   {
    "duration": 8,
    "start_time": "2023-08-09T12:23:03.049Z"
   },
   {
    "duration": 7,
    "start_time": "2023-08-09T12:23:11.693Z"
   },
   {
    "duration": 88,
    "start_time": "2023-08-09T12:23:41.186Z"
   },
   {
    "duration": 15,
    "start_time": "2023-08-09T12:23:53.721Z"
   },
   {
    "duration": 14,
    "start_time": "2023-08-09T12:24:08.176Z"
   },
   {
    "duration": 10,
    "start_time": "2023-08-09T12:24:14.403Z"
   },
   {
    "duration": 9,
    "start_time": "2023-08-09T12:24:30.792Z"
   },
   {
    "duration": 10,
    "start_time": "2023-08-09T12:24:32.103Z"
   },
   {
    "duration": 13,
    "start_time": "2023-08-09T12:24:33.228Z"
   },
   {
    "duration": 3,
    "start_time": "2023-08-09T12:25:46.098Z"
   },
   {
    "duration": 10,
    "start_time": "2023-08-09T12:26:21.380Z"
   },
   {
    "duration": 3,
    "start_time": "2023-08-09T12:26:21.882Z"
   },
   {
    "duration": 3,
    "start_time": "2023-08-09T12:26:22.108Z"
   },
   {
    "duration": 11,
    "start_time": "2023-08-09T12:26:22.305Z"
   },
   {
    "duration": 4,
    "start_time": "2023-08-09T12:26:22.758Z"
   },
   {
    "duration": 12,
    "start_time": "2023-08-09T12:26:30.710Z"
   },
   {
    "duration": 3,
    "start_time": "2023-08-09T12:26:37.225Z"
   },
   {
    "duration": 4,
    "start_time": "2023-08-09T12:26:46.290Z"
   },
   {
    "duration": 3,
    "start_time": "2023-08-09T12:26:47.275Z"
   },
   {
    "duration": 11,
    "start_time": "2023-08-09T12:26:53.836Z"
   },
   {
    "duration": 21,
    "start_time": "2023-08-09T12:27:02.501Z"
   },
   {
    "duration": 4,
    "start_time": "2023-08-09T12:27:03.529Z"
   },
   {
    "duration": 1648,
    "start_time": "2023-08-09T12:27:06.580Z"
   },
   {
    "duration": 1699,
    "start_time": "2023-08-09T12:28:12.460Z"
   },
   {
    "duration": 5,
    "start_time": "2023-08-09T12:43:47.032Z"
   },
   {
    "duration": 4,
    "start_time": "2023-08-09T12:43:47.810Z"
   },
   {
    "duration": 7,
    "start_time": "2023-08-09T12:43:48.143Z"
   },
   {
    "duration": 4,
    "start_time": "2023-08-09T12:43:48.792Z"
   },
   {
    "duration": 5,
    "start_time": "2023-08-09T12:43:53.968Z"
   },
   {
    "duration": 14,
    "start_time": "2023-08-09T12:43:57.154Z"
   },
   {
    "duration": 5,
    "start_time": "2023-08-09T12:43:58.421Z"
   },
   {
    "duration": 3,
    "start_time": "2023-08-09T12:43:59.638Z"
   },
   {
    "duration": 17,
    "start_time": "2023-08-09T12:43:59.957Z"
   },
   {
    "duration": 5,
    "start_time": "2023-08-09T12:44:00.386Z"
   },
   {
    "duration": 13,
    "start_time": "2023-08-09T12:45:34.687Z"
   },
   {
    "duration": 3,
    "start_time": "2023-08-09T12:45:35.611Z"
   },
   {
    "duration": 3,
    "start_time": "2023-08-09T12:45:36.035Z"
   },
   {
    "duration": 14,
    "start_time": "2023-08-09T12:45:36.510Z"
   },
   {
    "duration": 8,
    "start_time": "2023-08-09T12:45:36.886Z"
   },
   {
    "duration": 12,
    "start_time": "2023-08-09T12:45:53.028Z"
   },
   {
    "duration": 4,
    "start_time": "2023-08-09T12:45:53.543Z"
   },
   {
    "duration": 3,
    "start_time": "2023-08-09T12:45:53.746Z"
   },
   {
    "duration": 10,
    "start_time": "2023-08-09T12:45:53.975Z"
   },
   {
    "duration": 5,
    "start_time": "2023-08-09T12:45:54.197Z"
   },
   {
    "duration": 10,
    "start_time": "2023-08-09T12:47:18.398Z"
   },
   {
    "duration": 4,
    "start_time": "2023-08-09T12:47:20.647Z"
   },
   {
    "duration": 3,
    "start_time": "2023-08-09T12:47:20.959Z"
   },
   {
    "duration": 14,
    "start_time": "2023-08-09T12:47:21.212Z"
   },
   {
    "duration": 5,
    "start_time": "2023-08-09T12:47:21.435Z"
   },
   {
    "duration": 12,
    "start_time": "2023-08-09T12:49:56.420Z"
   },
   {
    "duration": 3,
    "start_time": "2023-08-09T12:49:57.020Z"
   },
   {
    "duration": 3,
    "start_time": "2023-08-09T12:49:57.303Z"
   },
   {
    "duration": 15,
    "start_time": "2023-08-09T12:49:57.593Z"
   },
   {
    "duration": 4,
    "start_time": "2023-08-09T12:49:58.251Z"
   },
   {
    "duration": 12,
    "start_time": "2023-08-09T12:50:59.209Z"
   },
   {
    "duration": 5,
    "start_time": "2023-08-09T12:50:59.726Z"
   },
   {
    "duration": 4,
    "start_time": "2023-08-09T12:50:59.985Z"
   },
   {
    "duration": 12,
    "start_time": "2023-08-09T12:51:00.245Z"
   },
   {
    "duration": 5,
    "start_time": "2023-08-09T12:51:00.574Z"
   },
   {
    "duration": 12,
    "start_time": "2023-08-09T12:51:22.934Z"
   },
   {
    "duration": 7,
    "start_time": "2023-08-09T12:51:23.952Z"
   },
   {
    "duration": 3,
    "start_time": "2023-08-09T12:51:24.251Z"
   },
   {
    "duration": 7,
    "start_time": "2023-08-09T12:51:24.532Z"
   },
   {
    "duration": 5,
    "start_time": "2023-08-09T12:51:24.763Z"
   },
   {
    "duration": 16,
    "start_time": "2023-08-09T12:51:40.434Z"
   },
   {
    "duration": 4,
    "start_time": "2023-08-09T12:51:40.959Z"
   },
   {
    "duration": 3,
    "start_time": "2023-08-09T12:51:41.168Z"
   },
   {
    "duration": 7,
    "start_time": "2023-08-09T12:51:41.388Z"
   },
   {
    "duration": 5,
    "start_time": "2023-08-09T12:51:41.608Z"
   },
   {
    "duration": 3,
    "start_time": "2023-08-09T12:52:24.513Z"
   },
   {
    "duration": 3,
    "start_time": "2023-08-09T12:52:24.923Z"
   },
   {
    "duration": 10,
    "start_time": "2023-08-09T12:52:25.256Z"
   },
   {
    "duration": 4,
    "start_time": "2023-08-09T12:52:25.604Z"
   },
   {
    "duration": 4,
    "start_time": "2023-08-09T12:52:29.791Z"
   },
   {
    "duration": 6,
    "start_time": "2023-08-09T12:52:30.067Z"
   },
   {
    "duration": 23,
    "start_time": "2023-08-09T12:52:30.334Z"
   },
   {
    "duration": 5,
    "start_time": "2023-08-09T12:52:30.660Z"
   },
   {
    "duration": 12,
    "start_time": "2023-08-09T12:57:01.264Z"
   },
   {
    "duration": 3,
    "start_time": "2023-08-09T12:57:02.429Z"
   },
   {
    "duration": 1721,
    "start_time": "2023-08-09T12:57:04.269Z"
   },
   {
    "duration": 3,
    "start_time": "2023-08-09T12:57:35.437Z"
   },
   {
    "duration": 3,
    "start_time": "2023-08-09T12:57:35.757Z"
   },
   {
    "duration": 13,
    "start_time": "2023-08-09T12:57:36.078Z"
   },
   {
    "duration": 3,
    "start_time": "2023-08-09T12:57:37.366Z"
   },
   {
    "duration": 11,
    "start_time": "2023-08-09T12:57:48.162Z"
   },
   {
    "duration": 4,
    "start_time": "2023-08-09T12:57:49.284Z"
   },
   {
    "duration": 3,
    "start_time": "2023-08-09T12:57:49.529Z"
   },
   {
    "duration": 15,
    "start_time": "2023-08-09T12:57:49.724Z"
   },
   {
    "duration": 4,
    "start_time": "2023-08-09T12:57:50.088Z"
   },
   {
    "duration": 11,
    "start_time": "2023-08-09T12:57:57.904Z"
   },
   {
    "duration": 3,
    "start_time": "2023-08-09T12:57:58.604Z"
   },
   {
    "duration": 4,
    "start_time": "2023-08-09T12:57:58.875Z"
   },
   {
    "duration": 14,
    "start_time": "2023-08-09T12:57:59.208Z"
   },
   {
    "duration": 5,
    "start_time": "2023-08-09T12:57:59.583Z"
   },
   {
    "duration": 1644,
    "start_time": "2023-08-09T12:58:01.159Z"
   },
   {
    "duration": 17,
    "start_time": "2023-08-09T12:58:16.857Z"
   },
   {
    "duration": 17,
    "start_time": "2023-08-09T12:58:19.009Z"
   },
   {
    "duration": 10,
    "start_time": "2023-08-09T12:58:21.846Z"
   },
   {
    "duration": 3,
    "start_time": "2023-08-09T12:58:22.407Z"
   },
   {
    "duration": 3,
    "start_time": "2023-08-09T12:58:22.586Z"
   },
   {
    "duration": 18,
    "start_time": "2023-08-09T12:58:22.859Z"
   },
   {
    "duration": 3,
    "start_time": "2023-08-09T12:58:23.145Z"
   },
   {
    "duration": 14,
    "start_time": "2023-08-09T12:58:28.677Z"
   },
   {
    "duration": 5,
    "start_time": "2023-08-09T12:58:29.467Z"
   },
   {
    "duration": 14,
    "start_time": "2023-08-09T12:58:31.273Z"
   },
   {
    "duration": 4,
    "start_time": "2023-08-09T12:58:31.645Z"
   },
   {
    "duration": 15,
    "start_time": "2023-08-09T12:58:32.413Z"
   },
   {
    "duration": 5,
    "start_time": "2023-08-09T12:58:32.680Z"
   },
   {
    "duration": 15,
    "start_time": "2023-08-09T12:58:33.361Z"
   },
   {
    "duration": 4,
    "start_time": "2023-08-09T12:58:33.617Z"
   },
   {
    "duration": 14,
    "start_time": "2023-08-09T12:58:34.417Z"
   },
   {
    "duration": 4,
    "start_time": "2023-08-09T12:58:34.648Z"
   },
   {
    "duration": 16,
    "start_time": "2023-08-09T12:58:35.313Z"
   },
   {
    "duration": 3,
    "start_time": "2023-08-09T12:58:35.536Z"
   },
   {
    "duration": 1676,
    "start_time": "2023-08-09T12:58:37.295Z"
   },
   {
    "duration": 3,
    "start_time": "2023-08-09T12:58:49.691Z"
   },
   {
    "duration": 3,
    "start_time": "2023-08-09T12:58:50.066Z"
   },
   {
    "duration": 15,
    "start_time": "2023-08-09T12:58:50.366Z"
   },
   {
    "duration": 4,
    "start_time": "2023-08-09T12:58:51.091Z"
   },
   {
    "duration": 11,
    "start_time": "2023-08-09T12:58:52.075Z"
   },
   {
    "duration": 4,
    "start_time": "2023-08-09T12:58:52.646Z"
   },
   {
    "duration": 3,
    "start_time": "2023-08-09T12:58:53.182Z"
   },
   {
    "duration": 19,
    "start_time": "2023-08-09T12:58:53.187Z"
   },
   {
    "duration": 4,
    "start_time": "2023-08-09T12:58:53.515Z"
   },
   {
    "duration": 1612,
    "start_time": "2023-08-09T12:58:56.150Z"
   },
   {
    "duration": 13,
    "start_time": "2023-08-09T13:01:13.578Z"
   },
   {
    "duration": 4,
    "start_time": "2023-08-09T13:01:57.819Z"
   },
   {
    "duration": 22,
    "start_time": "2023-08-09T13:02:06.853Z"
   },
   {
    "duration": 3,
    "start_time": "2023-08-09T13:02:22.448Z"
   },
   {
    "duration": 17,
    "start_time": "2023-08-09T13:14:10.012Z"
   },
   {
    "duration": 15,
    "start_time": "2023-08-09T13:15:33.397Z"
   },
   {
    "duration": 4,
    "start_time": "2023-08-09T13:15:40.715Z"
   },
   {
    "duration": 798,
    "start_time": "2023-08-09T13:15:40.721Z"
   },
   {
    "duration": 4,
    "start_time": "2023-08-09T13:15:41.521Z"
   },
   {
    "duration": 218,
    "start_time": "2023-08-09T13:15:41.527Z"
   },
   {
    "duration": 86,
    "start_time": "2023-08-09T13:15:41.747Z"
   },
   {
    "duration": 4,
    "start_time": "2023-08-09T13:15:41.835Z"
   },
   {
    "duration": 255,
    "start_time": "2023-08-09T13:15:41.868Z"
   },
   {
    "duration": 4,
    "start_time": "2023-08-09T13:15:42.125Z"
   },
   {
    "duration": 23,
    "start_time": "2023-08-09T13:15:42.131Z"
   },
   {
    "duration": 40,
    "start_time": "2023-08-09T13:15:42.156Z"
   },
   {
    "duration": 10,
    "start_time": "2023-08-09T13:15:42.199Z"
   },
   {
    "duration": 4,
    "start_time": "2023-08-09T13:15:42.211Z"
   },
   {
    "duration": 5,
    "start_time": "2023-08-09T13:15:42.217Z"
   },
   {
    "duration": 1687,
    "start_time": "2023-08-09T13:15:42.224Z"
   },
   {
    "duration": 1645,
    "start_time": "2023-08-09T13:15:43.913Z"
   },
   {
    "duration": 1768,
    "start_time": "2023-08-09T13:15:45.561Z"
   },
   {
    "duration": 4,
    "start_time": "2023-08-09T13:15:47.331Z"
   },
   {
    "duration": 10,
    "start_time": "2023-08-09T13:15:47.337Z"
   },
   {
    "duration": 1169,
    "start_time": "2023-08-09T13:15:47.349Z"
   },
   {
    "duration": 683,
    "start_time": "2023-08-09T13:15:48.520Z"
   },
   {
    "duration": 11,
    "start_time": "2023-08-09T13:15:49.205Z"
   },
   {
    "duration": 9,
    "start_time": "2023-08-09T13:15:49.219Z"
   },
   {
    "duration": 17,
    "start_time": "2023-08-09T13:15:49.229Z"
   },
   {
    "duration": 19,
    "start_time": "2023-08-09T13:15:49.248Z"
   },
   {
    "duration": 21,
    "start_time": "2023-08-09T13:15:49.269Z"
   },
   {
    "duration": 1780,
    "start_time": "2023-08-09T13:15:49.292Z"
   },
   {
    "duration": 4,
    "start_time": "2023-08-09T13:15:51.075Z"
   },
   {
    "duration": 5,
    "start_time": "2023-08-09T13:16:13.128Z"
   },
   {
    "duration": 15,
    "start_time": "2023-08-09T13:16:19.583Z"
   },
   {
    "duration": 8,
    "start_time": "2023-08-09T13:16:24.521Z"
   },
   {
    "duration": 10,
    "start_time": "2023-08-09T13:16:27.052Z"
   },
   {
    "duration": 41,
    "start_time": "2023-08-09T13:26:05.377Z"
   },
   {
    "duration": 4,
    "start_time": "2023-08-09T13:26:07.006Z"
   },
   {
    "duration": 16,
    "start_time": "2023-08-09T13:26:08.322Z"
   },
   {
    "duration": 8,
    "start_time": "2023-08-09T13:26:11.648Z"
   },
   {
    "duration": 130,
    "start_time": "2023-08-09T13:26:15.061Z"
   },
   {
    "duration": 8,
    "start_time": "2023-08-09T13:26:17.181Z"
   },
   {
    "duration": 5,
    "start_time": "2023-08-09T13:26:19.599Z"
   },
   {
    "duration": 7,
    "start_time": "2023-08-09T13:26:25.565Z"
   },
   {
    "duration": 31,
    "start_time": "2023-08-09T13:26:27.092Z"
   },
   {
    "duration": 10,
    "start_time": "2023-08-09T13:26:38.758Z"
   },
   {
    "duration": 9,
    "start_time": "2023-08-09T13:27:00.332Z"
   },
   {
    "duration": 9,
    "start_time": "2023-08-09T13:27:03.599Z"
   },
   {
    "duration": 63,
    "start_time": "2023-08-09T13:27:13.902Z"
   },
   {
    "duration": 3,
    "start_time": "2023-08-09T13:27:17.603Z"
   },
   {
    "duration": 3,
    "start_time": "2023-08-09T13:32:02.111Z"
   },
   {
    "duration": 12,
    "start_time": "2023-08-09T13:32:02.742Z"
   },
   {
    "duration": 3,
    "start_time": "2023-08-09T13:32:06.860Z"
   },
   {
    "duration": 3,
    "start_time": "2023-08-09T13:32:07.890Z"
   },
   {
    "duration": 331447,
    "start_time": "2023-08-09T13:32:08.428Z"
   },
   {
    "duration": 195,
    "start_time": "2023-08-09T13:37:39.877Z"
   },
   {
    "duration": 258013,
    "start_time": "2023-08-09T13:44:23.759Z"
   },
   {
    "duration": 0,
    "start_time": "2023-08-09T13:48:41.775Z"
   },
   {
    "duration": 4,
    "start_time": "2023-08-09T13:48:43.079Z"
   },
   {
    "duration": 4,
    "start_time": "2023-08-09T13:48:43.606Z"
   },
   {
    "duration": 5966,
    "start_time": "2023-08-09T13:48:43.860Z"
   },
   {
    "duration": 3,
    "start_time": "2023-08-09T13:48:56.342Z"
   },
   {
    "duration": 14,
    "start_time": "2023-08-09T14:51:03.177Z"
   },
   {
    "duration": 61,
    "start_time": "2023-08-09T14:51:07.784Z"
   },
   {
    "duration": 13,
    "start_time": "2023-08-09T14:51:08.164Z"
   },
   {
    "duration": 4,
    "start_time": "2023-08-09T14:51:14.774Z"
   },
   {
    "duration": 9,
    "start_time": "2023-08-09T14:51:15.492Z"
   },
   {
    "duration": 10,
    "start_time": "2023-08-09T14:51:19.327Z"
   },
   {
    "duration": 4,
    "start_time": "2023-08-09T14:51:19.581Z"
   },
   {
    "duration": 8,
    "start_time": "2023-08-09T14:51:19.785Z"
   },
   {
    "duration": 4,
    "start_time": "2023-08-09T14:51:19.992Z"
   },
   {
    "duration": 10,
    "start_time": "2023-08-09T14:51:20.204Z"
   },
   {
    "duration": 16,
    "start_time": "2023-08-09T14:51:30.333Z"
   },
   {
    "duration": 3,
    "start_time": "2023-08-09T14:51:52.112Z"
   },
   {
    "duration": 2552029,
    "start_time": "2023-08-09T14:51:52.902Z"
   },
   {
    "duration": 0,
    "start_time": "2023-08-09T15:34:24.933Z"
   },
   {
    "duration": 4,
    "start_time": "2023-08-09T15:34:53.949Z"
   },
   {
    "duration": 3,
    "start_time": "2023-08-09T15:34:54.330Z"
   },
   {
    "duration": 4,
    "start_time": "2023-08-09T15:34:55.379Z"
   },
   {
    "duration": 1221829,
    "start_time": "2023-08-09T15:35:02.005Z"
   },
   {
    "duration": 0,
    "start_time": "2023-08-09T15:55:23.837Z"
   },
   {
    "duration": 6,
    "start_time": "2023-08-09T15:55:50.067Z"
   },
   {
    "duration": 3,
    "start_time": "2023-08-09T15:55:50.428Z"
   },
   {
    "duration": 2,
    "start_time": "2023-08-09T15:55:58.418Z"
   },
   {
    "duration": 3,
    "start_time": "2023-08-09T15:56:00.199Z"
   },
   {
    "duration": 5,
    "start_time": "2023-08-09T15:56:05.670Z"
   },
   {
    "duration": 27,
    "start_time": "2023-08-09T15:56:06.976Z"
   },
   {
    "duration": 3,
    "start_time": "2023-08-09T15:56:35.864Z"
   },
   {
    "duration": 4,
    "start_time": "2023-08-09T15:56:36.785Z"
   },
   {
    "duration": 3,
    "start_time": "2023-08-09T15:56:37.317Z"
   },
   {
    "duration": 35489,
    "start_time": "2023-08-09T15:56:37.868Z"
   },
   {
    "duration": 0,
    "start_time": "2023-08-09T15:57:13.368Z"
   },
   {
    "duration": 3,
    "start_time": "2023-08-09T15:57:16.001Z"
   },
   {
    "duration": 4,
    "start_time": "2023-08-09T15:57:21.849Z"
   },
   {
    "duration": 3,
    "start_time": "2023-08-09T15:57:23.322Z"
   },
   {
    "duration": 208183,
    "start_time": "2023-08-09T15:57:24.066Z"
   },
   {
    "duration": 3,
    "start_time": "2023-08-09T16:00:55.004Z"
   },
   {
    "duration": 117216,
    "start_time": "2023-08-09T16:01:05.587Z"
   },
   {
    "duration": 7718,
    "start_time": "2023-08-09T16:03:14.125Z"
   },
   {
    "duration": 4,
    "start_time": "2023-08-09T16:03:30.879Z"
   },
   {
    "duration": 687155,
    "start_time": "2023-08-09T16:03:33.989Z"
   },
   {
    "duration": 4,
    "start_time": "2023-08-09T16:15:58.140Z"
   },
   {
    "duration": 21618,
    "start_time": "2023-08-09T16:16:05.796Z"
   },
   {
    "duration": 3,
    "start_time": "2023-08-09T16:17:07.419Z"
   },
   {
    "duration": 4,
    "start_time": "2023-08-09T16:17:23.194Z"
   },
   {
    "duration": 3,
    "start_time": "2023-08-09T16:17:24.004Z"
   },
   {
    "duration": 3,
    "start_time": "2023-08-09T16:17:24.665Z"
   },
   {
    "duration": 4,
    "start_time": "2023-08-09T16:17:27.615Z"
   },
   {
    "duration": 607,
    "start_time": "2023-08-09T16:17:29.118Z"
   },
   {
    "duration": 3,
    "start_time": "2023-08-09T16:17:55.198Z"
   },
   {
    "duration": 3,
    "start_time": "2023-08-09T16:17:55.805Z"
   },
   {
    "duration": 3,
    "start_time": "2023-08-09T16:17:56.830Z"
   },
   {
    "duration": 21908,
    "start_time": "2023-08-09T16:17:57.453Z"
   },
   {
    "duration": 3,
    "start_time": "2023-08-09T16:19:46.193Z"
   },
   {
    "duration": 21087,
    "start_time": "2023-08-09T16:19:46.553Z"
   },
   {
    "duration": 4,
    "start_time": "2023-08-09T16:21:24.607Z"
   },
   {
    "duration": 4,
    "start_time": "2023-08-09T16:21:42.988Z"
   },
   {
    "duration": 4,
    "start_time": "2023-08-09T16:21:50.495Z"
   },
   {
    "duration": 194,
    "start_time": "2023-08-09T16:21:50.835Z"
   },
   {
    "duration": 4,
    "start_time": "2023-08-09T16:22:02.323Z"
   },
   {
    "duration": 496179,
    "start_time": "2023-08-09T16:22:02.598Z"
   },
   {
    "duration": 8486,
    "start_time": "2023-08-09T16:34:24.682Z"
   },
   {
    "duration": 4,
    "start_time": "2023-08-09T16:34:41.308Z"
   },
   {
    "duration": 8430,
    "start_time": "2023-08-09T16:34:43.204Z"
   },
   {
    "duration": 8400,
    "start_time": "2023-08-09T16:34:53.833Z"
   },
   {
    "duration": 9,
    "start_time": "2023-08-09T16:36:11.045Z"
   },
   {
    "duration": 4,
    "start_time": "2023-08-09T16:36:18.397Z"
   },
   {
    "duration": 18,
    "start_time": "2023-08-09T16:36:33.910Z"
   },
   {
    "duration": 3,
    "start_time": "2023-08-09T16:36:43.542Z"
   },
   {
    "duration": 5,
    "start_time": "2023-08-09T16:36:46.584Z"
   },
   {
    "duration": 486155,
    "start_time": "2023-08-09T16:39:10.183Z"
   },
   {
    "duration": 4,
    "start_time": "2023-08-09T16:48:47.878Z"
   },
   {
    "duration": 2,
    "start_time": "2023-08-09T16:48:48.304Z"
   },
   {
    "duration": 123863,
    "start_time": "2023-08-09T16:48:54.404Z"
   },
   {
    "duration": 26,
    "start_time": "2023-08-09T17:02:14.832Z"
   },
   {
    "duration": 14,
    "start_time": "2023-08-09T17:02:26.560Z"
   },
   {
    "duration": 3,
    "start_time": "2023-08-09T17:02:45.503Z"
   },
   {
    "duration": 14,
    "start_time": "2023-08-09T17:02:46.921Z"
   },
   {
    "duration": 3,
    "start_time": "2023-08-09T17:02:57.148Z"
   },
   {
    "duration": 4,
    "start_time": "2023-08-09T17:02:57.899Z"
   },
   {
    "duration": 3,
    "start_time": "2023-08-09T17:03:09.360Z"
   },
   {
    "duration": 8,
    "start_time": "2023-08-09T17:04:39.550Z"
   },
   {
    "duration": 8,
    "start_time": "2023-08-09T17:05:12.344Z"
   },
   {
    "duration": 3,
    "start_time": "2023-08-09T17:40:57.937Z"
   },
   {
    "duration": 14,
    "start_time": "2023-08-09T17:40:58.292Z"
   },
   {
    "duration": 5,
    "start_time": "2023-08-09T17:41:14.058Z"
   },
   {
    "duration": 5,
    "start_time": "2023-08-09T17:41:15.486Z"
   },
   {
    "duration": 4,
    "start_time": "2023-08-09T17:41:20.761Z"
   },
   {
    "duration": 7,
    "start_time": "2023-08-09T17:41:26.964Z"
   },
   {
    "duration": 4,
    "start_time": "2023-08-09T17:41:28.349Z"
   },
   {
    "duration": 3,
    "start_time": "2023-08-09T17:41:28.792Z"
   },
   {
    "duration": 6,
    "start_time": "2023-08-09T17:41:29.180Z"
   },
   {
    "duration": 5,
    "start_time": "2023-08-09T17:44:00.839Z"
   },
   {
    "duration": 4,
    "start_time": "2023-08-09T17:44:06.130Z"
   },
   {
    "duration": 6,
    "start_time": "2023-08-09T17:44:06.523Z"
   },
   {
    "duration": 12,
    "start_time": "2023-08-09T17:44:07.271Z"
   },
   {
    "duration": 14,
    "start_time": "2023-08-09T17:44:17.379Z"
   },
   {
    "duration": 7,
    "start_time": "2023-08-09T17:44:18.169Z"
   },
   {
    "duration": 3,
    "start_time": "2023-08-09T17:44:22.504Z"
   },
   {
    "duration": 97901,
    "start_time": "2023-08-09T17:44:30.212Z"
   },
   {
    "duration": 0,
    "start_time": "2023-08-09T17:46:08.116Z"
   },
   {
    "duration": 4,
    "start_time": "2023-08-09T17:46:10.101Z"
   },
   {
    "duration": 8,
    "start_time": "2023-08-09T17:46:12.013Z"
   },
   {
    "duration": 12,
    "start_time": "2023-08-09T17:46:12.374Z"
   },
   {
    "duration": 3,
    "start_time": "2023-08-09T17:46:14.339Z"
   },
   {
    "duration": 135444,
    "start_time": "2023-08-09T17:46:36.392Z"
   },
   {
    "duration": 16538,
    "start_time": "2023-08-09T17:54:10.507Z"
   },
   {
    "duration": 78,
    "start_time": "2023-08-09T17:58:12.443Z"
   },
   {
    "duration": 4,
    "start_time": "2023-08-09T17:58:18.122Z"
   },
   {
    "duration": 15892,
    "start_time": "2023-08-09T17:58:55.423Z"
   },
   {
    "duration": 4,
    "start_time": "2023-08-09T17:59:24.632Z"
   },
   {
    "duration": 32078,
    "start_time": "2023-08-09T17:59:32.709Z"
   },
   {
    "duration": 5,
    "start_time": "2023-08-09T18:09:05.486Z"
   },
   {
    "duration": 11,
    "start_time": "2023-08-09T18:09:05.813Z"
   },
   {
    "duration": 3,
    "start_time": "2023-08-09T18:09:23.599Z"
   },
   {
    "duration": 4,
    "start_time": "2023-08-09T18:09:25.046Z"
   },
   {
    "duration": 10,
    "start_time": "2023-08-09T18:09:25.331Z"
   },
   {
    "duration": 4,
    "start_time": "2023-08-09T18:09:53.658Z"
   },
   {
    "duration": 11,
    "start_time": "2023-08-09T18:09:53.948Z"
   },
   {
    "duration": 13,
    "start_time": "2023-08-09T18:10:13.164Z"
   },
   {
    "duration": 11,
    "start_time": "2023-08-09T18:10:13.580Z"
   },
   {
    "duration": 11,
    "start_time": "2023-08-09T18:10:22.187Z"
   },
   {
    "duration": 4,
    "start_time": "2023-08-09T18:10:24.610Z"
   },
   {
    "duration": 11,
    "start_time": "2023-08-09T18:10:27.213Z"
   },
   {
    "duration": 15,
    "start_time": "2023-08-09T18:10:42.650Z"
   },
   {
    "duration": 2,
    "start_time": "2023-08-09T18:11:14.789Z"
   },
   {
    "duration": 3,
    "start_time": "2023-08-09T18:11:16.712Z"
   },
   {
    "duration": 3,
    "start_time": "2023-08-09T18:11:25.239Z"
   },
   {
    "duration": 3,
    "start_time": "2023-08-09T18:11:25.580Z"
   },
   {
    "duration": 3267,
    "start_time": "2023-08-09T18:11:28.016Z"
   },
   {
    "duration": 5,
    "start_time": "2023-08-09T18:11:33.470Z"
   },
   {
    "duration": 3,
    "start_time": "2023-08-09T18:11:33.743Z"
   },
   {
    "duration": 11,
    "start_time": "2023-08-09T18:11:37.468Z"
   },
   {
    "duration": 0,
    "start_time": "2023-08-09T18:12:05.594Z"
   },
   {
    "duration": 0,
    "start_time": "2023-08-09T18:12:05.596Z"
   },
   {
    "duration": 4,
    "start_time": "2023-08-09T18:12:10.646Z"
   },
   {
    "duration": 32057,
    "start_time": "2023-08-09T18:12:12.114Z"
   },
   {
    "duration": 6,
    "start_time": "2023-08-09T18:13:38.594Z"
   },
   {
    "duration": 35123,
    "start_time": "2023-08-09T18:13:39.003Z"
   },
   {
    "duration": 4,
    "start_time": "2023-08-09T18:14:14.128Z"
   },
   {
    "duration": 34145,
    "start_time": "2023-08-09T18:14:20.197Z"
   },
   {
    "duration": 4,
    "start_time": "2023-08-09T18:16:18.148Z"
   },
   {
    "duration": 4,
    "start_time": "2023-08-09T18:16:48.985Z"
   },
   {
    "duration": 30697,
    "start_time": "2023-08-09T18:16:48.991Z"
   },
   {
    "duration": 3,
    "start_time": "2023-08-09T18:19:12.746Z"
   },
   {
    "duration": 3,
    "start_time": "2023-08-09T18:19:13.193Z"
   },
   {
    "duration": 4,
    "start_time": "2023-08-09T18:19:18.514Z"
   },
   {
    "duration": 30768,
    "start_time": "2023-08-09T18:19:18.945Z"
   },
   {
    "duration": 195,
    "start_time": "2023-08-09T18:19:51.772Z"
   },
   {
    "duration": 14702,
    "start_time": "2023-08-09T18:20:23.130Z"
   },
   {
    "duration": 15243,
    "start_time": "2023-08-09T18:20:42.546Z"
   },
   {
    "duration": 3,
    "start_time": "2023-08-09T18:22:08.293Z"
   },
   {
    "duration": 4,
    "start_time": "2023-08-09T18:22:10.860Z"
   },
   {
    "duration": 10,
    "start_time": "2023-08-09T18:27:50.260Z"
   },
   {
    "duration": 51,
    "start_time": "2023-08-09T18:27:51.317Z"
   },
   {
    "duration": 4,
    "start_time": "2023-08-09T18:27:52.879Z"
   },
   {
    "duration": 3,
    "start_time": "2023-08-09T18:27:53.461Z"
   },
   {
    "duration": 4,
    "start_time": "2023-08-09T18:27:57.013Z"
   },
   {
    "duration": 3,
    "start_time": "2023-08-09T18:27:57.418Z"
   },
   {
    "duration": 3,
    "start_time": "2023-08-09T18:27:57.902Z"
   },
   {
    "duration": 3,
    "start_time": "2023-08-09T18:27:59.369Z"
   },
   {
    "duration": 3,
    "start_time": "2023-08-09T18:28:47.632Z"
   },
   {
    "duration": 951272,
    "start_time": "2023-08-09T18:28:49.526Z"
   },
   {
    "duration": 8292,
    "start_time": "2023-08-09T18:44:40.801Z"
   },
   {
    "duration": 4,
    "start_time": "2023-08-09T18:48:20.007Z"
   },
   {
    "duration": 3,
    "start_time": "2023-08-09T18:48:21.283Z"
   },
   {
    "duration": 5,
    "start_time": "2023-08-09T18:48:22.402Z"
   },
   {
    "duration": 16575,
    "start_time": "2023-08-09T18:48:32.992Z"
   },
   {
    "duration": 76,
    "start_time": "2023-08-09T18:49:06.494Z"
   },
   {
    "duration": 198,
    "start_time": "2023-08-09T18:49:06.774Z"
   },
   {
    "duration": 4,
    "start_time": "2023-08-09T18:49:08.512Z"
   },
   {
    "duration": 7751,
    "start_time": "2023-08-09T18:49:13.068Z"
   },
   {
    "duration": 7531,
    "start_time": "2023-08-09T18:49:20.822Z"
   },
   {
    "duration": 4,
    "start_time": "2023-08-09T18:49:28.355Z"
   },
   {
    "duration": 6,
    "start_time": "2023-08-09T18:51:50.894Z"
   },
   {
    "duration": 8,
    "start_time": "2023-08-09T18:54:13.081Z"
   },
   {
    "duration": 8,
    "start_time": "2023-08-09T18:54:40.162Z"
   },
   {
    "duration": 7,
    "start_time": "2023-08-09T18:55:25.429Z"
   },
   {
    "duration": 9,
    "start_time": "2023-08-09T18:55:31.832Z"
   },
   {
    "duration": 13,
    "start_time": "2023-08-09T18:56:13.160Z"
   },
   {
    "duration": 7,
    "start_time": "2023-08-09T18:56:13.851Z"
   },
   {
    "duration": 4,
    "start_time": "2023-08-09T19:06:54.126Z"
   },
   {
    "duration": 17350,
    "start_time": "2023-08-09T19:06:56.421Z"
   },
   {
    "duration": 8874,
    "start_time": "2023-08-09T19:07:43.182Z"
   },
   {
    "duration": 8823,
    "start_time": "2023-08-09T19:07:52.058Z"
   },
   {
    "duration": 8,
    "start_time": "2023-08-09T19:08:42.311Z"
   },
   {
    "duration": 7,
    "start_time": "2023-08-09T19:08:42.610Z"
   },
   {
    "duration": 8,
    "start_time": "2023-08-09T19:09:06.041Z"
   },
   {
    "duration": 16,
    "start_time": "2023-08-09T19:10:04.964Z"
   },
   {
    "duration": 7,
    "start_time": "2023-08-09T19:10:05.832Z"
   },
   {
    "duration": 3,
    "start_time": "2023-08-09T19:11:05.112Z"
   },
   {
    "duration": 4,
    "start_time": "2023-08-09T19:11:07.714Z"
   },
   {
    "duration": 8746,
    "start_time": "2023-08-09T19:11:10.753Z"
   },
   {
    "duration": 8239,
    "start_time": "2023-08-09T19:11:19.501Z"
   },
   {
    "duration": 7767,
    "start_time": "2023-08-09T19:12:05.335Z"
   },
   {
    "duration": 8042,
    "start_time": "2023-08-09T19:12:13.104Z"
   },
   {
    "duration": 7,
    "start_time": "2023-08-09T19:12:21.148Z"
   },
   {
    "duration": 19,
    "start_time": "2023-08-09T19:12:21.173Z"
   },
   {
    "duration": 4,
    "start_time": "2023-08-09T19:12:21.203Z"
   },
   {
    "duration": 1757,
    "start_time": "2023-08-09T19:31:45.095Z"
   },
   {
    "duration": 980,
    "start_time": "2023-08-09T19:31:46.855Z"
   },
   {
    "duration": 4,
    "start_time": "2023-08-09T19:31:47.837Z"
   },
   {
    "duration": 290,
    "start_time": "2023-08-09T19:31:47.843Z"
   },
   {
    "duration": 104,
    "start_time": "2023-08-09T19:31:48.136Z"
   },
   {
    "duration": 3,
    "start_time": "2023-08-09T19:31:48.242Z"
   },
   {
    "duration": 355,
    "start_time": "2023-08-09T19:31:48.248Z"
   },
   {
    "duration": 6,
    "start_time": "2023-08-09T19:31:48.606Z"
   },
   {
    "duration": 77,
    "start_time": "2023-08-09T19:31:48.614Z"
   },
   {
    "duration": 46,
    "start_time": "2023-08-09T19:31:48.694Z"
   },
   {
    "duration": 10,
    "start_time": "2023-08-09T19:31:48.742Z"
   },
   {
    "duration": 35,
    "start_time": "2023-08-09T19:31:48.755Z"
   },
   {
    "duration": 25,
    "start_time": "2023-08-09T19:31:48.792Z"
   },
   {
    "duration": 1871,
    "start_time": "2023-08-09T19:31:48.821Z"
   },
   {
    "duration": 2009,
    "start_time": "2023-08-09T19:31:50.695Z"
   },
   {
    "duration": 1900,
    "start_time": "2023-08-09T19:31:52.706Z"
   },
   {
    "duration": 6,
    "start_time": "2023-08-09T19:31:54.608Z"
   },
   {
    "duration": 11,
    "start_time": "2023-08-09T19:31:54.616Z"
   },
   {
    "duration": 1128,
    "start_time": "2023-08-09T19:31:54.629Z"
   },
   {
    "duration": 993,
    "start_time": "2023-08-09T19:31:55.759Z"
   },
   {
    "duration": 24,
    "start_time": "2023-08-09T19:31:56.754Z"
   },
   {
    "duration": 13,
    "start_time": "2023-08-09T19:31:56.781Z"
   },
   {
    "duration": 7,
    "start_time": "2023-08-09T19:31:56.797Z"
   },
   {
    "duration": 27,
    "start_time": "2023-08-09T19:31:56.807Z"
   },
   {
    "duration": 4,
    "start_time": "2023-08-09T19:31:56.836Z"
   },
   {
    "duration": 1767,
    "start_time": "2023-08-09T19:31:56.842Z"
   },
   {
    "duration": 11,
    "start_time": "2023-08-09T19:31:58.611Z"
   },
   {
    "duration": 75,
    "start_time": "2023-08-09T19:31:58.624Z"
   },
   {
    "duration": 7,
    "start_time": "2023-08-09T19:31:58.702Z"
   },
   {
    "duration": 19,
    "start_time": "2023-08-09T19:31:58.711Z"
   },
   {
    "duration": 13,
    "start_time": "2023-08-09T19:31:58.732Z"
   },
   {
    "duration": 169,
    "start_time": "2023-08-09T19:31:58.747Z"
   },
   {
    "duration": 9,
    "start_time": "2023-08-09T19:31:58.919Z"
   },
   {
    "duration": 15,
    "start_time": "2023-08-09T19:31:58.929Z"
   },
   {
    "duration": 46,
    "start_time": "2023-08-09T19:31:58.945Z"
   },
   {
    "duration": 42,
    "start_time": "2023-08-09T19:31:58.995Z"
   },
   {
    "duration": 10,
    "start_time": "2023-08-09T19:31:59.039Z"
   },
   {
    "duration": 76,
    "start_time": "2023-08-09T19:31:59.051Z"
   },
   {
    "duration": 3,
    "start_time": "2023-08-09T19:31:59.129Z"
   },
   {
    "duration": 155,
    "start_time": "2023-08-09T19:31:59.134Z"
   },
   {
    "duration": 0,
    "start_time": "2023-08-09T19:31:59.293Z"
   },
   {
    "duration": 0,
    "start_time": "2023-08-09T19:31:59.294Z"
   },
   {
    "duration": 0,
    "start_time": "2023-08-09T19:31:59.297Z"
   },
   {
    "duration": 0,
    "start_time": "2023-08-09T19:31:59.298Z"
   },
   {
    "duration": 0,
    "start_time": "2023-08-09T19:31:59.299Z"
   },
   {
    "duration": 0,
    "start_time": "2023-08-09T19:31:59.300Z"
   },
   {
    "duration": 0,
    "start_time": "2023-08-09T19:31:59.307Z"
   },
   {
    "duration": 0,
    "start_time": "2023-08-09T19:31:59.309Z"
   },
   {
    "duration": 0,
    "start_time": "2023-08-09T19:31:59.310Z"
   },
   {
    "duration": 0,
    "start_time": "2023-08-09T19:31:59.312Z"
   },
   {
    "duration": 0,
    "start_time": "2023-08-09T19:31:59.313Z"
   },
   {
    "duration": 0,
    "start_time": "2023-08-09T19:31:59.314Z"
   },
   {
    "duration": 0,
    "start_time": "2023-08-09T19:31:59.315Z"
   },
   {
    "duration": 0,
    "start_time": "2023-08-09T19:31:59.316Z"
   },
   {
    "duration": 0,
    "start_time": "2023-08-09T19:31:59.317Z"
   },
   {
    "duration": 2,
    "start_time": "2023-08-09T19:45:09.525Z"
   },
   {
    "duration": 4,
    "start_time": "2023-08-09T19:45:11.697Z"
   },
   {
    "duration": 2,
    "start_time": "2023-08-09T19:45:11.843Z"
   },
   {
    "duration": 3,
    "start_time": "2023-08-09T19:45:12.002Z"
   },
   {
    "duration": 3,
    "start_time": "2023-08-09T19:45:12.156Z"
   },
   {
    "duration": 50,
    "start_time": "2023-08-11T10:55:15.549Z"
   }
  ],
  "kernelspec": {
   "display_name": "Python 3 (ipykernel)",
   "language": "python",
   "name": "python3"
  },
  "language_info": {
   "codemirror_mode": {
    "name": "ipython",
    "version": 3
   },
   "file_extension": ".py",
   "mimetype": "text/x-python",
   "name": "python",
   "nbconvert_exporter": "python",
   "pygments_lexer": "ipython3",
   "version": "3.9.5"
  },
  "toc": {
   "base_numbering": 1,
   "nav_menu": {},
   "number_sections": true,
   "sideBar": true,
   "skip_h1_title": true,
   "title_cell": "Содержание",
   "title_sidebar": "Contents",
   "toc_cell": true,
   "toc_position": {
    "height": "calc(100% - 180px)",
    "left": "10px",
    "top": "150px",
    "width": "199px"
   },
   "toc_section_display": true,
   "toc_window_display": true
  }
 },
 "nbformat": 4,
 "nbformat_minor": 4
}