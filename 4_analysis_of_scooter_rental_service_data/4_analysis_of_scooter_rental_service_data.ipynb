{
 "cells": [
  {
   "cell_type": "markdown",
   "source": [
    "# Анализ данных сервиса аренды самокатов"
   ],
   "metadata": {
    "collapsed": false,
    "pycharm": {
     "name": "#%% md\n"
    }
   }
  },
  {
   "cell_type": "markdown",
   "metadata": {
    "pycharm": {
     "name": "#%% md\n"
    }
   },
   "source": [
    "### Загрузка данных"
   ]
  },
  {
   "cell_type": "markdown",
   "metadata": {
    "pycharm": {
     "name": "#%% md\n"
    }
   },
   "source": [
    "В основных данных есть информация о пользователях, их поездках и подписках. Всего 3 таблицы с данными.\n",
    "\n",
    "Пользователи:\n",
    "\n",
    "user_id - уникальный идентификатор пользователя  \n",
    "name - имя пользователя   \n",
    "age - возраст   \n",
    "city - город   \n",
    "subscription_type - тип подписки (free, ultra)   \n",
    "\n",
    "\n",
    "Поездки:\n",
    "\n",
    "user_id - уникальный идентификатор пользователя  \n",
    "distance - расстояние, которое пользователь проехал в текущей сессии (в метрах)  \n",
    "duration - продолжительность сессии (в минутах) — время с того момента, как пользователь нажал кнопку «Начать поездку» до момента, как он нажал кнопку «Завершить поездку»  \n",
    "date - дата совершения поездки  \n",
    "\n",
    "Подписки:\n",
    "  \n",
    "subscription_type - тип подписки  \n",
    "minute_price - стоимость одной минуты поездки по данной подписке  \n",
    "start_ride_price - стоимость начала поездки  \n",
    "subscription_fee - стоимость ежемесячного платежа"
   ]
  },
  {
   "cell_type": "code",
   "execution_count": 1,
   "metadata": {
    "pycharm": {
     "name": "#%%\n"
    }
   },
   "outputs": [],
   "source": [
    "import pandas as pd\n",
    "import numpy as np\n",
    "\n",
    "from matplotlib import pyplot as plt\n",
    "import seaborn as sns\n",
    "\n",
    "from scipy import stats as st\n",
    "from scipy.stats import binom\n",
    "\n",
    "pd.set_option('display.max_columns', None)"
   ]
  },
  {
   "cell_type": "code",
   "execution_count": 2,
   "metadata": {
    "pycharm": {
     "name": "#%%\n"
    }
   },
   "outputs": [],
   "source": [
    "users = pd.read_csv('users_go.csv')\n",
    "rides = pd.read_csv('rides_go.csv')\n",
    "subscriptions = pd.read_csv('subscriptions_go.csv')"
   ]
  },
  {
   "cell_type": "markdown",
   "metadata": {
    "pycharm": {
     "name": "#%% md\n"
    }
   },
   "source": [
    "Посмотрим внешне на эти данные"
   ]
  },
  {
   "cell_type": "code",
   "execution_count": 3,
   "metadata": {
    "pycharm": {
     "name": "#%%\n"
    }
   },
   "outputs": [
    {
     "name": "stdout",
     "output_type": "stream",
     "text": [
      "<class 'pandas.core.frame.DataFrame'>\n",
      "RangeIndex: 1565 entries, 0 to 1564\n",
      "Data columns (total 5 columns):\n",
      " #   Column             Non-Null Count  Dtype \n",
      "---  ------             --------------  ----- \n",
      " 0   user_id            1565 non-null   int64 \n",
      " 1   name               1565 non-null   object\n",
      " 2   age                1565 non-null   int64 \n",
      " 3   city               1565 non-null   object\n",
      " 4   subscription_type  1565 non-null   object\n",
      "dtypes: int64(2), object(3)\n",
      "memory usage: 61.3+ KB\n"
     ]
    }
   ],
   "source": [
    "users.info()"
   ]
  },
  {
   "cell_type": "code",
   "execution_count": 4,
   "metadata": {
    "pycharm": {
     "name": "#%%\n"
    }
   },
   "outputs": [
    {
     "data": {
      "text/plain": "      user_id      name  age            city subscription_type\n1239     1240  Анжелика   25  Ростов-на-Дону              free\n399       400      Петр   21  Ростов-на-Дону             ultra\n923       924     Мария   23       Пятигорск              free\n681       682   Евгения   23            Сочи             ultra\n164       165    Оксана   31       Краснодар             ultra",
      "text/html": "<div>\n<style scoped>\n    .dataframe tbody tr th:only-of-type {\n        vertical-align: middle;\n    }\n\n    .dataframe tbody tr th {\n        vertical-align: top;\n    }\n\n    .dataframe thead th {\n        text-align: right;\n    }\n</style>\n<table border=\"1\" class=\"dataframe\">\n  <thead>\n    <tr style=\"text-align: right;\">\n      <th></th>\n      <th>user_id</th>\n      <th>name</th>\n      <th>age</th>\n      <th>city</th>\n      <th>subscription_type</th>\n    </tr>\n  </thead>\n  <tbody>\n    <tr>\n      <th>1239</th>\n      <td>1240</td>\n      <td>Анжелика</td>\n      <td>25</td>\n      <td>Ростов-на-Дону</td>\n      <td>free</td>\n    </tr>\n    <tr>\n      <th>399</th>\n      <td>400</td>\n      <td>Петр</td>\n      <td>21</td>\n      <td>Ростов-на-Дону</td>\n      <td>ultra</td>\n    </tr>\n    <tr>\n      <th>923</th>\n      <td>924</td>\n      <td>Мария</td>\n      <td>23</td>\n      <td>Пятигорск</td>\n      <td>free</td>\n    </tr>\n    <tr>\n      <th>681</th>\n      <td>682</td>\n      <td>Евгения</td>\n      <td>23</td>\n      <td>Сочи</td>\n      <td>ultra</td>\n    </tr>\n    <tr>\n      <th>164</th>\n      <td>165</td>\n      <td>Оксана</td>\n      <td>31</td>\n      <td>Краснодар</td>\n      <td>ultra</td>\n    </tr>\n  </tbody>\n</table>\n</div>"
     },
     "execution_count": 4,
     "metadata": {},
     "output_type": "execute_result"
    }
   ],
   "source": [
    "users.sample(5)"
   ]
  },
  {
   "cell_type": "code",
   "execution_count": 5,
   "metadata": {
    "pycharm": {
     "name": "#%%\n"
    }
   },
   "outputs": [
    {
     "name": "stdout",
     "output_type": "stream",
     "text": [
      "<class 'pandas.core.frame.DataFrame'>\n",
      "RangeIndex: 18068 entries, 0 to 18067\n",
      "Data columns (total 4 columns):\n",
      " #   Column    Non-Null Count  Dtype  \n",
      "---  ------    --------------  -----  \n",
      " 0   user_id   18068 non-null  int64  \n",
      " 1   distance  18068 non-null  float64\n",
      " 2   duration  18068 non-null  float64\n",
      " 3   date      18068 non-null  object \n",
      "dtypes: float64(2), int64(1), object(1)\n",
      "memory usage: 564.8+ KB\n"
     ]
    }
   ],
   "source": [
    "rides.info()"
   ]
  },
  {
   "cell_type": "code",
   "execution_count": 6,
   "metadata": {
    "pycharm": {
     "name": "#%%\n"
    }
   },
   "outputs": [
    {
     "data": {
      "text/plain": "       user_id     distance   duration        date\n7744       789  2935.839496  20.009398  2021-05-25\n13802     1231  3437.494853  21.932680  2021-12-24\n4925       530  3097.700626  22.275860  2021-08-29\n16709     1436   661.887919  16.836663  2021-08-26\n17328     1484  2818.089185  14.038763  2021-05-19",
      "text/html": "<div>\n<style scoped>\n    .dataframe tbody tr th:only-of-type {\n        vertical-align: middle;\n    }\n\n    .dataframe tbody tr th {\n        vertical-align: top;\n    }\n\n    .dataframe thead th {\n        text-align: right;\n    }\n</style>\n<table border=\"1\" class=\"dataframe\">\n  <thead>\n    <tr style=\"text-align: right;\">\n      <th></th>\n      <th>user_id</th>\n      <th>distance</th>\n      <th>duration</th>\n      <th>date</th>\n    </tr>\n  </thead>\n  <tbody>\n    <tr>\n      <th>7744</th>\n      <td>789</td>\n      <td>2935.839496</td>\n      <td>20.009398</td>\n      <td>2021-05-25</td>\n    </tr>\n    <tr>\n      <th>13802</th>\n      <td>1231</td>\n      <td>3437.494853</td>\n      <td>21.932680</td>\n      <td>2021-12-24</td>\n    </tr>\n    <tr>\n      <th>4925</th>\n      <td>530</td>\n      <td>3097.700626</td>\n      <td>22.275860</td>\n      <td>2021-08-29</td>\n    </tr>\n    <tr>\n      <th>16709</th>\n      <td>1436</td>\n      <td>661.887919</td>\n      <td>16.836663</td>\n      <td>2021-08-26</td>\n    </tr>\n    <tr>\n      <th>17328</th>\n      <td>1484</td>\n      <td>2818.089185</td>\n      <td>14.038763</td>\n      <td>2021-05-19</td>\n    </tr>\n  </tbody>\n</table>\n</div>"
     },
     "execution_count": 6,
     "metadata": {},
     "output_type": "execute_result"
    }
   ],
   "source": [
    "rides.sample(5)"
   ]
  },
  {
   "cell_type": "code",
   "execution_count": 7,
   "metadata": {
    "pycharm": {
     "name": "#%%\n"
    }
   },
   "outputs": [
    {
     "name": "stdout",
     "output_type": "stream",
     "text": [
      "<class 'pandas.core.frame.DataFrame'>\n",
      "RangeIndex: 2 entries, 0 to 1\n",
      "Data columns (total 4 columns):\n",
      " #   Column             Non-Null Count  Dtype \n",
      "---  ------             --------------  ----- \n",
      " 0   subscription_type  2 non-null      object\n",
      " 1   minute_price       2 non-null      int64 \n",
      " 2   start_ride_price   2 non-null      int64 \n",
      " 3   subscription_fee   2 non-null      int64 \n",
      "dtypes: int64(3), object(1)\n",
      "memory usage: 192.0+ bytes\n"
     ]
    }
   ],
   "source": [
    "subscriptions.info()"
   ]
  },
  {
   "cell_type": "code",
   "execution_count": 8,
   "metadata": {
    "pycharm": {
     "name": "#%%\n"
    }
   },
   "outputs": [
    {
     "data": {
      "text/plain": "  subscription_type  minute_price  start_ride_price  subscription_fee\n0              free             8                50                 0\n1             ultra             6                 0               199",
      "text/html": "<div>\n<style scoped>\n    .dataframe tbody tr th:only-of-type {\n        vertical-align: middle;\n    }\n\n    .dataframe tbody tr th {\n        vertical-align: top;\n    }\n\n    .dataframe thead th {\n        text-align: right;\n    }\n</style>\n<table border=\"1\" class=\"dataframe\">\n  <thead>\n    <tr style=\"text-align: right;\">\n      <th></th>\n      <th>subscription_type</th>\n      <th>minute_price</th>\n      <th>start_ride_price</th>\n      <th>subscription_fee</th>\n    </tr>\n  </thead>\n  <tbody>\n    <tr>\n      <th>0</th>\n      <td>free</td>\n      <td>8</td>\n      <td>50</td>\n      <td>0</td>\n    </tr>\n    <tr>\n      <th>1</th>\n      <td>ultra</td>\n      <td>6</td>\n      <td>0</td>\n      <td>199</td>\n    </tr>\n  </tbody>\n</table>\n</div>"
     },
     "execution_count": 8,
     "metadata": {},
     "output_type": "execute_result"
    }
   ],
   "source": [
    "subscriptions"
   ]
  },
  {
   "cell_type": "markdown",
   "metadata": {
    "pycharm": {
     "name": "#%% md\n"
    }
   },
   "source": [
    "По общей информации о каждом датафрейме можно отметить, что пропусков в них нет. Типы данных почти всех столбцов корректные, необходимо заменить тип данных в столбце date на datetime. Таблица subscriptions не нуждается в предобработке.\n",
    "\n",
    " Возможно есть дубликаты явные/неявные, аномалии."
   ]
  },
  {
   "cell_type": "markdown",
   "metadata": {
    "pycharm": {
     "name": "#%% md\n"
    }
   },
   "source": [
    "### Предобработка данных"
   ]
  },
  {
   "cell_type": "markdown",
   "metadata": {
    "pycharm": {
     "name": "#%% md\n"
    }
   },
   "source": [
    "Рассмотрим таблицу users на предмет дубликатов."
   ]
  },
  {
   "cell_type": "code",
   "execution_count": 9,
   "outputs": [
    {
     "data": {
      "text/plain": "      user_id      name  age          city subscription_type\n1114     1115      Анна   29  Екатеринбург              free\n313       314  Святогор   28  Екатеринбург             ultra\n1144     1145     Назар   22          Сочи              free\n1074     1075      Ника   33        Тюмень              free\n976       977    Амалия   22        Москва              free",
      "text/html": "<div>\n<style scoped>\n    .dataframe tbody tr th:only-of-type {\n        vertical-align: middle;\n    }\n\n    .dataframe tbody tr th {\n        vertical-align: top;\n    }\n\n    .dataframe thead th {\n        text-align: right;\n    }\n</style>\n<table border=\"1\" class=\"dataframe\">\n  <thead>\n    <tr style=\"text-align: right;\">\n      <th></th>\n      <th>user_id</th>\n      <th>name</th>\n      <th>age</th>\n      <th>city</th>\n      <th>subscription_type</th>\n    </tr>\n  </thead>\n  <tbody>\n    <tr>\n      <th>1114</th>\n      <td>1115</td>\n      <td>Анна</td>\n      <td>29</td>\n      <td>Екатеринбург</td>\n      <td>free</td>\n    </tr>\n    <tr>\n      <th>313</th>\n      <td>314</td>\n      <td>Святогор</td>\n      <td>28</td>\n      <td>Екатеринбург</td>\n      <td>ultra</td>\n    </tr>\n    <tr>\n      <th>1144</th>\n      <td>1145</td>\n      <td>Назар</td>\n      <td>22</td>\n      <td>Сочи</td>\n      <td>free</td>\n    </tr>\n    <tr>\n      <th>1074</th>\n      <td>1075</td>\n      <td>Ника</td>\n      <td>33</td>\n      <td>Тюмень</td>\n      <td>free</td>\n    </tr>\n    <tr>\n      <th>976</th>\n      <td>977</td>\n      <td>Амалия</td>\n      <td>22</td>\n      <td>Москва</td>\n      <td>free</td>\n    </tr>\n  </tbody>\n</table>\n</div>"
     },
     "execution_count": 9,
     "metadata": {},
     "output_type": "execute_result"
    }
   ],
   "source": [
    "users.sample(5)"
   ],
   "metadata": {
    "collapsed": false,
    "pycharm": {
     "name": "#%%\n"
    }
   }
  },
  {
   "cell_type": "code",
   "execution_count": 10,
   "metadata": {
    "pycharm": {
     "name": "#%%\n"
    }
   },
   "outputs": [
    {
     "data": {
      "text/plain": "31"
     },
     "execution_count": 10,
     "metadata": {},
     "output_type": "execute_result"
    }
   ],
   "source": [
    "users.duplicated().sum()"
   ]
  },
  {
   "cell_type": "code",
   "execution_count": 11,
   "metadata": {
    "pycharm": {
     "name": "#%%\n"
    }
   },
   "outputs": [
    {
     "data": {
      "text/plain": "0"
     },
     "execution_count": 11,
     "metadata": {},
     "output_type": "execute_result"
    }
   ],
   "source": [
    "users.drop_duplicates(inplace=True)\n",
    "users.duplicated().sum()"
   ]
  },
  {
   "cell_type": "markdown",
   "metadata": {
    "pycharm": {
     "name": "#%% md\n"
    }
   },
   "source": [
    " Рассмотрим таблицу rides на наличие дубликатов и заменим тип данных, где необходимо"
   ]
  },
  {
   "cell_type": "code",
   "execution_count": 12,
   "metadata": {
    "pycharm": {
     "name": "#%%\n"
    }
   },
   "outputs": [
    {
     "data": {
      "text/plain": "       user_id     distance   duration        date\n13530     1212  4890.429345  27.339110  2021-12-27\n5215       560  3205.883627  24.314883  2021-12-12\n2345       250   739.222119   8.168095  2021-02-20\n4319       465  3613.695262  24.678594  2021-04-14\n6171       661  3418.818022  13.796267  2021-05-27",
      "text/html": "<div>\n<style scoped>\n    .dataframe tbody tr th:only-of-type {\n        vertical-align: middle;\n    }\n\n    .dataframe tbody tr th {\n        vertical-align: top;\n    }\n\n    .dataframe thead th {\n        text-align: right;\n    }\n</style>\n<table border=\"1\" class=\"dataframe\">\n  <thead>\n    <tr style=\"text-align: right;\">\n      <th></th>\n      <th>user_id</th>\n      <th>distance</th>\n      <th>duration</th>\n      <th>date</th>\n    </tr>\n  </thead>\n  <tbody>\n    <tr>\n      <th>13530</th>\n      <td>1212</td>\n      <td>4890.429345</td>\n      <td>27.339110</td>\n      <td>2021-12-27</td>\n    </tr>\n    <tr>\n      <th>5215</th>\n      <td>560</td>\n      <td>3205.883627</td>\n      <td>24.314883</td>\n      <td>2021-12-12</td>\n    </tr>\n    <tr>\n      <th>2345</th>\n      <td>250</td>\n      <td>739.222119</td>\n      <td>8.168095</td>\n      <td>2021-02-20</td>\n    </tr>\n    <tr>\n      <th>4319</th>\n      <td>465</td>\n      <td>3613.695262</td>\n      <td>24.678594</td>\n      <td>2021-04-14</td>\n    </tr>\n    <tr>\n      <th>6171</th>\n      <td>661</td>\n      <td>3418.818022</td>\n      <td>13.796267</td>\n      <td>2021-05-27</td>\n    </tr>\n  </tbody>\n</table>\n</div>"
     },
     "execution_count": 12,
     "metadata": {},
     "output_type": "execute_result"
    }
   ],
   "source": [
    "rides.sample(5)"
   ]
  },
  {
   "cell_type": "code",
   "execution_count": 13,
   "metadata": {
    "pycharm": {
     "name": "#%%\n"
    }
   },
   "outputs": [
    {
     "data": {
      "text/plain": "0"
     },
     "execution_count": 13,
     "metadata": {},
     "output_type": "execute_result"
    }
   ],
   "source": [
    "rides.duplicated().sum()"
   ]
  },
  {
   "cell_type": "markdown",
   "metadata": {
    "pycharm": {
     "name": "#%% md\n"
    }
   },
   "source": [
    "Дубликатов нет, столбец date переведем в тип данных datetime"
   ]
  },
  {
   "cell_type": "code",
   "execution_count": 14,
   "metadata": {
    "pycharm": {
     "name": "#%%\n"
    }
   },
   "outputs": [
    {
     "name": "stdout",
     "output_type": "stream",
     "text": [
      "<class 'pandas.core.frame.DataFrame'>\n",
      "RangeIndex: 18068 entries, 0 to 18067\n",
      "Data columns (total 4 columns):\n",
      " #   Column    Non-Null Count  Dtype         \n",
      "---  ------    --------------  -----         \n",
      " 0   user_id   18068 non-null  int64         \n",
      " 1   distance  18068 non-null  float64       \n",
      " 2   duration  18068 non-null  float64       \n",
      " 3   date      18068 non-null  datetime64[ns]\n",
      "dtypes: datetime64[ns](1), float64(2), int64(1)\n",
      "memory usage: 564.8 KB\n"
     ]
    }
   ],
   "source": [
    "rides['date'] = pd.to_datetime(rides['date'], format='%Y-%m-%d')\n",
    "rides.info()"
   ]
  },
  {
   "cell_type": "markdown",
   "metadata": {
    "pycharm": {
     "name": "#%% md\n"
    }
   },
   "source": [
    "Добавим новый столбец month - месяц поездки. Для начала проверим, за какой период данные"
   ]
  },
  {
   "cell_type": "code",
   "execution_count": 15,
   "metadata": {
    "pycharm": {
     "name": "#%%\n"
    }
   },
   "outputs": [
    {
     "data": {
      "text/plain": "array([2021])"
     },
     "execution_count": 15,
     "metadata": {},
     "output_type": "execute_result"
    }
   ],
   "source": [
    "rides['date'].dt.year.unique()"
   ]
  },
  {
   "cell_type": "markdown",
   "metadata": {
    "pycharm": {
     "name": "#%% md\n"
    }
   },
   "source": [
    "Данные только за 2021 год, можем спокойно группировать по месяцам, без группировки по годам."
   ]
  },
  {
   "cell_type": "code",
   "execution_count": 16,
   "metadata": {
    "pycharm": {
     "name": "#%%\n"
    }
   },
   "outputs": [
    {
     "data": {
      "text/plain": "      user_id     distance   duration       date  month\n5782      616   381.179906   4.633628 2021-07-02      7\n3982      430  2945.343619  17.545208 2021-03-06      3\n7763      790  2447.549377  20.790198 2021-07-11      7\n5932      632  3107.841000  15.968851 2021-03-26      3\n5387      577  2736.084558  15.462049 2021-02-17      2",
      "text/html": "<div>\n<style scoped>\n    .dataframe tbody tr th:only-of-type {\n        vertical-align: middle;\n    }\n\n    .dataframe tbody tr th {\n        vertical-align: top;\n    }\n\n    .dataframe thead th {\n        text-align: right;\n    }\n</style>\n<table border=\"1\" class=\"dataframe\">\n  <thead>\n    <tr style=\"text-align: right;\">\n      <th></th>\n      <th>user_id</th>\n      <th>distance</th>\n      <th>duration</th>\n      <th>date</th>\n      <th>month</th>\n    </tr>\n  </thead>\n  <tbody>\n    <tr>\n      <th>5782</th>\n      <td>616</td>\n      <td>381.179906</td>\n      <td>4.633628</td>\n      <td>2021-07-02</td>\n      <td>7</td>\n    </tr>\n    <tr>\n      <th>3982</th>\n      <td>430</td>\n      <td>2945.343619</td>\n      <td>17.545208</td>\n      <td>2021-03-06</td>\n      <td>3</td>\n    </tr>\n    <tr>\n      <th>7763</th>\n      <td>790</td>\n      <td>2447.549377</td>\n      <td>20.790198</td>\n      <td>2021-07-11</td>\n      <td>7</td>\n    </tr>\n    <tr>\n      <th>5932</th>\n      <td>632</td>\n      <td>3107.841000</td>\n      <td>15.968851</td>\n      <td>2021-03-26</td>\n      <td>3</td>\n    </tr>\n    <tr>\n      <th>5387</th>\n      <td>577</td>\n      <td>2736.084558</td>\n      <td>15.462049</td>\n      <td>2021-02-17</td>\n      <td>2</td>\n    </tr>\n  </tbody>\n</table>\n</div>"
     },
     "execution_count": 16,
     "metadata": {},
     "output_type": "execute_result"
    }
   ],
   "source": [
    "rides['month'] = rides['date'].dt.month\n",
    "rides.sample(5)"
   ]
  },
  {
   "cell_type": "markdown",
   "metadata": {
    "pycharm": {
     "name": "#%% md\n"
    }
   },
   "source": [
    "Рассмотрим описательные характеристики на наличие аномалий."
   ]
  },
  {
   "cell_type": "code",
   "execution_count": 17,
   "metadata": {
    "pycharm": {
     "name": "#%%\n"
    }
   },
   "outputs": [
    {
     "data": {
      "text/plain": "            user_id      distance      duration         month\ncount  18068.000000  18068.000000  18068.000000  18068.000000\nmean     842.869936   3070.659976     17.805011      6.486772\nstd      434.734317   1116.831209      6.091051      3.437410\nmin        1.000000      0.855683      0.500000      1.000000\n25%      487.000000   2543.226360     13.597563      4.000000\n50%      889.000000   3133.609994     17.678395      6.000000\n75%     1213.250000   3776.222735     21.724800      9.000000\nmax     1534.000000   7211.007745     40.823963     12.000000",
      "text/html": "<div>\n<style scoped>\n    .dataframe tbody tr th:only-of-type {\n        vertical-align: middle;\n    }\n\n    .dataframe tbody tr th {\n        vertical-align: top;\n    }\n\n    .dataframe thead th {\n        text-align: right;\n    }\n</style>\n<table border=\"1\" class=\"dataframe\">\n  <thead>\n    <tr style=\"text-align: right;\">\n      <th></th>\n      <th>user_id</th>\n      <th>distance</th>\n      <th>duration</th>\n      <th>month</th>\n    </tr>\n  </thead>\n  <tbody>\n    <tr>\n      <th>count</th>\n      <td>18068.000000</td>\n      <td>18068.000000</td>\n      <td>18068.000000</td>\n      <td>18068.000000</td>\n    </tr>\n    <tr>\n      <th>mean</th>\n      <td>842.869936</td>\n      <td>3070.659976</td>\n      <td>17.805011</td>\n      <td>6.486772</td>\n    </tr>\n    <tr>\n      <th>std</th>\n      <td>434.734317</td>\n      <td>1116.831209</td>\n      <td>6.091051</td>\n      <td>3.437410</td>\n    </tr>\n    <tr>\n      <th>min</th>\n      <td>1.000000</td>\n      <td>0.855683</td>\n      <td>0.500000</td>\n      <td>1.000000</td>\n    </tr>\n    <tr>\n      <th>25%</th>\n      <td>487.000000</td>\n      <td>2543.226360</td>\n      <td>13.597563</td>\n      <td>4.000000</td>\n    </tr>\n    <tr>\n      <th>50%</th>\n      <td>889.000000</td>\n      <td>3133.609994</td>\n      <td>17.678395</td>\n      <td>6.000000</td>\n    </tr>\n    <tr>\n      <th>75%</th>\n      <td>1213.250000</td>\n      <td>3776.222735</td>\n      <td>21.724800</td>\n      <td>9.000000</td>\n    </tr>\n    <tr>\n      <th>max</th>\n      <td>1534.000000</td>\n      <td>7211.007745</td>\n      <td>40.823963</td>\n      <td>12.000000</td>\n    </tr>\n  </tbody>\n</table>\n</div>"
     },
     "execution_count": 17,
     "metadata": {},
     "output_type": "execute_result"
    }
   ],
   "source": [
    "rides.describe()"
   ]
  },
  {
   "cell_type": "markdown",
   "metadata": {
    "pycharm": {
     "name": "#%% md\n"
    }
   },
   "source": [
    "В столбце duration есть подозрительный минимум - 0.5 минуты продолжительность поездки"
   ]
  },
  {
   "cell_type": "code",
   "execution_count": 18,
   "metadata": {
    "pycharm": {
     "name": "#%%\n"
    }
   },
   "outputs": [
    {
     "data": {
      "text/plain": "       user_id     distance  duration       date  month\n6531       701  4196.445201       0.5 2021-08-31      8\n6570       704  4830.824371       0.5 2021-10-14     10\n6680       712  4684.004397       0.5 2021-03-04      3\n6695       713  5215.642710       0.5 2021-02-25      2\n6768       718  5197.436649       0.5 2021-02-11      2\n...        ...          ...       ...        ...    ...\n17004     1460  5531.335845       0.5 2021-01-19      1\n17242     1477  6724.932981       0.5 2021-01-12      1\n17314     1483  4445.481070       0.5 2021-03-06      3\n17505     1496  5722.551787       0.5 2021-02-14      2\n17909     1524  4103.998874       0.5 2021-06-18      6\n\n[95 rows x 5 columns]",
      "text/html": "<div>\n<style scoped>\n    .dataframe tbody tr th:only-of-type {\n        vertical-align: middle;\n    }\n\n    .dataframe tbody tr th {\n        vertical-align: top;\n    }\n\n    .dataframe thead th {\n        text-align: right;\n    }\n</style>\n<table border=\"1\" class=\"dataframe\">\n  <thead>\n    <tr style=\"text-align: right;\">\n      <th></th>\n      <th>user_id</th>\n      <th>distance</th>\n      <th>duration</th>\n      <th>date</th>\n      <th>month</th>\n    </tr>\n  </thead>\n  <tbody>\n    <tr>\n      <th>6531</th>\n      <td>701</td>\n      <td>4196.445201</td>\n      <td>0.5</td>\n      <td>2021-08-31</td>\n      <td>8</td>\n    </tr>\n    <tr>\n      <th>6570</th>\n      <td>704</td>\n      <td>4830.824371</td>\n      <td>0.5</td>\n      <td>2021-10-14</td>\n      <td>10</td>\n    </tr>\n    <tr>\n      <th>6680</th>\n      <td>712</td>\n      <td>4684.004397</td>\n      <td>0.5</td>\n      <td>2021-03-04</td>\n      <td>3</td>\n    </tr>\n    <tr>\n      <th>6695</th>\n      <td>713</td>\n      <td>5215.642710</td>\n      <td>0.5</td>\n      <td>2021-02-25</td>\n      <td>2</td>\n    </tr>\n    <tr>\n      <th>6768</th>\n      <td>718</td>\n      <td>5197.436649</td>\n      <td>0.5</td>\n      <td>2021-02-11</td>\n      <td>2</td>\n    </tr>\n    <tr>\n      <th>...</th>\n      <td>...</td>\n      <td>...</td>\n      <td>...</td>\n      <td>...</td>\n      <td>...</td>\n    </tr>\n    <tr>\n      <th>17004</th>\n      <td>1460</td>\n      <td>5531.335845</td>\n      <td>0.5</td>\n      <td>2021-01-19</td>\n      <td>1</td>\n    </tr>\n    <tr>\n      <th>17242</th>\n      <td>1477</td>\n      <td>6724.932981</td>\n      <td>0.5</td>\n      <td>2021-01-12</td>\n      <td>1</td>\n    </tr>\n    <tr>\n      <th>17314</th>\n      <td>1483</td>\n      <td>4445.481070</td>\n      <td>0.5</td>\n      <td>2021-03-06</td>\n      <td>3</td>\n    </tr>\n    <tr>\n      <th>17505</th>\n      <td>1496</td>\n      <td>5722.551787</td>\n      <td>0.5</td>\n      <td>2021-02-14</td>\n      <td>2</td>\n    </tr>\n    <tr>\n      <th>17909</th>\n      <td>1524</td>\n      <td>4103.998874</td>\n      <td>0.5</td>\n      <td>2021-06-18</td>\n      <td>6</td>\n    </tr>\n  </tbody>\n</table>\n<p>95 rows × 5 columns</p>\n</div>"
     },
     "execution_count": 18,
     "metadata": {},
     "output_type": "execute_result"
    }
   ],
   "source": [
    "rides.query('duration < 1')"
   ]
  },
  {
   "cell_type": "markdown",
   "metadata": {
    "pycharm": {
     "name": "#%% md\n"
    }
   },
   "source": [
    "В таблице есть 95 поездок, продолжительностью 0.5 минут. Это странно, так как даже при скорости 50км/час и хороших дорогах, за минуту такой самокат может проехать 833 метра. Тогда за пол минуты - около 400 метров, а мы видим, что у таких поездок дистанция варьируется от 4 до 7 км. Пока оставим как есть и разберемся с ними на этапе исследовательского анализа.\n"
   ]
  },
  {
   "cell_type": "markdown",
   "metadata": {
    "pycharm": {
     "name": "#%% md\n"
    }
   },
   "source": [
    "### Исследовательский анализ данных"
   ]
  },
  {
   "cell_type": "markdown",
   "metadata": {
    "pycharm": {
     "name": "#%% md\n"
    }
   },
   "source": [
    "*Опишем и визуализируем общую информацию о пользователях и поездках:\n",
    "3.1 частота встречаемости городов;  \n",
    "3.2 соотношение пользователей с подпиской и без подписки;  \n",
    "3.3 возраст пользователей;  \n",
    "3.4 расстояние, которое пользователь преодолел за одну поездку;  \n",
    "3.5 продолжительность поездок*"
   ]
  },
  {
   "cell_type": "markdown",
   "metadata": {
    "pycharm": {
     "name": "#%% md\n"
    }
   },
   "source": [
    "Напишем функцию построения графиков боксплот и гистограммы"
   ]
  },
  {
   "cell_type": "code",
   "execution_count": 19,
   "metadata": {
    "pycharm": {
     "name": "#%%\n"
    }
   },
   "outputs": [],
   "source": [
    "def get_histogram_boxplot(column, r=None):\n",
    "    fig, (ax, ax2) = plt.subplots(2, figsize=(8, 5))\n",
    "    sns.boxplot(x=column, orient='H')\n",
    "    ax.hist(column,\n",
    "            alpha=0.8,\n",
    "            color='green',\n",
    "            bins=100,\n",
    "            range=r)\n",
    "\n",
    "    ax.set_ylabel('Частота')\n",
    "    ax.set_xlabel(column.name)\n",
    "    ax.grid()\n",
    "    ax2.grid()\n",
    "    ax.set(xlabel='')\n",
    "    ax2.set_ylabel('Частота')\n",
    "\n",
    "    plt.suptitle(f'Распределение значений {column.name}')\n",
    "\n",
    "    print(column.describe())"
   ]
  },
  {
   "cell_type": "markdown",
   "metadata": {
    "pycharm": {
     "name": "#%% md\n"
    }
   },
   "source": [
    "#### Частота встречаемости городов"
   ]
  },
  {
   "cell_type": "code",
   "execution_count": 20,
   "metadata": {
    "pycharm": {
     "name": "#%%\n"
    }
   },
   "outputs": [
    {
     "data": {
      "text/plain": "<Figure size 640x480 with 1 Axes>",
      "image/png": "[encoded data removed]"
     },
     "metadata": {},
     "output_type": "display_data"
    }
   ],
   "source": [
    "users.groupby('city')['user_id'].count().sort_values().plot(kind='bar',\n",
    "      title='Расределение городов пользователей', \n",
    "      xlabel='Город', \n",
    "      ylabel='Частота');"
   ]
  },
  {
   "cell_type": "markdown",
   "metadata": {
    "pycharm": {
     "name": "#%% md\n"
    }
   },
   "source": [
    "В наших данных больше всего пользователей из Пятигорска, меньше всего - из Москвы"
   ]
  },
  {
   "cell_type": "markdown",
   "metadata": {
    "pycharm": {
     "name": "#%% md\n"
    }
   },
   "source": [
    "#### Соотношение пользователей с подпиской и без подписки;"
   ]
  },
  {
   "cell_type": "code",
   "execution_count": 21,
   "metadata": {
    "pycharm": {
     "name": "#%%\n"
    }
   },
   "outputs": [
    {
     "data": {
      "text/plain": "<Figure size 640x480 with 1 Axes>",
      "image/png": "[encoded data removed]"
     },
     "metadata": {},
     "output_type": "display_data"
    }
   ],
   "source": [
    "users.groupby('subscription_type')['user_id'].count().plot(\n",
    "    kind='pie', \n",
    "    title='Круговая диаграмма подписок пользователей',\n",
    "    ylabel='Тип подписки',\n",
    "    legend=True);"
   ]
  },
  {
   "cell_type": "markdown",
   "metadata": {
    "pycharm": {
     "name": "#%% md\n"
    }
   },
   "source": [
    "Пользователей без подписок больше, чем с подпиской"
   ]
  },
  {
   "cell_type": "markdown",
   "metadata": {
    "pycharm": {
     "name": "#%% md\n"
    }
   },
   "source": [
    "#### Возраст пользователей"
   ]
  },
  {
   "cell_type": "code",
   "execution_count": 22,
   "metadata": {
    "pycharm": {
     "name": "#%%\n"
    }
   },
   "outputs": [
    {
     "name": "stdout",
     "output_type": "stream",
     "text": [
      "count    1534.000000\n",
      "mean       24.903520\n",
      "std         4.572367\n",
      "min        12.000000\n",
      "25%        22.000000\n",
      "50%        25.000000\n",
      "75%        28.000000\n",
      "max        43.000000\n",
      "Name: age, dtype: float64\n"
     ]
    },
    {
     "data": {
      "text/plain": "<Figure size 800x500 with 2 Axes>",
      "image/png": "[encoded data removed]"
     },
     "metadata": {},
     "output_type": "display_data"
    }
   ],
   "source": [
    "get_histogram_boxplot(users['age'])"
   ]
  },
  {
   "cell_type": "markdown",
   "metadata": {
    "pycharm": {
     "name": "#%% md\n"
    }
   },
   "source": [
    "Возраст пользователей имеет нормальное распределение. Средний возраст пользователей приложения - 25 лет."
   ]
  },
  {
   "cell_type": "markdown",
   "metadata": {
    "pycharm": {
     "name": "#%% md\n"
    }
   },
   "source": [
    "#### Расстояние, которое пользователь преодолел за одну поездку"
   ]
  },
  {
   "cell_type": "code",
   "execution_count": 23,
   "metadata": {
    "pycharm": {
     "name": "#%%\n"
    }
   },
   "outputs": [
    {
     "name": "stdout",
     "output_type": "stream",
     "text": [
      "count    18068.000000\n",
      "mean      3070.659976\n",
      "std       1116.831209\n",
      "min          0.855683\n",
      "25%       2543.226360\n",
      "50%       3133.609994\n",
      "75%       3776.222735\n",
      "max       7211.007745\n",
      "Name: distance, dtype: float64\n"
     ]
    },
    {
     "data": {
      "text/plain": "<Figure size 800x500 with 2 Axes>",
      "image/png": "[encoded data removed]"
     },
     "metadata": {},
     "output_type": "display_data"
    }
   ],
   "source": [
    "get_histogram_boxplot(rides['distance'])"
   ]
  },
  {
   "cell_type": "markdown",
   "metadata": {
    "pycharm": {
     "name": "#%% md\n"
    }
   },
   "source": [
    "Среднее расстояние, которое преодолевают пользователи - около 3100 метров. Есть слишком короткие расстояния - на графике видно, что около нуля есть значения."
   ]
  },
  {
   "cell_type": "markdown",
   "metadata": {
    "pycharm": {
     "name": "#%% md\n"
    }
   },
   "source": [
    "#### Продолжительность поездок"
   ]
  },
  {
   "cell_type": "code",
   "execution_count": 24,
   "metadata": {
    "pycharm": {
     "name": "#%%\n"
    }
   },
   "outputs": [
    {
     "name": "stdout",
     "output_type": "stream",
     "text": [
      "count    18068.000000\n",
      "mean        17.805011\n",
      "std          6.091051\n",
      "min          0.500000\n",
      "25%         13.597563\n",
      "50%         17.678395\n",
      "75%         21.724800\n",
      "max         40.823963\n",
      "Name: duration, dtype: float64\n"
     ]
    },
    {
     "data": {
      "text/plain": "<Figure size 800x500 with 2 Axes>",
      "image/png": "[encoded data removed]"
     },
     "metadata": {},
     "output_type": "display_data"
    }
   ],
   "source": [
    "get_histogram_boxplot(rides['duration'])"
   ]
  },
  {
   "cell_type": "markdown",
   "metadata": {
    "pycharm": {
     "name": "#%% md\n"
    }
   },
   "source": [
    "Средняя продолжительность поездок - чуть более 17 минут. Распределение равномерное."
   ]
  },
  {
   "cell_type": "markdown",
   "metadata": {
    "pycharm": {
     "name": "#%% md\n"
    }
   },
   "source": [
    "### Объединение данных"
   ]
  },
  {
   "cell_type": "markdown",
   "metadata": {
    "pycharm": {
     "name": "#%% md\n"
    }
   },
   "source": [
    "#### Объединим данные о пользователях, поездках и подписках в один датафрейм."
   ]
  },
  {
   "cell_type": "code",
   "execution_count": 25,
   "metadata": {
    "pycharm": {
     "name": "#%%\n"
    }
   },
   "outputs": [],
   "source": [
    "users_and_rides = users.merge(rides, on='user_id', how='right')"
   ]
  },
  {
   "cell_type": "code",
   "execution_count": 26,
   "metadata": {
    "pycharm": {
     "name": "#%%\n"
    }
   },
   "outputs": [],
   "source": [
    "data = users_and_rides.merge(subscriptions, on='subscription_type', how='left')"
   ]
  },
  {
   "cell_type": "code",
   "execution_count": 27,
   "metadata": {
    "pycharm": {
     "name": "#%%\n"
    }
   },
   "outputs": [
    {
     "data": {
      "text/plain": "   user_id  name  age    city subscription_type     distance   duration  \\\n0        1  Кира   22  Тюмень             ultra  4409.919140  25.599769   \n1        1  Кира   22  Тюмень             ultra  2617.592153  15.816871   \n2        1  Кира   22  Тюмень             ultra   754.159807   6.232113   \n3        1  Кира   22  Тюмень             ultra  2694.783254  18.511000   \n4        1  Кира   22  Тюмень             ultra  4028.687306  26.265803   \n\n        date  month  minute_price  start_ride_price  subscription_fee  \n0 2021-01-01      1             6                 0               199  \n1 2021-01-18      1             6                 0               199  \n2 2021-04-20      4             6                 0               199  \n3 2021-08-11      8             6                 0               199  \n4 2021-08-28      8             6                 0               199  ",
      "text/html": "<div>\n<style scoped>\n    .dataframe tbody tr th:only-of-type {\n        vertical-align: middle;\n    }\n\n    .dataframe tbody tr th {\n        vertical-align: top;\n    }\n\n    .dataframe thead th {\n        text-align: right;\n    }\n</style>\n<table border=\"1\" class=\"dataframe\">\n  <thead>\n    <tr style=\"text-align: right;\">\n      <th></th>\n      <th>user_id</th>\n      <th>name</th>\n      <th>age</th>\n      <th>city</th>\n      <th>subscription_type</th>\n      <th>distance</th>\n      <th>duration</th>\n      <th>date</th>\n      <th>month</th>\n      <th>minute_price</th>\n      <th>start_ride_price</th>\n      <th>subscription_fee</th>\n    </tr>\n  </thead>\n  <tbody>\n    <tr>\n      <th>0</th>\n      <td>1</td>\n      <td>Кира</td>\n      <td>22</td>\n      <td>Тюмень</td>\n      <td>ultra</td>\n      <td>4409.919140</td>\n      <td>25.599769</td>\n      <td>2021-01-01</td>\n      <td>1</td>\n      <td>6</td>\n      <td>0</td>\n      <td>199</td>\n    </tr>\n    <tr>\n      <th>1</th>\n      <td>1</td>\n      <td>Кира</td>\n      <td>22</td>\n      <td>Тюмень</td>\n      <td>ultra</td>\n      <td>2617.592153</td>\n      <td>15.816871</td>\n      <td>2021-01-18</td>\n      <td>1</td>\n      <td>6</td>\n      <td>0</td>\n      <td>199</td>\n    </tr>\n    <tr>\n      <th>2</th>\n      <td>1</td>\n      <td>Кира</td>\n      <td>22</td>\n      <td>Тюмень</td>\n      <td>ultra</td>\n      <td>754.159807</td>\n      <td>6.232113</td>\n      <td>2021-04-20</td>\n      <td>4</td>\n      <td>6</td>\n      <td>0</td>\n      <td>199</td>\n    </tr>\n    <tr>\n      <th>3</th>\n      <td>1</td>\n      <td>Кира</td>\n      <td>22</td>\n      <td>Тюмень</td>\n      <td>ultra</td>\n      <td>2694.783254</td>\n      <td>18.511000</td>\n      <td>2021-08-11</td>\n      <td>8</td>\n      <td>6</td>\n      <td>0</td>\n      <td>199</td>\n    </tr>\n    <tr>\n      <th>4</th>\n      <td>1</td>\n      <td>Кира</td>\n      <td>22</td>\n      <td>Тюмень</td>\n      <td>ultra</td>\n      <td>4028.687306</td>\n      <td>26.265803</td>\n      <td>2021-08-28</td>\n      <td>8</td>\n      <td>6</td>\n      <td>0</td>\n      <td>199</td>\n    </tr>\n  </tbody>\n</table>\n</div>"
     },
     "execution_count": 27,
     "metadata": {},
     "output_type": "execute_result"
    }
   ],
   "source": [
    "data.head()"
   ]
  },
  {
   "cell_type": "code",
   "execution_count": 28,
   "metadata": {
    "pycharm": {
     "name": "#%%\n"
    }
   },
   "outputs": [
    {
     "data": {
      "text/plain": "<Figure size 640x480 with 1 Axes>",
      "image/png": "[encoded data removed]"
     },
     "metadata": {},
     "output_type": "display_data"
    }
   ],
   "source": [
    "data.groupby('month')['month'].count().plot(kind='bar',\n",
    "      title='Распределение поездок по месяцам',\n",
    "      xlabel='Месяц',\n",
    "      ylabel='Частота');"
   ]
  },
  {
   "cell_type": "markdown",
   "metadata": {
    "pycharm": {
     "name": "#%% md\n"
    }
   },
   "source": [
    "Интересно, что на самокатах катаются и зимой и летом примерно одинаково (небольшой спад наблюдается в феврале)"
   ]
  },
  {
   "cell_type": "markdown",
   "metadata": {
    "pycharm": {
     "name": "#%% md\n"
    }
   },
   "source": [
    " Создадим ещё два датафрейма:\n",
    "c данными о пользователях без подписки - data_free;\n",
    "с данными о пользователях с подпиской - data_ultra."
   ]
  },
  {
   "cell_type": "code",
   "execution_count": 29,
   "metadata": {
    "pycharm": {
     "name": "#%%\n"
    }
   },
   "outputs": [
    {
     "data": {
      "text/plain": "   user_id  name  age    city subscription_type     distance   duration  \\\n0        1  Кира   22  Тюмень             ultra  4409.919140  25.599769   \n1        1  Кира   22  Тюмень             ultra  2617.592153  15.816871   \n2        1  Кира   22  Тюмень             ultra   754.159807   6.232113   \n3        1  Кира   22  Тюмень             ultra  2694.783254  18.511000   \n4        1  Кира   22  Тюмень             ultra  4028.687306  26.265803   \n\n        date  month  minute_price  start_ride_price  subscription_fee  \n0 2021-01-01      1             6                 0               199  \n1 2021-01-18      1             6                 0               199  \n2 2021-04-20      4             6                 0               199  \n3 2021-08-11      8             6                 0               199  \n4 2021-08-28      8             6                 0               199  ",
      "text/html": "<div>\n<style scoped>\n    .dataframe tbody tr th:only-of-type {\n        vertical-align: middle;\n    }\n\n    .dataframe tbody tr th {\n        vertical-align: top;\n    }\n\n    .dataframe thead th {\n        text-align: right;\n    }\n</style>\n<table border=\"1\" class=\"dataframe\">\n  <thead>\n    <tr style=\"text-align: right;\">\n      <th></th>\n      <th>user_id</th>\n      <th>name</th>\n      <th>age</th>\n      <th>city</th>\n      <th>subscription_type</th>\n      <th>distance</th>\n      <th>duration</th>\n      <th>date</th>\n      <th>month</th>\n      <th>minute_price</th>\n      <th>start_ride_price</th>\n      <th>subscription_fee</th>\n    </tr>\n  </thead>\n  <tbody>\n    <tr>\n      <th>0</th>\n      <td>1</td>\n      <td>Кира</td>\n      <td>22</td>\n      <td>Тюмень</td>\n      <td>ultra</td>\n      <td>4409.919140</td>\n      <td>25.599769</td>\n      <td>2021-01-01</td>\n      <td>1</td>\n      <td>6</td>\n      <td>0</td>\n      <td>199</td>\n    </tr>\n    <tr>\n      <th>1</th>\n      <td>1</td>\n      <td>Кира</td>\n      <td>22</td>\n      <td>Тюмень</td>\n      <td>ultra</td>\n      <td>2617.592153</td>\n      <td>15.816871</td>\n      <td>2021-01-18</td>\n      <td>1</td>\n      <td>6</td>\n      <td>0</td>\n      <td>199</td>\n    </tr>\n    <tr>\n      <th>2</th>\n      <td>1</td>\n      <td>Кира</td>\n      <td>22</td>\n      <td>Тюмень</td>\n      <td>ultra</td>\n      <td>754.159807</td>\n      <td>6.232113</td>\n      <td>2021-04-20</td>\n      <td>4</td>\n      <td>6</td>\n      <td>0</td>\n      <td>199</td>\n    </tr>\n    <tr>\n      <th>3</th>\n      <td>1</td>\n      <td>Кира</td>\n      <td>22</td>\n      <td>Тюмень</td>\n      <td>ultra</td>\n      <td>2694.783254</td>\n      <td>18.511000</td>\n      <td>2021-08-11</td>\n      <td>8</td>\n      <td>6</td>\n      <td>0</td>\n      <td>199</td>\n    </tr>\n    <tr>\n      <th>4</th>\n      <td>1</td>\n      <td>Кира</td>\n      <td>22</td>\n      <td>Тюмень</td>\n      <td>ultra</td>\n      <td>4028.687306</td>\n      <td>26.265803</td>\n      <td>2021-08-28</td>\n      <td>8</td>\n      <td>6</td>\n      <td>0</td>\n      <td>199</td>\n    </tr>\n  </tbody>\n</table>\n</div>"
     },
     "execution_count": 29,
     "metadata": {},
     "output_type": "execute_result"
    }
   ],
   "source": [
    "data_ultra = data.query('subscription_type == \"ultra\"')\n",
    "data_ultra.head()"
   ]
  },
  {
   "cell_type": "code",
   "execution_count": 30,
   "metadata": {
    "pycharm": {
     "name": "#%%\n"
    }
   },
   "outputs": [
    {
     "data": {
      "text/plain": "   user_id   name  age  city subscription_type     distance   duration  \\\n0      700  Айдар   22  Омск              free  2515.690719  14.944286   \n1      700  Айдар   22  Омск              free   846.932642  16.234663   \n2      700  Айдар   22  Омск              free  4004.434142  20.016628   \n3      700  Айдар   22  Омск              free  1205.911290   9.782872   \n4      700  Айдар   22  Омск              free  3047.379435  17.427673   \n\n        date  month  minute_price  start_ride_price  subscription_fee  \n0 2021-01-02      1             8                50                 0  \n1 2021-02-01      2             8                50                 0  \n2 2021-02-04      2             8                50                 0  \n3 2021-02-10      2             8                50                 0  \n4 2021-02-14      2             8                50                 0  ",
      "text/html": "<div>\n<style scoped>\n    .dataframe tbody tr th:only-of-type {\n        vertical-align: middle;\n    }\n\n    .dataframe tbody tr th {\n        vertical-align: top;\n    }\n\n    .dataframe thead th {\n        text-align: right;\n    }\n</style>\n<table border=\"1\" class=\"dataframe\">\n  <thead>\n    <tr style=\"text-align: right;\">\n      <th></th>\n      <th>user_id</th>\n      <th>name</th>\n      <th>age</th>\n      <th>city</th>\n      <th>subscription_type</th>\n      <th>distance</th>\n      <th>duration</th>\n      <th>date</th>\n      <th>month</th>\n      <th>minute_price</th>\n      <th>start_ride_price</th>\n      <th>subscription_fee</th>\n    </tr>\n  </thead>\n  <tbody>\n    <tr>\n      <th>0</th>\n      <td>700</td>\n      <td>Айдар</td>\n      <td>22</td>\n      <td>Омск</td>\n      <td>free</td>\n      <td>2515.690719</td>\n      <td>14.944286</td>\n      <td>2021-01-02</td>\n      <td>1</td>\n      <td>8</td>\n      <td>50</td>\n      <td>0</td>\n    </tr>\n    <tr>\n      <th>1</th>\n      <td>700</td>\n      <td>Айдар</td>\n      <td>22</td>\n      <td>Омск</td>\n      <td>free</td>\n      <td>846.932642</td>\n      <td>16.234663</td>\n      <td>2021-02-01</td>\n      <td>2</td>\n      <td>8</td>\n      <td>50</td>\n      <td>0</td>\n    </tr>\n    <tr>\n      <th>2</th>\n      <td>700</td>\n      <td>Айдар</td>\n      <td>22</td>\n      <td>Омск</td>\n      <td>free</td>\n      <td>4004.434142</td>\n      <td>20.016628</td>\n      <td>2021-02-04</td>\n      <td>2</td>\n      <td>8</td>\n      <td>50</td>\n      <td>0</td>\n    </tr>\n    <tr>\n      <th>3</th>\n      <td>700</td>\n      <td>Айдар</td>\n      <td>22</td>\n      <td>Омск</td>\n      <td>free</td>\n      <td>1205.911290</td>\n      <td>9.782872</td>\n      <td>2021-02-10</td>\n      <td>2</td>\n      <td>8</td>\n      <td>50</td>\n      <td>0</td>\n    </tr>\n    <tr>\n      <th>4</th>\n      <td>700</td>\n      <td>Айдар</td>\n      <td>22</td>\n      <td>Омск</td>\n      <td>free</td>\n      <td>3047.379435</td>\n      <td>17.427673</td>\n      <td>2021-02-14</td>\n      <td>2</td>\n      <td>8</td>\n      <td>50</td>\n      <td>0</td>\n    </tr>\n  </tbody>\n</table>\n</div>"
     },
     "execution_count": 30,
     "metadata": {},
     "output_type": "execute_result"
    }
   ],
   "source": [
    "data_free = data.query('subscription_type == \"free\"').reset_index(drop=True)\n",
    "data_free.head()"
   ]
  },
  {
   "cell_type": "markdown",
   "metadata": {
    "pycharm": {
     "name": "#%% md\n"
    }
   },
   "source": [
    "##### Визуализируем информацию о расстоянии и времени поездок для пользователей обеих категорий."
   ]
  },
  {
   "cell_type": "markdown",
   "metadata": {
    "pycharm": {
     "name": "#%% md\n"
    }
   },
   "source": [
    "Построим график распределения расстояния сначала для пользователей с подпиской ultra, следом - пользователей с бесплатной подпиской"
   ]
  },
  {
   "cell_type": "code",
   "execution_count": 31,
   "metadata": {
    "pycharm": {
     "name": "#%%\n"
    }
   },
   "outputs": [
    {
     "name": "stdout",
     "output_type": "stream",
     "text": [
      "count    6500.000000\n",
      "mean     3115.445388\n",
      "std       836.895330\n",
      "min       244.210438\n",
      "25%      2785.444017\n",
      "50%      3148.637229\n",
      "75%      3560.574425\n",
      "max      5699.769662\n",
      "Name: distance, dtype: float64\n"
     ]
    },
    {
     "data": {
      "text/plain": "<Figure size 800x500 with 2 Axes>",
      "image/png": "[encoded data removed]"
     },
     "metadata": {},
     "output_type": "display_data"
    }
   ],
   "source": [
    "get_histogram_boxplot(data_ultra['distance'])"
   ]
  },
  {
   "cell_type": "code",
   "execution_count": 32,
   "metadata": {
    "pycharm": {
     "name": "#%%\n"
    }
   },
   "outputs": [
    {
     "name": "stdout",
     "output_type": "stream",
     "text": [
      "count    11568.000000\n",
      "mean      3045.495282\n",
      "std       1246.173806\n",
      "min          0.855683\n",
      "25%       2366.562689\n",
      "50%       3114.648465\n",
      "75%       3905.697894\n",
      "max       7211.007745\n",
      "Name: distance, dtype: float64\n"
     ]
    },
    {
     "data": {
      "text/plain": "<Figure size 800x500 with 2 Axes>",
      "image/png": "[encoded data removed]"
     },
     "metadata": {},
     "output_type": "display_data"
    }
   ],
   "source": [
    "get_histogram_boxplot(data_free['distance'])"
   ]
  },
  {
   "cell_type": "markdown",
   "metadata": {
    "pycharm": {
     "name": "#%% md\n"
    }
   },
   "source": [
    "На обоих графиках есть небольшой пик до 2000 метров, после спад и уже основная масса.\n",
    "У пользователей с платной подпиской коротких поездок (до 100 метров) почти нет, а вот среди пользователей с бесплатной подпиской таких поездок немало.\n",
    "\n",
    "Так же можно заметить, что пользователи с бесплатной подпиской чаще ездят далее 5 км. Возможно, это связано с тем, что подписку берут люди для того, чтобы кататься иногда до работы от метро или от дома, а пользователи с бесплатной подпиской чаще разово катаются как туристы."
   ]
  },
  {
   "cell_type": "code",
   "execution_count": 33,
   "metadata": {
    "pycharm": {
     "name": "#%%\n"
    }
   },
   "outputs": [
    {
     "data": {
      "text/plain": "       user_id       name  age            city subscription_type   distance  \\\n6611       707      Артём   27            Сочи              free  28.793204   \n6691       712      Дарья   28          Москва              free  23.963062   \n6816       721     Андрей   27       Пятигорск              free  62.568138   \n6850       724  Елизавета   23       Краснодар              free  30.473763   \n7367       760       Иван   22  Ростов-на-Дону              free  54.724068   \n...        ...        ...  ...             ...               ...        ...   \n17414     1489      Алёна   30       Пятигорск              free  22.314412   \n17502     1495    Наталия   27            Омск              free  79.186579   \n17646     1506     Регина   29            Сочи              free  37.002836   \n17722     1511      Элина   27       Краснодар              free  87.430522   \n17760     1514        Ева   25          Тюмень              free  75.573191   \n\n        duration       date  month  minute_price  start_ride_price  \\\n6611   14.143966 2021-09-12      9             8                50   \n6691    2.053251 2021-11-22     11             8                50   \n6816    7.178766 2021-09-25      9             8                50   \n6850    3.166221 2021-05-09      5             8                50   \n7367    8.164172 2021-10-13     10             8                50   \n...          ...        ...    ...           ...               ...   \n17414   6.074381 2021-10-06     10             8                50   \n17502   9.237560 2021-05-16      5             8                50   \n17646   4.170782 2021-06-27      6             8                50   \n17722   3.218576 2021-01-21      1             8                50   \n17760   5.174400 2021-01-26      1             8                50   \n\n       subscription_fee  \n6611                  0  \n6691                  0  \n6816                  0  \n6850                  0  \n7367                  0  \n...                 ...  \n17414                 0  \n17502                 0  \n17646                 0  \n17722                 0  \n17760                 0  \n\n[78 rows x 12 columns]",
      "text/html": "<div>\n<style scoped>\n    .dataframe tbody tr th:only-of-type {\n        vertical-align: middle;\n    }\n\n    .dataframe tbody tr th {\n        vertical-align: top;\n    }\n\n    .dataframe thead th {\n        text-align: right;\n    }\n</style>\n<table border=\"1\" class=\"dataframe\">\n  <thead>\n    <tr style=\"text-align: right;\">\n      <th></th>\n      <th>user_id</th>\n      <th>name</th>\n      <th>age</th>\n      <th>city</th>\n      <th>subscription_type</th>\n      <th>distance</th>\n      <th>duration</th>\n      <th>date</th>\n      <th>month</th>\n      <th>minute_price</th>\n      <th>start_ride_price</th>\n      <th>subscription_fee</th>\n    </tr>\n  </thead>\n  <tbody>\n    <tr>\n      <th>6611</th>\n      <td>707</td>\n      <td>Артём</td>\n      <td>27</td>\n      <td>Сочи</td>\n      <td>free</td>\n      <td>28.793204</td>\n      <td>14.143966</td>\n      <td>2021-09-12</td>\n      <td>9</td>\n      <td>8</td>\n      <td>50</td>\n      <td>0</td>\n    </tr>\n    <tr>\n      <th>6691</th>\n      <td>712</td>\n      <td>Дарья</td>\n      <td>28</td>\n      <td>Москва</td>\n      <td>free</td>\n      <td>23.963062</td>\n      <td>2.053251</td>\n      <td>2021-11-22</td>\n      <td>11</td>\n      <td>8</td>\n      <td>50</td>\n      <td>0</td>\n    </tr>\n    <tr>\n      <th>6816</th>\n      <td>721</td>\n      <td>Андрей</td>\n      <td>27</td>\n      <td>Пятигорск</td>\n      <td>free</td>\n      <td>62.568138</td>\n      <td>7.178766</td>\n      <td>2021-09-25</td>\n      <td>9</td>\n      <td>8</td>\n      <td>50</td>\n      <td>0</td>\n    </tr>\n    <tr>\n      <th>6850</th>\n      <td>724</td>\n      <td>Елизавета</td>\n      <td>23</td>\n      <td>Краснодар</td>\n      <td>free</td>\n      <td>30.473763</td>\n      <td>3.166221</td>\n      <td>2021-05-09</td>\n      <td>5</td>\n      <td>8</td>\n      <td>50</td>\n      <td>0</td>\n    </tr>\n    <tr>\n      <th>7367</th>\n      <td>760</td>\n      <td>Иван</td>\n      <td>22</td>\n      <td>Ростов-на-Дону</td>\n      <td>free</td>\n      <td>54.724068</td>\n      <td>8.164172</td>\n      <td>2021-10-13</td>\n      <td>10</td>\n      <td>8</td>\n      <td>50</td>\n      <td>0</td>\n    </tr>\n    <tr>\n      <th>...</th>\n      <td>...</td>\n      <td>...</td>\n      <td>...</td>\n      <td>...</td>\n      <td>...</td>\n      <td>...</td>\n      <td>...</td>\n      <td>...</td>\n      <td>...</td>\n      <td>...</td>\n      <td>...</td>\n      <td>...</td>\n    </tr>\n    <tr>\n      <th>17414</th>\n      <td>1489</td>\n      <td>Алёна</td>\n      <td>30</td>\n      <td>Пятигорск</td>\n      <td>free</td>\n      <td>22.314412</td>\n      <td>6.074381</td>\n      <td>2021-10-06</td>\n      <td>10</td>\n      <td>8</td>\n      <td>50</td>\n      <td>0</td>\n    </tr>\n    <tr>\n      <th>17502</th>\n      <td>1495</td>\n      <td>Наталия</td>\n      <td>27</td>\n      <td>Омск</td>\n      <td>free</td>\n      <td>79.186579</td>\n      <td>9.237560</td>\n      <td>2021-05-16</td>\n      <td>5</td>\n      <td>8</td>\n      <td>50</td>\n      <td>0</td>\n    </tr>\n    <tr>\n      <th>17646</th>\n      <td>1506</td>\n      <td>Регина</td>\n      <td>29</td>\n      <td>Сочи</td>\n      <td>free</td>\n      <td>37.002836</td>\n      <td>4.170782</td>\n      <td>2021-06-27</td>\n      <td>6</td>\n      <td>8</td>\n      <td>50</td>\n      <td>0</td>\n    </tr>\n    <tr>\n      <th>17722</th>\n      <td>1511</td>\n      <td>Элина</td>\n      <td>27</td>\n      <td>Краснодар</td>\n      <td>free</td>\n      <td>87.430522</td>\n      <td>3.218576</td>\n      <td>2021-01-21</td>\n      <td>1</td>\n      <td>8</td>\n      <td>50</td>\n      <td>0</td>\n    </tr>\n    <tr>\n      <th>17760</th>\n      <td>1514</td>\n      <td>Ева</td>\n      <td>25</td>\n      <td>Тюмень</td>\n      <td>free</td>\n      <td>75.573191</td>\n      <td>5.174400</td>\n      <td>2021-01-26</td>\n      <td>1</td>\n      <td>8</td>\n      <td>50</td>\n      <td>0</td>\n    </tr>\n  </tbody>\n</table>\n<p>78 rows × 12 columns</p>\n</div>"
     },
     "execution_count": 33,
     "metadata": {},
     "output_type": "execute_result"
    }
   ],
   "source": [
    "data[data['distance']<100]"
   ]
  },
  {
   "cell_type": "markdown",
   "metadata": {
    "pycharm": {
     "name": "#%% md\n"
    }
   },
   "source": [
    "В целом, сложно найти взаимосвязь, почему такие поездки существуют. Возможно, люди думали, что это дешевле и перестали тратить время = деньги, возможно кто-то не смог научиться кататься и решил не продолжать кататься, а возможно, это технический сбой в отслеживании расстояния. Оснований для обработки таких значений нет. Люди действительно могли начать пользоваться приложением и быстро закончить, не проехав значительное расстояние. Оставим данные как есть."
   ]
  },
  {
   "cell_type": "markdown",
   "metadata": {
    "pycharm": {
     "name": "#%% md\n"
    }
   },
   "source": [
    "Посмотрим, с чем может быть связан пик на расстоянии до 1500 метров."
   ]
  },
  {
   "cell_type": "code",
   "execution_count": 34,
   "metadata": {
    "pycharm": {
     "name": "#%%\n"
    }
   },
   "outputs": [
    {
     "data": {
      "text/plain": "       user_id        name  age            city subscription_type  \\\n2            1        Кира   22          Тюмень             ultra   \n9            1        Кира   22          Тюмень             ultra   \n20           2   Станислав   31            Омск             ultra   \n47           4  Константин   26  Ростов-на-Дону             ultra   \n91           9          Ян   21       Пятигорск             ultra   \n...        ...         ...  ...             ...               ...   \n18031     1532     Алексей   26          Тюмень              free   \n18037     1532     Алексей   26          Тюмень              free   \n18043     1533      Степан   22       Краснодар              free   \n18049     1533      Степан   22       Краснодар              free   \n18058     1534     Альберт   25       Краснодар              free   \n\n          distance   duration       date  month  minute_price  \\\n2       754.159807   6.232113 2021-04-20      4             6   \n9       748.690645  15.041884 2021-11-22     11             6   \n20      923.007439   6.914760 2021-08-03      8             6   \n47      724.559572  11.811399 2021-11-14     11             6   \n91      979.657684  17.521497 2021-03-08      3             6   \n...            ...        ...        ...    ...           ...   \n18031   303.787850   7.792490 2021-05-21      5             8   \n18037   662.468186   9.528773 2021-11-18     11             8   \n18043   310.488247  10.642389 2021-02-21      2             8   \n18049  1034.998188   6.299996 2021-06-23      6             8   \n18058   195.447469   6.469074 2021-06-11      6             8   \n\n       start_ride_price  subscription_fee  \n2                     0               199  \n9                     0               199  \n20                    0               199  \n47                    0               199  \n91                    0               199  \n...                 ...               ...  \n18031                50                 0  \n18037                50                 0  \n18043                50                 0  \n18049                50                 0  \n18058                50                 0  \n\n[1796 rows x 12 columns]",
      "text/html": "<div>\n<style scoped>\n    .dataframe tbody tr th:only-of-type {\n        vertical-align: middle;\n    }\n\n    .dataframe tbody tr th {\n        vertical-align: top;\n    }\n\n    .dataframe thead th {\n        text-align: right;\n    }\n</style>\n<table border=\"1\" class=\"dataframe\">\n  <thead>\n    <tr style=\"text-align: right;\">\n      <th></th>\n      <th>user_id</th>\n      <th>name</th>\n      <th>age</th>\n      <th>city</th>\n      <th>subscription_type</th>\n      <th>distance</th>\n      <th>duration</th>\n      <th>date</th>\n      <th>month</th>\n      <th>minute_price</th>\n      <th>start_ride_price</th>\n      <th>subscription_fee</th>\n    </tr>\n  </thead>\n  <tbody>\n    <tr>\n      <th>2</th>\n      <td>1</td>\n      <td>Кира</td>\n      <td>22</td>\n      <td>Тюмень</td>\n      <td>ultra</td>\n      <td>754.159807</td>\n      <td>6.232113</td>\n      <td>2021-04-20</td>\n      <td>4</td>\n      <td>6</td>\n      <td>0</td>\n      <td>199</td>\n    </tr>\n    <tr>\n      <th>9</th>\n      <td>1</td>\n      <td>Кира</td>\n      <td>22</td>\n      <td>Тюмень</td>\n      <td>ultra</td>\n      <td>748.690645</td>\n      <td>15.041884</td>\n      <td>2021-11-22</td>\n      <td>11</td>\n      <td>6</td>\n      <td>0</td>\n      <td>199</td>\n    </tr>\n    <tr>\n      <th>20</th>\n      <td>2</td>\n      <td>Станислав</td>\n      <td>31</td>\n      <td>Омск</td>\n      <td>ultra</td>\n      <td>923.007439</td>\n      <td>6.914760</td>\n      <td>2021-08-03</td>\n      <td>8</td>\n      <td>6</td>\n      <td>0</td>\n      <td>199</td>\n    </tr>\n    <tr>\n      <th>47</th>\n      <td>4</td>\n      <td>Константин</td>\n      <td>26</td>\n      <td>Ростов-на-Дону</td>\n      <td>ultra</td>\n      <td>724.559572</td>\n      <td>11.811399</td>\n      <td>2021-11-14</td>\n      <td>11</td>\n      <td>6</td>\n      <td>0</td>\n      <td>199</td>\n    </tr>\n    <tr>\n      <th>91</th>\n      <td>9</td>\n      <td>Ян</td>\n      <td>21</td>\n      <td>Пятигорск</td>\n      <td>ultra</td>\n      <td>979.657684</td>\n      <td>17.521497</td>\n      <td>2021-03-08</td>\n      <td>3</td>\n      <td>6</td>\n      <td>0</td>\n      <td>199</td>\n    </tr>\n    <tr>\n      <th>...</th>\n      <td>...</td>\n      <td>...</td>\n      <td>...</td>\n      <td>...</td>\n      <td>...</td>\n      <td>...</td>\n      <td>...</td>\n      <td>...</td>\n      <td>...</td>\n      <td>...</td>\n      <td>...</td>\n      <td>...</td>\n    </tr>\n    <tr>\n      <th>18031</th>\n      <td>1532</td>\n      <td>Алексей</td>\n      <td>26</td>\n      <td>Тюмень</td>\n      <td>free</td>\n      <td>303.787850</td>\n      <td>7.792490</td>\n      <td>2021-05-21</td>\n      <td>5</td>\n      <td>8</td>\n      <td>50</td>\n      <td>0</td>\n    </tr>\n    <tr>\n      <th>18037</th>\n      <td>1532</td>\n      <td>Алексей</td>\n      <td>26</td>\n      <td>Тюмень</td>\n      <td>free</td>\n      <td>662.468186</td>\n      <td>9.528773</td>\n      <td>2021-11-18</td>\n      <td>11</td>\n      <td>8</td>\n      <td>50</td>\n      <td>0</td>\n    </tr>\n    <tr>\n      <th>18043</th>\n      <td>1533</td>\n      <td>Степан</td>\n      <td>22</td>\n      <td>Краснодар</td>\n      <td>free</td>\n      <td>310.488247</td>\n      <td>10.642389</td>\n      <td>2021-02-21</td>\n      <td>2</td>\n      <td>8</td>\n      <td>50</td>\n      <td>0</td>\n    </tr>\n    <tr>\n      <th>18049</th>\n      <td>1533</td>\n      <td>Степан</td>\n      <td>22</td>\n      <td>Краснодар</td>\n      <td>free</td>\n      <td>1034.998188</td>\n      <td>6.299996</td>\n      <td>2021-06-23</td>\n      <td>6</td>\n      <td>8</td>\n      <td>50</td>\n      <td>0</td>\n    </tr>\n    <tr>\n      <th>18058</th>\n      <td>1534</td>\n      <td>Альберт</td>\n      <td>25</td>\n      <td>Краснодар</td>\n      <td>free</td>\n      <td>195.447469</td>\n      <td>6.469074</td>\n      <td>2021-06-11</td>\n      <td>6</td>\n      <td>8</td>\n      <td>50</td>\n      <td>0</td>\n    </tr>\n  </tbody>\n</table>\n<p>1796 rows × 12 columns</p>\n</div>"
     },
     "execution_count": 34,
     "metadata": {},
     "output_type": "execute_result"
    }
   ],
   "source": [
    "data[data['distance']<1500]"
   ]
  },
  {
   "cell_type": "markdown",
   "metadata": {
    "pycharm": {
     "name": "#%% md\n"
    }
   },
   "source": [
    "Посмотрим на доли городов с короткими (до 1500 метров) и с остальными поездками, возмодно в менее крупных городах доля поездок до 1500метров выше."
   ]
  },
  {
   "cell_type": "code",
   "execution_count": 35,
   "metadata": {
    "pycharm": {
     "name": "#%%\n"
    }
   },
   "outputs": [
    {
     "data": {
      "text/plain": "<Figure size 640x480 with 1 Axes>",
      "image/png": "[encoded data removed]"
     },
     "metadata": {},
     "output_type": "display_data"
    }
   ],
   "source": [
    "data[data['distance']<1500].groupby(['city'])['distance'].count().plot(\n",
    "    kind='pie',\n",
    "    title='Круговая диаграмма городов, в которых были заезды до 1.5 км',\n",
    "    autopct='%1.1f%%'\n",
    ");"
   ]
  },
  {
   "cell_type": "code",
   "execution_count": 36,
   "metadata": {
    "pycharm": {
     "name": "#%%\n"
    }
   },
   "outputs": [
    {
     "data": {
      "text/plain": "<Figure size 640x480 with 1 Axes>",
      "image/png": "[encoded data removed]"
     },
     "metadata": {},
     "output_type": "display_data"
    }
   ],
   "source": [
    "data[data['distance']>1500].groupby(['city'])['distance'].count().plot(\n",
    "    kind='pie',\n",
    "    title='Круговая диаграмма городов, в которых были заезды длиннее 1.5 км',\n",
    "    autopct='%1.1f%%'\n",
    ");"
   ]
  },
  {
   "cell_type": "markdown",
   "metadata": {
    "pycharm": {
     "name": "#%% md\n"
    }
   },
   "source": [
    "По графикам видно, что доли городов примерно одинаковые, вне зависимости от расстояния. Причин, по которым поездки могут быт короткими на первый взгляд нет."
   ]
  },
  {
   "cell_type": "markdown",
   "metadata": {
    "pycharm": {
     "name": "#%% md\n"
    }
   },
   "source": [
    "Построим график распределения времени сначала для пользователей с подпиской ultra, следом - пользователей с бесплатной подпиской"
   ]
  },
  {
   "cell_type": "code",
   "execution_count": 37,
   "metadata": {
    "pycharm": {
     "name": "#%%\n"
    }
   },
   "outputs": [
    {
     "name": "stdout",
     "output_type": "stream",
     "text": [
      "count    6500.000000\n",
      "mean       18.541985\n",
      "std         5.572048\n",
      "min         3.760353\n",
      "25%        14.524654\n",
      "50%        18.178153\n",
      "75%        21.884129\n",
      "max        40.823963\n",
      "Name: duration, dtype: float64\n"
     ]
    },
    {
     "data": {
      "text/plain": "<Figure size 800x500 with 2 Axes>",
      "image/png": "[encoded data removed]"
     },
     "metadata": {},
     "output_type": "display_data"
    }
   ],
   "source": [
    "get_histogram_boxplot(data_ultra['duration'])"
   ]
  },
  {
   "cell_type": "code",
   "execution_count": 38,
   "metadata": {
    "pycharm": {
     "name": "#%%\n"
    }
   },
   "outputs": [
    {
     "name": "stdout",
     "output_type": "stream",
     "text": [
      "count    11568.000000\n",
      "mean        17.390909\n",
      "std          6.326803\n",
      "min          0.500000\n",
      "25%         12.958437\n",
      "50%         17.326890\n",
      "75%         21.594071\n",
      "max         34.948498\n",
      "Name: duration, dtype: float64\n"
     ]
    },
    {
     "data": {
      "text/plain": "<Figure size 800x500 with 2 Axes>",
      "image/png": "[encoded data removed]"
     },
     "metadata": {},
     "output_type": "display_data"
    }
   ],
   "source": [
    "get_histogram_boxplot(data_free['duration'])"
   ]
  },
  {
   "cell_type": "markdown",
   "metadata": {
    "pycharm": {
     "name": "#%% md\n"
    }
   },
   "source": [
    "Пользователи с подпиской ultra в среднем катаются чуть дольше, чем пользователи с бесплатной подпиской. Значения с продолжительностью поездки = 0.5 минуты есть только среди пользователей с бесплатной подпиской. Возможно, это какой-то технический сбой, возможно, это какие-то мошеннические операции и есть лазейки в мобильном приложении, при котором идет отслеживание расстояния, но нет отслеживания времени. В любом случае необходимо рассказать разработчикам.\n",
    "\n",
    "Так же посмотрим сами данные. Попробуем найти какие-то взаимосвязи в этих данных."
   ]
  },
  {
   "cell_type": "code",
   "execution_count": 39,
   "metadata": {
    "pycharm": {
     "name": "#%%\n"
    }
   },
   "outputs": [
    {
     "data": {
      "text/plain": "       user_id        name  age            city subscription_type  \\\n31         701        Иван   31    Екатеринбург              free   \n70         704       Мирон   29  Ростов-на-Дону              free   \n180        712       Дарья   28          Москва              free   \n195        713   Святослав   30       Краснодар              free   \n268        718  Владислава   31          Москва              free   \n...        ...         ...  ...             ...               ...   \n10504     1460       Жанна   27       Пятигорск              free   \n10742     1477          Ян   17            Сочи              free   \n10814     1483      Роберт   26    Екатеринбург              free   \n11005     1496         Яна   19          Москва              free   \n11409     1524      Матвей   32          Москва              free   \n\n          distance  duration       date  month  minute_price  \\\n31     4196.445201       0.5 2021-08-31      8             8   \n70     4830.824371       0.5 2021-10-14     10             8   \n180    4684.004397       0.5 2021-03-04      3             8   \n195    5215.642710       0.5 2021-02-25      2             8   \n268    5197.436649       0.5 2021-02-11      2             8   \n...            ...       ...        ...    ...           ...   \n10504  5531.335845       0.5 2021-01-19      1             8   \n10742  6724.932981       0.5 2021-01-12      1             8   \n10814  4445.481070       0.5 2021-03-06      3             8   \n11005  5722.551787       0.5 2021-02-14      2             8   \n11409  4103.998874       0.5 2021-06-18      6             8   \n\n       start_ride_price  subscription_fee  \n31                   50                 0  \n70                   50                 0  \n180                  50                 0  \n195                  50                 0  \n268                  50                 0  \n...                 ...               ...  \n10504                50                 0  \n10742                50                 0  \n10814                50                 0  \n11005                50                 0  \n11409                50                 0  \n\n[95 rows x 12 columns]",
      "text/html": "<div>\n<style scoped>\n    .dataframe tbody tr th:only-of-type {\n        vertical-align: middle;\n    }\n\n    .dataframe tbody tr th {\n        vertical-align: top;\n    }\n\n    .dataframe thead th {\n        text-align: right;\n    }\n</style>\n<table border=\"1\" class=\"dataframe\">\n  <thead>\n    <tr style=\"text-align: right;\">\n      <th></th>\n      <th>user_id</th>\n      <th>name</th>\n      <th>age</th>\n      <th>city</th>\n      <th>subscription_type</th>\n      <th>distance</th>\n      <th>duration</th>\n      <th>date</th>\n      <th>month</th>\n      <th>minute_price</th>\n      <th>start_ride_price</th>\n      <th>subscription_fee</th>\n    </tr>\n  </thead>\n  <tbody>\n    <tr>\n      <th>31</th>\n      <td>701</td>\n      <td>Иван</td>\n      <td>31</td>\n      <td>Екатеринбург</td>\n      <td>free</td>\n      <td>4196.445201</td>\n      <td>0.5</td>\n      <td>2021-08-31</td>\n      <td>8</td>\n      <td>8</td>\n      <td>50</td>\n      <td>0</td>\n    </tr>\n    <tr>\n      <th>70</th>\n      <td>704</td>\n      <td>Мирон</td>\n      <td>29</td>\n      <td>Ростов-на-Дону</td>\n      <td>free</td>\n      <td>4830.824371</td>\n      <td>0.5</td>\n      <td>2021-10-14</td>\n      <td>10</td>\n      <td>8</td>\n      <td>50</td>\n      <td>0</td>\n    </tr>\n    <tr>\n      <th>180</th>\n      <td>712</td>\n      <td>Дарья</td>\n      <td>28</td>\n      <td>Москва</td>\n      <td>free</td>\n      <td>4684.004397</td>\n      <td>0.5</td>\n      <td>2021-03-04</td>\n      <td>3</td>\n      <td>8</td>\n      <td>50</td>\n      <td>0</td>\n    </tr>\n    <tr>\n      <th>195</th>\n      <td>713</td>\n      <td>Святослав</td>\n      <td>30</td>\n      <td>Краснодар</td>\n      <td>free</td>\n      <td>5215.642710</td>\n      <td>0.5</td>\n      <td>2021-02-25</td>\n      <td>2</td>\n      <td>8</td>\n      <td>50</td>\n      <td>0</td>\n    </tr>\n    <tr>\n      <th>268</th>\n      <td>718</td>\n      <td>Владислава</td>\n      <td>31</td>\n      <td>Москва</td>\n      <td>free</td>\n      <td>5197.436649</td>\n      <td>0.5</td>\n      <td>2021-02-11</td>\n      <td>2</td>\n      <td>8</td>\n      <td>50</td>\n      <td>0</td>\n    </tr>\n    <tr>\n      <th>...</th>\n      <td>...</td>\n      <td>...</td>\n      <td>...</td>\n      <td>...</td>\n      <td>...</td>\n      <td>...</td>\n      <td>...</td>\n      <td>...</td>\n      <td>...</td>\n      <td>...</td>\n      <td>...</td>\n      <td>...</td>\n    </tr>\n    <tr>\n      <th>10504</th>\n      <td>1460</td>\n      <td>Жанна</td>\n      <td>27</td>\n      <td>Пятигорск</td>\n      <td>free</td>\n      <td>5531.335845</td>\n      <td>0.5</td>\n      <td>2021-01-19</td>\n      <td>1</td>\n      <td>8</td>\n      <td>50</td>\n      <td>0</td>\n    </tr>\n    <tr>\n      <th>10742</th>\n      <td>1477</td>\n      <td>Ян</td>\n      <td>17</td>\n      <td>Сочи</td>\n      <td>free</td>\n      <td>6724.932981</td>\n      <td>0.5</td>\n      <td>2021-01-12</td>\n      <td>1</td>\n      <td>8</td>\n      <td>50</td>\n      <td>0</td>\n    </tr>\n    <tr>\n      <th>10814</th>\n      <td>1483</td>\n      <td>Роберт</td>\n      <td>26</td>\n      <td>Екатеринбург</td>\n      <td>free</td>\n      <td>4445.481070</td>\n      <td>0.5</td>\n      <td>2021-03-06</td>\n      <td>3</td>\n      <td>8</td>\n      <td>50</td>\n      <td>0</td>\n    </tr>\n    <tr>\n      <th>11005</th>\n      <td>1496</td>\n      <td>Яна</td>\n      <td>19</td>\n      <td>Москва</td>\n      <td>free</td>\n      <td>5722.551787</td>\n      <td>0.5</td>\n      <td>2021-02-14</td>\n      <td>2</td>\n      <td>8</td>\n      <td>50</td>\n      <td>0</td>\n    </tr>\n    <tr>\n      <th>11409</th>\n      <td>1524</td>\n      <td>Матвей</td>\n      <td>32</td>\n      <td>Москва</td>\n      <td>free</td>\n      <td>4103.998874</td>\n      <td>0.5</td>\n      <td>2021-06-18</td>\n      <td>6</td>\n      <td>8</td>\n      <td>50</td>\n      <td>0</td>\n    </tr>\n  </tbody>\n</table>\n<p>95 rows × 12 columns</p>\n</div>"
     },
     "execution_count": 39,
     "metadata": {},
     "output_type": "execute_result"
    }
   ],
   "source": [
    "short_duration = data_free.query('duration <= 1')\n",
    "short_duration"
   ]
  },
  {
   "cell_type": "markdown",
   "metadata": {
    "pycharm": {
     "name": "#%% md\n"
    }
   },
   "source": [
    "Возможно, есть пользователи, у которых несколько поездок с коротким временем"
   ]
  },
  {
   "cell_type": "code",
   "execution_count": 40,
   "metadata": {
    "pycharm": {
     "name": "#%%\n"
    }
   },
   "outputs": [
    {
     "data": {
      "text/plain": "5"
     },
     "execution_count": 40,
     "metadata": {},
     "output_type": "execute_result"
    }
   ],
   "source": [
    "short_duration['user_id'].duplicated().sum()"
   ]
  },
  {
   "cell_type": "code",
   "execution_count": 41,
   "metadata": {
    "pycharm": {
     "name": "#%%\n"
    }
   },
   "outputs": [
    {
     "data": {
      "text/plain": "      user_id       name  age       city subscription_type     distance  \\\n3717      973  Александр   27       Омск              free  4578.711073   \n3729      973  Александр   27       Омск              free  5052.769411   \n4198     1007      Жанна   33  Пятигорск              free  5245.629783   \n4199     1007      Жанна   33  Пятигорск              free  4633.256106   \n7198     1224  Александр   25  Пятигорск              free  4430.510768   \n7201     1224  Александр   25  Пятигорск              free  6414.516026   \n7476     1243     Эдуард   31     Москва              free  4434.740681   \n7479     1243     Эдуард   31     Москва              free  5095.432818   \n9129     1364         Ян   31     Тюмень              free  4375.042408   \n9136     1364         Ян   31     Тюмень              free  4697.638430   \n\n      duration       date  month  minute_price  start_ride_price  \\\n3717       0.5 2021-03-01      3             8                50   \n3729       0.5 2021-11-27     11             8                50   \n4198       0.5 2021-04-12      4             8                50   \n4199       0.5 2021-04-27      4             8                50   \n7198       0.5 2021-01-15      1             8                50   \n7201       0.5 2021-07-15      7             8                50   \n7476       0.5 2021-05-31      5             8                50   \n7479       0.5 2021-12-02     12             8                50   \n9129       0.5 2021-10-23     10             8                50   \n9136       0.5 2021-12-20     12             8                50   \n\n      subscription_fee  \n3717                 0  \n3729                 0  \n4198                 0  \n4199                 0  \n7198                 0  \n7201                 0  \n7476                 0  \n7479                 0  \n9129                 0  \n9136                 0  ",
      "text/html": "<div>\n<style scoped>\n    .dataframe tbody tr th:only-of-type {\n        vertical-align: middle;\n    }\n\n    .dataframe tbody tr th {\n        vertical-align: top;\n    }\n\n    .dataframe thead th {\n        text-align: right;\n    }\n</style>\n<table border=\"1\" class=\"dataframe\">\n  <thead>\n    <tr style=\"text-align: right;\">\n      <th></th>\n      <th>user_id</th>\n      <th>name</th>\n      <th>age</th>\n      <th>city</th>\n      <th>subscription_type</th>\n      <th>distance</th>\n      <th>duration</th>\n      <th>date</th>\n      <th>month</th>\n      <th>minute_price</th>\n      <th>start_ride_price</th>\n      <th>subscription_fee</th>\n    </tr>\n  </thead>\n  <tbody>\n    <tr>\n      <th>3717</th>\n      <td>973</td>\n      <td>Александр</td>\n      <td>27</td>\n      <td>Омск</td>\n      <td>free</td>\n      <td>4578.711073</td>\n      <td>0.5</td>\n      <td>2021-03-01</td>\n      <td>3</td>\n      <td>8</td>\n      <td>50</td>\n      <td>0</td>\n    </tr>\n    <tr>\n      <th>3729</th>\n      <td>973</td>\n      <td>Александр</td>\n      <td>27</td>\n      <td>Омск</td>\n      <td>free</td>\n      <td>5052.769411</td>\n      <td>0.5</td>\n      <td>2021-11-27</td>\n      <td>11</td>\n      <td>8</td>\n      <td>50</td>\n      <td>0</td>\n    </tr>\n    <tr>\n      <th>4198</th>\n      <td>1007</td>\n      <td>Жанна</td>\n      <td>33</td>\n      <td>Пятигорск</td>\n      <td>free</td>\n      <td>5245.629783</td>\n      <td>0.5</td>\n      <td>2021-04-12</td>\n      <td>4</td>\n      <td>8</td>\n      <td>50</td>\n      <td>0</td>\n    </tr>\n    <tr>\n      <th>4199</th>\n      <td>1007</td>\n      <td>Жанна</td>\n      <td>33</td>\n      <td>Пятигорск</td>\n      <td>free</td>\n      <td>4633.256106</td>\n      <td>0.5</td>\n      <td>2021-04-27</td>\n      <td>4</td>\n      <td>8</td>\n      <td>50</td>\n      <td>0</td>\n    </tr>\n    <tr>\n      <th>7198</th>\n      <td>1224</td>\n      <td>Александр</td>\n      <td>25</td>\n      <td>Пятигорск</td>\n      <td>free</td>\n      <td>4430.510768</td>\n      <td>0.5</td>\n      <td>2021-01-15</td>\n      <td>1</td>\n      <td>8</td>\n      <td>50</td>\n      <td>0</td>\n    </tr>\n    <tr>\n      <th>7201</th>\n      <td>1224</td>\n      <td>Александр</td>\n      <td>25</td>\n      <td>Пятигорск</td>\n      <td>free</td>\n      <td>6414.516026</td>\n      <td>0.5</td>\n      <td>2021-07-15</td>\n      <td>7</td>\n      <td>8</td>\n      <td>50</td>\n      <td>0</td>\n    </tr>\n    <tr>\n      <th>7476</th>\n      <td>1243</td>\n      <td>Эдуард</td>\n      <td>31</td>\n      <td>Москва</td>\n      <td>free</td>\n      <td>4434.740681</td>\n      <td>0.5</td>\n      <td>2021-05-31</td>\n      <td>5</td>\n      <td>8</td>\n      <td>50</td>\n      <td>0</td>\n    </tr>\n    <tr>\n      <th>7479</th>\n      <td>1243</td>\n      <td>Эдуард</td>\n      <td>31</td>\n      <td>Москва</td>\n      <td>free</td>\n      <td>5095.432818</td>\n      <td>0.5</td>\n      <td>2021-12-02</td>\n      <td>12</td>\n      <td>8</td>\n      <td>50</td>\n      <td>0</td>\n    </tr>\n    <tr>\n      <th>9129</th>\n      <td>1364</td>\n      <td>Ян</td>\n      <td>31</td>\n      <td>Тюмень</td>\n      <td>free</td>\n      <td>4375.042408</td>\n      <td>0.5</td>\n      <td>2021-10-23</td>\n      <td>10</td>\n      <td>8</td>\n      <td>50</td>\n      <td>0</td>\n    </tr>\n    <tr>\n      <th>9136</th>\n      <td>1364</td>\n      <td>Ян</td>\n      <td>31</td>\n      <td>Тюмень</td>\n      <td>free</td>\n      <td>4697.638430</td>\n      <td>0.5</td>\n      <td>2021-12-20</td>\n      <td>12</td>\n      <td>8</td>\n      <td>50</td>\n      <td>0</td>\n    </tr>\n  </tbody>\n</table>\n</div>"
     },
     "execution_count": 41,
     "metadata": {},
     "output_type": "execute_result"
    }
   ],
   "source": [
    "short_duration[short_duration['user_id'].isin(short_duration[short_duration['user_id'].duplicated()]['user_id'])]"
   ]
  },
  {
   "cell_type": "code",
   "execution_count": 42,
   "metadata": {
    "pycharm": {
     "name": "#%%\n"
    }
   },
   "outputs": [
    {
     "data": {
      "text/plain": "<Figure size 640x480 with 1 Axes>",
      "image/png": "[encoded data removed]"
     },
     "metadata": {},
     "output_type": "display_data"
    }
   ],
   "source": [
    "data_free.query('duration < 1').groupby('city')['city'].count().sort_values().plot(\n",
    "    kind='bar',\n",
    "    title='Распределение городов с продолжительностью менее 1 минуты',\n",
    "    xlabel='Город',\n",
    "    ylabel='Частота'\n",
    ");"
   ]
  },
  {
   "cell_type": "markdown",
   "metadata": {
    "pycharm": {
     "name": "#%% md\n"
    }
   },
   "source": [
    "Такие заезды встречаются во всех городах. И видно, что это поездки, совершенные разными людьми.\n",
    "Однако есть 5 людей, у кого по 2 такие поездки. Если это лазейки в системе, возможно они бы чаще этим пользовались.\n",
    "В целом, очевидных взаимосвязей между этими поездками нет, но они явно не возможно, приблизим их к реальным цифрам. Заменим на среднее время поездки (необходимо будет умножить известное расстояние на медианную скорость поездки)."
   ]
  },
  {
   "cell_type": "code",
   "execution_count": 43,
   "metadata": {
    "pycharm": {
     "name": "#%%\n"
    }
   },
   "outputs": [
    {
     "data": {
      "text/plain": "176.6403758331612"
     },
     "execution_count": 43,
     "metadata": {},
     "output_type": "execute_result"
    }
   ],
   "source": [
    "median_speed = data[data['duration']>1]['distance'].median()/data[data['duration']>1]['duration'].median()\n",
    "median_speed"
   ]
  },
  {
   "cell_type": "code",
   "execution_count": 44,
   "metadata": {
    "pycharm": {
     "name": "#%%\n"
    }
   },
   "outputs": [
    {
     "data": {
      "text/plain": "Empty DataFrame\nColumns: [user_id, name, age, city, subscription_type, distance, duration, date, month, minute_price, start_ride_price, subscription_fee]\nIndex: []",
      "text/html": "<div>\n<style scoped>\n    .dataframe tbody tr th:only-of-type {\n        vertical-align: middle;\n    }\n\n    .dataframe tbody tr th {\n        vertical-align: top;\n    }\n\n    .dataframe thead th {\n        text-align: right;\n    }\n</style>\n<table border=\"1\" class=\"dataframe\">\n  <thead>\n    <tr style=\"text-align: right;\">\n      <th></th>\n      <th>user_id</th>\n      <th>name</th>\n      <th>age</th>\n      <th>city</th>\n      <th>subscription_type</th>\n      <th>distance</th>\n      <th>duration</th>\n      <th>date</th>\n      <th>month</th>\n      <th>minute_price</th>\n      <th>start_ride_price</th>\n      <th>subscription_fee</th>\n    </tr>\n  </thead>\n  <tbody>\n  </tbody>\n</table>\n</div>"
     },
     "execution_count": 44,
     "metadata": {},
     "output_type": "execute_result"
    }
   ],
   "source": [
    "data.loc[data['duration']<1, 'duration'] = data['distance'].apply(lambda x: x/median_speed)\n",
    "data[data['duration']<1]"
   ]
  },
  {
   "cell_type": "code",
   "execution_count": 45,
   "metadata": {
    "pycharm": {
     "name": "#%%\n"
    }
   },
   "outputs": [
    {
     "data": {
      "text/plain": "Empty DataFrame\nColumns: [user_id, name, age, city, subscription_type, distance, duration, date, month, minute_price, start_ride_price, subscription_fee]\nIndex: []",
      "text/html": "<div>\n<style scoped>\n    .dataframe tbody tr th:only-of-type {\n        vertical-align: middle;\n    }\n\n    .dataframe tbody tr th {\n        vertical-align: top;\n    }\n\n    .dataframe thead th {\n        text-align: right;\n    }\n</style>\n<table border=\"1\" class=\"dataframe\">\n  <thead>\n    <tr style=\"text-align: right;\">\n      <th></th>\n      <th>user_id</th>\n      <th>name</th>\n      <th>age</th>\n      <th>city</th>\n      <th>subscription_type</th>\n      <th>distance</th>\n      <th>duration</th>\n      <th>date</th>\n      <th>month</th>\n      <th>minute_price</th>\n      <th>start_ride_price</th>\n      <th>subscription_fee</th>\n    </tr>\n  </thead>\n  <tbody>\n  </tbody>\n</table>\n</div>"
     },
     "execution_count": 45,
     "metadata": {},
     "output_type": "execute_result"
    }
   ],
   "source": [
    "data_free.loc[data_free['duration']<1, 'duration'] = data_free['distance'].apply(lambda x: x/median_speed)\n",
    "data_free.loc[data_free['duration']<1]"
   ]
  },
  {
   "cell_type": "code",
   "execution_count": 46,
   "metadata": {
    "pycharm": {
     "name": "#%%\n"
    }
   },
   "outputs": [
    {
     "data": {
      "text/plain": "   user_id  name  age    city subscription_type     distance  duration  \\\n0        1  Кира   22  Тюмень             ultra  4409.919140      26.0   \n1        1  Кира   22  Тюмень             ultra  2617.592153      16.0   \n2        1  Кира   22  Тюмень             ultra   754.159807       7.0   \n3        1  Кира   22  Тюмень             ultra  2694.783254      19.0   \n4        1  Кира   22  Тюмень             ultra  4028.687306      27.0   \n\n        date  month  minute_price  start_ride_price  subscription_fee  \n0 2021-01-01      1             6                 0               199  \n1 2021-01-18      1             6                 0               199  \n2 2021-04-20      4             6                 0               199  \n3 2021-08-11      8             6                 0               199  \n4 2021-08-28      8             6                 0               199  ",
      "text/html": "<div>\n<style scoped>\n    .dataframe tbody tr th:only-of-type {\n        vertical-align: middle;\n    }\n\n    .dataframe tbody tr th {\n        vertical-align: top;\n    }\n\n    .dataframe thead th {\n        text-align: right;\n    }\n</style>\n<table border=\"1\" class=\"dataframe\">\n  <thead>\n    <tr style=\"text-align: right;\">\n      <th></th>\n      <th>user_id</th>\n      <th>name</th>\n      <th>age</th>\n      <th>city</th>\n      <th>subscription_type</th>\n      <th>distance</th>\n      <th>duration</th>\n      <th>date</th>\n      <th>month</th>\n      <th>minute_price</th>\n      <th>start_ride_price</th>\n      <th>subscription_fee</th>\n    </tr>\n  </thead>\n  <tbody>\n    <tr>\n      <th>0</th>\n      <td>1</td>\n      <td>Кира</td>\n      <td>22</td>\n      <td>Тюмень</td>\n      <td>ultra</td>\n      <td>4409.919140</td>\n      <td>26.0</td>\n      <td>2021-01-01</td>\n      <td>1</td>\n      <td>6</td>\n      <td>0</td>\n      <td>199</td>\n    </tr>\n    <tr>\n      <th>1</th>\n      <td>1</td>\n      <td>Кира</td>\n      <td>22</td>\n      <td>Тюмень</td>\n      <td>ultra</td>\n      <td>2617.592153</td>\n      <td>16.0</td>\n      <td>2021-01-18</td>\n      <td>1</td>\n      <td>6</td>\n      <td>0</td>\n      <td>199</td>\n    </tr>\n    <tr>\n      <th>2</th>\n      <td>1</td>\n      <td>Кира</td>\n      <td>22</td>\n      <td>Тюмень</td>\n      <td>ultra</td>\n      <td>754.159807</td>\n      <td>7.0</td>\n      <td>2021-04-20</td>\n      <td>4</td>\n      <td>6</td>\n      <td>0</td>\n      <td>199</td>\n    </tr>\n    <tr>\n      <th>3</th>\n      <td>1</td>\n      <td>Кира</td>\n      <td>22</td>\n      <td>Тюмень</td>\n      <td>ultra</td>\n      <td>2694.783254</td>\n      <td>19.0</td>\n      <td>2021-08-11</td>\n      <td>8</td>\n      <td>6</td>\n      <td>0</td>\n      <td>199</td>\n    </tr>\n    <tr>\n      <th>4</th>\n      <td>1</td>\n      <td>Кира</td>\n      <td>22</td>\n      <td>Тюмень</td>\n      <td>ultra</td>\n      <td>4028.687306</td>\n      <td>27.0</td>\n      <td>2021-08-28</td>\n      <td>8</td>\n      <td>6</td>\n      <td>0</td>\n      <td>199</td>\n    </tr>\n  </tbody>\n</table>\n</div>"
     },
     "execution_count": 46,
     "metadata": {},
     "output_type": "execute_result"
    }
   ],
   "source": [
    "data['duration'] = np.ceil(data['duration'])\n",
    "data.head()"
   ]
  },
  {
   "cell_type": "code",
   "execution_count": 47,
   "metadata": {
    "pycharm": {
     "name": "#%%\n"
    }
   },
   "outputs": [
    {
     "name": "stdout",
     "output_type": "stream",
     "text": [
      "count    11568.000000\n",
      "mean        17.624523\n",
      "std          6.232196\n",
      "min          2.035632\n",
      "25%         13.127082\n",
      "50%         17.446822\n",
      "75%         21.779484\n",
      "max         40.823100\n",
      "Name: duration, dtype: float64\n"
     ]
    },
    {
     "data": {
      "text/plain": "<Figure size 800x500 with 2 Axes>",
      "image/png": "[encoded data removed]"
     },
     "metadata": {},
     "output_type": "display_data"
    }
   ],
   "source": [
    "get_histogram_boxplot(data_free['duration'])"
   ]
  },
  {
   "cell_type": "markdown",
   "metadata": {
    "pycharm": {
     "name": "#%% md\n"
    }
   },
   "source": [
    "### Подсчёт выручки"
   ]
  },
  {
   "cell_type": "markdown",
   "metadata": {
    "pycharm": {
     "name": "#%% md\n"
    }
   },
   "source": [
    "*Создадим датафрейм с агрегированными данными о поездках на основе датафрейма с объединёнными данными: найдём суммарное расстояние, количество поездок и суммарное время для каждого пользователя за каждый месяц.*"
   ]
  },
  {
   "cell_type": "code",
   "execution_count": 48,
   "metadata": {
    "pycharm": {
     "name": "#%%\n"
    }
   },
   "outputs": [
    {
     "data": {
      "text/plain": "   user_id  name  age    city subscription_type     distance  duration  \\\n0        1  Кира   22  Тюмень             ultra  4409.919140      26.0   \n1        1  Кира   22  Тюмень             ultra  2617.592153      16.0   \n2        1  Кира   22  Тюмень             ultra   754.159807       7.0   \n3        1  Кира   22  Тюмень             ultra  2694.783254      19.0   \n4        1  Кира   22  Тюмень             ultra  4028.687306      27.0   \n\n        date  month  minute_price  start_ride_price  subscription_fee  \n0 2021-01-01      1             6                 0               199  \n1 2021-01-18      1             6                 0               199  \n2 2021-04-20      4             6                 0               199  \n3 2021-08-11      8             6                 0               199  \n4 2021-08-28      8             6                 0               199  ",
      "text/html": "<div>\n<style scoped>\n    .dataframe tbody tr th:only-of-type {\n        vertical-align: middle;\n    }\n\n    .dataframe tbody tr th {\n        vertical-align: top;\n    }\n\n    .dataframe thead th {\n        text-align: right;\n    }\n</style>\n<table border=\"1\" class=\"dataframe\">\n  <thead>\n    <tr style=\"text-align: right;\">\n      <th></th>\n      <th>user_id</th>\n      <th>name</th>\n      <th>age</th>\n      <th>city</th>\n      <th>subscription_type</th>\n      <th>distance</th>\n      <th>duration</th>\n      <th>date</th>\n      <th>month</th>\n      <th>minute_price</th>\n      <th>start_ride_price</th>\n      <th>subscription_fee</th>\n    </tr>\n  </thead>\n  <tbody>\n    <tr>\n      <th>0</th>\n      <td>1</td>\n      <td>Кира</td>\n      <td>22</td>\n      <td>Тюмень</td>\n      <td>ultra</td>\n      <td>4409.919140</td>\n      <td>26.0</td>\n      <td>2021-01-01</td>\n      <td>1</td>\n      <td>6</td>\n      <td>0</td>\n      <td>199</td>\n    </tr>\n    <tr>\n      <th>1</th>\n      <td>1</td>\n      <td>Кира</td>\n      <td>22</td>\n      <td>Тюмень</td>\n      <td>ultra</td>\n      <td>2617.592153</td>\n      <td>16.0</td>\n      <td>2021-01-18</td>\n      <td>1</td>\n      <td>6</td>\n      <td>0</td>\n      <td>199</td>\n    </tr>\n    <tr>\n      <th>2</th>\n      <td>1</td>\n      <td>Кира</td>\n      <td>22</td>\n      <td>Тюмень</td>\n      <td>ultra</td>\n      <td>754.159807</td>\n      <td>7.0</td>\n      <td>2021-04-20</td>\n      <td>4</td>\n      <td>6</td>\n      <td>0</td>\n      <td>199</td>\n    </tr>\n    <tr>\n      <th>3</th>\n      <td>1</td>\n      <td>Кира</td>\n      <td>22</td>\n      <td>Тюмень</td>\n      <td>ultra</td>\n      <td>2694.783254</td>\n      <td>19.0</td>\n      <td>2021-08-11</td>\n      <td>8</td>\n      <td>6</td>\n      <td>0</td>\n      <td>199</td>\n    </tr>\n    <tr>\n      <th>4</th>\n      <td>1</td>\n      <td>Кира</td>\n      <td>22</td>\n      <td>Тюмень</td>\n      <td>ultra</td>\n      <td>4028.687306</td>\n      <td>27.0</td>\n      <td>2021-08-28</td>\n      <td>8</td>\n      <td>6</td>\n      <td>0</td>\n      <td>199</td>\n    </tr>\n  </tbody>\n</table>\n</div>"
     },
     "execution_count": 48,
     "metadata": {},
     "output_type": "execute_result"
    }
   ],
   "source": [
    "data.head()"
   ]
  },
  {
   "cell_type": "code",
   "execution_count": 49,
   "metadata": {
    "pycharm": {
     "name": "#%%\n"
    }
   },
   "outputs": [
    {
     "data": {
      "text/plain": "   user_id  month  rides_count  distance_total  duration_total  minute_price  \\\n0        1      1            2     7027.511294            42.0             6   \n1        1      4            1      754.159807             7.0             6   \n2        1      8            2     6723.470560            46.0             6   \n3        1     10            2     5809.911100            32.0             6   \n4        1     11            3     7003.499363            56.0             6   \n\n   start_ride_price  subscription_fee subscription_type  \n0                 0               199             ultra  \n1                 0               199             ultra  \n2                 0               199             ultra  \n3                 0               199             ultra  \n4                 0               199             ultra  ",
      "text/html": "<div>\n<style scoped>\n    .dataframe tbody tr th:only-of-type {\n        vertical-align: middle;\n    }\n\n    .dataframe tbody tr th {\n        vertical-align: top;\n    }\n\n    .dataframe thead th {\n        text-align: right;\n    }\n</style>\n<table border=\"1\" class=\"dataframe\">\n  <thead>\n    <tr style=\"text-align: right;\">\n      <th></th>\n      <th>user_id</th>\n      <th>month</th>\n      <th>rides_count</th>\n      <th>distance_total</th>\n      <th>duration_total</th>\n      <th>minute_price</th>\n      <th>start_ride_price</th>\n      <th>subscription_fee</th>\n      <th>subscription_type</th>\n    </tr>\n  </thead>\n  <tbody>\n    <tr>\n      <th>0</th>\n      <td>1</td>\n      <td>1</td>\n      <td>2</td>\n      <td>7027.511294</td>\n      <td>42.0</td>\n      <td>6</td>\n      <td>0</td>\n      <td>199</td>\n      <td>ultra</td>\n    </tr>\n    <tr>\n      <th>1</th>\n      <td>1</td>\n      <td>4</td>\n      <td>1</td>\n      <td>754.159807</td>\n      <td>7.0</td>\n      <td>6</td>\n      <td>0</td>\n      <td>199</td>\n      <td>ultra</td>\n    </tr>\n    <tr>\n      <th>2</th>\n      <td>1</td>\n      <td>8</td>\n      <td>2</td>\n      <td>6723.470560</td>\n      <td>46.0</td>\n      <td>6</td>\n      <td>0</td>\n      <td>199</td>\n      <td>ultra</td>\n    </tr>\n    <tr>\n      <th>3</th>\n      <td>1</td>\n      <td>10</td>\n      <td>2</td>\n      <td>5809.911100</td>\n      <td>32.0</td>\n      <td>6</td>\n      <td>0</td>\n      <td>199</td>\n      <td>ultra</td>\n    </tr>\n    <tr>\n      <th>4</th>\n      <td>1</td>\n      <td>11</td>\n      <td>3</td>\n      <td>7003.499363</td>\n      <td>56.0</td>\n      <td>6</td>\n      <td>0</td>\n      <td>199</td>\n      <td>ultra</td>\n    </tr>\n  </tbody>\n</table>\n</div>"
     },
     "execution_count": 49,
     "metadata": {},
     "output_type": "execute_result"
    }
   ],
   "source": [
    "grouped_data = data.pivot_table(\n",
    "    index=['user_id', 'month'],\n",
    "    values=['distance', 'duration', 'subscription_type', 'minute_price', 'start_ride_price', 'subscription_fee'],\n",
    "    aggfunc={\n",
    "        'distance': ['sum', 'count'],\n",
    "        'duration': 'sum',\n",
    "        'subscription_type': 'first',\n",
    "        'minute_price': 'first',\n",
    "        'start_ride_price': 'first',\n",
    "        'subscription_fee': 'first'\n",
    "    }).reset_index()\n",
    "\n",
    "grouped_data.columns = ['user_id', 'month' , 'rides_count', 'distance_total', 'duration_total', 'minute_price', 'start_ride_price', 'subscription_fee', 'subscription_type']\n",
    "grouped_data.head()"
   ]
  },
  {
   "cell_type": "markdown",
   "metadata": {
    "pycharm": {
     "name": "#%% md\n"
    }
   },
   "source": [
    "*В этот же датафрейм добавим столбец с помесячной выручкой, которую принёс каждый пользователь. Для этого обратимся к информации об условиях оплаты для подписчиков и тех, у кого нет подписки. Продолжительность каждой поездки в каждой строке исходного датафрейма для подсчёта стоимости округляется до следующего целого числа.*"
   ]
  },
  {
   "cell_type": "code",
   "execution_count": 50,
   "metadata": {
    "pycharm": {
     "name": "#%%\n"
    }
   },
   "outputs": [],
   "source": [
    "def n(row):\n",
    "    return row['start_ride_price'] * row['rides_count'] + row['minute_price'] * row['duration_total'] + row['subscription_fee']"
   ]
  },
  {
   "cell_type": "code",
   "execution_count": 51,
   "metadata": {
    "pycharm": {
     "name": "#%%\n"
    }
   },
   "outputs": [
    {
     "data": {
      "text/plain": "   user_id  month  rides_count  distance_total  duration_total  minute_price  \\\n0        1      1            2     7027.511294            42.0             6   \n1        1      4            1      754.159807             7.0             6   \n2        1      8            2     6723.470560            46.0             6   \n3        1     10            2     5809.911100            32.0             6   \n4        1     11            3     7003.499363            56.0             6   \n\n   start_ride_price  subscription_fee subscription_type  income  \n0                 0               199             ultra   451.0  \n1                 0               199             ultra   241.0  \n2                 0               199             ultra   475.0  \n3                 0               199             ultra   391.0  \n4                 0               199             ultra   535.0  ",
      "text/html": "<div>\n<style scoped>\n    .dataframe tbody tr th:only-of-type {\n        vertical-align: middle;\n    }\n\n    .dataframe tbody tr th {\n        vertical-align: top;\n    }\n\n    .dataframe thead th {\n        text-align: right;\n    }\n</style>\n<table border=\"1\" class=\"dataframe\">\n  <thead>\n    <tr style=\"text-align: right;\">\n      <th></th>\n      <th>user_id</th>\n      <th>month</th>\n      <th>rides_count</th>\n      <th>distance_total</th>\n      <th>duration_total</th>\n      <th>minute_price</th>\n      <th>start_ride_price</th>\n      <th>subscription_fee</th>\n      <th>subscription_type</th>\n      <th>income</th>\n    </tr>\n  </thead>\n  <tbody>\n    <tr>\n      <th>0</th>\n      <td>1</td>\n      <td>1</td>\n      <td>2</td>\n      <td>7027.511294</td>\n      <td>42.0</td>\n      <td>6</td>\n      <td>0</td>\n      <td>199</td>\n      <td>ultra</td>\n      <td>451.0</td>\n    </tr>\n    <tr>\n      <th>1</th>\n      <td>1</td>\n      <td>4</td>\n      <td>1</td>\n      <td>754.159807</td>\n      <td>7.0</td>\n      <td>6</td>\n      <td>0</td>\n      <td>199</td>\n      <td>ultra</td>\n      <td>241.0</td>\n    </tr>\n    <tr>\n      <th>2</th>\n      <td>1</td>\n      <td>8</td>\n      <td>2</td>\n      <td>6723.470560</td>\n      <td>46.0</td>\n      <td>6</td>\n      <td>0</td>\n      <td>199</td>\n      <td>ultra</td>\n      <td>475.0</td>\n    </tr>\n    <tr>\n      <th>3</th>\n      <td>1</td>\n      <td>10</td>\n      <td>2</td>\n      <td>5809.911100</td>\n      <td>32.0</td>\n      <td>6</td>\n      <td>0</td>\n      <td>199</td>\n      <td>ultra</td>\n      <td>391.0</td>\n    </tr>\n    <tr>\n      <th>4</th>\n      <td>1</td>\n      <td>11</td>\n      <td>3</td>\n      <td>7003.499363</td>\n      <td>56.0</td>\n      <td>6</td>\n      <td>0</td>\n      <td>199</td>\n      <td>ultra</td>\n      <td>535.0</td>\n    </tr>\n  </tbody>\n</table>\n</div>"
     },
     "execution_count": 51,
     "metadata": {},
     "output_type": "execute_result"
    }
   ],
   "source": [
    "grouped_data['income'] = grouped_data.apply(n, axis=1)\n",
    "grouped_data.head()"
   ]
  },
  {
   "cell_type": "markdown",
   "metadata": {
    "pycharm": {
     "name": "#%% md\n"
    }
   },
   "source": [
    "### Проверка гипотез"
   ]
  },
  {
   "cell_type": "markdown",
   "metadata": {
    "pycharm": {
     "name": "#%% md\n"
    }
   },
   "source": [
    "*Важно понять, тратят ли пользователи с подпиской больше времени на поездки? Если да, то пользователи с подпиской могут быть «выгоднее» для компании. Проверим гипотезу. Используем исходные данные о продолжительности каждой сессии — отдельно для подписчиков и тех, у кого нет подписки.*"
   ]
  },
  {
   "cell_type": "markdown",
   "metadata": {
    "pycharm": {
     "name": "#%% md\n"
    }
   },
   "source": [
    "Предположим, то есть альтернативная гипотеза - что пользователи с подпиской тратят больше времени на поездки. Нулевая - пользователи тратят одинаково."
   ]
  },
  {
   "cell_type": "code",
   "execution_count": 52,
   "metadata": {
    "pycharm": {
     "name": "#%%\n"
    }
   },
   "outputs": [
    {
     "name": "stdout",
     "output_type": "stream",
     "text": [
      "Mean duration of ultra users: 18.54198516280583\n",
      "Mean duration of free users: 17.62452336929048\n",
      "Standard deviation of ultra users: 5.571619693672497\n",
      "Standard deviation of free users: 6.2319267181734785\n",
      "Statistic: 9.859262288648386\n",
      "P-value: 3.5697754825886724e-23\n",
      "Отвергаем нулевую гипотезу\n"
     ]
    }
   ],
   "source": [
    "alpha = 0.05\n",
    "\n",
    "ultra_users = data_ultra['duration']\n",
    "free_users = data_free['duration']\n",
    "\n",
    "ultra_users_mean = ultra_users.mean()\n",
    "free_users_mean = free_users.mean()\n",
    "ultra_users_std = (np.var(ultra_users))**0.5\n",
    "free_users_std = (np.var(free_users))**0.5\n",
    "\n",
    "results = st.ttest_ind(ultra_users, free_users, alternative='greater')\n",
    "\n",
    "print(f'Mean duration of ultra users: {ultra_users_mean}')\n",
    "print(f'Mean duration of free users: {free_users_mean}')\n",
    "print(f'Standard deviation of ultra users: {ultra_users_std}')\n",
    "print(f'Standard deviation of free users: {free_users_std}')\n",
    "print(f'Statistic: {results.statistic}')\n",
    "print(f'P-value: {results.pvalue}')\n",
    "\n",
    "if results.pvalue < alpha:\n",
    "    print('Отвергаем нулевую гипотезу')\n",
    "else:\n",
    "    print('Не получилось отвергнуть нулевую гипотезу')"
   ]
  },
  {
   "cell_type": "markdown",
   "metadata": {
    "pycharm": {
     "name": "#%% md\n"
    }
   },
   "source": [
    "pvalue очень маленький, то есть вероятность случайно получить такое и большее различие при верной нулевой гипотезе крайне мало. Таким образом, есть основания предполагать, что продолжительность поездок у людей с подпиской больше, чем у людей без подписки."
   ]
  },
  {
   "cell_type": "markdown",
   "metadata": {
    "pycharm": {
     "name": "#%% md\n"
    }
   },
   "source": [
    "#### Расстояние одной поездки в 3130 метров — оптимальное с точки зрения износа самоката. Можно ли сказать, что расстояние, которое проезжают пользователи с подпиской за одну поездку, не превышает 3130 метров? Проверим гипотезу."
   ]
  },
  {
   "cell_type": "markdown",
   "metadata": {
    "pycharm": {
     "name": "#%% md\n"
    }
   },
   "source": [
    "Нулевая гипотеза - расстояние меньше или равно 3130 метров. Альтернативная - расстояние более 3130 метров."
   ]
  },
  {
   "cell_type": "code",
   "execution_count": 53,
   "metadata": {
    "pycharm": {
     "name": "#%%\n"
    }
   },
   "outputs": [
    {
     "name": "stdout",
     "output_type": "stream",
     "text": [
      "Mean: 3115.4453880370247\n",
      "Standard deviation: 836.8309511609637\n",
      "Statistic: -1.402123166869486\n",
      "P-value: 0.9195368847849785\n",
      "Не получилось отвергнуть нулевую гипотезу\n"
     ]
    }
   ],
   "source": [
    "sample =  data[data['subscription_type'] == 'ultra']['distance']\n",
    "interested_value = 3130\n",
    "alpha = 0.05\n",
    "\n",
    "mean = sample.mean()\n",
    "std = (np.var(sample))**0.5\n",
    "\n",
    "results = st.ttest_1samp(sample, interested_value, alternative = 'greater')\n",
    "\n",
    "print(f'Mean: {mean}')\n",
    "print(f'Standard deviation: {std}')\n",
    "print(f'Statistic: {results.statistic}')\n",
    "print(f'P-value: {results.pvalue}')\n",
    "\n",
    "if results.pvalue < alpha:\n",
    "    print('Отвергаем нулевую гипотезу')\n",
    "else:\n",
    "    print('Не получилось отвергнуть нулевую гипотезу')"
   ]
  },
  {
   "cell_type": "markdown",
   "metadata": {
    "pycharm": {
     "name": "#%% md\n"
    }
   },
   "source": [
    "p-value = 92%, нет оснований для отвержения нулевой гипотезы. Среднее значение выборки пользователей с подпиской = 3115, таким образом, предположение, что расстояние, которое проезжает в среднем меньше или равно 3130 метров не отвергается."
   ]
  },
  {
   "cell_type": "markdown",
   "metadata": {
    "pycharm": {
     "name": "#%% md\n"
    }
   },
   "source": [
    "#### Проверьте гипотезу о том, будет ли помесячная выручка от пользователей с подпиской по месяцам выше, чем выручка от пользователей без подписки. Сделайте вывод.\n"
   ]
  },
  {
   "cell_type": "markdown",
   "metadata": {
    "pycharm": {
     "name": "#%% md\n"
    }
   },
   "source": [
    "Нулевая гипотеза - помесячная выручка от пользователей с подпиской равна выручке от пользователей с без подписки.\n",
    "Альтернативная - что помесячная выручка от пользователей с подпиской по месяцам выше, чем выручка от пользователей без подписки. \n",
    "Так как данные только за 2021 год, соберем данные для тестирования гипотез."
   ]
  },
  {
   "cell_type": "code",
   "execution_count": 54,
   "metadata": {
    "pycharm": {
     "name": "#%%\n"
    }
   },
   "outputs": [
    {
     "name": "stdout",
     "output_type": "stream",
     "text": [
      "Mean income of ultra users: 362.7921906022502\n",
      "Mean income of free users: 331.8234774933804\n",
      "Standard deviation of ultra users: 88.25300083333195\n",
      "Standard deviation of free users: 185.15420613365453\n",
      "Statistic: 10.49332693495557\n",
      "P-value: 6.07594324062104e-26\n",
      "Отвергаем нулевую гипотезу\n"
     ]
    }
   ],
   "source": [
    "alpha = 0.05\n",
    "ultra_months_income = grouped_data.loc[grouped_data['subscription_type'] == 'ultra']['income']\n",
    "free_months_income = grouped_data.loc[grouped_data['subscription_type'] == 'free']['income']\n",
    "\n",
    "ultra_users_mean = ultra_months_income.mean()\n",
    "free_users_mean = free_months_income.mean()\n",
    "ultra_users_std = (np.var(ultra_months_income))**0.5\n",
    "free_users_std = (np.var(free_months_income))**0.5\n",
    "\n",
    "results = st.ttest_ind(ultra_months_income, free_months_income, alternative='greater')\n",
    "\n",
    "print(f'Mean income of ultra users: {ultra_users_mean}')\n",
    "print(f'Mean income of free users: {free_users_mean}')\n",
    "print(f'Standard deviation of ultra users: {ultra_users_std}')\n",
    "print(f'Standard deviation of free users: {free_users_std}')\n",
    "print(f'Statistic: {results.statistic}')\n",
    "print(f'P-value: {results.pvalue}')\n",
    "\n",
    "if results.pvalue < alpha:\n",
    "    print('Отвергаем нулевую гипотезу')\n",
    "else:\n",
    "    print('Не получилось отвергнуть нулевую гипотезу')"
   ]
  },
  {
   "cell_type": "markdown",
   "metadata": {
    "pycharm": {
     "name": "#%% md\n"
    }
   },
   "source": [
    "P-value очень маленький, а значит вероятность случайно получить такую разницу между средними и больше крайне мала, таким образом мы отвергаем нулевую гипотезу в пользу альтернативной, и принимаем что средняя выручка от пользователей с подпиской больше, чем без подписки."
   ]
  },
  {
   "cell_type": "markdown",
   "metadata": {
    "pycharm": {
     "name": "#%% md\n"
    }
   },
   "source": [
    "#### Шаг 7 Распределения\n"
   ]
  },
  {
   "cell_type": "markdown",
   "metadata": {
    "pycharm": {
     "name": "#%% md\n"
    }
   },
   "source": [
    "#### 7.1 Отделу маркетинга GoFast поставили задачу: нужно провести акцию с раздачей промокодов на один бесплатный месяц подписки, в рамках которой как минимум 100 существующих клиентов должны продлить эту подписку. То есть по завершении периода действия подписки пользователь может либо отказаться от неё, либо продлить, совершив соответствующий платёж.\n",
    "\n",
    "Эта акция уже проводилась ранее и по итогу выяснилось, что после бесплатного пробного периода подписку продлевают 10 % пользователей. Выясните, какое минимальное количество промокодов нужно разослать, чтобы вероятность не выполнить план была примерно 5 %. Подберите параметры распределения, описывающего эту ситуацию, постройте график распределения и сформулируйте ответ на вопрос о количестве промокодов."
   ]
  },
  {
   "cell_type": "markdown",
   "metadata": {
    "pycharm": {
     "name": "#%% md\n"
    }
   },
   "source": [
    "Для каждого человека, который получил месяц бесплатно всего может быть 2 исхода - подписка продлена и подписка не продлена. Это - эксперимент Бернулли. В данном случае этот эксперимент одинаковый для всех 100 людей и подписка одного человека не влияет на подписку другого. Мы имеем дело с биномиальным распределением."
   ]
  },
  {
   "cell_type": "code",
   "execution_count": 55,
   "metadata": {
    "pycharm": {
     "name": "#%%\n"
    }
   },
   "outputs": [
    {
     "data": {
      "text/plain": "<Figure size 640x480 with 1 Axes>",
      "image/png": "[encoded data removed]"
     },
     "metadata": {},
     "output_type": "display_data"
    }
   ],
   "source": [
    "n = 100\n",
    "p = 0.1\n",
    "distr = []\n",
    "\n",
    "for k in range(0, n + 1):\n",
    "    current_value = binom.pmf(k, n, p)\n",
    "    distr.append(current_value)\n",
    "\n",
    "plt.bar(range(0, n + 1), distr);\n",
    "plt.title('Распределение вероятностей подписок');\n",
    "plt.xlabel('Кол-во подписок')\n",
    "plt.ylabel('Вероятность')\n",
    "plt.grid('True')"
   ]
  },
  {
   "cell_type": "markdown",
   "metadata": {
    "pycharm": {
     "name": "#%% md\n"
    }
   },
   "source": [
    "Как видим, вероятность получить значение более 20 подписок стремится к нулю. Методом проб найдем значение бесплатных подписок, которое нам нужно для того, чтобы с вероятностью 95% получить 100 подписок (или с вероятностью 5% получить менее 100 подписок)"
   ]
  },
  {
   "cell_type": "code",
   "execution_count": 56,
   "metadata": {
    "pycharm": {
     "name": "#%%\n"
    }
   },
   "outputs": [
    {
     "data": {
      "text/plain": "0.05052351990721414"
     },
     "execution_count": 56,
     "metadata": {},
     "output_type": "execute_result"
    }
   ],
   "source": [
    "n = 1171\n",
    "p = 0.1\n",
    "k=100\n",
    "\n",
    "binom.cdf(k, n, p)"
   ]
  },
  {
   "cell_type": "code",
   "execution_count": 57,
   "outputs": [
    {
     "data": {
      "text/plain": "<Figure size 640x480 with 1 Axes>",
      "image/png": "[encoded data removed]"
     },
     "metadata": {},
     "output_type": "display_data"
    }
   ],
   "source": [
    "n = 1170\n",
    "p = 0.1\n",
    "distr = []\n",
    "\n",
    "for k in range(0, n + 1):\n",
    "    current_value = binom.pmf(k, n, p)\n",
    "    distr.append(current_value)\n",
    "\n",
    "plt.plot(range(0, n + 1), distr);\n",
    "plt.title('Распределение вероятностей подписок');\n",
    "plt.xlabel('Кол-во подписок')\n",
    "plt.ylabel('Вероятность')\n",
    "plt.grid('True')"
   ],
   "metadata": {
    "collapsed": false,
    "pycharm": {
     "name": "#%%\n"
    }
   }
  },
  {
   "cell_type": "markdown",
   "metadata": {
    "pycharm": {
     "name": "#%% md\n"
    }
   },
   "source": [
    "После подбора получилось, что необходимо сделать 1171 бесплатных подписок, чтобы с вероятностью 95% получить 100 продлений подписок."
   ]
  },
  {
   "cell_type": "markdown",
   "metadata": {
    "pycharm": {
     "name": "#%% md\n"
    }
   },
   "source": [
    "Мы проанализировали данные о пользователях приложения GoFast.\n",
    "\n",
    "Произвели предобработку данных, посмотрели на разные параметры, построили графики, исследовали и проверили несколько гипотез.\n",
    "\n",
    "Краткое описание данных:\n",
    "В приложении есть 2 типа подписок - бесплатная и ultra. Всего около 1500 пользователей, из низ 699 с подпиской ultra и 835 с бесплатной подпиской. \n",
    "\n",
    "Пользователи без подписки чаще ездят далее 5 км, средняя продолжительность поездки = 17 минут, а среднее расстояние поездки = 3115 метров.\n",
    "\n",
    "Пользователи с подпиской в среднем катаются чуть дольше, чем пользователи без подписки. Среднее время = 18 минут, а среднее расстояние поездки = 3150 метров.\n",
    "\n",
    "Больше всего пользователей из Пятигорска, меньше всего - в Москве.\n",
    "\n",
    "После проверки гипотез, были сделаны следующие выводы:  \n",
    "В среднем, продолжительность поездок у людей с подпиской больше, чем у людей без подписки.  \n",
    "3130 метров — оптимальное расстояние с точки зрения износа самоката. Пользователи с подпиской за одну поездку, в среднем проезжают менее 3130 метров.  \n",
    "Cредняя выручка от пользователей с подпиской больше, чем без подписки.\n",
    "\n",
    "\n",
    "В данных так же были странные значения, например есть поездки, которые длились 0.5 минут среди пользователей без подписки. А так же слишком короткие подписки среди бесплатных пользователей. Возможно, есть лазейки в приложении, позволяющие сбрасывать счетчик, либо это технический сбой - желательно проверить эти данные на стороне заказчика."
   ]
  }
 ],
 "metadata": {
  "ExecuteTimeLog": [
   {
    "duration": 1189,
    "start_time": "2023-06-30T23:52:51.531Z"
   },
   {
    "duration": 70,
    "start_time": "2023-06-30T23:52:52.722Z"
   },
   {
    "duration": 11,
    "start_time": "2023-06-30T23:52:52.793Z"
   },
   {
    "duration": 14,
    "start_time": "2023-06-30T23:52:52.805Z"
   },
   {
    "duration": 12,
    "start_time": "2023-06-30T23:52:52.821Z"
   },
   {
    "duration": 15,
    "start_time": "2023-06-30T23:52:52.835Z"
   },
   {
    "duration": 11,
    "start_time": "2023-06-30T23:52:52.851Z"
   },
   {
    "duration": 8,
    "start_time": "2023-06-30T23:52:52.863Z"
   },
   {
    "duration": 10,
    "start_time": "2023-06-30T23:52:52.872Z"
   },
   {
    "duration": 7,
    "start_time": "2023-06-30T23:52:52.883Z"
   },
   {
    "duration": 12,
    "start_time": "2023-06-30T23:52:52.891Z"
   },
   {
    "duration": 34,
    "start_time": "2023-06-30T23:52:52.905Z"
   },
   {
    "duration": 8,
    "start_time": "2023-06-30T23:52:52.941Z"
   },
   {
    "duration": 13,
    "start_time": "2023-06-30T23:52:52.952Z"
   },
   {
    "duration": 12,
    "start_time": "2023-06-30T23:52:52.967Z"
   },
   {
    "duration": 18,
    "start_time": "2023-06-30T23:52:52.981Z"
   },
   {
    "duration": 46,
    "start_time": "2023-06-30T23:52:53.000Z"
   },
   {
    "duration": 4,
    "start_time": "2023-06-30T23:52:53.047Z"
   },
   {
    "duration": 13,
    "start_time": "2023-06-30T23:52:53.052Z"
   },
   {
    "duration": 139,
    "start_time": "2023-06-30T23:52:53.067Z"
   },
   {
    "duration": 118,
    "start_time": "2023-06-30T23:52:53.208Z"
   },
   {
    "duration": 320,
    "start_time": "2023-06-30T23:52:53.331Z"
   },
   {
    "duration": 320,
    "start_time": "2023-06-30T23:52:53.653Z"
   },
   {
    "duration": 326,
    "start_time": "2023-06-30T23:52:53.975Z"
   },
   {
    "duration": 10,
    "start_time": "2023-06-30T23:52:54.303Z"
   },
   {
    "duration": 31,
    "start_time": "2023-06-30T23:52:54.314Z"
   },
   {
    "duration": 21,
    "start_time": "2023-06-30T23:52:54.347Z"
   },
   {
    "duration": 217,
    "start_time": "2023-06-30T23:52:54.369Z"
   },
   {
    "duration": 26,
    "start_time": "2023-06-30T23:52:54.587Z"
   },
   {
    "duration": 36,
    "start_time": "2023-06-30T23:52:54.615Z"
   },
   {
    "duration": 315,
    "start_time": "2023-06-30T23:52:54.653Z"
   },
   {
    "duration": 309,
    "start_time": "2023-06-30T23:52:54.970Z"
   },
   {
    "duration": 17,
    "start_time": "2023-06-30T23:52:55.281Z"
   },
   {
    "duration": 18,
    "start_time": "2023-06-30T23:52:55.299Z"
   },
   {
    "duration": 25,
    "start_time": "2023-06-30T23:52:55.331Z"
   },
   {
    "duration": 100,
    "start_time": "2023-06-30T23:52:55.358Z"
   },
   {
    "duration": 110,
    "start_time": "2023-06-30T23:52:55.460Z"
   },
   {
    "duration": 317,
    "start_time": "2023-06-30T23:52:55.572Z"
   },
   {
    "duration": 314,
    "start_time": "2023-06-30T23:52:55.890Z"
   },
   {
    "duration": 34,
    "start_time": "2023-06-30T23:52:56.205Z"
   },
   {
    "duration": 5,
    "start_time": "2023-06-30T23:52:56.243Z"
   },
   {
    "duration": 20,
    "start_time": "2023-06-30T23:52:56.250Z"
   },
   {
    "duration": 238,
    "start_time": "2023-06-30T23:52:56.272Z"
   },
   {
    "duration": 10,
    "start_time": "2023-06-30T23:52:56.512Z"
   },
   {
    "duration": 20,
    "start_time": "2023-06-30T23:52:56.531Z"
   },
   {
    "duration": 13,
    "start_time": "2023-06-30T23:52:56.553Z"
   },
   {
    "duration": 16,
    "start_time": "2023-06-30T23:52:56.568Z"
   },
   {
    "duration": 317,
    "start_time": "2023-06-30T23:52:56.585Z"
   },
   {
    "duration": 12,
    "start_time": "2023-06-30T23:52:56.903Z"
   },
   {
    "duration": 58,
    "start_time": "2023-06-30T23:52:56.932Z"
   },
   {
    "duration": 3,
    "start_time": "2023-06-30T23:52:56.992Z"
   },
   {
    "duration": 201,
    "start_time": "2023-06-30T23:52:56.996Z"
   },
   {
    "duration": 11,
    "start_time": "2023-06-30T23:52:57.199Z"
   },
   {
    "duration": 33,
    "start_time": "2023-06-30T23:52:57.211Z"
   },
   {
    "duration": 11,
    "start_time": "2023-06-30T23:52:57.245Z"
   },
   {
    "duration": 12,
    "start_time": "2023-06-30T23:52:57.257Z"
   },
   {
    "duration": 3,
    "start_time": "2023-06-30T23:52:57.270Z"
   },
   {
    "duration": 221,
    "start_time": "2023-06-30T23:52:57.274Z"
   },
   {
    "duration": 276,
    "start_time": "2023-06-30T23:52:57.497Z"
   },
   {
    "duration": 2,
    "start_time": "2023-06-30T23:52:57.775Z"
   },
   {
    "duration": 5,
    "start_time": "2023-06-30T23:59:52.088Z"
   },
   {
    "duration": 6,
    "start_time": "2023-07-01T00:00:05.383Z"
   },
   {
    "duration": 55,
    "start_time": "2023-07-01T10:27:06.220Z"
   },
   {
    "duration": 1499,
    "start_time": "2023-07-01T10:27:13.417Z"
   },
   {
    "duration": 332,
    "start_time": "2023-07-01T10:27:14.918Z"
   },
   {
    "duration": 25,
    "start_time": "2023-07-01T10:27:15.252Z"
   },
   {
    "duration": 16,
    "start_time": "2023-07-01T10:27:15.279Z"
   },
   {
    "duration": 14,
    "start_time": "2023-07-01T10:27:15.297Z"
   },
   {
    "duration": 27,
    "start_time": "2023-07-01T10:27:15.313Z"
   },
   {
    "duration": 22,
    "start_time": "2023-07-01T10:27:15.341Z"
   },
   {
    "duration": 27,
    "start_time": "2023-07-01T10:27:15.366Z"
   },
   {
    "duration": 20,
    "start_time": "2023-07-01T10:27:15.395Z"
   },
   {
    "duration": 22,
    "start_time": "2023-07-01T10:27:15.418Z"
   },
   {
    "duration": 29,
    "start_time": "2023-07-01T10:27:15.441Z"
   },
   {
    "duration": 26,
    "start_time": "2023-07-01T10:27:15.472Z"
   },
   {
    "duration": 20,
    "start_time": "2023-07-01T10:27:15.500Z"
   },
   {
    "duration": 26,
    "start_time": "2023-07-01T10:27:15.522Z"
   },
   {
    "duration": 29,
    "start_time": "2023-07-01T10:27:15.549Z"
   },
   {
    "duration": 52,
    "start_time": "2023-07-01T10:27:15.587Z"
   },
   {
    "duration": 47,
    "start_time": "2023-07-01T10:27:15.641Z"
   },
   {
    "duration": 4,
    "start_time": "2023-07-01T10:27:15.690Z"
   },
   {
    "duration": 34,
    "start_time": "2023-07-01T10:27:15.696Z"
   },
   {
    "duration": 176,
    "start_time": "2023-07-01T10:27:15.732Z"
   },
   {
    "duration": 141,
    "start_time": "2023-07-01T10:27:15.910Z"
   },
   {
    "duration": 349,
    "start_time": "2023-07-01T10:27:16.053Z"
   },
   {
    "duration": 380,
    "start_time": "2023-07-01T10:27:16.403Z"
   },
   {
    "duration": 364,
    "start_time": "2023-07-01T10:27:16.785Z"
   },
   {
    "duration": 19,
    "start_time": "2023-07-01T10:27:17.151Z"
   },
   {
    "duration": 13,
    "start_time": "2023-07-01T10:27:17.178Z"
   },
   {
    "duration": 37,
    "start_time": "2023-07-01T10:27:17.193Z"
   },
   {
    "duration": 282,
    "start_time": "2023-07-01T10:27:17.233Z"
   },
   {
    "duration": 23,
    "start_time": "2023-07-01T10:27:17.517Z"
   },
   {
    "duration": 46,
    "start_time": "2023-07-01T10:27:17.542Z"
   },
   {
    "duration": 322,
    "start_time": "2023-07-01T10:27:17.590Z"
   },
   {
    "duration": 362,
    "start_time": "2023-07-01T10:27:17.914Z"
   },
   {
    "duration": 22,
    "start_time": "2023-07-01T10:27:18.278Z"
   },
   {
    "duration": 29,
    "start_time": "2023-07-01T10:27:18.302Z"
   },
   {
    "duration": 54,
    "start_time": "2023-07-01T10:27:18.333Z"
   },
   {
    "duration": 113,
    "start_time": "2023-07-01T10:27:18.389Z"
   },
   {
    "duration": 117,
    "start_time": "2023-07-01T10:27:18.503Z"
   },
   {
    "duration": 368,
    "start_time": "2023-07-01T10:27:18.622Z"
   },
   {
    "duration": 405,
    "start_time": "2023-07-01T10:27:18.992Z"
   },
   {
    "duration": 21,
    "start_time": "2023-07-01T10:27:19.399Z"
   },
   {
    "duration": 86,
    "start_time": "2023-07-01T10:27:19.421Z"
   },
   {
    "duration": 115,
    "start_time": "2023-07-01T10:27:19.508Z"
   },
   {
    "duration": 281,
    "start_time": "2023-07-01T10:27:19.625Z"
   },
   {
    "duration": 10,
    "start_time": "2023-07-01T10:27:19.908Z"
   },
   {
    "duration": 17,
    "start_time": "2023-07-01T10:27:19.919Z"
   },
   {
    "duration": 31,
    "start_time": "2023-07-01T10:27:19.938Z"
   },
   {
    "duration": 23,
    "start_time": "2023-07-01T10:27:19.978Z"
   },
   {
    "duration": 384,
    "start_time": "2023-07-01T10:27:20.003Z"
   },
   {
    "duration": 13,
    "start_time": "2023-07-01T10:27:20.389Z"
   },
   {
    "duration": 73,
    "start_time": "2023-07-01T10:27:20.404Z"
   },
   {
    "duration": 7,
    "start_time": "2023-07-01T10:27:20.481Z"
   },
   {
    "duration": 246,
    "start_time": "2023-07-01T10:27:20.489Z"
   },
   {
    "duration": 1354,
    "start_time": "2023-07-01T10:27:20.737Z"
   },
   {
    "duration": 0,
    "start_time": "2023-07-01T10:27:22.093Z"
   },
   {
    "duration": 0,
    "start_time": "2023-07-01T10:27:22.094Z"
   },
   {
    "duration": 0,
    "start_time": "2023-07-01T10:27:22.095Z"
   },
   {
    "duration": 0,
    "start_time": "2023-07-01T10:27:22.097Z"
   },
   {
    "duration": 0,
    "start_time": "2023-07-01T10:27:22.097Z"
   },
   {
    "duration": 0,
    "start_time": "2023-07-01T10:27:22.099Z"
   },
   {
    "duration": 0,
    "start_time": "2023-07-01T10:27:22.100Z"
   },
   {
    "duration": 99,
    "start_time": "2023-07-01T12:31:37.544Z"
   },
   {
    "duration": 1638,
    "start_time": "2023-07-01T12:31:56.166Z"
   },
   {
    "duration": 4,
    "start_time": "2023-07-01T12:32:05.503Z"
   },
   {
    "duration": 232,
    "start_time": "2023-07-01T12:32:07.706Z"
   },
   {
    "duration": 18,
    "start_time": "2023-07-01T12:32:10.329Z"
   },
   {
    "duration": 20,
    "start_time": "2023-07-01T12:32:11.925Z"
   },
   {
    "duration": 171,
    "start_time": "2023-07-01T12:33:49.947Z"
   },
   {
    "duration": 6,
    "start_time": "2023-07-01T12:34:19.567Z"
   },
   {
    "duration": 75,
    "start_time": "2023-07-01T12:34:20.641Z"
   },
   {
    "duration": 15,
    "start_time": "2023-07-01T12:34:23.022Z"
   },
   {
    "duration": 11,
    "start_time": "2023-07-01T12:34:24.223Z"
   },
   {
    "duration": 15,
    "start_time": "2023-07-01T12:34:26.569Z"
   },
   {
    "duration": 12,
    "start_time": "2023-07-01T12:34:27.692Z"
   },
   {
    "duration": 15,
    "start_time": "2023-07-01T12:34:29.297Z"
   },
   {
    "duration": 10,
    "start_time": "2023-07-01T12:34:30.305Z"
   },
   {
    "duration": 17,
    "start_time": "2023-07-01T12:34:33.418Z"
   },
   {
    "duration": 9,
    "start_time": "2023-07-01T12:34:35.200Z"
   },
   {
    "duration": 18,
    "start_time": "2023-07-01T12:34:35.967Z"
   },
   {
    "duration": 14,
    "start_time": "2023-07-01T12:34:38.874Z"
   },
   {
    "duration": 13,
    "start_time": "2023-07-01T12:34:39.478Z"
   },
   {
    "duration": 21,
    "start_time": "2023-07-01T12:34:42.876Z"
   },
   {
    "duration": 8,
    "start_time": "2023-07-01T12:34:48.799Z"
   },
   {
    "duration": 25,
    "start_time": "2023-07-01T12:35:33.742Z"
   },
   {
    "duration": 109,
    "start_time": "2023-07-01T12:44:46.378Z"
   },
   {
    "duration": 178,
    "start_time": "2023-07-01T12:44:55.767Z"
   },
   {
    "duration": 146,
    "start_time": "2023-07-01T12:44:59.789Z"
   },
   {
    "duration": 81,
    "start_time": "2023-07-01T12:48:52.112Z"
   },
   {
    "duration": 72,
    "start_time": "2023-07-01T12:48:57.468Z"
   },
   {
    "duration": 143,
    "start_time": "2023-07-01T12:49:03.600Z"
   },
   {
    "duration": 169,
    "start_time": "2023-07-01T12:49:15.090Z"
   },
   {
    "duration": 170,
    "start_time": "2023-07-01T12:49:48.736Z"
   },
   {
    "duration": 72,
    "start_time": "2023-07-01T12:50:46.005Z"
   },
   {
    "duration": 101,
    "start_time": "2023-07-01T12:51:00.262Z"
   },
   {
    "duration": 85,
    "start_time": "2023-07-01T12:51:36.500Z"
   },
   {
    "duration": 105,
    "start_time": "2023-07-01T12:52:22.177Z"
   },
   {
    "duration": 115,
    "start_time": "2023-07-01T12:52:31.968Z"
   },
   {
    "duration": 100,
    "start_time": "2023-07-01T12:53:36.499Z"
   },
   {
    "duration": 140,
    "start_time": "2023-07-01T12:54:22.502Z"
   },
   {
    "duration": 137,
    "start_time": "2023-07-01T12:54:35.609Z"
   },
   {
    "duration": 13,
    "start_time": "2023-07-01T12:55:21.753Z"
   },
   {
    "duration": 5,
    "start_time": "2023-07-01T12:55:26.863Z"
   },
   {
    "duration": 368,
    "start_time": "2023-07-01T12:55:27.705Z"
   },
   {
    "duration": 174,
    "start_time": "2023-07-01T12:56:11.496Z"
   },
   {
    "duration": 80,
    "start_time": "2023-07-01T12:56:28.145Z"
   },
   {
    "duration": 139,
    "start_time": "2023-07-01T12:56:52.199Z"
   },
   {
    "duration": 151,
    "start_time": "2023-07-01T12:56:57.515Z"
   },
   {
    "duration": 11,
    "start_time": "2023-07-01T12:58:52.756Z"
   },
   {
    "duration": 1321,
    "start_time": "2023-07-01T12:58:59.971Z"
   },
   {
    "duration": 90,
    "start_time": "2023-07-01T12:59:01.294Z"
   },
   {
    "duration": 17,
    "start_time": "2023-07-01T12:59:01.386Z"
   },
   {
    "duration": 52,
    "start_time": "2023-07-01T12:59:01.406Z"
   },
   {
    "duration": 32,
    "start_time": "2023-07-01T12:59:01.461Z"
   },
   {
    "duration": 33,
    "start_time": "2023-07-01T12:59:01.495Z"
   },
   {
    "duration": 46,
    "start_time": "2023-07-01T12:59:01.530Z"
   },
   {
    "duration": 37,
    "start_time": "2023-07-01T12:59:01.577Z"
   },
   {
    "duration": 39,
    "start_time": "2023-07-01T12:59:01.616Z"
   },
   {
    "duration": 32,
    "start_time": "2023-07-01T12:59:01.659Z"
   },
   {
    "duration": 41,
    "start_time": "2023-07-01T12:59:01.693Z"
   },
   {
    "duration": 30,
    "start_time": "2023-07-01T12:59:01.737Z"
   },
   {
    "duration": 34,
    "start_time": "2023-07-01T12:59:01.770Z"
   },
   {
    "duration": 21,
    "start_time": "2023-07-01T12:59:01.806Z"
   },
   {
    "duration": 7,
    "start_time": "2023-07-01T12:59:01.829Z"
   },
   {
    "duration": 36,
    "start_time": "2023-07-01T12:59:01.838Z"
   },
   {
    "duration": 32,
    "start_time": "2023-07-01T12:59:01.876Z"
   },
   {
    "duration": 23,
    "start_time": "2023-07-01T12:59:01.911Z"
   },
   {
    "duration": 8,
    "start_time": "2023-07-01T12:59:01.936Z"
   },
   {
    "duration": 49,
    "start_time": "2023-07-01T12:59:01.946Z"
   },
   {
    "duration": 190,
    "start_time": "2023-07-01T12:59:01.998Z"
   },
   {
    "duration": 156,
    "start_time": "2023-07-01T12:59:02.191Z"
   },
   {
    "duration": 405,
    "start_time": "2023-07-01T12:59:02.349Z"
   },
   {
    "duration": 376,
    "start_time": "2023-07-01T12:59:02.756Z"
   },
   {
    "duration": 400,
    "start_time": "2023-07-01T12:59:03.134Z"
   },
   {
    "duration": 22,
    "start_time": "2023-07-01T12:59:03.536Z"
   },
   {
    "duration": 10,
    "start_time": "2023-07-01T12:59:03.560Z"
   },
   {
    "duration": 20,
    "start_time": "2023-07-01T12:59:03.574Z"
   },
   {
    "duration": 299,
    "start_time": "2023-07-01T12:59:03.596Z"
   },
   {
    "duration": 25,
    "start_time": "2023-07-01T12:59:03.898Z"
   },
   {
    "duration": 48,
    "start_time": "2023-07-01T12:59:03.925Z"
   },
   {
    "duration": 492,
    "start_time": "2023-07-01T12:59:03.976Z"
   },
   {
    "duration": 728,
    "start_time": "2023-07-01T12:59:04.471Z"
   },
   {
    "duration": 26,
    "start_time": "2023-07-01T12:59:05.253Z"
   },
   {
    "duration": 84,
    "start_time": "2023-07-01T12:59:05.281Z"
   },
   {
    "duration": 89,
    "start_time": "2023-07-01T12:59:05.367Z"
   },
   {
    "duration": 231,
    "start_time": "2023-07-01T12:59:05.458Z"
   },
   {
    "duration": 274,
    "start_time": "2023-07-01T12:59:05.691Z"
   },
   {
    "duration": 667,
    "start_time": "2023-07-01T12:59:05.967Z"
   },
   {
    "duration": 378,
    "start_time": "2023-07-01T12:59:06.652Z"
   },
   {
    "duration": 35,
    "start_time": "2023-07-01T12:59:07.032Z"
   },
   {
    "duration": 19,
    "start_time": "2023-07-01T12:59:07.069Z"
   },
   {
    "duration": 18,
    "start_time": "2023-07-01T12:59:07.090Z"
   },
   {
    "duration": 306,
    "start_time": "2023-07-01T12:59:07.109Z"
   },
   {
    "duration": 12,
    "start_time": "2023-07-01T12:59:07.417Z"
   },
   {
    "duration": 35,
    "start_time": "2023-07-01T12:59:07.430Z"
   },
   {
    "duration": 16,
    "start_time": "2023-07-01T12:59:07.466Z"
   },
   {
    "duration": 26,
    "start_time": "2023-07-01T12:59:07.484Z"
   },
   {
    "duration": 364,
    "start_time": "2023-07-01T12:59:07.512Z"
   },
   {
    "duration": 14,
    "start_time": "2023-07-01T12:59:07.878Z"
   },
   {
    "duration": 85,
    "start_time": "2023-07-01T12:59:07.894Z"
   },
   {
    "duration": 3,
    "start_time": "2023-07-01T12:59:07.981Z"
   },
   {
    "duration": 250,
    "start_time": "2023-07-01T12:59:07.986Z"
   },
   {
    "duration": 1361,
    "start_time": "2023-07-01T12:59:08.238Z"
   },
   {
    "duration": 0,
    "start_time": "2023-07-01T12:59:09.601Z"
   },
   {
    "duration": 0,
    "start_time": "2023-07-01T12:59:09.603Z"
   },
   {
    "duration": 0,
    "start_time": "2023-07-01T12:59:09.604Z"
   },
   {
    "duration": 0,
    "start_time": "2023-07-01T12:59:09.606Z"
   },
   {
    "duration": 0,
    "start_time": "2023-07-01T12:59:09.607Z"
   },
   {
    "duration": 0,
    "start_time": "2023-07-01T12:59:09.609Z"
   },
   {
    "duration": 0,
    "start_time": "2023-07-01T12:59:09.611Z"
   },
   {
    "duration": 174,
    "start_time": "2023-07-01T12:59:43.184Z"
   },
   {
    "duration": 151,
    "start_time": "2023-07-01T13:00:51.812Z"
   },
   {
    "duration": 156,
    "start_time": "2023-07-01T13:01:21.457Z"
   },
   {
    "duration": 270,
    "start_time": "2023-07-01T13:01:32.045Z"
   },
   {
    "duration": 144,
    "start_time": "2023-07-01T13:01:49.699Z"
   },
   {
    "duration": 617,
    "start_time": "2023-07-01T13:02:17.747Z"
   },
   {
    "duration": 157,
    "start_time": "2023-07-01T13:02:26.501Z"
   },
   {
    "duration": 17,
    "start_time": "2023-07-01T13:05:18.925Z"
   },
   {
    "duration": 33,
    "start_time": "2023-07-01T13:06:41.281Z"
   },
   {
    "duration": 1346,
    "start_time": "2023-07-01T13:09:17.540Z"
   },
   {
    "duration": 69,
    "start_time": "2023-07-01T13:09:18.889Z"
   },
   {
    "duration": 15,
    "start_time": "2023-07-01T13:09:18.960Z"
   },
   {
    "duration": 22,
    "start_time": "2023-07-01T13:09:18.977Z"
   },
   {
    "duration": 13,
    "start_time": "2023-07-01T13:09:19.001Z"
   },
   {
    "duration": 14,
    "start_time": "2023-07-01T13:09:19.016Z"
   },
   {
    "duration": 29,
    "start_time": "2023-07-01T13:09:19.032Z"
   },
   {
    "duration": 11,
    "start_time": "2023-07-01T13:09:19.063Z"
   },
   {
    "duration": 14,
    "start_time": "2023-07-01T13:09:19.076Z"
   },
   {
    "duration": 7,
    "start_time": "2023-07-01T13:09:19.093Z"
   },
   {
    "duration": 21,
    "start_time": "2023-07-01T13:09:19.102Z"
   },
   {
    "duration": 50,
    "start_time": "2023-07-01T13:09:19.124Z"
   },
   {
    "duration": 23,
    "start_time": "2023-07-01T13:09:19.176Z"
   },
   {
    "duration": 16,
    "start_time": "2023-07-01T13:09:19.201Z"
   },
   {
    "duration": 6,
    "start_time": "2023-07-01T13:09:19.219Z"
   },
   {
    "duration": 42,
    "start_time": "2023-07-01T13:09:19.227Z"
   },
   {
    "duration": 33,
    "start_time": "2023-07-01T13:09:19.271Z"
   },
   {
    "duration": 22,
    "start_time": "2023-07-01T13:09:19.306Z"
   },
   {
    "duration": 5,
    "start_time": "2023-07-01T13:09:19.352Z"
   },
   {
    "duration": 32,
    "start_time": "2023-07-01T13:09:19.359Z"
   },
   {
    "duration": 176,
    "start_time": "2023-07-01T13:09:19.393Z"
   },
   {
    "duration": 144,
    "start_time": "2023-07-01T13:09:19.571Z"
   },
   {
    "duration": 345,
    "start_time": "2023-07-01T13:09:19.717Z"
   },
   {
    "duration": 378,
    "start_time": "2023-07-01T13:09:20.064Z"
   },
   {
    "duration": 376,
    "start_time": "2023-07-01T13:09:20.445Z"
   },
   {
    "duration": 11,
    "start_time": "2023-07-01T13:09:20.822Z"
   },
   {
    "duration": 29,
    "start_time": "2023-07-01T13:09:20.836Z"
   },
   {
    "duration": 26,
    "start_time": "2023-07-01T13:09:20.870Z"
   },
   {
    "duration": 307,
    "start_time": "2023-07-01T13:09:20.898Z"
   },
   {
    "duration": 24,
    "start_time": "2023-07-01T13:09:21.207Z"
   },
   {
    "duration": 35,
    "start_time": "2023-07-01T13:09:21.233Z"
   },
   {
    "duration": 342,
    "start_time": "2023-07-01T13:09:21.271Z"
   },
   {
    "duration": 349,
    "start_time": "2023-07-01T13:09:21.615Z"
   },
   {
    "duration": 21,
    "start_time": "2023-07-01T13:09:21.967Z"
   },
   {
    "duration": 21,
    "start_time": "2023-07-01T13:09:21.990Z"
   },
   {
    "duration": 53,
    "start_time": "2023-07-01T13:09:22.012Z"
   },
   {
    "duration": 147,
    "start_time": "2023-07-01T13:09:22.067Z"
   },
   {
    "duration": 178,
    "start_time": "2023-07-01T13:09:22.217Z"
   },
   {
    "duration": 436,
    "start_time": "2023-07-01T13:09:22.397Z"
   },
   {
    "duration": 733,
    "start_time": "2023-07-01T13:09:22.835Z"
   },
   {
    "duration": 25,
    "start_time": "2023-07-01T13:09:23.570Z"
   },
   {
    "duration": 7,
    "start_time": "2023-07-01T13:09:23.651Z"
   },
   {
    "duration": 22,
    "start_time": "2023-07-01T13:09:23.660Z"
   },
   {
    "duration": 584,
    "start_time": "2023-07-01T13:09:23.684Z"
   },
   {
    "duration": 13,
    "start_time": "2023-07-01T13:09:24.270Z"
   },
   {
    "duration": 72,
    "start_time": "2023-07-01T13:09:24.284Z"
   },
   {
    "duration": 17,
    "start_time": "2023-07-01T13:09:24.358Z"
   },
   {
    "duration": 79,
    "start_time": "2023-07-01T13:09:24.377Z"
   },
   {
    "duration": 589,
    "start_time": "2023-07-01T13:09:24.458Z"
   },
   {
    "duration": 15,
    "start_time": "2023-07-01T13:09:25.052Z"
   },
   {
    "duration": 67,
    "start_time": "2023-07-01T13:09:25.069Z"
   },
   {
    "duration": 14,
    "start_time": "2023-07-01T13:09:25.138Z"
   },
   {
    "duration": 232,
    "start_time": "2023-07-01T13:09:25.154Z"
   },
   {
    "duration": 12,
    "start_time": "2023-07-01T13:09:25.388Z"
   },
   {
    "duration": 17,
    "start_time": "2023-07-01T13:09:25.402Z"
   },
   {
    "duration": 35,
    "start_time": "2023-07-01T13:09:25.421Z"
   },
   {
    "duration": 60,
    "start_time": "2023-07-01T13:09:25.458Z"
   },
   {
    "duration": 3,
    "start_time": "2023-07-01T13:09:25.520Z"
   },
   {
    "duration": 287,
    "start_time": "2023-07-01T13:09:25.525Z"
   },
   {
    "duration": 303,
    "start_time": "2023-07-01T13:09:25.814Z"
   },
   {
    "duration": 2,
    "start_time": "2023-07-01T13:09:26.119Z"
   },
   {
    "duration": 233,
    "start_time": "2023-07-01T13:10:45.063Z"
   },
   {
    "duration": 193,
    "start_time": "2023-07-01T13:11:08.796Z"
   },
   {
    "duration": 132,
    "start_time": "2023-07-01T13:11:29.072Z"
   },
   {
    "duration": 1215,
    "start_time": "2023-07-01T13:11:39.284Z"
   },
   {
    "duration": 68,
    "start_time": "2023-07-01T13:11:40.502Z"
   },
   {
    "duration": 13,
    "start_time": "2023-07-01T13:11:40.571Z"
   },
   {
    "duration": 29,
    "start_time": "2023-07-01T13:11:40.587Z"
   },
   {
    "duration": 15,
    "start_time": "2023-07-01T13:11:40.618Z"
   },
   {
    "duration": 11,
    "start_time": "2023-07-01T13:11:40.635Z"
   },
   {
    "duration": 14,
    "start_time": "2023-07-01T13:11:40.652Z"
   },
   {
    "duration": 10,
    "start_time": "2023-07-01T13:11:40.668Z"
   },
   {
    "duration": 12,
    "start_time": "2023-07-01T13:11:40.680Z"
   },
   {
    "duration": 8,
    "start_time": "2023-07-01T13:11:40.695Z"
   },
   {
    "duration": 16,
    "start_time": "2023-07-01T13:11:40.705Z"
   },
   {
    "duration": 36,
    "start_time": "2023-07-01T13:11:40.723Z"
   },
   {
    "duration": 13,
    "start_time": "2023-07-01T13:11:40.762Z"
   },
   {
    "duration": 15,
    "start_time": "2023-07-01T13:11:40.777Z"
   },
   {
    "duration": 6,
    "start_time": "2023-07-01T13:11:40.794Z"
   },
   {
    "duration": 55,
    "start_time": "2023-07-01T13:11:40.801Z"
   },
   {
    "duration": 23,
    "start_time": "2023-07-01T13:11:40.858Z"
   },
   {
    "duration": 18,
    "start_time": "2023-07-01T13:11:40.883Z"
   },
   {
    "duration": 5,
    "start_time": "2023-07-01T13:11:40.903Z"
   },
   {
    "duration": 46,
    "start_time": "2023-07-01T13:11:40.910Z"
   },
   {
    "duration": 172,
    "start_time": "2023-07-01T13:11:40.958Z"
   },
   {
    "duration": 152,
    "start_time": "2023-07-01T13:11:41.133Z"
   },
   {
    "duration": 366,
    "start_time": "2023-07-01T13:11:41.286Z"
   },
   {
    "duration": 362,
    "start_time": "2023-07-01T13:11:41.654Z"
   },
   {
    "duration": 390,
    "start_time": "2023-07-01T13:11:42.017Z"
   },
   {
    "duration": 14,
    "start_time": "2023-07-01T13:11:42.409Z"
   },
   {
    "duration": 33,
    "start_time": "2023-07-01T13:11:42.425Z"
   },
   {
    "duration": 23,
    "start_time": "2023-07-01T13:11:42.463Z"
   },
   {
    "duration": 287,
    "start_time": "2023-07-01T13:11:42.488Z"
   },
   {
    "duration": 25,
    "start_time": "2023-07-01T13:11:42.777Z"
   },
   {
    "duration": 23,
    "start_time": "2023-07-01T13:11:42.803Z"
   },
   {
    "duration": 361,
    "start_time": "2023-07-01T13:11:42.828Z"
   },
   {
    "duration": 369,
    "start_time": "2023-07-01T13:11:43.192Z"
   },
   {
    "duration": 23,
    "start_time": "2023-07-01T13:11:43.563Z"
   },
   {
    "duration": 34,
    "start_time": "2023-07-01T13:11:43.588Z"
   },
   {
    "duration": 40,
    "start_time": "2023-07-01T13:11:43.624Z"
   },
   {
    "duration": 152,
    "start_time": "2023-07-01T13:11:43.666Z"
   },
   {
    "duration": 159,
    "start_time": "2023-07-01T13:11:43.820Z"
   },
   {
    "duration": 452,
    "start_time": "2023-07-01T13:11:43.982Z"
   },
   {
    "duration": 407,
    "start_time": "2023-07-01T13:11:44.436Z"
   },
   {
    "duration": 28,
    "start_time": "2023-07-01T13:11:44.845Z"
   },
   {
    "duration": 5,
    "start_time": "2023-07-01T13:11:44.875Z"
   },
   {
    "duration": 27,
    "start_time": "2023-07-01T13:11:44.882Z"
   },
   {
    "duration": 363,
    "start_time": "2023-07-01T13:11:44.911Z"
   },
   {
    "duration": 16,
    "start_time": "2023-07-01T13:11:45.277Z"
   },
   {
    "duration": 23,
    "start_time": "2023-07-01T13:11:45.295Z"
   },
   {
    "duration": 66,
    "start_time": "2023-07-01T13:11:45.321Z"
   },
   {
    "duration": 36,
    "start_time": "2023-07-01T13:11:45.389Z"
   },
   {
    "duration": 427,
    "start_time": "2023-07-01T13:11:45.427Z"
   },
   {
    "duration": 19,
    "start_time": "2023-07-01T13:11:45.856Z"
   },
   {
    "duration": 84,
    "start_time": "2023-07-01T13:11:45.878Z"
   },
   {
    "duration": 4,
    "start_time": "2023-07-01T13:11:45.964Z"
   },
   {
    "duration": 236,
    "start_time": "2023-07-01T13:11:45.970Z"
   },
   {
    "duration": 11,
    "start_time": "2023-07-01T13:11:46.208Z"
   },
   {
    "duration": 16,
    "start_time": "2023-07-01T13:11:46.221Z"
   },
   {
    "duration": 19,
    "start_time": "2023-07-01T13:11:46.239Z"
   },
   {
    "duration": 16,
    "start_time": "2023-07-01T13:11:46.261Z"
   },
   {
    "duration": 5,
    "start_time": "2023-07-01T13:11:46.279Z"
   },
   {
    "duration": 303,
    "start_time": "2023-07-01T13:11:46.286Z"
   },
   {
    "duration": 411,
    "start_time": "2023-07-01T13:11:46.591Z"
   },
   {
    "duration": 3,
    "start_time": "2023-07-01T13:11:47.004Z"
   },
   {
    "duration": 77,
    "start_time": "2023-07-01T13:12:03.359Z"
   },
   {
    "duration": 243,
    "start_time": "2023-07-01T13:12:14.096Z"
   },
   {
    "duration": 158,
    "start_time": "2023-07-01T13:12:18.956Z"
   },
   {
    "duration": 147,
    "start_time": "2023-07-01T13:12:36.085Z"
   },
   {
    "duration": 129,
    "start_time": "2023-07-01T13:12:41.016Z"
   },
   {
    "duration": 236,
    "start_time": "2023-07-01T13:12:47.174Z"
   },
   {
    "duration": 1292,
    "start_time": "2023-07-01T13:13:11.627Z"
   },
   {
    "duration": 68,
    "start_time": "2023-07-01T13:13:12.921Z"
   },
   {
    "duration": 12,
    "start_time": "2023-07-01T13:13:12.991Z"
   },
   {
    "duration": 22,
    "start_time": "2023-07-01T13:13:13.006Z"
   },
   {
    "duration": 15,
    "start_time": "2023-07-01T13:13:13.031Z"
   },
   {
    "duration": 13,
    "start_time": "2023-07-01T13:13:13.048Z"
   },
   {
    "duration": 22,
    "start_time": "2023-07-01T13:13:13.063Z"
   },
   {
    "duration": 16,
    "start_time": "2023-07-01T13:13:13.087Z"
   },
   {
    "duration": 18,
    "start_time": "2023-07-01T13:13:13.105Z"
   },
   {
    "duration": 9,
    "start_time": "2023-07-01T13:13:13.127Z"
   },
   {
    "duration": 29,
    "start_time": "2023-07-01T13:13:13.138Z"
   },
   {
    "duration": 8,
    "start_time": "2023-07-01T13:13:13.169Z"
   },
   {
    "duration": 23,
    "start_time": "2023-07-01T13:13:13.178Z"
   },
   {
    "duration": 20,
    "start_time": "2023-07-01T13:13:13.202Z"
   },
   {
    "duration": 29,
    "start_time": "2023-07-01T13:13:13.224Z"
   },
   {
    "duration": 22,
    "start_time": "2023-07-01T13:13:13.255Z"
   },
   {
    "duration": 30,
    "start_time": "2023-07-01T13:13:13.279Z"
   },
   {
    "duration": 53,
    "start_time": "2023-07-01T13:13:13.311Z"
   },
   {
    "duration": 16,
    "start_time": "2023-07-01T13:13:13.366Z"
   },
   {
    "duration": 36,
    "start_time": "2023-07-01T13:13:13.384Z"
   },
   {
    "duration": 182,
    "start_time": "2023-07-01T13:13:13.422Z"
   },
   {
    "duration": 146,
    "start_time": "2023-07-01T13:13:13.606Z"
   },
   {
    "duration": 343,
    "start_time": "2023-07-01T13:13:13.754Z"
   },
   {
    "duration": 366,
    "start_time": "2023-07-01T13:13:14.098Z"
   },
   {
    "duration": 381,
    "start_time": "2023-07-01T13:13:14.466Z"
   },
   {
    "duration": 12,
    "start_time": "2023-07-01T13:13:14.852Z"
   },
   {
    "duration": 11,
    "start_time": "2023-07-01T13:13:14.866Z"
   },
   {
    "duration": 23,
    "start_time": "2023-07-01T13:13:14.881Z"
   },
   {
    "duration": 307,
    "start_time": "2023-07-01T13:13:14.906Z"
   },
   {
    "duration": 25,
    "start_time": "2023-07-01T13:13:15.215Z"
   },
   {
    "duration": 25,
    "start_time": "2023-07-01T13:13:15.253Z"
   },
   {
    "duration": 385,
    "start_time": "2023-07-01T13:13:15.280Z"
   },
   {
    "duration": 361,
    "start_time": "2023-07-01T13:13:15.667Z"
   },
   {
    "duration": 31,
    "start_time": "2023-07-01T13:13:16.029Z"
   },
   {
    "duration": 25,
    "start_time": "2023-07-01T13:13:16.062Z"
   },
   {
    "duration": 20,
    "start_time": "2023-07-01T13:13:16.089Z"
   },
   {
    "duration": 173,
    "start_time": "2023-07-01T13:13:16.111Z"
   },
   {
    "duration": 160,
    "start_time": "2023-07-01T13:13:16.286Z"
   },
   {
    "duration": 367,
    "start_time": "2023-07-01T13:13:16.448Z"
   },
   {
    "duration": 379,
    "start_time": "2023-07-01T13:13:16.817Z"
   },
   {
    "duration": 24,
    "start_time": "2023-07-01T13:13:17.198Z"
   },
   {
    "duration": 5,
    "start_time": "2023-07-01T13:13:17.224Z"
   },
   {
    "duration": 23,
    "start_time": "2023-07-01T13:13:17.253Z"
   },
   {
    "duration": 322,
    "start_time": "2023-07-01T13:13:17.278Z"
   },
   {
    "duration": 11,
    "start_time": "2023-07-01T13:13:17.602Z"
   },
   {
    "duration": 16,
    "start_time": "2023-07-01T13:13:17.615Z"
   },
   {
    "duration": 17,
    "start_time": "2023-07-01T13:13:17.653Z"
   },
   {
    "duration": 21,
    "start_time": "2023-07-01T13:13:17.673Z"
   },
   {
    "duration": 381,
    "start_time": "2023-07-01T13:13:17.696Z"
   },
   {
    "duration": 15,
    "start_time": "2023-07-01T13:13:18.079Z"
   },
   {
    "duration": 93,
    "start_time": "2023-07-01T13:13:18.095Z"
   },
   {
    "duration": 4,
    "start_time": "2023-07-01T13:13:18.190Z"
   },
   {
    "duration": 269,
    "start_time": "2023-07-01T13:13:18.197Z"
   },
   {
    "duration": 13,
    "start_time": "2023-07-01T13:13:18.468Z"
   },
   {
    "duration": 25,
    "start_time": "2023-07-01T13:13:18.484Z"
   },
   {
    "duration": 24,
    "start_time": "2023-07-01T13:13:18.511Z"
   },
   {
    "duration": 25,
    "start_time": "2023-07-01T13:13:18.538Z"
   },
   {
    "duration": 5,
    "start_time": "2023-07-01T13:13:18.566Z"
   },
   {
    "duration": 302,
    "start_time": "2023-07-01T13:13:18.573Z"
   },
   {
    "duration": 340,
    "start_time": "2023-07-01T13:13:18.877Z"
   },
   {
    "duration": 4,
    "start_time": "2023-07-01T13:13:19.219Z"
   },
   {
    "duration": 1295,
    "start_time": "2023-07-01T13:14:14.222Z"
   },
   {
    "duration": 70,
    "start_time": "2023-07-01T13:14:15.519Z"
   },
   {
    "duration": 32,
    "start_time": "2023-07-01T13:14:15.590Z"
   },
   {
    "duration": 72,
    "start_time": "2023-07-01T13:14:15.625Z"
   },
   {
    "duration": 12,
    "start_time": "2023-07-01T13:14:15.699Z"
   },
   {
    "duration": 11,
    "start_time": "2023-07-01T13:14:15.713Z"
   },
   {
    "duration": 17,
    "start_time": "2023-07-01T13:14:15.727Z"
   },
   {
    "duration": 33,
    "start_time": "2023-07-01T13:14:15.745Z"
   },
   {
    "duration": 18,
    "start_time": "2023-07-01T13:14:15.780Z"
   },
   {
    "duration": 13,
    "start_time": "2023-07-01T13:14:15.801Z"
   },
   {
    "duration": 21,
    "start_time": "2023-07-01T13:14:15.816Z"
   },
   {
    "duration": 11,
    "start_time": "2023-07-01T13:14:15.839Z"
   },
   {
    "duration": 15,
    "start_time": "2023-07-01T13:14:15.852Z"
   },
   {
    "duration": 15,
    "start_time": "2023-07-01T13:14:15.869Z"
   },
   {
    "duration": 9,
    "start_time": "2023-07-01T13:14:15.886Z"
   },
   {
    "duration": 22,
    "start_time": "2023-07-01T13:14:15.896Z"
   },
   {
    "duration": 55,
    "start_time": "2023-07-01T13:14:15.920Z"
   },
   {
    "duration": 19,
    "start_time": "2023-07-01T13:14:15.977Z"
   },
   {
    "duration": 5,
    "start_time": "2023-07-01T13:14:15.998Z"
   },
   {
    "duration": 48,
    "start_time": "2023-07-01T13:14:16.005Z"
   },
   {
    "duration": 187,
    "start_time": "2023-07-01T13:14:16.056Z"
   },
   {
    "duration": 150,
    "start_time": "2023-07-01T13:14:16.245Z"
   },
   {
    "duration": 365,
    "start_time": "2023-07-01T13:14:16.398Z"
   },
   {
    "duration": 375,
    "start_time": "2023-07-01T13:14:16.766Z"
   },
   {
    "duration": 392,
    "start_time": "2023-07-01T13:14:17.143Z"
   },
   {
    "duration": 23,
    "start_time": "2023-07-01T13:14:17.537Z"
   },
   {
    "duration": 13,
    "start_time": "2023-07-01T13:14:17.563Z"
   },
   {
    "duration": 26,
    "start_time": "2023-07-01T13:14:17.581Z"
   },
   {
    "duration": 291,
    "start_time": "2023-07-01T13:14:17.609Z"
   },
   {
    "duration": 30,
    "start_time": "2023-07-01T13:14:17.902Z"
   },
   {
    "duration": 45,
    "start_time": "2023-07-01T13:14:17.934Z"
   },
   {
    "duration": 351,
    "start_time": "2023-07-01T13:14:17.981Z"
   },
   {
    "duration": 505,
    "start_time": "2023-07-01T13:14:18.334Z"
   },
   {
    "duration": 35,
    "start_time": "2023-07-01T13:14:18.841Z"
   },
   {
    "duration": 23,
    "start_time": "2023-07-01T13:14:18.879Z"
   },
   {
    "duration": 49,
    "start_time": "2023-07-01T13:14:18.904Z"
   },
   {
    "duration": 183,
    "start_time": "2023-07-01T13:14:18.956Z"
   },
   {
    "duration": 210,
    "start_time": "2023-07-01T13:14:19.142Z"
   },
   {
    "duration": 430,
    "start_time": "2023-07-01T13:14:19.357Z"
   },
   {
    "duration": 438,
    "start_time": "2023-07-01T13:14:19.791Z"
   },
   {
    "duration": 48,
    "start_time": "2023-07-01T13:14:20.232Z"
   },
   {
    "duration": 7,
    "start_time": "2023-07-01T13:14:20.282Z"
   },
   {
    "duration": 35,
    "start_time": "2023-07-01T13:14:20.291Z"
   },
   {
    "duration": 328,
    "start_time": "2023-07-01T13:14:20.328Z"
   },
   {
    "duration": 15,
    "start_time": "2023-07-01T13:14:20.658Z"
   },
   {
    "duration": 16,
    "start_time": "2023-07-01T13:14:20.674Z"
   },
   {
    "duration": 16,
    "start_time": "2023-07-01T13:14:20.692Z"
   },
   {
    "duration": 65,
    "start_time": "2023-07-01T13:14:20.710Z"
   },
   {
    "duration": 382,
    "start_time": "2023-07-01T13:14:20.777Z"
   },
   {
    "duration": 16,
    "start_time": "2023-07-01T13:14:21.161Z"
   },
   {
    "duration": 92,
    "start_time": "2023-07-01T13:14:21.179Z"
   },
   {
    "duration": 4,
    "start_time": "2023-07-01T13:14:21.273Z"
   },
   {
    "duration": 277,
    "start_time": "2023-07-01T13:14:21.279Z"
   },
   {
    "duration": 11,
    "start_time": "2023-07-01T13:14:21.558Z"
   },
   {
    "duration": 40,
    "start_time": "2023-07-01T13:14:21.571Z"
   },
   {
    "duration": 13,
    "start_time": "2023-07-01T13:14:21.614Z"
   },
   {
    "duration": 23,
    "start_time": "2023-07-01T13:14:21.629Z"
   },
   {
    "duration": 3,
    "start_time": "2023-07-01T13:14:21.655Z"
   },
   {
    "duration": 319,
    "start_time": "2023-07-01T13:14:21.660Z"
   },
   {
    "duration": 320,
    "start_time": "2023-07-01T13:14:21.981Z"
   },
   {
    "duration": 3,
    "start_time": "2023-07-01T13:14:22.303Z"
   },
   {
    "duration": 6,
    "start_time": "2023-07-01T13:22:39.422Z"
   },
   {
    "duration": 10,
    "start_time": "2023-07-01T13:36:25.920Z"
   },
   {
    "duration": 10,
    "start_time": "2023-07-01T13:36:33.771Z"
   },
   {
    "duration": 11,
    "start_time": "2023-07-01T13:37:16.135Z"
   },
   {
    "duration": 10,
    "start_time": "2023-07-01T13:37:29.118Z"
   },
   {
    "duration": 200,
    "start_time": "2023-07-01T13:49:14.926Z"
   },
   {
    "duration": 21,
    "start_time": "2023-07-01T13:50:59.553Z"
   },
   {
    "duration": 3,
    "start_time": "2023-07-01T13:51:03.409Z"
   },
   {
    "duration": 528,
    "start_time": "2023-07-01T13:51:04.374Z"
   },
   {
    "duration": 338,
    "start_time": "2023-07-01T13:52:16.170Z"
   },
   {
    "duration": 346,
    "start_time": "2023-07-01T13:53:24.785Z"
   },
   {
    "duration": 27,
    "start_time": "2023-07-01T14:07:56.738Z"
   },
   {
    "duration": 15,
    "start_time": "2023-07-01T14:09:09.009Z"
   },
   {
    "duration": 1396,
    "start_time": "2023-07-01T14:09:23.839Z"
   },
   {
    "duration": 111,
    "start_time": "2023-07-01T14:09:25.238Z"
   },
   {
    "duration": 26,
    "start_time": "2023-07-01T14:09:25.353Z"
   },
   {
    "duration": 31,
    "start_time": "2023-07-01T14:09:25.382Z"
   },
   {
    "duration": 23,
    "start_time": "2023-07-01T14:09:25.416Z"
   },
   {
    "duration": 49,
    "start_time": "2023-07-01T14:09:25.442Z"
   },
   {
    "duration": 27,
    "start_time": "2023-07-01T14:09:25.493Z"
   },
   {
    "duration": 15,
    "start_time": "2023-07-01T14:09:25.523Z"
   },
   {
    "duration": 21,
    "start_time": "2023-07-01T14:09:25.541Z"
   },
   {
    "duration": 36,
    "start_time": "2023-07-01T14:09:25.572Z"
   },
   {
    "duration": 20,
    "start_time": "2023-07-01T14:09:25.611Z"
   },
   {
    "duration": 12,
    "start_time": "2023-07-01T14:09:25.633Z"
   },
   {
    "duration": 30,
    "start_time": "2023-07-01T14:09:25.647Z"
   },
   {
    "duration": 52,
    "start_time": "2023-07-01T14:09:25.679Z"
   },
   {
    "duration": 44,
    "start_time": "2023-07-01T14:09:25.733Z"
   },
   {
    "duration": 23,
    "start_time": "2023-07-01T14:09:25.779Z"
   },
   {
    "duration": 33,
    "start_time": "2023-07-01T14:09:25.804Z"
   },
   {
    "duration": 38,
    "start_time": "2023-07-01T14:09:25.839Z"
   },
   {
    "duration": 13,
    "start_time": "2023-07-01T14:09:25.880Z"
   },
   {
    "duration": 29,
    "start_time": "2023-07-01T14:09:25.895Z"
   },
   {
    "duration": 207,
    "start_time": "2023-07-01T14:09:25.927Z"
   },
   {
    "duration": 164,
    "start_time": "2023-07-01T14:09:26.136Z"
   },
   {
    "duration": 406,
    "start_time": "2023-07-01T14:09:26.302Z"
   },
   {
    "duration": 417,
    "start_time": "2023-07-01T14:09:26.711Z"
   },
   {
    "duration": 670,
    "start_time": "2023-07-01T14:09:27.131Z"
   },
   {
    "duration": 16,
    "start_time": "2023-07-01T14:09:27.853Z"
   },
   {
    "duration": 38,
    "start_time": "2023-07-01T14:09:27.871Z"
   },
   {
    "duration": 29,
    "start_time": "2023-07-01T14:09:27.952Z"
   },
   {
    "duration": 694,
    "start_time": "2023-07-01T14:09:27.983Z"
   },
   {
    "duration": 95,
    "start_time": "2023-07-01T14:09:28.681Z"
   },
   {
    "duration": 75,
    "start_time": "2023-07-01T14:09:28.782Z"
   },
   {
    "duration": 813,
    "start_time": "2023-07-01T14:09:28.859Z"
   },
   {
    "duration": 675,
    "start_time": "2023-07-01T14:09:29.674Z"
   },
   {
    "duration": 35,
    "start_time": "2023-07-01T14:09:30.352Z"
   },
   {
    "duration": 53,
    "start_time": "2023-07-01T14:09:30.389Z"
   },
   {
    "duration": 75,
    "start_time": "2023-07-01T14:09:30.444Z"
   },
   {
    "duration": 223,
    "start_time": "2023-07-01T14:09:30.522Z"
   },
   {
    "duration": 165,
    "start_time": "2023-07-01T14:09:30.754Z"
   },
   {
    "duration": 408,
    "start_time": "2023-07-01T14:09:30.921Z"
   },
   {
    "duration": 439,
    "start_time": "2023-07-01T14:09:31.332Z"
   },
   {
    "duration": 27,
    "start_time": "2023-07-01T14:09:31.773Z"
   },
   {
    "duration": 5,
    "start_time": "2023-07-01T14:09:31.802Z"
   },
   {
    "duration": 20,
    "start_time": "2023-07-01T14:09:31.810Z"
   },
   {
    "duration": 332,
    "start_time": "2023-07-01T14:09:31.832Z"
   },
   {
    "duration": 14,
    "start_time": "2023-07-01T14:09:32.170Z"
   },
   {
    "duration": 25,
    "start_time": "2023-07-01T14:09:32.186Z"
   },
   {
    "duration": 26,
    "start_time": "2023-07-01T14:09:32.214Z"
   },
   {
    "duration": 37,
    "start_time": "2023-07-01T14:09:32.242Z"
   },
   {
    "duration": 456,
    "start_time": "2023-07-01T14:09:32.281Z"
   },
   {
    "duration": 27,
    "start_time": "2023-07-01T14:09:32.738Z"
   },
   {
    "duration": 105,
    "start_time": "2023-07-01T14:09:32.769Z"
   },
   {
    "duration": 5,
    "start_time": "2023-07-01T14:09:32.875Z"
   },
   {
    "duration": 264,
    "start_time": "2023-07-01T14:09:32.882Z"
   },
   {
    "duration": 16,
    "start_time": "2023-07-01T14:09:33.151Z"
   },
   {
    "duration": 29,
    "start_time": "2023-07-01T14:09:33.169Z"
   },
   {
    "duration": 171,
    "start_time": "2023-07-01T14:09:33.200Z"
   },
   {
    "duration": 0,
    "start_time": "2023-07-01T14:09:33.373Z"
   },
   {
    "duration": 0,
    "start_time": "2023-07-01T14:09:33.374Z"
   },
   {
    "duration": 0,
    "start_time": "2023-07-01T14:09:33.374Z"
   },
   {
    "duration": 0,
    "start_time": "2023-07-01T14:09:33.375Z"
   },
   {
    "duration": 25,
    "start_time": "2023-07-01T14:10:11.835Z"
   },
   {
    "duration": 20,
    "start_time": "2023-07-01T15:14:52.280Z"
   },
   {
    "duration": 21,
    "start_time": "2023-07-01T15:14:57.832Z"
   },
   {
    "duration": 23,
    "start_time": "2023-07-01T15:18:41.924Z"
   },
   {
    "duration": 22,
    "start_time": "2023-07-01T15:18:47.889Z"
   },
   {
    "duration": 6,
    "start_time": "2023-07-01T15:19:27.205Z"
   },
   {
    "duration": 9,
    "start_time": "2023-07-01T15:20:19.158Z"
   },
   {
    "duration": 22,
    "start_time": "2023-07-01T15:21:23.182Z"
   },
   {
    "duration": 15,
    "start_time": "2023-07-01T15:21:29.639Z"
   },
   {
    "duration": 17,
    "start_time": "2023-07-01T15:21:44.245Z"
   },
   {
    "duration": 8,
    "start_time": "2023-07-01T15:21:50.980Z"
   },
   {
    "duration": 10,
    "start_time": "2023-07-01T15:22:04.530Z"
   },
   {
    "duration": 11,
    "start_time": "2023-07-01T15:22:07.292Z"
   },
   {
    "duration": 99,
    "start_time": "2023-07-01T15:23:00.886Z"
   },
   {
    "duration": 121,
    "start_time": "2023-07-01T15:23:40.395Z"
   },
   {
    "duration": 7,
    "start_time": "2023-07-01T15:24:13.420Z"
   },
   {
    "duration": 14,
    "start_time": "2023-07-01T15:24:25.544Z"
   },
   {
    "duration": 188,
    "start_time": "2023-07-01T15:25:28.392Z"
   },
   {
    "duration": 102,
    "start_time": "2023-07-01T15:26:10.344Z"
   },
   {
    "duration": 17,
    "start_time": "2023-07-01T15:26:30.185Z"
   },
   {
    "duration": 19,
    "start_time": "2023-07-01T15:26:40.909Z"
   },
   {
    "duration": 18,
    "start_time": "2023-07-01T15:27:05.345Z"
   },
   {
    "duration": 11,
    "start_time": "2023-07-01T15:29:13.624Z"
   },
   {
    "duration": 68,
    "start_time": "2023-07-01T15:41:37.386Z"
   },
   {
    "duration": 4,
    "start_time": "2023-07-01T15:44:17.547Z"
   },
   {
    "duration": 283,
    "start_time": "2023-07-01T15:44:28.897Z"
   },
   {
    "duration": 154,
    "start_time": "2023-07-01T15:46:40.472Z"
   },
   {
    "duration": 288,
    "start_time": "2023-07-01T15:47:03.253Z"
   },
   {
    "duration": 317,
    "start_time": "2023-07-01T15:52:54.346Z"
   },
   {
    "duration": 31,
    "start_time": "2023-07-01T16:20:25.498Z"
   },
   {
    "duration": 35,
    "start_time": "2023-07-01T16:20:36.550Z"
   },
   {
    "duration": 30,
    "start_time": "2023-07-01T16:20:50.144Z"
   },
   {
    "duration": 37,
    "start_time": "2023-07-01T16:20:57.315Z"
   },
   {
    "duration": 25,
    "start_time": "2023-07-01T16:21:01.467Z"
   },
   {
    "duration": 28,
    "start_time": "2023-07-01T16:21:14.758Z"
   },
   {
    "duration": 207,
    "start_time": "2023-07-01T16:21:18.424Z"
   },
   {
    "duration": 212,
    "start_time": "2023-07-01T16:21:45.738Z"
   },
   {
    "duration": 158,
    "start_time": "2023-07-01T16:21:51.485Z"
   },
   {
    "duration": 175,
    "start_time": "2023-07-01T16:21:57.924Z"
   },
   {
    "duration": 152,
    "start_time": "2023-07-01T16:22:01.481Z"
   },
   {
    "duration": 188,
    "start_time": "2023-07-01T16:22:06.495Z"
   },
   {
    "duration": 174,
    "start_time": "2023-07-01T16:22:17.595Z"
   },
   {
    "duration": 239,
    "start_time": "2023-07-01T16:22:25.399Z"
   },
   {
    "duration": 12,
    "start_time": "2023-07-01T16:22:54.968Z"
   },
   {
    "duration": 7,
    "start_time": "2023-07-01T16:23:02.088Z"
   },
   {
    "duration": 7,
    "start_time": "2023-07-01T16:23:06.662Z"
   },
   {
    "duration": 5,
    "start_time": "2023-07-01T16:23:13.191Z"
   },
   {
    "duration": 5,
    "start_time": "2023-07-01T16:23:16.868Z"
   },
   {
    "duration": 6,
    "start_time": "2023-07-01T16:25:43.175Z"
   },
   {
    "duration": 6,
    "start_time": "2023-07-01T16:26:05.372Z"
   },
   {
    "duration": 6,
    "start_time": "2023-07-01T16:26:10.398Z"
   },
   {
    "duration": 5,
    "start_time": "2023-07-01T16:26:16.568Z"
   },
   {
    "duration": 6,
    "start_time": "2023-07-01T16:26:20.793Z"
   },
   {
    "duration": 7,
    "start_time": "2023-07-01T16:26:23.633Z"
   },
   {
    "duration": 7,
    "start_time": "2023-07-01T16:26:34.881Z"
   },
   {
    "duration": 7,
    "start_time": "2023-07-01T16:26:39.308Z"
   },
   {
    "duration": 6,
    "start_time": "2023-07-01T16:26:54.730Z"
   },
   {
    "duration": 7,
    "start_time": "2023-07-01T16:27:02.493Z"
   },
   {
    "duration": 7,
    "start_time": "2023-07-01T16:27:08.796Z"
   },
   {
    "duration": 7,
    "start_time": "2023-07-01T16:27:12.497Z"
   },
   {
    "duration": 11,
    "start_time": "2023-07-01T16:27:15.952Z"
   },
   {
    "duration": 6,
    "start_time": "2023-07-01T16:27:56.667Z"
   },
   {
    "duration": 5,
    "start_time": "2023-07-01T16:41:23.479Z"
   },
   {
    "duration": 6,
    "start_time": "2023-07-01T16:41:27.692Z"
   },
   {
    "duration": 20,
    "start_time": "2023-07-01T16:42:05.583Z"
   },
   {
    "duration": 6,
    "start_time": "2023-07-01T16:42:12.376Z"
   },
   {
    "duration": 1349,
    "start_time": "2023-07-01T16:42:46.872Z"
   },
   {
    "duration": 82,
    "start_time": "2023-07-01T16:42:48.224Z"
   },
   {
    "duration": 17,
    "start_time": "2023-07-01T16:42:48.308Z"
   },
   {
    "duration": 36,
    "start_time": "2023-07-01T16:42:48.327Z"
   },
   {
    "duration": 49,
    "start_time": "2023-07-01T16:42:48.366Z"
   },
   {
    "duration": 45,
    "start_time": "2023-07-01T16:42:48.417Z"
   },
   {
    "duration": 44,
    "start_time": "2023-07-01T16:42:48.465Z"
   },
   {
    "duration": 38,
    "start_time": "2023-07-01T16:42:48.511Z"
   },
   {
    "duration": 76,
    "start_time": "2023-07-01T16:42:48.551Z"
   },
   {
    "duration": 23,
    "start_time": "2023-07-01T16:42:48.629Z"
   },
   {
    "duration": 54,
    "start_time": "2023-07-01T16:42:48.654Z"
   },
   {
    "duration": 24,
    "start_time": "2023-07-01T16:42:48.710Z"
   },
   {
    "duration": 48,
    "start_time": "2023-07-01T16:42:48.737Z"
   },
   {
    "duration": 37,
    "start_time": "2023-07-01T16:42:48.792Z"
   },
   {
    "duration": 8,
    "start_time": "2023-07-01T16:42:48.831Z"
   },
   {
    "duration": 66,
    "start_time": "2023-07-01T16:42:48.842Z"
   },
   {
    "duration": 33,
    "start_time": "2023-07-01T16:42:48.910Z"
   },
   {
    "duration": 25,
    "start_time": "2023-07-01T16:42:48.945Z"
   },
   {
    "duration": 25,
    "start_time": "2023-07-01T16:42:48.974Z"
   },
   {
    "duration": 20,
    "start_time": "2023-07-01T16:42:49.001Z"
   },
   {
    "duration": 188,
    "start_time": "2023-07-01T16:42:49.023Z"
   },
   {
    "duration": 183,
    "start_time": "2023-07-01T16:42:49.213Z"
   },
   {
    "duration": 382,
    "start_time": "2023-07-01T16:42:49.398Z"
   },
   {
    "duration": 417,
    "start_time": "2023-07-01T16:42:49.782Z"
   },
   {
    "duration": 469,
    "start_time": "2023-07-01T16:42:50.201Z"
   },
   {
    "duration": 15,
    "start_time": "2023-07-01T16:42:50.673Z"
   },
   {
    "duration": 19,
    "start_time": "2023-07-01T16:42:50.690Z"
   },
   {
    "duration": 47,
    "start_time": "2023-07-01T16:42:50.711Z"
   },
   {
    "duration": 324,
    "start_time": "2023-07-01T16:42:50.760Z"
   },
   {
    "duration": 26,
    "start_time": "2023-07-01T16:42:51.086Z"
   },
   {
    "duration": 49,
    "start_time": "2023-07-01T16:42:51.114Z"
   },
   {
    "duration": 379,
    "start_time": "2023-07-01T16:42:51.168Z"
   },
   {
    "duration": 414,
    "start_time": "2023-07-01T16:42:51.554Z"
   },
   {
    "duration": 26,
    "start_time": "2023-07-01T16:42:51.975Z"
   },
   {
    "duration": 35,
    "start_time": "2023-07-01T16:42:52.003Z"
   },
   {
    "duration": 37,
    "start_time": "2023-07-01T16:42:52.040Z"
   },
   {
    "duration": 231,
    "start_time": "2023-07-01T16:42:52.083Z"
   },
   {
    "duration": 227,
    "start_time": "2023-07-01T16:42:52.317Z"
   },
   {
    "duration": 410,
    "start_time": "2023-07-01T16:42:52.552Z"
   },
   {
    "duration": 400,
    "start_time": "2023-07-01T16:42:52.964Z"
   },
   {
    "duration": 23,
    "start_time": "2023-07-01T16:42:53.371Z"
   },
   {
    "duration": 19,
    "start_time": "2023-07-01T16:42:53.396Z"
   },
   {
    "duration": 24,
    "start_time": "2023-07-01T16:42:53.416Z"
   },
   {
    "duration": 306,
    "start_time": "2023-07-01T16:42:53.442Z"
   },
   {
    "duration": 22,
    "start_time": "2023-07-01T16:42:53.752Z"
   },
   {
    "duration": 18,
    "start_time": "2023-07-01T16:42:53.776Z"
   },
   {
    "duration": 16,
    "start_time": "2023-07-01T16:42:53.795Z"
   },
   {
    "duration": 62,
    "start_time": "2023-07-01T16:42:53.813Z"
   },
   {
    "duration": 397,
    "start_time": "2023-07-01T16:42:53.877Z"
   },
   {
    "duration": 14,
    "start_time": "2023-07-01T16:42:54.276Z"
   },
   {
    "duration": 95,
    "start_time": "2023-07-01T16:42:54.292Z"
   },
   {
    "duration": 4,
    "start_time": "2023-07-01T16:42:54.390Z"
   },
   {
    "duration": 275,
    "start_time": "2023-07-01T16:42:54.396Z"
   },
   {
    "duration": 12,
    "start_time": "2023-07-01T16:42:54.673Z"
   },
   {
    "duration": 12,
    "start_time": "2023-07-01T16:42:54.687Z"
   },
   {
    "duration": 22,
    "start_time": "2023-07-01T16:42:54.701Z"
   },
   {
    "duration": 29,
    "start_time": "2023-07-01T16:42:54.724Z"
   },
   {
    "duration": 209,
    "start_time": "2023-07-01T16:42:54.762Z"
   },
   {
    "duration": 404,
    "start_time": "2023-07-01T16:42:54.974Z"
   },
   {
    "duration": 11,
    "start_time": "2023-07-01T16:42:55.380Z"
   },
   {
    "duration": 128383,
    "start_time": "2023-07-01T16:42:55.393Z"
   },
   {
    "duration": 6,
    "start_time": "2023-07-01T17:19:44.943Z"
   },
   {
    "duration": 8,
    "start_time": "2023-07-01T17:19:59.804Z"
   },
   {
    "duration": 8,
    "start_time": "2023-07-01T17:20:10.190Z"
   },
   {
    "duration": 8,
    "start_time": "2023-07-01T17:20:16.864Z"
   },
   {
    "duration": 7,
    "start_time": "2023-07-01T17:20:26.779Z"
   },
   {
    "duration": 9,
    "start_time": "2023-07-01T17:20:48.749Z"
   },
   {
    "duration": 6,
    "start_time": "2023-07-01T17:20:55.162Z"
   },
   {
    "duration": 10,
    "start_time": "2023-07-01T17:21:02.330Z"
   },
   {
    "duration": 13,
    "start_time": "2023-07-01T17:21:09.030Z"
   },
   {
    "duration": 9,
    "start_time": "2023-07-01T17:21:15.372Z"
   },
   {
    "duration": 11,
    "start_time": "2023-07-01T17:21:45.408Z"
   },
   {
    "duration": 6,
    "start_time": "2023-07-01T17:21:51.950Z"
   },
   {
    "duration": 7,
    "start_time": "2023-07-01T17:21:59.060Z"
   },
   {
    "duration": 286,
    "start_time": "2023-07-01T17:22:49.913Z"
   },
   {
    "duration": 286,
    "start_time": "2023-07-01T17:22:55.068Z"
   },
   {
    "duration": 274,
    "start_time": "2023-07-01T17:23:20.873Z"
   },
   {
    "duration": 409,
    "start_time": "2023-07-01T17:23:39.299Z"
   },
   {
    "duration": 278,
    "start_time": "2023-07-01T17:23:47.639Z"
   },
   {
    "duration": 335,
    "start_time": "2023-07-01T17:24:15.186Z"
   },
   {
    "duration": 78,
    "start_time": "2023-07-01T17:25:08.505Z"
   },
   {
    "duration": 349,
    "start_time": "2023-07-01T17:25:20.336Z"
   },
   {
    "duration": 8,
    "start_time": "2023-07-01T17:29:21.576Z"
   },
   {
    "duration": 6,
    "start_time": "2023-07-01T17:29:33.411Z"
   },
   {
    "duration": 7,
    "start_time": "2023-07-01T17:29:41.696Z"
   },
   {
    "duration": 8,
    "start_time": "2023-07-01T17:29:53.574Z"
   },
   {
    "duration": 86,
    "start_time": "2023-07-01T17:59:04.118Z"
   },
   {
    "duration": 1646,
    "start_time": "2023-07-01T18:03:11.430Z"
   },
   {
    "duration": 68,
    "start_time": "2023-07-01T18:03:13.079Z"
   },
   {
    "duration": 26,
    "start_time": "2023-07-01T18:03:13.149Z"
   },
   {
    "duration": 19,
    "start_time": "2023-07-01T18:03:13.178Z"
   },
   {
    "duration": 17,
    "start_time": "2023-07-01T18:03:13.200Z"
   },
   {
    "duration": 15,
    "start_time": "2023-07-01T18:03:13.219Z"
   },
   {
    "duration": 16,
    "start_time": "2023-07-01T18:03:13.236Z"
   },
   {
    "duration": 46,
    "start_time": "2023-07-01T18:03:13.254Z"
   },
   {
    "duration": 14,
    "start_time": "2023-07-01T18:03:13.302Z"
   },
   {
    "duration": 13,
    "start_time": "2023-07-01T18:03:13.320Z"
   },
   {
    "duration": 25,
    "start_time": "2023-07-01T18:03:13.335Z"
   },
   {
    "duration": 39,
    "start_time": "2023-07-01T18:03:13.362Z"
   },
   {
    "duration": 13,
    "start_time": "2023-07-01T18:03:13.403Z"
   },
   {
    "duration": 38,
    "start_time": "2023-07-01T18:03:13.432Z"
   },
   {
    "duration": 26,
    "start_time": "2023-07-01T18:03:13.471Z"
   },
   {
    "duration": 17,
    "start_time": "2023-07-01T18:03:13.499Z"
   },
   {
    "duration": 25,
    "start_time": "2023-07-01T18:03:13.518Z"
   },
   {
    "duration": 21,
    "start_time": "2023-07-01T18:03:13.545Z"
   },
   {
    "duration": 19,
    "start_time": "2023-07-01T18:03:13.568Z"
   },
   {
    "duration": 16,
    "start_time": "2023-07-01T18:03:13.589Z"
   },
   {
    "duration": 193,
    "start_time": "2023-07-01T18:03:13.607Z"
   },
   {
    "duration": 169,
    "start_time": "2023-07-01T18:03:13.805Z"
   },
   {
    "duration": 500,
    "start_time": "2023-07-01T18:03:13.976Z"
   },
   {
    "duration": 392,
    "start_time": "2023-07-01T18:03:14.479Z"
   },
   {
    "duration": 530,
    "start_time": "2023-07-01T18:03:14.873Z"
   },
   {
    "duration": 13,
    "start_time": "2023-07-01T18:03:15.406Z"
   },
   {
    "duration": 45,
    "start_time": "2023-07-01T18:03:15.420Z"
   },
   {
    "duration": 22,
    "start_time": "2023-07-01T18:03:15.473Z"
   },
   {
    "duration": 280,
    "start_time": "2023-07-01T18:03:15.496Z"
   },
   {
    "duration": 25,
    "start_time": "2023-07-01T18:03:15.778Z"
   },
   {
    "duration": 28,
    "start_time": "2023-07-01T18:03:15.806Z"
   },
   {
    "duration": 362,
    "start_time": "2023-07-01T18:03:15.836Z"
   },
   {
    "duration": 500,
    "start_time": "2023-07-01T18:03:16.200Z"
   },
   {
    "duration": 21,
    "start_time": "2023-07-01T18:03:16.702Z"
   },
   {
    "duration": 38,
    "start_time": "2023-07-01T18:03:16.725Z"
   },
   {
    "duration": 25,
    "start_time": "2023-07-01T18:03:16.771Z"
   },
   {
    "duration": 168,
    "start_time": "2023-07-01T18:03:16.798Z"
   },
   {
    "duration": 189,
    "start_time": "2023-07-01T18:03:16.972Z"
   },
   {
    "duration": 461,
    "start_time": "2023-07-01T18:03:17.170Z"
   },
   {
    "duration": 397,
    "start_time": "2023-07-01T18:03:17.633Z"
   },
   {
    "duration": 29,
    "start_time": "2023-07-01T18:03:18.032Z"
   },
   {
    "duration": 13,
    "start_time": "2023-07-01T18:03:18.064Z"
   },
   {
    "duration": 27,
    "start_time": "2023-07-01T18:03:18.079Z"
   },
   {
    "duration": 497,
    "start_time": "2023-07-01T18:03:18.109Z"
   },
   {
    "duration": 14,
    "start_time": "2023-07-01T18:03:18.608Z"
   },
   {
    "duration": 32,
    "start_time": "2023-07-01T18:03:18.624Z"
   },
   {
    "duration": 28,
    "start_time": "2023-07-01T18:03:18.661Z"
   },
   {
    "duration": 37,
    "start_time": "2023-07-01T18:03:18.692Z"
   },
   {
    "duration": 529,
    "start_time": "2023-07-01T18:03:18.732Z"
   },
   {
    "duration": 16,
    "start_time": "2023-07-01T18:03:19.263Z"
   },
   {
    "duration": 114,
    "start_time": "2023-07-01T18:03:19.281Z"
   },
   {
    "duration": 4,
    "start_time": "2023-07-01T18:03:19.397Z"
   },
   {
    "duration": 239,
    "start_time": "2023-07-01T18:03:19.403Z"
   },
   {
    "duration": 11,
    "start_time": "2023-07-01T18:03:19.644Z"
   },
   {
    "duration": 31,
    "start_time": "2023-07-01T18:03:19.657Z"
   },
   {
    "duration": 18,
    "start_time": "2023-07-01T18:03:19.689Z"
   },
   {
    "duration": 10,
    "start_time": "2023-07-01T18:03:19.709Z"
   },
   {
    "duration": 6,
    "start_time": "2023-07-01T18:03:19.721Z"
   },
   {
    "duration": 313,
    "start_time": "2023-07-01T18:03:19.729Z"
   },
   {
    "duration": 6,
    "start_time": "2023-07-01T18:03:20.043Z"
   },
   {
    "duration": 34,
    "start_time": "2023-07-01T18:04:51.745Z"
   },
   {
    "duration": 1286,
    "start_time": "2023-07-01T18:05:13.579Z"
   },
   {
    "duration": 77,
    "start_time": "2023-07-01T18:05:14.867Z"
   },
   {
    "duration": 19,
    "start_time": "2023-07-01T18:05:14.946Z"
   },
   {
    "duration": 27,
    "start_time": "2023-07-01T18:05:14.967Z"
   },
   {
    "duration": 12,
    "start_time": "2023-07-01T18:05:14.996Z"
   },
   {
    "duration": 51,
    "start_time": "2023-07-01T18:05:15.010Z"
   },
   {
    "duration": 50,
    "start_time": "2023-07-01T18:05:15.063Z"
   },
   {
    "duration": 13,
    "start_time": "2023-07-01T18:05:15.115Z"
   },
   {
    "duration": 13,
    "start_time": "2023-07-01T18:05:15.130Z"
   },
   {
    "duration": 30,
    "start_time": "2023-07-01T18:05:15.146Z"
   },
   {
    "duration": 17,
    "start_time": "2023-07-01T18:05:15.179Z"
   },
   {
    "duration": 8,
    "start_time": "2023-07-01T18:05:15.198Z"
   },
   {
    "duration": 16,
    "start_time": "2023-07-01T18:05:15.208Z"
   },
   {
    "duration": 22,
    "start_time": "2023-07-01T18:05:15.226Z"
   },
   {
    "duration": 13,
    "start_time": "2023-07-01T18:05:15.250Z"
   },
   {
    "duration": 27,
    "start_time": "2023-07-01T18:05:15.264Z"
   },
   {
    "duration": 31,
    "start_time": "2023-07-01T18:05:15.294Z"
   },
   {
    "duration": 37,
    "start_time": "2023-07-01T18:05:15.327Z"
   },
   {
    "duration": 9,
    "start_time": "2023-07-01T18:05:15.366Z"
   },
   {
    "duration": 41,
    "start_time": "2023-07-01T18:05:15.377Z"
   },
   {
    "duration": 176,
    "start_time": "2023-07-01T18:05:15.421Z"
   },
   {
    "duration": 179,
    "start_time": "2023-07-01T18:05:15.599Z"
   },
   {
    "duration": 382,
    "start_time": "2023-07-01T18:05:15.780Z"
   },
   {
    "duration": 366,
    "start_time": "2023-07-01T18:05:16.167Z"
   },
   {
    "duration": 404,
    "start_time": "2023-07-01T18:05:16.536Z"
   },
   {
    "duration": 16,
    "start_time": "2023-07-01T18:05:16.942Z"
   },
   {
    "duration": 16,
    "start_time": "2023-07-01T18:05:16.960Z"
   },
   {
    "duration": 27,
    "start_time": "2023-07-01T18:05:16.982Z"
   },
   {
    "duration": 299,
    "start_time": "2023-07-01T18:05:17.011Z"
   },
   {
    "duration": 25,
    "start_time": "2023-07-01T18:05:17.311Z"
   },
   {
    "duration": 40,
    "start_time": "2023-07-01T18:05:17.338Z"
   },
   {
    "duration": 386,
    "start_time": "2023-07-01T18:05:17.380Z"
   },
   {
    "duration": 425,
    "start_time": "2023-07-01T18:05:17.768Z"
   },
   {
    "duration": 30,
    "start_time": "2023-07-01T18:05:18.195Z"
   },
   {
    "duration": 96,
    "start_time": "2023-07-01T18:05:18.228Z"
   },
   {
    "duration": 89,
    "start_time": "2023-07-01T18:05:18.327Z"
   },
   {
    "duration": 187,
    "start_time": "2023-07-01T18:05:18.418Z"
   },
   {
    "duration": 181,
    "start_time": "2023-07-01T18:05:18.610Z"
   },
   {
    "duration": 436,
    "start_time": "2023-07-01T18:05:18.793Z"
   },
   {
    "duration": 414,
    "start_time": "2023-07-01T18:05:19.231Z"
   },
   {
    "duration": 30,
    "start_time": "2023-07-01T18:05:19.658Z"
   },
   {
    "duration": 5,
    "start_time": "2023-07-01T18:05:19.690Z"
   },
   {
    "duration": 28,
    "start_time": "2023-07-01T18:05:19.697Z"
   },
   {
    "duration": 317,
    "start_time": "2023-07-01T18:05:19.728Z"
   },
   {
    "duration": 20,
    "start_time": "2023-07-01T18:05:20.054Z"
   },
   {
    "duration": 33,
    "start_time": "2023-07-01T18:05:20.077Z"
   },
   {
    "duration": 20,
    "start_time": "2023-07-01T18:05:20.112Z"
   },
   {
    "duration": 36,
    "start_time": "2023-07-01T18:05:20.133Z"
   },
   {
    "duration": 417,
    "start_time": "2023-07-01T18:05:20.174Z"
   },
   {
    "duration": 20,
    "start_time": "2023-07-01T18:05:20.593Z"
   },
   {
    "duration": 94,
    "start_time": "2023-07-01T18:05:20.615Z"
   },
   {
    "duration": 4,
    "start_time": "2023-07-01T18:05:20.711Z"
   },
   {
    "duration": 269,
    "start_time": "2023-07-01T18:05:20.717Z"
   },
   {
    "duration": 10,
    "start_time": "2023-07-01T18:05:20.988Z"
   },
   {
    "duration": 62,
    "start_time": "2023-07-01T18:05:21.000Z"
   },
   {
    "duration": 49,
    "start_time": "2023-07-01T18:05:21.064Z"
   },
   {
    "duration": 7,
    "start_time": "2023-07-01T18:05:21.115Z"
   },
   {
    "duration": 11,
    "start_time": "2023-07-01T18:05:21.124Z"
   },
   {
    "duration": 331,
    "start_time": "2023-07-01T18:05:21.138Z"
   },
   {
    "duration": 6,
    "start_time": "2023-07-01T18:05:21.471Z"
   },
   {
    "duration": 15,
    "start_time": "2023-07-01T18:05:52.123Z"
   },
   {
    "duration": 13,
    "start_time": "2023-07-01T18:06:06.515Z"
   },
   {
    "duration": 10,
    "start_time": "2023-07-01T18:06:20.835Z"
   },
   {
    "duration": 1257,
    "start_time": "2023-07-01T21:14:02.470Z"
   },
   {
    "duration": 106,
    "start_time": "2023-07-01T21:14:03.729Z"
   },
   {
    "duration": 19,
    "start_time": "2023-07-01T21:14:03.841Z"
   },
   {
    "duration": 25,
    "start_time": "2023-07-01T21:14:03.863Z"
   },
   {
    "duration": 24,
    "start_time": "2023-07-01T21:14:03.890Z"
   },
   {
    "duration": 38,
    "start_time": "2023-07-01T21:14:03.922Z"
   },
   {
    "duration": 12,
    "start_time": "2023-07-01T21:14:03.963Z"
   },
   {
    "duration": 13,
    "start_time": "2023-07-01T21:14:03.977Z"
   },
   {
    "duration": 22,
    "start_time": "2023-07-01T21:14:03.991Z"
   },
   {
    "duration": 34,
    "start_time": "2023-07-01T21:14:04.021Z"
   },
   {
    "duration": 24,
    "start_time": "2023-07-01T21:14:04.057Z"
   },
   {
    "duration": 9,
    "start_time": "2023-07-01T21:14:04.083Z"
   },
   {
    "duration": 60,
    "start_time": "2023-07-01T21:14:04.094Z"
   },
   {
    "duration": 16,
    "start_time": "2023-07-01T21:14:04.156Z"
   },
   {
    "duration": 6,
    "start_time": "2023-07-01T21:14:04.174Z"
   },
   {
    "duration": 41,
    "start_time": "2023-07-01T21:14:04.181Z"
   },
   {
    "duration": 35,
    "start_time": "2023-07-01T21:14:04.230Z"
   },
   {
    "duration": 22,
    "start_time": "2023-07-01T21:14:04.266Z"
   },
   {
    "duration": 6,
    "start_time": "2023-07-01T21:14:04.290Z"
   },
   {
    "duration": 69,
    "start_time": "2023-07-01T21:14:04.297Z"
   },
   {
    "duration": 180,
    "start_time": "2023-07-01T21:14:04.368Z"
   },
   {
    "duration": 159,
    "start_time": "2023-07-01T21:14:04.550Z"
   },
   {
    "duration": 362,
    "start_time": "2023-07-01T21:14:04.710Z"
   },
   {
    "duration": 398,
    "start_time": "2023-07-01T21:14:05.074Z"
   },
   {
    "duration": 399,
    "start_time": "2023-07-01T21:14:05.474Z"
   },
   {
    "duration": 10,
    "start_time": "2023-07-01T21:14:05.875Z"
   },
   {
    "duration": 27,
    "start_time": "2023-07-01T21:14:05.887Z"
   },
   {
    "duration": 47,
    "start_time": "2023-07-01T21:14:05.923Z"
   },
   {
    "duration": 299,
    "start_time": "2023-07-01T21:14:05.972Z"
   },
   {
    "duration": 43,
    "start_time": "2023-07-01T21:14:06.272Z"
   },
   {
    "duration": 36,
    "start_time": "2023-07-01T21:14:06.316Z"
   },
   {
    "duration": 368,
    "start_time": "2023-07-01T21:14:06.354Z"
   },
   {
    "duration": 367,
    "start_time": "2023-07-01T21:14:06.724Z"
   },
   {
    "duration": 47,
    "start_time": "2023-07-01T21:14:07.092Z"
   },
   {
    "duration": 31,
    "start_time": "2023-07-01T21:14:07.140Z"
   },
   {
    "duration": 45,
    "start_time": "2023-07-01T21:14:07.173Z"
   },
   {
    "duration": 180,
    "start_time": "2023-07-01T21:14:07.220Z"
   },
   {
    "duration": 166,
    "start_time": "2023-07-01T21:14:07.406Z"
   },
   {
    "duration": 394,
    "start_time": "2023-07-01T21:14:07.573Z"
   },
   {
    "duration": 401,
    "start_time": "2023-07-01T21:14:07.969Z"
   },
   {
    "duration": 36,
    "start_time": "2023-07-01T21:14:08.372Z"
   },
   {
    "duration": 8,
    "start_time": "2023-07-01T21:14:08.410Z"
   },
   {
    "duration": 40,
    "start_time": "2023-07-01T21:14:08.419Z"
   },
   {
    "duration": 292,
    "start_time": "2023-07-01T21:14:08.461Z"
   },
   {
    "duration": 10,
    "start_time": "2023-07-01T21:14:08.755Z"
   },
   {
    "duration": 68,
    "start_time": "2023-07-01T21:14:08.767Z"
   },
   {
    "duration": 25,
    "start_time": "2023-07-01T21:14:08.836Z"
   },
   {
    "duration": 67,
    "start_time": "2023-07-01T21:14:08.862Z"
   },
   {
    "duration": 1078,
    "start_time": "2023-07-01T21:14:08.930Z"
   },
   {
    "duration": 23,
    "start_time": "2023-07-01T21:14:10.010Z"
   },
   {
    "duration": 210,
    "start_time": "2023-07-01T21:14:10.034Z"
   },
   {
    "duration": 3,
    "start_time": "2023-07-01T21:14:10.246Z"
   },
   {
    "duration": 586,
    "start_time": "2023-07-01T21:14:10.250Z"
   },
   {
    "duration": 64,
    "start_time": "2023-07-01T21:14:10.846Z"
   },
   {
    "duration": 45,
    "start_time": "2023-07-01T21:14:10.912Z"
   },
   {
    "duration": 62,
    "start_time": "2023-07-01T21:14:10.959Z"
   },
   {
    "duration": 11,
    "start_time": "2023-07-01T21:14:11.022Z"
   },
   {
    "duration": 17,
    "start_time": "2023-07-01T21:14:11.040Z"
   },
   {
    "duration": 511,
    "start_time": "2023-07-01T21:14:11.059Z"
   },
   {
    "duration": 5,
    "start_time": "2023-07-01T21:14:11.572Z"
   },
   {
    "duration": 51,
    "start_time": "2023-07-02T01:38:51.927Z"
   },
   {
    "duration": 1300,
    "start_time": "2023-07-02T01:39:02.350Z"
   },
   {
    "duration": 200,
    "start_time": "2023-07-02T01:39:03.651Z"
   },
   {
    "duration": 11,
    "start_time": "2023-07-02T01:39:03.852Z"
   },
   {
    "duration": 28,
    "start_time": "2023-07-02T01:39:03.865Z"
   },
   {
    "duration": 26,
    "start_time": "2023-07-02T01:39:03.895Z"
   },
   {
    "duration": 19,
    "start_time": "2023-07-02T01:39:03.923Z"
   },
   {
    "duration": 32,
    "start_time": "2023-07-02T01:39:03.943Z"
   },
   {
    "duration": 13,
    "start_time": "2023-07-02T01:39:03.976Z"
   },
   {
    "duration": 21,
    "start_time": "2023-07-02T01:39:03.991Z"
   },
   {
    "duration": 30,
    "start_time": "2023-07-02T01:39:04.015Z"
   },
   {
    "duration": 17,
    "start_time": "2023-07-02T01:39:04.047Z"
   },
   {
    "duration": 8,
    "start_time": "2023-07-02T01:39:04.066Z"
   },
   {
    "duration": 19,
    "start_time": "2023-07-02T01:39:04.075Z"
   },
   {
    "duration": 13,
    "start_time": "2023-07-02T01:39:04.096Z"
   },
   {
    "duration": 6,
    "start_time": "2023-07-02T01:39:04.110Z"
   },
   {
    "duration": 42,
    "start_time": "2023-07-02T01:39:04.117Z"
   },
   {
    "duration": 22,
    "start_time": "2023-07-02T01:39:04.161Z"
   },
   {
    "duration": 13,
    "start_time": "2023-07-02T01:39:04.184Z"
   },
   {
    "duration": 4,
    "start_time": "2023-07-02T01:39:04.199Z"
   },
   {
    "duration": 46,
    "start_time": "2023-07-02T01:39:04.204Z"
   },
   {
    "duration": 160,
    "start_time": "2023-07-02T01:39:04.252Z"
   },
   {
    "duration": 132,
    "start_time": "2023-07-02T01:39:04.413Z"
   },
   {
    "duration": 325,
    "start_time": "2023-07-02T01:39:04.546Z"
   },
   {
    "duration": 318,
    "start_time": "2023-07-02T01:39:04.874Z"
   },
   {
    "duration": 311,
    "start_time": "2023-07-02T01:39:05.194Z"
   },
   {
    "duration": 10,
    "start_time": "2023-07-02T01:39:05.506Z"
   },
   {
    "duration": 44,
    "start_time": "2023-07-02T01:39:05.517Z"
   },
   {
    "duration": 20,
    "start_time": "2023-07-02T01:39:05.565Z"
   },
   {
    "duration": 236,
    "start_time": "2023-07-02T01:39:05.586Z"
   },
   {
    "duration": 28,
    "start_time": "2023-07-02T01:39:05.823Z"
   },
   {
    "duration": 42,
    "start_time": "2023-07-02T01:39:05.854Z"
   },
   {
    "duration": 305,
    "start_time": "2023-07-02T01:39:05.898Z"
   },
   {
    "duration": 302,
    "start_time": "2023-07-02T01:39:06.205Z"
   },
   {
    "duration": 29,
    "start_time": "2023-07-02T01:39:06.509Z"
   },
   {
    "duration": 24,
    "start_time": "2023-07-02T01:39:06.540Z"
   },
   {
    "duration": 17,
    "start_time": "2023-07-02T01:39:06.565Z"
   },
   {
    "duration": 128,
    "start_time": "2023-07-02T01:39:06.583Z"
   },
   {
    "duration": 136,
    "start_time": "2023-07-02T01:39:06.713Z"
   },
   {
    "duration": 305,
    "start_time": "2023-07-02T01:39:06.851Z"
   },
   {
    "duration": 308,
    "start_time": "2023-07-02T01:39:07.158Z"
   },
   {
    "duration": 17,
    "start_time": "2023-07-02T01:39:07.468Z"
   },
   {
    "duration": 4,
    "start_time": "2023-07-02T01:39:07.487Z"
   },
   {
    "duration": 16,
    "start_time": "2023-07-02T01:39:07.492Z"
   },
   {
    "duration": 271,
    "start_time": "2023-07-02T01:39:07.510Z"
   },
   {
    "duration": 10,
    "start_time": "2023-07-02T01:39:07.783Z"
   },
   {
    "duration": 13,
    "start_time": "2023-07-02T01:39:07.794Z"
   },
   {
    "duration": 34,
    "start_time": "2023-07-02T01:39:07.809Z"
   },
   {
    "duration": 18,
    "start_time": "2023-07-02T01:39:07.847Z"
   },
   {
    "duration": 301,
    "start_time": "2023-07-02T01:39:07.867Z"
   },
   {
    "duration": 11,
    "start_time": "2023-07-02T01:39:08.169Z"
   },
   {
    "duration": 67,
    "start_time": "2023-07-02T01:39:08.181Z"
   },
   {
    "duration": 3,
    "start_time": "2023-07-02T01:39:08.249Z"
   },
   {
    "duration": 193,
    "start_time": "2023-07-02T01:39:08.254Z"
   },
   {
    "duration": 7,
    "start_time": "2023-07-02T01:39:08.448Z"
   },
   {
    "duration": 10,
    "start_time": "2023-07-02T01:39:08.456Z"
   },
   {
    "duration": 11,
    "start_time": "2023-07-02T01:39:08.468Z"
   },
   {
    "duration": 10,
    "start_time": "2023-07-02T01:39:08.480Z"
   },
   {
    "duration": 4,
    "start_time": "2023-07-02T01:39:08.491Z"
   },
   {
    "duration": 259,
    "start_time": "2023-07-02T01:39:08.496Z"
   },
   {
    "duration": 4,
    "start_time": "2023-07-02T01:39:08.757Z"
   },
   {
    "duration": 51,
    "start_time": "2023-07-02T10:42:53.054Z"
   },
   {
    "duration": 6,
    "start_time": "2023-07-02T10:45:22.735Z"
   },
   {
    "duration": 1418,
    "start_time": "2023-07-02T10:45:29.348Z"
   },
   {
    "duration": 210,
    "start_time": "2023-07-02T10:45:30.768Z"
   },
   {
    "duration": 17,
    "start_time": "2023-07-02T10:45:30.981Z"
   },
   {
    "duration": 45,
    "start_time": "2023-07-02T10:45:31.002Z"
   },
   {
    "duration": 35,
    "start_time": "2023-07-02T10:45:31.050Z"
   },
   {
    "duration": 32,
    "start_time": "2023-07-02T10:45:31.087Z"
   },
   {
    "duration": 17,
    "start_time": "2023-07-02T10:45:31.121Z"
   },
   {
    "duration": 48,
    "start_time": "2023-07-02T10:45:31.140Z"
   },
   {
    "duration": 49,
    "start_time": "2023-07-02T10:45:31.191Z"
   },
   {
    "duration": 52,
    "start_time": "2023-07-02T10:45:31.243Z"
   },
   {
    "duration": 41,
    "start_time": "2023-07-02T10:45:31.297Z"
   },
   {
    "duration": 42,
    "start_time": "2023-07-02T10:45:31.340Z"
   },
   {
    "duration": 22,
    "start_time": "2023-07-02T10:45:31.384Z"
   },
   {
    "duration": 27,
    "start_time": "2023-07-02T10:45:31.408Z"
   },
   {
    "duration": 9,
    "start_time": "2023-07-02T10:45:31.437Z"
   },
   {
    "duration": 19,
    "start_time": "2023-07-02T10:45:31.448Z"
   },
   {
    "duration": 47,
    "start_time": "2023-07-02T10:45:31.469Z"
   },
   {
    "duration": 18,
    "start_time": "2023-07-02T10:45:31.518Z"
   },
   {
    "duration": 5,
    "start_time": "2023-07-02T10:45:31.537Z"
   },
   {
    "duration": 27,
    "start_time": "2023-07-02T10:45:31.544Z"
   },
   {
    "duration": 175,
    "start_time": "2023-07-02T10:45:31.572Z"
   },
   {
    "duration": 154,
    "start_time": "2023-07-02T10:45:31.748Z"
   },
   {
    "duration": 328,
    "start_time": "2023-07-02T10:45:31.904Z"
   },
   {
    "duration": 375,
    "start_time": "2023-07-02T10:45:32.234Z"
   },
   {
    "duration": 359,
    "start_time": "2023-07-02T10:45:32.610Z"
   },
   {
    "duration": 11,
    "start_time": "2023-07-02T10:45:32.971Z"
   },
   {
    "duration": 24,
    "start_time": "2023-07-02T10:45:32.983Z"
   },
   {
    "duration": 19,
    "start_time": "2023-07-02T10:45:33.011Z"
   },
   {
    "duration": 403,
    "start_time": "2023-07-02T10:45:33.032Z"
   },
   {
    "duration": 71,
    "start_time": "2023-07-02T10:45:33.437Z"
   },
   {
    "duration": 22,
    "start_time": "2023-07-02T10:45:33.509Z"
   },
   {
    "duration": 682,
    "start_time": "2023-07-02T10:45:33.533Z"
   },
   {
    "duration": 691,
    "start_time": "2023-07-02T10:45:34.216Z"
   },
   {
    "duration": 21,
    "start_time": "2023-07-02T10:45:34.908Z"
   },
   {
    "duration": 73,
    "start_time": "2023-07-02T10:45:34.931Z"
   },
   {
    "duration": 19,
    "start_time": "2023-07-02T10:45:35.006Z"
   },
   {
    "duration": 159,
    "start_time": "2023-07-02T10:45:35.026Z"
   },
   {
    "duration": 147,
    "start_time": "2023-07-02T10:45:35.188Z"
   },
   {
    "duration": 342,
    "start_time": "2023-07-02T10:45:35.337Z"
   },
   {
    "duration": 337,
    "start_time": "2023-07-02T10:45:35.680Z"
   },
   {
    "duration": 25,
    "start_time": "2023-07-02T10:45:36.019Z"
   },
   {
    "duration": 5,
    "start_time": "2023-07-02T10:45:36.047Z"
   },
   {
    "duration": 20,
    "start_time": "2023-07-02T10:45:36.054Z"
   },
   {
    "duration": 268,
    "start_time": "2023-07-02T10:45:36.076Z"
   },
   {
    "duration": 13,
    "start_time": "2023-07-02T10:45:36.346Z"
   },
   {
    "duration": 17,
    "start_time": "2023-07-02T10:45:36.360Z"
   },
   {
    "duration": 15,
    "start_time": "2023-07-02T10:45:36.402Z"
   },
   {
    "duration": 13,
    "start_time": "2023-07-02T10:45:36.419Z"
   },
   {
    "duration": 355,
    "start_time": "2023-07-02T10:45:36.434Z"
   },
   {
    "duration": 16,
    "start_time": "2023-07-02T10:45:36.792Z"
   },
   {
    "duration": 61,
    "start_time": "2023-07-02T10:45:36.810Z"
   },
   {
    "duration": 3,
    "start_time": "2023-07-02T10:45:36.873Z"
   },
   {
    "duration": 226,
    "start_time": "2023-07-02T10:45:36.878Z"
   },
   {
    "duration": 8,
    "start_time": "2023-07-02T10:45:37.106Z"
   },
   {
    "duration": 8,
    "start_time": "2023-07-02T10:45:37.116Z"
   },
   {
    "duration": 144,
    "start_time": "2023-07-02T10:45:37.125Z"
   },
   {
    "duration": 0,
    "start_time": "2023-07-02T10:45:37.271Z"
   },
   {
    "duration": 0,
    "start_time": "2023-07-02T10:45:37.272Z"
   },
   {
    "duration": 0,
    "start_time": "2023-07-02T10:45:37.273Z"
   },
   {
    "duration": 0,
    "start_time": "2023-07-02T10:45:37.274Z"
   },
   {
    "duration": 0,
    "start_time": "2023-07-02T10:45:37.275Z"
   },
   {
    "duration": 5,
    "start_time": "2023-07-02T10:45:43.185Z"
   },
   {
    "duration": 22,
    "start_time": "2023-07-02T10:46:03.195Z"
   },
   {
    "duration": 1486,
    "start_time": "2023-07-02T10:46:34.429Z"
   },
   {
    "duration": 1687,
    "start_time": "2023-07-02T10:46:56.001Z"
   },
   {
    "duration": 1440,
    "start_time": "2023-07-02T10:47:13.843Z"
   },
   {
    "duration": 13,
    "start_time": "2023-07-02T10:47:26.593Z"
   },
   {
    "duration": 14,
    "start_time": "2023-07-02T10:47:30.211Z"
   },
   {
    "duration": 14,
    "start_time": "2023-07-02T10:47:54.908Z"
   },
   {
    "duration": 18,
    "start_time": "2023-07-02T10:48:09.404Z"
   },
   {
    "duration": 6,
    "start_time": "2023-07-02T10:48:39.293Z"
   },
   {
    "duration": 9,
    "start_time": "2023-07-02T10:48:52.009Z"
   },
   {
    "duration": 13,
    "start_time": "2023-07-02T10:49:00.855Z"
   },
   {
    "duration": 5,
    "start_time": "2023-07-02T10:49:04.824Z"
   },
   {
    "duration": 6,
    "start_time": "2023-07-02T10:49:12.505Z"
   },
   {
    "duration": 17,
    "start_time": "2023-07-02T10:50:57.432Z"
   },
   {
    "duration": 12,
    "start_time": "2023-07-02T10:51:23.145Z"
   },
   {
    "duration": 9,
    "start_time": "2023-07-02T10:51:47.902Z"
   },
   {
    "duration": 13,
    "start_time": "2023-07-02T11:03:48.897Z"
   },
   {
    "duration": 6,
    "start_time": "2023-07-02T11:05:36.430Z"
   },
   {
    "duration": 3,
    "start_time": "2023-07-02T11:11:03.332Z"
   },
   {
    "duration": 1392,
    "start_time": "2023-07-02T22:51:34.910Z"
   },
   {
    "duration": 203,
    "start_time": "2023-07-02T22:51:36.305Z"
   },
   {
    "duration": 13,
    "start_time": "2023-07-02T22:51:36.510Z"
   },
   {
    "duration": 20,
    "start_time": "2023-07-02T22:51:36.525Z"
   },
   {
    "duration": 13,
    "start_time": "2023-07-02T22:51:36.546Z"
   },
   {
    "duration": 12,
    "start_time": "2023-07-02T22:51:36.561Z"
   },
   {
    "duration": 10,
    "start_time": "2023-07-02T22:51:36.574Z"
   },
   {
    "duration": 11,
    "start_time": "2023-07-02T22:51:36.586Z"
   },
   {
    "duration": 15,
    "start_time": "2023-07-02T22:51:36.599Z"
   },
   {
    "duration": 6,
    "start_time": "2023-07-02T22:51:36.617Z"
   },
   {
    "duration": 36,
    "start_time": "2023-07-02T22:51:36.624Z"
   },
   {
    "duration": 8,
    "start_time": "2023-07-02T22:51:36.661Z"
   },
   {
    "duration": 12,
    "start_time": "2023-07-02T22:51:36.671Z"
   },
   {
    "duration": 13,
    "start_time": "2023-07-02T22:51:36.685Z"
   },
   {
    "duration": 22,
    "start_time": "2023-07-02T22:51:36.700Z"
   },
   {
    "duration": 30,
    "start_time": "2023-07-02T22:51:36.724Z"
   },
   {
    "duration": 22,
    "start_time": "2023-07-02T22:51:36.756Z"
   },
   {
    "duration": 17,
    "start_time": "2023-07-02T22:51:36.779Z"
   },
   {
    "duration": 5,
    "start_time": "2023-07-02T22:51:36.797Z"
   },
   {
    "duration": 15,
    "start_time": "2023-07-02T22:51:36.803Z"
   },
   {
    "duration": 194,
    "start_time": "2023-07-02T22:51:36.820Z"
   },
   {
    "duration": 151,
    "start_time": "2023-07-02T22:51:37.015Z"
   },
   {
    "duration": 341,
    "start_time": "2023-07-02T22:51:37.167Z"
   },
   {
    "duration": 346,
    "start_time": "2023-07-02T22:51:37.510Z"
   },
   {
    "duration": 376,
    "start_time": "2023-07-02T22:51:37.858Z"
   },
   {
    "duration": 21,
    "start_time": "2023-07-02T22:51:38.236Z"
   },
   {
    "duration": 12,
    "start_time": "2023-07-02T22:51:38.259Z"
   },
   {
    "duration": 34,
    "start_time": "2023-07-02T22:51:38.276Z"
   },
   {
    "duration": 290,
    "start_time": "2023-07-02T22:51:38.313Z"
   },
   {
    "duration": 23,
    "start_time": "2023-07-02T22:51:38.605Z"
   },
   {
    "duration": 36,
    "start_time": "2023-07-02T22:51:38.630Z"
   },
   {
    "duration": 328,
    "start_time": "2023-07-02T22:51:38.667Z"
   },
   {
    "duration": 359,
    "start_time": "2023-07-02T22:51:38.997Z"
   },
   {
    "duration": 21,
    "start_time": "2023-07-02T22:51:39.359Z"
   },
   {
    "duration": 27,
    "start_time": "2023-07-02T22:51:39.383Z"
   },
   {
    "duration": 42,
    "start_time": "2023-07-02T22:51:39.411Z"
   },
   {
    "duration": 147,
    "start_time": "2023-07-02T22:51:39.455Z"
   },
   {
    "duration": 156,
    "start_time": "2023-07-02T22:51:39.604Z"
   },
   {
    "duration": 345,
    "start_time": "2023-07-02T22:51:39.762Z"
   },
   {
    "duration": 374,
    "start_time": "2023-07-02T22:51:40.109Z"
   },
   {
    "duration": 25,
    "start_time": "2023-07-02T22:51:40.485Z"
   },
   {
    "duration": 11,
    "start_time": "2023-07-02T22:51:40.513Z"
   },
   {
    "duration": 37,
    "start_time": "2023-07-02T22:51:40.526Z"
   },
   {
    "duration": 299,
    "start_time": "2023-07-02T22:51:40.565Z"
   },
   {
    "duration": 11,
    "start_time": "2023-07-02T22:51:40.866Z"
   },
   {
    "duration": 16,
    "start_time": "2023-07-02T22:51:40.879Z"
   },
   {
    "duration": 15,
    "start_time": "2023-07-02T22:51:40.897Z"
   },
   {
    "duration": 39,
    "start_time": "2023-07-02T22:51:40.914Z"
   },
   {
    "duration": 364,
    "start_time": "2023-07-02T22:51:40.955Z"
   },
   {
    "duration": 16,
    "start_time": "2023-07-02T22:51:41.321Z"
   },
   {
    "duration": 61,
    "start_time": "2023-07-02T22:51:41.352Z"
   },
   {
    "duration": 3,
    "start_time": "2023-07-02T22:51:41.415Z"
   },
   {
    "duration": 228,
    "start_time": "2023-07-02T22:51:41.420Z"
   },
   {
    "duration": 9,
    "start_time": "2023-07-02T22:51:41.652Z"
   },
   {
    "duration": 9,
    "start_time": "2023-07-02T22:51:41.662Z"
   },
   {
    "duration": 20,
    "start_time": "2023-07-02T22:51:41.673Z"
   },
   {
    "duration": 4,
    "start_time": "2023-07-02T22:51:41.695Z"
   },
   {
    "duration": 24,
    "start_time": "2023-07-02T22:51:41.701Z"
   },
   {
    "duration": 283,
    "start_time": "2023-07-02T22:51:41.727Z"
   },
   {
    "duration": 5,
    "start_time": "2023-07-02T22:51:42.012Z"
   }
  ],
  "kernelspec": {
   "display_name": "Python 3 (ipykernel)",
   "language": "python",
   "name": "python3"
  },
  "language_info": {
   "codemirror_mode": {
    "name": "ipython",
    "version": 3
   },
   "file_extension": ".py",
   "mimetype": "text/x-python",
   "name": "python",
   "nbconvert_exporter": "python",
   "pygments_lexer": "ipython3",
   "version": "3.9.5"
  },
  "toc": {
   "base_numbering": 1,
   "nav_menu": {},
   "number_sections": true,
   "sideBar": true,
   "skip_h1_title": true,
   "title_cell": "Table of Contents",
   "title_sidebar": "Contents",
   "toc_cell": false,
   "toc_position": {
    "height": "calc(100% - 180px)",
    "left": "10px",
    "top": "150px",
    "width": "552.058838px"
   },
   "toc_section_display": true,
   "toc_window_display": true
  }
 },
 "nbformat": 4,
 "nbformat_minor": 1
}